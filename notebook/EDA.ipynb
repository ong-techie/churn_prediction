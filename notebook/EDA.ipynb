{
 "cells": [
  {
   "cell_type": "code",
   "execution_count": 18,
   "id": "157280f4",
   "metadata": {},
   "outputs": [
    {
     "name": "stdout",
     "output_type": "stream",
     "text": [
      "Overview of the dataset:n\n",
      "Number of rows:  7043\n",
      "nNumber of features: 21\n",
      "nData Features:\n",
      "['customerID', 'gender', 'SeniorCitizen', 'Partner', 'Dependents', 'tenure', 'PhoneService', 'MultipleLines', 'InternetService', 'OnlineSecurity', 'OnlineBackup', 'DeviceProtection', 'TechSupport', 'StreamingTV', 'StreamingMovies', 'Contract', 'PaperlessBilling', 'PaymentMethod', 'MonthlyCharges', 'TotalCharges', 'Churn']\n",
      "nMissing values: 0\n",
      "nUnique values:\n",
      "customerID          7043\n",
      "gender                 2\n",
      "SeniorCitizen          2\n",
      "Partner                2\n",
      "Dependents             2\n",
      "tenure                73\n",
      "PhoneService           2\n",
      "MultipleLines          3\n",
      "InternetService        3\n",
      "OnlineSecurity         3\n",
      "OnlineBackup           3\n",
      "DeviceProtection       3\n",
      "TechSupport            3\n",
      "StreamingTV            3\n",
      "StreamingMovies        3\n",
      "Contract               3\n",
      "PaperlessBilling       2\n",
      "PaymentMethod          4\n",
      "MonthlyCharges      1585\n",
      "TotalCharges        6531\n",
      "Churn                  2\n",
      "dtype: int64\n"
     ]
    }
   ],
   "source": [
    "#Import libraries\n",
    "import numpy as np # linear algebra\n",
    "import pandas as pd # data processing, CSV file I/O (e.g. pd.read_csv)\n",
    "pd.set_option('display.max_columns', None)\n",
    "\n",
    "import plotly.express as px #for visualization\n",
    "import matplotlib.pyplot as plt #for visualization \n",
    "\n",
    "#Read the dataset\n",
    "data_df = pd.read_csv(\"../data/churn.csv\")\n",
    "\n",
    "#Get overview of the data\n",
    "def dataoveriew(df, message):\n",
    "    print(f'{message}:n')\n",
    "    print('Number of rows: ', df.shape[0])\n",
    "    print(\"nNumber of features:\", df.shape[1])\n",
    "    print(\"nData Features:\")\n",
    "    print(df.columns.tolist())\n",
    "    print(\"nMissing values:\", df.isnull().sum().values.sum())\n",
    "    print(\"nUnique values:\")\n",
    "    print(df.nunique())\n",
    "\n",
    "dataoveriew(data_df, 'Overview of the dataset')"
   ]
  },
  {
   "cell_type": "markdown",
   "id": "93c2ea4e",
   "metadata": {},
   "source": [
    "The dataset has 7043 rows and 21 columns. \n",
    "\n",
    "There are 17 categorical features:\n",
    "\n",
    "* CustomerID: Customer ID unique for each customer\n",
    "* gender: Whether the customer is a male or a female\n",
    "* SeniorCitizen: Whether the customer is a senior citizen or not (1, 0)\n",
    "* Partner: Whether the customer has a partner or not (Yes, No)\n",
    "* Dependent: Whether the customer has dependents or not (Yes, No)\n",
    "* PhoneService: Whether the customer has a phone service or not (Yes, No)\n",
    "* MultipeLines: Whether the customer has multiple lines or not (Yes, No, No phone service)\n",
    "* InternetService: Customer’s internet service provider (DSL, Fiber optic, No)\n",
    "* OnlineSecurity: Whether the customer has online security or not (Yes, No, No internet service)\n",
    "* OnlineBackup: Whether the customer has an online backup or not (Yes, No, No internet service)\n",
    "* DeviceProtection: Whether the customer has device protection or not (Yes, No, No internet service)\n",
    "* TechSupport: Whether the customer has tech support or not (Yes, No, No internet service)\n",
    "* StreamingTV: Whether the customer has streaming TV or not (Yes, No, No internet service)\n",
    "* StreamingMovies: Whether the customer has streaming movies or not (Yes, No, No internet service)\n",
    "* Contract: The contract term of the customer (Month-to-month, One year, Two years)\n",
    "* PaperlessBilling: The contract term of the customer (Month-to-month, One year, Two years)\n",
    "* PaymentMethod: The customer’s payment method (Electronic check, Mailed check, Bank transfer (automatic), Credit card (automatic))\n",
    "---\n",
    "* 3 numerical features:\n",
    "* Tenure: Number of months the customer has stayed with the company\n",
    "* MonthlyCharges: The amount charged to the customer monthly\n",
    "* TotalCharges: The total amount charged to the customer\n",
    "---\n",
    "\n",
    "* prediction feature:\n",
    "* Churn: Whether the customer churned or not (Yes or No)\n",
    "---\n",
    "* These features can also be subdivided into:\n",
    "* Demographic customer information: gender , SeniorCitizen , Partner , Dependents\n",
    "* Services that each customer has signed up for: PhoneService , MultipleLines , InternetService , OnlineSecurity , OnlineBackup , DeviceProtection , TechSupport , StreamingTV , StreamingMovies\n",
    "* Customer account information: tenure , Contract , PaperlessBilling , PaymentMethod , MonthlyCharges , TotalCharges"
   ]
  },
  {
   "cell_type": "markdown",
   "id": "42b76251",
   "metadata": {},
   "source": [
    "# Explore Target Variable"
   ]
  },
  {
   "cell_type": "code",
   "execution_count": 19,
   "id": "6f596652",
   "metadata": {},
   "outputs": [
    {
     "data": {
      "application/vnd.plotly.v1+json": {
       "config": {
        "plotlyServerURL": "https://plot.ly"
       },
       "data": [
        {
         "domain": {
          "x": [
           0,
           1
          ],
          "y": [
           0,
           1
          ]
         },
         "hovertemplate": "Category=%{label}<br>Count=%{value}<extra></extra>",
         "labels": [
          "No",
          "Yes"
         ],
         "legendgroup": "",
         "name": "",
         "showlegend": true,
         "type": "pie",
         "values": {
          "bdata": "NhRNBw==",
          "dtype": "i2"
         }
        }
       ],
       "layout": {
        "legend": {
         "tracegroupgap": 0
        },
        "piecolorway": [
         "green",
         "red"
        ],
        "template": {
         "data": {
          "bar": [
           {
            "error_x": {
             "color": "#2a3f5f"
            },
            "error_y": {
             "color": "#2a3f5f"
            },
            "marker": {
             "line": {
              "color": "#E5ECF6",
              "width": 0.5
             },
             "pattern": {
              "fillmode": "overlay",
              "size": 10,
              "solidity": 0.2
             }
            },
            "type": "bar"
           }
          ],
          "barpolar": [
           {
            "marker": {
             "line": {
              "color": "#E5ECF6",
              "width": 0.5
             },
             "pattern": {
              "fillmode": "overlay",
              "size": 10,
              "solidity": 0.2
             }
            },
            "type": "barpolar"
           }
          ],
          "carpet": [
           {
            "aaxis": {
             "endlinecolor": "#2a3f5f",
             "gridcolor": "white",
             "linecolor": "white",
             "minorgridcolor": "white",
             "startlinecolor": "#2a3f5f"
            },
            "baxis": {
             "endlinecolor": "#2a3f5f",
             "gridcolor": "white",
             "linecolor": "white",
             "minorgridcolor": "white",
             "startlinecolor": "#2a3f5f"
            },
            "type": "carpet"
           }
          ],
          "choropleth": [
           {
            "colorbar": {
             "outlinewidth": 0,
             "ticks": ""
            },
            "type": "choropleth"
           }
          ],
          "contour": [
           {
            "colorbar": {
             "outlinewidth": 0,
             "ticks": ""
            },
            "colorscale": [
             [
              0,
              "#0d0887"
             ],
             [
              0.1111111111111111,
              "#46039f"
             ],
             [
              0.2222222222222222,
              "#7201a8"
             ],
             [
              0.3333333333333333,
              "#9c179e"
             ],
             [
              0.4444444444444444,
              "#bd3786"
             ],
             [
              0.5555555555555556,
              "#d8576b"
             ],
             [
              0.6666666666666666,
              "#ed7953"
             ],
             [
              0.7777777777777778,
              "#fb9f3a"
             ],
             [
              0.8888888888888888,
              "#fdca26"
             ],
             [
              1,
              "#f0f921"
             ]
            ],
            "type": "contour"
           }
          ],
          "contourcarpet": [
           {
            "colorbar": {
             "outlinewidth": 0,
             "ticks": ""
            },
            "type": "contourcarpet"
           }
          ],
          "heatmap": [
           {
            "colorbar": {
             "outlinewidth": 0,
             "ticks": ""
            },
            "colorscale": [
             [
              0,
              "#0d0887"
             ],
             [
              0.1111111111111111,
              "#46039f"
             ],
             [
              0.2222222222222222,
              "#7201a8"
             ],
             [
              0.3333333333333333,
              "#9c179e"
             ],
             [
              0.4444444444444444,
              "#bd3786"
             ],
             [
              0.5555555555555556,
              "#d8576b"
             ],
             [
              0.6666666666666666,
              "#ed7953"
             ],
             [
              0.7777777777777778,
              "#fb9f3a"
             ],
             [
              0.8888888888888888,
              "#fdca26"
             ],
             [
              1,
              "#f0f921"
             ]
            ],
            "type": "heatmap"
           }
          ],
          "histogram": [
           {
            "marker": {
             "pattern": {
              "fillmode": "overlay",
              "size": 10,
              "solidity": 0.2
             }
            },
            "type": "histogram"
           }
          ],
          "histogram2d": [
           {
            "colorbar": {
             "outlinewidth": 0,
             "ticks": ""
            },
            "colorscale": [
             [
              0,
              "#0d0887"
             ],
             [
              0.1111111111111111,
              "#46039f"
             ],
             [
              0.2222222222222222,
              "#7201a8"
             ],
             [
              0.3333333333333333,
              "#9c179e"
             ],
             [
              0.4444444444444444,
              "#bd3786"
             ],
             [
              0.5555555555555556,
              "#d8576b"
             ],
             [
              0.6666666666666666,
              "#ed7953"
             ],
             [
              0.7777777777777778,
              "#fb9f3a"
             ],
             [
              0.8888888888888888,
              "#fdca26"
             ],
             [
              1,
              "#f0f921"
             ]
            ],
            "type": "histogram2d"
           }
          ],
          "histogram2dcontour": [
           {
            "colorbar": {
             "outlinewidth": 0,
             "ticks": ""
            },
            "colorscale": [
             [
              0,
              "#0d0887"
             ],
             [
              0.1111111111111111,
              "#46039f"
             ],
             [
              0.2222222222222222,
              "#7201a8"
             ],
             [
              0.3333333333333333,
              "#9c179e"
             ],
             [
              0.4444444444444444,
              "#bd3786"
             ],
             [
              0.5555555555555556,
              "#d8576b"
             ],
             [
              0.6666666666666666,
              "#ed7953"
             ],
             [
              0.7777777777777778,
              "#fb9f3a"
             ],
             [
              0.8888888888888888,
              "#fdca26"
             ],
             [
              1,
              "#f0f921"
             ]
            ],
            "type": "histogram2dcontour"
           }
          ],
          "mesh3d": [
           {
            "colorbar": {
             "outlinewidth": 0,
             "ticks": ""
            },
            "type": "mesh3d"
           }
          ],
          "parcoords": [
           {
            "line": {
             "colorbar": {
              "outlinewidth": 0,
              "ticks": ""
             }
            },
            "type": "parcoords"
           }
          ],
          "pie": [
           {
            "automargin": true,
            "type": "pie"
           }
          ],
          "scatter": [
           {
            "fillpattern": {
             "fillmode": "overlay",
             "size": 10,
             "solidity": 0.2
            },
            "type": "scatter"
           }
          ],
          "scatter3d": [
           {
            "line": {
             "colorbar": {
              "outlinewidth": 0,
              "ticks": ""
             }
            },
            "marker": {
             "colorbar": {
              "outlinewidth": 0,
              "ticks": ""
             }
            },
            "type": "scatter3d"
           }
          ],
          "scattercarpet": [
           {
            "marker": {
             "colorbar": {
              "outlinewidth": 0,
              "ticks": ""
             }
            },
            "type": "scattercarpet"
           }
          ],
          "scattergeo": [
           {
            "marker": {
             "colorbar": {
              "outlinewidth": 0,
              "ticks": ""
             }
            },
            "type": "scattergeo"
           }
          ],
          "scattergl": [
           {
            "marker": {
             "colorbar": {
              "outlinewidth": 0,
              "ticks": ""
             }
            },
            "type": "scattergl"
           }
          ],
          "scattermap": [
           {
            "marker": {
             "colorbar": {
              "outlinewidth": 0,
              "ticks": ""
             }
            },
            "type": "scattermap"
           }
          ],
          "scattermapbox": [
           {
            "marker": {
             "colorbar": {
              "outlinewidth": 0,
              "ticks": ""
             }
            },
            "type": "scattermapbox"
           }
          ],
          "scatterpolar": [
           {
            "marker": {
             "colorbar": {
              "outlinewidth": 0,
              "ticks": ""
             }
            },
            "type": "scatterpolar"
           }
          ],
          "scatterpolargl": [
           {
            "marker": {
             "colorbar": {
              "outlinewidth": 0,
              "ticks": ""
             }
            },
            "type": "scatterpolargl"
           }
          ],
          "scatterternary": [
           {
            "marker": {
             "colorbar": {
              "outlinewidth": 0,
              "ticks": ""
             }
            },
            "type": "scatterternary"
           }
          ],
          "surface": [
           {
            "colorbar": {
             "outlinewidth": 0,
             "ticks": ""
            },
            "colorscale": [
             [
              0,
              "#0d0887"
             ],
             [
              0.1111111111111111,
              "#46039f"
             ],
             [
              0.2222222222222222,
              "#7201a8"
             ],
             [
              0.3333333333333333,
              "#9c179e"
             ],
             [
              0.4444444444444444,
              "#bd3786"
             ],
             [
              0.5555555555555556,
              "#d8576b"
             ],
             [
              0.6666666666666666,
              "#ed7953"
             ],
             [
              0.7777777777777778,
              "#fb9f3a"
             ],
             [
              0.8888888888888888,
              "#fdca26"
             ],
             [
              1,
              "#f0f921"
             ]
            ],
            "type": "surface"
           }
          ],
          "table": [
           {
            "cells": {
             "fill": {
              "color": "#EBF0F8"
             },
             "line": {
              "color": "white"
             }
            },
            "header": {
             "fill": {
              "color": "#C8D4E3"
             },
             "line": {
              "color": "white"
             }
            },
            "type": "table"
           }
          ]
         },
         "layout": {
          "annotationdefaults": {
           "arrowcolor": "#2a3f5f",
           "arrowhead": 0,
           "arrowwidth": 1
          },
          "autotypenumbers": "strict",
          "coloraxis": {
           "colorbar": {
            "outlinewidth": 0,
            "ticks": ""
           }
          },
          "colorscale": {
           "diverging": [
            [
             0,
             "#8e0152"
            ],
            [
             0.1,
             "#c51b7d"
            ],
            [
             0.2,
             "#de77ae"
            ],
            [
             0.3,
             "#f1b6da"
            ],
            [
             0.4,
             "#fde0ef"
            ],
            [
             0.5,
             "#f7f7f7"
            ],
            [
             0.6,
             "#e6f5d0"
            ],
            [
             0.7,
             "#b8e186"
            ],
            [
             0.8,
             "#7fbc41"
            ],
            [
             0.9,
             "#4d9221"
            ],
            [
             1,
             "#276419"
            ]
           ],
           "sequential": [
            [
             0,
             "#0d0887"
            ],
            [
             0.1111111111111111,
             "#46039f"
            ],
            [
             0.2222222222222222,
             "#7201a8"
            ],
            [
             0.3333333333333333,
             "#9c179e"
            ],
            [
             0.4444444444444444,
             "#bd3786"
            ],
            [
             0.5555555555555556,
             "#d8576b"
            ],
            [
             0.6666666666666666,
             "#ed7953"
            ],
            [
             0.7777777777777778,
             "#fb9f3a"
            ],
            [
             0.8888888888888888,
             "#fdca26"
            ],
            [
             1,
             "#f0f921"
            ]
           ],
           "sequentialminus": [
            [
             0,
             "#0d0887"
            ],
            [
             0.1111111111111111,
             "#46039f"
            ],
            [
             0.2222222222222222,
             "#7201a8"
            ],
            [
             0.3333333333333333,
             "#9c179e"
            ],
            [
             0.4444444444444444,
             "#bd3786"
            ],
            [
             0.5555555555555556,
             "#d8576b"
            ],
            [
             0.6666666666666666,
             "#ed7953"
            ],
            [
             0.7777777777777778,
             "#fb9f3a"
            ],
            [
             0.8888888888888888,
             "#fdca26"
            ],
            [
             1,
             "#f0f921"
            ]
           ]
          },
          "colorway": [
           "#636efa",
           "#EF553B",
           "#00cc96",
           "#ab63fa",
           "#FFA15A",
           "#19d3f3",
           "#FF6692",
           "#B6E880",
           "#FF97FF",
           "#FECB52"
          ],
          "font": {
           "color": "#2a3f5f"
          },
          "geo": {
           "bgcolor": "white",
           "lakecolor": "white",
           "landcolor": "#E5ECF6",
           "showlakes": true,
           "showland": true,
           "subunitcolor": "white"
          },
          "hoverlabel": {
           "align": "left"
          },
          "hovermode": "closest",
          "mapbox": {
           "style": "light"
          },
          "paper_bgcolor": "white",
          "plot_bgcolor": "#E5ECF6",
          "polar": {
           "angularaxis": {
            "gridcolor": "white",
            "linecolor": "white",
            "ticks": ""
           },
           "bgcolor": "#E5ECF6",
           "radialaxis": {
            "gridcolor": "white",
            "linecolor": "white",
            "ticks": ""
           }
          },
          "scene": {
           "xaxis": {
            "backgroundcolor": "#E5ECF6",
            "gridcolor": "white",
            "gridwidth": 2,
            "linecolor": "white",
            "showbackground": true,
            "ticks": "",
            "zerolinecolor": "white"
           },
           "yaxis": {
            "backgroundcolor": "#E5ECF6",
            "gridcolor": "white",
            "gridwidth": 2,
            "linecolor": "white",
            "showbackground": true,
            "ticks": "",
            "zerolinecolor": "white"
           },
           "zaxis": {
            "backgroundcolor": "#E5ECF6",
            "gridcolor": "white",
            "gridwidth": 2,
            "linecolor": "white",
            "showbackground": true,
            "ticks": "",
            "zerolinecolor": "white"
           }
          },
          "shapedefaults": {
           "line": {
            "color": "#2a3f5f"
           }
          },
          "ternary": {
           "aaxis": {
            "gridcolor": "white",
            "linecolor": "white",
            "ticks": ""
           },
           "baxis": {
            "gridcolor": "white",
            "linecolor": "white",
            "ticks": ""
           },
           "bgcolor": "#E5ECF6",
           "caxis": {
            "gridcolor": "white",
            "linecolor": "white",
            "ticks": ""
           }
          },
          "title": {
           "x": 0.05
          },
          "xaxis": {
           "automargin": true,
           "gridcolor": "white",
           "linecolor": "white",
           "ticks": "",
           "title": {
            "standoff": 15
           },
           "zerolinecolor": "white",
           "zerolinewidth": 2
          },
          "yaxis": {
           "automargin": true,
           "gridcolor": "white",
           "linecolor": "white",
           "ticks": "",
           "title": {
            "standoff": 15
           },
           "zerolinecolor": "white",
           "zerolinewidth": 2
          }
         }
        },
        "title": {
         "text": "Distribution of Churn"
        }
       }
      }
     },
     "metadata": {},
     "output_type": "display_data"
    }
   ],
   "source": [
    "#Visualize the distribution of the target variable\n",
    "target_instance = data_df[\"Churn\"].value_counts().reset_index()\n",
    "target_instance.columns = ['Category', 'Count']  # Set unique column names\n",
    "fig = px.pie(target_instance, values='Count', names='Category', color_discrete_sequence=[\"green\", \"red\"], title='Distribution of Churn')\n",
    "fig.show()\n"
   ]
  },
  {
   "cell_type": "markdown",
   "id": "5f0f3929",
   "metadata": {},
   "source": [
    "We are trying to predict users that left the company in the previous month. It is a binary classification problem with an unbalance target.\n",
    "\n",
    "* Churn: No - 73.5%\n",
    "* Churn: Yes - 26.5%\n",
    "\n",
    "# Explore Categorical features"
   ]
  },
  {
   "cell_type": "code",
   "execution_count": 20,
   "id": "0e644e9c",
   "metadata": {},
   "outputs": [],
   "source": [
    "def bar(feature, df=data_df ):\n",
    "    #Groupby the categorical feature\n",
    "    temp_df = df.groupby([feature, 'Churn']).size().reset_index()\n",
    "    temp_df = temp_df.rename(columns={0:'Count'})\n",
    "    #Calculate the value counts of each distribution and it's corresponding Percentages\n",
    "    value_counts_df = df[feature].value_counts().to_frame().reset_index()\n",
    "    categories = [cat[1][0] for cat in value_counts_df.iterrows()]\n",
    "    #Calculate the value counts of each distribution and it's corresponding Percentages\n",
    "    num_list = [num[1][1] for num in value_counts_df.iterrows()]\n",
    "    div_list = [element / sum(num_list) for element in num_list]\n",
    "    percentage = [round(element * 100,1) for element in div_list]\n",
    "    #Defining string formatting for graph annotation\n",
    "    #Numeric section\n",
    "    def num_format(list_instance):\n",
    "        formatted_str = ''\n",
    "        for index,num in enumerate(list_instance):\n",
    "            if index < len(list_instance)-2:\n",
    "                formatted_str=formatted_str+f'{num}%, ' #append to empty string(formatted_str)\n",
    "            elif index == len(list_instance)-2:\n",
    "                formatted_str=formatted_str+f'{num}% & '\n",
    "            else:\n",
    "                formatted_str=formatted_str+f'{num}%'\n",
    "        return formatted_str\n",
    "    #Categorical section\n",
    "    def str_format(list_instance):\n",
    "        formatted_str = ''\n",
    "        for index, cat in enumerate(list_instance):\n",
    "            if index < len(list_instance)-2:\n",
    "                formatted_str=formatted_str+f'{cat}, '\n",
    "            elif index == len(list_instance)-2:\n",
    "                formatted_str=formatted_str+f'{cat} & '\n",
    "            else:\n",
    "                formatted_str=formatted_str+f'{cat}'\n",
    "        return formatted_str\n",
    "    #Running the formatting functions\n",
    "    num_str = num_format(percentage)\n",
    "    cat_str = str_format(categories)\n",
    "\n",
    "    #Setting graph framework\n",
    "    fig = px.bar(temp_df, x=feature, y='Count', color='Churn', title=f'Churn rate by {feature}', barmode=\"group\", color_discrete_sequence=[\"green\", \"red\"])\n",
    "    fig.add_annotation(\n",
    "                text=f'Value count of distribution of {cat_str} are<br>{num_str} percentage respectively.',\n",
    "                align='left',\n",
    "                showarrow=False,\n",
    "                xref='paper',\n",
    "                yref='paper',\n",
    "                x=1.4,\n",
    "                y=1.3,\n",
    "                bordercolor='black',\n",
    "                borderwidth=1)\n",
    "    fig.update_layout(\n",
    "        # margin space for the annotations on the right\n",
    "        margin=dict(r=400),\n",
    "    )\n",
    "\n",
    "    return fig.show()"
   ]
  },
  {
   "cell_type": "code",
   "execution_count": 21,
   "id": "0c5226f9",
   "metadata": {},
   "outputs": [
    {
     "name": "stderr",
     "output_type": "stream",
     "text": [
      "C:\\Users\\Asus\\AppData\\Local\\Temp\\ipykernel_19164\\1367734987.py:7: FutureWarning:\n",
      "\n",
      "Series.__getitem__ treating keys as positions is deprecated. In a future version, integer keys will always be treated as labels (consistent with DataFrame behavior). To access a value by position, use `ser.iloc[pos]`\n",
      "\n",
      "C:\\Users\\Asus\\AppData\\Local\\Temp\\ipykernel_19164\\1367734987.py:9: FutureWarning:\n",
      "\n",
      "Series.__getitem__ treating keys as positions is deprecated. In a future version, integer keys will always be treated as labels (consistent with DataFrame behavior). To access a value by position, use `ser.iloc[pos]`\n",
      "\n"
     ]
    },
    {
     "data": {
      "application/vnd.plotly.v1+json": {
       "config": {
        "plotlyServerURL": "https://plot.ly"
       },
       "data": [
        {
         "alignmentgroup": "True",
         "hovertemplate": "Churn=No<br>gender=%{x}<br>Count=%{y}<extra></extra>",
         "legendgroup": "No",
         "marker": {
          "color": "green",
          "pattern": {
           "shape": ""
          }
         },
         "name": "No",
         "offsetgroup": "No",
         "orientation": "v",
         "showlegend": true,
         "textposition": "auto",
         "type": "bar",
         "x": [
          "Female",
          "Male"
         ],
         "xaxis": "x",
         "y": {
          "bdata": "9QlBCg==",
          "dtype": "i2"
         },
         "yaxis": "y"
        },
        {
         "alignmentgroup": "True",
         "hovertemplate": "Churn=Yes<br>gender=%{x}<br>Count=%{y}<extra></extra>",
         "legendgroup": "Yes",
         "marker": {
          "color": "red",
          "pattern": {
           "shape": ""
          }
         },
         "name": "Yes",
         "offsetgroup": "Yes",
         "orientation": "v",
         "showlegend": true,
         "textposition": "auto",
         "type": "bar",
         "x": [
          "Female",
          "Male"
         ],
         "xaxis": "x",
         "y": {
          "bdata": "qwOiAw==",
          "dtype": "i2"
         },
         "yaxis": "y"
        }
       ],
       "layout": {
        "annotations": [
         {
          "align": "left",
          "bordercolor": "black",
          "borderwidth": 1,
          "showarrow": false,
          "text": "Value count of distribution of Male & Female are<br>50.5% & 49.5% percentage respectively.",
          "x": 1.4,
          "xref": "paper",
          "y": 1.3,
          "yref": "paper"
         }
        ],
        "barmode": "group",
        "legend": {
         "title": {
          "text": "Churn"
         },
         "tracegroupgap": 0
        },
        "margin": {
         "r": 400
        },
        "template": {
         "data": {
          "bar": [
           {
            "error_x": {
             "color": "#2a3f5f"
            },
            "error_y": {
             "color": "#2a3f5f"
            },
            "marker": {
             "line": {
              "color": "#E5ECF6",
              "width": 0.5
             },
             "pattern": {
              "fillmode": "overlay",
              "size": 10,
              "solidity": 0.2
             }
            },
            "type": "bar"
           }
          ],
          "barpolar": [
           {
            "marker": {
             "line": {
              "color": "#E5ECF6",
              "width": 0.5
             },
             "pattern": {
              "fillmode": "overlay",
              "size": 10,
              "solidity": 0.2
             }
            },
            "type": "barpolar"
           }
          ],
          "carpet": [
           {
            "aaxis": {
             "endlinecolor": "#2a3f5f",
             "gridcolor": "white",
             "linecolor": "white",
             "minorgridcolor": "white",
             "startlinecolor": "#2a3f5f"
            },
            "baxis": {
             "endlinecolor": "#2a3f5f",
             "gridcolor": "white",
             "linecolor": "white",
             "minorgridcolor": "white",
             "startlinecolor": "#2a3f5f"
            },
            "type": "carpet"
           }
          ],
          "choropleth": [
           {
            "colorbar": {
             "outlinewidth": 0,
             "ticks": ""
            },
            "type": "choropleth"
           }
          ],
          "contour": [
           {
            "colorbar": {
             "outlinewidth": 0,
             "ticks": ""
            },
            "colorscale": [
             [
              0,
              "#0d0887"
             ],
             [
              0.1111111111111111,
              "#46039f"
             ],
             [
              0.2222222222222222,
              "#7201a8"
             ],
             [
              0.3333333333333333,
              "#9c179e"
             ],
             [
              0.4444444444444444,
              "#bd3786"
             ],
             [
              0.5555555555555556,
              "#d8576b"
             ],
             [
              0.6666666666666666,
              "#ed7953"
             ],
             [
              0.7777777777777778,
              "#fb9f3a"
             ],
             [
              0.8888888888888888,
              "#fdca26"
             ],
             [
              1,
              "#f0f921"
             ]
            ],
            "type": "contour"
           }
          ],
          "contourcarpet": [
           {
            "colorbar": {
             "outlinewidth": 0,
             "ticks": ""
            },
            "type": "contourcarpet"
           }
          ],
          "heatmap": [
           {
            "colorbar": {
             "outlinewidth": 0,
             "ticks": ""
            },
            "colorscale": [
             [
              0,
              "#0d0887"
             ],
             [
              0.1111111111111111,
              "#46039f"
             ],
             [
              0.2222222222222222,
              "#7201a8"
             ],
             [
              0.3333333333333333,
              "#9c179e"
             ],
             [
              0.4444444444444444,
              "#bd3786"
             ],
             [
              0.5555555555555556,
              "#d8576b"
             ],
             [
              0.6666666666666666,
              "#ed7953"
             ],
             [
              0.7777777777777778,
              "#fb9f3a"
             ],
             [
              0.8888888888888888,
              "#fdca26"
             ],
             [
              1,
              "#f0f921"
             ]
            ],
            "type": "heatmap"
           }
          ],
          "histogram": [
           {
            "marker": {
             "pattern": {
              "fillmode": "overlay",
              "size": 10,
              "solidity": 0.2
             }
            },
            "type": "histogram"
           }
          ],
          "histogram2d": [
           {
            "colorbar": {
             "outlinewidth": 0,
             "ticks": ""
            },
            "colorscale": [
             [
              0,
              "#0d0887"
             ],
             [
              0.1111111111111111,
              "#46039f"
             ],
             [
              0.2222222222222222,
              "#7201a8"
             ],
             [
              0.3333333333333333,
              "#9c179e"
             ],
             [
              0.4444444444444444,
              "#bd3786"
             ],
             [
              0.5555555555555556,
              "#d8576b"
             ],
             [
              0.6666666666666666,
              "#ed7953"
             ],
             [
              0.7777777777777778,
              "#fb9f3a"
             ],
             [
              0.8888888888888888,
              "#fdca26"
             ],
             [
              1,
              "#f0f921"
             ]
            ],
            "type": "histogram2d"
           }
          ],
          "histogram2dcontour": [
           {
            "colorbar": {
             "outlinewidth": 0,
             "ticks": ""
            },
            "colorscale": [
             [
              0,
              "#0d0887"
             ],
             [
              0.1111111111111111,
              "#46039f"
             ],
             [
              0.2222222222222222,
              "#7201a8"
             ],
             [
              0.3333333333333333,
              "#9c179e"
             ],
             [
              0.4444444444444444,
              "#bd3786"
             ],
             [
              0.5555555555555556,
              "#d8576b"
             ],
             [
              0.6666666666666666,
              "#ed7953"
             ],
             [
              0.7777777777777778,
              "#fb9f3a"
             ],
             [
              0.8888888888888888,
              "#fdca26"
             ],
             [
              1,
              "#f0f921"
             ]
            ],
            "type": "histogram2dcontour"
           }
          ],
          "mesh3d": [
           {
            "colorbar": {
             "outlinewidth": 0,
             "ticks": ""
            },
            "type": "mesh3d"
           }
          ],
          "parcoords": [
           {
            "line": {
             "colorbar": {
              "outlinewidth": 0,
              "ticks": ""
             }
            },
            "type": "parcoords"
           }
          ],
          "pie": [
           {
            "automargin": true,
            "type": "pie"
           }
          ],
          "scatter": [
           {
            "fillpattern": {
             "fillmode": "overlay",
             "size": 10,
             "solidity": 0.2
            },
            "type": "scatter"
           }
          ],
          "scatter3d": [
           {
            "line": {
             "colorbar": {
              "outlinewidth": 0,
              "ticks": ""
             }
            },
            "marker": {
             "colorbar": {
              "outlinewidth": 0,
              "ticks": ""
             }
            },
            "type": "scatter3d"
           }
          ],
          "scattercarpet": [
           {
            "marker": {
             "colorbar": {
              "outlinewidth": 0,
              "ticks": ""
             }
            },
            "type": "scattercarpet"
           }
          ],
          "scattergeo": [
           {
            "marker": {
             "colorbar": {
              "outlinewidth": 0,
              "ticks": ""
             }
            },
            "type": "scattergeo"
           }
          ],
          "scattergl": [
           {
            "marker": {
             "colorbar": {
              "outlinewidth": 0,
              "ticks": ""
             }
            },
            "type": "scattergl"
           }
          ],
          "scattermap": [
           {
            "marker": {
             "colorbar": {
              "outlinewidth": 0,
              "ticks": ""
             }
            },
            "type": "scattermap"
           }
          ],
          "scattermapbox": [
           {
            "marker": {
             "colorbar": {
              "outlinewidth": 0,
              "ticks": ""
             }
            },
            "type": "scattermapbox"
           }
          ],
          "scatterpolar": [
           {
            "marker": {
             "colorbar": {
              "outlinewidth": 0,
              "ticks": ""
             }
            },
            "type": "scatterpolar"
           }
          ],
          "scatterpolargl": [
           {
            "marker": {
             "colorbar": {
              "outlinewidth": 0,
              "ticks": ""
             }
            },
            "type": "scatterpolargl"
           }
          ],
          "scatterternary": [
           {
            "marker": {
             "colorbar": {
              "outlinewidth": 0,
              "ticks": ""
             }
            },
            "type": "scatterternary"
           }
          ],
          "surface": [
           {
            "colorbar": {
             "outlinewidth": 0,
             "ticks": ""
            },
            "colorscale": [
             [
              0,
              "#0d0887"
             ],
             [
              0.1111111111111111,
              "#46039f"
             ],
             [
              0.2222222222222222,
              "#7201a8"
             ],
             [
              0.3333333333333333,
              "#9c179e"
             ],
             [
              0.4444444444444444,
              "#bd3786"
             ],
             [
              0.5555555555555556,
              "#d8576b"
             ],
             [
              0.6666666666666666,
              "#ed7953"
             ],
             [
              0.7777777777777778,
              "#fb9f3a"
             ],
             [
              0.8888888888888888,
              "#fdca26"
             ],
             [
              1,
              "#f0f921"
             ]
            ],
            "type": "surface"
           }
          ],
          "table": [
           {
            "cells": {
             "fill": {
              "color": "#EBF0F8"
             },
             "line": {
              "color": "white"
             }
            },
            "header": {
             "fill": {
              "color": "#C8D4E3"
             },
             "line": {
              "color": "white"
             }
            },
            "type": "table"
           }
          ]
         },
         "layout": {
          "annotationdefaults": {
           "arrowcolor": "#2a3f5f",
           "arrowhead": 0,
           "arrowwidth": 1
          },
          "autotypenumbers": "strict",
          "coloraxis": {
           "colorbar": {
            "outlinewidth": 0,
            "ticks": ""
           }
          },
          "colorscale": {
           "diverging": [
            [
             0,
             "#8e0152"
            ],
            [
             0.1,
             "#c51b7d"
            ],
            [
             0.2,
             "#de77ae"
            ],
            [
             0.3,
             "#f1b6da"
            ],
            [
             0.4,
             "#fde0ef"
            ],
            [
             0.5,
             "#f7f7f7"
            ],
            [
             0.6,
             "#e6f5d0"
            ],
            [
             0.7,
             "#b8e186"
            ],
            [
             0.8,
             "#7fbc41"
            ],
            [
             0.9,
             "#4d9221"
            ],
            [
             1,
             "#276419"
            ]
           ],
           "sequential": [
            [
             0,
             "#0d0887"
            ],
            [
             0.1111111111111111,
             "#46039f"
            ],
            [
             0.2222222222222222,
             "#7201a8"
            ],
            [
             0.3333333333333333,
             "#9c179e"
            ],
            [
             0.4444444444444444,
             "#bd3786"
            ],
            [
             0.5555555555555556,
             "#d8576b"
            ],
            [
             0.6666666666666666,
             "#ed7953"
            ],
            [
             0.7777777777777778,
             "#fb9f3a"
            ],
            [
             0.8888888888888888,
             "#fdca26"
            ],
            [
             1,
             "#f0f921"
            ]
           ],
           "sequentialminus": [
            [
             0,
             "#0d0887"
            ],
            [
             0.1111111111111111,
             "#46039f"
            ],
            [
             0.2222222222222222,
             "#7201a8"
            ],
            [
             0.3333333333333333,
             "#9c179e"
            ],
            [
             0.4444444444444444,
             "#bd3786"
            ],
            [
             0.5555555555555556,
             "#d8576b"
            ],
            [
             0.6666666666666666,
             "#ed7953"
            ],
            [
             0.7777777777777778,
             "#fb9f3a"
            ],
            [
             0.8888888888888888,
             "#fdca26"
            ],
            [
             1,
             "#f0f921"
            ]
           ]
          },
          "colorway": [
           "#636efa",
           "#EF553B",
           "#00cc96",
           "#ab63fa",
           "#FFA15A",
           "#19d3f3",
           "#FF6692",
           "#B6E880",
           "#FF97FF",
           "#FECB52"
          ],
          "font": {
           "color": "#2a3f5f"
          },
          "geo": {
           "bgcolor": "white",
           "lakecolor": "white",
           "landcolor": "#E5ECF6",
           "showlakes": true,
           "showland": true,
           "subunitcolor": "white"
          },
          "hoverlabel": {
           "align": "left"
          },
          "hovermode": "closest",
          "mapbox": {
           "style": "light"
          },
          "paper_bgcolor": "white",
          "plot_bgcolor": "#E5ECF6",
          "polar": {
           "angularaxis": {
            "gridcolor": "white",
            "linecolor": "white",
            "ticks": ""
           },
           "bgcolor": "#E5ECF6",
           "radialaxis": {
            "gridcolor": "white",
            "linecolor": "white",
            "ticks": ""
           }
          },
          "scene": {
           "xaxis": {
            "backgroundcolor": "#E5ECF6",
            "gridcolor": "white",
            "gridwidth": 2,
            "linecolor": "white",
            "showbackground": true,
            "ticks": "",
            "zerolinecolor": "white"
           },
           "yaxis": {
            "backgroundcolor": "#E5ECF6",
            "gridcolor": "white",
            "gridwidth": 2,
            "linecolor": "white",
            "showbackground": true,
            "ticks": "",
            "zerolinecolor": "white"
           },
           "zaxis": {
            "backgroundcolor": "#E5ECF6",
            "gridcolor": "white",
            "gridwidth": 2,
            "linecolor": "white",
            "showbackground": true,
            "ticks": "",
            "zerolinecolor": "white"
           }
          },
          "shapedefaults": {
           "line": {
            "color": "#2a3f5f"
           }
          },
          "ternary": {
           "aaxis": {
            "gridcolor": "white",
            "linecolor": "white",
            "ticks": ""
           },
           "baxis": {
            "gridcolor": "white",
            "linecolor": "white",
            "ticks": ""
           },
           "bgcolor": "#E5ECF6",
           "caxis": {
            "gridcolor": "white",
            "linecolor": "white",
            "ticks": ""
           }
          },
          "title": {
           "x": 0.05
          },
          "xaxis": {
           "automargin": true,
           "gridcolor": "white",
           "linecolor": "white",
           "ticks": "",
           "title": {
            "standoff": 15
           },
           "zerolinecolor": "white",
           "zerolinewidth": 2
          },
          "yaxis": {
           "automargin": true,
           "gridcolor": "white",
           "linecolor": "white",
           "ticks": "",
           "title": {
            "standoff": 15
           },
           "zerolinecolor": "white",
           "zerolinewidth": 2
          }
         }
        },
        "title": {
         "text": "Churn rate by gender"
        },
        "xaxis": {
         "anchor": "y",
         "domain": [
          0,
          1
         ],
         "title": {
          "text": "gender"
         }
        },
        "yaxis": {
         "anchor": "x",
         "domain": [
          0,
          1
         ],
         "title": {
          "text": "Count"
         }
        }
       }
      }
     },
     "metadata": {},
     "output_type": "display_data"
    },
    {
     "name": "stderr",
     "output_type": "stream",
     "text": [
      "C:\\Users\\Asus\\AppData\\Local\\Temp\\ipykernel_19164\\3807008499.py:4: FutureWarning:\n",
      "\n",
      "Setting an item of incompatible dtype is deprecated and will raise an error in a future version of pandas. Value 'No' has dtype incompatible with int64, please explicitly cast to a compatible dtype first.\n",
      "\n",
      "C:\\Users\\Asus\\AppData\\Local\\Temp\\ipykernel_19164\\1367734987.py:7: FutureWarning:\n",
      "\n",
      "Series.__getitem__ treating keys as positions is deprecated. In a future version, integer keys will always be treated as labels (consistent with DataFrame behavior). To access a value by position, use `ser.iloc[pos]`\n",
      "\n",
      "C:\\Users\\Asus\\AppData\\Local\\Temp\\ipykernel_19164\\1367734987.py:9: FutureWarning:\n",
      "\n",
      "Series.__getitem__ treating keys as positions is deprecated. In a future version, integer keys will always be treated as labels (consistent with DataFrame behavior). To access a value by position, use `ser.iloc[pos]`\n",
      "\n"
     ]
    },
    {
     "data": {
      "application/vnd.plotly.v1+json": {
       "config": {
        "plotlyServerURL": "https://plot.ly"
       },
       "data": [
        {
         "alignmentgroup": "True",
         "hovertemplate": "Churn=No<br>SeniorCitizen=%{x}<br>Count=%{y}<extra></extra>",
         "legendgroup": "No",
         "marker": {
          "color": "green",
          "pattern": {
           "shape": ""
          }
         },
         "name": "No",
         "offsetgroup": "No",
         "orientation": "v",
         "showlegend": true,
         "textposition": "auto",
         "type": "bar",
         "x": [
          "No",
          "Yes"
         ],
         "xaxis": "x",
         "y": {
          "bdata": "nBGaAg==",
          "dtype": "i2"
         },
         "yaxis": "y"
        },
        {
         "alignmentgroup": "True",
         "hovertemplate": "Churn=Yes<br>SeniorCitizen=%{x}<br>Count=%{y}<extra></extra>",
         "legendgroup": "Yes",
         "marker": {
          "color": "red",
          "pattern": {
           "shape": ""
          }
         },
         "name": "Yes",
         "offsetgroup": "Yes",
         "orientation": "v",
         "showlegend": true,
         "textposition": "auto",
         "type": "bar",
         "x": [
          "No",
          "Yes"
         ],
         "xaxis": "x",
         "y": {
          "bdata": "cQXcAQ==",
          "dtype": "i2"
         },
         "yaxis": "y"
        }
       ],
       "layout": {
        "annotations": [
         {
          "align": "left",
          "bordercolor": "black",
          "borderwidth": 1,
          "showarrow": false,
          "text": "Value count of distribution of No & Yes are<br>83.8% & 16.2% percentage respectively.",
          "x": 1.4,
          "xref": "paper",
          "y": 1.3,
          "yref": "paper"
         }
        ],
        "barmode": "group",
        "legend": {
         "title": {
          "text": "Churn"
         },
         "tracegroupgap": 0
        },
        "margin": {
         "r": 400
        },
        "template": {
         "data": {
          "bar": [
           {
            "error_x": {
             "color": "#2a3f5f"
            },
            "error_y": {
             "color": "#2a3f5f"
            },
            "marker": {
             "line": {
              "color": "#E5ECF6",
              "width": 0.5
             },
             "pattern": {
              "fillmode": "overlay",
              "size": 10,
              "solidity": 0.2
             }
            },
            "type": "bar"
           }
          ],
          "barpolar": [
           {
            "marker": {
             "line": {
              "color": "#E5ECF6",
              "width": 0.5
             },
             "pattern": {
              "fillmode": "overlay",
              "size": 10,
              "solidity": 0.2
             }
            },
            "type": "barpolar"
           }
          ],
          "carpet": [
           {
            "aaxis": {
             "endlinecolor": "#2a3f5f",
             "gridcolor": "white",
             "linecolor": "white",
             "minorgridcolor": "white",
             "startlinecolor": "#2a3f5f"
            },
            "baxis": {
             "endlinecolor": "#2a3f5f",
             "gridcolor": "white",
             "linecolor": "white",
             "minorgridcolor": "white",
             "startlinecolor": "#2a3f5f"
            },
            "type": "carpet"
           }
          ],
          "choropleth": [
           {
            "colorbar": {
             "outlinewidth": 0,
             "ticks": ""
            },
            "type": "choropleth"
           }
          ],
          "contour": [
           {
            "colorbar": {
             "outlinewidth": 0,
             "ticks": ""
            },
            "colorscale": [
             [
              0,
              "#0d0887"
             ],
             [
              0.1111111111111111,
              "#46039f"
             ],
             [
              0.2222222222222222,
              "#7201a8"
             ],
             [
              0.3333333333333333,
              "#9c179e"
             ],
             [
              0.4444444444444444,
              "#bd3786"
             ],
             [
              0.5555555555555556,
              "#d8576b"
             ],
             [
              0.6666666666666666,
              "#ed7953"
             ],
             [
              0.7777777777777778,
              "#fb9f3a"
             ],
             [
              0.8888888888888888,
              "#fdca26"
             ],
             [
              1,
              "#f0f921"
             ]
            ],
            "type": "contour"
           }
          ],
          "contourcarpet": [
           {
            "colorbar": {
             "outlinewidth": 0,
             "ticks": ""
            },
            "type": "contourcarpet"
           }
          ],
          "heatmap": [
           {
            "colorbar": {
             "outlinewidth": 0,
             "ticks": ""
            },
            "colorscale": [
             [
              0,
              "#0d0887"
             ],
             [
              0.1111111111111111,
              "#46039f"
             ],
             [
              0.2222222222222222,
              "#7201a8"
             ],
             [
              0.3333333333333333,
              "#9c179e"
             ],
             [
              0.4444444444444444,
              "#bd3786"
             ],
             [
              0.5555555555555556,
              "#d8576b"
             ],
             [
              0.6666666666666666,
              "#ed7953"
             ],
             [
              0.7777777777777778,
              "#fb9f3a"
             ],
             [
              0.8888888888888888,
              "#fdca26"
             ],
             [
              1,
              "#f0f921"
             ]
            ],
            "type": "heatmap"
           }
          ],
          "histogram": [
           {
            "marker": {
             "pattern": {
              "fillmode": "overlay",
              "size": 10,
              "solidity": 0.2
             }
            },
            "type": "histogram"
           }
          ],
          "histogram2d": [
           {
            "colorbar": {
             "outlinewidth": 0,
             "ticks": ""
            },
            "colorscale": [
             [
              0,
              "#0d0887"
             ],
             [
              0.1111111111111111,
              "#46039f"
             ],
             [
              0.2222222222222222,
              "#7201a8"
             ],
             [
              0.3333333333333333,
              "#9c179e"
             ],
             [
              0.4444444444444444,
              "#bd3786"
             ],
             [
              0.5555555555555556,
              "#d8576b"
             ],
             [
              0.6666666666666666,
              "#ed7953"
             ],
             [
              0.7777777777777778,
              "#fb9f3a"
             ],
             [
              0.8888888888888888,
              "#fdca26"
             ],
             [
              1,
              "#f0f921"
             ]
            ],
            "type": "histogram2d"
           }
          ],
          "histogram2dcontour": [
           {
            "colorbar": {
             "outlinewidth": 0,
             "ticks": ""
            },
            "colorscale": [
             [
              0,
              "#0d0887"
             ],
             [
              0.1111111111111111,
              "#46039f"
             ],
             [
              0.2222222222222222,
              "#7201a8"
             ],
             [
              0.3333333333333333,
              "#9c179e"
             ],
             [
              0.4444444444444444,
              "#bd3786"
             ],
             [
              0.5555555555555556,
              "#d8576b"
             ],
             [
              0.6666666666666666,
              "#ed7953"
             ],
             [
              0.7777777777777778,
              "#fb9f3a"
             ],
             [
              0.8888888888888888,
              "#fdca26"
             ],
             [
              1,
              "#f0f921"
             ]
            ],
            "type": "histogram2dcontour"
           }
          ],
          "mesh3d": [
           {
            "colorbar": {
             "outlinewidth": 0,
             "ticks": ""
            },
            "type": "mesh3d"
           }
          ],
          "parcoords": [
           {
            "line": {
             "colorbar": {
              "outlinewidth": 0,
              "ticks": ""
             }
            },
            "type": "parcoords"
           }
          ],
          "pie": [
           {
            "automargin": true,
            "type": "pie"
           }
          ],
          "scatter": [
           {
            "fillpattern": {
             "fillmode": "overlay",
             "size": 10,
             "solidity": 0.2
            },
            "type": "scatter"
           }
          ],
          "scatter3d": [
           {
            "line": {
             "colorbar": {
              "outlinewidth": 0,
              "ticks": ""
             }
            },
            "marker": {
             "colorbar": {
              "outlinewidth": 0,
              "ticks": ""
             }
            },
            "type": "scatter3d"
           }
          ],
          "scattercarpet": [
           {
            "marker": {
             "colorbar": {
              "outlinewidth": 0,
              "ticks": ""
             }
            },
            "type": "scattercarpet"
           }
          ],
          "scattergeo": [
           {
            "marker": {
             "colorbar": {
              "outlinewidth": 0,
              "ticks": ""
             }
            },
            "type": "scattergeo"
           }
          ],
          "scattergl": [
           {
            "marker": {
             "colorbar": {
              "outlinewidth": 0,
              "ticks": ""
             }
            },
            "type": "scattergl"
           }
          ],
          "scattermap": [
           {
            "marker": {
             "colorbar": {
              "outlinewidth": 0,
              "ticks": ""
             }
            },
            "type": "scattermap"
           }
          ],
          "scattermapbox": [
           {
            "marker": {
             "colorbar": {
              "outlinewidth": 0,
              "ticks": ""
             }
            },
            "type": "scattermapbox"
           }
          ],
          "scatterpolar": [
           {
            "marker": {
             "colorbar": {
              "outlinewidth": 0,
              "ticks": ""
             }
            },
            "type": "scatterpolar"
           }
          ],
          "scatterpolargl": [
           {
            "marker": {
             "colorbar": {
              "outlinewidth": 0,
              "ticks": ""
             }
            },
            "type": "scatterpolargl"
           }
          ],
          "scatterternary": [
           {
            "marker": {
             "colorbar": {
              "outlinewidth": 0,
              "ticks": ""
             }
            },
            "type": "scatterternary"
           }
          ],
          "surface": [
           {
            "colorbar": {
             "outlinewidth": 0,
             "ticks": ""
            },
            "colorscale": [
             [
              0,
              "#0d0887"
             ],
             [
              0.1111111111111111,
              "#46039f"
             ],
             [
              0.2222222222222222,
              "#7201a8"
             ],
             [
              0.3333333333333333,
              "#9c179e"
             ],
             [
              0.4444444444444444,
              "#bd3786"
             ],
             [
              0.5555555555555556,
              "#d8576b"
             ],
             [
              0.6666666666666666,
              "#ed7953"
             ],
             [
              0.7777777777777778,
              "#fb9f3a"
             ],
             [
              0.8888888888888888,
              "#fdca26"
             ],
             [
              1,
              "#f0f921"
             ]
            ],
            "type": "surface"
           }
          ],
          "table": [
           {
            "cells": {
             "fill": {
              "color": "#EBF0F8"
             },
             "line": {
              "color": "white"
             }
            },
            "header": {
             "fill": {
              "color": "#C8D4E3"
             },
             "line": {
              "color": "white"
             }
            },
            "type": "table"
           }
          ]
         },
         "layout": {
          "annotationdefaults": {
           "arrowcolor": "#2a3f5f",
           "arrowhead": 0,
           "arrowwidth": 1
          },
          "autotypenumbers": "strict",
          "coloraxis": {
           "colorbar": {
            "outlinewidth": 0,
            "ticks": ""
           }
          },
          "colorscale": {
           "diverging": [
            [
             0,
             "#8e0152"
            ],
            [
             0.1,
             "#c51b7d"
            ],
            [
             0.2,
             "#de77ae"
            ],
            [
             0.3,
             "#f1b6da"
            ],
            [
             0.4,
             "#fde0ef"
            ],
            [
             0.5,
             "#f7f7f7"
            ],
            [
             0.6,
             "#e6f5d0"
            ],
            [
             0.7,
             "#b8e186"
            ],
            [
             0.8,
             "#7fbc41"
            ],
            [
             0.9,
             "#4d9221"
            ],
            [
             1,
             "#276419"
            ]
           ],
           "sequential": [
            [
             0,
             "#0d0887"
            ],
            [
             0.1111111111111111,
             "#46039f"
            ],
            [
             0.2222222222222222,
             "#7201a8"
            ],
            [
             0.3333333333333333,
             "#9c179e"
            ],
            [
             0.4444444444444444,
             "#bd3786"
            ],
            [
             0.5555555555555556,
             "#d8576b"
            ],
            [
             0.6666666666666666,
             "#ed7953"
            ],
            [
             0.7777777777777778,
             "#fb9f3a"
            ],
            [
             0.8888888888888888,
             "#fdca26"
            ],
            [
             1,
             "#f0f921"
            ]
           ],
           "sequentialminus": [
            [
             0,
             "#0d0887"
            ],
            [
             0.1111111111111111,
             "#46039f"
            ],
            [
             0.2222222222222222,
             "#7201a8"
            ],
            [
             0.3333333333333333,
             "#9c179e"
            ],
            [
             0.4444444444444444,
             "#bd3786"
            ],
            [
             0.5555555555555556,
             "#d8576b"
            ],
            [
             0.6666666666666666,
             "#ed7953"
            ],
            [
             0.7777777777777778,
             "#fb9f3a"
            ],
            [
             0.8888888888888888,
             "#fdca26"
            ],
            [
             1,
             "#f0f921"
            ]
           ]
          },
          "colorway": [
           "#636efa",
           "#EF553B",
           "#00cc96",
           "#ab63fa",
           "#FFA15A",
           "#19d3f3",
           "#FF6692",
           "#B6E880",
           "#FF97FF",
           "#FECB52"
          ],
          "font": {
           "color": "#2a3f5f"
          },
          "geo": {
           "bgcolor": "white",
           "lakecolor": "white",
           "landcolor": "#E5ECF6",
           "showlakes": true,
           "showland": true,
           "subunitcolor": "white"
          },
          "hoverlabel": {
           "align": "left"
          },
          "hovermode": "closest",
          "mapbox": {
           "style": "light"
          },
          "paper_bgcolor": "white",
          "plot_bgcolor": "#E5ECF6",
          "polar": {
           "angularaxis": {
            "gridcolor": "white",
            "linecolor": "white",
            "ticks": ""
           },
           "bgcolor": "#E5ECF6",
           "radialaxis": {
            "gridcolor": "white",
            "linecolor": "white",
            "ticks": ""
           }
          },
          "scene": {
           "xaxis": {
            "backgroundcolor": "#E5ECF6",
            "gridcolor": "white",
            "gridwidth": 2,
            "linecolor": "white",
            "showbackground": true,
            "ticks": "",
            "zerolinecolor": "white"
           },
           "yaxis": {
            "backgroundcolor": "#E5ECF6",
            "gridcolor": "white",
            "gridwidth": 2,
            "linecolor": "white",
            "showbackground": true,
            "ticks": "",
            "zerolinecolor": "white"
           },
           "zaxis": {
            "backgroundcolor": "#E5ECF6",
            "gridcolor": "white",
            "gridwidth": 2,
            "linecolor": "white",
            "showbackground": true,
            "ticks": "",
            "zerolinecolor": "white"
           }
          },
          "shapedefaults": {
           "line": {
            "color": "#2a3f5f"
           }
          },
          "ternary": {
           "aaxis": {
            "gridcolor": "white",
            "linecolor": "white",
            "ticks": ""
           },
           "baxis": {
            "gridcolor": "white",
            "linecolor": "white",
            "ticks": ""
           },
           "bgcolor": "#E5ECF6",
           "caxis": {
            "gridcolor": "white",
            "linecolor": "white",
            "ticks": ""
           }
          },
          "title": {
           "x": 0.05
          },
          "xaxis": {
           "automargin": true,
           "gridcolor": "white",
           "linecolor": "white",
           "ticks": "",
           "title": {
            "standoff": 15
           },
           "zerolinecolor": "white",
           "zerolinewidth": 2
          },
          "yaxis": {
           "automargin": true,
           "gridcolor": "white",
           "linecolor": "white",
           "ticks": "",
           "title": {
            "standoff": 15
           },
           "zerolinecolor": "white",
           "zerolinewidth": 2
          }
         }
        },
        "title": {
         "text": "Churn rate by SeniorCitizen"
        },
        "xaxis": {
         "anchor": "y",
         "domain": [
          0,
          1
         ],
         "title": {
          "text": "SeniorCitizen"
         }
        },
        "yaxis": {
         "anchor": "x",
         "domain": [
          0,
          1
         ],
         "title": {
          "text": "Count"
         }
        }
       }
      }
     },
     "metadata": {},
     "output_type": "display_data"
    },
    {
     "name": "stderr",
     "output_type": "stream",
     "text": [
      "C:\\Users\\Asus\\AppData\\Local\\Temp\\ipykernel_19164\\1367734987.py:7: FutureWarning:\n",
      "\n",
      "Series.__getitem__ treating keys as positions is deprecated. In a future version, integer keys will always be treated as labels (consistent with DataFrame behavior). To access a value by position, use `ser.iloc[pos]`\n",
      "\n",
      "C:\\Users\\Asus\\AppData\\Local\\Temp\\ipykernel_19164\\1367734987.py:9: FutureWarning:\n",
      "\n",
      "Series.__getitem__ treating keys as positions is deprecated. In a future version, integer keys will always be treated as labels (consistent with DataFrame behavior). To access a value by position, use `ser.iloc[pos]`\n",
      "\n"
     ]
    },
    {
     "data": {
      "application/vnd.plotly.v1+json": {
       "config": {
        "plotlyServerURL": "https://plot.ly"
       },
       "data": [
        {
         "alignmentgroup": "True",
         "hovertemplate": "Churn=No<br>Partner=%{x}<br>Count=%{y}<extra></extra>",
         "legendgroup": "No",
         "marker": {
          "color": "green",
          "pattern": {
           "shape": ""
          }
         },
         "name": "No",
         "offsetgroup": "No",
         "orientation": "v",
         "showlegend": true,
         "textposition": "auto",
         "type": "bar",
         "x": [
          "No",
          "Yes"
         ],
         "xaxis": "x",
         "y": {
          "bdata": "iQmtCg==",
          "dtype": "i2"
         },
         "yaxis": "y"
        },
        {
         "alignmentgroup": "True",
         "hovertemplate": "Churn=Yes<br>Partner=%{x}<br>Count=%{y}<extra></extra>",
         "legendgroup": "Yes",
         "marker": {
          "color": "red",
          "pattern": {
           "shape": ""
          }
         },
         "name": "Yes",
         "offsetgroup": "Yes",
         "orientation": "v",
         "showlegend": true,
         "textposition": "auto",
         "type": "bar",
         "x": [
          "No",
          "Yes"
         ],
         "xaxis": "x",
         "y": {
          "bdata": "sASdAg==",
          "dtype": "i2"
         },
         "yaxis": "y"
        }
       ],
       "layout": {
        "annotations": [
         {
          "align": "left",
          "bordercolor": "black",
          "borderwidth": 1,
          "showarrow": false,
          "text": "Value count of distribution of No & Yes are<br>51.7% & 48.3% percentage respectively.",
          "x": 1.4,
          "xref": "paper",
          "y": 1.3,
          "yref": "paper"
         }
        ],
        "barmode": "group",
        "legend": {
         "title": {
          "text": "Churn"
         },
         "tracegroupgap": 0
        },
        "margin": {
         "r": 400
        },
        "template": {
         "data": {
          "bar": [
           {
            "error_x": {
             "color": "#2a3f5f"
            },
            "error_y": {
             "color": "#2a3f5f"
            },
            "marker": {
             "line": {
              "color": "#E5ECF6",
              "width": 0.5
             },
             "pattern": {
              "fillmode": "overlay",
              "size": 10,
              "solidity": 0.2
             }
            },
            "type": "bar"
           }
          ],
          "barpolar": [
           {
            "marker": {
             "line": {
              "color": "#E5ECF6",
              "width": 0.5
             },
             "pattern": {
              "fillmode": "overlay",
              "size": 10,
              "solidity": 0.2
             }
            },
            "type": "barpolar"
           }
          ],
          "carpet": [
           {
            "aaxis": {
             "endlinecolor": "#2a3f5f",
             "gridcolor": "white",
             "linecolor": "white",
             "minorgridcolor": "white",
             "startlinecolor": "#2a3f5f"
            },
            "baxis": {
             "endlinecolor": "#2a3f5f",
             "gridcolor": "white",
             "linecolor": "white",
             "minorgridcolor": "white",
             "startlinecolor": "#2a3f5f"
            },
            "type": "carpet"
           }
          ],
          "choropleth": [
           {
            "colorbar": {
             "outlinewidth": 0,
             "ticks": ""
            },
            "type": "choropleth"
           }
          ],
          "contour": [
           {
            "colorbar": {
             "outlinewidth": 0,
             "ticks": ""
            },
            "colorscale": [
             [
              0,
              "#0d0887"
             ],
             [
              0.1111111111111111,
              "#46039f"
             ],
             [
              0.2222222222222222,
              "#7201a8"
             ],
             [
              0.3333333333333333,
              "#9c179e"
             ],
             [
              0.4444444444444444,
              "#bd3786"
             ],
             [
              0.5555555555555556,
              "#d8576b"
             ],
             [
              0.6666666666666666,
              "#ed7953"
             ],
             [
              0.7777777777777778,
              "#fb9f3a"
             ],
             [
              0.8888888888888888,
              "#fdca26"
             ],
             [
              1,
              "#f0f921"
             ]
            ],
            "type": "contour"
           }
          ],
          "contourcarpet": [
           {
            "colorbar": {
             "outlinewidth": 0,
             "ticks": ""
            },
            "type": "contourcarpet"
           }
          ],
          "heatmap": [
           {
            "colorbar": {
             "outlinewidth": 0,
             "ticks": ""
            },
            "colorscale": [
             [
              0,
              "#0d0887"
             ],
             [
              0.1111111111111111,
              "#46039f"
             ],
             [
              0.2222222222222222,
              "#7201a8"
             ],
             [
              0.3333333333333333,
              "#9c179e"
             ],
             [
              0.4444444444444444,
              "#bd3786"
             ],
             [
              0.5555555555555556,
              "#d8576b"
             ],
             [
              0.6666666666666666,
              "#ed7953"
             ],
             [
              0.7777777777777778,
              "#fb9f3a"
             ],
             [
              0.8888888888888888,
              "#fdca26"
             ],
             [
              1,
              "#f0f921"
             ]
            ],
            "type": "heatmap"
           }
          ],
          "histogram": [
           {
            "marker": {
             "pattern": {
              "fillmode": "overlay",
              "size": 10,
              "solidity": 0.2
             }
            },
            "type": "histogram"
           }
          ],
          "histogram2d": [
           {
            "colorbar": {
             "outlinewidth": 0,
             "ticks": ""
            },
            "colorscale": [
             [
              0,
              "#0d0887"
             ],
             [
              0.1111111111111111,
              "#46039f"
             ],
             [
              0.2222222222222222,
              "#7201a8"
             ],
             [
              0.3333333333333333,
              "#9c179e"
             ],
             [
              0.4444444444444444,
              "#bd3786"
             ],
             [
              0.5555555555555556,
              "#d8576b"
             ],
             [
              0.6666666666666666,
              "#ed7953"
             ],
             [
              0.7777777777777778,
              "#fb9f3a"
             ],
             [
              0.8888888888888888,
              "#fdca26"
             ],
             [
              1,
              "#f0f921"
             ]
            ],
            "type": "histogram2d"
           }
          ],
          "histogram2dcontour": [
           {
            "colorbar": {
             "outlinewidth": 0,
             "ticks": ""
            },
            "colorscale": [
             [
              0,
              "#0d0887"
             ],
             [
              0.1111111111111111,
              "#46039f"
             ],
             [
              0.2222222222222222,
              "#7201a8"
             ],
             [
              0.3333333333333333,
              "#9c179e"
             ],
             [
              0.4444444444444444,
              "#bd3786"
             ],
             [
              0.5555555555555556,
              "#d8576b"
             ],
             [
              0.6666666666666666,
              "#ed7953"
             ],
             [
              0.7777777777777778,
              "#fb9f3a"
             ],
             [
              0.8888888888888888,
              "#fdca26"
             ],
             [
              1,
              "#f0f921"
             ]
            ],
            "type": "histogram2dcontour"
           }
          ],
          "mesh3d": [
           {
            "colorbar": {
             "outlinewidth": 0,
             "ticks": ""
            },
            "type": "mesh3d"
           }
          ],
          "parcoords": [
           {
            "line": {
             "colorbar": {
              "outlinewidth": 0,
              "ticks": ""
             }
            },
            "type": "parcoords"
           }
          ],
          "pie": [
           {
            "automargin": true,
            "type": "pie"
           }
          ],
          "scatter": [
           {
            "fillpattern": {
             "fillmode": "overlay",
             "size": 10,
             "solidity": 0.2
            },
            "type": "scatter"
           }
          ],
          "scatter3d": [
           {
            "line": {
             "colorbar": {
              "outlinewidth": 0,
              "ticks": ""
             }
            },
            "marker": {
             "colorbar": {
              "outlinewidth": 0,
              "ticks": ""
             }
            },
            "type": "scatter3d"
           }
          ],
          "scattercarpet": [
           {
            "marker": {
             "colorbar": {
              "outlinewidth": 0,
              "ticks": ""
             }
            },
            "type": "scattercarpet"
           }
          ],
          "scattergeo": [
           {
            "marker": {
             "colorbar": {
              "outlinewidth": 0,
              "ticks": ""
             }
            },
            "type": "scattergeo"
           }
          ],
          "scattergl": [
           {
            "marker": {
             "colorbar": {
              "outlinewidth": 0,
              "ticks": ""
             }
            },
            "type": "scattergl"
           }
          ],
          "scattermap": [
           {
            "marker": {
             "colorbar": {
              "outlinewidth": 0,
              "ticks": ""
             }
            },
            "type": "scattermap"
           }
          ],
          "scattermapbox": [
           {
            "marker": {
             "colorbar": {
              "outlinewidth": 0,
              "ticks": ""
             }
            },
            "type": "scattermapbox"
           }
          ],
          "scatterpolar": [
           {
            "marker": {
             "colorbar": {
              "outlinewidth": 0,
              "ticks": ""
             }
            },
            "type": "scatterpolar"
           }
          ],
          "scatterpolargl": [
           {
            "marker": {
             "colorbar": {
              "outlinewidth": 0,
              "ticks": ""
             }
            },
            "type": "scatterpolargl"
           }
          ],
          "scatterternary": [
           {
            "marker": {
             "colorbar": {
              "outlinewidth": 0,
              "ticks": ""
             }
            },
            "type": "scatterternary"
           }
          ],
          "surface": [
           {
            "colorbar": {
             "outlinewidth": 0,
             "ticks": ""
            },
            "colorscale": [
             [
              0,
              "#0d0887"
             ],
             [
              0.1111111111111111,
              "#46039f"
             ],
             [
              0.2222222222222222,
              "#7201a8"
             ],
             [
              0.3333333333333333,
              "#9c179e"
             ],
             [
              0.4444444444444444,
              "#bd3786"
             ],
             [
              0.5555555555555556,
              "#d8576b"
             ],
             [
              0.6666666666666666,
              "#ed7953"
             ],
             [
              0.7777777777777778,
              "#fb9f3a"
             ],
             [
              0.8888888888888888,
              "#fdca26"
             ],
             [
              1,
              "#f0f921"
             ]
            ],
            "type": "surface"
           }
          ],
          "table": [
           {
            "cells": {
             "fill": {
              "color": "#EBF0F8"
             },
             "line": {
              "color": "white"
             }
            },
            "header": {
             "fill": {
              "color": "#C8D4E3"
             },
             "line": {
              "color": "white"
             }
            },
            "type": "table"
           }
          ]
         },
         "layout": {
          "annotationdefaults": {
           "arrowcolor": "#2a3f5f",
           "arrowhead": 0,
           "arrowwidth": 1
          },
          "autotypenumbers": "strict",
          "coloraxis": {
           "colorbar": {
            "outlinewidth": 0,
            "ticks": ""
           }
          },
          "colorscale": {
           "diverging": [
            [
             0,
             "#8e0152"
            ],
            [
             0.1,
             "#c51b7d"
            ],
            [
             0.2,
             "#de77ae"
            ],
            [
             0.3,
             "#f1b6da"
            ],
            [
             0.4,
             "#fde0ef"
            ],
            [
             0.5,
             "#f7f7f7"
            ],
            [
             0.6,
             "#e6f5d0"
            ],
            [
             0.7,
             "#b8e186"
            ],
            [
             0.8,
             "#7fbc41"
            ],
            [
             0.9,
             "#4d9221"
            ],
            [
             1,
             "#276419"
            ]
           ],
           "sequential": [
            [
             0,
             "#0d0887"
            ],
            [
             0.1111111111111111,
             "#46039f"
            ],
            [
             0.2222222222222222,
             "#7201a8"
            ],
            [
             0.3333333333333333,
             "#9c179e"
            ],
            [
             0.4444444444444444,
             "#bd3786"
            ],
            [
             0.5555555555555556,
             "#d8576b"
            ],
            [
             0.6666666666666666,
             "#ed7953"
            ],
            [
             0.7777777777777778,
             "#fb9f3a"
            ],
            [
             0.8888888888888888,
             "#fdca26"
            ],
            [
             1,
             "#f0f921"
            ]
           ],
           "sequentialminus": [
            [
             0,
             "#0d0887"
            ],
            [
             0.1111111111111111,
             "#46039f"
            ],
            [
             0.2222222222222222,
             "#7201a8"
            ],
            [
             0.3333333333333333,
             "#9c179e"
            ],
            [
             0.4444444444444444,
             "#bd3786"
            ],
            [
             0.5555555555555556,
             "#d8576b"
            ],
            [
             0.6666666666666666,
             "#ed7953"
            ],
            [
             0.7777777777777778,
             "#fb9f3a"
            ],
            [
             0.8888888888888888,
             "#fdca26"
            ],
            [
             1,
             "#f0f921"
            ]
           ]
          },
          "colorway": [
           "#636efa",
           "#EF553B",
           "#00cc96",
           "#ab63fa",
           "#FFA15A",
           "#19d3f3",
           "#FF6692",
           "#B6E880",
           "#FF97FF",
           "#FECB52"
          ],
          "font": {
           "color": "#2a3f5f"
          },
          "geo": {
           "bgcolor": "white",
           "lakecolor": "white",
           "landcolor": "#E5ECF6",
           "showlakes": true,
           "showland": true,
           "subunitcolor": "white"
          },
          "hoverlabel": {
           "align": "left"
          },
          "hovermode": "closest",
          "mapbox": {
           "style": "light"
          },
          "paper_bgcolor": "white",
          "plot_bgcolor": "#E5ECF6",
          "polar": {
           "angularaxis": {
            "gridcolor": "white",
            "linecolor": "white",
            "ticks": ""
           },
           "bgcolor": "#E5ECF6",
           "radialaxis": {
            "gridcolor": "white",
            "linecolor": "white",
            "ticks": ""
           }
          },
          "scene": {
           "xaxis": {
            "backgroundcolor": "#E5ECF6",
            "gridcolor": "white",
            "gridwidth": 2,
            "linecolor": "white",
            "showbackground": true,
            "ticks": "",
            "zerolinecolor": "white"
           },
           "yaxis": {
            "backgroundcolor": "#E5ECF6",
            "gridcolor": "white",
            "gridwidth": 2,
            "linecolor": "white",
            "showbackground": true,
            "ticks": "",
            "zerolinecolor": "white"
           },
           "zaxis": {
            "backgroundcolor": "#E5ECF6",
            "gridcolor": "white",
            "gridwidth": 2,
            "linecolor": "white",
            "showbackground": true,
            "ticks": "",
            "zerolinecolor": "white"
           }
          },
          "shapedefaults": {
           "line": {
            "color": "#2a3f5f"
           }
          },
          "ternary": {
           "aaxis": {
            "gridcolor": "white",
            "linecolor": "white",
            "ticks": ""
           },
           "baxis": {
            "gridcolor": "white",
            "linecolor": "white",
            "ticks": ""
           },
           "bgcolor": "#E5ECF6",
           "caxis": {
            "gridcolor": "white",
            "linecolor": "white",
            "ticks": ""
           }
          },
          "title": {
           "x": 0.05
          },
          "xaxis": {
           "automargin": true,
           "gridcolor": "white",
           "linecolor": "white",
           "ticks": "",
           "title": {
            "standoff": 15
           },
           "zerolinecolor": "white",
           "zerolinewidth": 2
          },
          "yaxis": {
           "automargin": true,
           "gridcolor": "white",
           "linecolor": "white",
           "ticks": "",
           "title": {
            "standoff": 15
           },
           "zerolinecolor": "white",
           "zerolinewidth": 2
          }
         }
        },
        "title": {
         "text": "Churn rate by Partner"
        },
        "xaxis": {
         "anchor": "y",
         "domain": [
          0,
          1
         ],
         "title": {
          "text": "Partner"
         }
        },
        "yaxis": {
         "anchor": "x",
         "domain": [
          0,
          1
         ],
         "title": {
          "text": "Count"
         }
        }
       }
      }
     },
     "metadata": {},
     "output_type": "display_data"
    },
    {
     "name": "stderr",
     "output_type": "stream",
     "text": [
      "C:\\Users\\Asus\\AppData\\Local\\Temp\\ipykernel_19164\\1367734987.py:7: FutureWarning:\n",
      "\n",
      "Series.__getitem__ treating keys as positions is deprecated. In a future version, integer keys will always be treated as labels (consistent with DataFrame behavior). To access a value by position, use `ser.iloc[pos]`\n",
      "\n",
      "C:\\Users\\Asus\\AppData\\Local\\Temp\\ipykernel_19164\\1367734987.py:9: FutureWarning:\n",
      "\n",
      "Series.__getitem__ treating keys as positions is deprecated. In a future version, integer keys will always be treated as labels (consistent with DataFrame behavior). To access a value by position, use `ser.iloc[pos]`\n",
      "\n"
     ]
    },
    {
     "data": {
      "application/vnd.plotly.v1+json": {
       "config": {
        "plotlyServerURL": "https://plot.ly"
       },
       "data": [
        {
         "alignmentgroup": "True",
         "hovertemplate": "Churn=No<br>Dependents=%{x}<br>Count=%{y}<extra></extra>",
         "legendgroup": "No",
         "marker": {
          "color": "green",
          "pattern": {
           "shape": ""
          }
         },
         "name": "No",
         "offsetgroup": "No",
         "orientation": "v",
         "showlegend": true,
         "textposition": "auto",
         "type": "bar",
         "x": [
          "No",
          "Yes"
         ],
         "xaxis": "x",
         "y": {
          "bdata": "Pg34Bg==",
          "dtype": "i2"
         },
         "yaxis": "y"
        },
        {
         "alignmentgroup": "True",
         "hovertemplate": "Churn=Yes<br>Dependents=%{x}<br>Count=%{y}<extra></extra>",
         "legendgroup": "Yes",
         "marker": {
          "color": "red",
          "pattern": {
           "shape": ""
          }
         },
         "name": "Yes",
         "offsetgroup": "Yes",
         "orientation": "v",
         "showlegend": true,
         "textposition": "auto",
         "type": "bar",
         "x": [
          "No",
          "Yes"
         ],
         "xaxis": "x",
         "y": {
          "bdata": "BwZGAQ==",
          "dtype": "i2"
         },
         "yaxis": "y"
        }
       ],
       "layout": {
        "annotations": [
         {
          "align": "left",
          "bordercolor": "black",
          "borderwidth": 1,
          "showarrow": false,
          "text": "Value count of distribution of No & Yes are<br>70.0% & 30.0% percentage respectively.",
          "x": 1.4,
          "xref": "paper",
          "y": 1.3,
          "yref": "paper"
         }
        ],
        "barmode": "group",
        "legend": {
         "title": {
          "text": "Churn"
         },
         "tracegroupgap": 0
        },
        "margin": {
         "r": 400
        },
        "template": {
         "data": {
          "bar": [
           {
            "error_x": {
             "color": "#2a3f5f"
            },
            "error_y": {
             "color": "#2a3f5f"
            },
            "marker": {
             "line": {
              "color": "#E5ECF6",
              "width": 0.5
             },
             "pattern": {
              "fillmode": "overlay",
              "size": 10,
              "solidity": 0.2
             }
            },
            "type": "bar"
           }
          ],
          "barpolar": [
           {
            "marker": {
             "line": {
              "color": "#E5ECF6",
              "width": 0.5
             },
             "pattern": {
              "fillmode": "overlay",
              "size": 10,
              "solidity": 0.2
             }
            },
            "type": "barpolar"
           }
          ],
          "carpet": [
           {
            "aaxis": {
             "endlinecolor": "#2a3f5f",
             "gridcolor": "white",
             "linecolor": "white",
             "minorgridcolor": "white",
             "startlinecolor": "#2a3f5f"
            },
            "baxis": {
             "endlinecolor": "#2a3f5f",
             "gridcolor": "white",
             "linecolor": "white",
             "minorgridcolor": "white",
             "startlinecolor": "#2a3f5f"
            },
            "type": "carpet"
           }
          ],
          "choropleth": [
           {
            "colorbar": {
             "outlinewidth": 0,
             "ticks": ""
            },
            "type": "choropleth"
           }
          ],
          "contour": [
           {
            "colorbar": {
             "outlinewidth": 0,
             "ticks": ""
            },
            "colorscale": [
             [
              0,
              "#0d0887"
             ],
             [
              0.1111111111111111,
              "#46039f"
             ],
             [
              0.2222222222222222,
              "#7201a8"
             ],
             [
              0.3333333333333333,
              "#9c179e"
             ],
             [
              0.4444444444444444,
              "#bd3786"
             ],
             [
              0.5555555555555556,
              "#d8576b"
             ],
             [
              0.6666666666666666,
              "#ed7953"
             ],
             [
              0.7777777777777778,
              "#fb9f3a"
             ],
             [
              0.8888888888888888,
              "#fdca26"
             ],
             [
              1,
              "#f0f921"
             ]
            ],
            "type": "contour"
           }
          ],
          "contourcarpet": [
           {
            "colorbar": {
             "outlinewidth": 0,
             "ticks": ""
            },
            "type": "contourcarpet"
           }
          ],
          "heatmap": [
           {
            "colorbar": {
             "outlinewidth": 0,
             "ticks": ""
            },
            "colorscale": [
             [
              0,
              "#0d0887"
             ],
             [
              0.1111111111111111,
              "#46039f"
             ],
             [
              0.2222222222222222,
              "#7201a8"
             ],
             [
              0.3333333333333333,
              "#9c179e"
             ],
             [
              0.4444444444444444,
              "#bd3786"
             ],
             [
              0.5555555555555556,
              "#d8576b"
             ],
             [
              0.6666666666666666,
              "#ed7953"
             ],
             [
              0.7777777777777778,
              "#fb9f3a"
             ],
             [
              0.8888888888888888,
              "#fdca26"
             ],
             [
              1,
              "#f0f921"
             ]
            ],
            "type": "heatmap"
           }
          ],
          "histogram": [
           {
            "marker": {
             "pattern": {
              "fillmode": "overlay",
              "size": 10,
              "solidity": 0.2
             }
            },
            "type": "histogram"
           }
          ],
          "histogram2d": [
           {
            "colorbar": {
             "outlinewidth": 0,
             "ticks": ""
            },
            "colorscale": [
             [
              0,
              "#0d0887"
             ],
             [
              0.1111111111111111,
              "#46039f"
             ],
             [
              0.2222222222222222,
              "#7201a8"
             ],
             [
              0.3333333333333333,
              "#9c179e"
             ],
             [
              0.4444444444444444,
              "#bd3786"
             ],
             [
              0.5555555555555556,
              "#d8576b"
             ],
             [
              0.6666666666666666,
              "#ed7953"
             ],
             [
              0.7777777777777778,
              "#fb9f3a"
             ],
             [
              0.8888888888888888,
              "#fdca26"
             ],
             [
              1,
              "#f0f921"
             ]
            ],
            "type": "histogram2d"
           }
          ],
          "histogram2dcontour": [
           {
            "colorbar": {
             "outlinewidth": 0,
             "ticks": ""
            },
            "colorscale": [
             [
              0,
              "#0d0887"
             ],
             [
              0.1111111111111111,
              "#46039f"
             ],
             [
              0.2222222222222222,
              "#7201a8"
             ],
             [
              0.3333333333333333,
              "#9c179e"
             ],
             [
              0.4444444444444444,
              "#bd3786"
             ],
             [
              0.5555555555555556,
              "#d8576b"
             ],
             [
              0.6666666666666666,
              "#ed7953"
             ],
             [
              0.7777777777777778,
              "#fb9f3a"
             ],
             [
              0.8888888888888888,
              "#fdca26"
             ],
             [
              1,
              "#f0f921"
             ]
            ],
            "type": "histogram2dcontour"
           }
          ],
          "mesh3d": [
           {
            "colorbar": {
             "outlinewidth": 0,
             "ticks": ""
            },
            "type": "mesh3d"
           }
          ],
          "parcoords": [
           {
            "line": {
             "colorbar": {
              "outlinewidth": 0,
              "ticks": ""
             }
            },
            "type": "parcoords"
           }
          ],
          "pie": [
           {
            "automargin": true,
            "type": "pie"
           }
          ],
          "scatter": [
           {
            "fillpattern": {
             "fillmode": "overlay",
             "size": 10,
             "solidity": 0.2
            },
            "type": "scatter"
           }
          ],
          "scatter3d": [
           {
            "line": {
             "colorbar": {
              "outlinewidth": 0,
              "ticks": ""
             }
            },
            "marker": {
             "colorbar": {
              "outlinewidth": 0,
              "ticks": ""
             }
            },
            "type": "scatter3d"
           }
          ],
          "scattercarpet": [
           {
            "marker": {
             "colorbar": {
              "outlinewidth": 0,
              "ticks": ""
             }
            },
            "type": "scattercarpet"
           }
          ],
          "scattergeo": [
           {
            "marker": {
             "colorbar": {
              "outlinewidth": 0,
              "ticks": ""
             }
            },
            "type": "scattergeo"
           }
          ],
          "scattergl": [
           {
            "marker": {
             "colorbar": {
              "outlinewidth": 0,
              "ticks": ""
             }
            },
            "type": "scattergl"
           }
          ],
          "scattermap": [
           {
            "marker": {
             "colorbar": {
              "outlinewidth": 0,
              "ticks": ""
             }
            },
            "type": "scattermap"
           }
          ],
          "scattermapbox": [
           {
            "marker": {
             "colorbar": {
              "outlinewidth": 0,
              "ticks": ""
             }
            },
            "type": "scattermapbox"
           }
          ],
          "scatterpolar": [
           {
            "marker": {
             "colorbar": {
              "outlinewidth": 0,
              "ticks": ""
             }
            },
            "type": "scatterpolar"
           }
          ],
          "scatterpolargl": [
           {
            "marker": {
             "colorbar": {
              "outlinewidth": 0,
              "ticks": ""
             }
            },
            "type": "scatterpolargl"
           }
          ],
          "scatterternary": [
           {
            "marker": {
             "colorbar": {
              "outlinewidth": 0,
              "ticks": ""
             }
            },
            "type": "scatterternary"
           }
          ],
          "surface": [
           {
            "colorbar": {
             "outlinewidth": 0,
             "ticks": ""
            },
            "colorscale": [
             [
              0,
              "#0d0887"
             ],
             [
              0.1111111111111111,
              "#46039f"
             ],
             [
              0.2222222222222222,
              "#7201a8"
             ],
             [
              0.3333333333333333,
              "#9c179e"
             ],
             [
              0.4444444444444444,
              "#bd3786"
             ],
             [
              0.5555555555555556,
              "#d8576b"
             ],
             [
              0.6666666666666666,
              "#ed7953"
             ],
             [
              0.7777777777777778,
              "#fb9f3a"
             ],
             [
              0.8888888888888888,
              "#fdca26"
             ],
             [
              1,
              "#f0f921"
             ]
            ],
            "type": "surface"
           }
          ],
          "table": [
           {
            "cells": {
             "fill": {
              "color": "#EBF0F8"
             },
             "line": {
              "color": "white"
             }
            },
            "header": {
             "fill": {
              "color": "#C8D4E3"
             },
             "line": {
              "color": "white"
             }
            },
            "type": "table"
           }
          ]
         },
         "layout": {
          "annotationdefaults": {
           "arrowcolor": "#2a3f5f",
           "arrowhead": 0,
           "arrowwidth": 1
          },
          "autotypenumbers": "strict",
          "coloraxis": {
           "colorbar": {
            "outlinewidth": 0,
            "ticks": ""
           }
          },
          "colorscale": {
           "diverging": [
            [
             0,
             "#8e0152"
            ],
            [
             0.1,
             "#c51b7d"
            ],
            [
             0.2,
             "#de77ae"
            ],
            [
             0.3,
             "#f1b6da"
            ],
            [
             0.4,
             "#fde0ef"
            ],
            [
             0.5,
             "#f7f7f7"
            ],
            [
             0.6,
             "#e6f5d0"
            ],
            [
             0.7,
             "#b8e186"
            ],
            [
             0.8,
             "#7fbc41"
            ],
            [
             0.9,
             "#4d9221"
            ],
            [
             1,
             "#276419"
            ]
           ],
           "sequential": [
            [
             0,
             "#0d0887"
            ],
            [
             0.1111111111111111,
             "#46039f"
            ],
            [
             0.2222222222222222,
             "#7201a8"
            ],
            [
             0.3333333333333333,
             "#9c179e"
            ],
            [
             0.4444444444444444,
             "#bd3786"
            ],
            [
             0.5555555555555556,
             "#d8576b"
            ],
            [
             0.6666666666666666,
             "#ed7953"
            ],
            [
             0.7777777777777778,
             "#fb9f3a"
            ],
            [
             0.8888888888888888,
             "#fdca26"
            ],
            [
             1,
             "#f0f921"
            ]
           ],
           "sequentialminus": [
            [
             0,
             "#0d0887"
            ],
            [
             0.1111111111111111,
             "#46039f"
            ],
            [
             0.2222222222222222,
             "#7201a8"
            ],
            [
             0.3333333333333333,
             "#9c179e"
            ],
            [
             0.4444444444444444,
             "#bd3786"
            ],
            [
             0.5555555555555556,
             "#d8576b"
            ],
            [
             0.6666666666666666,
             "#ed7953"
            ],
            [
             0.7777777777777778,
             "#fb9f3a"
            ],
            [
             0.8888888888888888,
             "#fdca26"
            ],
            [
             1,
             "#f0f921"
            ]
           ]
          },
          "colorway": [
           "#636efa",
           "#EF553B",
           "#00cc96",
           "#ab63fa",
           "#FFA15A",
           "#19d3f3",
           "#FF6692",
           "#B6E880",
           "#FF97FF",
           "#FECB52"
          ],
          "font": {
           "color": "#2a3f5f"
          },
          "geo": {
           "bgcolor": "white",
           "lakecolor": "white",
           "landcolor": "#E5ECF6",
           "showlakes": true,
           "showland": true,
           "subunitcolor": "white"
          },
          "hoverlabel": {
           "align": "left"
          },
          "hovermode": "closest",
          "mapbox": {
           "style": "light"
          },
          "paper_bgcolor": "white",
          "plot_bgcolor": "#E5ECF6",
          "polar": {
           "angularaxis": {
            "gridcolor": "white",
            "linecolor": "white",
            "ticks": ""
           },
           "bgcolor": "#E5ECF6",
           "radialaxis": {
            "gridcolor": "white",
            "linecolor": "white",
            "ticks": ""
           }
          },
          "scene": {
           "xaxis": {
            "backgroundcolor": "#E5ECF6",
            "gridcolor": "white",
            "gridwidth": 2,
            "linecolor": "white",
            "showbackground": true,
            "ticks": "",
            "zerolinecolor": "white"
           },
           "yaxis": {
            "backgroundcolor": "#E5ECF6",
            "gridcolor": "white",
            "gridwidth": 2,
            "linecolor": "white",
            "showbackground": true,
            "ticks": "",
            "zerolinecolor": "white"
           },
           "zaxis": {
            "backgroundcolor": "#E5ECF6",
            "gridcolor": "white",
            "gridwidth": 2,
            "linecolor": "white",
            "showbackground": true,
            "ticks": "",
            "zerolinecolor": "white"
           }
          },
          "shapedefaults": {
           "line": {
            "color": "#2a3f5f"
           }
          },
          "ternary": {
           "aaxis": {
            "gridcolor": "white",
            "linecolor": "white",
            "ticks": ""
           },
           "baxis": {
            "gridcolor": "white",
            "linecolor": "white",
            "ticks": ""
           },
           "bgcolor": "#E5ECF6",
           "caxis": {
            "gridcolor": "white",
            "linecolor": "white",
            "ticks": ""
           }
          },
          "title": {
           "x": 0.05
          },
          "xaxis": {
           "automargin": true,
           "gridcolor": "white",
           "linecolor": "white",
           "ticks": "",
           "title": {
            "standoff": 15
           },
           "zerolinecolor": "white",
           "zerolinewidth": 2
          },
          "yaxis": {
           "automargin": true,
           "gridcolor": "white",
           "linecolor": "white",
           "ticks": "",
           "title": {
            "standoff": 15
           },
           "zerolinecolor": "white",
           "zerolinewidth": 2
          }
         }
        },
        "title": {
         "text": "Churn rate by Dependents"
        },
        "xaxis": {
         "anchor": "y",
         "domain": [
          0,
          1
         ],
         "title": {
          "text": "Dependents"
         }
        },
        "yaxis": {
         "anchor": "x",
         "domain": [
          0,
          1
         ],
         "title": {
          "text": "Count"
         }
        }
       }
      }
     },
     "metadata": {},
     "output_type": "display_data"
    }
   ],
   "source": [
    "#Gender feature plot\n",
    "bar('gender')\n",
    "#SeniorCitizen feature plot \n",
    "data_df.loc[data_df.SeniorCitizen==0,'SeniorCitizen'] = \"No\"   #convert 0 to No in all data instances\n",
    "data_df.loc[data_df.SeniorCitizen==1,'SeniorCitizen'] = \"Yes\"  #convert 1 to Yes in all data instances\n",
    "bar('SeniorCitizen')\n",
    "#Partner feature plot\n",
    "bar('Partner')\n",
    "#Dependents feature plot\n",
    "bar('Dependents')"
   ]
  },
  {
   "cell_type": "markdown",
   "id": "35fdd171",
   "metadata": {},
   "source": [
    "**Demographic analysis insight**: Gender and partner are evenly distributed with approximate percentage values. The difference in churn is slightly higher in females, but the small difference can be ignored. There’s a higher proportion of churn in younger customers (SeniorCitizen = No), customers with no partners, and customers with no dependents. The demographic section of data highlights on-senior citizens with no partners and dependents as a particular segment of customers likely to churn."
   ]
  },
  {
   "cell_type": "code",
   "execution_count": 22,
   "id": "2587aefb",
   "metadata": {},
   "outputs": [
    {
     "name": "stderr",
     "output_type": "stream",
     "text": [
      "C:\\Users\\Asus\\AppData\\Local\\Temp\\ipykernel_19164\\1367734987.py:7: FutureWarning:\n",
      "\n",
      "Series.__getitem__ treating keys as positions is deprecated. In a future version, integer keys will always be treated as labels (consistent with DataFrame behavior). To access a value by position, use `ser.iloc[pos]`\n",
      "\n",
      "C:\\Users\\Asus\\AppData\\Local\\Temp\\ipykernel_19164\\1367734987.py:9: FutureWarning:\n",
      "\n",
      "Series.__getitem__ treating keys as positions is deprecated. In a future version, integer keys will always be treated as labels (consistent with DataFrame behavior). To access a value by position, use `ser.iloc[pos]`\n",
      "\n"
     ]
    },
    {
     "data": {
      "application/vnd.plotly.v1+json": {
       "config": {
        "plotlyServerURL": "https://plot.ly"
       },
       "data": [
        {
         "alignmentgroup": "True",
         "hovertemplate": "Churn=No<br>PhoneService=%{x}<br>Count=%{y}<extra></extra>",
         "legendgroup": "No",
         "marker": {
          "color": "green",
          "pattern": {
           "shape": ""
          }
         },
         "name": "No",
         "offsetgroup": "No",
         "orientation": "v",
         "showlegend": true,
         "textposition": "auto",
         "type": "bar",
         "x": [
          "No",
          "Yes"
         ],
         "xaxis": "x",
         "y": {
          "bdata": "AAI2Eg==",
          "dtype": "i2"
         },
         "yaxis": "y"
        },
        {
         "alignmentgroup": "True",
         "hovertemplate": "Churn=Yes<br>PhoneService=%{x}<br>Count=%{y}<extra></extra>",
         "legendgroup": "Yes",
         "marker": {
          "color": "red",
          "pattern": {
           "shape": ""
          }
         },
         "name": "Yes",
         "offsetgroup": "Yes",
         "orientation": "v",
         "showlegend": true,
         "textposition": "auto",
         "type": "bar",
         "x": [
          "No",
          "Yes"
         ],
         "xaxis": "x",
         "y": {
          "bdata": "qgCjBg==",
          "dtype": "i2"
         },
         "yaxis": "y"
        }
       ],
       "layout": {
        "annotations": [
         {
          "align": "left",
          "bordercolor": "black",
          "borderwidth": 1,
          "showarrow": false,
          "text": "Value count of distribution of Yes & No are<br>90.3% & 9.7% percentage respectively.",
          "x": 1.4,
          "xref": "paper",
          "y": 1.3,
          "yref": "paper"
         }
        ],
        "barmode": "group",
        "legend": {
         "title": {
          "text": "Churn"
         },
         "tracegroupgap": 0
        },
        "margin": {
         "r": 400
        },
        "template": {
         "data": {
          "bar": [
           {
            "error_x": {
             "color": "#2a3f5f"
            },
            "error_y": {
             "color": "#2a3f5f"
            },
            "marker": {
             "line": {
              "color": "#E5ECF6",
              "width": 0.5
             },
             "pattern": {
              "fillmode": "overlay",
              "size": 10,
              "solidity": 0.2
             }
            },
            "type": "bar"
           }
          ],
          "barpolar": [
           {
            "marker": {
             "line": {
              "color": "#E5ECF6",
              "width": 0.5
             },
             "pattern": {
              "fillmode": "overlay",
              "size": 10,
              "solidity": 0.2
             }
            },
            "type": "barpolar"
           }
          ],
          "carpet": [
           {
            "aaxis": {
             "endlinecolor": "#2a3f5f",
             "gridcolor": "white",
             "linecolor": "white",
             "minorgridcolor": "white",
             "startlinecolor": "#2a3f5f"
            },
            "baxis": {
             "endlinecolor": "#2a3f5f",
             "gridcolor": "white",
             "linecolor": "white",
             "minorgridcolor": "white",
             "startlinecolor": "#2a3f5f"
            },
            "type": "carpet"
           }
          ],
          "choropleth": [
           {
            "colorbar": {
             "outlinewidth": 0,
             "ticks": ""
            },
            "type": "choropleth"
           }
          ],
          "contour": [
           {
            "colorbar": {
             "outlinewidth": 0,
             "ticks": ""
            },
            "colorscale": [
             [
              0,
              "#0d0887"
             ],
             [
              0.1111111111111111,
              "#46039f"
             ],
             [
              0.2222222222222222,
              "#7201a8"
             ],
             [
              0.3333333333333333,
              "#9c179e"
             ],
             [
              0.4444444444444444,
              "#bd3786"
             ],
             [
              0.5555555555555556,
              "#d8576b"
             ],
             [
              0.6666666666666666,
              "#ed7953"
             ],
             [
              0.7777777777777778,
              "#fb9f3a"
             ],
             [
              0.8888888888888888,
              "#fdca26"
             ],
             [
              1,
              "#f0f921"
             ]
            ],
            "type": "contour"
           }
          ],
          "contourcarpet": [
           {
            "colorbar": {
             "outlinewidth": 0,
             "ticks": ""
            },
            "type": "contourcarpet"
           }
          ],
          "heatmap": [
           {
            "colorbar": {
             "outlinewidth": 0,
             "ticks": ""
            },
            "colorscale": [
             [
              0,
              "#0d0887"
             ],
             [
              0.1111111111111111,
              "#46039f"
             ],
             [
              0.2222222222222222,
              "#7201a8"
             ],
             [
              0.3333333333333333,
              "#9c179e"
             ],
             [
              0.4444444444444444,
              "#bd3786"
             ],
             [
              0.5555555555555556,
              "#d8576b"
             ],
             [
              0.6666666666666666,
              "#ed7953"
             ],
             [
              0.7777777777777778,
              "#fb9f3a"
             ],
             [
              0.8888888888888888,
              "#fdca26"
             ],
             [
              1,
              "#f0f921"
             ]
            ],
            "type": "heatmap"
           }
          ],
          "histogram": [
           {
            "marker": {
             "pattern": {
              "fillmode": "overlay",
              "size": 10,
              "solidity": 0.2
             }
            },
            "type": "histogram"
           }
          ],
          "histogram2d": [
           {
            "colorbar": {
             "outlinewidth": 0,
             "ticks": ""
            },
            "colorscale": [
             [
              0,
              "#0d0887"
             ],
             [
              0.1111111111111111,
              "#46039f"
             ],
             [
              0.2222222222222222,
              "#7201a8"
             ],
             [
              0.3333333333333333,
              "#9c179e"
             ],
             [
              0.4444444444444444,
              "#bd3786"
             ],
             [
              0.5555555555555556,
              "#d8576b"
             ],
             [
              0.6666666666666666,
              "#ed7953"
             ],
             [
              0.7777777777777778,
              "#fb9f3a"
             ],
             [
              0.8888888888888888,
              "#fdca26"
             ],
             [
              1,
              "#f0f921"
             ]
            ],
            "type": "histogram2d"
           }
          ],
          "histogram2dcontour": [
           {
            "colorbar": {
             "outlinewidth": 0,
             "ticks": ""
            },
            "colorscale": [
             [
              0,
              "#0d0887"
             ],
             [
              0.1111111111111111,
              "#46039f"
             ],
             [
              0.2222222222222222,
              "#7201a8"
             ],
             [
              0.3333333333333333,
              "#9c179e"
             ],
             [
              0.4444444444444444,
              "#bd3786"
             ],
             [
              0.5555555555555556,
              "#d8576b"
             ],
             [
              0.6666666666666666,
              "#ed7953"
             ],
             [
              0.7777777777777778,
              "#fb9f3a"
             ],
             [
              0.8888888888888888,
              "#fdca26"
             ],
             [
              1,
              "#f0f921"
             ]
            ],
            "type": "histogram2dcontour"
           }
          ],
          "mesh3d": [
           {
            "colorbar": {
             "outlinewidth": 0,
             "ticks": ""
            },
            "type": "mesh3d"
           }
          ],
          "parcoords": [
           {
            "line": {
             "colorbar": {
              "outlinewidth": 0,
              "ticks": ""
             }
            },
            "type": "parcoords"
           }
          ],
          "pie": [
           {
            "automargin": true,
            "type": "pie"
           }
          ],
          "scatter": [
           {
            "fillpattern": {
             "fillmode": "overlay",
             "size": 10,
             "solidity": 0.2
            },
            "type": "scatter"
           }
          ],
          "scatter3d": [
           {
            "line": {
             "colorbar": {
              "outlinewidth": 0,
              "ticks": ""
             }
            },
            "marker": {
             "colorbar": {
              "outlinewidth": 0,
              "ticks": ""
             }
            },
            "type": "scatter3d"
           }
          ],
          "scattercarpet": [
           {
            "marker": {
             "colorbar": {
              "outlinewidth": 0,
              "ticks": ""
             }
            },
            "type": "scattercarpet"
           }
          ],
          "scattergeo": [
           {
            "marker": {
             "colorbar": {
              "outlinewidth": 0,
              "ticks": ""
             }
            },
            "type": "scattergeo"
           }
          ],
          "scattergl": [
           {
            "marker": {
             "colorbar": {
              "outlinewidth": 0,
              "ticks": ""
             }
            },
            "type": "scattergl"
           }
          ],
          "scattermap": [
           {
            "marker": {
             "colorbar": {
              "outlinewidth": 0,
              "ticks": ""
             }
            },
            "type": "scattermap"
           }
          ],
          "scattermapbox": [
           {
            "marker": {
             "colorbar": {
              "outlinewidth": 0,
              "ticks": ""
             }
            },
            "type": "scattermapbox"
           }
          ],
          "scatterpolar": [
           {
            "marker": {
             "colorbar": {
              "outlinewidth": 0,
              "ticks": ""
             }
            },
            "type": "scatterpolar"
           }
          ],
          "scatterpolargl": [
           {
            "marker": {
             "colorbar": {
              "outlinewidth": 0,
              "ticks": ""
             }
            },
            "type": "scatterpolargl"
           }
          ],
          "scatterternary": [
           {
            "marker": {
             "colorbar": {
              "outlinewidth": 0,
              "ticks": ""
             }
            },
            "type": "scatterternary"
           }
          ],
          "surface": [
           {
            "colorbar": {
             "outlinewidth": 0,
             "ticks": ""
            },
            "colorscale": [
             [
              0,
              "#0d0887"
             ],
             [
              0.1111111111111111,
              "#46039f"
             ],
             [
              0.2222222222222222,
              "#7201a8"
             ],
             [
              0.3333333333333333,
              "#9c179e"
             ],
             [
              0.4444444444444444,
              "#bd3786"
             ],
             [
              0.5555555555555556,
              "#d8576b"
             ],
             [
              0.6666666666666666,
              "#ed7953"
             ],
             [
              0.7777777777777778,
              "#fb9f3a"
             ],
             [
              0.8888888888888888,
              "#fdca26"
             ],
             [
              1,
              "#f0f921"
             ]
            ],
            "type": "surface"
           }
          ],
          "table": [
           {
            "cells": {
             "fill": {
              "color": "#EBF0F8"
             },
             "line": {
              "color": "white"
             }
            },
            "header": {
             "fill": {
              "color": "#C8D4E3"
             },
             "line": {
              "color": "white"
             }
            },
            "type": "table"
           }
          ]
         },
         "layout": {
          "annotationdefaults": {
           "arrowcolor": "#2a3f5f",
           "arrowhead": 0,
           "arrowwidth": 1
          },
          "autotypenumbers": "strict",
          "coloraxis": {
           "colorbar": {
            "outlinewidth": 0,
            "ticks": ""
           }
          },
          "colorscale": {
           "diverging": [
            [
             0,
             "#8e0152"
            ],
            [
             0.1,
             "#c51b7d"
            ],
            [
             0.2,
             "#de77ae"
            ],
            [
             0.3,
             "#f1b6da"
            ],
            [
             0.4,
             "#fde0ef"
            ],
            [
             0.5,
             "#f7f7f7"
            ],
            [
             0.6,
             "#e6f5d0"
            ],
            [
             0.7,
             "#b8e186"
            ],
            [
             0.8,
             "#7fbc41"
            ],
            [
             0.9,
             "#4d9221"
            ],
            [
             1,
             "#276419"
            ]
           ],
           "sequential": [
            [
             0,
             "#0d0887"
            ],
            [
             0.1111111111111111,
             "#46039f"
            ],
            [
             0.2222222222222222,
             "#7201a8"
            ],
            [
             0.3333333333333333,
             "#9c179e"
            ],
            [
             0.4444444444444444,
             "#bd3786"
            ],
            [
             0.5555555555555556,
             "#d8576b"
            ],
            [
             0.6666666666666666,
             "#ed7953"
            ],
            [
             0.7777777777777778,
             "#fb9f3a"
            ],
            [
             0.8888888888888888,
             "#fdca26"
            ],
            [
             1,
             "#f0f921"
            ]
           ],
           "sequentialminus": [
            [
             0,
             "#0d0887"
            ],
            [
             0.1111111111111111,
             "#46039f"
            ],
            [
             0.2222222222222222,
             "#7201a8"
            ],
            [
             0.3333333333333333,
             "#9c179e"
            ],
            [
             0.4444444444444444,
             "#bd3786"
            ],
            [
             0.5555555555555556,
             "#d8576b"
            ],
            [
             0.6666666666666666,
             "#ed7953"
            ],
            [
             0.7777777777777778,
             "#fb9f3a"
            ],
            [
             0.8888888888888888,
             "#fdca26"
            ],
            [
             1,
             "#f0f921"
            ]
           ]
          },
          "colorway": [
           "#636efa",
           "#EF553B",
           "#00cc96",
           "#ab63fa",
           "#FFA15A",
           "#19d3f3",
           "#FF6692",
           "#B6E880",
           "#FF97FF",
           "#FECB52"
          ],
          "font": {
           "color": "#2a3f5f"
          },
          "geo": {
           "bgcolor": "white",
           "lakecolor": "white",
           "landcolor": "#E5ECF6",
           "showlakes": true,
           "showland": true,
           "subunitcolor": "white"
          },
          "hoverlabel": {
           "align": "left"
          },
          "hovermode": "closest",
          "mapbox": {
           "style": "light"
          },
          "paper_bgcolor": "white",
          "plot_bgcolor": "#E5ECF6",
          "polar": {
           "angularaxis": {
            "gridcolor": "white",
            "linecolor": "white",
            "ticks": ""
           },
           "bgcolor": "#E5ECF6",
           "radialaxis": {
            "gridcolor": "white",
            "linecolor": "white",
            "ticks": ""
           }
          },
          "scene": {
           "xaxis": {
            "backgroundcolor": "#E5ECF6",
            "gridcolor": "white",
            "gridwidth": 2,
            "linecolor": "white",
            "showbackground": true,
            "ticks": "",
            "zerolinecolor": "white"
           },
           "yaxis": {
            "backgroundcolor": "#E5ECF6",
            "gridcolor": "white",
            "gridwidth": 2,
            "linecolor": "white",
            "showbackground": true,
            "ticks": "",
            "zerolinecolor": "white"
           },
           "zaxis": {
            "backgroundcolor": "#E5ECF6",
            "gridcolor": "white",
            "gridwidth": 2,
            "linecolor": "white",
            "showbackground": true,
            "ticks": "",
            "zerolinecolor": "white"
           }
          },
          "shapedefaults": {
           "line": {
            "color": "#2a3f5f"
           }
          },
          "ternary": {
           "aaxis": {
            "gridcolor": "white",
            "linecolor": "white",
            "ticks": ""
           },
           "baxis": {
            "gridcolor": "white",
            "linecolor": "white",
            "ticks": ""
           },
           "bgcolor": "#E5ECF6",
           "caxis": {
            "gridcolor": "white",
            "linecolor": "white",
            "ticks": ""
           }
          },
          "title": {
           "x": 0.05
          },
          "xaxis": {
           "automargin": true,
           "gridcolor": "white",
           "linecolor": "white",
           "ticks": "",
           "title": {
            "standoff": 15
           },
           "zerolinecolor": "white",
           "zerolinewidth": 2
          },
          "yaxis": {
           "automargin": true,
           "gridcolor": "white",
           "linecolor": "white",
           "ticks": "",
           "title": {
            "standoff": 15
           },
           "zerolinecolor": "white",
           "zerolinewidth": 2
          }
         }
        },
        "title": {
         "text": "Churn rate by PhoneService"
        },
        "xaxis": {
         "anchor": "y",
         "domain": [
          0,
          1
         ],
         "title": {
          "text": "PhoneService"
         }
        },
        "yaxis": {
         "anchor": "x",
         "domain": [
          0,
          1
         ],
         "title": {
          "text": "Count"
         }
        }
       }
      }
     },
     "metadata": {},
     "output_type": "display_data"
    },
    {
     "name": "stderr",
     "output_type": "stream",
     "text": [
      "C:\\Users\\Asus\\AppData\\Local\\Temp\\ipykernel_19164\\1367734987.py:7: FutureWarning:\n",
      "\n",
      "Series.__getitem__ treating keys as positions is deprecated. In a future version, integer keys will always be treated as labels (consistent with DataFrame behavior). To access a value by position, use `ser.iloc[pos]`\n",
      "\n",
      "C:\\Users\\Asus\\AppData\\Local\\Temp\\ipykernel_19164\\1367734987.py:9: FutureWarning:\n",
      "\n",
      "Series.__getitem__ treating keys as positions is deprecated. In a future version, integer keys will always be treated as labels (consistent with DataFrame behavior). To access a value by position, use `ser.iloc[pos]`\n",
      "\n"
     ]
    },
    {
     "data": {
      "application/vnd.plotly.v1+json": {
       "config": {
        "plotlyServerURL": "https://plot.ly"
       },
       "data": [
        {
         "alignmentgroup": "True",
         "hovertemplate": "Churn=No<br>MultipleLines=%{x}<br>Count=%{y}<extra></extra>",
         "legendgroup": "No",
         "marker": {
          "color": "green",
          "pattern": {
           "shape": ""
          }
         },
         "name": "No",
         "offsetgroup": "No",
         "orientation": "v",
         "showlegend": true,
         "textposition": "auto",
         "type": "bar",
         "x": [
          "No",
          "No phone service",
          "Yes"
         ],
         "xaxis": "x",
         "y": {
          "bdata": "7QkAAkkI",
          "dtype": "i2"
         },
         "yaxis": "y"
        },
        {
         "alignmentgroup": "True",
         "hovertemplate": "Churn=Yes<br>MultipleLines=%{x}<br>Count=%{y}<extra></extra>",
         "legendgroup": "Yes",
         "marker": {
          "color": "red",
          "pattern": {
           "shape": ""
          }
         },
         "name": "Yes",
         "offsetgroup": "Yes",
         "orientation": "v",
         "showlegend": true,
         "textposition": "auto",
         "type": "bar",
         "x": [
          "No",
          "No phone service",
          "Yes"
         ],
         "xaxis": "x",
         "y": {
          "bdata": "UQOqAFID",
          "dtype": "i2"
         },
         "yaxis": "y"
        }
       ],
       "layout": {
        "annotations": [
         {
          "align": "left",
          "bordercolor": "black",
          "borderwidth": 1,
          "showarrow": false,
          "text": "Value count of distribution of No, Yes & No phone service are<br>48.1%, 42.2% & 9.7% percentage respectively.",
          "x": 1.4,
          "xref": "paper",
          "y": 1.3,
          "yref": "paper"
         }
        ],
        "barmode": "group",
        "legend": {
         "title": {
          "text": "Churn"
         },
         "tracegroupgap": 0
        },
        "margin": {
         "r": 400
        },
        "template": {
         "data": {
          "bar": [
           {
            "error_x": {
             "color": "#2a3f5f"
            },
            "error_y": {
             "color": "#2a3f5f"
            },
            "marker": {
             "line": {
              "color": "#E5ECF6",
              "width": 0.5
             },
             "pattern": {
              "fillmode": "overlay",
              "size": 10,
              "solidity": 0.2
             }
            },
            "type": "bar"
           }
          ],
          "barpolar": [
           {
            "marker": {
             "line": {
              "color": "#E5ECF6",
              "width": 0.5
             },
             "pattern": {
              "fillmode": "overlay",
              "size": 10,
              "solidity": 0.2
             }
            },
            "type": "barpolar"
           }
          ],
          "carpet": [
           {
            "aaxis": {
             "endlinecolor": "#2a3f5f",
             "gridcolor": "white",
             "linecolor": "white",
             "minorgridcolor": "white",
             "startlinecolor": "#2a3f5f"
            },
            "baxis": {
             "endlinecolor": "#2a3f5f",
             "gridcolor": "white",
             "linecolor": "white",
             "minorgridcolor": "white",
             "startlinecolor": "#2a3f5f"
            },
            "type": "carpet"
           }
          ],
          "choropleth": [
           {
            "colorbar": {
             "outlinewidth": 0,
             "ticks": ""
            },
            "type": "choropleth"
           }
          ],
          "contour": [
           {
            "colorbar": {
             "outlinewidth": 0,
             "ticks": ""
            },
            "colorscale": [
             [
              0,
              "#0d0887"
             ],
             [
              0.1111111111111111,
              "#46039f"
             ],
             [
              0.2222222222222222,
              "#7201a8"
             ],
             [
              0.3333333333333333,
              "#9c179e"
             ],
             [
              0.4444444444444444,
              "#bd3786"
             ],
             [
              0.5555555555555556,
              "#d8576b"
             ],
             [
              0.6666666666666666,
              "#ed7953"
             ],
             [
              0.7777777777777778,
              "#fb9f3a"
             ],
             [
              0.8888888888888888,
              "#fdca26"
             ],
             [
              1,
              "#f0f921"
             ]
            ],
            "type": "contour"
           }
          ],
          "contourcarpet": [
           {
            "colorbar": {
             "outlinewidth": 0,
             "ticks": ""
            },
            "type": "contourcarpet"
           }
          ],
          "heatmap": [
           {
            "colorbar": {
             "outlinewidth": 0,
             "ticks": ""
            },
            "colorscale": [
             [
              0,
              "#0d0887"
             ],
             [
              0.1111111111111111,
              "#46039f"
             ],
             [
              0.2222222222222222,
              "#7201a8"
             ],
             [
              0.3333333333333333,
              "#9c179e"
             ],
             [
              0.4444444444444444,
              "#bd3786"
             ],
             [
              0.5555555555555556,
              "#d8576b"
             ],
             [
              0.6666666666666666,
              "#ed7953"
             ],
             [
              0.7777777777777778,
              "#fb9f3a"
             ],
             [
              0.8888888888888888,
              "#fdca26"
             ],
             [
              1,
              "#f0f921"
             ]
            ],
            "type": "heatmap"
           }
          ],
          "histogram": [
           {
            "marker": {
             "pattern": {
              "fillmode": "overlay",
              "size": 10,
              "solidity": 0.2
             }
            },
            "type": "histogram"
           }
          ],
          "histogram2d": [
           {
            "colorbar": {
             "outlinewidth": 0,
             "ticks": ""
            },
            "colorscale": [
             [
              0,
              "#0d0887"
             ],
             [
              0.1111111111111111,
              "#46039f"
             ],
             [
              0.2222222222222222,
              "#7201a8"
             ],
             [
              0.3333333333333333,
              "#9c179e"
             ],
             [
              0.4444444444444444,
              "#bd3786"
             ],
             [
              0.5555555555555556,
              "#d8576b"
             ],
             [
              0.6666666666666666,
              "#ed7953"
             ],
             [
              0.7777777777777778,
              "#fb9f3a"
             ],
             [
              0.8888888888888888,
              "#fdca26"
             ],
             [
              1,
              "#f0f921"
             ]
            ],
            "type": "histogram2d"
           }
          ],
          "histogram2dcontour": [
           {
            "colorbar": {
             "outlinewidth": 0,
             "ticks": ""
            },
            "colorscale": [
             [
              0,
              "#0d0887"
             ],
             [
              0.1111111111111111,
              "#46039f"
             ],
             [
              0.2222222222222222,
              "#7201a8"
             ],
             [
              0.3333333333333333,
              "#9c179e"
             ],
             [
              0.4444444444444444,
              "#bd3786"
             ],
             [
              0.5555555555555556,
              "#d8576b"
             ],
             [
              0.6666666666666666,
              "#ed7953"
             ],
             [
              0.7777777777777778,
              "#fb9f3a"
             ],
             [
              0.8888888888888888,
              "#fdca26"
             ],
             [
              1,
              "#f0f921"
             ]
            ],
            "type": "histogram2dcontour"
           }
          ],
          "mesh3d": [
           {
            "colorbar": {
             "outlinewidth": 0,
             "ticks": ""
            },
            "type": "mesh3d"
           }
          ],
          "parcoords": [
           {
            "line": {
             "colorbar": {
              "outlinewidth": 0,
              "ticks": ""
             }
            },
            "type": "parcoords"
           }
          ],
          "pie": [
           {
            "automargin": true,
            "type": "pie"
           }
          ],
          "scatter": [
           {
            "fillpattern": {
             "fillmode": "overlay",
             "size": 10,
             "solidity": 0.2
            },
            "type": "scatter"
           }
          ],
          "scatter3d": [
           {
            "line": {
             "colorbar": {
              "outlinewidth": 0,
              "ticks": ""
             }
            },
            "marker": {
             "colorbar": {
              "outlinewidth": 0,
              "ticks": ""
             }
            },
            "type": "scatter3d"
           }
          ],
          "scattercarpet": [
           {
            "marker": {
             "colorbar": {
              "outlinewidth": 0,
              "ticks": ""
             }
            },
            "type": "scattercarpet"
           }
          ],
          "scattergeo": [
           {
            "marker": {
             "colorbar": {
              "outlinewidth": 0,
              "ticks": ""
             }
            },
            "type": "scattergeo"
           }
          ],
          "scattergl": [
           {
            "marker": {
             "colorbar": {
              "outlinewidth": 0,
              "ticks": ""
             }
            },
            "type": "scattergl"
           }
          ],
          "scattermap": [
           {
            "marker": {
             "colorbar": {
              "outlinewidth": 0,
              "ticks": ""
             }
            },
            "type": "scattermap"
           }
          ],
          "scattermapbox": [
           {
            "marker": {
             "colorbar": {
              "outlinewidth": 0,
              "ticks": ""
             }
            },
            "type": "scattermapbox"
           }
          ],
          "scatterpolar": [
           {
            "marker": {
             "colorbar": {
              "outlinewidth": 0,
              "ticks": ""
             }
            },
            "type": "scatterpolar"
           }
          ],
          "scatterpolargl": [
           {
            "marker": {
             "colorbar": {
              "outlinewidth": 0,
              "ticks": ""
             }
            },
            "type": "scatterpolargl"
           }
          ],
          "scatterternary": [
           {
            "marker": {
             "colorbar": {
              "outlinewidth": 0,
              "ticks": ""
             }
            },
            "type": "scatterternary"
           }
          ],
          "surface": [
           {
            "colorbar": {
             "outlinewidth": 0,
             "ticks": ""
            },
            "colorscale": [
             [
              0,
              "#0d0887"
             ],
             [
              0.1111111111111111,
              "#46039f"
             ],
             [
              0.2222222222222222,
              "#7201a8"
             ],
             [
              0.3333333333333333,
              "#9c179e"
             ],
             [
              0.4444444444444444,
              "#bd3786"
             ],
             [
              0.5555555555555556,
              "#d8576b"
             ],
             [
              0.6666666666666666,
              "#ed7953"
             ],
             [
              0.7777777777777778,
              "#fb9f3a"
             ],
             [
              0.8888888888888888,
              "#fdca26"
             ],
             [
              1,
              "#f0f921"
             ]
            ],
            "type": "surface"
           }
          ],
          "table": [
           {
            "cells": {
             "fill": {
              "color": "#EBF0F8"
             },
             "line": {
              "color": "white"
             }
            },
            "header": {
             "fill": {
              "color": "#C8D4E3"
             },
             "line": {
              "color": "white"
             }
            },
            "type": "table"
           }
          ]
         },
         "layout": {
          "annotationdefaults": {
           "arrowcolor": "#2a3f5f",
           "arrowhead": 0,
           "arrowwidth": 1
          },
          "autotypenumbers": "strict",
          "coloraxis": {
           "colorbar": {
            "outlinewidth": 0,
            "ticks": ""
           }
          },
          "colorscale": {
           "diverging": [
            [
             0,
             "#8e0152"
            ],
            [
             0.1,
             "#c51b7d"
            ],
            [
             0.2,
             "#de77ae"
            ],
            [
             0.3,
             "#f1b6da"
            ],
            [
             0.4,
             "#fde0ef"
            ],
            [
             0.5,
             "#f7f7f7"
            ],
            [
             0.6,
             "#e6f5d0"
            ],
            [
             0.7,
             "#b8e186"
            ],
            [
             0.8,
             "#7fbc41"
            ],
            [
             0.9,
             "#4d9221"
            ],
            [
             1,
             "#276419"
            ]
           ],
           "sequential": [
            [
             0,
             "#0d0887"
            ],
            [
             0.1111111111111111,
             "#46039f"
            ],
            [
             0.2222222222222222,
             "#7201a8"
            ],
            [
             0.3333333333333333,
             "#9c179e"
            ],
            [
             0.4444444444444444,
             "#bd3786"
            ],
            [
             0.5555555555555556,
             "#d8576b"
            ],
            [
             0.6666666666666666,
             "#ed7953"
            ],
            [
             0.7777777777777778,
             "#fb9f3a"
            ],
            [
             0.8888888888888888,
             "#fdca26"
            ],
            [
             1,
             "#f0f921"
            ]
           ],
           "sequentialminus": [
            [
             0,
             "#0d0887"
            ],
            [
             0.1111111111111111,
             "#46039f"
            ],
            [
             0.2222222222222222,
             "#7201a8"
            ],
            [
             0.3333333333333333,
             "#9c179e"
            ],
            [
             0.4444444444444444,
             "#bd3786"
            ],
            [
             0.5555555555555556,
             "#d8576b"
            ],
            [
             0.6666666666666666,
             "#ed7953"
            ],
            [
             0.7777777777777778,
             "#fb9f3a"
            ],
            [
             0.8888888888888888,
             "#fdca26"
            ],
            [
             1,
             "#f0f921"
            ]
           ]
          },
          "colorway": [
           "#636efa",
           "#EF553B",
           "#00cc96",
           "#ab63fa",
           "#FFA15A",
           "#19d3f3",
           "#FF6692",
           "#B6E880",
           "#FF97FF",
           "#FECB52"
          ],
          "font": {
           "color": "#2a3f5f"
          },
          "geo": {
           "bgcolor": "white",
           "lakecolor": "white",
           "landcolor": "#E5ECF6",
           "showlakes": true,
           "showland": true,
           "subunitcolor": "white"
          },
          "hoverlabel": {
           "align": "left"
          },
          "hovermode": "closest",
          "mapbox": {
           "style": "light"
          },
          "paper_bgcolor": "white",
          "plot_bgcolor": "#E5ECF6",
          "polar": {
           "angularaxis": {
            "gridcolor": "white",
            "linecolor": "white",
            "ticks": ""
           },
           "bgcolor": "#E5ECF6",
           "radialaxis": {
            "gridcolor": "white",
            "linecolor": "white",
            "ticks": ""
           }
          },
          "scene": {
           "xaxis": {
            "backgroundcolor": "#E5ECF6",
            "gridcolor": "white",
            "gridwidth": 2,
            "linecolor": "white",
            "showbackground": true,
            "ticks": "",
            "zerolinecolor": "white"
           },
           "yaxis": {
            "backgroundcolor": "#E5ECF6",
            "gridcolor": "white",
            "gridwidth": 2,
            "linecolor": "white",
            "showbackground": true,
            "ticks": "",
            "zerolinecolor": "white"
           },
           "zaxis": {
            "backgroundcolor": "#E5ECF6",
            "gridcolor": "white",
            "gridwidth": 2,
            "linecolor": "white",
            "showbackground": true,
            "ticks": "",
            "zerolinecolor": "white"
           }
          },
          "shapedefaults": {
           "line": {
            "color": "#2a3f5f"
           }
          },
          "ternary": {
           "aaxis": {
            "gridcolor": "white",
            "linecolor": "white",
            "ticks": ""
           },
           "baxis": {
            "gridcolor": "white",
            "linecolor": "white",
            "ticks": ""
           },
           "bgcolor": "#E5ECF6",
           "caxis": {
            "gridcolor": "white",
            "linecolor": "white",
            "ticks": ""
           }
          },
          "title": {
           "x": 0.05
          },
          "xaxis": {
           "automargin": true,
           "gridcolor": "white",
           "linecolor": "white",
           "ticks": "",
           "title": {
            "standoff": 15
           },
           "zerolinecolor": "white",
           "zerolinewidth": 2
          },
          "yaxis": {
           "automargin": true,
           "gridcolor": "white",
           "linecolor": "white",
           "ticks": "",
           "title": {
            "standoff": 15
           },
           "zerolinecolor": "white",
           "zerolinewidth": 2
          }
         }
        },
        "title": {
         "text": "Churn rate by MultipleLines"
        },
        "xaxis": {
         "anchor": "y",
         "domain": [
          0,
          1
         ],
         "title": {
          "text": "MultipleLines"
         }
        },
        "yaxis": {
         "anchor": "x",
         "domain": [
          0,
          1
         ],
         "title": {
          "text": "Count"
         }
        }
       }
      }
     },
     "metadata": {},
     "output_type": "display_data"
    },
    {
     "name": "stderr",
     "output_type": "stream",
     "text": [
      "C:\\Users\\Asus\\AppData\\Local\\Temp\\ipykernel_19164\\1367734987.py:7: FutureWarning:\n",
      "\n",
      "Series.__getitem__ treating keys as positions is deprecated. In a future version, integer keys will always be treated as labels (consistent with DataFrame behavior). To access a value by position, use `ser.iloc[pos]`\n",
      "\n",
      "C:\\Users\\Asus\\AppData\\Local\\Temp\\ipykernel_19164\\1367734987.py:9: FutureWarning:\n",
      "\n",
      "Series.__getitem__ treating keys as positions is deprecated. In a future version, integer keys will always be treated as labels (consistent with DataFrame behavior). To access a value by position, use `ser.iloc[pos]`\n",
      "\n"
     ]
    },
    {
     "data": {
      "application/vnd.plotly.v1+json": {
       "config": {
        "plotlyServerURL": "https://plot.ly"
       },
       "data": [
        {
         "alignmentgroup": "True",
         "hovertemplate": "Churn=No<br>InternetService=%{x}<br>Count=%{y}<extra></extra>",
         "legendgroup": "No",
         "marker": {
          "color": "green",
          "pattern": {
           "shape": ""
          }
         },
         "name": "No",
         "offsetgroup": "No",
         "orientation": "v",
         "showlegend": true,
         "textposition": "auto",
         "type": "bar",
         "x": [
          "DSL",
          "Fiber optic",
          "No"
         ],
         "xaxis": "x",
         "y": {
          "bdata": "qgcHB4UF",
          "dtype": "i2"
         },
         "yaxis": "y"
        },
        {
         "alignmentgroup": "True",
         "hovertemplate": "Churn=Yes<br>InternetService=%{x}<br>Count=%{y}<extra></extra>",
         "legendgroup": "Yes",
         "marker": {
          "color": "red",
          "pattern": {
           "shape": ""
          }
         },
         "name": "Yes",
         "offsetgroup": "Yes",
         "orientation": "v",
         "showlegend": true,
         "textposition": "auto",
         "type": "bar",
         "x": [
          "DSL",
          "Fiber optic",
          "No"
         ],
         "xaxis": "x",
         "y": {
          "bdata": "ywERBXEA",
          "dtype": "i2"
         },
         "yaxis": "y"
        }
       ],
       "layout": {
        "annotations": [
         {
          "align": "left",
          "bordercolor": "black",
          "borderwidth": 1,
          "showarrow": false,
          "text": "Value count of distribution of Fiber optic, DSL & No are<br>44.0%, 34.4% & 21.7% percentage respectively.",
          "x": 1.4,
          "xref": "paper",
          "y": 1.3,
          "yref": "paper"
         }
        ],
        "barmode": "group",
        "legend": {
         "title": {
          "text": "Churn"
         },
         "tracegroupgap": 0
        },
        "margin": {
         "r": 400
        },
        "template": {
         "data": {
          "bar": [
           {
            "error_x": {
             "color": "#2a3f5f"
            },
            "error_y": {
             "color": "#2a3f5f"
            },
            "marker": {
             "line": {
              "color": "#E5ECF6",
              "width": 0.5
             },
             "pattern": {
              "fillmode": "overlay",
              "size": 10,
              "solidity": 0.2
             }
            },
            "type": "bar"
           }
          ],
          "barpolar": [
           {
            "marker": {
             "line": {
              "color": "#E5ECF6",
              "width": 0.5
             },
             "pattern": {
              "fillmode": "overlay",
              "size": 10,
              "solidity": 0.2
             }
            },
            "type": "barpolar"
           }
          ],
          "carpet": [
           {
            "aaxis": {
             "endlinecolor": "#2a3f5f",
             "gridcolor": "white",
             "linecolor": "white",
             "minorgridcolor": "white",
             "startlinecolor": "#2a3f5f"
            },
            "baxis": {
             "endlinecolor": "#2a3f5f",
             "gridcolor": "white",
             "linecolor": "white",
             "minorgridcolor": "white",
             "startlinecolor": "#2a3f5f"
            },
            "type": "carpet"
           }
          ],
          "choropleth": [
           {
            "colorbar": {
             "outlinewidth": 0,
             "ticks": ""
            },
            "type": "choropleth"
           }
          ],
          "contour": [
           {
            "colorbar": {
             "outlinewidth": 0,
             "ticks": ""
            },
            "colorscale": [
             [
              0,
              "#0d0887"
             ],
             [
              0.1111111111111111,
              "#46039f"
             ],
             [
              0.2222222222222222,
              "#7201a8"
             ],
             [
              0.3333333333333333,
              "#9c179e"
             ],
             [
              0.4444444444444444,
              "#bd3786"
             ],
             [
              0.5555555555555556,
              "#d8576b"
             ],
             [
              0.6666666666666666,
              "#ed7953"
             ],
             [
              0.7777777777777778,
              "#fb9f3a"
             ],
             [
              0.8888888888888888,
              "#fdca26"
             ],
             [
              1,
              "#f0f921"
             ]
            ],
            "type": "contour"
           }
          ],
          "contourcarpet": [
           {
            "colorbar": {
             "outlinewidth": 0,
             "ticks": ""
            },
            "type": "contourcarpet"
           }
          ],
          "heatmap": [
           {
            "colorbar": {
             "outlinewidth": 0,
             "ticks": ""
            },
            "colorscale": [
             [
              0,
              "#0d0887"
             ],
             [
              0.1111111111111111,
              "#46039f"
             ],
             [
              0.2222222222222222,
              "#7201a8"
             ],
             [
              0.3333333333333333,
              "#9c179e"
             ],
             [
              0.4444444444444444,
              "#bd3786"
             ],
             [
              0.5555555555555556,
              "#d8576b"
             ],
             [
              0.6666666666666666,
              "#ed7953"
             ],
             [
              0.7777777777777778,
              "#fb9f3a"
             ],
             [
              0.8888888888888888,
              "#fdca26"
             ],
             [
              1,
              "#f0f921"
             ]
            ],
            "type": "heatmap"
           }
          ],
          "histogram": [
           {
            "marker": {
             "pattern": {
              "fillmode": "overlay",
              "size": 10,
              "solidity": 0.2
             }
            },
            "type": "histogram"
           }
          ],
          "histogram2d": [
           {
            "colorbar": {
             "outlinewidth": 0,
             "ticks": ""
            },
            "colorscale": [
             [
              0,
              "#0d0887"
             ],
             [
              0.1111111111111111,
              "#46039f"
             ],
             [
              0.2222222222222222,
              "#7201a8"
             ],
             [
              0.3333333333333333,
              "#9c179e"
             ],
             [
              0.4444444444444444,
              "#bd3786"
             ],
             [
              0.5555555555555556,
              "#d8576b"
             ],
             [
              0.6666666666666666,
              "#ed7953"
             ],
             [
              0.7777777777777778,
              "#fb9f3a"
             ],
             [
              0.8888888888888888,
              "#fdca26"
             ],
             [
              1,
              "#f0f921"
             ]
            ],
            "type": "histogram2d"
           }
          ],
          "histogram2dcontour": [
           {
            "colorbar": {
             "outlinewidth": 0,
             "ticks": ""
            },
            "colorscale": [
             [
              0,
              "#0d0887"
             ],
             [
              0.1111111111111111,
              "#46039f"
             ],
             [
              0.2222222222222222,
              "#7201a8"
             ],
             [
              0.3333333333333333,
              "#9c179e"
             ],
             [
              0.4444444444444444,
              "#bd3786"
             ],
             [
              0.5555555555555556,
              "#d8576b"
             ],
             [
              0.6666666666666666,
              "#ed7953"
             ],
             [
              0.7777777777777778,
              "#fb9f3a"
             ],
             [
              0.8888888888888888,
              "#fdca26"
             ],
             [
              1,
              "#f0f921"
             ]
            ],
            "type": "histogram2dcontour"
           }
          ],
          "mesh3d": [
           {
            "colorbar": {
             "outlinewidth": 0,
             "ticks": ""
            },
            "type": "mesh3d"
           }
          ],
          "parcoords": [
           {
            "line": {
             "colorbar": {
              "outlinewidth": 0,
              "ticks": ""
             }
            },
            "type": "parcoords"
           }
          ],
          "pie": [
           {
            "automargin": true,
            "type": "pie"
           }
          ],
          "scatter": [
           {
            "fillpattern": {
             "fillmode": "overlay",
             "size": 10,
             "solidity": 0.2
            },
            "type": "scatter"
           }
          ],
          "scatter3d": [
           {
            "line": {
             "colorbar": {
              "outlinewidth": 0,
              "ticks": ""
             }
            },
            "marker": {
             "colorbar": {
              "outlinewidth": 0,
              "ticks": ""
             }
            },
            "type": "scatter3d"
           }
          ],
          "scattercarpet": [
           {
            "marker": {
             "colorbar": {
              "outlinewidth": 0,
              "ticks": ""
             }
            },
            "type": "scattercarpet"
           }
          ],
          "scattergeo": [
           {
            "marker": {
             "colorbar": {
              "outlinewidth": 0,
              "ticks": ""
             }
            },
            "type": "scattergeo"
           }
          ],
          "scattergl": [
           {
            "marker": {
             "colorbar": {
              "outlinewidth": 0,
              "ticks": ""
             }
            },
            "type": "scattergl"
           }
          ],
          "scattermap": [
           {
            "marker": {
             "colorbar": {
              "outlinewidth": 0,
              "ticks": ""
             }
            },
            "type": "scattermap"
           }
          ],
          "scattermapbox": [
           {
            "marker": {
             "colorbar": {
              "outlinewidth": 0,
              "ticks": ""
             }
            },
            "type": "scattermapbox"
           }
          ],
          "scatterpolar": [
           {
            "marker": {
             "colorbar": {
              "outlinewidth": 0,
              "ticks": ""
             }
            },
            "type": "scatterpolar"
           }
          ],
          "scatterpolargl": [
           {
            "marker": {
             "colorbar": {
              "outlinewidth": 0,
              "ticks": ""
             }
            },
            "type": "scatterpolargl"
           }
          ],
          "scatterternary": [
           {
            "marker": {
             "colorbar": {
              "outlinewidth": 0,
              "ticks": ""
             }
            },
            "type": "scatterternary"
           }
          ],
          "surface": [
           {
            "colorbar": {
             "outlinewidth": 0,
             "ticks": ""
            },
            "colorscale": [
             [
              0,
              "#0d0887"
             ],
             [
              0.1111111111111111,
              "#46039f"
             ],
             [
              0.2222222222222222,
              "#7201a8"
             ],
             [
              0.3333333333333333,
              "#9c179e"
             ],
             [
              0.4444444444444444,
              "#bd3786"
             ],
             [
              0.5555555555555556,
              "#d8576b"
             ],
             [
              0.6666666666666666,
              "#ed7953"
             ],
             [
              0.7777777777777778,
              "#fb9f3a"
             ],
             [
              0.8888888888888888,
              "#fdca26"
             ],
             [
              1,
              "#f0f921"
             ]
            ],
            "type": "surface"
           }
          ],
          "table": [
           {
            "cells": {
             "fill": {
              "color": "#EBF0F8"
             },
             "line": {
              "color": "white"
             }
            },
            "header": {
             "fill": {
              "color": "#C8D4E3"
             },
             "line": {
              "color": "white"
             }
            },
            "type": "table"
           }
          ]
         },
         "layout": {
          "annotationdefaults": {
           "arrowcolor": "#2a3f5f",
           "arrowhead": 0,
           "arrowwidth": 1
          },
          "autotypenumbers": "strict",
          "coloraxis": {
           "colorbar": {
            "outlinewidth": 0,
            "ticks": ""
           }
          },
          "colorscale": {
           "diverging": [
            [
             0,
             "#8e0152"
            ],
            [
             0.1,
             "#c51b7d"
            ],
            [
             0.2,
             "#de77ae"
            ],
            [
             0.3,
             "#f1b6da"
            ],
            [
             0.4,
             "#fde0ef"
            ],
            [
             0.5,
             "#f7f7f7"
            ],
            [
             0.6,
             "#e6f5d0"
            ],
            [
             0.7,
             "#b8e186"
            ],
            [
             0.8,
             "#7fbc41"
            ],
            [
             0.9,
             "#4d9221"
            ],
            [
             1,
             "#276419"
            ]
           ],
           "sequential": [
            [
             0,
             "#0d0887"
            ],
            [
             0.1111111111111111,
             "#46039f"
            ],
            [
             0.2222222222222222,
             "#7201a8"
            ],
            [
             0.3333333333333333,
             "#9c179e"
            ],
            [
             0.4444444444444444,
             "#bd3786"
            ],
            [
             0.5555555555555556,
             "#d8576b"
            ],
            [
             0.6666666666666666,
             "#ed7953"
            ],
            [
             0.7777777777777778,
             "#fb9f3a"
            ],
            [
             0.8888888888888888,
             "#fdca26"
            ],
            [
             1,
             "#f0f921"
            ]
           ],
           "sequentialminus": [
            [
             0,
             "#0d0887"
            ],
            [
             0.1111111111111111,
             "#46039f"
            ],
            [
             0.2222222222222222,
             "#7201a8"
            ],
            [
             0.3333333333333333,
             "#9c179e"
            ],
            [
             0.4444444444444444,
             "#bd3786"
            ],
            [
             0.5555555555555556,
             "#d8576b"
            ],
            [
             0.6666666666666666,
             "#ed7953"
            ],
            [
             0.7777777777777778,
             "#fb9f3a"
            ],
            [
             0.8888888888888888,
             "#fdca26"
            ],
            [
             1,
             "#f0f921"
            ]
           ]
          },
          "colorway": [
           "#636efa",
           "#EF553B",
           "#00cc96",
           "#ab63fa",
           "#FFA15A",
           "#19d3f3",
           "#FF6692",
           "#B6E880",
           "#FF97FF",
           "#FECB52"
          ],
          "font": {
           "color": "#2a3f5f"
          },
          "geo": {
           "bgcolor": "white",
           "lakecolor": "white",
           "landcolor": "#E5ECF6",
           "showlakes": true,
           "showland": true,
           "subunitcolor": "white"
          },
          "hoverlabel": {
           "align": "left"
          },
          "hovermode": "closest",
          "mapbox": {
           "style": "light"
          },
          "paper_bgcolor": "white",
          "plot_bgcolor": "#E5ECF6",
          "polar": {
           "angularaxis": {
            "gridcolor": "white",
            "linecolor": "white",
            "ticks": ""
           },
           "bgcolor": "#E5ECF6",
           "radialaxis": {
            "gridcolor": "white",
            "linecolor": "white",
            "ticks": ""
           }
          },
          "scene": {
           "xaxis": {
            "backgroundcolor": "#E5ECF6",
            "gridcolor": "white",
            "gridwidth": 2,
            "linecolor": "white",
            "showbackground": true,
            "ticks": "",
            "zerolinecolor": "white"
           },
           "yaxis": {
            "backgroundcolor": "#E5ECF6",
            "gridcolor": "white",
            "gridwidth": 2,
            "linecolor": "white",
            "showbackground": true,
            "ticks": "",
            "zerolinecolor": "white"
           },
           "zaxis": {
            "backgroundcolor": "#E5ECF6",
            "gridcolor": "white",
            "gridwidth": 2,
            "linecolor": "white",
            "showbackground": true,
            "ticks": "",
            "zerolinecolor": "white"
           }
          },
          "shapedefaults": {
           "line": {
            "color": "#2a3f5f"
           }
          },
          "ternary": {
           "aaxis": {
            "gridcolor": "white",
            "linecolor": "white",
            "ticks": ""
           },
           "baxis": {
            "gridcolor": "white",
            "linecolor": "white",
            "ticks": ""
           },
           "bgcolor": "#E5ECF6",
           "caxis": {
            "gridcolor": "white",
            "linecolor": "white",
            "ticks": ""
           }
          },
          "title": {
           "x": 0.05
          },
          "xaxis": {
           "automargin": true,
           "gridcolor": "white",
           "linecolor": "white",
           "ticks": "",
           "title": {
            "standoff": 15
           },
           "zerolinecolor": "white",
           "zerolinewidth": 2
          },
          "yaxis": {
           "automargin": true,
           "gridcolor": "white",
           "linecolor": "white",
           "ticks": "",
           "title": {
            "standoff": 15
           },
           "zerolinecolor": "white",
           "zerolinewidth": 2
          }
         }
        },
        "title": {
         "text": "Churn rate by InternetService"
        },
        "xaxis": {
         "anchor": "y",
         "domain": [
          0,
          1
         ],
         "title": {
          "text": "InternetService"
         }
        },
        "yaxis": {
         "anchor": "x",
         "domain": [
          0,
          1
         ],
         "title": {
          "text": "Count"
         }
        }
       }
      }
     },
     "metadata": {},
     "output_type": "display_data"
    },
    {
     "name": "stderr",
     "output_type": "stream",
     "text": [
      "C:\\Users\\Asus\\AppData\\Local\\Temp\\ipykernel_19164\\1367734987.py:7: FutureWarning:\n",
      "\n",
      "Series.__getitem__ treating keys as positions is deprecated. In a future version, integer keys will always be treated as labels (consistent with DataFrame behavior). To access a value by position, use `ser.iloc[pos]`\n",
      "\n",
      "C:\\Users\\Asus\\AppData\\Local\\Temp\\ipykernel_19164\\1367734987.py:9: FutureWarning:\n",
      "\n",
      "Series.__getitem__ treating keys as positions is deprecated. In a future version, integer keys will always be treated as labels (consistent with DataFrame behavior). To access a value by position, use `ser.iloc[pos]`\n",
      "\n"
     ]
    },
    {
     "data": {
      "application/vnd.plotly.v1+json": {
       "config": {
        "plotlyServerURL": "https://plot.ly"
       },
       "data": [
        {
         "alignmentgroup": "True",
         "hovertemplate": "Churn=No<br>OnlineSecurity=%{x}<br>Count=%{y}<extra></extra>",
         "legendgroup": "No",
         "marker": {
          "color": "green",
          "pattern": {
           "shape": ""
          }
         },
         "name": "No",
         "offsetgroup": "No",
         "orientation": "v",
         "showlegend": true,
         "textposition": "auto",
         "type": "bar",
         "x": [
          "No",
          "No internet service",
          "Yes"
         ],
         "xaxis": "x",
         "y": {
          "bdata": "9QeFBbwG",
          "dtype": "i2"
         },
         "yaxis": "y"
        },
        {
         "alignmentgroup": "True",
         "hovertemplate": "Churn=Yes<br>OnlineSecurity=%{x}<br>Count=%{y}<extra></extra>",
         "legendgroup": "Yes",
         "marker": {
          "color": "red",
          "pattern": {
           "shape": ""
          }
         },
         "name": "Yes",
         "offsetgroup": "Yes",
         "orientation": "v",
         "showlegend": true,
         "textposition": "auto",
         "type": "bar",
         "x": [
          "No",
          "No internet service",
          "Yes"
         ],
         "xaxis": "x",
         "y": {
          "bdata": "tQVxACcB",
          "dtype": "i2"
         },
         "yaxis": "y"
        }
       ],
       "layout": {
        "annotations": [
         {
          "align": "left",
          "bordercolor": "black",
          "borderwidth": 1,
          "showarrow": false,
          "text": "Value count of distribution of No, Yes & No internet service are<br>49.7%, 28.7% & 21.7% percentage respectively.",
          "x": 1.4,
          "xref": "paper",
          "y": 1.3,
          "yref": "paper"
         }
        ],
        "barmode": "group",
        "legend": {
         "title": {
          "text": "Churn"
         },
         "tracegroupgap": 0
        },
        "margin": {
         "r": 400
        },
        "template": {
         "data": {
          "bar": [
           {
            "error_x": {
             "color": "#2a3f5f"
            },
            "error_y": {
             "color": "#2a3f5f"
            },
            "marker": {
             "line": {
              "color": "#E5ECF6",
              "width": 0.5
             },
             "pattern": {
              "fillmode": "overlay",
              "size": 10,
              "solidity": 0.2
             }
            },
            "type": "bar"
           }
          ],
          "barpolar": [
           {
            "marker": {
             "line": {
              "color": "#E5ECF6",
              "width": 0.5
             },
             "pattern": {
              "fillmode": "overlay",
              "size": 10,
              "solidity": 0.2
             }
            },
            "type": "barpolar"
           }
          ],
          "carpet": [
           {
            "aaxis": {
             "endlinecolor": "#2a3f5f",
             "gridcolor": "white",
             "linecolor": "white",
             "minorgridcolor": "white",
             "startlinecolor": "#2a3f5f"
            },
            "baxis": {
             "endlinecolor": "#2a3f5f",
             "gridcolor": "white",
             "linecolor": "white",
             "minorgridcolor": "white",
             "startlinecolor": "#2a3f5f"
            },
            "type": "carpet"
           }
          ],
          "choropleth": [
           {
            "colorbar": {
             "outlinewidth": 0,
             "ticks": ""
            },
            "type": "choropleth"
           }
          ],
          "contour": [
           {
            "colorbar": {
             "outlinewidth": 0,
             "ticks": ""
            },
            "colorscale": [
             [
              0,
              "#0d0887"
             ],
             [
              0.1111111111111111,
              "#46039f"
             ],
             [
              0.2222222222222222,
              "#7201a8"
             ],
             [
              0.3333333333333333,
              "#9c179e"
             ],
             [
              0.4444444444444444,
              "#bd3786"
             ],
             [
              0.5555555555555556,
              "#d8576b"
             ],
             [
              0.6666666666666666,
              "#ed7953"
             ],
             [
              0.7777777777777778,
              "#fb9f3a"
             ],
             [
              0.8888888888888888,
              "#fdca26"
             ],
             [
              1,
              "#f0f921"
             ]
            ],
            "type": "contour"
           }
          ],
          "contourcarpet": [
           {
            "colorbar": {
             "outlinewidth": 0,
             "ticks": ""
            },
            "type": "contourcarpet"
           }
          ],
          "heatmap": [
           {
            "colorbar": {
             "outlinewidth": 0,
             "ticks": ""
            },
            "colorscale": [
             [
              0,
              "#0d0887"
             ],
             [
              0.1111111111111111,
              "#46039f"
             ],
             [
              0.2222222222222222,
              "#7201a8"
             ],
             [
              0.3333333333333333,
              "#9c179e"
             ],
             [
              0.4444444444444444,
              "#bd3786"
             ],
             [
              0.5555555555555556,
              "#d8576b"
             ],
             [
              0.6666666666666666,
              "#ed7953"
             ],
             [
              0.7777777777777778,
              "#fb9f3a"
             ],
             [
              0.8888888888888888,
              "#fdca26"
             ],
             [
              1,
              "#f0f921"
             ]
            ],
            "type": "heatmap"
           }
          ],
          "histogram": [
           {
            "marker": {
             "pattern": {
              "fillmode": "overlay",
              "size": 10,
              "solidity": 0.2
             }
            },
            "type": "histogram"
           }
          ],
          "histogram2d": [
           {
            "colorbar": {
             "outlinewidth": 0,
             "ticks": ""
            },
            "colorscale": [
             [
              0,
              "#0d0887"
             ],
             [
              0.1111111111111111,
              "#46039f"
             ],
             [
              0.2222222222222222,
              "#7201a8"
             ],
             [
              0.3333333333333333,
              "#9c179e"
             ],
             [
              0.4444444444444444,
              "#bd3786"
             ],
             [
              0.5555555555555556,
              "#d8576b"
             ],
             [
              0.6666666666666666,
              "#ed7953"
             ],
             [
              0.7777777777777778,
              "#fb9f3a"
             ],
             [
              0.8888888888888888,
              "#fdca26"
             ],
             [
              1,
              "#f0f921"
             ]
            ],
            "type": "histogram2d"
           }
          ],
          "histogram2dcontour": [
           {
            "colorbar": {
             "outlinewidth": 0,
             "ticks": ""
            },
            "colorscale": [
             [
              0,
              "#0d0887"
             ],
             [
              0.1111111111111111,
              "#46039f"
             ],
             [
              0.2222222222222222,
              "#7201a8"
             ],
             [
              0.3333333333333333,
              "#9c179e"
             ],
             [
              0.4444444444444444,
              "#bd3786"
             ],
             [
              0.5555555555555556,
              "#d8576b"
             ],
             [
              0.6666666666666666,
              "#ed7953"
             ],
             [
              0.7777777777777778,
              "#fb9f3a"
             ],
             [
              0.8888888888888888,
              "#fdca26"
             ],
             [
              1,
              "#f0f921"
             ]
            ],
            "type": "histogram2dcontour"
           }
          ],
          "mesh3d": [
           {
            "colorbar": {
             "outlinewidth": 0,
             "ticks": ""
            },
            "type": "mesh3d"
           }
          ],
          "parcoords": [
           {
            "line": {
             "colorbar": {
              "outlinewidth": 0,
              "ticks": ""
             }
            },
            "type": "parcoords"
           }
          ],
          "pie": [
           {
            "automargin": true,
            "type": "pie"
           }
          ],
          "scatter": [
           {
            "fillpattern": {
             "fillmode": "overlay",
             "size": 10,
             "solidity": 0.2
            },
            "type": "scatter"
           }
          ],
          "scatter3d": [
           {
            "line": {
             "colorbar": {
              "outlinewidth": 0,
              "ticks": ""
             }
            },
            "marker": {
             "colorbar": {
              "outlinewidth": 0,
              "ticks": ""
             }
            },
            "type": "scatter3d"
           }
          ],
          "scattercarpet": [
           {
            "marker": {
             "colorbar": {
              "outlinewidth": 0,
              "ticks": ""
             }
            },
            "type": "scattercarpet"
           }
          ],
          "scattergeo": [
           {
            "marker": {
             "colorbar": {
              "outlinewidth": 0,
              "ticks": ""
             }
            },
            "type": "scattergeo"
           }
          ],
          "scattergl": [
           {
            "marker": {
             "colorbar": {
              "outlinewidth": 0,
              "ticks": ""
             }
            },
            "type": "scattergl"
           }
          ],
          "scattermap": [
           {
            "marker": {
             "colorbar": {
              "outlinewidth": 0,
              "ticks": ""
             }
            },
            "type": "scattermap"
           }
          ],
          "scattermapbox": [
           {
            "marker": {
             "colorbar": {
              "outlinewidth": 0,
              "ticks": ""
             }
            },
            "type": "scattermapbox"
           }
          ],
          "scatterpolar": [
           {
            "marker": {
             "colorbar": {
              "outlinewidth": 0,
              "ticks": ""
             }
            },
            "type": "scatterpolar"
           }
          ],
          "scatterpolargl": [
           {
            "marker": {
             "colorbar": {
              "outlinewidth": 0,
              "ticks": ""
             }
            },
            "type": "scatterpolargl"
           }
          ],
          "scatterternary": [
           {
            "marker": {
             "colorbar": {
              "outlinewidth": 0,
              "ticks": ""
             }
            },
            "type": "scatterternary"
           }
          ],
          "surface": [
           {
            "colorbar": {
             "outlinewidth": 0,
             "ticks": ""
            },
            "colorscale": [
             [
              0,
              "#0d0887"
             ],
             [
              0.1111111111111111,
              "#46039f"
             ],
             [
              0.2222222222222222,
              "#7201a8"
             ],
             [
              0.3333333333333333,
              "#9c179e"
             ],
             [
              0.4444444444444444,
              "#bd3786"
             ],
             [
              0.5555555555555556,
              "#d8576b"
             ],
             [
              0.6666666666666666,
              "#ed7953"
             ],
             [
              0.7777777777777778,
              "#fb9f3a"
             ],
             [
              0.8888888888888888,
              "#fdca26"
             ],
             [
              1,
              "#f0f921"
             ]
            ],
            "type": "surface"
           }
          ],
          "table": [
           {
            "cells": {
             "fill": {
              "color": "#EBF0F8"
             },
             "line": {
              "color": "white"
             }
            },
            "header": {
             "fill": {
              "color": "#C8D4E3"
             },
             "line": {
              "color": "white"
             }
            },
            "type": "table"
           }
          ]
         },
         "layout": {
          "annotationdefaults": {
           "arrowcolor": "#2a3f5f",
           "arrowhead": 0,
           "arrowwidth": 1
          },
          "autotypenumbers": "strict",
          "coloraxis": {
           "colorbar": {
            "outlinewidth": 0,
            "ticks": ""
           }
          },
          "colorscale": {
           "diverging": [
            [
             0,
             "#8e0152"
            ],
            [
             0.1,
             "#c51b7d"
            ],
            [
             0.2,
             "#de77ae"
            ],
            [
             0.3,
             "#f1b6da"
            ],
            [
             0.4,
             "#fde0ef"
            ],
            [
             0.5,
             "#f7f7f7"
            ],
            [
             0.6,
             "#e6f5d0"
            ],
            [
             0.7,
             "#b8e186"
            ],
            [
             0.8,
             "#7fbc41"
            ],
            [
             0.9,
             "#4d9221"
            ],
            [
             1,
             "#276419"
            ]
           ],
           "sequential": [
            [
             0,
             "#0d0887"
            ],
            [
             0.1111111111111111,
             "#46039f"
            ],
            [
             0.2222222222222222,
             "#7201a8"
            ],
            [
             0.3333333333333333,
             "#9c179e"
            ],
            [
             0.4444444444444444,
             "#bd3786"
            ],
            [
             0.5555555555555556,
             "#d8576b"
            ],
            [
             0.6666666666666666,
             "#ed7953"
            ],
            [
             0.7777777777777778,
             "#fb9f3a"
            ],
            [
             0.8888888888888888,
             "#fdca26"
            ],
            [
             1,
             "#f0f921"
            ]
           ],
           "sequentialminus": [
            [
             0,
             "#0d0887"
            ],
            [
             0.1111111111111111,
             "#46039f"
            ],
            [
             0.2222222222222222,
             "#7201a8"
            ],
            [
             0.3333333333333333,
             "#9c179e"
            ],
            [
             0.4444444444444444,
             "#bd3786"
            ],
            [
             0.5555555555555556,
             "#d8576b"
            ],
            [
             0.6666666666666666,
             "#ed7953"
            ],
            [
             0.7777777777777778,
             "#fb9f3a"
            ],
            [
             0.8888888888888888,
             "#fdca26"
            ],
            [
             1,
             "#f0f921"
            ]
           ]
          },
          "colorway": [
           "#636efa",
           "#EF553B",
           "#00cc96",
           "#ab63fa",
           "#FFA15A",
           "#19d3f3",
           "#FF6692",
           "#B6E880",
           "#FF97FF",
           "#FECB52"
          ],
          "font": {
           "color": "#2a3f5f"
          },
          "geo": {
           "bgcolor": "white",
           "lakecolor": "white",
           "landcolor": "#E5ECF6",
           "showlakes": true,
           "showland": true,
           "subunitcolor": "white"
          },
          "hoverlabel": {
           "align": "left"
          },
          "hovermode": "closest",
          "mapbox": {
           "style": "light"
          },
          "paper_bgcolor": "white",
          "plot_bgcolor": "#E5ECF6",
          "polar": {
           "angularaxis": {
            "gridcolor": "white",
            "linecolor": "white",
            "ticks": ""
           },
           "bgcolor": "#E5ECF6",
           "radialaxis": {
            "gridcolor": "white",
            "linecolor": "white",
            "ticks": ""
           }
          },
          "scene": {
           "xaxis": {
            "backgroundcolor": "#E5ECF6",
            "gridcolor": "white",
            "gridwidth": 2,
            "linecolor": "white",
            "showbackground": true,
            "ticks": "",
            "zerolinecolor": "white"
           },
           "yaxis": {
            "backgroundcolor": "#E5ECF6",
            "gridcolor": "white",
            "gridwidth": 2,
            "linecolor": "white",
            "showbackground": true,
            "ticks": "",
            "zerolinecolor": "white"
           },
           "zaxis": {
            "backgroundcolor": "#E5ECF6",
            "gridcolor": "white",
            "gridwidth": 2,
            "linecolor": "white",
            "showbackground": true,
            "ticks": "",
            "zerolinecolor": "white"
           }
          },
          "shapedefaults": {
           "line": {
            "color": "#2a3f5f"
           }
          },
          "ternary": {
           "aaxis": {
            "gridcolor": "white",
            "linecolor": "white",
            "ticks": ""
           },
           "baxis": {
            "gridcolor": "white",
            "linecolor": "white",
            "ticks": ""
           },
           "bgcolor": "#E5ECF6",
           "caxis": {
            "gridcolor": "white",
            "linecolor": "white",
            "ticks": ""
           }
          },
          "title": {
           "x": 0.05
          },
          "xaxis": {
           "automargin": true,
           "gridcolor": "white",
           "linecolor": "white",
           "ticks": "",
           "title": {
            "standoff": 15
           },
           "zerolinecolor": "white",
           "zerolinewidth": 2
          },
          "yaxis": {
           "automargin": true,
           "gridcolor": "white",
           "linecolor": "white",
           "ticks": "",
           "title": {
            "standoff": 15
           },
           "zerolinecolor": "white",
           "zerolinewidth": 2
          }
         }
        },
        "title": {
         "text": "Churn rate by OnlineSecurity"
        },
        "xaxis": {
         "anchor": "y",
         "domain": [
          0,
          1
         ],
         "title": {
          "text": "OnlineSecurity"
         }
        },
        "yaxis": {
         "anchor": "x",
         "domain": [
          0,
          1
         ],
         "title": {
          "text": "Count"
         }
        }
       }
      }
     },
     "metadata": {},
     "output_type": "display_data"
    },
    {
     "name": "stderr",
     "output_type": "stream",
     "text": [
      "C:\\Users\\Asus\\AppData\\Local\\Temp\\ipykernel_19164\\1367734987.py:7: FutureWarning:\n",
      "\n",
      "Series.__getitem__ treating keys as positions is deprecated. In a future version, integer keys will always be treated as labels (consistent with DataFrame behavior). To access a value by position, use `ser.iloc[pos]`\n",
      "\n",
      "C:\\Users\\Asus\\AppData\\Local\\Temp\\ipykernel_19164\\1367734987.py:9: FutureWarning:\n",
      "\n",
      "Series.__getitem__ treating keys as positions is deprecated. In a future version, integer keys will always be treated as labels (consistent with DataFrame behavior). To access a value by position, use `ser.iloc[pos]`\n",
      "\n"
     ]
    },
    {
     "data": {
      "application/vnd.plotly.v1+json": {
       "config": {
        "plotlyServerURL": "https://plot.ly"
       },
       "data": [
        {
         "alignmentgroup": "True",
         "hovertemplate": "Churn=No<br>OnlineBackup=%{x}<br>Count=%{y}<extra></extra>",
         "legendgroup": "No",
         "marker": {
          "color": "green",
          "pattern": {
           "shape": ""
          }
         },
         "name": "No",
         "offsetgroup": "No",
         "orientation": "v",
         "showlegend": true,
         "textposition": "auto",
         "type": "bar",
         "x": [
          "No",
          "No internet service",
          "Yes"
         ],
         "xaxis": "x",
         "y": {
          "bdata": "PweFBXIH",
          "dtype": "i2"
         },
         "yaxis": "y"
        },
        {
         "alignmentgroup": "True",
         "hovertemplate": "Churn=Yes<br>OnlineBackup=%{x}<br>Count=%{y}<extra></extra>",
         "legendgroup": "Yes",
         "marker": {
          "color": "red",
          "pattern": {
           "shape": ""
          }
         },
         "name": "Yes",
         "offsetgroup": "Yes",
         "orientation": "v",
         "showlegend": true,
         "textposition": "auto",
         "type": "bar",
         "x": [
          "No",
          "No internet service",
          "Yes"
         ],
         "xaxis": "x",
         "y": {
          "bdata": "0QRxAAsC",
          "dtype": "i2"
         },
         "yaxis": "y"
        }
       ],
       "layout": {
        "annotations": [
         {
          "align": "left",
          "bordercolor": "black",
          "borderwidth": 1,
          "showarrow": false,
          "text": "Value count of distribution of No, Yes & No internet service are<br>43.8%, 34.5% & 21.7% percentage respectively.",
          "x": 1.4,
          "xref": "paper",
          "y": 1.3,
          "yref": "paper"
         }
        ],
        "barmode": "group",
        "legend": {
         "title": {
          "text": "Churn"
         },
         "tracegroupgap": 0
        },
        "margin": {
         "r": 400
        },
        "template": {
         "data": {
          "bar": [
           {
            "error_x": {
             "color": "#2a3f5f"
            },
            "error_y": {
             "color": "#2a3f5f"
            },
            "marker": {
             "line": {
              "color": "#E5ECF6",
              "width": 0.5
             },
             "pattern": {
              "fillmode": "overlay",
              "size": 10,
              "solidity": 0.2
             }
            },
            "type": "bar"
           }
          ],
          "barpolar": [
           {
            "marker": {
             "line": {
              "color": "#E5ECF6",
              "width": 0.5
             },
             "pattern": {
              "fillmode": "overlay",
              "size": 10,
              "solidity": 0.2
             }
            },
            "type": "barpolar"
           }
          ],
          "carpet": [
           {
            "aaxis": {
             "endlinecolor": "#2a3f5f",
             "gridcolor": "white",
             "linecolor": "white",
             "minorgridcolor": "white",
             "startlinecolor": "#2a3f5f"
            },
            "baxis": {
             "endlinecolor": "#2a3f5f",
             "gridcolor": "white",
             "linecolor": "white",
             "minorgridcolor": "white",
             "startlinecolor": "#2a3f5f"
            },
            "type": "carpet"
           }
          ],
          "choropleth": [
           {
            "colorbar": {
             "outlinewidth": 0,
             "ticks": ""
            },
            "type": "choropleth"
           }
          ],
          "contour": [
           {
            "colorbar": {
             "outlinewidth": 0,
             "ticks": ""
            },
            "colorscale": [
             [
              0,
              "#0d0887"
             ],
             [
              0.1111111111111111,
              "#46039f"
             ],
             [
              0.2222222222222222,
              "#7201a8"
             ],
             [
              0.3333333333333333,
              "#9c179e"
             ],
             [
              0.4444444444444444,
              "#bd3786"
             ],
             [
              0.5555555555555556,
              "#d8576b"
             ],
             [
              0.6666666666666666,
              "#ed7953"
             ],
             [
              0.7777777777777778,
              "#fb9f3a"
             ],
             [
              0.8888888888888888,
              "#fdca26"
             ],
             [
              1,
              "#f0f921"
             ]
            ],
            "type": "contour"
           }
          ],
          "contourcarpet": [
           {
            "colorbar": {
             "outlinewidth": 0,
             "ticks": ""
            },
            "type": "contourcarpet"
           }
          ],
          "heatmap": [
           {
            "colorbar": {
             "outlinewidth": 0,
             "ticks": ""
            },
            "colorscale": [
             [
              0,
              "#0d0887"
             ],
             [
              0.1111111111111111,
              "#46039f"
             ],
             [
              0.2222222222222222,
              "#7201a8"
             ],
             [
              0.3333333333333333,
              "#9c179e"
             ],
             [
              0.4444444444444444,
              "#bd3786"
             ],
             [
              0.5555555555555556,
              "#d8576b"
             ],
             [
              0.6666666666666666,
              "#ed7953"
             ],
             [
              0.7777777777777778,
              "#fb9f3a"
             ],
             [
              0.8888888888888888,
              "#fdca26"
             ],
             [
              1,
              "#f0f921"
             ]
            ],
            "type": "heatmap"
           }
          ],
          "histogram": [
           {
            "marker": {
             "pattern": {
              "fillmode": "overlay",
              "size": 10,
              "solidity": 0.2
             }
            },
            "type": "histogram"
           }
          ],
          "histogram2d": [
           {
            "colorbar": {
             "outlinewidth": 0,
             "ticks": ""
            },
            "colorscale": [
             [
              0,
              "#0d0887"
             ],
             [
              0.1111111111111111,
              "#46039f"
             ],
             [
              0.2222222222222222,
              "#7201a8"
             ],
             [
              0.3333333333333333,
              "#9c179e"
             ],
             [
              0.4444444444444444,
              "#bd3786"
             ],
             [
              0.5555555555555556,
              "#d8576b"
             ],
             [
              0.6666666666666666,
              "#ed7953"
             ],
             [
              0.7777777777777778,
              "#fb9f3a"
             ],
             [
              0.8888888888888888,
              "#fdca26"
             ],
             [
              1,
              "#f0f921"
             ]
            ],
            "type": "histogram2d"
           }
          ],
          "histogram2dcontour": [
           {
            "colorbar": {
             "outlinewidth": 0,
             "ticks": ""
            },
            "colorscale": [
             [
              0,
              "#0d0887"
             ],
             [
              0.1111111111111111,
              "#46039f"
             ],
             [
              0.2222222222222222,
              "#7201a8"
             ],
             [
              0.3333333333333333,
              "#9c179e"
             ],
             [
              0.4444444444444444,
              "#bd3786"
             ],
             [
              0.5555555555555556,
              "#d8576b"
             ],
             [
              0.6666666666666666,
              "#ed7953"
             ],
             [
              0.7777777777777778,
              "#fb9f3a"
             ],
             [
              0.8888888888888888,
              "#fdca26"
             ],
             [
              1,
              "#f0f921"
             ]
            ],
            "type": "histogram2dcontour"
           }
          ],
          "mesh3d": [
           {
            "colorbar": {
             "outlinewidth": 0,
             "ticks": ""
            },
            "type": "mesh3d"
           }
          ],
          "parcoords": [
           {
            "line": {
             "colorbar": {
              "outlinewidth": 0,
              "ticks": ""
             }
            },
            "type": "parcoords"
           }
          ],
          "pie": [
           {
            "automargin": true,
            "type": "pie"
           }
          ],
          "scatter": [
           {
            "fillpattern": {
             "fillmode": "overlay",
             "size": 10,
             "solidity": 0.2
            },
            "type": "scatter"
           }
          ],
          "scatter3d": [
           {
            "line": {
             "colorbar": {
              "outlinewidth": 0,
              "ticks": ""
             }
            },
            "marker": {
             "colorbar": {
              "outlinewidth": 0,
              "ticks": ""
             }
            },
            "type": "scatter3d"
           }
          ],
          "scattercarpet": [
           {
            "marker": {
             "colorbar": {
              "outlinewidth": 0,
              "ticks": ""
             }
            },
            "type": "scattercarpet"
           }
          ],
          "scattergeo": [
           {
            "marker": {
             "colorbar": {
              "outlinewidth": 0,
              "ticks": ""
             }
            },
            "type": "scattergeo"
           }
          ],
          "scattergl": [
           {
            "marker": {
             "colorbar": {
              "outlinewidth": 0,
              "ticks": ""
             }
            },
            "type": "scattergl"
           }
          ],
          "scattermap": [
           {
            "marker": {
             "colorbar": {
              "outlinewidth": 0,
              "ticks": ""
             }
            },
            "type": "scattermap"
           }
          ],
          "scattermapbox": [
           {
            "marker": {
             "colorbar": {
              "outlinewidth": 0,
              "ticks": ""
             }
            },
            "type": "scattermapbox"
           }
          ],
          "scatterpolar": [
           {
            "marker": {
             "colorbar": {
              "outlinewidth": 0,
              "ticks": ""
             }
            },
            "type": "scatterpolar"
           }
          ],
          "scatterpolargl": [
           {
            "marker": {
             "colorbar": {
              "outlinewidth": 0,
              "ticks": ""
             }
            },
            "type": "scatterpolargl"
           }
          ],
          "scatterternary": [
           {
            "marker": {
             "colorbar": {
              "outlinewidth": 0,
              "ticks": ""
             }
            },
            "type": "scatterternary"
           }
          ],
          "surface": [
           {
            "colorbar": {
             "outlinewidth": 0,
             "ticks": ""
            },
            "colorscale": [
             [
              0,
              "#0d0887"
             ],
             [
              0.1111111111111111,
              "#46039f"
             ],
             [
              0.2222222222222222,
              "#7201a8"
             ],
             [
              0.3333333333333333,
              "#9c179e"
             ],
             [
              0.4444444444444444,
              "#bd3786"
             ],
             [
              0.5555555555555556,
              "#d8576b"
             ],
             [
              0.6666666666666666,
              "#ed7953"
             ],
             [
              0.7777777777777778,
              "#fb9f3a"
             ],
             [
              0.8888888888888888,
              "#fdca26"
             ],
             [
              1,
              "#f0f921"
             ]
            ],
            "type": "surface"
           }
          ],
          "table": [
           {
            "cells": {
             "fill": {
              "color": "#EBF0F8"
             },
             "line": {
              "color": "white"
             }
            },
            "header": {
             "fill": {
              "color": "#C8D4E3"
             },
             "line": {
              "color": "white"
             }
            },
            "type": "table"
           }
          ]
         },
         "layout": {
          "annotationdefaults": {
           "arrowcolor": "#2a3f5f",
           "arrowhead": 0,
           "arrowwidth": 1
          },
          "autotypenumbers": "strict",
          "coloraxis": {
           "colorbar": {
            "outlinewidth": 0,
            "ticks": ""
           }
          },
          "colorscale": {
           "diverging": [
            [
             0,
             "#8e0152"
            ],
            [
             0.1,
             "#c51b7d"
            ],
            [
             0.2,
             "#de77ae"
            ],
            [
             0.3,
             "#f1b6da"
            ],
            [
             0.4,
             "#fde0ef"
            ],
            [
             0.5,
             "#f7f7f7"
            ],
            [
             0.6,
             "#e6f5d0"
            ],
            [
             0.7,
             "#b8e186"
            ],
            [
             0.8,
             "#7fbc41"
            ],
            [
             0.9,
             "#4d9221"
            ],
            [
             1,
             "#276419"
            ]
           ],
           "sequential": [
            [
             0,
             "#0d0887"
            ],
            [
             0.1111111111111111,
             "#46039f"
            ],
            [
             0.2222222222222222,
             "#7201a8"
            ],
            [
             0.3333333333333333,
             "#9c179e"
            ],
            [
             0.4444444444444444,
             "#bd3786"
            ],
            [
             0.5555555555555556,
             "#d8576b"
            ],
            [
             0.6666666666666666,
             "#ed7953"
            ],
            [
             0.7777777777777778,
             "#fb9f3a"
            ],
            [
             0.8888888888888888,
             "#fdca26"
            ],
            [
             1,
             "#f0f921"
            ]
           ],
           "sequentialminus": [
            [
             0,
             "#0d0887"
            ],
            [
             0.1111111111111111,
             "#46039f"
            ],
            [
             0.2222222222222222,
             "#7201a8"
            ],
            [
             0.3333333333333333,
             "#9c179e"
            ],
            [
             0.4444444444444444,
             "#bd3786"
            ],
            [
             0.5555555555555556,
             "#d8576b"
            ],
            [
             0.6666666666666666,
             "#ed7953"
            ],
            [
             0.7777777777777778,
             "#fb9f3a"
            ],
            [
             0.8888888888888888,
             "#fdca26"
            ],
            [
             1,
             "#f0f921"
            ]
           ]
          },
          "colorway": [
           "#636efa",
           "#EF553B",
           "#00cc96",
           "#ab63fa",
           "#FFA15A",
           "#19d3f3",
           "#FF6692",
           "#B6E880",
           "#FF97FF",
           "#FECB52"
          ],
          "font": {
           "color": "#2a3f5f"
          },
          "geo": {
           "bgcolor": "white",
           "lakecolor": "white",
           "landcolor": "#E5ECF6",
           "showlakes": true,
           "showland": true,
           "subunitcolor": "white"
          },
          "hoverlabel": {
           "align": "left"
          },
          "hovermode": "closest",
          "mapbox": {
           "style": "light"
          },
          "paper_bgcolor": "white",
          "plot_bgcolor": "#E5ECF6",
          "polar": {
           "angularaxis": {
            "gridcolor": "white",
            "linecolor": "white",
            "ticks": ""
           },
           "bgcolor": "#E5ECF6",
           "radialaxis": {
            "gridcolor": "white",
            "linecolor": "white",
            "ticks": ""
           }
          },
          "scene": {
           "xaxis": {
            "backgroundcolor": "#E5ECF6",
            "gridcolor": "white",
            "gridwidth": 2,
            "linecolor": "white",
            "showbackground": true,
            "ticks": "",
            "zerolinecolor": "white"
           },
           "yaxis": {
            "backgroundcolor": "#E5ECF6",
            "gridcolor": "white",
            "gridwidth": 2,
            "linecolor": "white",
            "showbackground": true,
            "ticks": "",
            "zerolinecolor": "white"
           },
           "zaxis": {
            "backgroundcolor": "#E5ECF6",
            "gridcolor": "white",
            "gridwidth": 2,
            "linecolor": "white",
            "showbackground": true,
            "ticks": "",
            "zerolinecolor": "white"
           }
          },
          "shapedefaults": {
           "line": {
            "color": "#2a3f5f"
           }
          },
          "ternary": {
           "aaxis": {
            "gridcolor": "white",
            "linecolor": "white",
            "ticks": ""
           },
           "baxis": {
            "gridcolor": "white",
            "linecolor": "white",
            "ticks": ""
           },
           "bgcolor": "#E5ECF6",
           "caxis": {
            "gridcolor": "white",
            "linecolor": "white",
            "ticks": ""
           }
          },
          "title": {
           "x": 0.05
          },
          "xaxis": {
           "automargin": true,
           "gridcolor": "white",
           "linecolor": "white",
           "ticks": "",
           "title": {
            "standoff": 15
           },
           "zerolinecolor": "white",
           "zerolinewidth": 2
          },
          "yaxis": {
           "automargin": true,
           "gridcolor": "white",
           "linecolor": "white",
           "ticks": "",
           "title": {
            "standoff": 15
           },
           "zerolinecolor": "white",
           "zerolinewidth": 2
          }
         }
        },
        "title": {
         "text": "Churn rate by OnlineBackup"
        },
        "xaxis": {
         "anchor": "y",
         "domain": [
          0,
          1
         ],
         "title": {
          "text": "OnlineBackup"
         }
        },
        "yaxis": {
         "anchor": "x",
         "domain": [
          0,
          1
         ],
         "title": {
          "text": "Count"
         }
        }
       }
      }
     },
     "metadata": {},
     "output_type": "display_data"
    },
    {
     "name": "stderr",
     "output_type": "stream",
     "text": [
      "C:\\Users\\Asus\\AppData\\Local\\Temp\\ipykernel_19164\\1367734987.py:7: FutureWarning:\n",
      "\n",
      "Series.__getitem__ treating keys as positions is deprecated. In a future version, integer keys will always be treated as labels (consistent with DataFrame behavior). To access a value by position, use `ser.iloc[pos]`\n",
      "\n",
      "C:\\Users\\Asus\\AppData\\Local\\Temp\\ipykernel_19164\\1367734987.py:9: FutureWarning:\n",
      "\n",
      "Series.__getitem__ treating keys as positions is deprecated. In a future version, integer keys will always be treated as labels (consistent with DataFrame behavior). To access a value by position, use `ser.iloc[pos]`\n",
      "\n"
     ]
    },
    {
     "data": {
      "application/vnd.plotly.v1+json": {
       "config": {
        "plotlyServerURL": "https://plot.ly"
       },
       "data": [
        {
         "alignmentgroup": "True",
         "hovertemplate": "Churn=No<br>DeviceProtection=%{x}<br>Count=%{y}<extra></extra>",
         "legendgroup": "No",
         "marker": {
          "color": "green",
          "pattern": {
           "shape": ""
          }
         },
         "name": "No",
         "offsetgroup": "No",
         "orientation": "v",
         "showlegend": true,
         "textposition": "auto",
         "type": "bar",
         "x": [
          "No",
          "No internet service",
          "Yes"
         ],
         "xaxis": "x",
         "y": {
          "bdata": "XAeFBVUH",
          "dtype": "i2"
         },
         "yaxis": "y"
        },
        {
         "alignmentgroup": "True",
         "hovertemplate": "Churn=Yes<br>DeviceProtection=%{x}<br>Count=%{y}<extra></extra>",
         "legendgroup": "Yes",
         "marker": {
          "color": "red",
          "pattern": {
           "shape": ""
          }
         },
         "name": "Yes",
         "offsetgroup": "Yes",
         "orientation": "v",
         "showlegend": true,
         "textposition": "auto",
         "type": "bar",
         "x": [
          "No",
          "No internet service",
          "Yes"
         ],
         "xaxis": "x",
         "y": {
          "bdata": "uwRxACEC",
          "dtype": "i2"
         },
         "yaxis": "y"
        }
       ],
       "layout": {
        "annotations": [
         {
          "align": "left",
          "bordercolor": "black",
          "borderwidth": 1,
          "showarrow": false,
          "text": "Value count of distribution of No, Yes & No internet service are<br>43.9%, 34.4% & 21.7% percentage respectively.",
          "x": 1.4,
          "xref": "paper",
          "y": 1.3,
          "yref": "paper"
         }
        ],
        "barmode": "group",
        "legend": {
         "title": {
          "text": "Churn"
         },
         "tracegroupgap": 0
        },
        "margin": {
         "r": 400
        },
        "template": {
         "data": {
          "bar": [
           {
            "error_x": {
             "color": "#2a3f5f"
            },
            "error_y": {
             "color": "#2a3f5f"
            },
            "marker": {
             "line": {
              "color": "#E5ECF6",
              "width": 0.5
             },
             "pattern": {
              "fillmode": "overlay",
              "size": 10,
              "solidity": 0.2
             }
            },
            "type": "bar"
           }
          ],
          "barpolar": [
           {
            "marker": {
             "line": {
              "color": "#E5ECF6",
              "width": 0.5
             },
             "pattern": {
              "fillmode": "overlay",
              "size": 10,
              "solidity": 0.2
             }
            },
            "type": "barpolar"
           }
          ],
          "carpet": [
           {
            "aaxis": {
             "endlinecolor": "#2a3f5f",
             "gridcolor": "white",
             "linecolor": "white",
             "minorgridcolor": "white",
             "startlinecolor": "#2a3f5f"
            },
            "baxis": {
             "endlinecolor": "#2a3f5f",
             "gridcolor": "white",
             "linecolor": "white",
             "minorgridcolor": "white",
             "startlinecolor": "#2a3f5f"
            },
            "type": "carpet"
           }
          ],
          "choropleth": [
           {
            "colorbar": {
             "outlinewidth": 0,
             "ticks": ""
            },
            "type": "choropleth"
           }
          ],
          "contour": [
           {
            "colorbar": {
             "outlinewidth": 0,
             "ticks": ""
            },
            "colorscale": [
             [
              0,
              "#0d0887"
             ],
             [
              0.1111111111111111,
              "#46039f"
             ],
             [
              0.2222222222222222,
              "#7201a8"
             ],
             [
              0.3333333333333333,
              "#9c179e"
             ],
             [
              0.4444444444444444,
              "#bd3786"
             ],
             [
              0.5555555555555556,
              "#d8576b"
             ],
             [
              0.6666666666666666,
              "#ed7953"
             ],
             [
              0.7777777777777778,
              "#fb9f3a"
             ],
             [
              0.8888888888888888,
              "#fdca26"
             ],
             [
              1,
              "#f0f921"
             ]
            ],
            "type": "contour"
           }
          ],
          "contourcarpet": [
           {
            "colorbar": {
             "outlinewidth": 0,
             "ticks": ""
            },
            "type": "contourcarpet"
           }
          ],
          "heatmap": [
           {
            "colorbar": {
             "outlinewidth": 0,
             "ticks": ""
            },
            "colorscale": [
             [
              0,
              "#0d0887"
             ],
             [
              0.1111111111111111,
              "#46039f"
             ],
             [
              0.2222222222222222,
              "#7201a8"
             ],
             [
              0.3333333333333333,
              "#9c179e"
             ],
             [
              0.4444444444444444,
              "#bd3786"
             ],
             [
              0.5555555555555556,
              "#d8576b"
             ],
             [
              0.6666666666666666,
              "#ed7953"
             ],
             [
              0.7777777777777778,
              "#fb9f3a"
             ],
             [
              0.8888888888888888,
              "#fdca26"
             ],
             [
              1,
              "#f0f921"
             ]
            ],
            "type": "heatmap"
           }
          ],
          "histogram": [
           {
            "marker": {
             "pattern": {
              "fillmode": "overlay",
              "size": 10,
              "solidity": 0.2
             }
            },
            "type": "histogram"
           }
          ],
          "histogram2d": [
           {
            "colorbar": {
             "outlinewidth": 0,
             "ticks": ""
            },
            "colorscale": [
             [
              0,
              "#0d0887"
             ],
             [
              0.1111111111111111,
              "#46039f"
             ],
             [
              0.2222222222222222,
              "#7201a8"
             ],
             [
              0.3333333333333333,
              "#9c179e"
             ],
             [
              0.4444444444444444,
              "#bd3786"
             ],
             [
              0.5555555555555556,
              "#d8576b"
             ],
             [
              0.6666666666666666,
              "#ed7953"
             ],
             [
              0.7777777777777778,
              "#fb9f3a"
             ],
             [
              0.8888888888888888,
              "#fdca26"
             ],
             [
              1,
              "#f0f921"
             ]
            ],
            "type": "histogram2d"
           }
          ],
          "histogram2dcontour": [
           {
            "colorbar": {
             "outlinewidth": 0,
             "ticks": ""
            },
            "colorscale": [
             [
              0,
              "#0d0887"
             ],
             [
              0.1111111111111111,
              "#46039f"
             ],
             [
              0.2222222222222222,
              "#7201a8"
             ],
             [
              0.3333333333333333,
              "#9c179e"
             ],
             [
              0.4444444444444444,
              "#bd3786"
             ],
             [
              0.5555555555555556,
              "#d8576b"
             ],
             [
              0.6666666666666666,
              "#ed7953"
             ],
             [
              0.7777777777777778,
              "#fb9f3a"
             ],
             [
              0.8888888888888888,
              "#fdca26"
             ],
             [
              1,
              "#f0f921"
             ]
            ],
            "type": "histogram2dcontour"
           }
          ],
          "mesh3d": [
           {
            "colorbar": {
             "outlinewidth": 0,
             "ticks": ""
            },
            "type": "mesh3d"
           }
          ],
          "parcoords": [
           {
            "line": {
             "colorbar": {
              "outlinewidth": 0,
              "ticks": ""
             }
            },
            "type": "parcoords"
           }
          ],
          "pie": [
           {
            "automargin": true,
            "type": "pie"
           }
          ],
          "scatter": [
           {
            "fillpattern": {
             "fillmode": "overlay",
             "size": 10,
             "solidity": 0.2
            },
            "type": "scatter"
           }
          ],
          "scatter3d": [
           {
            "line": {
             "colorbar": {
              "outlinewidth": 0,
              "ticks": ""
             }
            },
            "marker": {
             "colorbar": {
              "outlinewidth": 0,
              "ticks": ""
             }
            },
            "type": "scatter3d"
           }
          ],
          "scattercarpet": [
           {
            "marker": {
             "colorbar": {
              "outlinewidth": 0,
              "ticks": ""
             }
            },
            "type": "scattercarpet"
           }
          ],
          "scattergeo": [
           {
            "marker": {
             "colorbar": {
              "outlinewidth": 0,
              "ticks": ""
             }
            },
            "type": "scattergeo"
           }
          ],
          "scattergl": [
           {
            "marker": {
             "colorbar": {
              "outlinewidth": 0,
              "ticks": ""
             }
            },
            "type": "scattergl"
           }
          ],
          "scattermap": [
           {
            "marker": {
             "colorbar": {
              "outlinewidth": 0,
              "ticks": ""
             }
            },
            "type": "scattermap"
           }
          ],
          "scattermapbox": [
           {
            "marker": {
             "colorbar": {
              "outlinewidth": 0,
              "ticks": ""
             }
            },
            "type": "scattermapbox"
           }
          ],
          "scatterpolar": [
           {
            "marker": {
             "colorbar": {
              "outlinewidth": 0,
              "ticks": ""
             }
            },
            "type": "scatterpolar"
           }
          ],
          "scatterpolargl": [
           {
            "marker": {
             "colorbar": {
              "outlinewidth": 0,
              "ticks": ""
             }
            },
            "type": "scatterpolargl"
           }
          ],
          "scatterternary": [
           {
            "marker": {
             "colorbar": {
              "outlinewidth": 0,
              "ticks": ""
             }
            },
            "type": "scatterternary"
           }
          ],
          "surface": [
           {
            "colorbar": {
             "outlinewidth": 0,
             "ticks": ""
            },
            "colorscale": [
             [
              0,
              "#0d0887"
             ],
             [
              0.1111111111111111,
              "#46039f"
             ],
             [
              0.2222222222222222,
              "#7201a8"
             ],
             [
              0.3333333333333333,
              "#9c179e"
             ],
             [
              0.4444444444444444,
              "#bd3786"
             ],
             [
              0.5555555555555556,
              "#d8576b"
             ],
             [
              0.6666666666666666,
              "#ed7953"
             ],
             [
              0.7777777777777778,
              "#fb9f3a"
             ],
             [
              0.8888888888888888,
              "#fdca26"
             ],
             [
              1,
              "#f0f921"
             ]
            ],
            "type": "surface"
           }
          ],
          "table": [
           {
            "cells": {
             "fill": {
              "color": "#EBF0F8"
             },
             "line": {
              "color": "white"
             }
            },
            "header": {
             "fill": {
              "color": "#C8D4E3"
             },
             "line": {
              "color": "white"
             }
            },
            "type": "table"
           }
          ]
         },
         "layout": {
          "annotationdefaults": {
           "arrowcolor": "#2a3f5f",
           "arrowhead": 0,
           "arrowwidth": 1
          },
          "autotypenumbers": "strict",
          "coloraxis": {
           "colorbar": {
            "outlinewidth": 0,
            "ticks": ""
           }
          },
          "colorscale": {
           "diverging": [
            [
             0,
             "#8e0152"
            ],
            [
             0.1,
             "#c51b7d"
            ],
            [
             0.2,
             "#de77ae"
            ],
            [
             0.3,
             "#f1b6da"
            ],
            [
             0.4,
             "#fde0ef"
            ],
            [
             0.5,
             "#f7f7f7"
            ],
            [
             0.6,
             "#e6f5d0"
            ],
            [
             0.7,
             "#b8e186"
            ],
            [
             0.8,
             "#7fbc41"
            ],
            [
             0.9,
             "#4d9221"
            ],
            [
             1,
             "#276419"
            ]
           ],
           "sequential": [
            [
             0,
             "#0d0887"
            ],
            [
             0.1111111111111111,
             "#46039f"
            ],
            [
             0.2222222222222222,
             "#7201a8"
            ],
            [
             0.3333333333333333,
             "#9c179e"
            ],
            [
             0.4444444444444444,
             "#bd3786"
            ],
            [
             0.5555555555555556,
             "#d8576b"
            ],
            [
             0.6666666666666666,
             "#ed7953"
            ],
            [
             0.7777777777777778,
             "#fb9f3a"
            ],
            [
             0.8888888888888888,
             "#fdca26"
            ],
            [
             1,
             "#f0f921"
            ]
           ],
           "sequentialminus": [
            [
             0,
             "#0d0887"
            ],
            [
             0.1111111111111111,
             "#46039f"
            ],
            [
             0.2222222222222222,
             "#7201a8"
            ],
            [
             0.3333333333333333,
             "#9c179e"
            ],
            [
             0.4444444444444444,
             "#bd3786"
            ],
            [
             0.5555555555555556,
             "#d8576b"
            ],
            [
             0.6666666666666666,
             "#ed7953"
            ],
            [
             0.7777777777777778,
             "#fb9f3a"
            ],
            [
             0.8888888888888888,
             "#fdca26"
            ],
            [
             1,
             "#f0f921"
            ]
           ]
          },
          "colorway": [
           "#636efa",
           "#EF553B",
           "#00cc96",
           "#ab63fa",
           "#FFA15A",
           "#19d3f3",
           "#FF6692",
           "#B6E880",
           "#FF97FF",
           "#FECB52"
          ],
          "font": {
           "color": "#2a3f5f"
          },
          "geo": {
           "bgcolor": "white",
           "lakecolor": "white",
           "landcolor": "#E5ECF6",
           "showlakes": true,
           "showland": true,
           "subunitcolor": "white"
          },
          "hoverlabel": {
           "align": "left"
          },
          "hovermode": "closest",
          "mapbox": {
           "style": "light"
          },
          "paper_bgcolor": "white",
          "plot_bgcolor": "#E5ECF6",
          "polar": {
           "angularaxis": {
            "gridcolor": "white",
            "linecolor": "white",
            "ticks": ""
           },
           "bgcolor": "#E5ECF6",
           "radialaxis": {
            "gridcolor": "white",
            "linecolor": "white",
            "ticks": ""
           }
          },
          "scene": {
           "xaxis": {
            "backgroundcolor": "#E5ECF6",
            "gridcolor": "white",
            "gridwidth": 2,
            "linecolor": "white",
            "showbackground": true,
            "ticks": "",
            "zerolinecolor": "white"
           },
           "yaxis": {
            "backgroundcolor": "#E5ECF6",
            "gridcolor": "white",
            "gridwidth": 2,
            "linecolor": "white",
            "showbackground": true,
            "ticks": "",
            "zerolinecolor": "white"
           },
           "zaxis": {
            "backgroundcolor": "#E5ECF6",
            "gridcolor": "white",
            "gridwidth": 2,
            "linecolor": "white",
            "showbackground": true,
            "ticks": "",
            "zerolinecolor": "white"
           }
          },
          "shapedefaults": {
           "line": {
            "color": "#2a3f5f"
           }
          },
          "ternary": {
           "aaxis": {
            "gridcolor": "white",
            "linecolor": "white",
            "ticks": ""
           },
           "baxis": {
            "gridcolor": "white",
            "linecolor": "white",
            "ticks": ""
           },
           "bgcolor": "#E5ECF6",
           "caxis": {
            "gridcolor": "white",
            "linecolor": "white",
            "ticks": ""
           }
          },
          "title": {
           "x": 0.05
          },
          "xaxis": {
           "automargin": true,
           "gridcolor": "white",
           "linecolor": "white",
           "ticks": "",
           "title": {
            "standoff": 15
           },
           "zerolinecolor": "white",
           "zerolinewidth": 2
          },
          "yaxis": {
           "automargin": true,
           "gridcolor": "white",
           "linecolor": "white",
           "ticks": "",
           "title": {
            "standoff": 15
           },
           "zerolinecolor": "white",
           "zerolinewidth": 2
          }
         }
        },
        "title": {
         "text": "Churn rate by DeviceProtection"
        },
        "xaxis": {
         "anchor": "y",
         "domain": [
          0,
          1
         ],
         "title": {
          "text": "DeviceProtection"
         }
        },
        "yaxis": {
         "anchor": "x",
         "domain": [
          0,
          1
         ],
         "title": {
          "text": "Count"
         }
        }
       }
      }
     },
     "metadata": {},
     "output_type": "display_data"
    },
    {
     "name": "stderr",
     "output_type": "stream",
     "text": [
      "C:\\Users\\Asus\\AppData\\Local\\Temp\\ipykernel_19164\\1367734987.py:7: FutureWarning:\n",
      "\n",
      "Series.__getitem__ treating keys as positions is deprecated. In a future version, integer keys will always be treated as labels (consistent with DataFrame behavior). To access a value by position, use `ser.iloc[pos]`\n",
      "\n",
      "C:\\Users\\Asus\\AppData\\Local\\Temp\\ipykernel_19164\\1367734987.py:9: FutureWarning:\n",
      "\n",
      "Series.__getitem__ treating keys as positions is deprecated. In a future version, integer keys will always be treated as labels (consistent with DataFrame behavior). To access a value by position, use `ser.iloc[pos]`\n",
      "\n"
     ]
    },
    {
     "data": {
      "application/vnd.plotly.v1+json": {
       "config": {
        "plotlyServerURL": "https://plot.ly"
       },
       "data": [
        {
         "alignmentgroup": "True",
         "hovertemplate": "Churn=No<br>TechSupport=%{x}<br>Count=%{y}<extra></extra>",
         "legendgroup": "No",
         "marker": {
          "color": "green",
          "pattern": {
           "shape": ""
          }
         },
         "name": "No",
         "offsetgroup": "No",
         "orientation": "v",
         "showlegend": true,
         "textposition": "auto",
         "type": "bar",
         "x": [
          "No",
          "No internet service",
          "Yes"
         ],
         "xaxis": "x",
         "y": {
          "bdata": "6weFBcYG",
          "dtype": "i2"
         },
         "yaxis": "y"
        },
        {
         "alignmentgroup": "True",
         "hovertemplate": "Churn=Yes<br>TechSupport=%{x}<br>Count=%{y}<extra></extra>",
         "legendgroup": "Yes",
         "marker": {
          "color": "red",
          "pattern": {
           "shape": ""
          }
         },
         "name": "Yes",
         "offsetgroup": "Yes",
         "orientation": "v",
         "showlegend": true,
         "textposition": "auto",
         "type": "bar",
         "x": [
          "No",
          "No internet service",
          "Yes"
         ],
         "xaxis": "x",
         "y": {
          "bdata": "pgVxADYB",
          "dtype": "i2"
         },
         "yaxis": "y"
        }
       ],
       "layout": {
        "annotations": [
         {
          "align": "left",
          "bordercolor": "black",
          "borderwidth": 1,
          "showarrow": false,
          "text": "Value count of distribution of No, Yes & No internet service are<br>49.3%, 29.0% & 21.7% percentage respectively.",
          "x": 1.4,
          "xref": "paper",
          "y": 1.3,
          "yref": "paper"
         }
        ],
        "barmode": "group",
        "legend": {
         "title": {
          "text": "Churn"
         },
         "tracegroupgap": 0
        },
        "margin": {
         "r": 400
        },
        "template": {
         "data": {
          "bar": [
           {
            "error_x": {
             "color": "#2a3f5f"
            },
            "error_y": {
             "color": "#2a3f5f"
            },
            "marker": {
             "line": {
              "color": "#E5ECF6",
              "width": 0.5
             },
             "pattern": {
              "fillmode": "overlay",
              "size": 10,
              "solidity": 0.2
             }
            },
            "type": "bar"
           }
          ],
          "barpolar": [
           {
            "marker": {
             "line": {
              "color": "#E5ECF6",
              "width": 0.5
             },
             "pattern": {
              "fillmode": "overlay",
              "size": 10,
              "solidity": 0.2
             }
            },
            "type": "barpolar"
           }
          ],
          "carpet": [
           {
            "aaxis": {
             "endlinecolor": "#2a3f5f",
             "gridcolor": "white",
             "linecolor": "white",
             "minorgridcolor": "white",
             "startlinecolor": "#2a3f5f"
            },
            "baxis": {
             "endlinecolor": "#2a3f5f",
             "gridcolor": "white",
             "linecolor": "white",
             "minorgridcolor": "white",
             "startlinecolor": "#2a3f5f"
            },
            "type": "carpet"
           }
          ],
          "choropleth": [
           {
            "colorbar": {
             "outlinewidth": 0,
             "ticks": ""
            },
            "type": "choropleth"
           }
          ],
          "contour": [
           {
            "colorbar": {
             "outlinewidth": 0,
             "ticks": ""
            },
            "colorscale": [
             [
              0,
              "#0d0887"
             ],
             [
              0.1111111111111111,
              "#46039f"
             ],
             [
              0.2222222222222222,
              "#7201a8"
             ],
             [
              0.3333333333333333,
              "#9c179e"
             ],
             [
              0.4444444444444444,
              "#bd3786"
             ],
             [
              0.5555555555555556,
              "#d8576b"
             ],
             [
              0.6666666666666666,
              "#ed7953"
             ],
             [
              0.7777777777777778,
              "#fb9f3a"
             ],
             [
              0.8888888888888888,
              "#fdca26"
             ],
             [
              1,
              "#f0f921"
             ]
            ],
            "type": "contour"
           }
          ],
          "contourcarpet": [
           {
            "colorbar": {
             "outlinewidth": 0,
             "ticks": ""
            },
            "type": "contourcarpet"
           }
          ],
          "heatmap": [
           {
            "colorbar": {
             "outlinewidth": 0,
             "ticks": ""
            },
            "colorscale": [
             [
              0,
              "#0d0887"
             ],
             [
              0.1111111111111111,
              "#46039f"
             ],
             [
              0.2222222222222222,
              "#7201a8"
             ],
             [
              0.3333333333333333,
              "#9c179e"
             ],
             [
              0.4444444444444444,
              "#bd3786"
             ],
             [
              0.5555555555555556,
              "#d8576b"
             ],
             [
              0.6666666666666666,
              "#ed7953"
             ],
             [
              0.7777777777777778,
              "#fb9f3a"
             ],
             [
              0.8888888888888888,
              "#fdca26"
             ],
             [
              1,
              "#f0f921"
             ]
            ],
            "type": "heatmap"
           }
          ],
          "histogram": [
           {
            "marker": {
             "pattern": {
              "fillmode": "overlay",
              "size": 10,
              "solidity": 0.2
             }
            },
            "type": "histogram"
           }
          ],
          "histogram2d": [
           {
            "colorbar": {
             "outlinewidth": 0,
             "ticks": ""
            },
            "colorscale": [
             [
              0,
              "#0d0887"
             ],
             [
              0.1111111111111111,
              "#46039f"
             ],
             [
              0.2222222222222222,
              "#7201a8"
             ],
             [
              0.3333333333333333,
              "#9c179e"
             ],
             [
              0.4444444444444444,
              "#bd3786"
             ],
             [
              0.5555555555555556,
              "#d8576b"
             ],
             [
              0.6666666666666666,
              "#ed7953"
             ],
             [
              0.7777777777777778,
              "#fb9f3a"
             ],
             [
              0.8888888888888888,
              "#fdca26"
             ],
             [
              1,
              "#f0f921"
             ]
            ],
            "type": "histogram2d"
           }
          ],
          "histogram2dcontour": [
           {
            "colorbar": {
             "outlinewidth": 0,
             "ticks": ""
            },
            "colorscale": [
             [
              0,
              "#0d0887"
             ],
             [
              0.1111111111111111,
              "#46039f"
             ],
             [
              0.2222222222222222,
              "#7201a8"
             ],
             [
              0.3333333333333333,
              "#9c179e"
             ],
             [
              0.4444444444444444,
              "#bd3786"
             ],
             [
              0.5555555555555556,
              "#d8576b"
             ],
             [
              0.6666666666666666,
              "#ed7953"
             ],
             [
              0.7777777777777778,
              "#fb9f3a"
             ],
             [
              0.8888888888888888,
              "#fdca26"
             ],
             [
              1,
              "#f0f921"
             ]
            ],
            "type": "histogram2dcontour"
           }
          ],
          "mesh3d": [
           {
            "colorbar": {
             "outlinewidth": 0,
             "ticks": ""
            },
            "type": "mesh3d"
           }
          ],
          "parcoords": [
           {
            "line": {
             "colorbar": {
              "outlinewidth": 0,
              "ticks": ""
             }
            },
            "type": "parcoords"
           }
          ],
          "pie": [
           {
            "automargin": true,
            "type": "pie"
           }
          ],
          "scatter": [
           {
            "fillpattern": {
             "fillmode": "overlay",
             "size": 10,
             "solidity": 0.2
            },
            "type": "scatter"
           }
          ],
          "scatter3d": [
           {
            "line": {
             "colorbar": {
              "outlinewidth": 0,
              "ticks": ""
             }
            },
            "marker": {
             "colorbar": {
              "outlinewidth": 0,
              "ticks": ""
             }
            },
            "type": "scatter3d"
           }
          ],
          "scattercarpet": [
           {
            "marker": {
             "colorbar": {
              "outlinewidth": 0,
              "ticks": ""
             }
            },
            "type": "scattercarpet"
           }
          ],
          "scattergeo": [
           {
            "marker": {
             "colorbar": {
              "outlinewidth": 0,
              "ticks": ""
             }
            },
            "type": "scattergeo"
           }
          ],
          "scattergl": [
           {
            "marker": {
             "colorbar": {
              "outlinewidth": 0,
              "ticks": ""
             }
            },
            "type": "scattergl"
           }
          ],
          "scattermap": [
           {
            "marker": {
             "colorbar": {
              "outlinewidth": 0,
              "ticks": ""
             }
            },
            "type": "scattermap"
           }
          ],
          "scattermapbox": [
           {
            "marker": {
             "colorbar": {
              "outlinewidth": 0,
              "ticks": ""
             }
            },
            "type": "scattermapbox"
           }
          ],
          "scatterpolar": [
           {
            "marker": {
             "colorbar": {
              "outlinewidth": 0,
              "ticks": ""
             }
            },
            "type": "scatterpolar"
           }
          ],
          "scatterpolargl": [
           {
            "marker": {
             "colorbar": {
              "outlinewidth": 0,
              "ticks": ""
             }
            },
            "type": "scatterpolargl"
           }
          ],
          "scatterternary": [
           {
            "marker": {
             "colorbar": {
              "outlinewidth": 0,
              "ticks": ""
             }
            },
            "type": "scatterternary"
           }
          ],
          "surface": [
           {
            "colorbar": {
             "outlinewidth": 0,
             "ticks": ""
            },
            "colorscale": [
             [
              0,
              "#0d0887"
             ],
             [
              0.1111111111111111,
              "#46039f"
             ],
             [
              0.2222222222222222,
              "#7201a8"
             ],
             [
              0.3333333333333333,
              "#9c179e"
             ],
             [
              0.4444444444444444,
              "#bd3786"
             ],
             [
              0.5555555555555556,
              "#d8576b"
             ],
             [
              0.6666666666666666,
              "#ed7953"
             ],
             [
              0.7777777777777778,
              "#fb9f3a"
             ],
             [
              0.8888888888888888,
              "#fdca26"
             ],
             [
              1,
              "#f0f921"
             ]
            ],
            "type": "surface"
           }
          ],
          "table": [
           {
            "cells": {
             "fill": {
              "color": "#EBF0F8"
             },
             "line": {
              "color": "white"
             }
            },
            "header": {
             "fill": {
              "color": "#C8D4E3"
             },
             "line": {
              "color": "white"
             }
            },
            "type": "table"
           }
          ]
         },
         "layout": {
          "annotationdefaults": {
           "arrowcolor": "#2a3f5f",
           "arrowhead": 0,
           "arrowwidth": 1
          },
          "autotypenumbers": "strict",
          "coloraxis": {
           "colorbar": {
            "outlinewidth": 0,
            "ticks": ""
           }
          },
          "colorscale": {
           "diverging": [
            [
             0,
             "#8e0152"
            ],
            [
             0.1,
             "#c51b7d"
            ],
            [
             0.2,
             "#de77ae"
            ],
            [
             0.3,
             "#f1b6da"
            ],
            [
             0.4,
             "#fde0ef"
            ],
            [
             0.5,
             "#f7f7f7"
            ],
            [
             0.6,
             "#e6f5d0"
            ],
            [
             0.7,
             "#b8e186"
            ],
            [
             0.8,
             "#7fbc41"
            ],
            [
             0.9,
             "#4d9221"
            ],
            [
             1,
             "#276419"
            ]
           ],
           "sequential": [
            [
             0,
             "#0d0887"
            ],
            [
             0.1111111111111111,
             "#46039f"
            ],
            [
             0.2222222222222222,
             "#7201a8"
            ],
            [
             0.3333333333333333,
             "#9c179e"
            ],
            [
             0.4444444444444444,
             "#bd3786"
            ],
            [
             0.5555555555555556,
             "#d8576b"
            ],
            [
             0.6666666666666666,
             "#ed7953"
            ],
            [
             0.7777777777777778,
             "#fb9f3a"
            ],
            [
             0.8888888888888888,
             "#fdca26"
            ],
            [
             1,
             "#f0f921"
            ]
           ],
           "sequentialminus": [
            [
             0,
             "#0d0887"
            ],
            [
             0.1111111111111111,
             "#46039f"
            ],
            [
             0.2222222222222222,
             "#7201a8"
            ],
            [
             0.3333333333333333,
             "#9c179e"
            ],
            [
             0.4444444444444444,
             "#bd3786"
            ],
            [
             0.5555555555555556,
             "#d8576b"
            ],
            [
             0.6666666666666666,
             "#ed7953"
            ],
            [
             0.7777777777777778,
             "#fb9f3a"
            ],
            [
             0.8888888888888888,
             "#fdca26"
            ],
            [
             1,
             "#f0f921"
            ]
           ]
          },
          "colorway": [
           "#636efa",
           "#EF553B",
           "#00cc96",
           "#ab63fa",
           "#FFA15A",
           "#19d3f3",
           "#FF6692",
           "#B6E880",
           "#FF97FF",
           "#FECB52"
          ],
          "font": {
           "color": "#2a3f5f"
          },
          "geo": {
           "bgcolor": "white",
           "lakecolor": "white",
           "landcolor": "#E5ECF6",
           "showlakes": true,
           "showland": true,
           "subunitcolor": "white"
          },
          "hoverlabel": {
           "align": "left"
          },
          "hovermode": "closest",
          "mapbox": {
           "style": "light"
          },
          "paper_bgcolor": "white",
          "plot_bgcolor": "#E5ECF6",
          "polar": {
           "angularaxis": {
            "gridcolor": "white",
            "linecolor": "white",
            "ticks": ""
           },
           "bgcolor": "#E5ECF6",
           "radialaxis": {
            "gridcolor": "white",
            "linecolor": "white",
            "ticks": ""
           }
          },
          "scene": {
           "xaxis": {
            "backgroundcolor": "#E5ECF6",
            "gridcolor": "white",
            "gridwidth": 2,
            "linecolor": "white",
            "showbackground": true,
            "ticks": "",
            "zerolinecolor": "white"
           },
           "yaxis": {
            "backgroundcolor": "#E5ECF6",
            "gridcolor": "white",
            "gridwidth": 2,
            "linecolor": "white",
            "showbackground": true,
            "ticks": "",
            "zerolinecolor": "white"
           },
           "zaxis": {
            "backgroundcolor": "#E5ECF6",
            "gridcolor": "white",
            "gridwidth": 2,
            "linecolor": "white",
            "showbackground": true,
            "ticks": "",
            "zerolinecolor": "white"
           }
          },
          "shapedefaults": {
           "line": {
            "color": "#2a3f5f"
           }
          },
          "ternary": {
           "aaxis": {
            "gridcolor": "white",
            "linecolor": "white",
            "ticks": ""
           },
           "baxis": {
            "gridcolor": "white",
            "linecolor": "white",
            "ticks": ""
           },
           "bgcolor": "#E5ECF6",
           "caxis": {
            "gridcolor": "white",
            "linecolor": "white",
            "ticks": ""
           }
          },
          "title": {
           "x": 0.05
          },
          "xaxis": {
           "automargin": true,
           "gridcolor": "white",
           "linecolor": "white",
           "ticks": "",
           "title": {
            "standoff": 15
           },
           "zerolinecolor": "white",
           "zerolinewidth": 2
          },
          "yaxis": {
           "automargin": true,
           "gridcolor": "white",
           "linecolor": "white",
           "ticks": "",
           "title": {
            "standoff": 15
           },
           "zerolinecolor": "white",
           "zerolinewidth": 2
          }
         }
        },
        "title": {
         "text": "Churn rate by TechSupport"
        },
        "xaxis": {
         "anchor": "y",
         "domain": [
          0,
          1
         ],
         "title": {
          "text": "TechSupport"
         }
        },
        "yaxis": {
         "anchor": "x",
         "domain": [
          0,
          1
         ],
         "title": {
          "text": "Count"
         }
        }
       }
      }
     },
     "metadata": {},
     "output_type": "display_data"
    },
    {
     "name": "stderr",
     "output_type": "stream",
     "text": [
      "C:\\Users\\Asus\\AppData\\Local\\Temp\\ipykernel_19164\\1367734987.py:7: FutureWarning:\n",
      "\n",
      "Series.__getitem__ treating keys as positions is deprecated. In a future version, integer keys will always be treated as labels (consistent with DataFrame behavior). To access a value by position, use `ser.iloc[pos]`\n",
      "\n",
      "C:\\Users\\Asus\\AppData\\Local\\Temp\\ipykernel_19164\\1367734987.py:9: FutureWarning:\n",
      "\n",
      "Series.__getitem__ treating keys as positions is deprecated. In a future version, integer keys will always be treated as labels (consistent with DataFrame behavior). To access a value by position, use `ser.iloc[pos]`\n",
      "\n"
     ]
    },
    {
     "data": {
      "application/vnd.plotly.v1+json": {
       "config": {
        "plotlyServerURL": "https://plot.ly"
       },
       "data": [
        {
         "alignmentgroup": "True",
         "hovertemplate": "Churn=No<br>StreamingTV=%{x}<br>Count=%{y}<extra></extra>",
         "legendgroup": "No",
         "marker": {
          "color": "green",
          "pattern": {
           "shape": ""
          }
         },
         "name": "No",
         "offsetgroup": "No",
         "orientation": "v",
         "showlegend": true,
         "textposition": "auto",
         "type": "bar",
         "x": [
          "No",
          "No internet service",
          "Yes"
         ],
         "xaxis": "x",
         "y": {
          "bdata": "TAeFBWUH",
          "dtype": "i2"
         },
         "yaxis": "y"
        },
        {
         "alignmentgroup": "True",
         "hovertemplate": "Churn=Yes<br>StreamingTV=%{x}<br>Count=%{y}<extra></extra>",
         "legendgroup": "Yes",
         "marker": {
          "color": "red",
          "pattern": {
           "shape": ""
          }
         },
         "name": "Yes",
         "offsetgroup": "Yes",
         "orientation": "v",
         "showlegend": true,
         "textposition": "auto",
         "type": "bar",
         "x": [
          "No",
          "No internet service",
          "Yes"
         ],
         "xaxis": "x",
         "y": {
          "bdata": "rgNxAC4D",
          "dtype": "i2"
         },
         "yaxis": "y"
        }
       ],
       "layout": {
        "annotations": [
         {
          "align": "left",
          "bordercolor": "black",
          "borderwidth": 1,
          "showarrow": false,
          "text": "Value count of distribution of No, Yes & No internet service are<br>39.9%, 38.4% & 21.7% percentage respectively.",
          "x": 1.4,
          "xref": "paper",
          "y": 1.3,
          "yref": "paper"
         }
        ],
        "barmode": "group",
        "legend": {
         "title": {
          "text": "Churn"
         },
         "tracegroupgap": 0
        },
        "margin": {
         "r": 400
        },
        "template": {
         "data": {
          "bar": [
           {
            "error_x": {
             "color": "#2a3f5f"
            },
            "error_y": {
             "color": "#2a3f5f"
            },
            "marker": {
             "line": {
              "color": "#E5ECF6",
              "width": 0.5
             },
             "pattern": {
              "fillmode": "overlay",
              "size": 10,
              "solidity": 0.2
             }
            },
            "type": "bar"
           }
          ],
          "barpolar": [
           {
            "marker": {
             "line": {
              "color": "#E5ECF6",
              "width": 0.5
             },
             "pattern": {
              "fillmode": "overlay",
              "size": 10,
              "solidity": 0.2
             }
            },
            "type": "barpolar"
           }
          ],
          "carpet": [
           {
            "aaxis": {
             "endlinecolor": "#2a3f5f",
             "gridcolor": "white",
             "linecolor": "white",
             "minorgridcolor": "white",
             "startlinecolor": "#2a3f5f"
            },
            "baxis": {
             "endlinecolor": "#2a3f5f",
             "gridcolor": "white",
             "linecolor": "white",
             "minorgridcolor": "white",
             "startlinecolor": "#2a3f5f"
            },
            "type": "carpet"
           }
          ],
          "choropleth": [
           {
            "colorbar": {
             "outlinewidth": 0,
             "ticks": ""
            },
            "type": "choropleth"
           }
          ],
          "contour": [
           {
            "colorbar": {
             "outlinewidth": 0,
             "ticks": ""
            },
            "colorscale": [
             [
              0,
              "#0d0887"
             ],
             [
              0.1111111111111111,
              "#46039f"
             ],
             [
              0.2222222222222222,
              "#7201a8"
             ],
             [
              0.3333333333333333,
              "#9c179e"
             ],
             [
              0.4444444444444444,
              "#bd3786"
             ],
             [
              0.5555555555555556,
              "#d8576b"
             ],
             [
              0.6666666666666666,
              "#ed7953"
             ],
             [
              0.7777777777777778,
              "#fb9f3a"
             ],
             [
              0.8888888888888888,
              "#fdca26"
             ],
             [
              1,
              "#f0f921"
             ]
            ],
            "type": "contour"
           }
          ],
          "contourcarpet": [
           {
            "colorbar": {
             "outlinewidth": 0,
             "ticks": ""
            },
            "type": "contourcarpet"
           }
          ],
          "heatmap": [
           {
            "colorbar": {
             "outlinewidth": 0,
             "ticks": ""
            },
            "colorscale": [
             [
              0,
              "#0d0887"
             ],
             [
              0.1111111111111111,
              "#46039f"
             ],
             [
              0.2222222222222222,
              "#7201a8"
             ],
             [
              0.3333333333333333,
              "#9c179e"
             ],
             [
              0.4444444444444444,
              "#bd3786"
             ],
             [
              0.5555555555555556,
              "#d8576b"
             ],
             [
              0.6666666666666666,
              "#ed7953"
             ],
             [
              0.7777777777777778,
              "#fb9f3a"
             ],
             [
              0.8888888888888888,
              "#fdca26"
             ],
             [
              1,
              "#f0f921"
             ]
            ],
            "type": "heatmap"
           }
          ],
          "histogram": [
           {
            "marker": {
             "pattern": {
              "fillmode": "overlay",
              "size": 10,
              "solidity": 0.2
             }
            },
            "type": "histogram"
           }
          ],
          "histogram2d": [
           {
            "colorbar": {
             "outlinewidth": 0,
             "ticks": ""
            },
            "colorscale": [
             [
              0,
              "#0d0887"
             ],
             [
              0.1111111111111111,
              "#46039f"
             ],
             [
              0.2222222222222222,
              "#7201a8"
             ],
             [
              0.3333333333333333,
              "#9c179e"
             ],
             [
              0.4444444444444444,
              "#bd3786"
             ],
             [
              0.5555555555555556,
              "#d8576b"
             ],
             [
              0.6666666666666666,
              "#ed7953"
             ],
             [
              0.7777777777777778,
              "#fb9f3a"
             ],
             [
              0.8888888888888888,
              "#fdca26"
             ],
             [
              1,
              "#f0f921"
             ]
            ],
            "type": "histogram2d"
           }
          ],
          "histogram2dcontour": [
           {
            "colorbar": {
             "outlinewidth": 0,
             "ticks": ""
            },
            "colorscale": [
             [
              0,
              "#0d0887"
             ],
             [
              0.1111111111111111,
              "#46039f"
             ],
             [
              0.2222222222222222,
              "#7201a8"
             ],
             [
              0.3333333333333333,
              "#9c179e"
             ],
             [
              0.4444444444444444,
              "#bd3786"
             ],
             [
              0.5555555555555556,
              "#d8576b"
             ],
             [
              0.6666666666666666,
              "#ed7953"
             ],
             [
              0.7777777777777778,
              "#fb9f3a"
             ],
             [
              0.8888888888888888,
              "#fdca26"
             ],
             [
              1,
              "#f0f921"
             ]
            ],
            "type": "histogram2dcontour"
           }
          ],
          "mesh3d": [
           {
            "colorbar": {
             "outlinewidth": 0,
             "ticks": ""
            },
            "type": "mesh3d"
           }
          ],
          "parcoords": [
           {
            "line": {
             "colorbar": {
              "outlinewidth": 0,
              "ticks": ""
             }
            },
            "type": "parcoords"
           }
          ],
          "pie": [
           {
            "automargin": true,
            "type": "pie"
           }
          ],
          "scatter": [
           {
            "fillpattern": {
             "fillmode": "overlay",
             "size": 10,
             "solidity": 0.2
            },
            "type": "scatter"
           }
          ],
          "scatter3d": [
           {
            "line": {
             "colorbar": {
              "outlinewidth": 0,
              "ticks": ""
             }
            },
            "marker": {
             "colorbar": {
              "outlinewidth": 0,
              "ticks": ""
             }
            },
            "type": "scatter3d"
           }
          ],
          "scattercarpet": [
           {
            "marker": {
             "colorbar": {
              "outlinewidth": 0,
              "ticks": ""
             }
            },
            "type": "scattercarpet"
           }
          ],
          "scattergeo": [
           {
            "marker": {
             "colorbar": {
              "outlinewidth": 0,
              "ticks": ""
             }
            },
            "type": "scattergeo"
           }
          ],
          "scattergl": [
           {
            "marker": {
             "colorbar": {
              "outlinewidth": 0,
              "ticks": ""
             }
            },
            "type": "scattergl"
           }
          ],
          "scattermap": [
           {
            "marker": {
             "colorbar": {
              "outlinewidth": 0,
              "ticks": ""
             }
            },
            "type": "scattermap"
           }
          ],
          "scattermapbox": [
           {
            "marker": {
             "colorbar": {
              "outlinewidth": 0,
              "ticks": ""
             }
            },
            "type": "scattermapbox"
           }
          ],
          "scatterpolar": [
           {
            "marker": {
             "colorbar": {
              "outlinewidth": 0,
              "ticks": ""
             }
            },
            "type": "scatterpolar"
           }
          ],
          "scatterpolargl": [
           {
            "marker": {
             "colorbar": {
              "outlinewidth": 0,
              "ticks": ""
             }
            },
            "type": "scatterpolargl"
           }
          ],
          "scatterternary": [
           {
            "marker": {
             "colorbar": {
              "outlinewidth": 0,
              "ticks": ""
             }
            },
            "type": "scatterternary"
           }
          ],
          "surface": [
           {
            "colorbar": {
             "outlinewidth": 0,
             "ticks": ""
            },
            "colorscale": [
             [
              0,
              "#0d0887"
             ],
             [
              0.1111111111111111,
              "#46039f"
             ],
             [
              0.2222222222222222,
              "#7201a8"
             ],
             [
              0.3333333333333333,
              "#9c179e"
             ],
             [
              0.4444444444444444,
              "#bd3786"
             ],
             [
              0.5555555555555556,
              "#d8576b"
             ],
             [
              0.6666666666666666,
              "#ed7953"
             ],
             [
              0.7777777777777778,
              "#fb9f3a"
             ],
             [
              0.8888888888888888,
              "#fdca26"
             ],
             [
              1,
              "#f0f921"
             ]
            ],
            "type": "surface"
           }
          ],
          "table": [
           {
            "cells": {
             "fill": {
              "color": "#EBF0F8"
             },
             "line": {
              "color": "white"
             }
            },
            "header": {
             "fill": {
              "color": "#C8D4E3"
             },
             "line": {
              "color": "white"
             }
            },
            "type": "table"
           }
          ]
         },
         "layout": {
          "annotationdefaults": {
           "arrowcolor": "#2a3f5f",
           "arrowhead": 0,
           "arrowwidth": 1
          },
          "autotypenumbers": "strict",
          "coloraxis": {
           "colorbar": {
            "outlinewidth": 0,
            "ticks": ""
           }
          },
          "colorscale": {
           "diverging": [
            [
             0,
             "#8e0152"
            ],
            [
             0.1,
             "#c51b7d"
            ],
            [
             0.2,
             "#de77ae"
            ],
            [
             0.3,
             "#f1b6da"
            ],
            [
             0.4,
             "#fde0ef"
            ],
            [
             0.5,
             "#f7f7f7"
            ],
            [
             0.6,
             "#e6f5d0"
            ],
            [
             0.7,
             "#b8e186"
            ],
            [
             0.8,
             "#7fbc41"
            ],
            [
             0.9,
             "#4d9221"
            ],
            [
             1,
             "#276419"
            ]
           ],
           "sequential": [
            [
             0,
             "#0d0887"
            ],
            [
             0.1111111111111111,
             "#46039f"
            ],
            [
             0.2222222222222222,
             "#7201a8"
            ],
            [
             0.3333333333333333,
             "#9c179e"
            ],
            [
             0.4444444444444444,
             "#bd3786"
            ],
            [
             0.5555555555555556,
             "#d8576b"
            ],
            [
             0.6666666666666666,
             "#ed7953"
            ],
            [
             0.7777777777777778,
             "#fb9f3a"
            ],
            [
             0.8888888888888888,
             "#fdca26"
            ],
            [
             1,
             "#f0f921"
            ]
           ],
           "sequentialminus": [
            [
             0,
             "#0d0887"
            ],
            [
             0.1111111111111111,
             "#46039f"
            ],
            [
             0.2222222222222222,
             "#7201a8"
            ],
            [
             0.3333333333333333,
             "#9c179e"
            ],
            [
             0.4444444444444444,
             "#bd3786"
            ],
            [
             0.5555555555555556,
             "#d8576b"
            ],
            [
             0.6666666666666666,
             "#ed7953"
            ],
            [
             0.7777777777777778,
             "#fb9f3a"
            ],
            [
             0.8888888888888888,
             "#fdca26"
            ],
            [
             1,
             "#f0f921"
            ]
           ]
          },
          "colorway": [
           "#636efa",
           "#EF553B",
           "#00cc96",
           "#ab63fa",
           "#FFA15A",
           "#19d3f3",
           "#FF6692",
           "#B6E880",
           "#FF97FF",
           "#FECB52"
          ],
          "font": {
           "color": "#2a3f5f"
          },
          "geo": {
           "bgcolor": "white",
           "lakecolor": "white",
           "landcolor": "#E5ECF6",
           "showlakes": true,
           "showland": true,
           "subunitcolor": "white"
          },
          "hoverlabel": {
           "align": "left"
          },
          "hovermode": "closest",
          "mapbox": {
           "style": "light"
          },
          "paper_bgcolor": "white",
          "plot_bgcolor": "#E5ECF6",
          "polar": {
           "angularaxis": {
            "gridcolor": "white",
            "linecolor": "white",
            "ticks": ""
           },
           "bgcolor": "#E5ECF6",
           "radialaxis": {
            "gridcolor": "white",
            "linecolor": "white",
            "ticks": ""
           }
          },
          "scene": {
           "xaxis": {
            "backgroundcolor": "#E5ECF6",
            "gridcolor": "white",
            "gridwidth": 2,
            "linecolor": "white",
            "showbackground": true,
            "ticks": "",
            "zerolinecolor": "white"
           },
           "yaxis": {
            "backgroundcolor": "#E5ECF6",
            "gridcolor": "white",
            "gridwidth": 2,
            "linecolor": "white",
            "showbackground": true,
            "ticks": "",
            "zerolinecolor": "white"
           },
           "zaxis": {
            "backgroundcolor": "#E5ECF6",
            "gridcolor": "white",
            "gridwidth": 2,
            "linecolor": "white",
            "showbackground": true,
            "ticks": "",
            "zerolinecolor": "white"
           }
          },
          "shapedefaults": {
           "line": {
            "color": "#2a3f5f"
           }
          },
          "ternary": {
           "aaxis": {
            "gridcolor": "white",
            "linecolor": "white",
            "ticks": ""
           },
           "baxis": {
            "gridcolor": "white",
            "linecolor": "white",
            "ticks": ""
           },
           "bgcolor": "#E5ECF6",
           "caxis": {
            "gridcolor": "white",
            "linecolor": "white",
            "ticks": ""
           }
          },
          "title": {
           "x": 0.05
          },
          "xaxis": {
           "automargin": true,
           "gridcolor": "white",
           "linecolor": "white",
           "ticks": "",
           "title": {
            "standoff": 15
           },
           "zerolinecolor": "white",
           "zerolinewidth": 2
          },
          "yaxis": {
           "automargin": true,
           "gridcolor": "white",
           "linecolor": "white",
           "ticks": "",
           "title": {
            "standoff": 15
           },
           "zerolinecolor": "white",
           "zerolinewidth": 2
          }
         }
        },
        "title": {
         "text": "Churn rate by StreamingTV"
        },
        "xaxis": {
         "anchor": "y",
         "domain": [
          0,
          1
         ],
         "title": {
          "text": "StreamingTV"
         }
        },
        "yaxis": {
         "anchor": "x",
         "domain": [
          0,
          1
         ],
         "title": {
          "text": "Count"
         }
        }
       }
      }
     },
     "metadata": {},
     "output_type": "display_data"
    },
    {
     "name": "stderr",
     "output_type": "stream",
     "text": [
      "C:\\Users\\Asus\\AppData\\Local\\Temp\\ipykernel_19164\\1367734987.py:7: FutureWarning:\n",
      "\n",
      "Series.__getitem__ treating keys as positions is deprecated. In a future version, integer keys will always be treated as labels (consistent with DataFrame behavior). To access a value by position, use `ser.iloc[pos]`\n",
      "\n",
      "C:\\Users\\Asus\\AppData\\Local\\Temp\\ipykernel_19164\\1367734987.py:9: FutureWarning:\n",
      "\n",
      "Series.__getitem__ treating keys as positions is deprecated. In a future version, integer keys will always be treated as labels (consistent with DataFrame behavior). To access a value by position, use `ser.iloc[pos]`\n",
      "\n"
     ]
    },
    {
     "data": {
      "application/vnd.plotly.v1+json": {
       "config": {
        "plotlyServerURL": "https://plot.ly"
       },
       "data": [
        {
         "alignmentgroup": "True",
         "hovertemplate": "Churn=No<br>StreamingMovies=%{x}<br>Count=%{y}<extra></extra>",
         "legendgroup": "No",
         "marker": {
          "color": "green",
          "pattern": {
           "shape": ""
          }
         },
         "name": "No",
         "offsetgroup": "No",
         "orientation": "v",
         "showlegend": true,
         "textposition": "auto",
         "type": "bar",
         "x": [
          "No",
          "No internet service",
          "Yes"
         ],
         "xaxis": "x",
         "y": {
          "bdata": "NweFBXoH",
          "dtype": "i2"
         },
         "yaxis": "y"
        },
        {
         "alignmentgroup": "True",
         "hovertemplate": "Churn=Yes<br>StreamingMovies=%{x}<br>Count=%{y}<extra></extra>",
         "legendgroup": "Yes",
         "marker": {
          "color": "red",
          "pattern": {
           "shape": ""
          }
         },
         "name": "Yes",
         "offsetgroup": "Yes",
         "orientation": "v",
         "showlegend": true,
         "textposition": "auto",
         "type": "bar",
         "x": [
          "No",
          "No internet service",
          "Yes"
         ],
         "xaxis": "x",
         "y": {
          "bdata": "qgNxADID",
          "dtype": "i2"
         },
         "yaxis": "y"
        }
       ],
       "layout": {
        "annotations": [
         {
          "align": "left",
          "bordercolor": "black",
          "borderwidth": 1,
          "showarrow": false,
          "text": "Value count of distribution of No, Yes & No internet service are<br>39.5%, 38.8% & 21.7% percentage respectively.",
          "x": 1.4,
          "xref": "paper",
          "y": 1.3,
          "yref": "paper"
         }
        ],
        "barmode": "group",
        "legend": {
         "title": {
          "text": "Churn"
         },
         "tracegroupgap": 0
        },
        "margin": {
         "r": 400
        },
        "template": {
         "data": {
          "bar": [
           {
            "error_x": {
             "color": "#2a3f5f"
            },
            "error_y": {
             "color": "#2a3f5f"
            },
            "marker": {
             "line": {
              "color": "#E5ECF6",
              "width": 0.5
             },
             "pattern": {
              "fillmode": "overlay",
              "size": 10,
              "solidity": 0.2
             }
            },
            "type": "bar"
           }
          ],
          "barpolar": [
           {
            "marker": {
             "line": {
              "color": "#E5ECF6",
              "width": 0.5
             },
             "pattern": {
              "fillmode": "overlay",
              "size": 10,
              "solidity": 0.2
             }
            },
            "type": "barpolar"
           }
          ],
          "carpet": [
           {
            "aaxis": {
             "endlinecolor": "#2a3f5f",
             "gridcolor": "white",
             "linecolor": "white",
             "minorgridcolor": "white",
             "startlinecolor": "#2a3f5f"
            },
            "baxis": {
             "endlinecolor": "#2a3f5f",
             "gridcolor": "white",
             "linecolor": "white",
             "minorgridcolor": "white",
             "startlinecolor": "#2a3f5f"
            },
            "type": "carpet"
           }
          ],
          "choropleth": [
           {
            "colorbar": {
             "outlinewidth": 0,
             "ticks": ""
            },
            "type": "choropleth"
           }
          ],
          "contour": [
           {
            "colorbar": {
             "outlinewidth": 0,
             "ticks": ""
            },
            "colorscale": [
             [
              0,
              "#0d0887"
             ],
             [
              0.1111111111111111,
              "#46039f"
             ],
             [
              0.2222222222222222,
              "#7201a8"
             ],
             [
              0.3333333333333333,
              "#9c179e"
             ],
             [
              0.4444444444444444,
              "#bd3786"
             ],
             [
              0.5555555555555556,
              "#d8576b"
             ],
             [
              0.6666666666666666,
              "#ed7953"
             ],
             [
              0.7777777777777778,
              "#fb9f3a"
             ],
             [
              0.8888888888888888,
              "#fdca26"
             ],
             [
              1,
              "#f0f921"
             ]
            ],
            "type": "contour"
           }
          ],
          "contourcarpet": [
           {
            "colorbar": {
             "outlinewidth": 0,
             "ticks": ""
            },
            "type": "contourcarpet"
           }
          ],
          "heatmap": [
           {
            "colorbar": {
             "outlinewidth": 0,
             "ticks": ""
            },
            "colorscale": [
             [
              0,
              "#0d0887"
             ],
             [
              0.1111111111111111,
              "#46039f"
             ],
             [
              0.2222222222222222,
              "#7201a8"
             ],
             [
              0.3333333333333333,
              "#9c179e"
             ],
             [
              0.4444444444444444,
              "#bd3786"
             ],
             [
              0.5555555555555556,
              "#d8576b"
             ],
             [
              0.6666666666666666,
              "#ed7953"
             ],
             [
              0.7777777777777778,
              "#fb9f3a"
             ],
             [
              0.8888888888888888,
              "#fdca26"
             ],
             [
              1,
              "#f0f921"
             ]
            ],
            "type": "heatmap"
           }
          ],
          "histogram": [
           {
            "marker": {
             "pattern": {
              "fillmode": "overlay",
              "size": 10,
              "solidity": 0.2
             }
            },
            "type": "histogram"
           }
          ],
          "histogram2d": [
           {
            "colorbar": {
             "outlinewidth": 0,
             "ticks": ""
            },
            "colorscale": [
             [
              0,
              "#0d0887"
             ],
             [
              0.1111111111111111,
              "#46039f"
             ],
             [
              0.2222222222222222,
              "#7201a8"
             ],
             [
              0.3333333333333333,
              "#9c179e"
             ],
             [
              0.4444444444444444,
              "#bd3786"
             ],
             [
              0.5555555555555556,
              "#d8576b"
             ],
             [
              0.6666666666666666,
              "#ed7953"
             ],
             [
              0.7777777777777778,
              "#fb9f3a"
             ],
             [
              0.8888888888888888,
              "#fdca26"
             ],
             [
              1,
              "#f0f921"
             ]
            ],
            "type": "histogram2d"
           }
          ],
          "histogram2dcontour": [
           {
            "colorbar": {
             "outlinewidth": 0,
             "ticks": ""
            },
            "colorscale": [
             [
              0,
              "#0d0887"
             ],
             [
              0.1111111111111111,
              "#46039f"
             ],
             [
              0.2222222222222222,
              "#7201a8"
             ],
             [
              0.3333333333333333,
              "#9c179e"
             ],
             [
              0.4444444444444444,
              "#bd3786"
             ],
             [
              0.5555555555555556,
              "#d8576b"
             ],
             [
              0.6666666666666666,
              "#ed7953"
             ],
             [
              0.7777777777777778,
              "#fb9f3a"
             ],
             [
              0.8888888888888888,
              "#fdca26"
             ],
             [
              1,
              "#f0f921"
             ]
            ],
            "type": "histogram2dcontour"
           }
          ],
          "mesh3d": [
           {
            "colorbar": {
             "outlinewidth": 0,
             "ticks": ""
            },
            "type": "mesh3d"
           }
          ],
          "parcoords": [
           {
            "line": {
             "colorbar": {
              "outlinewidth": 0,
              "ticks": ""
             }
            },
            "type": "parcoords"
           }
          ],
          "pie": [
           {
            "automargin": true,
            "type": "pie"
           }
          ],
          "scatter": [
           {
            "fillpattern": {
             "fillmode": "overlay",
             "size": 10,
             "solidity": 0.2
            },
            "type": "scatter"
           }
          ],
          "scatter3d": [
           {
            "line": {
             "colorbar": {
              "outlinewidth": 0,
              "ticks": ""
             }
            },
            "marker": {
             "colorbar": {
              "outlinewidth": 0,
              "ticks": ""
             }
            },
            "type": "scatter3d"
           }
          ],
          "scattercarpet": [
           {
            "marker": {
             "colorbar": {
              "outlinewidth": 0,
              "ticks": ""
             }
            },
            "type": "scattercarpet"
           }
          ],
          "scattergeo": [
           {
            "marker": {
             "colorbar": {
              "outlinewidth": 0,
              "ticks": ""
             }
            },
            "type": "scattergeo"
           }
          ],
          "scattergl": [
           {
            "marker": {
             "colorbar": {
              "outlinewidth": 0,
              "ticks": ""
             }
            },
            "type": "scattergl"
           }
          ],
          "scattermap": [
           {
            "marker": {
             "colorbar": {
              "outlinewidth": 0,
              "ticks": ""
             }
            },
            "type": "scattermap"
           }
          ],
          "scattermapbox": [
           {
            "marker": {
             "colorbar": {
              "outlinewidth": 0,
              "ticks": ""
             }
            },
            "type": "scattermapbox"
           }
          ],
          "scatterpolar": [
           {
            "marker": {
             "colorbar": {
              "outlinewidth": 0,
              "ticks": ""
             }
            },
            "type": "scatterpolar"
           }
          ],
          "scatterpolargl": [
           {
            "marker": {
             "colorbar": {
              "outlinewidth": 0,
              "ticks": ""
             }
            },
            "type": "scatterpolargl"
           }
          ],
          "scatterternary": [
           {
            "marker": {
             "colorbar": {
              "outlinewidth": 0,
              "ticks": ""
             }
            },
            "type": "scatterternary"
           }
          ],
          "surface": [
           {
            "colorbar": {
             "outlinewidth": 0,
             "ticks": ""
            },
            "colorscale": [
             [
              0,
              "#0d0887"
             ],
             [
              0.1111111111111111,
              "#46039f"
             ],
             [
              0.2222222222222222,
              "#7201a8"
             ],
             [
              0.3333333333333333,
              "#9c179e"
             ],
             [
              0.4444444444444444,
              "#bd3786"
             ],
             [
              0.5555555555555556,
              "#d8576b"
             ],
             [
              0.6666666666666666,
              "#ed7953"
             ],
             [
              0.7777777777777778,
              "#fb9f3a"
             ],
             [
              0.8888888888888888,
              "#fdca26"
             ],
             [
              1,
              "#f0f921"
             ]
            ],
            "type": "surface"
           }
          ],
          "table": [
           {
            "cells": {
             "fill": {
              "color": "#EBF0F8"
             },
             "line": {
              "color": "white"
             }
            },
            "header": {
             "fill": {
              "color": "#C8D4E3"
             },
             "line": {
              "color": "white"
             }
            },
            "type": "table"
           }
          ]
         },
         "layout": {
          "annotationdefaults": {
           "arrowcolor": "#2a3f5f",
           "arrowhead": 0,
           "arrowwidth": 1
          },
          "autotypenumbers": "strict",
          "coloraxis": {
           "colorbar": {
            "outlinewidth": 0,
            "ticks": ""
           }
          },
          "colorscale": {
           "diverging": [
            [
             0,
             "#8e0152"
            ],
            [
             0.1,
             "#c51b7d"
            ],
            [
             0.2,
             "#de77ae"
            ],
            [
             0.3,
             "#f1b6da"
            ],
            [
             0.4,
             "#fde0ef"
            ],
            [
             0.5,
             "#f7f7f7"
            ],
            [
             0.6,
             "#e6f5d0"
            ],
            [
             0.7,
             "#b8e186"
            ],
            [
             0.8,
             "#7fbc41"
            ],
            [
             0.9,
             "#4d9221"
            ],
            [
             1,
             "#276419"
            ]
           ],
           "sequential": [
            [
             0,
             "#0d0887"
            ],
            [
             0.1111111111111111,
             "#46039f"
            ],
            [
             0.2222222222222222,
             "#7201a8"
            ],
            [
             0.3333333333333333,
             "#9c179e"
            ],
            [
             0.4444444444444444,
             "#bd3786"
            ],
            [
             0.5555555555555556,
             "#d8576b"
            ],
            [
             0.6666666666666666,
             "#ed7953"
            ],
            [
             0.7777777777777778,
             "#fb9f3a"
            ],
            [
             0.8888888888888888,
             "#fdca26"
            ],
            [
             1,
             "#f0f921"
            ]
           ],
           "sequentialminus": [
            [
             0,
             "#0d0887"
            ],
            [
             0.1111111111111111,
             "#46039f"
            ],
            [
             0.2222222222222222,
             "#7201a8"
            ],
            [
             0.3333333333333333,
             "#9c179e"
            ],
            [
             0.4444444444444444,
             "#bd3786"
            ],
            [
             0.5555555555555556,
             "#d8576b"
            ],
            [
             0.6666666666666666,
             "#ed7953"
            ],
            [
             0.7777777777777778,
             "#fb9f3a"
            ],
            [
             0.8888888888888888,
             "#fdca26"
            ],
            [
             1,
             "#f0f921"
            ]
           ]
          },
          "colorway": [
           "#636efa",
           "#EF553B",
           "#00cc96",
           "#ab63fa",
           "#FFA15A",
           "#19d3f3",
           "#FF6692",
           "#B6E880",
           "#FF97FF",
           "#FECB52"
          ],
          "font": {
           "color": "#2a3f5f"
          },
          "geo": {
           "bgcolor": "white",
           "lakecolor": "white",
           "landcolor": "#E5ECF6",
           "showlakes": true,
           "showland": true,
           "subunitcolor": "white"
          },
          "hoverlabel": {
           "align": "left"
          },
          "hovermode": "closest",
          "mapbox": {
           "style": "light"
          },
          "paper_bgcolor": "white",
          "plot_bgcolor": "#E5ECF6",
          "polar": {
           "angularaxis": {
            "gridcolor": "white",
            "linecolor": "white",
            "ticks": ""
           },
           "bgcolor": "#E5ECF6",
           "radialaxis": {
            "gridcolor": "white",
            "linecolor": "white",
            "ticks": ""
           }
          },
          "scene": {
           "xaxis": {
            "backgroundcolor": "#E5ECF6",
            "gridcolor": "white",
            "gridwidth": 2,
            "linecolor": "white",
            "showbackground": true,
            "ticks": "",
            "zerolinecolor": "white"
           },
           "yaxis": {
            "backgroundcolor": "#E5ECF6",
            "gridcolor": "white",
            "gridwidth": 2,
            "linecolor": "white",
            "showbackground": true,
            "ticks": "",
            "zerolinecolor": "white"
           },
           "zaxis": {
            "backgroundcolor": "#E5ECF6",
            "gridcolor": "white",
            "gridwidth": 2,
            "linecolor": "white",
            "showbackground": true,
            "ticks": "",
            "zerolinecolor": "white"
           }
          },
          "shapedefaults": {
           "line": {
            "color": "#2a3f5f"
           }
          },
          "ternary": {
           "aaxis": {
            "gridcolor": "white",
            "linecolor": "white",
            "ticks": ""
           },
           "baxis": {
            "gridcolor": "white",
            "linecolor": "white",
            "ticks": ""
           },
           "bgcolor": "#E5ECF6",
           "caxis": {
            "gridcolor": "white",
            "linecolor": "white",
            "ticks": ""
           }
          },
          "title": {
           "x": 0.05
          },
          "xaxis": {
           "automargin": true,
           "gridcolor": "white",
           "linecolor": "white",
           "ticks": "",
           "title": {
            "standoff": 15
           },
           "zerolinecolor": "white",
           "zerolinewidth": 2
          },
          "yaxis": {
           "automargin": true,
           "gridcolor": "white",
           "linecolor": "white",
           "ticks": "",
           "title": {
            "standoff": 15
           },
           "zerolinecolor": "white",
           "zerolinewidth": 2
          }
         }
        },
        "title": {
         "text": "Churn rate by StreamingMovies"
        },
        "xaxis": {
         "anchor": "y",
         "domain": [
          0,
          1
         ],
         "title": {
          "text": "StreamingMovies"
         }
        },
        "yaxis": {
         "anchor": "x",
         "domain": [
          0,
          1
         ],
         "title": {
          "text": "Count"
         }
        }
       }
      }
     },
     "metadata": {},
     "output_type": "display_data"
    }
   ],
   "source": [
    "bar('PhoneService')\n",
    "bar('MultipleLines')\n",
    "bar('InternetService')\n",
    "bar('OnlineSecurity')\n",
    "bar('OnlineBackup')\n",
    "bar('DeviceProtection')\n",
    "bar('TechSupport')\n",
    "bar('StreamingTV')\n",
    "bar('StreamingMovies')"
   ]
  },
  {
   "cell_type": "markdown",
   "id": "ea764574",
   "metadata": {},
   "source": [
    "**Services that each customer has signed up for Insight**: These category of features shows significant variations across their values. If a customer does not have a phone service, he/she cannot have multiple lines. About 90.3% of the customers have phone services and have the higher rate to churn. Customers who have Fibre optic as internet service are more likely to churn, this can happen due to high prices, competition, customer service, and many other reasons. Fiber optic service is much more expensive than DSL which may be one of the reasons why customers churn. Customers with OnlineSecurity ,OnlineBackup ,DeviceProtection and TechSupport are more unlikely to churn. Streaming service is not predictive for churn as it evenly distributed to yes and no options."
   ]
  },
  {
   "cell_type": "code",
   "execution_count": 23,
   "id": "8e3928f5",
   "metadata": {},
   "outputs": [
    {
     "name": "stderr",
     "output_type": "stream",
     "text": [
      "C:\\Users\\Asus\\AppData\\Local\\Temp\\ipykernel_19164\\1367734987.py:7: FutureWarning:\n",
      "\n",
      "Series.__getitem__ treating keys as positions is deprecated. In a future version, integer keys will always be treated as labels (consistent with DataFrame behavior). To access a value by position, use `ser.iloc[pos]`\n",
      "\n",
      "C:\\Users\\Asus\\AppData\\Local\\Temp\\ipykernel_19164\\1367734987.py:9: FutureWarning:\n",
      "\n",
      "Series.__getitem__ treating keys as positions is deprecated. In a future version, integer keys will always be treated as labels (consistent with DataFrame behavior). To access a value by position, use `ser.iloc[pos]`\n",
      "\n"
     ]
    },
    {
     "data": {
      "application/vnd.plotly.v1+json": {
       "config": {
        "plotlyServerURL": "https://plot.ly"
       },
       "data": [
        {
         "alignmentgroup": "True",
         "hovertemplate": "Churn=No<br>Contract=%{x}<br>Count=%{y}<extra></extra>",
         "legendgroup": "No",
         "marker": {
          "color": "green",
          "pattern": {
           "shape": ""
          }
         },
         "name": "No",
         "offsetgroup": "No",
         "orientation": "v",
         "showlegend": true,
         "textposition": "auto",
         "type": "bar",
         "x": [
          "Month-to-month",
          "One year",
          "Two year"
         ],
         "xaxis": "x",
         "y": {
          "bdata": "rAgbBW8G",
          "dtype": "i2"
         },
         "yaxis": "y"
        },
        {
         "alignmentgroup": "True",
         "hovertemplate": "Churn=Yes<br>Contract=%{x}<br>Count=%{y}<extra></extra>",
         "legendgroup": "Yes",
         "marker": {
          "color": "red",
          "pattern": {
           "shape": ""
          }
         },
         "name": "Yes",
         "offsetgroup": "Yes",
         "orientation": "v",
         "showlegend": true,
         "textposition": "auto",
         "type": "bar",
         "x": [
          "Month-to-month",
          "One year",
          "Two year"
         ],
         "xaxis": "x",
         "y": {
          "bdata": "dwamADAA",
          "dtype": "i2"
         },
         "yaxis": "y"
        }
       ],
       "layout": {
        "annotations": [
         {
          "align": "left",
          "bordercolor": "black",
          "borderwidth": 1,
          "showarrow": false,
          "text": "Value count of distribution of Month-to-month, Two year & One year are<br>55.0%, 24.1% & 20.9% percentage respectively.",
          "x": 1.4,
          "xref": "paper",
          "y": 1.3,
          "yref": "paper"
         }
        ],
        "barmode": "group",
        "legend": {
         "title": {
          "text": "Churn"
         },
         "tracegroupgap": 0
        },
        "margin": {
         "r": 400
        },
        "template": {
         "data": {
          "bar": [
           {
            "error_x": {
             "color": "#2a3f5f"
            },
            "error_y": {
             "color": "#2a3f5f"
            },
            "marker": {
             "line": {
              "color": "#E5ECF6",
              "width": 0.5
             },
             "pattern": {
              "fillmode": "overlay",
              "size": 10,
              "solidity": 0.2
             }
            },
            "type": "bar"
           }
          ],
          "barpolar": [
           {
            "marker": {
             "line": {
              "color": "#E5ECF6",
              "width": 0.5
             },
             "pattern": {
              "fillmode": "overlay",
              "size": 10,
              "solidity": 0.2
             }
            },
            "type": "barpolar"
           }
          ],
          "carpet": [
           {
            "aaxis": {
             "endlinecolor": "#2a3f5f",
             "gridcolor": "white",
             "linecolor": "white",
             "minorgridcolor": "white",
             "startlinecolor": "#2a3f5f"
            },
            "baxis": {
             "endlinecolor": "#2a3f5f",
             "gridcolor": "white",
             "linecolor": "white",
             "minorgridcolor": "white",
             "startlinecolor": "#2a3f5f"
            },
            "type": "carpet"
           }
          ],
          "choropleth": [
           {
            "colorbar": {
             "outlinewidth": 0,
             "ticks": ""
            },
            "type": "choropleth"
           }
          ],
          "contour": [
           {
            "colorbar": {
             "outlinewidth": 0,
             "ticks": ""
            },
            "colorscale": [
             [
              0,
              "#0d0887"
             ],
             [
              0.1111111111111111,
              "#46039f"
             ],
             [
              0.2222222222222222,
              "#7201a8"
             ],
             [
              0.3333333333333333,
              "#9c179e"
             ],
             [
              0.4444444444444444,
              "#bd3786"
             ],
             [
              0.5555555555555556,
              "#d8576b"
             ],
             [
              0.6666666666666666,
              "#ed7953"
             ],
             [
              0.7777777777777778,
              "#fb9f3a"
             ],
             [
              0.8888888888888888,
              "#fdca26"
             ],
             [
              1,
              "#f0f921"
             ]
            ],
            "type": "contour"
           }
          ],
          "contourcarpet": [
           {
            "colorbar": {
             "outlinewidth": 0,
             "ticks": ""
            },
            "type": "contourcarpet"
           }
          ],
          "heatmap": [
           {
            "colorbar": {
             "outlinewidth": 0,
             "ticks": ""
            },
            "colorscale": [
             [
              0,
              "#0d0887"
             ],
             [
              0.1111111111111111,
              "#46039f"
             ],
             [
              0.2222222222222222,
              "#7201a8"
             ],
             [
              0.3333333333333333,
              "#9c179e"
             ],
             [
              0.4444444444444444,
              "#bd3786"
             ],
             [
              0.5555555555555556,
              "#d8576b"
             ],
             [
              0.6666666666666666,
              "#ed7953"
             ],
             [
              0.7777777777777778,
              "#fb9f3a"
             ],
             [
              0.8888888888888888,
              "#fdca26"
             ],
             [
              1,
              "#f0f921"
             ]
            ],
            "type": "heatmap"
           }
          ],
          "histogram": [
           {
            "marker": {
             "pattern": {
              "fillmode": "overlay",
              "size": 10,
              "solidity": 0.2
             }
            },
            "type": "histogram"
           }
          ],
          "histogram2d": [
           {
            "colorbar": {
             "outlinewidth": 0,
             "ticks": ""
            },
            "colorscale": [
             [
              0,
              "#0d0887"
             ],
             [
              0.1111111111111111,
              "#46039f"
             ],
             [
              0.2222222222222222,
              "#7201a8"
             ],
             [
              0.3333333333333333,
              "#9c179e"
             ],
             [
              0.4444444444444444,
              "#bd3786"
             ],
             [
              0.5555555555555556,
              "#d8576b"
             ],
             [
              0.6666666666666666,
              "#ed7953"
             ],
             [
              0.7777777777777778,
              "#fb9f3a"
             ],
             [
              0.8888888888888888,
              "#fdca26"
             ],
             [
              1,
              "#f0f921"
             ]
            ],
            "type": "histogram2d"
           }
          ],
          "histogram2dcontour": [
           {
            "colorbar": {
             "outlinewidth": 0,
             "ticks": ""
            },
            "colorscale": [
             [
              0,
              "#0d0887"
             ],
             [
              0.1111111111111111,
              "#46039f"
             ],
             [
              0.2222222222222222,
              "#7201a8"
             ],
             [
              0.3333333333333333,
              "#9c179e"
             ],
             [
              0.4444444444444444,
              "#bd3786"
             ],
             [
              0.5555555555555556,
              "#d8576b"
             ],
             [
              0.6666666666666666,
              "#ed7953"
             ],
             [
              0.7777777777777778,
              "#fb9f3a"
             ],
             [
              0.8888888888888888,
              "#fdca26"
             ],
             [
              1,
              "#f0f921"
             ]
            ],
            "type": "histogram2dcontour"
           }
          ],
          "mesh3d": [
           {
            "colorbar": {
             "outlinewidth": 0,
             "ticks": ""
            },
            "type": "mesh3d"
           }
          ],
          "parcoords": [
           {
            "line": {
             "colorbar": {
              "outlinewidth": 0,
              "ticks": ""
             }
            },
            "type": "parcoords"
           }
          ],
          "pie": [
           {
            "automargin": true,
            "type": "pie"
           }
          ],
          "scatter": [
           {
            "fillpattern": {
             "fillmode": "overlay",
             "size": 10,
             "solidity": 0.2
            },
            "type": "scatter"
           }
          ],
          "scatter3d": [
           {
            "line": {
             "colorbar": {
              "outlinewidth": 0,
              "ticks": ""
             }
            },
            "marker": {
             "colorbar": {
              "outlinewidth": 0,
              "ticks": ""
             }
            },
            "type": "scatter3d"
           }
          ],
          "scattercarpet": [
           {
            "marker": {
             "colorbar": {
              "outlinewidth": 0,
              "ticks": ""
             }
            },
            "type": "scattercarpet"
           }
          ],
          "scattergeo": [
           {
            "marker": {
             "colorbar": {
              "outlinewidth": 0,
              "ticks": ""
             }
            },
            "type": "scattergeo"
           }
          ],
          "scattergl": [
           {
            "marker": {
             "colorbar": {
              "outlinewidth": 0,
              "ticks": ""
             }
            },
            "type": "scattergl"
           }
          ],
          "scattermap": [
           {
            "marker": {
             "colorbar": {
              "outlinewidth": 0,
              "ticks": ""
             }
            },
            "type": "scattermap"
           }
          ],
          "scattermapbox": [
           {
            "marker": {
             "colorbar": {
              "outlinewidth": 0,
              "ticks": ""
             }
            },
            "type": "scattermapbox"
           }
          ],
          "scatterpolar": [
           {
            "marker": {
             "colorbar": {
              "outlinewidth": 0,
              "ticks": ""
             }
            },
            "type": "scatterpolar"
           }
          ],
          "scatterpolargl": [
           {
            "marker": {
             "colorbar": {
              "outlinewidth": 0,
              "ticks": ""
             }
            },
            "type": "scatterpolargl"
           }
          ],
          "scatterternary": [
           {
            "marker": {
             "colorbar": {
              "outlinewidth": 0,
              "ticks": ""
             }
            },
            "type": "scatterternary"
           }
          ],
          "surface": [
           {
            "colorbar": {
             "outlinewidth": 0,
             "ticks": ""
            },
            "colorscale": [
             [
              0,
              "#0d0887"
             ],
             [
              0.1111111111111111,
              "#46039f"
             ],
             [
              0.2222222222222222,
              "#7201a8"
             ],
             [
              0.3333333333333333,
              "#9c179e"
             ],
             [
              0.4444444444444444,
              "#bd3786"
             ],
             [
              0.5555555555555556,
              "#d8576b"
             ],
             [
              0.6666666666666666,
              "#ed7953"
             ],
             [
              0.7777777777777778,
              "#fb9f3a"
             ],
             [
              0.8888888888888888,
              "#fdca26"
             ],
             [
              1,
              "#f0f921"
             ]
            ],
            "type": "surface"
           }
          ],
          "table": [
           {
            "cells": {
             "fill": {
              "color": "#EBF0F8"
             },
             "line": {
              "color": "white"
             }
            },
            "header": {
             "fill": {
              "color": "#C8D4E3"
             },
             "line": {
              "color": "white"
             }
            },
            "type": "table"
           }
          ]
         },
         "layout": {
          "annotationdefaults": {
           "arrowcolor": "#2a3f5f",
           "arrowhead": 0,
           "arrowwidth": 1
          },
          "autotypenumbers": "strict",
          "coloraxis": {
           "colorbar": {
            "outlinewidth": 0,
            "ticks": ""
           }
          },
          "colorscale": {
           "diverging": [
            [
             0,
             "#8e0152"
            ],
            [
             0.1,
             "#c51b7d"
            ],
            [
             0.2,
             "#de77ae"
            ],
            [
             0.3,
             "#f1b6da"
            ],
            [
             0.4,
             "#fde0ef"
            ],
            [
             0.5,
             "#f7f7f7"
            ],
            [
             0.6,
             "#e6f5d0"
            ],
            [
             0.7,
             "#b8e186"
            ],
            [
             0.8,
             "#7fbc41"
            ],
            [
             0.9,
             "#4d9221"
            ],
            [
             1,
             "#276419"
            ]
           ],
           "sequential": [
            [
             0,
             "#0d0887"
            ],
            [
             0.1111111111111111,
             "#46039f"
            ],
            [
             0.2222222222222222,
             "#7201a8"
            ],
            [
             0.3333333333333333,
             "#9c179e"
            ],
            [
             0.4444444444444444,
             "#bd3786"
            ],
            [
             0.5555555555555556,
             "#d8576b"
            ],
            [
             0.6666666666666666,
             "#ed7953"
            ],
            [
             0.7777777777777778,
             "#fb9f3a"
            ],
            [
             0.8888888888888888,
             "#fdca26"
            ],
            [
             1,
             "#f0f921"
            ]
           ],
           "sequentialminus": [
            [
             0,
             "#0d0887"
            ],
            [
             0.1111111111111111,
             "#46039f"
            ],
            [
             0.2222222222222222,
             "#7201a8"
            ],
            [
             0.3333333333333333,
             "#9c179e"
            ],
            [
             0.4444444444444444,
             "#bd3786"
            ],
            [
             0.5555555555555556,
             "#d8576b"
            ],
            [
             0.6666666666666666,
             "#ed7953"
            ],
            [
             0.7777777777777778,
             "#fb9f3a"
            ],
            [
             0.8888888888888888,
             "#fdca26"
            ],
            [
             1,
             "#f0f921"
            ]
           ]
          },
          "colorway": [
           "#636efa",
           "#EF553B",
           "#00cc96",
           "#ab63fa",
           "#FFA15A",
           "#19d3f3",
           "#FF6692",
           "#B6E880",
           "#FF97FF",
           "#FECB52"
          ],
          "font": {
           "color": "#2a3f5f"
          },
          "geo": {
           "bgcolor": "white",
           "lakecolor": "white",
           "landcolor": "#E5ECF6",
           "showlakes": true,
           "showland": true,
           "subunitcolor": "white"
          },
          "hoverlabel": {
           "align": "left"
          },
          "hovermode": "closest",
          "mapbox": {
           "style": "light"
          },
          "paper_bgcolor": "white",
          "plot_bgcolor": "#E5ECF6",
          "polar": {
           "angularaxis": {
            "gridcolor": "white",
            "linecolor": "white",
            "ticks": ""
           },
           "bgcolor": "#E5ECF6",
           "radialaxis": {
            "gridcolor": "white",
            "linecolor": "white",
            "ticks": ""
           }
          },
          "scene": {
           "xaxis": {
            "backgroundcolor": "#E5ECF6",
            "gridcolor": "white",
            "gridwidth": 2,
            "linecolor": "white",
            "showbackground": true,
            "ticks": "",
            "zerolinecolor": "white"
           },
           "yaxis": {
            "backgroundcolor": "#E5ECF6",
            "gridcolor": "white",
            "gridwidth": 2,
            "linecolor": "white",
            "showbackground": true,
            "ticks": "",
            "zerolinecolor": "white"
           },
           "zaxis": {
            "backgroundcolor": "#E5ECF6",
            "gridcolor": "white",
            "gridwidth": 2,
            "linecolor": "white",
            "showbackground": true,
            "ticks": "",
            "zerolinecolor": "white"
           }
          },
          "shapedefaults": {
           "line": {
            "color": "#2a3f5f"
           }
          },
          "ternary": {
           "aaxis": {
            "gridcolor": "white",
            "linecolor": "white",
            "ticks": ""
           },
           "baxis": {
            "gridcolor": "white",
            "linecolor": "white",
            "ticks": ""
           },
           "bgcolor": "#E5ECF6",
           "caxis": {
            "gridcolor": "white",
            "linecolor": "white",
            "ticks": ""
           }
          },
          "title": {
           "x": 0.05
          },
          "xaxis": {
           "automargin": true,
           "gridcolor": "white",
           "linecolor": "white",
           "ticks": "",
           "title": {
            "standoff": 15
           },
           "zerolinecolor": "white",
           "zerolinewidth": 2
          },
          "yaxis": {
           "automargin": true,
           "gridcolor": "white",
           "linecolor": "white",
           "ticks": "",
           "title": {
            "standoff": 15
           },
           "zerolinecolor": "white",
           "zerolinewidth": 2
          }
         }
        },
        "title": {
         "text": "Churn rate by Contract"
        },
        "xaxis": {
         "anchor": "y",
         "domain": [
          0,
          1
         ],
         "title": {
          "text": "Contract"
         }
        },
        "yaxis": {
         "anchor": "x",
         "domain": [
          0,
          1
         ],
         "title": {
          "text": "Count"
         }
        }
       }
      }
     },
     "metadata": {},
     "output_type": "display_data"
    },
    {
     "name": "stderr",
     "output_type": "stream",
     "text": [
      "C:\\Users\\Asus\\AppData\\Local\\Temp\\ipykernel_19164\\1367734987.py:7: FutureWarning:\n",
      "\n",
      "Series.__getitem__ treating keys as positions is deprecated. In a future version, integer keys will always be treated as labels (consistent with DataFrame behavior). To access a value by position, use `ser.iloc[pos]`\n",
      "\n",
      "C:\\Users\\Asus\\AppData\\Local\\Temp\\ipykernel_19164\\1367734987.py:9: FutureWarning:\n",
      "\n",
      "Series.__getitem__ treating keys as positions is deprecated. In a future version, integer keys will always be treated as labels (consistent with DataFrame behavior). To access a value by position, use `ser.iloc[pos]`\n",
      "\n"
     ]
    },
    {
     "data": {
      "application/vnd.plotly.v1+json": {
       "config": {
        "plotlyServerURL": "https://plot.ly"
       },
       "data": [
        {
         "alignmentgroup": "True",
         "hovertemplate": "Churn=No<br>PaperlessBilling=%{x}<br>Count=%{y}<extra></extra>",
         "legendgroup": "No",
         "marker": {
          "color": "green",
          "pattern": {
           "shape": ""
          }
         },
         "name": "No",
         "offsetgroup": "No",
         "orientation": "v",
         "showlegend": true,
         "textposition": "auto",
         "type": "bar",
         "x": [
          "No",
          "Yes"
         ],
         "xaxis": "x",
         "y": {
          "bdata": "YwnTCg==",
          "dtype": "i2"
         },
         "yaxis": "y"
        },
        {
         "alignmentgroup": "True",
         "hovertemplate": "Churn=Yes<br>PaperlessBilling=%{x}<br>Count=%{y}<extra></extra>",
         "legendgroup": "Yes",
         "marker": {
          "color": "red",
          "pattern": {
           "shape": ""
          }
         },
         "name": "Yes",
         "offsetgroup": "Yes",
         "orientation": "v",
         "showlegend": true,
         "textposition": "auto",
         "type": "bar",
         "x": [
          "No",
          "Yes"
         ],
         "xaxis": "x",
         "y": {
          "bdata": "1QF4BQ==",
          "dtype": "i2"
         },
         "yaxis": "y"
        }
       ],
       "layout": {
        "annotations": [
         {
          "align": "left",
          "bordercolor": "black",
          "borderwidth": 1,
          "showarrow": false,
          "text": "Value count of distribution of Yes & No are<br>59.2% & 40.8% percentage respectively.",
          "x": 1.4,
          "xref": "paper",
          "y": 1.3,
          "yref": "paper"
         }
        ],
        "barmode": "group",
        "legend": {
         "title": {
          "text": "Churn"
         },
         "tracegroupgap": 0
        },
        "margin": {
         "r": 400
        },
        "template": {
         "data": {
          "bar": [
           {
            "error_x": {
             "color": "#2a3f5f"
            },
            "error_y": {
             "color": "#2a3f5f"
            },
            "marker": {
             "line": {
              "color": "#E5ECF6",
              "width": 0.5
             },
             "pattern": {
              "fillmode": "overlay",
              "size": 10,
              "solidity": 0.2
             }
            },
            "type": "bar"
           }
          ],
          "barpolar": [
           {
            "marker": {
             "line": {
              "color": "#E5ECF6",
              "width": 0.5
             },
             "pattern": {
              "fillmode": "overlay",
              "size": 10,
              "solidity": 0.2
             }
            },
            "type": "barpolar"
           }
          ],
          "carpet": [
           {
            "aaxis": {
             "endlinecolor": "#2a3f5f",
             "gridcolor": "white",
             "linecolor": "white",
             "minorgridcolor": "white",
             "startlinecolor": "#2a3f5f"
            },
            "baxis": {
             "endlinecolor": "#2a3f5f",
             "gridcolor": "white",
             "linecolor": "white",
             "minorgridcolor": "white",
             "startlinecolor": "#2a3f5f"
            },
            "type": "carpet"
           }
          ],
          "choropleth": [
           {
            "colorbar": {
             "outlinewidth": 0,
             "ticks": ""
            },
            "type": "choropleth"
           }
          ],
          "contour": [
           {
            "colorbar": {
             "outlinewidth": 0,
             "ticks": ""
            },
            "colorscale": [
             [
              0,
              "#0d0887"
             ],
             [
              0.1111111111111111,
              "#46039f"
             ],
             [
              0.2222222222222222,
              "#7201a8"
             ],
             [
              0.3333333333333333,
              "#9c179e"
             ],
             [
              0.4444444444444444,
              "#bd3786"
             ],
             [
              0.5555555555555556,
              "#d8576b"
             ],
             [
              0.6666666666666666,
              "#ed7953"
             ],
             [
              0.7777777777777778,
              "#fb9f3a"
             ],
             [
              0.8888888888888888,
              "#fdca26"
             ],
             [
              1,
              "#f0f921"
             ]
            ],
            "type": "contour"
           }
          ],
          "contourcarpet": [
           {
            "colorbar": {
             "outlinewidth": 0,
             "ticks": ""
            },
            "type": "contourcarpet"
           }
          ],
          "heatmap": [
           {
            "colorbar": {
             "outlinewidth": 0,
             "ticks": ""
            },
            "colorscale": [
             [
              0,
              "#0d0887"
             ],
             [
              0.1111111111111111,
              "#46039f"
             ],
             [
              0.2222222222222222,
              "#7201a8"
             ],
             [
              0.3333333333333333,
              "#9c179e"
             ],
             [
              0.4444444444444444,
              "#bd3786"
             ],
             [
              0.5555555555555556,
              "#d8576b"
             ],
             [
              0.6666666666666666,
              "#ed7953"
             ],
             [
              0.7777777777777778,
              "#fb9f3a"
             ],
             [
              0.8888888888888888,
              "#fdca26"
             ],
             [
              1,
              "#f0f921"
             ]
            ],
            "type": "heatmap"
           }
          ],
          "histogram": [
           {
            "marker": {
             "pattern": {
              "fillmode": "overlay",
              "size": 10,
              "solidity": 0.2
             }
            },
            "type": "histogram"
           }
          ],
          "histogram2d": [
           {
            "colorbar": {
             "outlinewidth": 0,
             "ticks": ""
            },
            "colorscale": [
             [
              0,
              "#0d0887"
             ],
             [
              0.1111111111111111,
              "#46039f"
             ],
             [
              0.2222222222222222,
              "#7201a8"
             ],
             [
              0.3333333333333333,
              "#9c179e"
             ],
             [
              0.4444444444444444,
              "#bd3786"
             ],
             [
              0.5555555555555556,
              "#d8576b"
             ],
             [
              0.6666666666666666,
              "#ed7953"
             ],
             [
              0.7777777777777778,
              "#fb9f3a"
             ],
             [
              0.8888888888888888,
              "#fdca26"
             ],
             [
              1,
              "#f0f921"
             ]
            ],
            "type": "histogram2d"
           }
          ],
          "histogram2dcontour": [
           {
            "colorbar": {
             "outlinewidth": 0,
             "ticks": ""
            },
            "colorscale": [
             [
              0,
              "#0d0887"
             ],
             [
              0.1111111111111111,
              "#46039f"
             ],
             [
              0.2222222222222222,
              "#7201a8"
             ],
             [
              0.3333333333333333,
              "#9c179e"
             ],
             [
              0.4444444444444444,
              "#bd3786"
             ],
             [
              0.5555555555555556,
              "#d8576b"
             ],
             [
              0.6666666666666666,
              "#ed7953"
             ],
             [
              0.7777777777777778,
              "#fb9f3a"
             ],
             [
              0.8888888888888888,
              "#fdca26"
             ],
             [
              1,
              "#f0f921"
             ]
            ],
            "type": "histogram2dcontour"
           }
          ],
          "mesh3d": [
           {
            "colorbar": {
             "outlinewidth": 0,
             "ticks": ""
            },
            "type": "mesh3d"
           }
          ],
          "parcoords": [
           {
            "line": {
             "colorbar": {
              "outlinewidth": 0,
              "ticks": ""
             }
            },
            "type": "parcoords"
           }
          ],
          "pie": [
           {
            "automargin": true,
            "type": "pie"
           }
          ],
          "scatter": [
           {
            "fillpattern": {
             "fillmode": "overlay",
             "size": 10,
             "solidity": 0.2
            },
            "type": "scatter"
           }
          ],
          "scatter3d": [
           {
            "line": {
             "colorbar": {
              "outlinewidth": 0,
              "ticks": ""
             }
            },
            "marker": {
             "colorbar": {
              "outlinewidth": 0,
              "ticks": ""
             }
            },
            "type": "scatter3d"
           }
          ],
          "scattercarpet": [
           {
            "marker": {
             "colorbar": {
              "outlinewidth": 0,
              "ticks": ""
             }
            },
            "type": "scattercarpet"
           }
          ],
          "scattergeo": [
           {
            "marker": {
             "colorbar": {
              "outlinewidth": 0,
              "ticks": ""
             }
            },
            "type": "scattergeo"
           }
          ],
          "scattergl": [
           {
            "marker": {
             "colorbar": {
              "outlinewidth": 0,
              "ticks": ""
             }
            },
            "type": "scattergl"
           }
          ],
          "scattermap": [
           {
            "marker": {
             "colorbar": {
              "outlinewidth": 0,
              "ticks": ""
             }
            },
            "type": "scattermap"
           }
          ],
          "scattermapbox": [
           {
            "marker": {
             "colorbar": {
              "outlinewidth": 0,
              "ticks": ""
             }
            },
            "type": "scattermapbox"
           }
          ],
          "scatterpolar": [
           {
            "marker": {
             "colorbar": {
              "outlinewidth": 0,
              "ticks": ""
             }
            },
            "type": "scatterpolar"
           }
          ],
          "scatterpolargl": [
           {
            "marker": {
             "colorbar": {
              "outlinewidth": 0,
              "ticks": ""
             }
            },
            "type": "scatterpolargl"
           }
          ],
          "scatterternary": [
           {
            "marker": {
             "colorbar": {
              "outlinewidth": 0,
              "ticks": ""
             }
            },
            "type": "scatterternary"
           }
          ],
          "surface": [
           {
            "colorbar": {
             "outlinewidth": 0,
             "ticks": ""
            },
            "colorscale": [
             [
              0,
              "#0d0887"
             ],
             [
              0.1111111111111111,
              "#46039f"
             ],
             [
              0.2222222222222222,
              "#7201a8"
             ],
             [
              0.3333333333333333,
              "#9c179e"
             ],
             [
              0.4444444444444444,
              "#bd3786"
             ],
             [
              0.5555555555555556,
              "#d8576b"
             ],
             [
              0.6666666666666666,
              "#ed7953"
             ],
             [
              0.7777777777777778,
              "#fb9f3a"
             ],
             [
              0.8888888888888888,
              "#fdca26"
             ],
             [
              1,
              "#f0f921"
             ]
            ],
            "type": "surface"
           }
          ],
          "table": [
           {
            "cells": {
             "fill": {
              "color": "#EBF0F8"
             },
             "line": {
              "color": "white"
             }
            },
            "header": {
             "fill": {
              "color": "#C8D4E3"
             },
             "line": {
              "color": "white"
             }
            },
            "type": "table"
           }
          ]
         },
         "layout": {
          "annotationdefaults": {
           "arrowcolor": "#2a3f5f",
           "arrowhead": 0,
           "arrowwidth": 1
          },
          "autotypenumbers": "strict",
          "coloraxis": {
           "colorbar": {
            "outlinewidth": 0,
            "ticks": ""
           }
          },
          "colorscale": {
           "diverging": [
            [
             0,
             "#8e0152"
            ],
            [
             0.1,
             "#c51b7d"
            ],
            [
             0.2,
             "#de77ae"
            ],
            [
             0.3,
             "#f1b6da"
            ],
            [
             0.4,
             "#fde0ef"
            ],
            [
             0.5,
             "#f7f7f7"
            ],
            [
             0.6,
             "#e6f5d0"
            ],
            [
             0.7,
             "#b8e186"
            ],
            [
             0.8,
             "#7fbc41"
            ],
            [
             0.9,
             "#4d9221"
            ],
            [
             1,
             "#276419"
            ]
           ],
           "sequential": [
            [
             0,
             "#0d0887"
            ],
            [
             0.1111111111111111,
             "#46039f"
            ],
            [
             0.2222222222222222,
             "#7201a8"
            ],
            [
             0.3333333333333333,
             "#9c179e"
            ],
            [
             0.4444444444444444,
             "#bd3786"
            ],
            [
             0.5555555555555556,
             "#d8576b"
            ],
            [
             0.6666666666666666,
             "#ed7953"
            ],
            [
             0.7777777777777778,
             "#fb9f3a"
            ],
            [
             0.8888888888888888,
             "#fdca26"
            ],
            [
             1,
             "#f0f921"
            ]
           ],
           "sequentialminus": [
            [
             0,
             "#0d0887"
            ],
            [
             0.1111111111111111,
             "#46039f"
            ],
            [
             0.2222222222222222,
             "#7201a8"
            ],
            [
             0.3333333333333333,
             "#9c179e"
            ],
            [
             0.4444444444444444,
             "#bd3786"
            ],
            [
             0.5555555555555556,
             "#d8576b"
            ],
            [
             0.6666666666666666,
             "#ed7953"
            ],
            [
             0.7777777777777778,
             "#fb9f3a"
            ],
            [
             0.8888888888888888,
             "#fdca26"
            ],
            [
             1,
             "#f0f921"
            ]
           ]
          },
          "colorway": [
           "#636efa",
           "#EF553B",
           "#00cc96",
           "#ab63fa",
           "#FFA15A",
           "#19d3f3",
           "#FF6692",
           "#B6E880",
           "#FF97FF",
           "#FECB52"
          ],
          "font": {
           "color": "#2a3f5f"
          },
          "geo": {
           "bgcolor": "white",
           "lakecolor": "white",
           "landcolor": "#E5ECF6",
           "showlakes": true,
           "showland": true,
           "subunitcolor": "white"
          },
          "hoverlabel": {
           "align": "left"
          },
          "hovermode": "closest",
          "mapbox": {
           "style": "light"
          },
          "paper_bgcolor": "white",
          "plot_bgcolor": "#E5ECF6",
          "polar": {
           "angularaxis": {
            "gridcolor": "white",
            "linecolor": "white",
            "ticks": ""
           },
           "bgcolor": "#E5ECF6",
           "radialaxis": {
            "gridcolor": "white",
            "linecolor": "white",
            "ticks": ""
           }
          },
          "scene": {
           "xaxis": {
            "backgroundcolor": "#E5ECF6",
            "gridcolor": "white",
            "gridwidth": 2,
            "linecolor": "white",
            "showbackground": true,
            "ticks": "",
            "zerolinecolor": "white"
           },
           "yaxis": {
            "backgroundcolor": "#E5ECF6",
            "gridcolor": "white",
            "gridwidth": 2,
            "linecolor": "white",
            "showbackground": true,
            "ticks": "",
            "zerolinecolor": "white"
           },
           "zaxis": {
            "backgroundcolor": "#E5ECF6",
            "gridcolor": "white",
            "gridwidth": 2,
            "linecolor": "white",
            "showbackground": true,
            "ticks": "",
            "zerolinecolor": "white"
           }
          },
          "shapedefaults": {
           "line": {
            "color": "#2a3f5f"
           }
          },
          "ternary": {
           "aaxis": {
            "gridcolor": "white",
            "linecolor": "white",
            "ticks": ""
           },
           "baxis": {
            "gridcolor": "white",
            "linecolor": "white",
            "ticks": ""
           },
           "bgcolor": "#E5ECF6",
           "caxis": {
            "gridcolor": "white",
            "linecolor": "white",
            "ticks": ""
           }
          },
          "title": {
           "x": 0.05
          },
          "xaxis": {
           "automargin": true,
           "gridcolor": "white",
           "linecolor": "white",
           "ticks": "",
           "title": {
            "standoff": 15
           },
           "zerolinecolor": "white",
           "zerolinewidth": 2
          },
          "yaxis": {
           "automargin": true,
           "gridcolor": "white",
           "linecolor": "white",
           "ticks": "",
           "title": {
            "standoff": 15
           },
           "zerolinecolor": "white",
           "zerolinewidth": 2
          }
         }
        },
        "title": {
         "text": "Churn rate by PaperlessBilling"
        },
        "xaxis": {
         "anchor": "y",
         "domain": [
          0,
          1
         ],
         "title": {
          "text": "PaperlessBilling"
         }
        },
        "yaxis": {
         "anchor": "x",
         "domain": [
          0,
          1
         ],
         "title": {
          "text": "Count"
         }
        }
       }
      }
     },
     "metadata": {},
     "output_type": "display_data"
    },
    {
     "name": "stderr",
     "output_type": "stream",
     "text": [
      "C:\\Users\\Asus\\AppData\\Local\\Temp\\ipykernel_19164\\1367734987.py:7: FutureWarning:\n",
      "\n",
      "Series.__getitem__ treating keys as positions is deprecated. In a future version, integer keys will always be treated as labels (consistent with DataFrame behavior). To access a value by position, use `ser.iloc[pos]`\n",
      "\n",
      "C:\\Users\\Asus\\AppData\\Local\\Temp\\ipykernel_19164\\1367734987.py:9: FutureWarning:\n",
      "\n",
      "Series.__getitem__ treating keys as positions is deprecated. In a future version, integer keys will always be treated as labels (consistent with DataFrame behavior). To access a value by position, use `ser.iloc[pos]`\n",
      "\n"
     ]
    },
    {
     "data": {
      "application/vnd.plotly.v1+json": {
       "config": {
        "plotlyServerURL": "https://plot.ly"
       },
       "data": [
        {
         "alignmentgroup": "True",
         "hovertemplate": "Churn=No<br>PaymentMethod=%{x}<br>Count=%{y}<extra></extra>",
         "legendgroup": "No",
         "marker": {
          "color": "green",
          "pattern": {
           "shape": ""
          }
         },
         "name": "No",
         "offsetgroup": "No",
         "orientation": "v",
         "showlegend": true,
         "textposition": "auto",
         "type": "bar",
         "x": [
          "Bank transfer (automatic)",
          "Credit card (automatic)",
          "Electronic check",
          "Mailed check"
         ],
         "xaxis": "x",
         "y": {
          "bdata": "BgUKBQ4FGAU=",
          "dtype": "i2"
         },
         "yaxis": "y"
        },
        {
         "alignmentgroup": "True",
         "hovertemplate": "Churn=Yes<br>PaymentMethod=%{x}<br>Count=%{y}<extra></extra>",
         "legendgroup": "Yes",
         "marker": {
          "color": "red",
          "pattern": {
           "shape": ""
          }
         },
         "name": "Yes",
         "offsetgroup": "Yes",
         "orientation": "v",
         "showlegend": true,
         "textposition": "auto",
         "type": "bar",
         "x": [
          "Bank transfer (automatic)",
          "Credit card (automatic)",
          "Electronic check",
          "Mailed check"
         ],
         "xaxis": "x",
         "y": {
          "bdata": "AgHoAC8ENAE=",
          "dtype": "i2"
         },
         "yaxis": "y"
        }
       ],
       "layout": {
        "annotations": [
         {
          "align": "left",
          "bordercolor": "black",
          "borderwidth": 1,
          "showarrow": false,
          "text": "Value count of distribution of Electronic check, Mailed check, Bank transfer (automatic) & Credit card (automatic) are<br>33.6%, 22.9%, 21.9% & 21.6% percentage respectively.",
          "x": 1.4,
          "xref": "paper",
          "y": 1.3,
          "yref": "paper"
         }
        ],
        "barmode": "group",
        "legend": {
         "title": {
          "text": "Churn"
         },
         "tracegroupgap": 0
        },
        "margin": {
         "r": 400
        },
        "template": {
         "data": {
          "bar": [
           {
            "error_x": {
             "color": "#2a3f5f"
            },
            "error_y": {
             "color": "#2a3f5f"
            },
            "marker": {
             "line": {
              "color": "#E5ECF6",
              "width": 0.5
             },
             "pattern": {
              "fillmode": "overlay",
              "size": 10,
              "solidity": 0.2
             }
            },
            "type": "bar"
           }
          ],
          "barpolar": [
           {
            "marker": {
             "line": {
              "color": "#E5ECF6",
              "width": 0.5
             },
             "pattern": {
              "fillmode": "overlay",
              "size": 10,
              "solidity": 0.2
             }
            },
            "type": "barpolar"
           }
          ],
          "carpet": [
           {
            "aaxis": {
             "endlinecolor": "#2a3f5f",
             "gridcolor": "white",
             "linecolor": "white",
             "minorgridcolor": "white",
             "startlinecolor": "#2a3f5f"
            },
            "baxis": {
             "endlinecolor": "#2a3f5f",
             "gridcolor": "white",
             "linecolor": "white",
             "minorgridcolor": "white",
             "startlinecolor": "#2a3f5f"
            },
            "type": "carpet"
           }
          ],
          "choropleth": [
           {
            "colorbar": {
             "outlinewidth": 0,
             "ticks": ""
            },
            "type": "choropleth"
           }
          ],
          "contour": [
           {
            "colorbar": {
             "outlinewidth": 0,
             "ticks": ""
            },
            "colorscale": [
             [
              0,
              "#0d0887"
             ],
             [
              0.1111111111111111,
              "#46039f"
             ],
             [
              0.2222222222222222,
              "#7201a8"
             ],
             [
              0.3333333333333333,
              "#9c179e"
             ],
             [
              0.4444444444444444,
              "#bd3786"
             ],
             [
              0.5555555555555556,
              "#d8576b"
             ],
             [
              0.6666666666666666,
              "#ed7953"
             ],
             [
              0.7777777777777778,
              "#fb9f3a"
             ],
             [
              0.8888888888888888,
              "#fdca26"
             ],
             [
              1,
              "#f0f921"
             ]
            ],
            "type": "contour"
           }
          ],
          "contourcarpet": [
           {
            "colorbar": {
             "outlinewidth": 0,
             "ticks": ""
            },
            "type": "contourcarpet"
           }
          ],
          "heatmap": [
           {
            "colorbar": {
             "outlinewidth": 0,
             "ticks": ""
            },
            "colorscale": [
             [
              0,
              "#0d0887"
             ],
             [
              0.1111111111111111,
              "#46039f"
             ],
             [
              0.2222222222222222,
              "#7201a8"
             ],
             [
              0.3333333333333333,
              "#9c179e"
             ],
             [
              0.4444444444444444,
              "#bd3786"
             ],
             [
              0.5555555555555556,
              "#d8576b"
             ],
             [
              0.6666666666666666,
              "#ed7953"
             ],
             [
              0.7777777777777778,
              "#fb9f3a"
             ],
             [
              0.8888888888888888,
              "#fdca26"
             ],
             [
              1,
              "#f0f921"
             ]
            ],
            "type": "heatmap"
           }
          ],
          "histogram": [
           {
            "marker": {
             "pattern": {
              "fillmode": "overlay",
              "size": 10,
              "solidity": 0.2
             }
            },
            "type": "histogram"
           }
          ],
          "histogram2d": [
           {
            "colorbar": {
             "outlinewidth": 0,
             "ticks": ""
            },
            "colorscale": [
             [
              0,
              "#0d0887"
             ],
             [
              0.1111111111111111,
              "#46039f"
             ],
             [
              0.2222222222222222,
              "#7201a8"
             ],
             [
              0.3333333333333333,
              "#9c179e"
             ],
             [
              0.4444444444444444,
              "#bd3786"
             ],
             [
              0.5555555555555556,
              "#d8576b"
             ],
             [
              0.6666666666666666,
              "#ed7953"
             ],
             [
              0.7777777777777778,
              "#fb9f3a"
             ],
             [
              0.8888888888888888,
              "#fdca26"
             ],
             [
              1,
              "#f0f921"
             ]
            ],
            "type": "histogram2d"
           }
          ],
          "histogram2dcontour": [
           {
            "colorbar": {
             "outlinewidth": 0,
             "ticks": ""
            },
            "colorscale": [
             [
              0,
              "#0d0887"
             ],
             [
              0.1111111111111111,
              "#46039f"
             ],
             [
              0.2222222222222222,
              "#7201a8"
             ],
             [
              0.3333333333333333,
              "#9c179e"
             ],
             [
              0.4444444444444444,
              "#bd3786"
             ],
             [
              0.5555555555555556,
              "#d8576b"
             ],
             [
              0.6666666666666666,
              "#ed7953"
             ],
             [
              0.7777777777777778,
              "#fb9f3a"
             ],
             [
              0.8888888888888888,
              "#fdca26"
             ],
             [
              1,
              "#f0f921"
             ]
            ],
            "type": "histogram2dcontour"
           }
          ],
          "mesh3d": [
           {
            "colorbar": {
             "outlinewidth": 0,
             "ticks": ""
            },
            "type": "mesh3d"
           }
          ],
          "parcoords": [
           {
            "line": {
             "colorbar": {
              "outlinewidth": 0,
              "ticks": ""
             }
            },
            "type": "parcoords"
           }
          ],
          "pie": [
           {
            "automargin": true,
            "type": "pie"
           }
          ],
          "scatter": [
           {
            "fillpattern": {
             "fillmode": "overlay",
             "size": 10,
             "solidity": 0.2
            },
            "type": "scatter"
           }
          ],
          "scatter3d": [
           {
            "line": {
             "colorbar": {
              "outlinewidth": 0,
              "ticks": ""
             }
            },
            "marker": {
             "colorbar": {
              "outlinewidth": 0,
              "ticks": ""
             }
            },
            "type": "scatter3d"
           }
          ],
          "scattercarpet": [
           {
            "marker": {
             "colorbar": {
              "outlinewidth": 0,
              "ticks": ""
             }
            },
            "type": "scattercarpet"
           }
          ],
          "scattergeo": [
           {
            "marker": {
             "colorbar": {
              "outlinewidth": 0,
              "ticks": ""
             }
            },
            "type": "scattergeo"
           }
          ],
          "scattergl": [
           {
            "marker": {
             "colorbar": {
              "outlinewidth": 0,
              "ticks": ""
             }
            },
            "type": "scattergl"
           }
          ],
          "scattermap": [
           {
            "marker": {
             "colorbar": {
              "outlinewidth": 0,
              "ticks": ""
             }
            },
            "type": "scattermap"
           }
          ],
          "scattermapbox": [
           {
            "marker": {
             "colorbar": {
              "outlinewidth": 0,
              "ticks": ""
             }
            },
            "type": "scattermapbox"
           }
          ],
          "scatterpolar": [
           {
            "marker": {
             "colorbar": {
              "outlinewidth": 0,
              "ticks": ""
             }
            },
            "type": "scatterpolar"
           }
          ],
          "scatterpolargl": [
           {
            "marker": {
             "colorbar": {
              "outlinewidth": 0,
              "ticks": ""
             }
            },
            "type": "scatterpolargl"
           }
          ],
          "scatterternary": [
           {
            "marker": {
             "colorbar": {
              "outlinewidth": 0,
              "ticks": ""
             }
            },
            "type": "scatterternary"
           }
          ],
          "surface": [
           {
            "colorbar": {
             "outlinewidth": 0,
             "ticks": ""
            },
            "colorscale": [
             [
              0,
              "#0d0887"
             ],
             [
              0.1111111111111111,
              "#46039f"
             ],
             [
              0.2222222222222222,
              "#7201a8"
             ],
             [
              0.3333333333333333,
              "#9c179e"
             ],
             [
              0.4444444444444444,
              "#bd3786"
             ],
             [
              0.5555555555555556,
              "#d8576b"
             ],
             [
              0.6666666666666666,
              "#ed7953"
             ],
             [
              0.7777777777777778,
              "#fb9f3a"
             ],
             [
              0.8888888888888888,
              "#fdca26"
             ],
             [
              1,
              "#f0f921"
             ]
            ],
            "type": "surface"
           }
          ],
          "table": [
           {
            "cells": {
             "fill": {
              "color": "#EBF0F8"
             },
             "line": {
              "color": "white"
             }
            },
            "header": {
             "fill": {
              "color": "#C8D4E3"
             },
             "line": {
              "color": "white"
             }
            },
            "type": "table"
           }
          ]
         },
         "layout": {
          "annotationdefaults": {
           "arrowcolor": "#2a3f5f",
           "arrowhead": 0,
           "arrowwidth": 1
          },
          "autotypenumbers": "strict",
          "coloraxis": {
           "colorbar": {
            "outlinewidth": 0,
            "ticks": ""
           }
          },
          "colorscale": {
           "diverging": [
            [
             0,
             "#8e0152"
            ],
            [
             0.1,
             "#c51b7d"
            ],
            [
             0.2,
             "#de77ae"
            ],
            [
             0.3,
             "#f1b6da"
            ],
            [
             0.4,
             "#fde0ef"
            ],
            [
             0.5,
             "#f7f7f7"
            ],
            [
             0.6,
             "#e6f5d0"
            ],
            [
             0.7,
             "#b8e186"
            ],
            [
             0.8,
             "#7fbc41"
            ],
            [
             0.9,
             "#4d9221"
            ],
            [
             1,
             "#276419"
            ]
           ],
           "sequential": [
            [
             0,
             "#0d0887"
            ],
            [
             0.1111111111111111,
             "#46039f"
            ],
            [
             0.2222222222222222,
             "#7201a8"
            ],
            [
             0.3333333333333333,
             "#9c179e"
            ],
            [
             0.4444444444444444,
             "#bd3786"
            ],
            [
             0.5555555555555556,
             "#d8576b"
            ],
            [
             0.6666666666666666,
             "#ed7953"
            ],
            [
             0.7777777777777778,
             "#fb9f3a"
            ],
            [
             0.8888888888888888,
             "#fdca26"
            ],
            [
             1,
             "#f0f921"
            ]
           ],
           "sequentialminus": [
            [
             0,
             "#0d0887"
            ],
            [
             0.1111111111111111,
             "#46039f"
            ],
            [
             0.2222222222222222,
             "#7201a8"
            ],
            [
             0.3333333333333333,
             "#9c179e"
            ],
            [
             0.4444444444444444,
             "#bd3786"
            ],
            [
             0.5555555555555556,
             "#d8576b"
            ],
            [
             0.6666666666666666,
             "#ed7953"
            ],
            [
             0.7777777777777778,
             "#fb9f3a"
            ],
            [
             0.8888888888888888,
             "#fdca26"
            ],
            [
             1,
             "#f0f921"
            ]
           ]
          },
          "colorway": [
           "#636efa",
           "#EF553B",
           "#00cc96",
           "#ab63fa",
           "#FFA15A",
           "#19d3f3",
           "#FF6692",
           "#B6E880",
           "#FF97FF",
           "#FECB52"
          ],
          "font": {
           "color": "#2a3f5f"
          },
          "geo": {
           "bgcolor": "white",
           "lakecolor": "white",
           "landcolor": "#E5ECF6",
           "showlakes": true,
           "showland": true,
           "subunitcolor": "white"
          },
          "hoverlabel": {
           "align": "left"
          },
          "hovermode": "closest",
          "mapbox": {
           "style": "light"
          },
          "paper_bgcolor": "white",
          "plot_bgcolor": "#E5ECF6",
          "polar": {
           "angularaxis": {
            "gridcolor": "white",
            "linecolor": "white",
            "ticks": ""
           },
           "bgcolor": "#E5ECF6",
           "radialaxis": {
            "gridcolor": "white",
            "linecolor": "white",
            "ticks": ""
           }
          },
          "scene": {
           "xaxis": {
            "backgroundcolor": "#E5ECF6",
            "gridcolor": "white",
            "gridwidth": 2,
            "linecolor": "white",
            "showbackground": true,
            "ticks": "",
            "zerolinecolor": "white"
           },
           "yaxis": {
            "backgroundcolor": "#E5ECF6",
            "gridcolor": "white",
            "gridwidth": 2,
            "linecolor": "white",
            "showbackground": true,
            "ticks": "",
            "zerolinecolor": "white"
           },
           "zaxis": {
            "backgroundcolor": "#E5ECF6",
            "gridcolor": "white",
            "gridwidth": 2,
            "linecolor": "white",
            "showbackground": true,
            "ticks": "",
            "zerolinecolor": "white"
           }
          },
          "shapedefaults": {
           "line": {
            "color": "#2a3f5f"
           }
          },
          "ternary": {
           "aaxis": {
            "gridcolor": "white",
            "linecolor": "white",
            "ticks": ""
           },
           "baxis": {
            "gridcolor": "white",
            "linecolor": "white",
            "ticks": ""
           },
           "bgcolor": "#E5ECF6",
           "caxis": {
            "gridcolor": "white",
            "linecolor": "white",
            "ticks": ""
           }
          },
          "title": {
           "x": 0.05
          },
          "xaxis": {
           "automargin": true,
           "gridcolor": "white",
           "linecolor": "white",
           "ticks": "",
           "title": {
            "standoff": 15
           },
           "zerolinecolor": "white",
           "zerolinewidth": 2
          },
          "yaxis": {
           "automargin": true,
           "gridcolor": "white",
           "linecolor": "white",
           "ticks": "",
           "title": {
            "standoff": 15
           },
           "zerolinecolor": "white",
           "zerolinewidth": 2
          }
         }
        },
        "title": {
         "text": "Churn rate by PaymentMethod"
        },
        "xaxis": {
         "anchor": "y",
         "domain": [
          0,
          1
         ],
         "title": {
          "text": "PaymentMethod"
         }
        },
        "yaxis": {
         "anchor": "x",
         "domain": [
          0,
          1
         ],
         "title": {
          "text": "Count"
         }
        }
       }
      }
     },
     "metadata": {},
     "output_type": "display_data"
    }
   ],
   "source": [
    "bar('Contract')\n",
    "bar('PaperlessBilling')\n",
    "bar('PaymentMethod')"
   ]
  },
  {
   "cell_type": "markdown",
   "id": "71cbb869",
   "metadata": {},
   "source": [
    "* **Payment**:\n",
    "The shorter the contract the higher churn rate as those with longer plans face additional barriers when cancelling prematurely. This clearly explains the motivation for companies to have long-term relationship with their customers. Churn Rate is higher for the customers who opted for paperless billing, About 59.2% of the customers make paperless billing. Customers who pay with electronic check are more likely to churn and this kind of payment is more common than other payment types.\n",
    "---\n",
    "# Explore Numeric features"
   ]
  },
  {
   "cell_type": "code",
   "execution_count": 24,
   "id": "9ab43172",
   "metadata": {},
   "outputs": [
    {
     "data": {
      "text/plain": [
       "customerID           object\n",
       "gender               object\n",
       "SeniorCitizen        object\n",
       "Partner              object\n",
       "Dependents           object\n",
       "tenure                int64\n",
       "PhoneService         object\n",
       "MultipleLines        object\n",
       "InternetService      object\n",
       "OnlineSecurity       object\n",
       "OnlineBackup         object\n",
       "DeviceProtection     object\n",
       "TechSupport          object\n",
       "StreamingTV          object\n",
       "StreamingMovies      object\n",
       "Contract             object\n",
       "PaperlessBilling     object\n",
       "PaymentMethod        object\n",
       "MonthlyCharges      float64\n",
       "TotalCharges         object\n",
       "Churn                object\n",
       "dtype: object"
      ]
     },
     "execution_count": 24,
     "metadata": {},
     "output_type": "execute_result"
    }
   ],
   "source": [
    "data_df.dtypes"
   ]
  },
  {
   "cell_type": "code",
   "execution_count": 25,
   "id": "ec2ceeaf",
   "metadata": {},
   "outputs": [
    {
     "name": "stdout",
     "output_type": "stream",
     "text": [
      "could not convert string to float: ' '\n"
     ]
    }
   ],
   "source": [
    "try:\n",
    "    data_df['TotalCharges'] = data_df['TotalCharges'].astype(float)\n",
    "except ValueError as ve:\n",
    "    print (ve)"
   ]
  },
  {
   "cell_type": "code",
   "execution_count": 26,
   "id": "894984a8",
   "metadata": {},
   "outputs": [],
   "source": [
    "data_df['TotalCharges'] = pd.to_numeric(data_df['TotalCharges'],errors='coerce')\n",
    "#Fill the missing values with with the median value\n",
    "data_df['TotalCharges'] = data_df['TotalCharges'].fillna(data_df['TotalCharges'].median())"
   ]
  },
  {
   "cell_type": "code",
   "execution_count": 27,
   "id": "57ef49b3",
   "metadata": {},
   "outputs": [],
   "source": [
    "# Defining the histogram plotting function\n",
    "def hist(feature):\n",
    "    group_df = data_df.groupby([feature, 'Churn']).size().reset_index()\n",
    "    group_df = group_df.rename(columns={0: 'Count'})\n",
    "    fig = px.histogram(group_df, x=feature, y='Count', color='Churn', marginal='box', title=f'Churn rate frequency to {feature} distribution', color_discrete_sequence=[\"green\", \"red\"])\n",
    "    fig.show()"
   ]
  },
  {
   "cell_type": "code",
   "execution_count": 28,
   "id": "06db15f0",
   "metadata": {},
   "outputs": [
    {
     "data": {
      "application/vnd.plotly.v1+json": {
       "config": {
        "plotlyServerURL": "https://plot.ly"
       },
       "data": [
        {
         "bingroup": "x",
         "histfunc": "sum",
         "hovertemplate": "Churn=No<br>tenure=%{x}<br>sum of Count=%{y}<extra></extra>",
         "legendgroup": "No",
         "marker": {
          "color": "green",
          "pattern": {
           "shape": ""
          }
         },
         "name": "No",
         "orientation": "v",
         "showlegend": true,
         "type": "histogram",
         "x": {
          "bdata": "AAECAwQFBgcICQoLDA0ODxAREhMUFRYXGBkaGxwdHh8gISIjJCUmJygpKissLS4vMDEyMzQ1Njc4OTo7PD0+P0BBQkNERUZHSA==",
          "dtype": "i1"
         },
         "xaxis": "x",
         "y": {
          "bdata": "CwDpAHMAagBdAEUARgBQAFEASQBHAEQATwBHADQAPgA0AD0ASQA2ADUALgA/AEgARwA4AEAAOwAtADkAOAAxADIAMgA1AEkAKAAyAC4AKgAzADgAMwAyAC0ANwA+ADYANwAzADoAPABIADgANwA3AEYAOQA4ADQARgBEAEEARABMAEMATABYAFsAVwBsAKQAZAE=",
          "dtype": "i2"
         },
         "yaxis": "y"
        },
        {
         "hovertemplate": "Churn=No<br>tenure=%{x}<extra></extra>",
         "legendgroup": "No",
         "marker": {
          "color": "green"
         },
         "name": "No",
         "notched": true,
         "showlegend": false,
         "type": "box",
         "x": {
          "bdata": "AAECAwQFBgcICQoLDA0ODxAREhMUFRYXGBkaGxwdHh8gISIjJCUmJygpKissLS4vMDEyMzQ1Njc4OTo7PD0+P0BBQkNERUZHSA==",
          "dtype": "i1"
         },
         "xaxis": "x2",
         "yaxis": "y2"
        },
        {
         "bingroup": "x",
         "histfunc": "sum",
         "hovertemplate": "Churn=Yes<br>tenure=%{x}<br>sum of Count=%{y}<extra></extra>",
         "legendgroup": "Yes",
         "marker": {
          "color": "red",
          "pattern": {
           "shape": ""
          }
         },
         "name": "Yes",
         "orientation": "v",
         "showlegend": true,
         "type": "histogram",
         "x": {
          "bdata": "AQIDBAUGBwgJCgsMDQ4PEBESExQVFhcYGRobHB0eHyAhIiMkJSYnKCkqKywtLi8wMTIzNDU2Nzg5Ojs8PT4/QEFCQ0RFRkdI",
          "dtype": "i1"
         },
         "xaxis": "x",
         "y": {
          "bdata": "fAF7AF4AUwBAACgAMwAqAC4ALQAfACYAJgAYACUAHAAaABgAEwASABEAGwANABcAFwAPAA0ADAAPABAAEAATAA4ADAAPAAoADwANAA4ADQAOAA4ADwAGAAYADAAOAAkADwAKAAgACAAOAA0ACQAKAAgACwAIAAYACAAFAAQABAAJAA0ACgAJAAgACwAGAAYA",
          "dtype": "i2"
         },
         "yaxis": "y"
        },
        {
         "hovertemplate": "Churn=Yes<br>tenure=%{x}<extra></extra>",
         "legendgroup": "Yes",
         "marker": {
          "color": "red"
         },
         "name": "Yes",
         "notched": true,
         "showlegend": false,
         "type": "box",
         "x": {
          "bdata": "AQIDBAUGBwgJCgsMDQ4PEBESExQVFhcYGRobHB0eHyAhIiMkJSYnKCkqKywtLi8wMTIzNDU2Nzg5Ojs8PT4/QEFCQ0RFRkdI",
          "dtype": "i1"
         },
         "xaxis": "x2",
         "yaxis": "y2"
        }
       ],
       "layout": {
        "barmode": "relative",
        "legend": {
         "title": {
          "text": "Churn"
         },
         "tracegroupgap": 0
        },
        "template": {
         "data": {
          "bar": [
           {
            "error_x": {
             "color": "#2a3f5f"
            },
            "error_y": {
             "color": "#2a3f5f"
            },
            "marker": {
             "line": {
              "color": "#E5ECF6",
              "width": 0.5
             },
             "pattern": {
              "fillmode": "overlay",
              "size": 10,
              "solidity": 0.2
             }
            },
            "type": "bar"
           }
          ],
          "barpolar": [
           {
            "marker": {
             "line": {
              "color": "#E5ECF6",
              "width": 0.5
             },
             "pattern": {
              "fillmode": "overlay",
              "size": 10,
              "solidity": 0.2
             }
            },
            "type": "barpolar"
           }
          ],
          "carpet": [
           {
            "aaxis": {
             "endlinecolor": "#2a3f5f",
             "gridcolor": "white",
             "linecolor": "white",
             "minorgridcolor": "white",
             "startlinecolor": "#2a3f5f"
            },
            "baxis": {
             "endlinecolor": "#2a3f5f",
             "gridcolor": "white",
             "linecolor": "white",
             "minorgridcolor": "white",
             "startlinecolor": "#2a3f5f"
            },
            "type": "carpet"
           }
          ],
          "choropleth": [
           {
            "colorbar": {
             "outlinewidth": 0,
             "ticks": ""
            },
            "type": "choropleth"
           }
          ],
          "contour": [
           {
            "colorbar": {
             "outlinewidth": 0,
             "ticks": ""
            },
            "colorscale": [
             [
              0,
              "#0d0887"
             ],
             [
              0.1111111111111111,
              "#46039f"
             ],
             [
              0.2222222222222222,
              "#7201a8"
             ],
             [
              0.3333333333333333,
              "#9c179e"
             ],
             [
              0.4444444444444444,
              "#bd3786"
             ],
             [
              0.5555555555555556,
              "#d8576b"
             ],
             [
              0.6666666666666666,
              "#ed7953"
             ],
             [
              0.7777777777777778,
              "#fb9f3a"
             ],
             [
              0.8888888888888888,
              "#fdca26"
             ],
             [
              1,
              "#f0f921"
             ]
            ],
            "type": "contour"
           }
          ],
          "contourcarpet": [
           {
            "colorbar": {
             "outlinewidth": 0,
             "ticks": ""
            },
            "type": "contourcarpet"
           }
          ],
          "heatmap": [
           {
            "colorbar": {
             "outlinewidth": 0,
             "ticks": ""
            },
            "colorscale": [
             [
              0,
              "#0d0887"
             ],
             [
              0.1111111111111111,
              "#46039f"
             ],
             [
              0.2222222222222222,
              "#7201a8"
             ],
             [
              0.3333333333333333,
              "#9c179e"
             ],
             [
              0.4444444444444444,
              "#bd3786"
             ],
             [
              0.5555555555555556,
              "#d8576b"
             ],
             [
              0.6666666666666666,
              "#ed7953"
             ],
             [
              0.7777777777777778,
              "#fb9f3a"
             ],
             [
              0.8888888888888888,
              "#fdca26"
             ],
             [
              1,
              "#f0f921"
             ]
            ],
            "type": "heatmap"
           }
          ],
          "histogram": [
           {
            "marker": {
             "pattern": {
              "fillmode": "overlay",
              "size": 10,
              "solidity": 0.2
             }
            },
            "type": "histogram"
           }
          ],
          "histogram2d": [
           {
            "colorbar": {
             "outlinewidth": 0,
             "ticks": ""
            },
            "colorscale": [
             [
              0,
              "#0d0887"
             ],
             [
              0.1111111111111111,
              "#46039f"
             ],
             [
              0.2222222222222222,
              "#7201a8"
             ],
             [
              0.3333333333333333,
              "#9c179e"
             ],
             [
              0.4444444444444444,
              "#bd3786"
             ],
             [
              0.5555555555555556,
              "#d8576b"
             ],
             [
              0.6666666666666666,
              "#ed7953"
             ],
             [
              0.7777777777777778,
              "#fb9f3a"
             ],
             [
              0.8888888888888888,
              "#fdca26"
             ],
             [
              1,
              "#f0f921"
             ]
            ],
            "type": "histogram2d"
           }
          ],
          "histogram2dcontour": [
           {
            "colorbar": {
             "outlinewidth": 0,
             "ticks": ""
            },
            "colorscale": [
             [
              0,
              "#0d0887"
             ],
             [
              0.1111111111111111,
              "#46039f"
             ],
             [
              0.2222222222222222,
              "#7201a8"
             ],
             [
              0.3333333333333333,
              "#9c179e"
             ],
             [
              0.4444444444444444,
              "#bd3786"
             ],
             [
              0.5555555555555556,
              "#d8576b"
             ],
             [
              0.6666666666666666,
              "#ed7953"
             ],
             [
              0.7777777777777778,
              "#fb9f3a"
             ],
             [
              0.8888888888888888,
              "#fdca26"
             ],
             [
              1,
              "#f0f921"
             ]
            ],
            "type": "histogram2dcontour"
           }
          ],
          "mesh3d": [
           {
            "colorbar": {
             "outlinewidth": 0,
             "ticks": ""
            },
            "type": "mesh3d"
           }
          ],
          "parcoords": [
           {
            "line": {
             "colorbar": {
              "outlinewidth": 0,
              "ticks": ""
             }
            },
            "type": "parcoords"
           }
          ],
          "pie": [
           {
            "automargin": true,
            "type": "pie"
           }
          ],
          "scatter": [
           {
            "fillpattern": {
             "fillmode": "overlay",
             "size": 10,
             "solidity": 0.2
            },
            "type": "scatter"
           }
          ],
          "scatter3d": [
           {
            "line": {
             "colorbar": {
              "outlinewidth": 0,
              "ticks": ""
             }
            },
            "marker": {
             "colorbar": {
              "outlinewidth": 0,
              "ticks": ""
             }
            },
            "type": "scatter3d"
           }
          ],
          "scattercarpet": [
           {
            "marker": {
             "colorbar": {
              "outlinewidth": 0,
              "ticks": ""
             }
            },
            "type": "scattercarpet"
           }
          ],
          "scattergeo": [
           {
            "marker": {
             "colorbar": {
              "outlinewidth": 0,
              "ticks": ""
             }
            },
            "type": "scattergeo"
           }
          ],
          "scattergl": [
           {
            "marker": {
             "colorbar": {
              "outlinewidth": 0,
              "ticks": ""
             }
            },
            "type": "scattergl"
           }
          ],
          "scattermap": [
           {
            "marker": {
             "colorbar": {
              "outlinewidth": 0,
              "ticks": ""
             }
            },
            "type": "scattermap"
           }
          ],
          "scattermapbox": [
           {
            "marker": {
             "colorbar": {
              "outlinewidth": 0,
              "ticks": ""
             }
            },
            "type": "scattermapbox"
           }
          ],
          "scatterpolar": [
           {
            "marker": {
             "colorbar": {
              "outlinewidth": 0,
              "ticks": ""
             }
            },
            "type": "scatterpolar"
           }
          ],
          "scatterpolargl": [
           {
            "marker": {
             "colorbar": {
              "outlinewidth": 0,
              "ticks": ""
             }
            },
            "type": "scatterpolargl"
           }
          ],
          "scatterternary": [
           {
            "marker": {
             "colorbar": {
              "outlinewidth": 0,
              "ticks": ""
             }
            },
            "type": "scatterternary"
           }
          ],
          "surface": [
           {
            "colorbar": {
             "outlinewidth": 0,
             "ticks": ""
            },
            "colorscale": [
             [
              0,
              "#0d0887"
             ],
             [
              0.1111111111111111,
              "#46039f"
             ],
             [
              0.2222222222222222,
              "#7201a8"
             ],
             [
              0.3333333333333333,
              "#9c179e"
             ],
             [
              0.4444444444444444,
              "#bd3786"
             ],
             [
              0.5555555555555556,
              "#d8576b"
             ],
             [
              0.6666666666666666,
              "#ed7953"
             ],
             [
              0.7777777777777778,
              "#fb9f3a"
             ],
             [
              0.8888888888888888,
              "#fdca26"
             ],
             [
              1,
              "#f0f921"
             ]
            ],
            "type": "surface"
           }
          ],
          "table": [
           {
            "cells": {
             "fill": {
              "color": "#EBF0F8"
             },
             "line": {
              "color": "white"
             }
            },
            "header": {
             "fill": {
              "color": "#C8D4E3"
             },
             "line": {
              "color": "white"
             }
            },
            "type": "table"
           }
          ]
         },
         "layout": {
          "annotationdefaults": {
           "arrowcolor": "#2a3f5f",
           "arrowhead": 0,
           "arrowwidth": 1
          },
          "autotypenumbers": "strict",
          "coloraxis": {
           "colorbar": {
            "outlinewidth": 0,
            "ticks": ""
           }
          },
          "colorscale": {
           "diverging": [
            [
             0,
             "#8e0152"
            ],
            [
             0.1,
             "#c51b7d"
            ],
            [
             0.2,
             "#de77ae"
            ],
            [
             0.3,
             "#f1b6da"
            ],
            [
             0.4,
             "#fde0ef"
            ],
            [
             0.5,
             "#f7f7f7"
            ],
            [
             0.6,
             "#e6f5d0"
            ],
            [
             0.7,
             "#b8e186"
            ],
            [
             0.8,
             "#7fbc41"
            ],
            [
             0.9,
             "#4d9221"
            ],
            [
             1,
             "#276419"
            ]
           ],
           "sequential": [
            [
             0,
             "#0d0887"
            ],
            [
             0.1111111111111111,
             "#46039f"
            ],
            [
             0.2222222222222222,
             "#7201a8"
            ],
            [
             0.3333333333333333,
             "#9c179e"
            ],
            [
             0.4444444444444444,
             "#bd3786"
            ],
            [
             0.5555555555555556,
             "#d8576b"
            ],
            [
             0.6666666666666666,
             "#ed7953"
            ],
            [
             0.7777777777777778,
             "#fb9f3a"
            ],
            [
             0.8888888888888888,
             "#fdca26"
            ],
            [
             1,
             "#f0f921"
            ]
           ],
           "sequentialminus": [
            [
             0,
             "#0d0887"
            ],
            [
             0.1111111111111111,
             "#46039f"
            ],
            [
             0.2222222222222222,
             "#7201a8"
            ],
            [
             0.3333333333333333,
             "#9c179e"
            ],
            [
             0.4444444444444444,
             "#bd3786"
            ],
            [
             0.5555555555555556,
             "#d8576b"
            ],
            [
             0.6666666666666666,
             "#ed7953"
            ],
            [
             0.7777777777777778,
             "#fb9f3a"
            ],
            [
             0.8888888888888888,
             "#fdca26"
            ],
            [
             1,
             "#f0f921"
            ]
           ]
          },
          "colorway": [
           "#636efa",
           "#EF553B",
           "#00cc96",
           "#ab63fa",
           "#FFA15A",
           "#19d3f3",
           "#FF6692",
           "#B6E880",
           "#FF97FF",
           "#FECB52"
          ],
          "font": {
           "color": "#2a3f5f"
          },
          "geo": {
           "bgcolor": "white",
           "lakecolor": "white",
           "landcolor": "#E5ECF6",
           "showlakes": true,
           "showland": true,
           "subunitcolor": "white"
          },
          "hoverlabel": {
           "align": "left"
          },
          "hovermode": "closest",
          "mapbox": {
           "style": "light"
          },
          "paper_bgcolor": "white",
          "plot_bgcolor": "#E5ECF6",
          "polar": {
           "angularaxis": {
            "gridcolor": "white",
            "linecolor": "white",
            "ticks": ""
           },
           "bgcolor": "#E5ECF6",
           "radialaxis": {
            "gridcolor": "white",
            "linecolor": "white",
            "ticks": ""
           }
          },
          "scene": {
           "xaxis": {
            "backgroundcolor": "#E5ECF6",
            "gridcolor": "white",
            "gridwidth": 2,
            "linecolor": "white",
            "showbackground": true,
            "ticks": "",
            "zerolinecolor": "white"
           },
           "yaxis": {
            "backgroundcolor": "#E5ECF6",
            "gridcolor": "white",
            "gridwidth": 2,
            "linecolor": "white",
            "showbackground": true,
            "ticks": "",
            "zerolinecolor": "white"
           },
           "zaxis": {
            "backgroundcolor": "#E5ECF6",
            "gridcolor": "white",
            "gridwidth": 2,
            "linecolor": "white",
            "showbackground": true,
            "ticks": "",
            "zerolinecolor": "white"
           }
          },
          "shapedefaults": {
           "line": {
            "color": "#2a3f5f"
           }
          },
          "ternary": {
           "aaxis": {
            "gridcolor": "white",
            "linecolor": "white",
            "ticks": ""
           },
           "baxis": {
            "gridcolor": "white",
            "linecolor": "white",
            "ticks": ""
           },
           "bgcolor": "#E5ECF6",
           "caxis": {
            "gridcolor": "white",
            "linecolor": "white",
            "ticks": ""
           }
          },
          "title": {
           "x": 0.05
          },
          "xaxis": {
           "automargin": true,
           "gridcolor": "white",
           "linecolor": "white",
           "ticks": "",
           "title": {
            "standoff": 15
           },
           "zerolinecolor": "white",
           "zerolinewidth": 2
          },
          "yaxis": {
           "automargin": true,
           "gridcolor": "white",
           "linecolor": "white",
           "ticks": "",
           "title": {
            "standoff": 15
           },
           "zerolinecolor": "white",
           "zerolinewidth": 2
          }
         }
        },
        "title": {
         "text": "Churn rate frequency to tenure distribution"
        },
        "xaxis": {
         "anchor": "y",
         "domain": [
          0,
          1
         ],
         "title": {
          "text": "tenure"
         }
        },
        "xaxis2": {
         "anchor": "y2",
         "domain": [
          0,
          1
         ],
         "matches": "x",
         "showgrid": true,
         "showticklabels": false
        },
        "yaxis": {
         "anchor": "x",
         "domain": [
          0,
          0.7326
         ],
         "title": {
          "text": "sum of Count"
         }
        },
        "yaxis2": {
         "anchor": "x2",
         "domain": [
          0.7426,
          1
         ],
         "matches": "y2",
         "showgrid": false,
         "showline": false,
         "showticklabels": false,
         "ticks": ""
        }
       }
      }
     },
     "metadata": {},
     "output_type": "display_data"
    },
    {
     "data": {
      "application/vnd.plotly.v1+json": {
       "config": {
        "plotlyServerURL": "https://plot.ly"
       },
       "data": [
        {
         "bingroup": "x",
         "histfunc": "sum",
         "hovertemplate": "Churn=No<br>MonthlyCharges=%{x}<br>sum of Count=%{y}<extra></extra>",
         "legendgroup": "No",
         "marker": {
          "color": "green",
          "pattern": {
           "shape": ""
          }
         },
         "name": "No",
         "orientation": "v",
         "showlegend": true,
         "type": "histogram",
         "x": {
          "bdata": "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",
          "dtype": "f8"
         },
         "xaxis": "x",
         "y": {
          "bdata": "AQEBAgEHBAIFBgkLCxEPFRcbGR0mIScpISMoKCkoOiEiHSMbIxwfGRgOFg0RBw4IBgQFBQIDAgEBAQECAQECAQEDAQIDBAUFBgYFCAcFCgsGBggIDAcMCgoLEQsQDAcSBwYLCgQICgQJCAIDAQIGAgUCAgMCAgMBAQEBAgEDAQECAgMBAgEDBQEEAQICAgIBAwIBAgEBAQEBAQIEAQECAQMCAgEBAQIBAgEBAwICAQIBAQQCAwEBAwEFAwICAQIBAgEBAQECAgEBAQIBBAECAQIBAQEBAQMBAgECAQEDAgMCAgEEAgQBAQECAQEBAQEBAQEBAQIBAgEEAgIEBQMCAgIDAgMIAgUFBAEECAMDBQkEAQEFBgICBAMBBQEDAQMDBQIBAQEDAwEBAQEBAwEBAQIBAQIBAwIHAgEDAwMDBgMCAQQFAwQCAwQDBwgGAwUGBAcFBAcFAgECCAMCBAMDAgMHBAMFAQIDAgMBAgIBAgEBAQEBAQEBAQEBAgIBAQEEAgEDBQEEBAICAgIEBAYFBgMFBQUFBgkCBwQEBQQGAwIEAwQJAwUFAwIEBwIHAQMBAQMDBQIFBAIDAQICAQQCAQEBAgEBAQEBAQIBAwIEAgEBAgMBAQQCAgMDAgQBAgECAQgEBQUEAwYIBQYDCgMDAwUDAgIBBAEEAwIBAwIFBAIDAQIDAgIFBgMCAgEBAQEDAQECAwEBAQEBAwEBAQEBAQEBAgMBAgICAgIEAwMFAQIEBwQEAgEDAQQEBAUGBAEDAgUFAQIBAQUDBgUCAQIDAQEEAgQBBAIGAgEBAgECAwIBAQIBBQEBAQMBAQEBAgIBAQIBAQECAQIGAQEBBAQGBgUFAQIFAwIIBQIEBwUEBQUIAQUEBwYDBQgEBAYFBAMGAgQCAwQDBAYBAQICAgEBAgEBAQEBAgEBBgEBAQICAwIDAwIBAwIBAwIDBQMBAgIDBQEFBAUDAwIGBgMFAgcHBQMHBQYDAwUCCAUFAwUIBwEJBQQDBAUCBAQCAwMFAwECAQECAgEBAQIBAgICAQEBAgICAQIBAgIBAgEDAQQDAgEDAQYEBQUFBAMCBgoDBgMEAgUEBQIDAwQKAQcHBQYEBAMFBQQJBAkHBAcDBQcEAgkDAQUCBAQCAwMDAgEBAwEBAwMDAgEBAgMCAwEDAQEDAQEBAQIDBAIDAgEDAQECAQIFAwYFAgQECAYFBQQBBgIGBAsEBgQDAwQEBAQHAwIGBAIDAwQDAwIGBgEFBgEDAgEEBgEDAQMCAgMCAgEBAwECAQIBAwEBAQEBAQICAwECAQMBAQICAgICBAQCAwQDBwUGBAMDBQUJBAQFBQQLBgMCCAYHAQUCBwcHAgUEBwcCBgEGBAMCBAIFAgMBAgQBAQMBAgUBAwMCAgIDAQECAgMCAgECAgQBAgMBBAICAgEBAwECAQUEBgMEAgcDBQQCBAMFAwcHAQYDCQIIBAMCBQEGAQUBAgYFAgIDBAMBBAEDAQIDBAIDAgIDAQQCAgMBAQIDAgIBAQQCAgECAQEBAgEBAgMFAgQDCQMDBQEEAwMFAgQBCAUCAwIDAgIFAQUEAgcCBQQFBwIEAgUCAwQBAwMFAgQEAwECAQECAQMBAwECAQIBAwIBAQEBAwMEAwEBAQECAQQCBAICAgUDBQYFAgQEBQYEAgMDAQIEAgUDBAUFAgUGAgcFAgQEAwIDBAECAgECBAMDAQIDAwEDAgMCAQQBAQECAQEBAQEEAwEBAQIDAQMBAgUCAgMCAQICAwECAwEDBAECAwIFAwMEAQEFAgIEBAIBAwMCAgMCAwICAQQGAQMCAQMGAQICAQMBAgIBAQICAQICAQIBAgEBAQEBAQEBAQEBAQECAQEBAQEBAQUBAQECAgIDAgIBAQICAQEBAgIBBAMEAQIDAgECBAEBAwIBAwEBAQEBAgEBAQEBAQEBAQECAQE=",
          "dtype": "i1"
         },
         "yaxis": "y"
        },
        {
         "hovertemplate": "Churn=No<br>MonthlyCharges=%{x}<extra></extra>",
         "legendgroup": "No",
         "marker": {
          "color": "green"
         },
         "name": "No",
         "notched": true,
         "showlegend": false,
         "type": "box",
         "x": {
          "bdata": "AAAAAABAMkBmZmZmZmYyQM3MzMzMjDJAMzMzMzOzMkAAAAAAAMAyQM3MzMzMzDJAmpmZmZnZMkBmZmZmZuYyQDMzMzMz8zJAAAAAAAAAM0DNzMzMzAwzQJqZmZmZGTNAZmZmZmYmM0AzMzMzMzMzQAAAAAAAQDNAzczMzMxMM0CamZmZmVkzQGZmZmZmZjNAMzMzMzNzM0AAAAAAAIAzQM3MzMzMjDNAmpmZmZmZM0BmZmZmZqYzQDMzMzMzszNAAAAAAADAM0DNzMzMzMwzQJqZmZmZ2TNAZmZmZmbmM0AzMzMzM/MzQAAAAAAAADRAzczMzMwMNECamZmZmRk0QGZmZmZmJjRAMzMzMzMzNEAAAAAAAEA0QM3MzMzMTDRAmpmZmZlZNEBmZmZmZmY0QDMzMzMzczRAAAAAAACANEDNzMzMzIw0QJqZmZmZmTRAZmZmZmamNEAzMzMzM7M0QAAAAAAAwDRAzczMzMzMNECamZmZmdk0QGZmZmZm5jRAMzMzMzPzNEAAAAAAAAA1QM3MzMzMDDVAmpmZmZkZNUBmZmZmZiY1QDMzMzMzMzVAAAAAAABANUDNzMzMzEw1QDMzMzMzczVAMzMzMzPzNkDNzMzMzAw3QM3MzMzMTDdAZmZmZmZmN0AAAAAAAIA3QM3MzMzMjDdAmpmZmZmZN0BmZmZmZqY3QAAAAAAAwDdAzczMzMzMN0CamZmZmdk3QGZmZmZm5jdAMzMzMzPzN0AAAAAAAAA4QM3MzMzMDDhAmpmZmZkZOEBmZmZmZiY4QDMzMzMzMzhAAAAAAABAOEDNzMzMzEw4QJqZmZmZWThAZmZmZmZmOEAzMzMzM3M4QAAAAAAAgDhAzczMzMyMOECamZmZmZk4QGZmZmZmpjhAMzMzMzOzOEAAAAAAAMA4QM3MzMzMzDhAmpmZmZnZOEBmZmZmZuY4QDMzMzMz8zhAAAAAAAAAOUDNzMzMzAw5QJqZmZmZGTlAZmZmZmYmOUAzMzMzMzM5QAAAAAAAQDlAzczMzMxMOUCamZmZmVk5QGZmZmZmZjlAMzMzMzNzOUAAAAAAAIA5QM3MzMzMjDlAmpmZmZmZOUBmZmZmZqY5QDMzMzMzszlAAAAAAADAOUDNzMzMzMw5QJqZmZmZ2TlAZmZmZmbmOUAzMzMzM/M5QAAAAAAAADpAzczMzMwMOkCamZmZmRk6QDMzMzMzMzpAAAAAAABAOkDNzMzMzEw6QJqZmZmZWTpAZmZmZmZmOkAzMzMzM3M6QAAAAAAAgDpAzczMzMzMOkBmZmZmZuY6QAAAAAAAgDxAzczMzMwMPUCamZmZmRk9QGZmZmZmJj1AMzMzMzMzPUAAAAAAAEA9QM3MzMzMTD1AmpmZmZlZPUAzMzMzM3M9QAAAAAAAgD1AmpmZmZmZPUBmZmZmZqY9QAAAAAAAwD1AzczMzMzMPUCamZmZmdk9QGZmZmZm5j1AzczMzMwMPkCamZmZmRk+QGZmZmZmJj5AMzMzMzMzPkAAAAAAAEA+QJqZmZmZWT5AZmZmZmZmPkAAAAAAAIA+QM3MzMzMjD5AAAAAAADAPkCamZmZmdk+QM3MzMzMDD9AmpmZmZkZP0AzMzMzMzM/QGZmZmZmpj9AMzMzMzOTQECamZmZmblAQM3MzMzMzEBAmpmZmZnZQEAAAAAAAOBAQAAAAAAAAEFAZmZmZmYGQUCamZmZmRlBQAAAAAAAIEFAZmZmZmYmQUAzMzMzMzNBQGZmZmZmRkFAzczMzMxMQUAzMzMzM1NBQJqZmZmZWUFAZmZmZmZmQUDNzMzMzGxBQJqZmZmZeUFAAAAAAACAQUBmZmZmZoZBQM3MzMzMjEFAMzMzMzOTQUCamZmZmZlBQGZmZmZmpkFAzczMzMysQUAzMzMzM7NBQJqZmZmZuUFAAAAAAADAQUBmZmZmZsZBQM3MzMzMzEFAMzMzMzPTQUCamZmZmdlBQAAAAAAA4EFAZmZmZmbmQUAzMzMzM/NBQAAAAAAAAEJAZmZmZmYGQkDNzMzMzAxCQDMzMzMzE0JAAAAAAAAgQkAzMzMzM1NCQJqZmZmZ2UJAzczMzMwMQ0AAAAAAACBDQAAAAAAAQENAZmZmZmZGQ0DNzMzMzExDQGZmZmZmZkNAzczMzMxsQ0AzMzMzM3NDQAAAAAAAgENAzczMzMyMQ0AzMzMzM5NDQJqZmZmZmUNAzczMzMysQ0AzMzMzM7NDQJqZmZmZuUNAAAAAAADAQ0BmZmZmZsZDQM3MzMzMzENAMzMzMzPTQ0CamZmZmdlDQM3MzMzM7ENAMzMzMzPzQ0CamZmZmflDQGZmZmZmBkRAzczMzMwMREAzMzMzMxNEQJqZmZmZGURAAAAAAAAgREBmZmZmZiZEQM3MzMzMLERAMzMzMzMzRECamZmZmTlEQGZmZmZmRkRAzczMzMxMREAzMzMzM1NEQJqZmZmZWURAAAAAAABgREAzMzMzM3NEQM3MzMzMjERAMzMzMzOTREDNzMzMzKxEQDMzMzMz80RAmpmZmZn5REDNzMzMzAxFQGZmZmZmJkVAMzMzMzMzRUBmZmZmZoZFQM3MzMzMrEVAmpmZmZm5RUBmZmZmZsZFQM3MzMzMzEVAmpmZmZnZRUAAAAAAAOBFQGZmZmZm5kVAzczMzMzsRUAzMzMzM/NFQJqZmZmZ+UVAAAAAAAAARkBmZmZmZgZGQM3MzMzMDEZAMzMzMzMTRkAAAAAAACBGQGZmZmZmJkZAzczMzMwsRkAzMzMzMzNGQJqZmZmZOUZAAAAAAABARkBmZmZmZkZGQM3MzMzMTEZAMzMzMzNTRkCamZmZmVlGQAAAAAAAYEZAZmZmZmZmRkDNzMzMzGxGQDMzMzMzc0ZAmpmZmZl5RkAAAAAAAIBGQGZmZmZmhkZAzczMzMyMRkAzMzMzM5NGQJqZmZmZmUZAAAAAAACgRkBmZmZmZqZGQM3MzMzMrEZAMzMzMzOzRkCamZmZmblGQAAAAAAAwEZAZmZmZmbGRkDNzMzMzMxGQDMzMzMz00ZAAAAAAADgRkBmZmZmZuZGQM3MzMzM7EZAMzMzMzPzRkAAAAAAAABHQM3MzMzMDEdAmpmZmZkZR0AAAAAAACBHQGZmZmZmJkdAzczMzMwsR0AzMzMzMzNHQM3MzMzMTEdAZmZmZmaGR0AzMzMzM7NHQM3MzMzMzEdAzczMzMzsR0CamZmZmflHQDMzMzMzE0hAmpmZmZkZSEAAAAAAACBIQDMzMzMzM0hAmpmZmZk5SEDNzMzMzExIQDMzMzMzU0hAmpmZmZlZSEAAAAAAAGBIQGZmZmZmZkhAzczMzMxsSEAzMzMzM3NIQJqZmZmZeUhAAAAAAACASEBmZmZmZoZIQDMzMzMzk0hAmpmZmZmZSEAAAAAAAKBIQGZmZmZmpkhAzczMzMysSEAzMzMzM7NIQJqZmZmZuUhAAAAAAADASEBmZmZmZsZIQM3MzMzMzEhAMzMzMzPTSECamZmZmdlIQAAAAAAA4EhAZmZmZmbmSEDNzMzMzOxIQDMzMzMz80hAmpmZmZn5SEAAAAAAAABJQGZmZmZmBklAzczMzMwMSUAzMzMzMxNJQJqZmZmZGUlAAAAAAAAgSUBmZmZmZiZJQM3MzMzMLElAMzMzMzMzSUCamZmZmTlJQAAAAAAAQElAZmZmZmZGSUDNzMzMzExJQDMzMzMzU0lAmpmZmZlZSUAAAAAAAGBJQGZmZmZmZklAzczMzMxsSUAzMzMzM3NJQJqZmZmZeUlAAAAAAACASUBmZmZmZoZJQM3MzMzMjElAMzMzMzOTSUCamZmZmZlJQAAAAAAAoElAZmZmZmamSUDNzMzMzKxJQDMzMzMzs0lAmpmZmZm5SUBmZmZmZsZJQM3MzMzMzElAMzMzMzPTSUCamZmZmdlJQGZmZmZm5klAAAAAAAAASkDNzMzMzAxKQDMzMzMzE0pAZmZmZmYmSkAAAAAAAEBKQGZmZmZmRkpAmpmZmZlZSkDNzMzMzGxKQAAAAAAAgEpAzczMzMyMSkAzMzMzM5NKQGZmZmZmpkpAzczMzMysSkAzMzMzM7NKQJqZmZmZuUpAAAAAAADASkBmZmZmZsZKQM3MzMzMzEpAMzMzMzPTSkCamZmZmdlKQAAAAAAA4EpAZmZmZmbmSkDNzMzMzOxKQJqZmZmZ+UpAAAAAAAAAS0BmZmZmZgZLQM3MzMzMDEtAMzMzMzMTS0CamZmZmRlLQAAAAAAAIEtAZmZmZmYmS0DNzMzMzCxLQDMzMzMzM0tAmpmZmZk5S0AAAAAAAEBLQGZmZmZmRktAzczMzMxMS0AzMzMzM1NLQJqZmZmZWUtAAAAAAABgS0BmZmZmZmZLQM3MzMzMbEtAMzMzMzNzS0CamZmZmXlLQAAAAAAAgEtAZmZmZmaGS0DNzMzMzIxLQDMzMzMzk0tAmpmZmZmZS0AAAAAAAKBLQGZmZmZmpktAzczMzMysS0CamZmZmblLQAAAAAAAwEtAZmZmZmbGS0DNzMzMzMxLQDMzMzMz00tAmpmZmZnZS0AAAAAAAOBLQGZmZmZm5ktAzczMzMzsS0AzMzMzM/NLQJqZmZmZ+UtAAAAAAAAATEBmZmZmZgZMQM3MzMzMDExAMzMzMzMTTECamZmZmRlMQAAAAAAAIExAZmZmZmYmTEDNzMzMzCxMQDMzMzMzM0xAmpmZmZk5TEBmZmZmZkZMQM3MzMzMTExAmpmZmZlZTEAAAAAAAGBMQGZmZmZmZkxAzczMzMxsTEAzMzMzM3NMQJqZmZmZeUxAmpmZmZmZTEAAAAAAAMBMQGZmZmZmxkxAzczMzMzMTEAzMzMzM9NMQAAAAAAA4ExAZmZmZmbmTECamZmZmflMQAAAAAAAAE1AmpmZmZkZTUAAAAAAACBNQM3MzMzMLE1AMzMzMzMzTUCamZmZmTlNQAAAAAAAQE1AZmZmZmZGTUDNzMzMzExNQDMzMzMzU01AmpmZmZlZTUAAAAAAAGBNQM3MzMzMbE1AMzMzMzNzTUCamZmZmXlNQAAAAAAAgE1AZmZmZmaGTUDNzMzMzIxNQDMzMzMzk01AmpmZmZmZTUAAAAAAAKBNQGZmZmZmpk1AMzMzMzOzTUCamZmZmblNQAAAAAAAwE1AZmZmZmbGTUDNzMzMzMxNQDMzMzMz001AmpmZmZnZTUAAAAAAAOBNQGZmZmZm5k1AzczMzMzsTUAzMzMzM/NNQJqZmZmZ+U1AAAAAAAAATkBmZmZmZgZOQDMzMzMzE05AmpmZmZkZTkAAAAAAACBOQGZmZmZmJk5AzczMzMwsTkAzMzMzMzNOQJqZmZmZOU5AAAAAAABATkBmZmZmZkZOQM3MzMzMTE5AMzMzMzNTTkCamZmZmVlOQAAAAAAAYE5AZmZmZmZmTkDNzMzMzGxOQDMzMzMzc05AmpmZmZl5TkAAAAAAAIBOQGZmZmZmhk5AzczMzMyMTkAzMzMzM5NOQJqZmZmZmU5AAAAAAACgTkBmZmZmZqZOQM3MzMzMrE5AMzMzMzOzTkCamZmZmblOQAAAAAAAwE5AZmZmZmbGTkDNzMzMzMxOQDMzMzMz005AAAAAAADgTkBmZmZmZuZOQDMzMzMz805AmpmZmZn5TkBmZmZmZgZPQM3MzMzMDE9AMzMzMzMTT0AAAAAAACBPQJqZmZmZOU9AAAAAAABAT0BmZmZmZkZPQDMzMzMzU09AZmZmZmZmT0DNzMzMzGxPQGZmZmZmhk9AzczMzMyMT0AzMzMzM5NPQAAAAAAAoE9AZmZmZmamT0DNzMzMzKxPQDMzMzMzs09AZmZmZmbGT0CamZmZmdlPQAAAAAAA4E9AZmZmZmbmT0DNzMzMzOxPQDMzMzMz809AmpmZmZn5T0AAAAAAAABQQDMzMzMzA1BAZmZmZmYGUECamZmZmQlQQM3MzMzMDFBAAAAAAAAQUEAzMzMzMxNQQGZmZmZmFlBAmpmZmZkZUEDNzMzMzBxQQAAAAAAAIFBAMzMzMzMjUEBmZmZmZiZQQJqZmZmZKVBAzczMzMwsUEAAAAAAADBQQDMzMzMzM1BAZmZmZmY2UECamZmZmTlQQM3MzMzMPFBAAAAAAABAUEAzMzMzM0NQQGZmZmZmRlBAmpmZmZlJUEDNzMzMzExQQAAAAAAAUFBAMzMzMzNTUEBmZmZmZlZQQJqZmZmZWVBAzczMzMxcUEAAAAAAAGBQQDMzMzMzY1BAZmZmZmZmUECamZmZmWlQQM3MzMzMbFBAAAAAAABwUEAzMzMzM3NQQGZmZmZmdlBAmpmZmZl5UEAAAAAAAIBQQDMzMzMzg1BAZmZmZmaGUECamZmZmYlQQM3MzMzMjFBAAAAAAACQUEAzMzMzM5NQQJqZmZmZmVBAAAAAAACgUEBmZmZmZqZQQJqZmZmZqVBAzczMzMysUEAAAAAAALBQQDMzMzMzs1BAZmZmZma2UECamZmZmblQQDMzMzMzw1BAzczMzMzMUEAAAAAAANBQQJqZmZmZ2VBAzczMzMzcUEBmZmZmZuZQQJqZmZmZ6VBAzczMzMzsUEAzMzMzM/NQQGZmZmZm9lBAzczMzMz8UEAzMzMzMwNRQGZmZmZmBlFAmpmZmZkJUUAAAAAAABBRQDMzMzMzE1FAZmZmZmYWUUCamZmZmRlRQM3MzMzMHFFAAAAAAAAgUUAzMzMzMyNRQGZmZmZmJlFAmpmZmZkpUUDNzMzMzCxRQAAAAAAAMFFAMzMzMzMzUUBmZmZmZjZRQJqZmZmZOVFAzczMzMw8UUAAAAAAAEBRQDMzMzMzQ1FAZmZmZmZGUUCamZmZmUlRQM3MzMzMTFFAAAAAAABQUUAzMzMzM1NRQGZmZmZmVlFAmpmZmZlZUUDNzMzMzFxRQAAAAAAAYFFAMzMzMzNjUUBmZmZmZmZRQJqZmZmZaVFAzczMzMxsUUAAAAAAAHBRQDMzMzMzc1FAZmZmZmZ2UUCamZmZmXlRQM3MzMzMfFFAAAAAAACAUUAzMzMzM4NRQGZmZmZmhlFAmpmZmZmJUUDNzMzMzIxRQAAAAAAAkFFAMzMzMzOTUUBmZmZmZpZRQJqZmZmZmVFAzczMzMycUUAAAAAAAKBRQDMzMzMzo1FAZmZmZmamUUCamZmZmalRQM3MzMzMrFFAAAAAAACwUUAzMzMzM7NRQGZmZmZmtlFAmpmZmZm5UUDNzMzMzLxRQAAAAAAAwFFAMzMzMzPDUUBmZmZmZsZRQAAAAAAA0FFAMzMzMzPTUUBmZmZmZtZRQJqZmZmZ2VFAzczMzMzcUUAAAAAAAOBRQDMzMzMz41FAZmZmZmbmUUCamZmZmelRQM3MzMzM7FFAAAAAAADwUUAzMzMzM/NRQGZmZmZm9lFAmpmZmZn5UUDNzMzMzPxRQAAAAAAAAFJAZmZmZmYGUkAAAAAAABBSQGZmZmZmFlJAzczMzMwcUkBmZmZmZiZSQAAAAAAAMFJAMzMzMzMzUkCamZmZmTlSQM3MzMzMPFJAAAAAAABAUkAzMzMzM0NSQGZmZmZmRlJAmpmZmZlJUkAAAAAAAFBSQDMzMzMzU1JAZmZmZmZWUkDNzMzMzFxSQAAAAAAAYFJAMzMzMzNjUkBmZmZmZmZSQJqZmZmZaVJAzczMzMxsUkAAAAAAAHBSQDMzMzMzc1JAZmZmZmZ2UkCamZmZmXlSQAAAAAAAgFJAMzMzMzODUkBmZmZmZoZSQJqZmZmZiVJAzczMzMyMUkAAAAAAAJBSQDMzMzMzk1JAZmZmZmaWUkCamZmZmZlSQM3MzMzMnFJAAAAAAACgUkAzMzMzM6NSQGZmZmZmplJAmpmZmZmpUkDNzMzMzKxSQAAAAAAAsFJAMzMzMzOzUkBmZmZmZrZSQJqZmZmZuVJAzczMzMy8UkAAAAAAAMBSQDMzMzMzw1JAZmZmZmbGUkCamZmZmclSQM3MzMzMzFJAAAAAAADQUkAzMzMzM9NSQGZmZmZm1lJAmpmZmZnZUkDNzMzMzNxSQAAAAAAA4FJAMzMzMzPjUkBmZmZmZuZSQJqZmZmZ6VJAzczMzMzsUkAAAAAAAPBSQDMzMzMz81JAZmZmZmb2UkCamZmZmflSQM3MzMzM/FJAAAAAAAAAU0AzMzMzMwNTQGZmZmZmBlNAmpmZmZkJU0DNzMzMzAxTQAAAAAAAEFNAMzMzMzMTU0BmZmZmZhZTQJqZmZmZGVNAzczMzMwcU0AAAAAAACBTQDMzMzMzI1NAZmZmZmYmU0AAAAAAADBTQDMzMzMzM1NAZmZmZmY2U0CamZmZmTlTQM3MzMzMPFNAmpmZmZlJU0DNzMzMzExTQDMzMzMzU1NAZmZmZmZWU0CamZmZmVlTQDMzMzMzY1NAAAAAAABwU0AzMzMzM3NTQJqZmZmZeVNAAAAAAACAU0BmZmZmZoZTQJqZmZmZiVNAzczMzMyMU0AzMzMzM5NTQGZmZmZmllNAmpmZmZmZU0DNzMzMzJxTQAAAAAAAoFNAMzMzMzOjU0BmZmZmZqZTQJqZmZmZqVNAzczMzMysU0AAAAAAALBTQDMzMzMzs1NAZmZmZma2U0CamZmZmblTQM3MzMzMvFNAAAAAAADAU0AzMzMzM8NTQGZmZmZmxlNAmpmZmZnJU0DNzMzMzMxTQAAAAAAA0FNAMzMzMzPTU0BmZmZmZtZTQJqZmZmZ2VNAzczMzMzcU0AAAAAAAOBTQDMzMzMz41NAZmZmZmbmU0CamZmZmelTQM3MzMzM7FNAAAAAAADwU0AzMzMzM/NTQGZmZmZm9lNAmpmZmZn5U0DNzMzMzPxTQAAAAAAAAFRAMzMzMzMDVEBmZmZmZgZUQJqZmZmZCVRAzczMzMwMVEAAAAAAABBUQDMzMzMzE1RAZmZmZmYWVECamZmZmRlUQM3MzMzMHFRAAAAAAAAgVEAzMzMzMyNUQGZmZmZmJlRAmpmZmZkpVEDNzMzMzCxUQAAAAAAAMFRAMzMzMzMzVEBmZmZmZjZUQJqZmZmZOVRAzczMzMw8VEAAAAAAAEBUQDMzMzMzQ1RAZmZmZmZGVECamZmZmUlUQM3MzMzMTFRAAAAAAABQVEAzMzMzM1NUQGZmZmZmVlRAmpmZmZlZVEDNzMzMzFxUQAAAAAAAYFRAMzMzMzNjVEBmZmZmZmZUQJqZmZmZaVRAzczMzMxsVEAAAAAAAHBUQDMzMzMzc1RAZmZmZmZ2VECamZmZmXlUQM3MzMzMfFRAAAAAAACAVEAzMzMzM4NUQGZmZmZmhlRAmpmZmZmJVEAzMzMzM5NUQM3MzMzMnFRAAAAAAACgVEAzMzMzM6NUQJqZmZmZqVRAzczMzMysVEAAAAAAALBUQGZmZmZmtlRAmpmZmZm5VEDNzMzMzLxUQAAAAAAAwFRAMzMzMzPDVECamZmZmclUQM3MzMzMzFRAAAAAAADQVEAzMzMzM9NUQJqZmZmZ2VRAzczMzMzcVEAAAAAAAOBUQDMzMzMz41RAZmZmZmbmVECamZmZmelUQM3MzMzM7FRAAAAAAADwVEAzMzMzM/NUQGZmZmZm9lRAAAAAAAAAVUAzMzMzMwNVQGZmZmZmBlVAmpmZmZkJVUDNzMzMzAxVQAAAAAAAEFVAMzMzMzMTVUBmZmZmZhZVQJqZmZmZGVVAzczMzMwcVUAAAAAAACBVQDMzMzMzI1VAZmZmZmYmVUCamZmZmSlVQM3MzMzMLFVAAAAAAAAwVUAzMzMzMzNVQGZmZmZmNlVAmpmZmZk5VUDNzMzMzDxVQAAAAAAAQFVAMzMzMzNDVUBmZmZmZkZVQJqZmZmZSVVAzczMzMxMVUAAAAAAAFBVQDMzMzMzU1VAZmZmZmZWVUCamZmZmVlVQM3MzMzMXFVAAAAAAABgVUAzMzMzM2NVQGZmZmZmZlVAmpmZmZlpVUDNzMzMzGxVQAAAAAAAcFVAMzMzMzNzVUBmZmZmZnZVQJqZmZmZeVVAzczMzMx8VUAAAAAAAIBVQDMzMzMzg1VAZmZmZmaGVUCamZmZmYlVQM3MzMzMjFVAAAAAAACQVUBmZmZmZpZVQJqZmZmZmVVAzczMzMycVUAAAAAAAKBVQDMzMzMzo1VAZmZmZmamVUCamZmZmalVQM3MzMzMrFVAAAAAAACwVUAzMzMzM7NVQGZmZmZmtlVAmpmZmZm5VUDNzMzMzLxVQAAAAAAAwFVAZmZmZmbGVUCamZmZmclVQM3MzMzMzFVAAAAAAADQVUAzMzMzM9NVQGZmZmZm1lVAMzMzMzPjVUBmZmZmZuZVQJqZmZmZ6VVAzczMzMzsVUAAAAAAAPBVQDMzMzMz81VAmpmZmZn5VUDNzMzMzPxVQAAAAAAAAFZAMzMzMzMDVkBmZmZmZgZWQJqZmZmZCVZAzczMzMwMVkCamZmZmRlWQM3MzMzMHFZAAAAAAAAgVkAzMzMzMyNWQGZmZmZmJlZAmpmZmZkpVkDNzMzMzCxWQAAAAAAAMFZAMzMzMzMzVkBmZmZmZjZWQJqZmZmZOVZAzczMzMw8VkAAAAAAAEBWQDMzMzMzQ1ZAZmZmZmZGVkCamZmZmUlWQM3MzMzMTFZAAAAAAABQVkAzMzMzM1NWQGZmZmZmVlZAmpmZmZlZVkDNzMzMzFxWQDMzMzMzY1ZAZmZmZmZmVkCamZmZmWlWQM3MzMzMbFZAAAAAAABwVkAzMzMzM3NWQGZmZmZmdlZAmpmZmZl5VkDNzMzMzHxWQAAAAAAAgFZAMzMzMzODVkBmZmZmZoZWQJqZmZmZiVZAzczMzMyMVkAAAAAAAJBWQDMzMzMzk1ZAZmZmZmaWVkCamZmZmZlWQM3MzMzMnFZAAAAAAACgVkAzMzMzM6NWQGZmZmZmplZAmpmZmZmpVkDNzMzMzKxWQAAAAAAAsFZAMzMzMzOzVkBmZmZmZrZWQM3MzMzMvFZAAAAAAADAVkAzMzMzM8NWQGZmZmZmxlZAmpmZmZnJVkDNzMzMzMxWQAAAAAAA0FZAMzMzMzPTVkBmZmZmZtZWQM3MzMzM3FZAAAAAAADgVkAzMzMzM+NWQGZmZmZm5lZAmpmZmZnpVkDNzMzMzOxWQDMzMzMz81ZAzczMzMz8VkAAAAAAAABXQDMzMzMzA1dAmpmZmZkJV0DNzMzMzAxXQDMzMzMzE1dAmpmZmZkZV0DNzMzMzBxXQDMzMzMzI1dAZmZmZmYmV0CamZmZmSlXQM3MzMzMLFdAZmZmZmY2V0CamZmZmTlXQM3MzMzMPFdAAAAAAABAV0AzMzMzM0NXQJqZmZmZSVdAzczMzMxMV0AAAAAAAFBXQDMzMzMzU1dAZmZmZmZWV0CamZmZmVlXQM3MzMzMXFdAAAAAAABgV0AzMzMzM2NXQGZmZmZmZldAmpmZmZlpV0DNzMzMzGxXQAAAAAAAcFdAMzMzMzNzV0BmZmZmZnZXQJqZmZmZeVdAzczMzMx8V0AAAAAAAIBXQDMzMzMzg1dAZmZmZmaGV0CamZmZmYlXQM3MzMzMjFdAAAAAAACQV0AzMzMzM5NXQGZmZmZmlldAmpmZmZmZV0DNzMzMzJxXQAAAAAAAoFdAMzMzMzOjV0BmZmZmZqZXQJqZmZmZqVdAzczMzMysV0AAAAAAALBXQDMzMzMzs1dAZmZmZma2V0CamZmZmblXQM3MzMzMvFdAAAAAAADAV0AzMzMzM8NXQGZmZmZmxldAmpmZmZnJV0DNzMzMzMxXQAAAAAAA0FdAMzMzMzPTV0BmZmZmZtZXQJqZmZmZ2VdAzczMzMzcV0AAAAAAAOBXQDMzMzMz41dAZmZmZmbmV0CamZmZmelXQM3MzMzM7FdAAAAAAADwV0AzMzMzM/NXQGZmZmZm9ldAmpmZmZn5V0DNzMzMzPxXQAAAAAAAAFhAZmZmZmYGWEDNzMzMzAxYQGZmZmZmFlhAmpmZmZkZWEAAAAAAACBYQDMzMzMzI1hAZmZmZmYmWECamZmZmSlYQAAAAAAAMFhAMzMzMzMzWEBmZmZmZjZYQJqZmZmZOVhAzczMzMw8WEAAAAAAAEBYQDMzMzMzQ1hAZmZmZmZGWEDNzMzMzExYQAAAAAAAUFhAzczMzMxcWEAzMzMzM2NYQJqZmZmZaVhAzczMzMxsWEAAAAAAAHBYQDMzMzMzc1hAZmZmZmZ2WEDNzMzMzHxYQAAAAAAAgFhAMzMzMzODWEBmZmZmZoZYQJqZmZmZiVhAzczMzMyMWEAAAAAAAJBYQDMzMzMzk1hAZmZmZmaWWEDNzMzMzJxYQDMzMzMzo1hAZmZmZmamWECamZmZmalYQM3MzMzMrFhAMzMzMzOzWEBmZmZmZrZYQJqZmZmZuVhAAAAAAADAWEAzMzMzM8NYQGZmZmZmxlhAmpmZmZnJWEDNzMzMzMxYQAAAAAAA0FhAMzMzMzPTWEBmZmZmZtZYQJqZmZmZ2VhAzczMzMzcWEAAAAAAAOBYQDMzMzMz41hAmpmZmZnpWEDNzMzMzOxYQAAAAAAA8FhAMzMzMzPzWEBmZmZmZvZYQJqZmZmZ+VhAzczMzMz8WEAAAAAAAABZQDMzMzMzA1lAZmZmZmYGWUCamZmZmQlZQM3MzMzMDFlAAAAAAAAQWUAzMzMzMxNZQGZmZmZmFllAmpmZmZkZWUDNzMzMzBxZQAAAAAAAIFlAMzMzMzMjWUBmZmZmZiZZQJqZmZmZKVlAzczMzMwsWUAAAAAAADBZQDMzMzMzM1lAZmZmZmY2WUCamZmZmTlZQAAAAAAAQFlAMzMzMzNDWUBmZmZmZkZZQJqZmZmZSVlAAAAAAABQWUAzMzMzM1NZQGZmZmZmVllAmpmZmZlZWUDNzMzMzFxZQAAAAAAAYFlAMzMzMzNjWUBmZmZmZmZZQAAAAAAAcFlAMzMzMzNzWUCamZmZmXlZQDMzMzMzg1lAZmZmZmaGWUCamZmZmYlZQJqZmZmZmVlAzczMzMycWUAAAAAAAKBZQDMzMzMzo1lAZmZmZmamWUCamZmZmalZQM3MzMzMrFlAZmZmZma2WUCamZmZmblZQAAAAAAAwFlAMzMzMzPDWUBmZmZmZsZZQJqZmZmZyVlAzczMzMzMWUAAAAAAANBZQDMzMzMz01lAmpmZmZnZWUDNzMzMzNxZQAAAAAAA4FlAZmZmZmbmWUCamZmZmelZQM3MzMzM7FlAAAAAAADwWUAzMzMzM/NZQGZmZmZm9llAmpmZmZn5WUDNzMzMzPxZQAAAAAAAAFpAMzMzMzMDWkBmZmZmZgZaQJqZmZmZCVpAAAAAAAAQWkAzMzMzMxNaQGZmZmZmFlpAmpmZmZkZWkDNzMzMzBxaQAAAAAAAIFpAMzMzMzMjWkBmZmZmZiZaQJqZmZmZKVpAzczMzMwsWkAAAAAAADBaQDMzMzMzM1pAZmZmZmY2WkCamZmZmTlaQM3MzMzMPFpAAAAAAABAWkAzMzMzM0NaQGZmZmZmRlpAmpmZmZlJWkDNzMzMzExaQAAAAAAAUFpAMzMzMzNTWkBmZmZmZlZaQJqZmZmZWVpAzczMzMxcWkAAAAAAAGBaQDMzMzMzY1pAZmZmZmZmWkCamZmZmWlaQM3MzMzMbFpAAAAAAABwWkAzMzMzM3NaQGZmZmZmdlpAmpmZmZl5WkDNzMzMzHxaQAAAAAAAgFpAMzMzMzODWkBmZmZmZoZaQJqZmZmZiVpAzczMzMyMWkAzMzMzM5NaQGZmZmZmllpAmpmZmZmZWkDNzMzMzJxaQAAAAAAAoFpAZmZmZmamWkCamZmZmalaQM3MzMzMrFpAAAAAAACwWkAzMzMzM7NaQGZmZmZmtlpAmpmZmZm5WkAAAAAAAMBaQDMzMzMzw1pAmpmZmZnJWkDNzMzMzMxaQAAAAAAA0FpAZmZmZmbWWkCamZmZmdlaQM3MzMzM3FpAAAAAAADgWkAzMzMzM+NaQGZmZmZm5lpAmpmZmZnpWkDNzMzMzOxaQAAAAAAA8FpAmpmZmZn5WkDNzMzMzPxaQAAAAAAAAFtAMzMzMzMDW0BmZmZmZgZbQJqZmZmZCVtAzczMzMwMW0AAAAAAABBbQDMzMzMzE1tAZmZmZmYWW0CamZmZmRlbQM3MzMzMHFtAAAAAAAAgW0AzMzMzMyNbQJqZmZmZKVtAAAAAAAAwW0AzMzMzMzNbQJqZmZmZOVtAzczMzMw8W0AAAAAAAEBbQDMzMzMzQ1tAZmZmZmZGW0CamZmZmUlbQM3MzMzMTFtAAAAAAABQW0AzMzMzM1NbQJqZmZmZWVtAzczMzMxcW0AAAAAAAGBbQDMzMzMzY1tAZmZmZmZmW0CamZmZmWlbQM3MzMzMbFtAAAAAAABwW0AzMzMzM3NbQGZmZmZmdltAmpmZmZl5W0DNzMzMzHxbQAAAAAAAgFtAMzMzMzODW0BmZmZmZoZbQJqZmZmZiVtAzczMzMyMW0AAAAAAAJBbQDMzMzMzk1tAZmZmZmaWW0DNzMzMzJxbQAAAAAAAoFtAMzMzMzOjW0BmZmZmZqZbQJqZmZmZqVtAzczMzMysW0AAAAAAALBbQDMzMzMzs1tAZmZmZma2W0CamZmZmblbQDMzMzMzw1tAZmZmZmbGW0CamZmZmclbQM3MzMzMzFtAAAAAAADQW0AzMzMzM9NbQGZmZmZm1ltAmpmZmZnZW0DNzMzMzNxbQAAAAAAA4FtAMzMzMzPjW0BmZmZmZuZbQJqZmZmZ6VtAAAAAAADwW0AzMzMzM/NbQJqZmZmZ+VtAzczMzMz8W0BmZmZmZgZcQM3MzMzMDFxAAAAAAAAQXEBmZmZmZhZcQJqZmZmZGVxAMzMzMzMjXEBmZmZmZiZcQAAAAAAAMFxAmpmZmZk5XEDNzMzMzDxcQAAAAAAAQFxAMzMzMzNDXEBmZmZmZkZcQJqZmZmZSVxAzczMzMxMXEAAAAAAAFBcQDMzMzMzU1xAZmZmZmZWXECamZmZmVlcQM3MzMzMXFxAZmZmZmZmXECamZmZmWlcQAAAAAAAcFxAMzMzMzNzXEDNzMzMzHxcQAAAAAAAgFxAMzMzMzODXEBmZmZmZoZcQDMzMzMzk1xAZmZmZmaWXEDNzMzMzJxcQAAAAAAAoFxAMzMzMzOjXEBmZmZmZqZcQJqZmZmZqVxAzczMzMysXEAAAAAAALBcQGZmZmZmtlxAmpmZmZm5XEDNzMzMzLxcQAAAAAAAwFxAMzMzMzPDXEBmZmZmZsZcQJqZmZmZyVxAAAAAAADQXEAAAAAAAOBcQDMzMzMz41xAZmZmZmbmXECamZmZmelcQAAAAAAA8FxAMzMzMzPzXEBmZmZmZvZcQAAAAAAAAF1AMzMzMzMDXUBmZmZmZgZdQJqZmZmZCV1AAAAAAAAQXUAzMzMzMxNdQJqZmZmZGV1AzczMzMwcXUAAAAAAACBdQDMzMzMzI11AZmZmZmYmXUAAAAAAADBdQDMzMzMzM11AZmZmZmY2XUDNzMzMzDxdQJqZmZmZSV1AzczMzMxMXUBmZmZmZlZdQAAAAAAAYF1AZmZmZmZmXUDNzMzMzIxdQGZmZmZmpl1AmpmZmZmpXUAAAAAAALBdQA==",
          "dtype": "f8"
         },
         "xaxis": "x2",
         "yaxis": "y2"
        },
        {
         "bingroup": "x",
         "histfunc": "sum",
         "hovertemplate": "Churn=Yes<br>MonthlyCharges=%{x}<br>sum of Count=%{y}<extra></extra>",
         "legendgroup": "Yes",
         "marker": {
          "color": "red",
          "pattern": {
           "shape": ""
          }
         },
         "name": "Yes",
         "orientation": "v",
         "showlegend": true,
         "type": "histogram",
         "x": {
          "bdata": "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",
          "dtype": "f8"
         },
         "xaxis": "x",
         "y": {
          "bdata": "AQEBAQMDAgQDAwIEBAIGAwUEAwMDBAYGBAEDAgMDAQEBAQICAQEBAQEBAgIBAQQBAQMDAQEDAwIDAgMBAQEBAQEBAQEBAQIDAQIBAQEBAQECAQEBAQEBAQEBAQEBAQUBAQIBAQEBAgEBAQIBAQEBAQIBAgEBAgECAQECAQEBAQEBAQECAQEBAQECAQECAwECAwICAQMBAgIDAwQCCAIDAgEDBAEBAwIFAQEBAQEBAQECAwEBAgECAgEDAQMCAwMBAgEBAgIBAQQCAgIDAQIDAgEDBAECAgEBAQEBAQEBAQEBAQECAQICAwECAQMCAQIBAQYBAgMCAgICAQEBAgIBAgICAgEBAQEBAQECAQEBAQEBAQEBAQEDAQEBAQEBAQEBAQIBAQEBAQECAQEBAQEBAQEBAQEBAQEBAQECAQIDAQQBAgQEAgMEBQYDBQMCAwUHAwYHAwMHAQUEAQICAgMFAQICAgQBAQIBAgECAQEBAQEBAQECAQECAgICAwUEAQIBAgIDBQUNAwQCAgQEAwIBCQgDAgMCBAIGBQEDAwMBAQIDBAEDAgIBAQEBAwMDAgEBAQIBAQICAgEBAgMBAgEBAQECAgUDAgIEBAQBBAQCBAQEBQQDAQQGAgQCAgMEBAUDAgUFAwQDAQEDBgEGAQIBAQEBAQECAQMBAQEBAQEBAQEBAgICAQEDAgIDAQEDAgECAQQCAwQFAQQCAQMGBAIDBQIBBAUEBQcCBgEEAgMDAQMBAQMDAgEBAgICAgICAgEBAgEBAQIBAQEBAQEBAgQBAgEBAgEBAgEDAgQCAQMCBAMGBAICAgMEAgIDAwMDAQIBAQICAgMFAQEEBAEBAQICAQECAgECAgEDAQEBAwEBAgEBAQEDAgMHAwQBBAUFAQEHBQMDAgQFAgEEAQEEAwMEAgUCBAMCBAQBAgEBAwMDAgIDAgEBAgIBAgECAgECAQEBAQEBAQICAgIBAgQCAgEDAwICAgMBAwIDAQEBBAYDAQECAgQDAQQEBQEDBAQCAQIDAwQBAQICAgICAQMCAwIEAgEBAQEBAQIBAgIBAQIBAgMBAgIBAgIDAgIBAgEEAgIDAQIGAgEBAgMCAgEBAQQBAgIBAgEBAwEDAQEBAgQDAQQCAQECAgEBAQIBAgEBAQEBAQEBAgEBAQEBAQEBAQECAgEBAQECAQEBAQECAQEBAQEBAgIBAQEBAQEBAQEBAQ==",
          "dtype": "i1"
         },
         "yaxis": "y"
        },
        {
         "hovertemplate": "Churn=Yes<br>MonthlyCharges=%{x}<extra></extra>",
         "legendgroup": "Yes",
         "marker": {
          "color": "red"
         },
         "name": "Yes",
         "notched": true,
         "showlegend": false,
         "type": "box",
         "x": {
          "bdata": "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",
          "dtype": "f8"
         },
         "xaxis": "x2",
         "yaxis": "y2"
        }
       ],
       "layout": {
        "barmode": "relative",
        "legend": {
         "title": {
          "text": "Churn"
         },
         "tracegroupgap": 0
        },
        "template": {
         "data": {
          "bar": [
           {
            "error_x": {
             "color": "#2a3f5f"
            },
            "error_y": {
             "color": "#2a3f5f"
            },
            "marker": {
             "line": {
              "color": "#E5ECF6",
              "width": 0.5
             },
             "pattern": {
              "fillmode": "overlay",
              "size": 10,
              "solidity": 0.2
             }
            },
            "type": "bar"
           }
          ],
          "barpolar": [
           {
            "marker": {
             "line": {
              "color": "#E5ECF6",
              "width": 0.5
             },
             "pattern": {
              "fillmode": "overlay",
              "size": 10,
              "solidity": 0.2
             }
            },
            "type": "barpolar"
           }
          ],
          "carpet": [
           {
            "aaxis": {
             "endlinecolor": "#2a3f5f",
             "gridcolor": "white",
             "linecolor": "white",
             "minorgridcolor": "white",
             "startlinecolor": "#2a3f5f"
            },
            "baxis": {
             "endlinecolor": "#2a3f5f",
             "gridcolor": "white",
             "linecolor": "white",
             "minorgridcolor": "white",
             "startlinecolor": "#2a3f5f"
            },
            "type": "carpet"
           }
          ],
          "choropleth": [
           {
            "colorbar": {
             "outlinewidth": 0,
             "ticks": ""
            },
            "type": "choropleth"
           }
          ],
          "contour": [
           {
            "colorbar": {
             "outlinewidth": 0,
             "ticks": ""
            },
            "colorscale": [
             [
              0,
              "#0d0887"
             ],
             [
              0.1111111111111111,
              "#46039f"
             ],
             [
              0.2222222222222222,
              "#7201a8"
             ],
             [
              0.3333333333333333,
              "#9c179e"
             ],
             [
              0.4444444444444444,
              "#bd3786"
             ],
             [
              0.5555555555555556,
              "#d8576b"
             ],
             [
              0.6666666666666666,
              "#ed7953"
             ],
             [
              0.7777777777777778,
              "#fb9f3a"
             ],
             [
              0.8888888888888888,
              "#fdca26"
             ],
             [
              1,
              "#f0f921"
             ]
            ],
            "type": "contour"
           }
          ],
          "contourcarpet": [
           {
            "colorbar": {
             "outlinewidth": 0,
             "ticks": ""
            },
            "type": "contourcarpet"
           }
          ],
          "heatmap": [
           {
            "colorbar": {
             "outlinewidth": 0,
             "ticks": ""
            },
            "colorscale": [
             [
              0,
              "#0d0887"
             ],
             [
              0.1111111111111111,
              "#46039f"
             ],
             [
              0.2222222222222222,
              "#7201a8"
             ],
             [
              0.3333333333333333,
              "#9c179e"
             ],
             [
              0.4444444444444444,
              "#bd3786"
             ],
             [
              0.5555555555555556,
              "#d8576b"
             ],
             [
              0.6666666666666666,
              "#ed7953"
             ],
             [
              0.7777777777777778,
              "#fb9f3a"
             ],
             [
              0.8888888888888888,
              "#fdca26"
             ],
             [
              1,
              "#f0f921"
             ]
            ],
            "type": "heatmap"
           }
          ],
          "histogram": [
           {
            "marker": {
             "pattern": {
              "fillmode": "overlay",
              "size": 10,
              "solidity": 0.2
             }
            },
            "type": "histogram"
           }
          ],
          "histogram2d": [
           {
            "colorbar": {
             "outlinewidth": 0,
             "ticks": ""
            },
            "colorscale": [
             [
              0,
              "#0d0887"
             ],
             [
              0.1111111111111111,
              "#46039f"
             ],
             [
              0.2222222222222222,
              "#7201a8"
             ],
             [
              0.3333333333333333,
              "#9c179e"
             ],
             [
              0.4444444444444444,
              "#bd3786"
             ],
             [
              0.5555555555555556,
              "#d8576b"
             ],
             [
              0.6666666666666666,
              "#ed7953"
             ],
             [
              0.7777777777777778,
              "#fb9f3a"
             ],
             [
              0.8888888888888888,
              "#fdca26"
             ],
             [
              1,
              "#f0f921"
             ]
            ],
            "type": "histogram2d"
           }
          ],
          "histogram2dcontour": [
           {
            "colorbar": {
             "outlinewidth": 0,
             "ticks": ""
            },
            "colorscale": [
             [
              0,
              "#0d0887"
             ],
             [
              0.1111111111111111,
              "#46039f"
             ],
             [
              0.2222222222222222,
              "#7201a8"
             ],
             [
              0.3333333333333333,
              "#9c179e"
             ],
             [
              0.4444444444444444,
              "#bd3786"
             ],
             [
              0.5555555555555556,
              "#d8576b"
             ],
             [
              0.6666666666666666,
              "#ed7953"
             ],
             [
              0.7777777777777778,
              "#fb9f3a"
             ],
             [
              0.8888888888888888,
              "#fdca26"
             ],
             [
              1,
              "#f0f921"
             ]
            ],
            "type": "histogram2dcontour"
           }
          ],
          "mesh3d": [
           {
            "colorbar": {
             "outlinewidth": 0,
             "ticks": ""
            },
            "type": "mesh3d"
           }
          ],
          "parcoords": [
           {
            "line": {
             "colorbar": {
              "outlinewidth": 0,
              "ticks": ""
             }
            },
            "type": "parcoords"
           }
          ],
          "pie": [
           {
            "automargin": true,
            "type": "pie"
           }
          ],
          "scatter": [
           {
            "fillpattern": {
             "fillmode": "overlay",
             "size": 10,
             "solidity": 0.2
            },
            "type": "scatter"
           }
          ],
          "scatter3d": [
           {
            "line": {
             "colorbar": {
              "outlinewidth": 0,
              "ticks": ""
             }
            },
            "marker": {
             "colorbar": {
              "outlinewidth": 0,
              "ticks": ""
             }
            },
            "type": "scatter3d"
           }
          ],
          "scattercarpet": [
           {
            "marker": {
             "colorbar": {
              "outlinewidth": 0,
              "ticks": ""
             }
            },
            "type": "scattercarpet"
           }
          ],
          "scattergeo": [
           {
            "marker": {
             "colorbar": {
              "outlinewidth": 0,
              "ticks": ""
             }
            },
            "type": "scattergeo"
           }
          ],
          "scattergl": [
           {
            "marker": {
             "colorbar": {
              "outlinewidth": 0,
              "ticks": ""
             }
            },
            "type": "scattergl"
           }
          ],
          "scattermap": [
           {
            "marker": {
             "colorbar": {
              "outlinewidth": 0,
              "ticks": ""
             }
            },
            "type": "scattermap"
           }
          ],
          "scattermapbox": [
           {
            "marker": {
             "colorbar": {
              "outlinewidth": 0,
              "ticks": ""
             }
            },
            "type": "scattermapbox"
           }
          ],
          "scatterpolar": [
           {
            "marker": {
             "colorbar": {
              "outlinewidth": 0,
              "ticks": ""
             }
            },
            "type": "scatterpolar"
           }
          ],
          "scatterpolargl": [
           {
            "marker": {
             "colorbar": {
              "outlinewidth": 0,
              "ticks": ""
             }
            },
            "type": "scatterpolargl"
           }
          ],
          "scatterternary": [
           {
            "marker": {
             "colorbar": {
              "outlinewidth": 0,
              "ticks": ""
             }
            },
            "type": "scatterternary"
           }
          ],
          "surface": [
           {
            "colorbar": {
             "outlinewidth": 0,
             "ticks": ""
            },
            "colorscale": [
             [
              0,
              "#0d0887"
             ],
             [
              0.1111111111111111,
              "#46039f"
             ],
             [
              0.2222222222222222,
              "#7201a8"
             ],
             [
              0.3333333333333333,
              "#9c179e"
             ],
             [
              0.4444444444444444,
              "#bd3786"
             ],
             [
              0.5555555555555556,
              "#d8576b"
             ],
             [
              0.6666666666666666,
              "#ed7953"
             ],
             [
              0.7777777777777778,
              "#fb9f3a"
             ],
             [
              0.8888888888888888,
              "#fdca26"
             ],
             [
              1,
              "#f0f921"
             ]
            ],
            "type": "surface"
           }
          ],
          "table": [
           {
            "cells": {
             "fill": {
              "color": "#EBF0F8"
             },
             "line": {
              "color": "white"
             }
            },
            "header": {
             "fill": {
              "color": "#C8D4E3"
             },
             "line": {
              "color": "white"
             }
            },
            "type": "table"
           }
          ]
         },
         "layout": {
          "annotationdefaults": {
           "arrowcolor": "#2a3f5f",
           "arrowhead": 0,
           "arrowwidth": 1
          },
          "autotypenumbers": "strict",
          "coloraxis": {
           "colorbar": {
            "outlinewidth": 0,
            "ticks": ""
           }
          },
          "colorscale": {
           "diverging": [
            [
             0,
             "#8e0152"
            ],
            [
             0.1,
             "#c51b7d"
            ],
            [
             0.2,
             "#de77ae"
            ],
            [
             0.3,
             "#f1b6da"
            ],
            [
             0.4,
             "#fde0ef"
            ],
            [
             0.5,
             "#f7f7f7"
            ],
            [
             0.6,
             "#e6f5d0"
            ],
            [
             0.7,
             "#b8e186"
            ],
            [
             0.8,
             "#7fbc41"
            ],
            [
             0.9,
             "#4d9221"
            ],
            [
             1,
             "#276419"
            ]
           ],
           "sequential": [
            [
             0,
             "#0d0887"
            ],
            [
             0.1111111111111111,
             "#46039f"
            ],
            [
             0.2222222222222222,
             "#7201a8"
            ],
            [
             0.3333333333333333,
             "#9c179e"
            ],
            [
             0.4444444444444444,
             "#bd3786"
            ],
            [
             0.5555555555555556,
             "#d8576b"
            ],
            [
             0.6666666666666666,
             "#ed7953"
            ],
            [
             0.7777777777777778,
             "#fb9f3a"
            ],
            [
             0.8888888888888888,
             "#fdca26"
            ],
            [
             1,
             "#f0f921"
            ]
           ],
           "sequentialminus": [
            [
             0,
             "#0d0887"
            ],
            [
             0.1111111111111111,
             "#46039f"
            ],
            [
             0.2222222222222222,
             "#7201a8"
            ],
            [
             0.3333333333333333,
             "#9c179e"
            ],
            [
             0.4444444444444444,
             "#bd3786"
            ],
            [
             0.5555555555555556,
             "#d8576b"
            ],
            [
             0.6666666666666666,
             "#ed7953"
            ],
            [
             0.7777777777777778,
             "#fb9f3a"
            ],
            [
             0.8888888888888888,
             "#fdca26"
            ],
            [
             1,
             "#f0f921"
            ]
           ]
          },
          "colorway": [
           "#636efa",
           "#EF553B",
           "#00cc96",
           "#ab63fa",
           "#FFA15A",
           "#19d3f3",
           "#FF6692",
           "#B6E880",
           "#FF97FF",
           "#FECB52"
          ],
          "font": {
           "color": "#2a3f5f"
          },
          "geo": {
           "bgcolor": "white",
           "lakecolor": "white",
           "landcolor": "#E5ECF6",
           "showlakes": true,
           "showland": true,
           "subunitcolor": "white"
          },
          "hoverlabel": {
           "align": "left"
          },
          "hovermode": "closest",
          "mapbox": {
           "style": "light"
          },
          "paper_bgcolor": "white",
          "plot_bgcolor": "#E5ECF6",
          "polar": {
           "angularaxis": {
            "gridcolor": "white",
            "linecolor": "white",
            "ticks": ""
           },
           "bgcolor": "#E5ECF6",
           "radialaxis": {
            "gridcolor": "white",
            "linecolor": "white",
            "ticks": ""
           }
          },
          "scene": {
           "xaxis": {
            "backgroundcolor": "#E5ECF6",
            "gridcolor": "white",
            "gridwidth": 2,
            "linecolor": "white",
            "showbackground": true,
            "ticks": "",
            "zerolinecolor": "white"
           },
           "yaxis": {
            "backgroundcolor": "#E5ECF6",
            "gridcolor": "white",
            "gridwidth": 2,
            "linecolor": "white",
            "showbackground": true,
            "ticks": "",
            "zerolinecolor": "white"
           },
           "zaxis": {
            "backgroundcolor": "#E5ECF6",
            "gridcolor": "white",
            "gridwidth": 2,
            "linecolor": "white",
            "showbackground": true,
            "ticks": "",
            "zerolinecolor": "white"
           }
          },
          "shapedefaults": {
           "line": {
            "color": "#2a3f5f"
           }
          },
          "ternary": {
           "aaxis": {
            "gridcolor": "white",
            "linecolor": "white",
            "ticks": ""
           },
           "baxis": {
            "gridcolor": "white",
            "linecolor": "white",
            "ticks": ""
           },
           "bgcolor": "#E5ECF6",
           "caxis": {
            "gridcolor": "white",
            "linecolor": "white",
            "ticks": ""
           }
          },
          "title": {
           "x": 0.05
          },
          "xaxis": {
           "automargin": true,
           "gridcolor": "white",
           "linecolor": "white",
           "ticks": "",
           "title": {
            "standoff": 15
           },
           "zerolinecolor": "white",
           "zerolinewidth": 2
          },
          "yaxis": {
           "automargin": true,
           "gridcolor": "white",
           "linecolor": "white",
           "ticks": "",
           "title": {
            "standoff": 15
           },
           "zerolinecolor": "white",
           "zerolinewidth": 2
          }
         }
        },
        "title": {
         "text": "Churn rate frequency to MonthlyCharges distribution"
        },
        "xaxis": {
         "anchor": "y",
         "domain": [
          0,
          1
         ],
         "title": {
          "text": "MonthlyCharges"
         }
        },
        "xaxis2": {
         "anchor": "y2",
         "domain": [
          0,
          1
         ],
         "matches": "x",
         "showgrid": true,
         "showticklabels": false
        },
        "yaxis": {
         "anchor": "x",
         "domain": [
          0,
          0.7326
         ],
         "title": {
          "text": "sum of Count"
         }
        },
        "yaxis2": {
         "anchor": "x2",
         "domain": [
          0.7426,
          1
         ],
         "matches": "y2",
         "showgrid": false,
         "showline": false,
         "showticklabels": false,
         "ticks": ""
        }
       }
      }
     },
     "metadata": {},
     "output_type": "display_data"
    },
    {
     "data": {
      "application/vnd.plotly.v1+json": {
       "config": {
        "plotlyServerURL": "https://plot.ly"
       },
       "data": [
        {
         "bingroup": "x",
         "histfunc": "sum",
         "hovertemplate": "Churn=No<br>TotalCharges=%{x}<br>sum of Count=%{y}<extra></extra>",
         "legendgroup": "No",
         "marker": {
          "color": "green",
          "pattern": {
           "shape": ""
          }
         },
         "name": "No",
         "orientation": "v",
         "showlegend": true,
         "type": "histogram",
         "x": {
          "bdata": "zczMzMzMMkCamZmZmdkyQGZmZmZm5jJAAAAAAAAAM0DNzMzMzAwzQJqZmZmZGTNAZmZmZmYmM0AzMzMzMzMzQAAAAAAAQDNAzczMzMxMM0BmZmZmZmYzQDMzMzMzczNAAAAAAACAM0DNzMzMzIwzQGZmZmZmpjNAMzMzMzOzM0AAAAAAAMAzQM3MzMzMzDNAmpmZmZnZM0BmZmZmZuYzQDMzMzMz8zNAAAAAAAAANEDNzMzMzAw0QGZmZmZmJjRAMzMzMzMzNEAAAAAAAEA0QM3MzMzMTDRAmpmZmZlZNEBmZmZmZmY0QDMzMzMzczRAAAAAAACANEDNzMzMzIw0QJqZmZmZmTRAZmZmZmamNEAzMzMzM7M0QAAAAAAAwDRAzczMzMzMNEBmZmZmZuY0QDMzMzMz8zRAzczMzMwMNUCamZmZmRk1QAAAAAAAADhAMzMzMzMzOEBmZmZmZmY4QDMzMzMzszhAZmZmZmbmOEAAAAAAAAA5QGZmZmZmJjlAAAAAAABAOUCamZmZmVk5QGZmZmZmZjlAMzMzMzOzOUAAAAAAAMA5QJqZmZmZ2TlAzczMzMyMO0BmZmZmZiY9QJqZmZmZ2T1AZmZmZmbmPUDNzMzMzIw+QDMzMzMzMz9AZmZmZmbmP0CamZmZmVlAQM3MzMzMzEBAmpmZmZnZQEAAAAAAAGBBQGZmZmZmZkFAAAAAAACAQUDNzMzMzIxBQDMzMzMz80FAZmZmZmZmQkCamZmZmZlCQAAAAAAAAENAMzMzMzMTQ0AAAAAAACBDQJqZmZmZOUNAZmZmZmZmQ0AAAAAAAKBDQGZmZmZmpkNAZmZmZmbmQ0DNzMzMzOxDQAAAAAAAIERAMzMzMzNzRECamZmZmZlEQM3MzMzM7ERAmpmZmZk5RUCamZmZmVlFQDMzMzMzc0VAMzMzMzOTRUBmZmZmZuZFQM3MzMzM7EVAmpmZmZn5RUAAAAAAAABGQGZmZmZmBkZAMzMzMzMTRkCamZmZmRlGQGZmZmZmJkZAMzMzMzMzRkCamZmZmTlGQGZmZmZmRkZAzczMzMxMRkAAAAAAAGBGQGZmZmZmZkZAMzMzMzNzRkCamZmZmXlGQAAAAAAAgEZAMzMzMzOTRkCamZmZmZlGQAAAAAAAoEZAZmZmZmamRkDNzMzMzKxGQDMzMzMzs0ZAZmZmZmbGRkDNzMzMzMxGQAAAAAAA4EZAZmZmZmbmRkDNzMzMzOxGQGZmZmZmJkdAzczMzMwsR0AzMzMzMzNHQJqZmZmZ2UdAmpmZmZn5R0DNzMzMzCxIQJqZmZmZOUhAzczMzMxMSEAAAAAAAGBIQAAAAAAAgEhAZmZmZmaGSEBmZmZmZqZIQAAAAAAAwEhAZmZmZmbGSEAzMzMzM9NIQJqZmZmZ2UhAAAAAAADgSEBmZmZmZuZIQM3MzMzM7EhAMzMzMzPzSECamZmZmflIQGZmZmZmBklAzczMzMwMSUAzMzMzMxNJQM3MzMzMTElAmpmZmZlZSUAAAAAAAGBJQJqZmZmZmUlAAAAAAACgSUDNzMzMzMxJQAAAAAAAAEpAZmZmZmYGSkBmZmZmZoZKQDMzMzMzk0pAZmZmZmbGSkBmZmZmZiZLQAAAAAAAQEtAMzMzMzNTS0CamZmZmVlLQGZmZmZmhktAAAAAAACgS0BmZmZmZqZLQJqZmZmZuUtAZmZmZmbGS0CamZmZmdlLQAAAAAAAAExAmpmZmZmZTEAzMzMzM7NMQAAAAAAAwExAAAAAAAAATUBmZmZmZiZNQAAAAAAAoE1AZmZmZmbGTUAzMzMzM1NOQGZmZmZmhk5AMzMzMzOTTkDNzMzMzKxOQJqZmZmZuU5AmpmZmZnZTkAAAAAAAABPQGZmZmZmZk9AMzMzMzNzT0AAAAAAAIBPQDMzMzMzk09AzczMzMzMT0AAAAAAAOBPQM3MzMzMfFBAZmZmZmbGUEAzMzMzM+NQQM3MzMzMDFFAZmZmZmYWUUDNzMzMzBxRQDMzMzMzM1FAAAAAAABQUUCamZmZmXlRQM3MzMzMfFFAMzMzMzODUUBmZmZmZoZRQM3MzMzMjFFAAAAAAACQUUBmZmZmZpZRQM3MzMzMnFFAZmZmZmamUUDNzMzMzKxRQGZmZmZmxlFAzczMzMzMUUAAAAAAANBRQAAAAAAAAFJAZmZmZmYGUkAzMzMzM0NSQGZmZmZmRlJAzczMzMxcUkAAAAAAAIBSQGZmZmZmhlJAzczMzMyMUkAzMzMzM5NSQGZmZmZmllJAZmZmZmamUkDNzMzMzKxSQGZmZmZmxlJAZmZmZmbWUkDNzMzMzNxSQAAAAAAA4FJAMzMzMzPjUkCamZmZmSlTQM3MzMzMPFNAZmZmZmZmU0AAAAAAAJBTQDMzMzMzk1NAmpmZmZm5U0AzMzMzM8NTQJqZmZmZyVNAMzMzMzPzU0AzMzMzMyNUQM3MzMzMPFRAMzMzMzNDVECamZmZmYlUQM3MzMzMrFRAZmZmZma2VECamZmZmblUQDMzMzMz01RAmpmZmZnZVEAAAAAAAPBUQM3MzMzMDFVAmpmZmZkZVUAAAAAAACBVQGZmZmZmJlVAAAAAAAAwVUAAAAAAAEBVQGZmZmZmRlVAAAAAAABgVUAzMzMzM4NVQGZmZmZmllVAMzMzMzPTVUCamZmZmflVQDMzMzMzQ1ZAAAAAAABQVkAzMzMzM1NWQGZmZmZmVlZAAAAAAABwVkAzMzMzM4NWQGZmZmZmhlZAmpmZmZnZVkDNzMzMzNxWQDMzMzMzA1dAAAAAAAAQV0AAAAAAACBXQAAAAAAAMFdAmpmZmZlZV0DNzMzMzFxXQDMzMzMzY1dAmpmZmZmJV0CamZmZmZlXQM3MzMzMnFdAAAAAAACgV0AzMzMzM+NXQGZmZmZm9ldAZmZmZmYGWEAzMzMzMzNYQGZmZmZmNlhAAAAAAABAWEAAAAAAAGBYQGZmZmZmllhAAAAAAACgWEDNzMzMzNxYQGZmZmZm5lhAzczMzMz8WEDNzMzMzAxZQGZmZmZmFllAmpmZmZk5WUBmZmZmZkZZQJqZmZmZaVlAmpmZmZl5WUDNzMzMzOxZQDMzMzMzE1pAAAAAAABgWkBmZmZmZmZaQM3MzMzMjFpAMzMzMzOzWkCamZmZmblaQDMzMzMzw1pAZmZmZmbGWkAAAAAAANBaQGZmZmZm5lpAmpmZmZkpW0DNzMzMzExbQAAAAAAAUFtAMzMzMzNTW0AAAAAAAGBbQGZmZmZmZltAMzMzMzNzW0AzMzMzM4NbQJqZmZmZiVtAMzMzMzPDW0CamZmZmdlbQJqZmZmZ6VtAAAAAAAAwXEBmZmZmZkZcQAAAAAAAYFxAzczMzMx8XECamZmZmYlcQGZmZmZmJl1AZmZmZmY2XUDNzMzMzDxdQDMzMzMzQ11AMzMzMzNzXUDNzMzMzHxdQAAAAAAAkF1AmpmZmZmZXUAzMzMzM9NdQAAAAAAA4F1AAAAAAAAQXkAAAAAAAFBeQAAAAAAAgF5AzczMzMysXkCamZmZmbleQDMzMzMzw15AmpmZmZnpXkAzMzMzM/NeQJqZmZmZGV9AzczMzMwcX0AAAAAAAEBfQAAAAAAAYF9AzczMzMx8X0AzMzMzMxNgQM3MzMzMJGBAZmZmZmYmYECamZmZmTFgQDMzMzMzM2BAzczMzMxEYEAAAAAAAEhgQAAAAAAAUGBAmpmZmZlRYEAAAAAAAIhgQM3MzMzMjGBAmpmZmZnBYEAzMzMzM9NgQAAAAAAA2GBAZmZmZmbmYEAAAAAAAPhgQJqZmZmZAWFAAAAAAAAYYUAzMzMzMyNhQAAAAAAAKGFAMzMzMzMzYUAzMzMzM1thQAAAAAAAaGFAAAAAAAB4YUAzMzMzM4NhQM3MzMzMjGFAZmZmZmaeYUAzMzMzM6NhQDMzMzMzs2FAzczMzMy0YUBmZmZmZrZhQM3MzMzM9GFAzczMzMz8YUAAAAAAAABiQM3MzMzMBGJAMzMzMzMLYkCamZmZmRliQGZmZmZmHmJAzczMzMwkYkDNzMzMzExiQDMzMzMzU2JAzczMzMxUYkAAAAAAAHBiQJqZmZmZcWJAAAAAAAB4YkCamZmZmXliQJqZmZmZgWJAmpmZmZmhYkAAAAAAAMBiQDMzMzMzy2JAMzMzMzPTYkAAAAAAANhiQDMzMzMz22JAAAAAAAD4YkCamZmZmQljQDMzMzMzE2NAZmZmZmYeY0CamZmZmSljQJqZmZmZOWNAZmZmZmY+Y0CamZmZmUljQJqZmZmZUWNAmpmZmZlZY0AzMzMzM2tjQM3MzMzMfGNAMzMzMzODY0AzMzMzM5tjQJqZmZmZsWNAzczMzMy0Y0AAAAAAALhjQDMzMzMzy2NAZmZmZmbeY0BmZmZmZuZjQDMzMzMz62NAmpmZmZkBZEAzMzMzMxtkQM3MzMzMJGRAZmZmZmYuZEDNzMzMzDRkQGZmZmZmPmRAzczMzMxEZECamZmZmUlkQGZmZmZmTmRAmpmZmZlRZEBmZmZmZmZkQJqZmZmZcWRAMzMzMzNzZEBmZmZmZnZkQDMzMzMzk2RAMzMzMzOrZEAAAAAAALBkQGZmZmZm5mRAAAAAAAAQZUAzMzMzMxNlQM3MzMzMFGVAzczMzMwcZUDNzMzMzDRlQAAAAAAAOGVAAAAAAABQZUDNzMzMzFxlQAAAAAAAYGVAZmZmZmZuZUAzMzMzM4tlQAAAAAAAoGVAzczMzMykZUBmZmZmZsZlQGZmZmZmzmVAzczMzMzUZUBmZmZmZtZlQAAAAAAA2GVAZmZmZmYGZkCamZmZmQlmQM3MzMzMLGZAZmZmZmZWZkCamZmZmVlmQDMzMzMzW2ZAMzMzMzN7ZkBmZmZmZpZmQM3MzMzMtGZAmpmZmZm5ZkDNzMzMzORmQJqZmZmZAWdAMzMzMzMDZ0DNzMzMzARnQM3MzMzMDGdAZmZmZmYeZ0BmZmZmZiZnQM3MzMzMLGdAmpmZmZlBZ0DNzMzMzERnQJqZmZmZSWdAMzMzMzNrZ0AAAAAAAHhnQDMzMzMzg2dAMzMzMzOjZ0BmZmZmZq5nQGZmZmZmvmdAMzMzMzPDZ0AAAAAAAMhnQAAAAAAA0GdAMzMzMzPjZ0CamZmZmSFoQGZmZmZmRmhAmpmZmZlRaEDNzMzMzHRoQDMzMzMzi2hAzczMzMyMaEAAAAAAAJhoQM3MzMzMnGhAzczMzMysaEAzMzMzM8NoQAAAAAAAyGhAAAAAAADQaEAzMzMzM9NoQGZmZmZm1mhAZmZmZmbuaEAAAAAAAPhoQDMzMzMz+2hAZmZmZmYGaUBmZmZmZjZpQGZmZmZmPmlAzczMzMxEaUAAAAAAAEhpQJqZmZmZSWlAzczMzMxcaUBmZmZmZn5pQJqZmZmZkWlAzczMzMzEaUAzMzMzM+tpQM3MzMzM7GlAAAAAAAAAakAAAAAAAAhqQGZmZmZmDmpAzczMzMw8akDNzMzMzFRqQGZmZmZmfmpAmpmZmZmJakDNzMzMzIxqQDMzMzMzq2pAzczMzMzMakCamZmZmdFqQAAAAAAA2GpAAAAAAADoakBmZmZmZgZrQGZmZmZmDmtAMzMzMzMja0BmZmZmZi5rQAAAAAAAMGtAAAAAAABQa0CamZmZmVFrQDMzMzMza2tAAAAAAABwa0AzMzMzM4trQM3MzMzMjGtAZmZmZmaOa0DNzMzMzJRrQAAAAAAAmGtAmpmZmZmZa0AzMzMzM6NrQM3MzMzM1GtAzczMzMzka0AzMzMzM/NrQAAAAAAA+GtAzczMzMz8a0AAAAAAABBsQDMzMzMzG2xAmpmZmZkxbEDNzMzMzDRsQAAAAAAAOGxAMzMzMzM7bEBmZmZmZkZsQJqZmZmZUWxAmpmZmZlZbEBmZmZmZl5sQDMzMzMza2xAZmZmZmZubEDNzMzMzJRsQAAAAAAAmGxAzczMzMysbEBmZmZmZrZsQGZmZmZm7mxAMzMzMzMDbUAzMzMzMwttQM3MzMzMDG1AAAAAAAAQbUCamZmZmRFtQM3MzMzMNG1AzczMzMw8bUAzMzMzM1ttQAAAAAAAYG1AmpmZmZlhbUBmZmZmZmZtQM3MzMzMdG1AmpmZmZl5bUBmZmZmZqZtQJqZmZmZqW1AzczMzMy0bUBmZmZmZrZtQDMzMzMzw21AzczMzMzEbUAAAAAAANBtQAAAAAAA4G1AmpmZmZnhbUBmZmZmZu5tQAAAAAAA+G1AmpmZmZkpbkDNzMzMzExuQM3MzMzMdG5AMzMzMzODbkBmZmZmZo5uQAAAAAAAmG5AmpmZmZmZbkAzMzMzM5tuQM3MzMzMpG5AAAAAAADIbkCamZmZmcluQDMzMzMz025AZmZmZmbWbkAAAAAAAOBuQM3MzMzMDG9AzczMzMwsb0CamZmZmTFvQDMzMzMzQ29AmpmZmZlZb0AAAAAAAGhvQDMzMzMzc29AzczMzMx0b0AAAAAAAIBvQAAAAAAAmG9AAAAAAACgb0CamZmZmblvQM3MzMzMvG9AAAAAAADQb0AzMzMzM+tvQAAAAAAA8G9AmpmZmZnxb0AzMzMzM/NvQJqZmZmZCXBAAAAAAAAMcEAAAAAAABBwQJqZmZmZGXBAmpmZmZklcEBmZmZmZjZwQGZmZmZmOnBAMzMzMzNLcEBmZmZmZk5wQM3MzMzMVHBAZmZmZmZacEDNzMzMzGBwQM3MzMzMZHBAzczMzMxwcEBmZmZmZnpwQM3MzMzMiHBAzczMzMyMcEDNzMzMzJRwQDMzMzMzl3BAAAAAAACccEDNzMzMzJxwQJqZmZmZqXBAzczMzMyscEAzMzMzM69wQAAAAAAAsHBAmpmZmZm1cEBmZmZmZsZwQDMzMzMzx3BAZmZmZmbacEBmZmZmZuJwQDMzMzMz43BAmpmZmZnpcEAAAAAAAABxQJqZmZmZBXFAMzMzMzMPcUAzMzMzMxNxQAAAAAAAFHFAZmZmZmYWcUCamZmZmSVxQDMzMzMzK3FAZmZmZmY2cUAzMzMzMztxQGZmZmZmPnFAAAAAAABIcUBmZmZmZmZxQJqZmZmZbXFAMzMzMzNzcUDNzMzMzHRxQAAAAAAAeHFAAAAAAACAcUCamZmZmYVxQGZmZmZmhnFAmpmZmZmNcUAAAAAAALxxQDMzMzMzv3FAzczMzMzEcUCamZmZmcVxQGZmZmZmznFAMzMzMzPTcUDNzMzMzOxxQJqZmZmZ/XFAmpmZmZkFckDNzMzMzChyQDMzMzMzN3JAZmZmZmZGckBmZmZmZlJyQJqZmZmZXXJAMzMzMzNjckAzMzMzM2dyQAAAAAAAaHJAZmZmZmZuckAzMzMzM29yQM3MzMzMeHJAZmZmZmZ6ckAzMzMzM39yQGZmZmZmgnJAmpmZmZmVckAzMzMzM6tyQM3MzMzMsHJAzczMzMy0ckBmZmZmZrZyQAAAAAAAvHJAZmZmZmbGckAzMzMzM8tyQM3MzMzM2HJAZmZmZmbeckCamZmZmeVyQDMzMzMz53JAmpmZmZnpckAzMzMzM/tyQJqZmZmZCXNAzczMzMwYc0DNzMzMzCBzQAAAAAAAMHNAmpmZmZk5c0DNzMzMzEBzQJqZmZmZQXNAAAAAAABUc0CamZmZmVVzQGZmZmZmVnNAmpmZmZlpc0CamZmZmXlzQDMzMzMzi3NAAAAAAACQc0BmZmZmZpZzQDMzMzMzl3NAmpmZmZmZc0AzMzMzM6dzQM3MzMzMqHNAmpmZmZmpc0AzMzMzM69zQDMzMzMzw3NAZmZmZmbOc0AAAAAAANxzQJqZmZmZ4XNAmpmZmZnpc0CamZmZmflzQJqZmZmZ/XNAZmZmZmYGdEAzMzMzMwd0QM3MzMzMEHRAZmZmZmYWdEAzMzMzMxt0QAAAAAAAKHRAZmZmZmYudEBmZmZmZjJ0QDMzMzMzN3RAZmZmZmZCdEAzMzMzM0N0QM3MzMzMTHRAZmZmZmZqdEDNzMzMzGx0QAAAAAAAnHRAAAAAAACkdECamZmZmal0QM3MzMzMrHRAmpmZmZm1dECamZmZmbl0QJqZmZmZvXRAAAAAAADIdEBmZmZmZsp0QGZmZmZm2nRAZmZmZmb2dEBmZmZmZvp0QAAAAAAA/HRAMzMzMzP/dEBmZmZmZgJ1QDMzMzMzC3VAZmZmZmYedUBmZmZmZj51QJqZmZmZRXVAZmZmZmZGdUCamZmZmU11QJqZmZmZVXVAmpmZmZlZdUDNzMzMzGR1QDMzMzMzd3VAmpmZmZl5dUAzMzMzM4N1QAAAAAAAiHVAAAAAAACYdUBmZmZmZp51QDMzMzMzp3VAZmZmZma6dUBmZmZmZsJ1QM3MzMzMzHVAzczMzMzcdUCamZmZmeF1QJqZmZmZ5XVAAAAAAAD4dUDNzMzMzPh1QGZmZmZmCnZAZmZmZmYadkCamZmZmTF2QGZmZmZmPnZAmpmZmZlBdkBmZmZmZkJ2QGZmZmZmSnZAAAAAAABQdkBmZmZmZlJ2QJqZmZmZWXZAMzMzMzNbdkDNzMzMzGB2QGZmZmZmYnZAAAAAAABodkBmZmZmZnZ2QJqZmZmZhXZAzczMzMyIdkCamZmZmal2QGZmZmZmsnZAzczMzMzcdkDNzMzMzPh2QDMzMzMz/3ZAmpmZmZkNd0DNzMzMzBB3QJqZmZmZEXdAZmZmZmYSd0AAAAAAABR3QM3MzMzMFHdAmpmZmZkZd0AAAAAAACR3QGZmZmZmJndAAAAAAAAod0BmZmZmZjZ3QJqZmZmZOXdAMzMzMzNHd0AAAAAAAFB3QAAAAAAAWHdAAAAAAABgd0DNzMzMzGx3QAAAAAAAdHdAzczMzMyYd0CamZmZmZ13QJqZmZmZqXdAMzMzMzPTd0AzMzMzM+N3QM3MzMzM7HdAzczMzMz4d0BmZmZmZvp3QAAAAAAABHhAzczMzMwYeEAAAAAAACh4QGZmZmZmNnhAMzMzMzM7eEBmZmZmZj54QJqZmZmZSXhAAAAAAABUeEDNzMzMzFx4QDMzMzMzX3hAZmZmZmZmeEAzMzMzM3t4QAAAAAAAiHhAZmZmZmaKeEBmZmZmZpJ4QDMzMzMzl3hAmpmZmZmheECamZmZma14QJqZmZmZuXhAAAAAAADQeEDNzMzMzOh4QAAAAAAA9HhAMzMzMzP3eEAAAAAAAAB5QM3MzMzMBHlAzczMzMwUeUAAAAAAABh5QJqZmZmZHXlAMzMzMzMfeUAAAAAAACh5QJqZmZmZKXlAmpmZmZkteUBmZmZmZjJ5QJqZmZmZRXlAmpmZmZlZeUAzMzMzM1t5QM3MzMzMYHlAMzMzMzNveUDNzMzMzHB5QAAAAAAAhHlAAAAAAACIeUBmZmZmZrJ5QAAAAAAAtHlAMzMzMzO3eUCamZmZmbl5QAAAAAAAvHlAzczMzMzIeUCamZmZmcl5QAAAAAAA0HlAAAAAAADUeUCamZmZmeF5QDMzMzMz73lAmpmZmZnxeUBmZmZmZvZ5QGZmZmZm/nlAZmZmZmYGekAzMzMzMwd6QAAAAAAAEHpAAAAAAAAYekBmZmZmZhp6QDMzMzMzG3pAAAAAAAAcekAAAAAAACR6QM3MzMzMJHpAmpmZmZk1ekBmZmZmZjZ6QDMzMzMzO3pAZmZmZmY+ekAzMzMzM0d6QM3MzMzMZHpAZmZmZmZmekAAAAAAAGh6QJqZmZmZaXpAMzMzMzNrekAAAAAAAIh6QAAAAAAAjHpAmpmZmZmRekCamZmZmaV6QGZmZmZmqnpAMzMzMzPHekAzMzMzM8t6QM3MzMzM2HpAAAAAAAAEe0AAAAAAAAh7QAAAAAAAGHtAAAAAAAAce0AzMzMzMx97QAAAAAAAKHtAzczMzMwse0AAAAAAADB7QAAAAAAANHtAMzMzMzM3e0AzMzMzM0N7QJqZmZmZSXtAZmZmZmZOe0DNzMzMzGB7QGZmZmZmbntAMzMzMzNze0AAAAAAAHx7QDMzMzMzg3tAMzMzMzOne0CamZmZmal7QAAAAAAAzHtAzczMzMzUe0CamZmZmd17QDMzMzMz33tAzczMzMzse0AAAAAAAPx7QGZmZmZm/ntAzczMzMwUfEBmZmZmZiZ8QGZmZmZmKnxAZmZmZmYufEDNzMzMzDh8QDMzMzMzQ3xAmpmZmZlFfEDNzMzMzEh8QM3MzMzMTHxAAAAAAABgfEDNzMzMzGB8QGZmZmZmanxAmpmZmZmNfECamZmZmZF8QM3MzMzMlHxAmpmZmZmhfECamZmZmbl8QDMzMzMzv3xAMzMzMzPDfEAAAAAAAMR8QM3MzMzM1HxAmpmZmZn5fEAzMzMzMxd9QDMzMzMzG31AmpmZmZkdfUCamZmZmSl9QGZmZmZmMn1AAAAAAAA4fUAzMzMzMzt9QJqZmZmZPX1AmpmZmZlFfUAAAAAAAFR9QGZmZmZmWn1AmpmZmZldfUAAAAAAAGB9QDMzMzMzY31AmpmZmZlpfUCamZmZmXV9QM3MzMzMeH1AMzMzMzN7fUCamZmZmX19QAAAAAAAhH1AZmZmZmaKfUBmZmZmZp59QAAAAAAAsH1AmpmZmZmxfUAzMzMzM7N9QAAAAAAAtH1AMzMzMzO7fUDNzMzMzMx9QM3MzMzM0H1AzczMzMzYfUCamZmZmdl9QJqZmZmZ4X1AAAAAAADsfUCamZmZmRF+QAAAAAAAJH5AzczMzMwsfkBmZmZmZjJ+QM3MzMzMNH5AzczMzMxAfkAzMzMzM1N+QAAAAAAAVH5AZmZmZmZefkDNzMzMzGB+QDMzMzMzY35AzczMzMxwfkAAAAAAAHx+QDMzMzMzf35AAAAAAACEfkBmZmZmZop+QM3MzMzMqH5AZmZmZmaqfkAAAAAAAMB+QJqZmZmZwX5AZmZmZmbWfkBmZmZmZtp+QDMzMzMz335AzczMzMzgfkBmZmZmZu5+QDMzMzMz735AZmZmZmbyfkDNzMzMzBR/QJqZmZmZGX9AmpmZmZkhf0AAAAAAACR/QGZmZmZmNn9AmpmZmZlBf0AzMzMzM1N/QJqZmZmZVX9AAAAAAAB0f0DNzMzMzIB/QDMzMzMzg39AMzMzMzOXf0BmZmZmZp5/QDMzMzMzn39AZmZmZma2f0BmZmZmZr5/QM3MzMzM1H9AzczMzMzsf0AAAAAAAPR/QAAAAAAAAoBAzczMzMwUgEAAAAAAABaAQJqZmZmZG4BAAAAAAAAegEAzMzMzMyGAQGZmZmZmIoBAZmZmZmYygEAAAAAAADaAQM3MzMzMQIBAZmZmZmZEgECamZmZmUeAQAAAAAAASIBAzczMzMxKgEBmZmZmZk6AQDMzMzMzT4BAzczMzMxSgECamZmZmVeAQM3MzMzMWIBAzczMzMxigEAAAAAAAGSAQAAAAAAAaIBAZmZmZmZsgEDNzMzMzHqAQAAAAAAAfIBAmpmZmZmDgEAAAAAAAIyAQGZmZmZmjoBAZmZmZmaQgEAzMzMzM5mAQGZmZmZmnIBAzczMzMycgEDNzMzMzKCAQGZmZmZmqIBAAAAAAACsgEDNzMzMzKyAQDMzMzMzr4BAmpmZmZm1gEBmZmZmZriAQM3MzMzMuoBAZmZmZma8gEDNzMzMzMKAQM3MzMzMyoBAmpmZmZnRgEAAAAAAANSAQGZmZmZm4IBAmpmZmZnngEAAAAAAAOyAQDMzMzMz84BAAAAAAAD4gEBmZmZmZv6AQJqZmZmZE4FAzczMzMwWgUBmZmZmZh6BQGZmZmZmJoFAMzMzMzMngUDNzMzMzDCBQM3MzMzMMoFAzczMzMw0gUBmZmZmZjqBQJqZmZmZP4FAzczMzMxAgUAzMzMzM0WBQJqZmZmZRYFAMzMzMzNHgUAAAAAAAEiBQDMzMzMzS4FAZmZmZmZQgUAAAAAAAFKBQJqZmZmZU4FAMzMzMzNbgUBmZmZmZnaBQJqZmZmZeYFAMzMzMzOJgUDNzMzMzJSBQJqZmZmZlYFAZmZmZmaYgUAAAAAAAJyBQM3MzMzMooFAMzMzMzOjgUAzMzMzM6WBQM3MzMzMqoFAAAAAAACugUDNzMzMzLCBQAAAAAAAtIFAZmZmZma+gUCamZmZmcGBQM3MzMzMxoFAZmZmZmbYgUAzMzMzM9mBQJqZmZmZ24FAAAAAAADegUCamZmZmeGBQJqZmZmZ44FAzczMzMzmgUBmZmZmZuiBQDMzMzMz6YFAzczMzMzygUAAAAAAAPSBQDMzMzMzBYJAmpmZmZkFgkCamZmZmQeCQDMzMzMzCYJAAAAAAAAUgkAAAAAAABiCQDMzMzMzG4JAzczMzMwggkBmZmZmZiaCQJqZmZmZLYJAzczMzMwugkAAAAAAADiCQGZmZmZmOoJAzczMzMxYgkAzMzMzM1uCQJqZmZmZW4JAmpmZmZldgkAAAAAAAGqCQM3MzMzMcoJAMzMzMzOFgkAAAAAAAIaCQGZmZmZmiIJAmpmZmZmJgkBmZmZmZoqCQM3MzMzMjoJAZmZmZmaYgkAAAAAAAJyCQDMzMzMzr4JAAAAAAAC6gkBmZmZmZrqCQDMzMzMzwYJAAAAAAADCgkAAAAAAAMqCQGZmZmZmzIJAzczMzMzMgkAzMzMzM9eCQAAAAAAA2IJAAAAAAADqgkCamZmZmeuCQAAAAAAA7oJAMzMzMzPvgkBmZmZmZvqCQJqZmZmZ/YJAMzMzMzMBg0AAAAAAAASDQGZmZmZmCINAzczMzMwIg0AzMzMzMw2DQJqZmZmZEYNAAAAAAAAWg0CamZmZmRuDQDMzMzMzHYNAzczMzMwgg0CamZmZmSeDQJqZmZmZL4NAmpmZmZkzg0DNzMzMzDqDQDMzMzMzR4NAMzMzMzNJg0DNzMzMzEqDQDMzMzMzTYNAzczMzMxOg0BmZmZmZmSDQAAAAAAAZoNAMzMzMzOBg0DNzMzMzISDQGZmZmZmiINAMzMzMzONg0AzMzMzM6WDQM3MzMzMqoNAZmZmZmasg0DNzMzMzLSDQDMzMzMzu4NAmpmZmZnBg0CamZmZmcuDQM3MzMzMzoNAMzMzMzPfg0AzMzMzM+uDQGZmZmZm7INAAAAAAADwg0BmZmZmZvSDQJqZmZmZ94NAmpmZmZn7g0CamZmZmf2DQDMzMzMzCYRAAAAAAAAKhEDNzMzMzAqEQAAAAAAAJIRAZmZmZmYuhEBmZmZmZjCEQAAAAAAAPIRAMzMzMzNFhEAzMzMzM0uEQAAAAAAAXIRAZmZmZmZchEAzMzMzM2mEQAAAAAAAaoRAMzMzMzNvhECamZmZmW+EQAAAAAAAdIRAZmZmZmZ0hEDNzMzMzHaEQGZmZmZmeoRAAAAAAACMhEDNzMzMzJCEQM3MzMzMmoRAmpmZmZmbhEBmZmZmZqCEQGZmZmZmrIRAmpmZmZm3hEBmZmZmZryEQDMzMzMzw4RAAAAAAADQhEAAAAAAANaEQM3MzMzM5oRAmpmZmZnrhEDNzMzMzPKEQDMzMzMz9YRAmpmZmZkBhUCamZmZmQWFQJqZmZmZCYVAZmZmZmYUhUDNzMzMzByFQDMzMzMzIYVAZmZmZmYohUAzMzMzMy+FQJqZmZmZMYVAmpmZmZkzhUAAAAAAADaFQGZmZmZmNoVAAAAAAAA4hUBmZmZmZj6FQDMzMzMzS4VAzczMzMxQhUAzMzMzM1GFQAAAAAAAWoVAAAAAAABehUBmZmZmZmCFQDMzMzMzY4VAzczMzMxmhUBmZmZmZmyFQJqZmZmZd4VAAAAAAACAhUCamZmZmYGFQAAAAAAAhIVAAAAAAACIhUDNzMzMzIqFQAAAAAAAjoVAAAAAAACShUAAAAAAAJSFQM3MzMzMooVAZmZmZmakhUBmZmZmZqqFQJqZmZmZq4VAZmZmZma4hUAAAAAAAL6FQM3MzMzMvoVAZmZmZmbGhUAAAAAAAMqFQDMzMzMzzYVAmpmZmZnNhUCamZmZmeOFQGZmZmZm6IVAZmZmZmbqhUAAAAAAAPCFQGZmZmZm8IVAMzMzMzP3hUBmZmZmZgKGQJqZmZmZC4ZAAAAAAAAchkCamZmZmSGGQGZmZmZmJoZAAAAAAAAshkBmZmZmZjCGQDMzMzMzOYZAMzMzMzM/hkCamZmZmT+GQAAAAAAAQoZAzczMzMxMhkAAAAAAAFiGQM3MzMzMYIZAMzMzMzNjhkBmZmZmZmqGQAAAAAAAbIZAmpmZmZlvhkDNzMzMzHCGQGZmZmZmdIZAZmZmZmaAhkDNzMzMzICGQJqZmZmZg4ZAZmZmZmaahkDNzMzMzJqGQDMzMzMzpYZAzczMzMywhkBmZmZmZr6GQM3MzMzMvoZAmpmZmZnPhkDNzMzMzNCGQDMzMzMz04ZAZmZmZmbahkBmZmZmZuyGQJqZmZmZ74ZAzczMzMz0hkAAAAAAAPyGQDMzMzMz/4ZAZmZmZmYGh0DNzMzMzBqHQDMzMzMzH4dAZmZmZmYkh0AAAAAAACiHQDMzMzMzK4dAAAAAAAAsh0AzMzMzMzeHQGZmZmZmOIdAZmZmZmY6h0AAAAAAADyHQAAAAAAAPodAZmZmZmZKh0BmZmZmZlCHQAAAAAAAVodAmpmZmZlZh0AAAAAAAGqHQM3MzMzMaodAzczMzMxwh0AAAAAAAJCHQAAAAAAAlIdAMzMzMzObh0AAAAAAAJyHQM3MzMzMnIdAMzMzMzOjh0CamZmZma+HQM3MzMzMuodAZmZmZma8h0BmZmZmZsCHQM3MzMzMzodAmpmZmZnPh0CamZmZmdOHQM3MzMzM2IdAZmZmZmbkh0AzMzMzM+mHQJqZmZmZ64dAZmZmZmb8h0AzMzMzM/+HQGZmZmZmAIhAmpmZmZkDiEDNzMzMzAiIQDMzMzMzE4hAAAAAAAAUiECamZmZmR+IQDMzMzMzI4hAzczMzMwmiECamZmZmSmIQGZmZmZmOohAzczMzMw8iEAAAAAAAEKIQGZmZmZmSohAzczMzMxKiECamZmZmVmIQAAAAAAAWohAzczMzMxgiEAzMzMzM2GIQJqZmZmZYYhAAAAAAABiiEDNzMzMzGaIQAAAAAAAaohAMzMzMzNriEAAAAAAAIKIQJqZmZmZg4hAAAAAAACOiEBmZmZmZpKIQAAAAAAAlIhAZmZmZmagiEDNzMzMzKKIQGZmZmZmpIhAzczMzMykiECamZmZmamIQGZmZmZmrIhAAAAAAACwiECamZmZmbWIQDMzMzMzuYhAmpmZmZm9iEAzMzMzM8GIQDMzMzMz2YhAMzMzMzPdiEDNzMzMzOiIQAAAAAAA6ohAmpmZmZnxiEAAAAAAAPiIQGZmZmZmAolAZmZmZmYKiUDNzMzMzBKJQAAAAAAAIolAzczMzMwmiUCamZmZmSmJQJqZmZmZN4lAmpmZmZlHiUAAAAAAAEqJQGZmZmZmUolAmpmZmZlTiUDNzMzMzFaJQDMzMzMzXYlAMzMzMzNjiUAAAAAAAGSJQGZmZmZmaolAmpmZmZlriUAAAAAAAHaJQGZmZmZmfIlAZmZmZmaGiUCamZmZmY+JQJqZmZmZk4lAmpmZmZmfiUDNzMzMzKyJQM3MzMzMxolAzczMzMzIiUAzMzMzM8uJQAAAAAAA0IlAzczMzMzQiUBmZmZmZtiJQGZmZmZm2olAmpmZmZnbiUCamZmZmd2JQGZmZmZm4IlAmpmZmZnhiUDNzMzMzOaJQGZmZmZm6olAAAAAAADyiUBmZmZmZvaJQAAAAAAA/olAZmZmZmYCikBmZmZmZgyKQJqZmZmZFYpAMzMzMzMZikAAAAAAAByKQM3MzMzMIopAAAAAAAAsikAAAAAAADSKQJqZmZmZNYpAMzMzMzM7ikAzMzMzMz2KQAAAAAAAUopAmpmZmZljikAAAAAAAGqKQM3MzMzMbIpAZmZmZmZ2ikAAAAAAAHqKQGZmZmZmfopAzczMzMyIikAzMzMzM4+KQJqZmZmZmYpAZmZmZmaeikCamZmZmaWKQJqZmZmZs4pAZmZmZma2ikAzMzMzM7eKQM3MzMzMuIpAAAAAAADEikAAAAAAAM6KQGZmZmZmzopAzczMzMzUikDNzMzMzOaKQM3MzMzM7opAMzMzMzPzikCamZmZmQGLQGZmZmZmBItAzczMzMwGi0AAAAAAAAiLQGZmZmZmCItAzczMzMwIi0AAAAAAAA6LQM3MzMzMDotAMzMzMzMTi0DNzMzMzBiLQGZmZmZmGotAzczMzMwgi0AzMzMzMy+LQAAAAAAAMotAMzMzMzNLi0CamZmZmVGLQM3MzMzMWotAZmZmZmZci0AzMzMzM2GLQAAAAAAAZotAzczMzMxqi0BmZmZmZn6LQGZmZmZmgItAZmZmZmaUi0DNzMzMzJqLQDMzMzMzs4tAmpmZmZm1i0DNzMzMzLqLQDMzMzMzxYtAAAAAAADGi0AAAAAAAMiLQM3MzMzM0otAAAAAAADUi0AzMzMzM+GLQJqZmZmZ5YtAAAAAAADoi0CamZmZmemLQGZmZmZm8otAAAAAAAAOjECamZmZmRuMQDMzMzMzJ4xAAAAAAAAqjEAAAAAAADCMQAAAAAAAMoxAmpmZmZk9jEBmZmZmZj6MQGZmZmZmTIxAzczMzMxWjEBmZmZmZliMQDMzMzMzYYxAZmZmZmZkjEAAAAAAAGaMQJqZmZmZc4xAzczMzMx8jEAAAAAAAICMQGZmZmZmioxAMzMzMzOTjEDNzMzMzJSMQAAAAAAAoIxAMzMzMzOhjEAzMzMzM6mMQJqZmZmZq4xAmpmZmZm1jEAAAAAAALaMQAAAAAAAxIxAZmZmZmbKjEAzMzMzM8uMQGZmZmZmzIxAzczMzMzYjEDNzMzMzN6MQAAAAAAA8IxAmpmZmZnxjEAAAAAAAPKMQM3MzMzM+IxAMzMzMzP5jEAzMzMzM/2MQDMzMzMzA41AmpmZmZkJjUBmZmZmZgqNQJqZmZmZC41AZmZmZmYQjUAzMzMzMxeNQJqZmZmZF41AZmZmZmYcjUAAAAAAAB6NQDMzMzMzH41AMzMzMzMxjUBmZmZmZjaNQDMzMzMzP41AmpmZmZlFjUDNzMzMzEaNQM3MzMzMSI1AMzMzMzNVjUCamZmZmVeNQGZmZmZmXo1AmpmZmZl3jUAAAAAAAHiNQM3MzMzMeI1AzczMzMx+jUAzMzMzM4WNQJqZmZmZjY1AmpmZmZmXjUAzMzMzM5uNQAAAAAAAno1AMzMzMzOnjUBmZmZmZq6NQM3MzMzMro1AAAAAAAC2jUBmZmZmZryNQDMzMzMzzY1AMzMzMzPXjUAzMzMzM9mNQM3MzMzM3I1AAAAAAADejUAzMzMzM+WNQM3MzMzM6I1AzczMzMzwjUAzMzMzM/GNQAAAAAAA8o1AmpmZmZnzjUAzMzMzM/+NQDMzMzMzC45AAAAAAAASjkAzMzMzMxeOQJqZmZmZH45AzczMzMwijkAzMzMzMyeOQAAAAAAAMo5AZmZmZmY0jkDNzMzMzD6OQDMzMzMzP45AzczMzMxOjkAzMzMzM1OOQJqZmZmZU45AZmZmZmZUjkDNzMzMzFaOQM3MzMzMaI5AzczMzMxqjkAzMzMzM22OQJqZmZmZb45AAAAAAACQjkDNzMzMzJSOQGZmZmZmmI5AAAAAAACcjkDNzMzMzKKOQJqZmZmZq45AmpmZmZm3jkBmZmZmZsiOQJqZmZmZ345AZmZmZmbojkBmZmZmZvKOQJqZmZmZ845AmpmZmZkFj0AzMzMzMwmPQM3MzMzMGo9AmpmZmZkjj0DNzMzMzCaPQJqZmZmZJ49AAAAAAAAuj0DNzMzMzDCPQGZmZmZmPo9AMzMzMzM/j0CamZmZmUmPQAAAAAAATI9AZmZmZmZYj0DNzMzMzGKPQAAAAAAAZI9AAAAAAABmj0CamZmZmW2PQDMzMzMzd49AZmZmZmZ+j0AzMzMzM3+PQJqZmZmZhY9AAAAAAACKj0AAAAAAAJCPQGZmZmZmmI9AAAAAAACcj0BmZmZmZp6PQDMzMzMzo49AZmZmZmaoj0CamZmZmamPQM3MzMzMqo9AzczMzMysj0AAAAAAALKPQJqZmZmZxY9AzczMzMzKj0CamZmZmeGPQAAAAAAA5o9AZmZmZmbsj0AAAAAAAO6PQAAAAAAA9I9AzczMzMz0j0CamZmZmfePQAAAAAAA/o9AzczMzMz+j0CamZmZmf+PQAAAAAAAAJBAmpmZmZkCkEDNzMzMzAKQQDMzMzMzBJBAmpmZmZkEkEBmZmZmZgmQQAAAAAAADZBAAAAAAAATkECamZmZmROQQGZmZmZmFZBAMzMzMzMXkEBmZmZmZhyQQJqZmZmZHZBAzczMzMwekEAzMzMzMyCQQAAAAAAAJJBAmpmZmZknkEDNzMzMzCeQQAAAAAAALpBAzczMzMwukEAAAAAAADCQQM3MzMzMPZBAMzMzMzNHkECamZmZmUqQQDMzMzMzTZBAmpmZmZlNkEAzMzMzM0+QQAAAAAAAVZBAzczMzMxYkEAAAAAAAFqQQM3MzMzMYZBAMzMzMzNkkEBmZmZmZmaQQAAAAAAAapBAMzMzMzNskECamZmZmW+QQAAAAAAAe5BAMzMzMzN7kECamZmZmX+QQAAAAAAAhJBAMzMzMzOGkEBmZmZmZoeQQGZmZmZmiJBAZmZmZmaWkEDNzMzMzKOQQJqZmZmZqJBAmpmZmZmrkEAzMzMzM6yQQJqZmZmZrpBAmpmZmZmwkECamZmZmbiQQAAAAAAAuZBAAAAAAAC6kEDNzMzMzLqQQJqZmZmZvZBAZmZmZma+kEBmZmZmZsKQQDMzMzMzxZBAmpmZmZnKkEAzMzMzM9SQQAAAAAAA1pBAzczMzMzXkEAAAAAAANuQQDMzMzMz3JBAzczMzMzdkECamZmZmd6QQDMzMzMz4pBAAAAAAADlkEAAAAAAAOuQQDMzMzMz65BAAAAAAADskEDNzMzMzO6QQAAAAAAA+5BAAAAAAAD9kEDNzMzMzP2QQM3MzMzM/pBAAAAAAAABkUBmZmZmZgiRQGZmZmZmCpFAmpmZmZkKkUBmZmZmZhGRQAAAAAAAFJFAzczMzMwUkUCamZmZmRWRQGZmZmZmGZFAZmZmZmYikUCamZmZmSKRQJqZmZmZJJFAZmZmZmYrkUCamZmZmTmRQAAAAAAAPZFAzczMzMxMkUAAAAAAAFCRQM3MzMzMUJFAZmZmZmZSkUAzMzMzM1ORQDMzMzMzWJFAZmZmZmZZkUAAAAAAAFqRQM3MzMzMXJFAMzMzMzNhkUDNzMzMzGeRQDMzMzMzapFAZmZmZmZrkUBmZmZmZm6RQDMzMzMzdpFAMzMzMzN7kUBmZmZmZn2RQJqZmZmZf5FAMzMzMzOEkUCamZmZmYmRQJqZmZmZjJFAmpmZmZmOkUDNzMzMzJCRQM3MzMzMlJFAZmZmZmaWkUBmZmZmZpmRQAAAAAAAm5FAZmZmZmagkUBmZmZmZqWRQAAAAAAAqJFAZmZmZmarkUAAAAAAAK6RQM3MzMzMtpFAAAAAAAC5kUAzMzMzM8SRQDMzMzMzy5FAzczMzMzMkUAzMzMzM9CRQDMzMzMz35FAZmZmZmbikUAzMzMzM+iRQAAAAAAA7JFAZmZmZmbvkUCamZmZmfaRQDMzMzMz/JFAMzMzMzP+kUAzMzMzMwOSQAAAAAAABZJAZmZmZmYOkkBmZmZmZhGSQDMzMzMzEpJAZmZmZmYbkkDNzMzMzCGSQAAAAAAAI5JAAAAAAAAnkkAzMzMzMzCSQDMzMzMzNpJAZmZmZmY2kkCamZmZmTeSQM3MzMzMOpJAZmZmZmY+kkAzMzMzMz+SQAAAAAAASpJAMzMzMzNKkkAzMzMzM02SQAAAAAAATpJAZmZmZmZVkkAzMzMzM1aSQGZmZmZmWZJAMzMzMzNbkkBmZmZmZl6SQGZmZmZmX5JAMzMzMzNkkkDNzMzMzGeSQAAAAAAAa5JAAAAAAAB3kkAzMzMzM3ySQM3MzMzMfJJAMzMzMzN/kkAAAAAAAICSQAAAAAAAhJJAzczMzMyHkkAzMzMzM4ySQM3MzMzMkJJAAAAAAACRkkCamZmZmZWSQJqZmZmZl5JAAAAAAACakkDNzMzMzJySQJqZmZmZnZJAMzMzMzOhkkDNzMzMzKKSQDMzMzMzppJAAAAAAACtkkAAAAAAAK+SQM3MzMzMr5JAMzMzMzO4kkAzMzMzM7uSQJqZmZmZvZJAmpmZmZnGkkCamZmZmc+SQM3MzMzMz5JAMzMzMzPUkkAAAAAAANaSQAAAAAAA3JJAmpmZmZngkkBmZmZmZuKSQAAAAAAA5ZJAMzMzMzPpkkCamZmZme6SQGZmZmZm8JJAAAAAAADxkkBmZmZmZvOSQGZmZmZm/JJAzczMzMz9kkCamZmZmf6SQDMzMzMz/5JAZmZmZmYBk0BmZmZmZgKTQAAAAAAACZNAzczMzMwJk0CamZmZmQqTQGZmZmZmD5NAMzMzMzMWk0CamZmZmRaTQAAAAAAAGZNAmpmZmZkak0AzMzMzMyCTQJqZmZmZJpNAzczMzMwpk0CamZmZmTKTQGZmZmZmNJNAmpmZmZk7k0BmZmZmZj+TQJqZmZmZQ5NAmpmZmZlEk0AAAAAAAEWTQGZmZmZmSpNAMzMzMzNLk0AzMzMzM06TQDMzMzMzVZNAmpmZmZlWk0CamZmZmVqTQJqZmZmZYJNAMzMzMzNjk0DNzMzMzGiTQAAAAAAAaZNAzczMzMxpk0AzMzMzM3OTQDMzMzMzdJNAZmZmZmZ2k0CamZmZmXmTQAAAAAAAf5NAmpmZmZmDk0AAAAAAAIWTQGZmZmZmiJNAZmZmZmaLk0AAAAAAAJCTQGZmZmZmk5NAmpmZmZmUk0AAAAAAAJaTQJqZmZmZlpNAMzMzMzOXk0BmZmZmZpyTQJqZmZmZqJNAZmZmZmapk0BmZmZmZq2TQM3MzMzMspNAAAAAAAC0k0BmZmZmZrWTQM3MzMzMtZNAzczMzMy2k0AzMzMzM7yTQGZmZmZmv5NAmpmZmZm/k0DNzMzMzMCTQJqZmZmZxpNAZmZmZmbJk0CamZmZmcmTQAAAAAAAzJNAMzMzMzPMk0DNzMzMzMyTQM3MzMzMz5NAZmZmZmbTk0BmZmZmZtSTQGZmZmZm1pNAAAAAAADZk0AzMzMzM9qTQDMzMzMz35NAMzMzMzPgk0AzMzMzM+WTQDMzMzMz6JNAzczMzMzpk0BmZmZmZu6TQJqZmZmZ7pNAzczMzMzuk0BmZmZmZu+TQAAAAAAA9pNAAAAAAAD3k0AzMzMzM/uTQAAAAAAA/JNAAAAAAAAFlEBmZmZmZguUQM3MzMzMEJRAMzMzMzMUlEAzMzMzMxeUQAAAAAAAGJRAMzMzMzMYlEBmZmZmZh+UQAAAAAAAIJRAMzMzMzMhlEAAAAAAACOUQDMzMzMzLZRAZmZmZmYtlEDNzMzMzDCUQGZmZmZmMpRAmpmZmZkylEAzMzMzMzeUQGZmZmZmOpRAmpmZmZk9lECamZmZmUCUQDMzMzMzQ5RAZmZmZmZFlEAzMzMzM0eUQM3MzMzMSpRAZmZmZmZMlEAzMzMzM0+UQGZmZmZmVJRAmpmZmZlXlECamZmZmVqUQAAAAAAAXZRAAAAAAABelEAzMzMzM2OUQGZmZmZmY5RAzczMzMxnlEAzMzMzM2mUQDMzMzMzb5RAAAAAAAB0lECamZmZmXSUQDMzMzMzfZRAZmZmZmZ+lEAAAAAAAH+UQM3MzMzMgZRAAAAAAACFlEAAAAAAAIyUQGZmZmZmjZRAmpmZmZmTlEDNzMzMzJeUQGZmZmZmn5RAzczMzMyflEAzMzMzM6WUQDMzMzMzqpRAZmZmZmarlEDNzMzMzK6UQGZmZmZmt5RAAAAAAAC5lEBmZmZmZrmUQJqZmZmZvZRAZmZmZma/lECamZmZmcCUQGZmZmZmwZRAmpmZmZnElEAzMzMzM8yUQJqZmZmZ0ZRAzczMzMzZlEAAAAAAANqUQM3MzMzM3JRAZmZmZmbglECamZmZmeCUQGZmZmZm4ZRAmpmZmZnilEAzMzMzM+OUQJqZmZmZ45RAzczMzMzllEAAAAAAAOaUQDMzMzMz75RAZmZmZmbwlEAAAAAAAPaUQJqZmZmZ+JRAmpmZmZn9lEAAAAAAAAKVQJqZmZmZBpVAAAAAAAAHlUBmZmZmZgeVQM3MzMzMCJVAMzMzMzMJlUCamZmZmQuVQJqZmZmZDJVAAAAAAAASlUDNzMzMzBOVQJqZmZmZKZVAZmZmZmYslUDNzMzMzC2VQDMzMzMzMZVAzczMzMwylUBmZmZmZjSVQGZmZmZmOpVAzczMzMw9lUAAAAAAAD6VQAAAAAAAQZVAZmZmZmZLlUAAAAAAAE2VQM3MzMzMTZVAAAAAAABTlUAAAAAAAF+VQGZmZmZmaZVAzczMzMxxlUCamZmZmXOVQAAAAAAAdJVAMzMzMzN0lUDNzMzMzHiVQGZmZmZmeZVAmpmZmZl7lUCamZmZmX2VQGZmZmZmfpVAAAAAAACClUDNzMzMzIaVQM3MzMzMiZVAAAAAAACLlUBmZmZmZo6VQDMzMzMzj5VAmpmZmZmRlUDNzMzMzJSVQDMzMzMzl5VAmpmZmZmblUBmZmZmZp6VQGZmZmZmp5VAMzMzMzOrlUCamZmZmauVQAAAAAAArJVAZmZmZmatlUDNzMzMzK2VQAAAAAAAsJVAzczMzMyxlUAAAAAAALOVQGZmZmZmtZVAZmZmZma2lUBmZmZmZreVQGZmZmZmu5VAmpmZmZm8lUCamZmZmb6VQAAAAAAAwZVAZmZmZmbGlUAzMzMzM8qVQDMzMzMzzJVAAAAAAADQlUAAAAAAANGVQJqZmZmZ05VAMzMzMzPVlUBmZmZm5tWVQJqZmZmZ1pVAAAAAAADZlUBmZmZmZtqVQGZmZmZm3ZVAMzMzMzPhlUCamZmZmeSVQJqZmZmZ5ZVAAAAAAADplUBmZmZmZuyVQJqZmZmZ8pVAMzMzMzP1lUAAAAAAAPiVQJqZmZmZ+pVAmpmZmZn7lUAAAAAAAAmWQM3MzMzMDJZAZmZmZmYNlkCamZmZmQ6WQJqZmZmZD5ZAmpmZmZkRlkCamZmZmRKWQAAAAAAAFJZAzczMzMwYlkDNzMzMzBmWQJqZmZmZGpZAMzMzMzMblkAAAAAAAByWQGZmZmZmH5ZAzczMzMwglkAAAAAAACKWQAAAAAAAI5ZAmpmZmZknlkCamZmZmS2WQAAAAAAAN5ZAmpmZmZk3lkAzMzMzMzyWQJqZmZmZPJZAZmZmZmY9lkCamZmZmT6WQGZmZmZmP5ZAzczMzMxAlkCamZmZmUGWQGZmZmZmQpZAmpmZmZlDlkDNzMzMzEmWQDMzMzMzTpZAmpmZmZlWlkAzMzMzM1iWQM3MzMzMW5ZAmpmZmZlelkAzMzMzM2KWQDMzMzMzZ5ZAZmZmZmZolkBmZmZmZmqWQM3MzMzMc5ZAMzMzMzN4lkBmZmZmZn2WQAAAAAAAg5ZAmpmZmZmGlkAzMzMzM4eWQM3MzMzMh5ZAAAAAAACIlkDNzMzMzIiWQGZmZmZmipZAmpmZmZmKlkCamZmZmY6WQDMzMzMzkJZAzczMzMyUlkDNzMzMzJeWQDMzMzMzm5ZAmpmZmZmflkBmZmZmZqyWQGZmZmZmtJZAAAAAAAC5lkBmZmZmZsiWQGZmZmZmzZZAZmZmZmbTlkCamZmZmdSWQM3MzMzM1ZZAMzMzMzPYlkBmZmZmZtqWQM3MzMzM3ZZAzczMzMzelkBmZmZmZuiWQAAAAAAA85ZAmpmZmZnzlkAzMzMzM/iWQGZmZmZmCZdAmpmZmZkLl0AAAAAAABGXQJqZmZmZFpdAZmZmZmYbl0AzMzMzMymXQDMzMzMzRZdAmpmZmZlJl0BmZmZmZlCXQGZmZmZmVJdAzczMzMxUl0AzMzMzM1aXQAAAAAAAV5dAAAAAAABal0BmZmZmZlyXQM3MzMzMYZdAMzMzMzNkl0CamZmZmWeXQGZmZmZmaZdAMzMzMzNql0CamZmZmWqXQGZmZmZma5dAAAAAAABxl0AAAAAAAHKXQM3MzMzMc5dAAAAAAAB3l0AAAAAAAHmXQDMzMzMzhJdAmpmZmZmEl0BmZmZmZoWXQM3MzMzMhZdAmpmZmZmHl0CamZmZmYmXQAAAAAAAjJdAMzMzMzOXl0CamZmZmZeXQDMzMzMzmZdAAAAAAACal0BmZmZmZqaXQGZmZmZmq5dAZmZmZmayl0AAAAAAALaXQAAAAAAAvJdAZmZmZmbAl0DNzMzMzMSXQJqZmZmZypdAzczMzMzKl0CamZmZmc2XQGZmZmZm05dAZmZmZmbVl0DNzMzMzOWXQJqZmZmZ5pdAZmZmZmbql0AzMzMzM/eXQDMzMzMz+JdAAAAAAAADmEBmZmZmZgeYQJqZmZmZB5hAZmZmZmYKmEAAAAAAAA+YQDMzMzMzD5hAMzMzMzMQmEDNzMzMzBCYQGZmZmZmEZhAmpmZmZklmEAzMzMzMymYQGZmZmZmLZhAmpmZmZkymEAAAAAAADeYQGZmZmZmPphAzczMzMxEmECamZmZmUuYQGZmZmZmU5hAmpmZmZlamEDNzMzMzFqYQJqZmZmZXJhAAAAAAABdmEAzMzMzM12YQM3MzMzMXZhAmpmZmZlvmEDNzMzMzG+YQDMzMzMzcJhAmpmZmZlxmEAAAAAAAHuYQJqZmZmZe5hAAAAAAAB8mEAzMzMzM36YQM3MzMzMiphAMzMzMzOUmEDNzMzMzJeYQAAAAAAAmphAzczMzMyumEBmZmZmZrCYQM3MzMzMt5hAAAAAAAC+mEAzMzMzM8OYQAAAAAAA0ZhAzczMzMzSmEAAAAAAANOYQGZmZmZm5JhAAAAAAADrmEAAAAAAAO6YQGZmZmZm8phAMzMzMzP0mECamZmZmfWYQAAAAAAAAZlAzczMzMwDmUDNzMzMzASZQAAAAAAABplAmpmZmZkgmUAAAAAAACyZQJqZmZmZLJlAmpmZmZkumUDNzMzMzDCZQDMzMzMzOJlAzczMzMw4mUDNzMzMzDqZQJqZmZmZO5lAZmZmZmY8mUDNzMzMzEiZQM3MzMzMUJlAAAAAAABRmUDNzMzMzFGZQDMzMzMzU5lAZmZmZmZVmUCamZmZmVyZQJqZmZmZXZlAMzMzMzNomUCamZmZmWmZQM3MzMzMdJlAmpmZmZl5mUAAAAAAAISZQM3MzMzMk5lAMzMzMzOVmUDNzMzMzJqZQAAAAAAAoJlAMzMzMzOlmUAzMzMzM6eZQAAAAAAAq5lAAAAAAACtmUAzMzMzM66ZQM3MzMzMuZlAAAAAAAC8mUDNzMzMzMGZQM3MzMzMz5lAZmZmZmbQmUCamZmZmdGZQM3MzMzM05lAzczMzMzVmUBmZmZmZteZQM3MzMzM2ZlAZmZmZmbamUDNzMzMzNqZQAAAAAAA25lAZmZmZmbbmUBmZmZmZt2ZQJqZmZmZ5ZlAMzMzMzP4mUAAAAAAAP6ZQAAAAAAA/5lAMzMzMzMBmkDNzMzMzASaQAAAAAAADZpAmpmZmZkVmkBmZmZmZh6aQGZmZmZmIJpAmpmZmZkgmkBmZmZmZiGaQJqZmZmZJZpAMzMzMzMnmkBmZmZmZjeaQDMzMzMzOJpAAAAAAAA9mkCamZmZmT2aQJqZmZmZPppAAAAAAABBmkBmZmZmZkaaQDMzMzMzSJpAmpmZmZlJmkBmZmZmZk6aQM3MzMzMTppAmpmZmZlXmkCamZmZmViaQGZmZmZmW5pAmpmZmZljmkDNzMzMzGWaQJqZmZmZb5pAzczMzMyAmkDNzMzMzIaaQDMzMzMzippAmpmZmZmMmkCamZmZmZOaQJqZmZmZlppAmpmZmZmbmkDNzMzMzKmaQGZmZmZmtJpAmpmZmZm0mkCamZmZmbiaQJqZmZmZu5pAmpmZmZnDmkBmZmZmZsSaQDMzMzMzyppAzczMzMzLmkBmZmZmZsyaQJqZmZmZzJpAzczMzMzYmkBmZmZmZtmaQM3MzMzM25pAmpmZmZncmkDNzMzMzO+aQJqZmZmZ8JpAAAAAAAD0mkCamZmZmfWaQM3MzMzM95pAzczMzMwAm0BmZmZmZgWbQJqZmZmZCptAZmZmZmYSm0DNzMzMzBObQJqZmZmZFJtAzczMzMwYm0AAAAAAABqbQJqZmZmZGptAzczMzMwlm0CamZmZmSubQGZmZmZmLptAMzMzMzMzm0DNzMzMzDmbQAAAAAAAOptAMzMzMzM8m0CamZmZmT+bQM3MzMzMRJtAAAAAAABGm0DNzMzMzEybQDMzMzMzUptAmpmZmZlTm0DNzMzMzFqbQGZmZmZmW5tAzczMzMxhm0CamZmZmWKbQAAAAAAAZJtAZmZmZmZtm0DNzMzMzHCbQGZmZmZmcptAmpmZmZl7m0CamZmZmX2bQDMzMzMzfptAAAAAAACBm0AzMzMzM46bQAAAAAAAk5tAzczMzMyXm0AAAAAAAJubQGZmZmZmpptAAAAAAADAm0DNzMzMzMGbQGZmZmZmxptAAAAAAADKm0DNzMzMzMqbQGZmZmZm1ZtAAAAAAADYm0AzMzMzM9ibQJqZmZmZ2ZtAZmZmZmbem0AAAAAAAN+bQAAAAAAA4ptAmpmZmZnjm0CamZmZmeabQGZmZmZm7ZtAmpmZmZn2m0CamZmZmfebQJqZmZmZ+JtAZmZmZmb5m0BmZmZmZvqbQJqZmZmZ+ptAMzMzMzP7m0AAAAAAAAWcQJqZmZmZCpxAMzMzMzMLnEAzMzMzMxKcQGZmZmZmFJxAAAAAAAAXnECamZmZmRqcQJqZmZmZG5xAMzMzMzMdnEAzMzMzMyCcQGZmZmZmJJxAmpmZmZknnECamZmZmSicQDMzMzMzKpxAzczMzMwunEBmZmZmZjmcQGZmZmZmRZxAMzMzMzNKnEBmZmZmZkucQGZmZmZmVJxAZmZmZmZVnEAAAAAAAFycQDMzMzMzXZxAmpmZmZlenEDNzMzMzGCcQAAAAAAAY5xAMzMzMzNpnECamZmZmWucQJqZmZmZc5xAzczMzMx0nEAzMzMzM3ecQM3MzMzMd5xAAAAAAACGnEDNzMzMzIqcQDMzMzMzmJxAZmZmZmaYnECamZmZmaGcQJqZmZmZqJxAMzMzMzOtnECamZmZmbOcQM3MzMzMtpxAmpmZmZm3nECamZmZmbicQAAAAAAAw5xAzczMzMzEnECamZmZmcecQM3MzMzMypxAMzMzMzPMnECamZmZmdqcQDMzMzMz3pxAMzMzMzPjnEDNzMzMzOScQM3MzMzM55xAmpmZmZnqnEDNzMzMzO2cQJqZmZmZAZ1AAAAAAAAFnUAzMzMzMwWdQAAAAAAAB51AZmZmZmYHnUBmZmZmZgydQM3MzMzMDJ1AAAAAAAAOnUBmZmZmZhSdQJqZmZmZG51AzczMzMwgnUCamZmZmSKdQM3MzMzMKZ1AZmZmZmYunUDNzMzMzC6dQJqZmZmZMZ1AmpmZmZk8nUBmZmZmZj+dQM3MzMzMQJ1AzczMzMxGnUAzMzMzM0mdQM3MzMzMSZ1AAAAAAABNnUAAAAAAAF2dQDMzMzMzap1AMzMzMzNrnUCamZmZmXKdQJqZmZmZdJ1AAAAAAAB5nUCamZmZmXmdQAAAAAAAfJ1AAAAAAACBnUDNzMzMzIGdQAAAAAAAhp1AAAAAAACWnUBmZmZmZqidQAAAAAAAtJ1AMzMzMzO0nUAAAAAAALWdQJqZmZmZtp1AAAAAAAC4nUCamZmZmcWdQM3MzMzMxp1AZmZmZmbRnUAAAAAAANudQAAAAAAA3p1AmpmZmZngnUBmZmZmZuOdQAAAAAAA6p1AAAAAAADwnUDNzMzMzPCdQAAAAAAADp5AZmZmZmYPnkBmZmZmZhCeQDMzMzMzHZ5AzczMzMwinkAAAAAAACSeQM3MzMzMJ55AmpmZmZkrnkAzMzMzMy2eQAAAAAAAM55AZmZmZmZDnkCamZmZmUWeQDMzMzMzSJ5AmpmZmZlLnkBmZmZmZk2eQDMzMzMzU55AZmZmZmZTnkAAAAAAAFaeQJqZmZmZX55AZmZmZmZxnkCamZmZmXWeQAAAAAAAgZ5AMzMzMzODnkCamZmZmY2eQJqZmZmZkZ5AZmZmZmaUnkDNzMzMzJmeQM3MzMzMm55AAAAAAACenkBmZmZmZqaeQGZmZmZmsp5AZmZmZmbAnkCamZmZmcyeQAAAAAAAzp5AZmZmZmbRnkBmZmZmZt+eQJqZmZmZ6p5AMzMzMzPxnkBmZmZmZvieQGZmZmZm+p5AmpmZmZn8nkCamZmZmQSfQDMzMzMzEJ9AAAAAAAAan0DNzMzMzCCfQDMzMzMzIp9AZmZmZmYjn0DNzMzMzCOfQM3MzMzMJJ9AAAAAAAAln0DNzMzMzECfQAAAAAAARJ9AZmZmZmZOn0BmZmZmZlifQM3MzMzMW59AAAAAAABdn0BmZmZmZl+fQM3MzMzMa59AMzMzMzN/n0AzMzMzM4GfQM3MzMzMgZ9AZmZmZmaIn0CamZmZmYmfQDMzMzMzj59AmpmZmZmTn0DNzMzMzJSfQGZmZmZmlZ9AMzMzMzOen0BmZmZmZqCfQGZmZmZmpJ9AMzMzMzOzn0AzMzMzM7SfQAAAAAAAu59AzczMzMy/n0AzMzMzM8GfQDMzMzMzxJ9AZmZmZmbHn0AAAAAAAMmfQDMzMzMz0p9AzczMzMzan0AzMzMzM+ifQAAAAAAA859AzczMzMzzn0AzMzMzM/afQJqZmZmZAaBAmpmZmRkCoECamZmZGQqgQM3MzMzMDKBAAAAAAAAVoEDNzMzMTBygQM3MzMxMIqBAzczMzMwioEAAAAAAACSgQAAAAAAAJqBAmpmZmRksoEAAAAAAgC2gQAAAAACAMaBAMzMzMzM2oECamZmZGTigQGZmZmbmO6BAmpmZmRk9oEBmZmZm5j2gQDMzMzMzQKBAMzMzMzNGoEBmZmZm5kqgQJqZmZkZUKBAZmZmZuZQoEAAAAAAgFSgQM3MzMzMWaBAzczMzMxaoEDNzMzMzFugQM3MzMxMXaBAzczMzMxdoEAzMzMzM2CgQJqZmZkZcaBAmpmZmRl0oECamZmZmXSgQM3MzMxMdqBAMzMzM7N4oECamZmZmX6gQGZmZmZmiqBAAAAAAICKoEBmZmZm5qSgQJqZmZkZpaBAmpmZmZmsoEDNzMzMzLGgQDMzMzMztqBAmpmZmZm9oEAAAAAAAMWgQJqZmZkZyqBAMzMzMzPPoEAAAAAAgNigQJqZmZmZ2qBAAAAAAADboEAzMzMzM+WgQM3MzMxM8KBAzczMzMzxoEDNzMzMzPKgQJqZmZkZ+KBAmpmZmRkJoUCamZmZGQuhQAAAAACAC6FAMzMzMzMRoUAzMzMzsxGhQM3MzMxMFqFAZmZmZuYYoUAAAAAAABmhQM3MzMxMHqFAZmZmZmYfoUDNzMzMzCGhQAAAAAAAIqFAZmZmZmYioUDNzMzMTCOhQJqZmZmZKKFAZmZmZuYooUCamZmZmSyhQM3MzMzMLaFAmpmZmRkuoUBmZmZmZjGhQAAAAACAM6FAMzMzMzM2oUBmZmZmZjehQDMzMzOzOKFAmpmZmRlAoUAAAAAAgEGhQM3MzMxMQqFAAAAAAIBDoUBmZmZmZkShQJqZmZmZR6FAmpmZmRlJoUAAAAAAAE6hQAAAAACATqFAzczMzMxOoUBmZmZm5k6hQDMzMzMzWKFAmpmZmRlboUAAAAAAAGGhQJqZmZmZZ6FAMzMzM7NtoUCamZmZGXWhQGZmZmbmdaFAZmZmZmZ4oUCamZmZGXuhQM3MzMzMfqFAzczMzMyHoUBmZmZm5omhQM3MzMzMiqFAmpmZmRmQoUAzMzMzM5KhQAAAAACApKFAMzMzM7OmoUDNzMzMzK6hQGZmZmbmrqFAAAAAAACxoUAAAAAAALKhQDMzMzOzv6FAmpmZmZnBoUAzMzMzM8ShQDMzMzMzxqFAMzMzMzPIoUAAAAAAgM2hQDMzMzMz06FAZmZmZubVoUDNzMzMTNahQJqZmZmZ1qFAZmZmZmbhoUDNzMzMzOOhQAAAAACA6aFAAAAAAIDwoUCamZmZGfWhQM3MzMzM9aFAzczMzEz6oUAzMzMzs/yhQDMzMzMzCaJAmpmZmRkLokBmZmZmZgyiQJqZmZkZEaJAmpmZmZkTokAzMzMzsxmiQDMzMzMzGqJAmpmZmZkhokAzMzMzsyWiQGZmZmZmKaJAmpmZmRksokCamZmZGTqiQDMzMzOzO6JAZmZmZuZCokAzMzMzs0SiQJqZmZmZRqJAAAAAAABLokCamZmZGUuiQDMzMzOzT6JAAAAAAABRokCamZmZGVOiQDMzMzOzV6JAZmZmZuZYokCamZmZmVuiQGZmZmbmXqJAAAAAAIBpokAAAAAAgGuiQAAAAAAAeKJAmpmZmZmCokBmZmZmZoOiQGZmZmZmjqJAMzMzMzOWokAzMzMzM5+iQDMzMzOzpaJAZmZmZuasokDNzMzMTK6iQJqZmZkZtqJAZmZmZma3okDNzMzMzLyiQJqZmZkZwqJAMzMzMzPIokDNzMzMTMiiQDMzMzOzyaJAMzMzMzPMokDNzMzMzNOiQJqZmZkZ2qJAmpmZmRndokBmZmZm5t+iQAAAAAAA5qJAmpmZmRnnokAzMzMzM+uiQAAAAACA66JAzczMzMzuokCamZmZGfCiQGZmZmbm8KJAAAAAAADxokDNzMzMzPKiQDMzMzMz9qJAMzMzM7P2okAzMzMzM/qiQGZmZmbm/6JAAAAAAAADo0BmZmZm5gSjQDMzMzMzDaNAAAAAAIAQo0BmZmZmZhOjQJqZmZmZFqNAAAAAAIAYo0BmZmZm5h6jQAAAAAAAIaNAmpmZmZkqo0CamZmZGS6jQJqZmZmZN6NAMzMzM7M4o0CamZmZGTmjQJqZmZkZPaNAMzMzMzM9o0AAAAAAgE6jQDMzMzMzT6NAZmZmZuZTo0AzMzMzs1ajQJqZmZkZXqNAAAAAAIBeo0DNzMzMTGejQAAAAAAAaKNAzczMzEx0o0AAAAAAgHijQM3MzMxMfaNAzczMzEx+o0BmZmZmZn6jQGZmZmZmgqNAAAAAAICao0BmZmZm5pujQGZmZmZmnaNAmpmZmZmeo0CamZmZGZ+jQGZmZmbmn6NAAAAAAACjo0BmZmZmZqijQM3MzMzMtKNAzczMzMzGo0CamZmZmcejQJqZmZkZz6NAmpmZmRnRo0AAAAAAANKjQJqZmZkZ1KNAZmZmZmbUo0AzMzMzM9ijQGZmZmZm46NAAAAAAIDjo0AzMzMzs+WjQJqZmZkZ6aNAzczMzEzpo0AzMzMzM+qjQM3MzMzM8aNAMzMzM7Pyo0BmZmZmZvOjQAAAAAAA9KNAmpmZmRn2o0AzMzMzMwCkQGZmZmbmCaRAmpmZmZkMpEDNzMzMTBCkQAAAAAAAFKRAZmZmZmYUpEBmZmZm5h6kQJqZmZmZIaRAAAAAAIAvpEAAAAAAADSkQGZmZmbmOaRAAAAAAIBGpEAzMzMzs0ekQGZmZmbmT6RAMzMzMzNWpECamZmZmVakQGZmZmbmV6RAMzMzM7NcpEAzMzMzM1+kQM3MzMxMZaRAzczMzMxqpEAzMzMzM2ykQJqZmZmZdKRAzczMzEx2pEAAAAAAgHakQAAAAACAe6RAzczMzEx/pEAAAAAAgIKkQM3MzMxMhKRAZmZmZmaGpEAzMzMzs4akQJqZmZmZkqRAzczMzMySpEBmZmZm5pOkQAAAAAAAlqRAMzMzMzOcpECamZmZGaGkQDMzMzMzrqRAZmZmZmaupEAzMzMzM7akQGZmZmZmtqRAmpmZmRm8pECamZmZmcCkQGZmZmZmwaRAmpmZmRnDpEDNzMzMzMSkQJqZmZmZxaRAZmZmZubGpEAzMzMzM8qkQJqZmZmZ0KRAAAAAAADSpEAAAAAAgNWkQGZmZmbm2qRAZmZmZubipEDNzMzMTOSkQGZmZmZm76RAzczMzEzwpEDNzMzMTPKkQGZmZmZm9qRAMzMzM7P4pEAzMzMzs/mkQJqZmZkZ/KRAZmZmZuYApUAzMzMzswGlQDMzMzOzAqVAAAAAAIAJpUCamZmZGRGlQGZmZmZmKKVAmpmZmZk2pUBmZmZmZj6lQGZmZmZmRKVAzczMzExGpUDNzMzMzEalQAAAAACAR6VAAAAAAIBIpUCamZmZmU6lQJqZmZmZT6VAMzMzM7NVpUAAAAAAAFalQJqZmZkZYqVAZmZmZuZupUBmZmZmZnalQGZmZmZmeaVAAAAAAAB+pUCamZmZmYOlQAAAAAAAhKVAAAAAAICVpUAAAAAAAJalQDMzMzOzlqVAzczMzMycpUAzMzMzs6ClQM3MzMxMoaVAzczMzMyrpUCamZmZGa2lQAAAAAAAt6VAMzMzMzO5pUDNzMzMzLylQGZmZmZmy6VAzczMzEzNpUCamZmZGdOlQDMzMzOz2KVAZmZmZubYpUAAAAAAAN6lQAAAAACA36VAmpmZmZnkpUAzMzMzM+6lQM3MzMxM76VAmpmZmRnypUCamZmZGfqlQAAAAACA/qVAzczMzEwJpkAAAAAAAA6mQGZmZmbmHKZAAAAAAIAhpkAAAAAAACemQM3MzMzMJ6ZAmpmZmRktpkBmZmZm5i6mQGZmZmbmL6ZAzczMzEw6pkBmZmZmZj6mQGZmZmbmQKZAzczMzMxIpkBmZmZm5k2mQDMzMzMzU6ZAZmZmZuZapkCamZmZGV2mQAAAAAAAb6ZAZmZmZuZ0pkCamZmZGXqmQGZmZmbme6ZAmpmZmRl9pkAAAAAAgH2mQGZmZmZmfqZAzczMzMx/pkAAAAAAgISmQM3MzMzMiaZAZmZmZmaRpkDNzMzMzJqmQJqZmZkZnaZAmpmZmRmhpkAzMzMzM6GmQGZmZmbmo6ZAZmZmZualpkCamZmZmaumQDMzMzOztqZAmpmZmRm3pkBmZmZmZrimQGZmZmbmu6ZAAAAAAAC/pkCamZmZmb+mQM3MzMxMy6ZAMzMzM7PPpkAAAAAAgNOmQJqZmZkZ2KZAAAAAAADhpkAAAAAAgOOmQGZmZmbm66ZAAAAAAIDwpkDNzMzMTPOmQJqZmZmZ96ZAMzMzMzMJp0BmZmZm5h2nQJqZmZmZH6dAMzMzMzMgp0DNzMzMzCKnQAAAAAAAJKdAAAAAAAAop0CamZmZGSinQJqZmZmZKadAAAAAAIArp0BmZmZm5i2nQJqZmZmZNKdAmpmZmZk1p0BmZmZmZjenQAAAAAAAPadAZmZmZuZBp0BmZmZmZkanQJqZmZmZRqdAzczMzExPp0AAAAAAgFKnQDMzMzMzW6dAZmZmZuZqp0AAAAAAAGynQAAAAACAcKdAmpmZmRl3p0CamZmZmXunQAAAAACAfqdAzczMzEyAp0CamZmZGYGnQAAAAAAAg6dAzczMzEyHp0AAAAAAgI+nQDMzMzMzlqdAZmZmZmaXp0CamZmZmZqnQGZmZmbmmqdAmpmZmRmfp0DNzMzMTJ+nQDMzMzOzn6dAzczMzEygp0AAAAAAgKanQM3MzMxMp6dAMzMzM7O2p0CamZmZmbenQJqZmZkZvadAAAAAAIDEp0AzMzMzM8enQGZmZmZmx6dAAAAAAIDLp0DNzMzMTM6nQAAAAAAA2qdAAAAAAADfp0DNzMzMTOSnQJqZmZmZ5KdAZmZmZubsp0AzMzMzM/mnQGZmZmbm+qdAAAAAAAAKqEAzMzMzMxSoQM3MzMzMGahAMzMzM7MaqEAAAAAAgCCoQAAAAACAIahAMzMzMzMiqEAzMzMzMyOoQJqZmZkZJKhAzczMzEwlqEAAAAAAgCeoQAAAAAAAKKhAmpmZmRksqEDNzMzMTC2oQM3MzMzMMahAAAAAAAAyqEBmZmZmZjKoQAAAAACAPqhAmpmZmZlGqEDNzMzMzEuoQJqZmZkZUKhAzczMzExYqEDNzMzMzF+oQDMzMzMzYqhAzczMzMxiqEBmZmZm5mKoQM3MzMzMZKhAZmZmZuZsqEAzMzMzs22oQJqZmZmZcahAmpmZmRl3qECamZmZmXeoQAAAAACAeahAZmZmZmZ9qECamZmZmYeoQGZmZmZmi6hAzczMzEyPqEDNzMzMTJKoQM3MzMzMk6hAzczMzEyWqEAAAAAAAKqoQGZmZmZmsqhAzczMzMyyqEAzMzMzM7OoQM3MzMxMtahAMzMzMzO7qEDNzMzMzL2oQAAAAAAAwKhAAAAAAIDBqECamZmZGcOoQDMzMzMzx6hAMzMzM7PKqEAzMzMzs8+oQAAAAACA0qhAAAAAAADZqECamZmZmduoQM3MzMxM56hAAAAAAIDsqEDNzMzMTO2oQAAAAAAA+KhAAAAAAAD+qEDNzMzMzAipQDMzMzMzC6lAzczMzEwRqUAzMzMzsxSpQGZmZmZmFqlAzczMzMwXqUAAAAAAgBupQM3MzMxMI6lAAAAAAIAnqUAAAAAAgCqpQJqZmZkZPqlAMzMzM7NIqUCamZmZGUqpQM3MzMzMTKlAAAAAAABVqUDNzMzMzFipQGZmZmbmXKlAmpmZmRlfqUDNzMzMzGKpQGZmZmbmZKlAmpmZmZlmqUAzMzMzs2epQAAAAAAAaKlAMzMzM7NsqUAzMzMzs26pQDMzMzMzeKlAMzMzMzN/qUDNzMzMzH+pQGZmZmbmg6lAmpmZmRmIqUAAAAAAgIypQJqZmZmZk6lAZmZmZuaTqUAzMzMzs5SpQM3MzMxMlqlAzczMzEyjqUAAAAAAgKWpQJqZmZkZpqlAmpmZmZm4qUAAAAAAAMKpQJqZmZkZyqlAMzMzM7PVqUDNzMzMzOKpQM3MzMxM5KlAMzMzMzPoqUAzMzMzM/GpQAAAAACA8alAMzMzM7PyqUCamZmZGf6pQDMzMzMzBKpAzczMzMwNqkBmZmZm5g2qQJqZmZkZFqpAmpmZmRkZqkAAAAAAAByqQGZmZmbmHKpAzczMzEweqkAzMzMzMyCqQJqZmZmZJapAMzMzMzMoqkAzMzMzMyqqQM3MzMzMMqpAzczMzEw3qkDNzMzMzDuqQM3MzMxMPapAmpmZmZlHqkCamZmZGUmqQM3MzMzMSqpAmpmZmRlMqkCamZmZGVKqQAAAAACAUqpAZmZmZmZUqkAAAAAAAFaqQAAAAACAV6pAzczMzMxaqkDNzMzMzF+qQJqZmZmZY6pAAAAAAIBmqkCamZmZmWyqQAAAAACAeqpAzczMzMyNqkAzMzMzs4+qQM3MzMzMlqpAMzMzMzOiqkAAAAAAAKSqQDMzMzMzpapAAAAAAICqqkDNzMzMTK2qQAAAAACArqpAMzMzM7OxqkBmZmZmZrSqQJqZmZmZtqpAAAAAAAC3qkAAAAAAALmqQAAAAAAAv6pAMzMzM7PCqkAAAAAAgM+qQDMzMzMz16pAZmZmZubaqkAAAAAAANuqQAAAAAAA3qpAAAAAAIDgqkDNzMzMTOSqQJqZmZmZ5apAzczMzEz0qkCamZmZGfmqQDMzMzMz/apAZmZmZuYCq0CamZmZmQirQGZmZmbmCatAMzMzMzMMq0CamZmZGRKrQGZmZmZmE6tAmpmZmZkdq0AzMzMzMx6rQJqZmZkZIKtAZmZmZmYkq0DNzMzMTCyrQAAAAACALatAmpmZmRkuq0AzMzMzszCrQDMzMzOzNatAZmZmZuY2q0DNzMzMTD2rQGZmZmbmP6tAzczMzExAq0CamZmZGUerQJqZmZmZUKtAAAAAAABfq0AzMzMzM2KrQM3MzMzMaqtAmpmZmZlsq0DNzMzMTHCrQAAAAAAAcatAzczMzMxxq0DNzMzMzHurQGZmZmZmg6tAzczMzEyFq0AAAAAAAI6rQJqZmZmZjqtAZmZmZuaTq0AAAAAAAJirQAAAAACAmKtAMzMzM7OZq0AzMzMzM5urQAAAAACApqtAzczMzEypq0AzMzMzM6qrQM3MzMzMqqtAmpmZmRmyq0AzMzMzM7KrQJqZmZmZuKtAzczMzEy/q0AzMzMzM8WrQGZmZmZmy6tAzczMzEzSq0AAAAAAANWrQM3MzMxM26tAMzMzMzPdq0BmZmZmZt2rQDMzMzMz56tAAAAAAADtq0DNzMzMTParQGZmZmbm+atAzczMzMz6q0AzMzMzM/urQM3MzMzM/KtAZmZmZmYMrEAAAAAAgA6sQJqZmZmZE6xAAAAAAAAbrEDNzMzMTCGsQGZmZmbmJqxAMzMzMzMrrEAAAAAAADCsQAAAAACAQKxAMzMzMzNCrEBmZmZmZkWsQGZmZmbmT6xAMzMzM7NQrEBmZmZmZlKsQDMzMzOzVKxAmpmZmZlWrEBmZmZmZlqsQAAAAAAAYKxAmpmZmZllrEDNzMzMTGasQAAAAACAbKxAAAAAAABzrECamZmZGXqsQAAAAAAAe6xAMzMzMzN7rEAAAAAAgHusQJqZmZmZfaxAMzMzMzODrEAzMzMzs4SsQAAAAAAAiqxAAAAAAICQrEAAAAAAgJysQJqZmZkZo6xAAAAAAACtrEDNzMzMTLKsQDMzMzMzs6xAZmZmZua1rEBmZmZm5sSsQGZmZmbmyaxAmpmZmRnMrEAAAAAAgM+sQDMzMzOzz6xAMzMzMzPRrEBmZmZmZtasQGZmZmbm3KxAZmZmZmbdrEDNzMzMTPCsQDMzMzMz96xAzczMzMz4rEBmZmZm5gOtQDMzMzOzEK1AzczMzMwTrUDNzMzMTBetQAAAAAAAG61AzczMzEwcrUAzMzMzMyOtQAAAAACAI61AZmZmZuYurUCamZmZmTetQDMzMzOzO61AzczMzExOrUBmZmZmZlKtQM3MzMzMWK1AZmZmZuZYrUCamZmZGWqtQGZmZmZmbK1AzczMzMxurUBmZmZmZnOtQAAAAAAAdK1AAAAAAAB3rUAAAAAAAHmtQM3MzMxMea1AMzMzM7N/rUAAAAAAAIStQDMzMzMzhK1AZmZmZmaErUAzMzMzs4WtQM3MzMzMjK1AAAAAAACQrUBmZmZmZpqtQDMzMzMzn61AAAAAAAClrUBmZmZm5qatQJqZmZmZsq1AZmZmZmazrUDNzMzMzLitQAAAAAAAwK1AZmZmZmbArUCamZmZGcWtQJqZmZmZxa1AzczMzMzOrUBmZmZm5tytQGZmZmZm4K1AzczMzMznrUAAAAAAgOutQGZmZmbm861AzczMzMz0rUCamZmZGfetQJqZmZmZ+K1AZmZmZmb8rUAAAAAAgP2tQDMzMzMzBa5AZmZmZuYKrkAzMzMzswyuQAAAAACADa5AMzMzMzMPrkAAAAAAABCuQJqZmZmZEa5AZmZmZuYWrkAzMzMzMyKuQJqZmZkZJK5AZmZmZuYqrkBmZmZm5jKuQDMzMzMzM65AAAAAAAA8rkCamZmZmTyuQDMzMzOzP65AMzMzMzNErkDNzMzMzEauQGZmZmZmSK5AzczMzExLrkBmZmZm5kuuQJqZmZkZUK5AmpmZmZlUrkCamZmZmVauQJqZmZkZXK5AZmZmZuZcrkAzMzMzs12uQAAAAACAXq5AMzMzM7NfrkDNzMzMTGGuQDMzMzMza65AzczMzMxsrkAzMzMzs26uQJqZmZkZdq5AAAAAAIB6rkBmZmZm5nyuQDMzMzMzfa5AZmZmZmaFrkCamZmZGZSuQM3MzMzMlq5AzczMzEyerkAzMzMzM6KuQJqZmZmZoq5AmpmZmZmnrkCamZmZmbCuQJqZmZkZta5AMzMzMzO1rkBmZmZm5syuQAAAAAAA0a5AzczMzMzVrkBmZmZm5tiuQM3MzMxM2q5AMzMzM7PdrkBmZmZm5uCuQM3MzMxM4a5AzczMzEzirkBmZmZmZuOuQDMzMzMz5K5AZmZmZmbprkBmZmZmZuyuQAAAAACA7K5AMzMzM7PtrkDNzMzMTO6uQJqZmZkZ+q5AmpmZmZn8rkDNzMzMzASvQAAAAACACK9AZmZmZmYKr0DNzMzMTAyvQGZmZmZmDa9AZmZmZmYPr0DNzMzMzA+vQDMzMzMzH69AMzMzM7Mir0AAAAAAACmvQDMzMzMzLa9AAAAAAIAtr0CamZmZGTSvQJqZmZmZOa9AAAAAAABGr0AzMzMzs0evQGZmZmZmUq9AmpmZmZlbr0AAAAAAAFyvQGZmZmZmXK9AMzMzMzNdr0BmZmZmZmCvQJqZmZmZYK9AAAAAAIBhr0BmZmZm5mKvQJqZmZkZZK9AMzMzM7Nkr0CamZmZGWWvQGZmZmZmcK9AAAAAAABzr0AzMzMzM3OvQAAAAAAAiK9AAAAAAACOr0CamZmZmY6vQAAAAAAAj69AZmZmZmaQr0DNzMzMTJGvQGZmZmZmlK9AZmZmZuahr0DNzMzMzKivQGZmZmZmrK9AAAAAAACvr0AzMzMzs7evQJqZmZkZua9AzczMzMy5r0AAAAAAAL6vQAAAAAAAyK9AzczMzMzLr0BmZmZm5s2vQJqZmZkZ369AMzMzM7Por0AAAAAAgOuvQGZmZmbm8q9AZmZmZuYAsEDNzMzMDAGwQGZmZmbmB7BAAAAAAEALsEDNzMzMTAuwQGZmZmYmDLBAAAAAAAANsECamZmZWQ+wQGZmZmYmEbBAMzMzM7MRsEDNzMzMzBSwQGZmZmbmFLBAZmZmZmYXsEBmZmZmphqwQGZmZmbmGrBAZmZmZqYcsEAzMzMzMx6wQJqZmZlZHrBAMzMzMzMjsEAzMzMz8yWwQDMzMzOzJrBAAAAAAAAnsEBmZmZmZiiwQDMzMzMzKbBAMzMzM7MqsEBmZmZm5iqwQJqZmZkZLLBAzczMzMwwsEBmZmZm5jCwQAAAAABAMbBAZmZmZuYxsEAzMzMzczWwQM3MzMyMOrBAMzMzM/M7sEDNzMzMzDywQAAAAABAPrBAMzMzM3M/sEDNzMzMDEKwQGZmZmZmRLBAmpmZmVlGsECamZmZWU6wQDMzMzOzULBAZmZmZqZSsECamZmZGVOwQDMzMzMzU7BAZmZmZmZcsEAzMzMzs12wQDMzMzNzX7BAZmZmZiZgsEBmZmZmZmGwQJqZmZnZYrBAAAAAAEBosEAzMzMz83GwQGZmZmbmdbBAAAAAAEB2sEDNzMzMzHmwQJqZmZlZfLBAMzMzM/N+sEAzMzMzs4CwQDMzMzOzgrBAzczMzIyEsEAAAAAAQIawQDMzMzPzibBAZmZmZiaKsECamZmZmYywQAAAAACAjbBAMzMzM3OOsEDNzMzMjJWwQJqZmZkZmrBAmpmZmRmesEAzMzMzM6WwQGZmZmZmp7BAMzMzM3OnsEAAAAAAAKiwQAAAAABAqLBAmpmZmZmosEAAAAAAAKmwQGZmZmZmqrBAZmZmZiarsEAAAAAAwLOwQGZmZmZmurBAMzMzMzO8sEBmZmZmprywQM3MzMzMvbBAMzMzMzO/sECamZmZWcewQJqZmZmZybBAMzMzM/PJsEAzMzMzc8qwQDMzMzMzy7BAAAAAAMDLsEAzMzMz88uwQDMzMzNzzLBAzczMzMzMsEBmZmZmps+wQAAAAAAA0LBAAAAAAIDQsECamZmZGdOwQAAAAABA1LBAzczMzIzVsECamZmZWdawQAAAAACA2LBAmpmZmVndsECamZmZWd6wQJqZmZnZ4rBAmpmZmVnjsEAAAAAAQOawQM3MzMzM5rBAAAAAAIDnsEBmZmZmZuuwQDMzMzMz77BAAAAAAAD5sECamZmZGfywQDMzMzNzArFAzczMzIwJsUDNzMzMDAqxQJqZmZnZELFAMzMzM/MQsUAAAAAAQBKxQAAAAADAErFAzczMzIwWsUDNzMzMzBexQJqZmZlZGrFAzczMzMwasUBmZmZm5hqxQM3MzMwMIbFAMzMzMzMisUAAAAAAQCaxQAAAAABAJ7FAMzMzM3MnsUAAAAAAgCixQDMzMzNzOLFAAAAAAMA/sUAzMzMz80WxQDMzMzPzRrFAMzMzM3NMsUCamZmZmUyxQM3MzMxMUbFAMzMzMzNWsUAAAAAAwFqxQM3MzMxMXbFAzczMzIxfsUAAAAAAwF+xQM3MzMzMYLFAAAAAAMBhsUCamZmZ2WOxQM3MzMxMZbFAAAAAAEBmsUCamZmZWWixQGZmZmamaLFAZmZmZiZrsUDNzMzMzGuxQJqZmZnZbbFAzczMzMxwsUCamZmZGXWxQAAAAAAAebFAMzMzM3N5sUBmZmZm5nuxQJqZmZnZfrFAMzMzMzN/sUAzMzMzs4CxQDMzMzPzg7FAzczMzAyEsUDNzMzMTIexQGZmZmbmjLFAZmZmZqaOsUBmZmZmpo+xQGZmZmbmmLFAZmZmZiabsUBmZmZmppyxQAAAAACAnbFAzczMzMyesUBmZmZmpqGxQAAAAACAp7FAZmZmZiaosUAAAAAAQKuxQM3MzMwMrLFAzczMzMytsUCamZmZ2a6xQAAAAAAAsLFAzczMzEy0sUAzMzMzc7axQJqZmZnZt7FAmpmZmVm7sUCamZmZmbuxQGZmZmbmvbFAmpmZmVm+sUBmZmZmJr+xQDMzMzPzv7FAAAAAAADCsUDNzMzMDMWxQDMzMzNzxbFAAAAAAIDHsUCamZmZ2cqxQDMzMzMzy7FAAAAAAIDNsUAAAAAAANOxQGZmZmbm1LFAAAAAAIDWsUCamZmZWd+xQM3MzMxM4LFAAAAAAMDhsUBmZmZm5uGxQGZmZmYm6rFAmpmZmdntsUCamZmZWe6xQGZmZmam8rFAZmZmZib3sUAzMzMz8/ixQDMzMzPzBbJAzczMzIwGskAAAAAAQAeyQGZmZmbmB7JAzczMzAwIskCamZmZGQiyQM3MzMyMC7JAZmZmZmYMskBmZmZmphOyQM3MzMzME7JAMzMzMzMWskAzMzMzsxeyQJqZmZlZGrJAMzMzM3MfskCamZmZGSGyQGZmZmZmLLJAAAAAAEAtskAzMzMz8zGyQGZmZmZmN7JAZmZmZiY4skAzMzMzMziyQAAAAACAOLJAAAAAAAA7skAzMzMzMz2yQGZmZmamP7JAMzMzM7M/skBmZmZmZkKyQM3MzMyMQrJAMzMzM7NEskCamZmZGUWyQAAAAADASbJAzczMzExMskDNzMzMjE2yQGZmZmamULJAZmZmZiZRskBmZmZmplKyQM3MzMyMVLJAMzMzM/NUskAzMzMzM1WyQM3MzMwMWrJAmpmZmRljskCamZmZ2WOyQGZmZmZmabJAAAAAAMBvskAAAAAAAHCyQM3MzMxMebJAAAAAAMB5skCamZmZmXqyQGZmZmbmerJAmpmZmVl8skCamZmZGX2yQDMzMzMzf7JAmpmZmVl/skDNzMzMTIKyQJqZmZnZgrJAMzMzM3OFskCamZmZWYiyQM3MzMwMirJAMzMzMzOLskAAAAAAgIuyQGZmZmami7JAmpmZmdmLskAzMzMzs4yyQJqZmZnZkbJAzczMzEySskDNzMzMzJayQM3MzMyMl7JAzczMzEyYskAAAAAAAJyyQAAAAAAAnbJAMzMzM3OrskAzMzMzc7CyQJqZmZkZsrJAZmZmZiayskDNzMzMzLmyQGZmZmZmvrJAmpmZmRnBskBmZmZmpsSyQAAAAADAxLJAzczMzEzFskBmZmZmpsWyQJqZmZlZx7JAMzMzM3PHskAzMzMzs8iyQJqZmZmZy7JAzczMzMzSskAAAAAAwNOyQM3MzMyM1LJAMzMzM3PYskDNzMzMDNyyQAAAAAAA4rJAZmZmZibnskBmZmZmZu2yQM3MzMwM77JAmpmZmVnvskCamZmZGfGyQM3MzMxM9rJAmpmZmVn3skAzMzMzs/qyQJqZmZkZ+7JAAAAAAED7skAzMzMz8/uyQJqZmZlZ/LJAmpmZmdn8skAzMzMzc/2yQAAAAACA/rJAmpmZmdn/skBmZmZmZgSzQJqZmZlZBbNAAAAAAIAFs0AzMzMzcwezQDMzMzMzCLNAmpmZmVkIs0DNzMzMzBKzQJqZmZnZFLNAmpmZmdkVs0AzMzMzMxizQDMzMzMzGbNAzczMzEwZs0AAAAAAgBqzQAAAAACAG7NAmpmZmRkfs0CamZmZWSCzQGZmZmamJLNAzczMzMwms0BmZmZmJiezQDMzMzMzJ7NAMzMzMzMos0AAAAAAQCizQJqZmZnZKLNAAAAAAMAps0AAAAAAQCyzQM3MzMwML7NAmpmZmVkvs0DNzMzMzDKzQGZmZmbmMrNAZmZmZiYzs0BmZmZmZjSzQDMzMzPzNLNAAAAAAMA1s0BmZmZm5jWzQDMzMzOzN7NAzczMzIw4s0DNzMzMzDizQDMzMzMzObNAZmZmZmY6s0CamZmZWT2zQM3MzMyMQbNAzczMzMxDs0AAAAAAgESzQAAAAABAS7NAzczMzAxSs0AzMzMzs1KzQM3MzMyMU7NAmpmZmRlVs0AzMzMz81izQAAAAABAWbNAZmZmZiZfs0CamZmZmV+zQDMzMzOzZLNAAAAAAABls0CamZmZGWWzQAAAAAAAaLNAmpmZmRlss0BmZmZmZm2zQGZmZmYmcLNAMzMzMzNxs0BmZmZmJnWzQAAAAACAdrNAzczMzAx3s0CamZmZ2XizQGZmZmbmebNAAAAAAIB/s0BmZmZmZoGzQJqZmZlZg7NAAAAAAICFs0DNzMzMDIizQGZmZmYmk7NAmpmZmRmUs0CamZmZWZSzQAAAAAAAlbNAAAAAAECYs0BmZmZmppizQDMzMzOzmbNAAAAAAACfs0AAAAAAAKGzQM3MzMzMobNAmpmZmdmhs0DNzMzMDKWzQAAAAAAAp7NAmpmZmdmns0AAAAAAQKizQM3MzMwMqrNAZmZmZuass0BmZmZmJq6zQDMzMzNzrrNAMzMzMzOws0AAAAAAwLKzQDMzMzMzs7NAzczMzMy0s0AAAAAAwMOzQJqZmZnZxLNAZmZmZubEs0AzMzMzc8izQJqZmZnZyLNAMzMzM3PLs0DNzMzMDMyzQGZmZmZmzrNAZmZmZubPs0CamZmZGdGzQM3MzMyM27NAZmZmZmbgs0BmZmZmJuuzQJqZmZlZ7rNAmpmZmZn8s0AAAAAAwAG0QAAAAACABbRAAAAAAMAFtEDNzMzMTAm0QDMzMzNzCbRAZmZmZiYPtECamZmZWQ+0QJqZmZkZErRAZmZmZqYTtEDNzMzMjB60QAAAAACAIbRAAAAAAIAitEAAAAAAACu0QM3MzMxMK7RAMzMzM7MttEAzMzMzMy60QJqZmZkZMLRAmpmZmVk2tEDNzMzMTDe0QAAAAAAAQrRAAAAAAMBFtEAzMzMzM0m0QM3MzMwMSrRAmpmZmRlMtEDNzMzMzE+0QM3MzMzMULRAzczMzIxWtEBmZmZmply0QJqZmZkZX7RAAAAAAEBftEBmZmZmpmO0QM3MzMxMZrRAmpmZmVlmtEAAAAAAgGi0QDMzMzPzaLRAMzMzM3NttEDNzMzMzG20QDMzMzMzb7RAzczMzExvtEBmZmZm5nC0QAAAAABAcbRAMzMzM/NytEBmZmZmZnS0QGZmZmZmdbRAzczMzAx7tEAzMzMzc3y0QAAAAADAg7RAMzMzM/OFtEAAAAAAQJC0QM3MzMxMkLRAAAAAAICQtEAzMzMzM5G0QAAAAACAkbRAzczMzIyRtECamZmZmZa0QJqZmZkZnLRAzczMzAyptEDNzMzMzKm0QDMzMzNzqrRAmpmZmZmutEAzMzMzs6+0QGZmZmams7RAmpmZmRm1tEDNzMzMDLm0QDMzMzOzvLRAAAAAAIC9tECamZmZ2b+0QJqZmZkZw7RAzczMzMzDtEDNzMzMzMW0QAAAAABAybRAAAAAAIDMtEAAAAAAQM+0QAAAAAAA0bRAzczMzIzRtEAzMzMzM9K0QJqZmZlZ1bRAmpmZmVnYtEAzMzMz8+O0QGZmZmam5LRAAAAAAMDttEAAAAAAwPC0QM3MzMzM9LRAZmZmZib/tEBmZmZmZgC1QM3MzMzMAbVAAAAAAIAKtUBmZmZmJgy1QAAAAABAFLVAmpmZmZkWtUBmZmZm5hm1QM3MzMzMHbVAAAAAAMAhtUBmZmZmZiO1QGZmZmamI7VAZmZmZqYstUAAAAAAQDC1QJqZmZlZNrVAZmZmZqY2tUBmZmZmZje1QGZmZmbmN7VAMzMzMzM4tUAAAAAAADu1QDMzMzNzPLVAmpmZmRk9tUAAAAAAwD21QDMzMzPzPrVAzczMzAxCtUBmZmZmpkO1QDMzMzPzRbVAmpmZmZlItUAzMzMzs0q1QM3MzMzMUrVAMzMzMzNTtUAzMzMzM1S1QDMzMzNzVbVAMzMzM3NctUAzMzMz81y1QAAAAADAX7VAZmZmZuZjtUAAAAAAQGi1QAAAAABAabVAZmZmZuZrtUBmZmZmZmy1QAAAAAAAb7VAZmZmZuZ4tUDNzMzMDHm1QDMzMzMzerVAzczMzMx6tUCamZmZmXy1QM3MzMyMfrVAZmZmZqaHtUAzMzMz84q1QDMzMzNzi7VAzczMzMyLtUAzMzMzs5K1QAAAAADAlrVAZmZmZuaYtUDNzMzMzJ+1QAAAAACAoLVAmpmZmVmitUDNzMzMzKK1QM3MzMyMprVAmpmZmRmutUDNzMzMDLC1QAAAAACAsLVAAAAAAECxtUDNzMzMTLO1QAAAAAAAuLVAZmZmZqa7tUCamZmZ2by1QGZmZmZmvrVAMzMzM3O/tUDNzMzMjL+1QJqZmZlZxrVAzczMzEzItUDNzMzMzMy1QM3MzMwMzbVAZmZmZmbRtUAzMzMzc9K1QM3MzMzM1LVAzczMzEzVtUAzMzMzc9W1QAAAAAAA2rVAzczMzEzbtUBmZmZmpt21QAAAAAAA3rVAzczMzEzetUBmZmZmJuC1QGZmZmZm4bVAAAAAAEDitUAAAAAAwOe1QGZmZmZm6LVAZmZmZibqtUAzMzMzs+u1QAAAAADA67VAMzMzM/PxtUDNzMzMTPK1QJqZmZnZ9bVAMzMzM7P3tUDNzMzMjPm1QGZmZmYm/bVAzczMzIz9tUDNzMzMjAC2QJqZmZnZBbZAzczMzMwNtkCamZmZmQ62QDMzMzPzD7ZAMzMzM3MXtkAAAAAAwBi2QDMzMzOzHbZAAAAAAEAetkAAAAAAgCW2QDMzMzOzKbZAAAAAAAAstkBmZmZmpiy2QGZmZmbmMLZAmpmZmRkxtkAAAAAAQDK2QJqZmZmZM7ZAZmZmZmY2tkAzMzMzczi2QGZmZmamPLZAmpmZmZlAtkAAAAAAAEe2QAAAAABAR7ZAzczMzAxJtkAzMzMzM0q2QM3MzMxMSrZAMzMzMzNMtkDNzMzMDE+2QDMzMzMzUrZAAAAAAEBStkCamZmZ2VW2QDMzMzMzVrZAmpmZmVlYtkAzMzMz81i2QGZmZmYmX7ZAMzMzM3NftkDNzMzMjGC2QGZmZmYmYrZAMzMzM7NitkBmZmZmZmO2QDMzMzNzY7ZAmpmZmdljtkBmZmZmZmW2QJqZmZmZabZAzczMzExvtkCamZmZWXC2QAAAAADAcrZAzczMzMx1tkAAAAAAAHa2QAAAAABAebZAzczMzMx7tkAzMzMzM322QGZmZmamgLZAMzMzM/OCtkBmZmZmJoO2QDMzMzOzhLZAzczMzIyOtkAzMzMzc5C2QJqZmZmZk7ZAMzMzM7OUtkDNzMzMTJi2QGZmZmammbZAmpmZmRmftkCamZmZ2Z+2QDMzMzNzorZAzczMzEymtkAAAAAAwLG2QGZmZmbmsrZAzczMzMyztkAAAAAAALS2QGZmZmYmt7ZAAAAAAAC5tkAzMzMzc7m2QDMzMzOzubZAzczMzEy+tkAAAAAAwMC2QAAAAACAwbZAZmZmZqbCtkAzMzMzM8e2QAAAAAAAyLZAZmZmZqbItkAAAAAAgMu2QM3MzMxMz7ZAmpmZmVnRtkBmZmZmptS2QGZmZmam1rZAmpmZmZnYtkAzMzMzs+S2QAAAAADA5bZAAAAAAADrtkBmZmZmZu22QAAAAADA8bZAZmZmZub2tkAAAAAAwPq2QJqZmZnZ+7ZAmpmZmdn+tkAAAAAAAAK3QGZmZmbmBbdAMzMzM/MFt0AAAAAAgAa3QDMzMzNzB7dAZmZmZmYJt0CamZmZmQq3QJqZmZnZC7dAZmZmZiYPt0AzMzMz8xm3QGZmZmZmGrdAMzMzM/Mct0DNzMzMjB23QJqZmZlZH7dAZmZmZmYkt0AAAAAAwCW3QM3MzMwMKrdAAAAAAAArt0AAAAAAwCu3QJqZmZkZL7dAzczMzIwwt0DNzMzMDDW3QGZmZmamN7dAMzMzM7M8t0AzMzMzMz63QAAAAAAAQbdAmpmZmdlEt0BmZmZm5kW3QJqZmZnZRrdAzczMzExHt0AAAAAAgEi3QDMzMzPzS7dAMzMzM/NNt0BmZmZmZlC3QM3MzMxMUbdAmpmZmdlRt0AzMzMz81G3QAAAAABAU7dAzczMzExWt0BmZmZm5li3QDMzMzOzW7dAzczMzIxct0AAAAAAwFy3QGZmZmamXbdAAAAAAABht0AAAAAAwGG3QDMzMzNzYrdAzczMzIxit0DNzMzMDGe3QJqZmZkZbbdAmpmZmdlvt0CamZmZGXC3QDMzMzNzcbdAmpmZmdl0t0BmZmZm5oG3QGZmZmamgrdAmpmZmVmDt0AzMzMz84y3QAAAAAAAjbdAZmZmZuaNt0CamZmZGZG3QM3MzMxMkbdAmpmZmdmSt0DNzMzMjJa3QDMzMzOzmrdAZmZmZuadt0CamZmZGZ63QAAAAACAobdAAAAAAECkt0DNzMzMjKe3QGZmZmbmqLdAMzMzM/Oqt0DNzMzMTLG3QM3MzMyMsrdAZmZmZmazt0BmZmZmprS3QAAAAABAtbdAZmZmZua7t0AAAAAAwL23QAAAAADAvrdAAAAAAAC/t0BmZmZmZsG3QJqZmZkZw7dAzczMzEzNt0AAAAAAQM63QDMzMzNz0LdAZmZmZubQt0BmZmZmpt23QAAAAADA3bdAAAAAAMDet0AzMzMz8+a3QJqZmZkZ7rdAZmZmZibut0AzMzMzM/G3QGZmZmam8bdAmpmZmdnyt0AzMzMz8/K3QDMzMzOz9LdAAAAAAID7t0CamZmZ2fy3QGZmZmam/bdAMzMzMzMBuEAzMzMzcwS4QGZmZmbmB7hAzczMzEwIuEBmZmZmZgi4QJqZmZnZCbhAZmZmZmYLuECamZmZmQ24QGZmZmbmEbhAMzMzM7MUuEAzMzMzMxu4QAAAAAAAHLhAmpmZmZkguECamZmZWSO4QGZmZmYmKbhAzczMzMwpuECamZmZGTK4QDMzMzPzObhAMzMzM3NKuEDNzMzMTE+4QM3MzMzMT7hAzczMzMxQuEBmZmZmZlG4QAAAAACAU7hAmpmZmRlWuEAAAAAAwFy4QM3MzMwMXbhAzczMzAxfuECamZmZWWG4QDMzMzOzbLhAAAAAAABtuEAzMzMzc264QDMzMzMzcLhAzczMzMx3uEBmZmZmZoG4QM3MzMxMj7hAMzMzM7OUuEAzMzMzM5W4QDMzMzNzlbhAAAAAAMCVuEAAAAAAwJi4QGZmZmammbhAZmZmZiacuECamZmZ2Zy4QDMzMzOznbhAzczMzMyeuECamZmZ2Z64QAAAAACAorhAZmZmZqaluEBmZmZm5qa4QDMzMzMzp7hAZmZmZuaouECamZmZWaq4QDMzMzMzrLhAmpmZmRmyuEAAAAAAQLW4QDMzMzOzuLhAZmZmZma6uEAAAAAAwLy4QGZmZmZmvbhAzczMzMy9uEDNzMzMTMO4QDMzMzNzw7hAMzMzM7PGuEDNzMzMjMu4QAAAAACAzrhAZmZmZmbQuECamZmZWdq4QDMzMzNz27hAmpmZmVnduEAzMzMzM9+4QDMzMzMz4LhAMzMzM3PhuECamZmZGeW4QDMzMzMz57hAzczMzMznuEDNzMzMjOi4QAAAAAAA7rhAzczMzIzuuEBmZmZm5u+4QDMzMzPz8bhAZmZmZqb0uECamZmZ2fi4QGZmZmam+bhAmpmZmZn9uEDNzMzMDP64QAAAAABAAblAAAAAAAAEuUAAAAAAQAu5QDMzMzOzELlAAAAAAAAXuUAAAAAAQBi5QDMzMzOzGLlAZmZmZqYZuUBmZmZm5h65QM3MzMwMH7lAAAAAAEAjuUCamZmZ2Sm5QM3MzMwMLLlAmpmZmdkwuUBmZmZmJjG5QGZmZmYmOblAzczMzIw8uUBmZmZmJj+5QJqZmZmZRLlAmpmZmRlGuUCamZmZ2Ue5QGZmZmZmSrlAMzMzM3NKuUBmZmZmZk+5QGZmZmbmULlAMzMzMzNXuUBmZmZmJmC5QJqZmZlZZblAMzMzMzNnuUBmZmZmJmq5QDMzMzNzbrlAAAAAAEBvuUDNzMzMzG+5QJqZmZlZdrlAAAAAAMB3uUDNzMzMzHi5QGZmZmbmeblAZmZmZqZ+uUAAAAAAgIi5QDMzMzNzirlAZmZmZqaUuUAzMzMzc5W5QDMzMzMzm7lAAAAAAMCduUAAAAAAQKG5QGZmZmbmorlAZmZmZmajuUCamZmZ2aW5QGZmZmbmp7lAmpmZmdmsuUDNzMzMjLK5QDMzMzMzublAmpmZmdm6uUAzMzMz87y5QJqZmZmZvblAAAAAAIC+uUDNzMzMzL65QAAAAAAAw7lAZmZmZubDuUAAAAAAQMW5QGZmZmbmyrlAzczMzMzLuUDNzMzMjM25QGZmZmam1blAZmZmZubWuUCamZmZ2ee5QAAAAADA6LlAZmZmZubtuUCamZmZWe65QDMzMzOz8LlAAAAAAIDzuUAzMzMzc/y5QJqZmZkZ/rlAAAAAAAAMukDNzMzMDAy6QJqZmZlZDLpAzczMzAwNukAzMzMzcw26QDMzMzOzD7pAZmZmZqYSukBmZmZmZhu6QJqZmZnZH7pAmpmZmRkgukAzMzMz8yC6QAAAAAAAIbpAAAAAAMAiukBmZmZmpiS6QDMzMzMzKbpAmpmZmVkpukDNzMzMDCy6QAAAAACAL7pAMzMzM7MxukBmZmZmJjO6QDMzMzMzObpAMzMzM3M8ukBmZmZm5j26QGZmZmbmP7pAmpmZmZlBukDNzMzMTEW6QAAAAACARbpAAAAAAABNukBmZmZmJk26QM3MzMwMT7pAZmZmZiZVukDNzMzMjFe6QDMzMzMzWLpAAAAAAEBYukCamZmZWVu6QJqZmZlZX7pAmpmZmVliukAzMzMzc2a6QDMzMzPzbrpAmpmZmRlvukAAAAAAgHK6QJqZmZnZcrpAzczMzAx7ukCamZmZGXy6QGZmZmYmfrpAmpmZmRmCukAzMzMzc4i6QAAAAADAirpAMzMzM/OcukAzMzMz86C6QDMzMzNzo7pAZmZmZmanukBmZmZmpqm6QAAAAACAq7pAmpmZmZm2ukAzMzMz87i6QM3MzMwMubpAzczMzEy5ukBmZmZmZrm6QDMzMzNzubpAZmZmZia7ukAAAAAAgLy6QGZmZmZmwbpAAAAAAMDBukAzMzMzc8i6QDMzMzPzyLpAZmZmZubKukDNzMzMDMu6QJqZmZmZzLpAMzMzM7PVukAzMzMzs9e6QJqZmZlZ27pAmpmZmdngukAAAAAAwOW6QM3MzMzM6bpAZmZmZmbrukAzMzMzc+u6QAAAAACA77pAzczMzEz+ukAzMzMzswC7QDMzMzPzArtAMzMzM7MJu0BmZmZm5g27QGZmZmZmEbtAmpmZmdkYu0AAAAAAgCC7QGZmZmYmJ7tAZmZmZmYpu0BmZmZmJiq7QJqZmZnZMrtAAAAAAMBAu0AAAAAAgEa7QDMzMzNzTbtAMzMzM7NNu0CamZmZmU+7QGZmZmbmT7tAZmZmZqZRu0CamZmZmVK7QM3MzMzMUrtAzczMzExVu0AzMzMz81a7QDMzMzPzWrtAZmZmZiZgu0AAAAAAgGG7QGZmZmbmZ7tAAAAAAIB0u0BmZmZmpna7QM3MzMxMd7tAMzMzM3N3u0CamZmZmXu7QM3MzMwMf7tAMzMzM3N/u0AAAAAAgIe7QAAAAACAibtAAAAAAMCJu0AzMzMz84u7QJqZmZlZjbtAZmZmZqaVu0AAAAAAQJ27QM3MzMxMnbtAZmZmZmaiu0CamZmZWaS7QDMzMzNzqrtAAAAAAICqu0CamZmZ2aq7QAAAAACArbtAAAAAAAC7u0AzMzMzM8C7QAAAAAAAw7tAMzMzMzPEu0AAAAAAwMa7QM3MzMxMx7tAZmZmZibIu0AAAAAAwMm7QAAAAABAyrtAZmZmZubOu0AzMzMzc9m7QGZmZmYm3LtAmpmZmRndu0AzMzMzc927QGZmZmam4rtAAAAAAIDmu0CamZmZWe27QM3MzMwM97tAMzMzM7P3u0AAAAAAQAC8QDMzMzOzA7xAZmZmZiYFvEAAAAAAQA28QDMzMzPzDbxAAAAAAIAUvECamZmZWRu8QAAAAAAAKbxAmpmZmdkqvEAAAAAAwC28QAAAAADANrxAMzMzM3M7vEDNzMzMzEK8QJqZmZmZRrxAZmZmZqZIvEAzMzMzs0y8QGZmZmbmTbxAZmZmZiZOvEAzMzMzs1O8QGZmZmbmU7xAAAAAAEBdvEAAAAAAwF28QDMzMzPzYrxAmpmZmVlvvECamZmZmXG8QAAAAABAc7xAMzMzM7N1vEBmZmZmZni8QAAAAADAe7xAAAAAAMCBvEDNzMzMDIe8QDMzMzPzjLxAmpmZmRmVvEBmZmZm5pi8QM3MzMwMmbxAAAAAAICavEBmZmZmJpu8QJqZmZkZnbxAZmZmZmakvEDNzMzMDKa8QM3MzMyMqbxAMzMzM3OwvEAzMzMzM7K8QJqZmZlZtbxAZmZmZubCvEDNzMzMTMW8QDMzMzOzxbxAzczMzMzTvEAAAAAAQNa8QJqZmZnZ1rxAMzMzM7PXvEDNzMzMDNq8QDMzMzNz3LxAZmZmZibkvEAAAAAAAOW8QAAAAACA7bxAAAAAAED0vEDNzMzMjPW8QJqZmZkZ/rxAAAAAAMAGvUAzMzMzsxe9QDMzMzNzH71AAAAAAAAjvUDNzMzMDCO9QAAAAACAK71AzczMzIwrvUCamZmZGS69QGZmZmYmML1AmpmZmRkzvUCamZmZ2TO9QM3MzMwMRb1AzczMzIxUvUDNzMzMTFe9QGZmZmamV71AZmZmZuZXvUAzMzMzs129QDMzMzPzYb1AzczMzMxqvUAAAAAAgHG9QAAAAABAdr1AAAAAAAB4vUDNzMzMTHi9QJqZmZmZfL1AzczMzEx+vUCamZmZmYG9QM3MzMwMgr1AAAAAAACDvUBmZmZm5oS9QM3MzMyMh71AmpmZmVmNvUAzMzMzM4+9QDMzMzOzmL1AzczMzAyavUAAAAAAgJ29QM3MzMzMpb1AAAAAAMC5vUCamZmZGbq9QM3MzMyMu71AAAAAAADAvUAzMzMzM8e9QDMzMzMzyL1AmpmZmdnNvUAAAAAAQNK9QM3MzMzM0r1AZmZmZmbpvUDNzMzMTOq9QM3MzMzM7b1AzczMzMzxvUBmZmZmZv29QGZmZmam/71AzczMzMwJvkAzMzMzsxu+QAAAAABAH75AMzMzM3MfvkDNzMzMjCG+QGZmZmamIr5AAAAAAIAnvkCamZmZWS6+QGZmZmamNL5AzczMzIw5vkAzMzMzs0K+QAAAAADARL5AMzMzM7NHvkDNzMzMDEi+QGZmZmbmTr5AAAAAAEBXvkDNzMzMDF6+QJqZmZnZZr5AmpmZmZltvkAzMzMz83O+QAAAAACAfr5AmpmZmZl+vkCamZmZ2Z++QJqZmZmZoL5AzczMzEyivkDNzMzMjKO+QM3MzMzMpb5AAAAAAICovkCamZmZ2am+QGZmZmZmrL5AMzMzM7OtvkBmZmZmJq6+QGZmZmbmrr5AAAAAAEC2vkDNzMzMDL2+QAAAAAAAw75AzczMzEzGvkAAAAAAQMi+QDMzMzMzyb5AAAAAAEDKvkAAAAAAgMq+QAAAAABAz75AZmZmZibXvkAzMzMzc9q+QAAAAABA4L5AzczMzMzvvkAzMzMzs/C+QAAAAADA8r5AzczMzIz6vkAAAAAAgPy+QAAAAABAA79AZmZmZiYGv0AzMzMzcwe/QAAAAABAEb9AMzMzMzMav0AzMzMz8x2/QGZmZmbmHr9AAAAAAIAuv0BmZmZmJjC/QGZmZmbmMb9AmpmZmZkzv0DNzMzMDDa/QM3MzMxMOb9AzczMzMw+v0DNzMzMzEO/QAAAAADATL9AzczMzIxNv0CamZmZmVC/QJqZmZnZVr9AmpmZmRlhv0AzMzMz82O/QGZmZmamab9AmpmZmdluv0DNzMzMjHq/QJqZmZnZer9AAAAAAIB9v0BmZmZmpoG/QM3MzMwMh79AmpmZmVmLv0CamZmZGY6/QGZmZmZmlr9AZmZmZiadv0AAAAAAQKS/QM3MzMyMpL9AMzMzMzO8v0BmZmZmpr6/QM3MzMxMwb9AzczMzEzYv0CamZmZGeS/QJqZmZkZ5b9AzczMzMzmv0BmZmZm5u+/QAAAAADA9r9AmpmZmdn2v0DNzMzMTADAQDMzMzMzAsBAMzMzMzMOwEDNzMzMbBjAQGZmZmYmGsBAAAAAAEAcwEAAAAAAAB3AQGZmZmaGKsBAmpmZmZkwwEAAAAAAwDTAQGZmZmYGOcBAMzMzM3M6wEBmZmZmxjrAQGZmZmZGO8BAMzMzMzM8wEAAAAAAYDzAQJqZmZn5PsBAmpmZmflFwEAzMzMzE0bAQJqZmZn5RsBAmpmZmblIwECamZmZuU7AQJqZmZnZTsBAZmZmZoZbwEAzMzMzk2fAQDMzMzNzasBAAAAAAIBqwEAzMzMzc3TAQDMzMzOTdMBAZmZmZqZ0wEAAAAAAIHrAQJqZmZnZfcBAAAAAAGCEwECamZmZGYrAQAAAAABAjsBAzczMzMyOwECamZmZ2Y7AQJqZmZlZmMBAAAAAAMCowEAAAAAAoK/AQDMzMzOTscBAAAAAAGC6wEAzMzMzM8nAQM3MzMwM78BAmpmZmTnwwEA=",
          "dtype": "f8"
         },
         "xaxis": "x",
         "y": {
          "bdata": "AQEBAQECAQQCAgMDAwYGAQcBAwQCAgYCBQQEBAMFAQEBAgECAQEBAQEBAQMCAQEBAgEBAQEBAQEBAQEBAQECAgEBAQEBAQEBAQEBAQEBAQEBAQEBAQEBAQEBAQQBAQEBAQECAQMBAQEBAQEBAgEBAQEBAQEBAQEBAQEBAQEBAQEBAQEBAQIBAwEBAQMCAQIBAQECAQEBAQEBAQEBAgEBAQIBAQIBAQEBAQICAQEBAQEBAQEBAQEBAQEBAQEBAQEBAQEBAQEBAgEBAQEBAQEBAQEBAQIBAQEBAQEBAQEBAQEBAQEBAQEBAQEBAgEBAQICAQEBAQECAQIBAQEBAQEBAQIBAQEBAQECAQEBAQEBAQEBAQICAQEBAQEBAQEBAQEBAQEBAQEBAQEBAQEBAQEBAQEBAQEBAQEBAQECAQEBAQEBAQECAQEBAQEBAQEBAQEBAQEBAQIBAQEBAQECAQEBAgEBAQIBAQEBAQEBAQEBAQEBAQEBAQEBAQEBAQEBAQEBAQEBAQEBAQEBAgEBAQEBAQEBAQEBAQEBAQEBAQEBAQEBAgEBAQEBAQEBAQIBAQEBAQEBAQEBAQEBAQEBAQEBAQEBAQEBAQEBAQEBAQEBAQEBAQEBAQEBAQEBAQEBAQIBAQEBAQEBAQEBAQEBAQEBAQEBAQEBAQICAQEBAQEBAQEBAQEBAQEBAQEBAQEBAQEBAQEBAQEBAwEBAQEBAQEBAQEBAQEBAQEBAQEBAQEBAQEBAQEBAQEBAQEBAgEBAQEBAQEBAQIBAQEBAQEBAQEBAQECAQEBAgEBAQEBAQEBAQEBAQIBAQEBAQEBAQEBAQEBAQEBAQEBAQEBAQEBAQEBAQEBAQECAQEBAQEBAQECAQEBAQIBAQEBAQEBAQEBAQEBAQEBAQEBAQEBAQEBAQEBAQEBAQEBAQEBAQEBAgEBAQEBAQEBAQEBAQEBAQEBAQEBAQEBAQEBAQEBAQEBAgEBAQEBAQEBAQEBAQEBAQEBAQECAQEBAQEBAQEBAQEBAQECAQEBAQECAQEBAQEBAQECAQEBAQEBAQIBAQEBAQEBAQEBAQEBAQEBAQEBAQEBAQEBAQEBAQEBAQEBAQEBAQEBAQIBAQMBAQEBAQEBAQEBAQEBAQEBAQEBAQIBAQEBAQEBAQEBAQEBAQEBAQEBAQEBAQEBAQEBAQEBAQEBAQEBAQEBAQEBAQEBAQEBAQEBAQEBAQEBAQEBAQEBAQEBAQEBAQEBAQEBAQEBAQEBAQEBAQEBAQEBAQEBAQEBAQEBAQEBAQEBAQEBAQEBAQECAQEBAQECAQEDAQEBAQEBAQEBAgEBAQEBAQEBAQEBAQEBAQEBAQEBAgEBAQEBAQEBAgEBAQEBAQEBAQEBAQEBAQEBAQECAQEBAQEBAQEBAgEBAQEBAQEBAQEBAQEBAQEBAQEBAQEBAQEBAQEBAQEBAQEBAQEBAQEBAQEBAQEBAQEBAQEBAQEBAQEBAQEBAQEBAQEBAQEBAQECAQEBAQEBAQEBAQEBAQEBAQEBAQEBAQEBAQEBAQECAQEBAQEBAQEBAgEBAQEBAQEBAQEBAQEBAgEBAQEBAQEBAQEBAQEBAQEBAQEBAQEBAQEBAQEBAQEBAQEBAQEBAQEBAQEBAQEBAQEBAQEBAQEBAQEBAQEBAQEBAQEBAQEBAQEBAQECAQEBAQEBAQEBAQEBAQEBAQEBAQEBAQECAQEBAQEBAQEBAQEBAQEBAQEBAQEBAQEBAQEBAQEBAQEBAQEBAQEBAQEBAQEBAQEBAQEBAQEBAQEBAQEBAQEBAQEBAQEBAQEBAQEBAQEBAQEBAQEBAQEBAQEBAQEBAQEBAQEBAQEBAQEBAQEBAQEBAQEBAQEBAQEBAQEBAQEBAQEBAQEBAQEBAQEBAQEBAQEBAQEBAQEBAQEBAQEBAQEBAQEBAQEBAQEBAQEBAgEBAQEBAQEBAQEBAQEBAQEBAQEBAQEBAQIBAQEBAQEBAgEBAQEBAQIBAQEBAQIBAQEBAQEBAQEBAQEBAQEBAQECAQEBAQEBAQEBAQEBAQEBAQEBAQEBAQEBAQEBAQEBAQEBAQEBAQEBAQEBAQEBAQEBAQEBAQEBAQEBAQEBAQEBAQEBAQEBAQEBAQEBAQEBAQEBAQEBAQEBAQEBAQEBAQEBAQEBAQEBAQEBAQEBAQEBAQEBAQEBAQEBAQEBAQEBAQEBAQEBAQEBAQEBAgEBAQEBAQEBAQEBAQEBAQEBAQEBAQEBAQEBAQEBAQEBAQEBAQEBAQEBAQEBAQEBAQEBAgEBAQEBAQEBAQEBAQEBAQEBAQEBAQEBAQEBAQEBAQEBAQEBAQECAQEBAQEBAQEBAQEBAQEBAQEBAQEBAQEBAQEBAQEBAQEBAQEBAQEBAQEBAQEBAQEBAQEBAQECAQEBAQEBAQEBAQEBAQEBAQEBAQEBAQEBAQEBAQEBAQEBAQEBAQEBAQEBAQEBAQEBAgEBAQEBAQEBAQEBAQEBAQEBAQEBAQIBAQEBAQEBAQEBAQEBAQEBAQEBAQEBAgEBAQEBAQEBAQEBAQEBAQEBAQECAQEBAQEBAQEBAQEBAQEBAQEBAQEBAQEBAQEBAQEBAQEBAQEBAQEBAQEBAQEBAQEBAQEBAQEBAQEBAQEBAQEBAQEBAQEBAQEBAQEBAQEBAQEBAQECAQEBAQEBAQEBAQEBAQEBAQEBAQEBAQEBAQEBAQEBAgEBAQEBAQEBAQEBAQEBAQEBAQEBAQEBAQEBAQEBAQEBAQEBAQEBAQEBAQEBAQEBAQEBAQEBAQEBAQEBAQEBAQEBAQEBAQEBAQEBAQEBAQEBAQEBAQEBAQECAQEBAQEBAQEBAQEBAQEBAQEBAQEBAQEBAQsBAQEBAQEBAQEBAQEBAQIBAQEBAQEBAQEBAQEBAQEBAQEBAQEBAQEBAQEBAQEBAQEBAQEBAQEBAQEBAQEBAQEBAQIBAQEBAQEBAQEBAQEBAQEBAQECAQEBAQEBAQEBAQEBAgEBAQEBAQEBAQEBAQEBAQEBAQEBAQEBAQEBAQEBAQEBAQEBAQEBAQEBAQEBAQEBAQEBAQEBAQEBAQEBAQEBAQEBAQEBAQEBAQEBAQEBAQEBAQEBAQEBAQEBAQEBAQEBAQEBAQEBAQEBAQEBAQECAQEBAQEBAQEBAQEBAQEBAQECAQEBAQEBAQEBAQEBAQEBAQEBAQEBAQEBAQECAQIBAQEBAQEBAQEBAQEBAQEBAQEBAQEBAQEBAQIBAQEBAQEBAgEBAQEBAQEBAQEBAQEBAQEBAQEBAQEBAQEBAQEBAQEBAQEBAQEBAQEBAQEBAQEBAQEBAQEBAQEBAgEBAQEBAQEBAQEBAQEBAQEBAQEBAQEBAQEBAQEBAQEBAQEBAQEBAQEBAQEBAQEBAQEBAQEBAQEBAQEBAQEBAQEBAQEBAQEBAQEBAQEBAQEBAQEBAQEBAQEBAQEBAQEBAQECAQEBAQEBAQEBAQEBAQEBAQEBAQEBAQEBAQEBAQEBAQEBAQEBAQEBAQEBAQEBAQEBAQEBAQEBAQEBAQEBAQEBAQEBAQEBAQEBAQEBAQEBAQEBAQEBAQEBAQEBAQEBAQEBAQIBAQEBAQEBAQEBAQEBAQEBAQEBAQEBAQEBAQEBAQEBAQEBAQEBAQEBAQEBAQEBAQEBAQEBAQEBAgEBAQEBAQEBAQEBAQEBAQEBAQEBAQEBAQEBAQEBAQEBAQEBAQEBAQEBAQEBAQEBAQEBAQEBAQEBAQEBAQEBAQEBAQEBAQEBAQEBAQEBAQEBAQEBAQEBAQEBAQEBAQEBAQEBAQEBAQEBAQEBAQEBAQEBAQEBAQEBAQEBAQEBAQEBAQEBAQEBAQEBAQEBAQEBAQEBAgEBAQEBAQEBAQEBAQEBAQEBAQEBAQEBAQEBAQEBAQEBAQEBAQEBAQEBAQEBAQEBAQEBAQEBAQIBAQEBAgEBAQEBAQEBAQEBAQEBAQEBAQEBAQEBAQEBAQEBAQIBAQEBAQEBAQEBAQEBAQEBAQEBAQEBAQEBAQEBAQEBAQEBAQEBAQEBAQEBAQEBAQEBAQEBAQEBAQEBAQEBAQEBAQEBAQEBAQEBAQEBAQEBAQEBAQEBAQEBAQEBAQEBAQEBAQEBAQEBAQEBAQEBAQEBAQEBAQEBAQEBAQEBAQEBAQEBAQEBAQEBAQEBAQEBAQEBAQEBAQEBAQEBAQEBAQEBAQEBAQEBAQEBAQEBAQEBAQEBAQEBAQEBAQEBAQEBAQEBAQEBAQEBAQEBAQEBAQEBAQEBAQEBAQEBAQEBAQEBAQEBAQEBAQEBAQEBAQECAQEBAQEBAQEBAQEBAQEBAQEBAQEBAQEBAQEBAQEBAQEBAQEBAQEBAQEBAQIBAQEBAQEBAQEBAQEBAQEBAQEBAQEBAQEBAQEBAQEBAQEBAQEBAQEBAQEBAQEBAQEBAQIBAQEBAQEBAQEBAQEBAQEBAQEBAQEBAQEBAQEBAQEBAQEBAQEBAQEBAQEBAQEBAQEBAQEBAQIBAQEBAQEBAQEBAQEBAQEBAQEBAQEBAQEBAQEBAQEBAQEBAQEBAQEBAQEBAQECAQEBAQEBAQEBAQEBAQEBAQEBAQEBAQEBAQEBAQEBAQECAQEBAQEBAgEBAQEBAQEBAQEBAQEBAQEBAQEBAQEBAQEBAQEBAQEBAQEBAQEBAQEBAQEBAQEBAQEBAQEBAQEBAQEBAQEBAQEBAQEBAQEBAQEBAQEBAQEBAQEBAQEBAQEBAQEBAQEBAQEBAQEBAQEBAQEBAQEBAQEBAQEBAQEBAQEBAQEBAQIBAQEBAQEBAQEBAQEBAQEBAQEBAQEBAQEBAQEBAQEBAQEBAQEBAQEBAQEBAQEBAQEBAQEBAQEBAQEBAQEBAQEBAQEBAQEBAQEBAQEBAQEBAQEBAQEBAQEBAQEBAQEBAQEBAQEBAQEBAQEBAQEBAQEBAQEBAQEBAQEBAQEBAQEBAQEBAQEBAQEBAQEBAQEBAQEBAQEBAQEBAQEBAQEBAQEBAQEBAQEBAQEBAQEBAQEBAQEBAQEBAQEBAQEBAQEBAQEBAQEBAQEBAQEBAQEBAQEBAQEBAQEBAQEBAQEBAQEBAQEBAQEBAQEBAQEBAQEBAQEBAQEBAQEBAQEBAQEBAQEBAQEBAQEBAQEBAQEBAQEBAQEBAQEBAQEBAQEBAQEBAQEBAQEBAQEBAQEBAQEBAQEBAQEBAQEBAQEBAQEBAQEBAQEBAQEBAQEBAQEBAQEBAQIBAQEBAQEBAQEBAQEBAQEBAQEBAQEBAQEBAQEBAQEBAQEBAQEBAQEBAQEBAQEBAQEBAQEBAQEBAQEBAQEBAQEBAQECAQEBAQEBAQEBAQEBAQEBAQEBAQEBAQEBAQEBAQEBAQEBAQEBAQEBAQEBAQEBAQEBAQEBAQEBAQEBAQEBAQEBAQEBAQEBAQEBAQEBAQEBAQEBAQEBAQEBAQEBAQEBAQEBAQEBAQEBAQEBAQEBAQEBAQEBAQEBAQEBAQEBAQEBAQEBAQEBAQEBAQEBAQEBAQEBAQEBAQEBAQEBAQEBAQEBAQEBAQEBAQEBAQEBAQEBAQEBAQEBAQEBAQEBAQEBAQEBAQEBAQEBAQEBAQEBAQEBAQEBAQEBAQIBAQEBAQEBAQEBAQEBAQEBAQEBAQEBAQEBAQEBAQEBAQIBAQEBAQEBAQEBAQECAQEBAQEBAQEBAQEBAgEBAQEBAQEBAQEBAQEBAQEBAQEBAQEBAQEBAQEBAQEBAQEBAQEBAQEBAQEBAQEBAQEBAQEBAQEBAQEBAQEBAQEBAQEBAQEBAQEBAQEBAQEBAQEBAQEBAQECAQEBAQEBAQEBAQEBAQEBAQEBAQEBAQEBAQEBAQEBAQEBAQEBAQEBAQEBAQEBAQEBAQEBAQEBAQEBAQEBAQEBAQEBAQEBAQEBAQEBAQEBAQEBAQEBAQEBAQEBAQEBAQEBAQEBAQEBAQEBAQEBAQEBAQEBAQEBAQEBAQEBAQEBAQEBAQEBAQEBAQEBAQEBAQEBAQEBAQEBAQEBAQEBAQEBAQEBAQEBAQEBAQEBAQEBAQEBAQEBAQEBAQEBAQEBAQEBAQEBAQEBAQEBAQEBAQEBAQEBAQEBAQEBAQEBAQEBAQEBAQEBAQEBAQEBAQEBAQEBAQEBAQEBAQEBAQEBAQEBAQEBAQEBAQEBAQEBAQEBAQEBAQEBAQEBAQEBAQEBAQEBAQEBAQEBAQEBAQEBAQEBAQEBAQEBAQEBAQEBAQEBAQEBAQEBAQEBAQEBAQEBAQEBAQEBAQEBAQEBAQEBAQEBAQEBAQEBAQEBAQEBAQEBAQEBAQEBAQEBAQEBAQEBAQEBAQEBAQEBAQEBAQEBAQEBAQEBAQEBAQEBAQIBAQEBAQEBAQEBAQEBAQEBAQEBAQEBAQEBAQEBAQEBAQEBAQEBAQEBAQEBAQEBAQEBAQEBAQEBAQEBAQEBAQEBAQEBAQEBAQEBAQEBAQEBAQEBAQEBAQEBAQEBAQEBAQEBAQEBAQEBAQEBAQEBAQEBAQEBAQEBAQEBAQEBAQEBAQEBAQEBAQEBAQEBAQEBAQEBAQEBAQEBAQEBAQEBAQEBAQEBAQEBAQEBAQEBAQEBAQEBAQEBAQEBAQEBAQEBAQEBAQEBAQEBAQEBAQEBAQEBAQ==",
          "dtype": "i1"
         },
         "yaxis": "y"
        },
        {
         "hovertemplate": "Churn=No<br>TotalCharges=%{x}<extra></extra>",
         "legendgroup": "No",
         "marker": {
          "color": "green"
         },
         "name": "No",
         "notched": true,
         "showlegend": false,
         "type": "box",
         "x": {
          "bdata": "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",
          "dtype": "f8"
         },
         "xaxis": "x2",
         "yaxis": "y2"
        },
        {
         "bingroup": "x",
         "histfunc": "sum",
         "hovertemplate": "Churn=Yes<br>TotalCharges=%{x}<br>sum of Count=%{y}<extra></extra>",
         "legendgroup": "Yes",
         "marker": {
          "color": "red",
          "pattern": {
           "shape": ""
          }
         },
         "name": "Yes",
         "orientation": "v",
         "showlegend": true,
         "type": "histogram",
         "x": {
          "bdata": "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",
          "dtype": "f8"
         },
         "xaxis": "x",
         "y": {
          "bdata": "AQEBAgEDAQECAgECAQEEAgECAwQGAgEBAwIBAQIBAQEBAQEBAQMCAgECAQEBAQEBAQEBAQEBAQEBAQEBAQIBAQEBAQEBAQEBAQEBAwEBAQECAwEFAQECAwEBAgIBAQEBAQEBAQEBAQEBAQEDAQIBAQECAQEBAQEBAQEBAQIBAQEBAQEBAQEBAQEBAQEBAQEBAQEBAQEBAwECAgICAgMEBAECAgIDAwIBAgMBAwECAQECAQEBAgECAQECAQIBAQEBAQEBAQECAgICAgMDAQEBBAIBAQEBAQEBAQIBAQIBAQEBAgEBAQEBAQECAQEDAgEBAQEBAQEBAQEBAQIBAQEBAQEBAQECAQEBAQIBAQICAQEBAQECAQEBAQEBAQEBAgIBAgIBAgEBAQECAQEBAQEBAQEBAQEBAQEBAgEBAQEBAQEBAQEBAQEBAQEBAQEBAQEBAQEBAQEBAQECAQEBAQEBAQEBAQEBAQEBAQEBAQIBAQEBAQECAQIBAQEBAQEBAQEBAQEBAQEBAQEBAQEBAQEBAQEBAQIBAgEBAQEBAQEBAQEBAQEBAQEBAQEBAQEBAQEBAQEBAQEBAQIBAQEBAQEBAQEBAQEBAQEBAQEBAQEBAQEBAQEBAQEBAQEBAQEBAQEBAQECAQEBAQEBAQEBAQEBAQEBAQEBAQEBAQEBAQEBAQIBAQEBAQEBAQEBAQEBAQEBAQEBAQEBAQECAQEBAQEBAQEBAQEBAQEBAQEBAQECAQECAQEBAQEBAQEBAQEBAQEBAQEBAQEBAQEBAQEBAQEBAQEBAQEBAQEBAQEBAQEBAQEBAQEBAQEBAQEBAQEBAQEBAQEBAQEBAQEBAQEBAQEBAQEBAgEBAQEBAQEBAQEBAQEBAQEBAQEBAQIBAQEBAQEBAQEBAQEBAQEBAQEBAQEBAQEBAQEBAQEBAQEBAQIBAQEBAQEBAQEBAQEBAQEBAQEBAQEBAQEBAQEBAQEBAQEBAQEBAQEBAQEBAQEBAQEBAQEBAQEBAQEBAQEBAQEBAQEBAQEBAQEBAQEBAQEBAQEBAQEBAQEBAQEBAQEBAQEBAQEBAQEBAQEBAQEBAQEBAQEBAQECAQEBAQEBAQEBAQEBAQEBAQEBAQEBAQEBAQEBAQEBAQEBAQEBAQEBAQEBAQEBAQEBAQEBAQEBAQEBAQEBAQEBAQEBAQEBAQEBAQEBAQEBAQEBAQEBAQEBAQEBAQEBAQEBAQEBAQEBAQEBAQEBAQEBAQEBAQEBAQEBAQEBAQEBAQEBAQEBAQEBAQEBAQIBAQEBAQEBAQEBAQEBAQEBAQEBAQEBAQEBAQEBAQEBAQEBAQEBAQEBAQEBAQEBAQEBAQEBAQEBAQEBAQEBAQEBAQEBAQEBAQEBAQEBAQEBAQEBAQEBAQEBAQEBAQEBAQEBAQEBAQEBAQEBAQEBAQEBAQEBAQEBAQEBAQEBAQEBAQEBAQEBAQEBAQEBAQEBAQEBAQEBAQEBAQEBAQEBAQEBAQEBAQEBAQEBAQEBAQEBAQEBAQEBAQEBAQEBAQEBAQEBAQEBAQEBAQEBAQEBAQEBAQEBAQEBAQEBAQEBAQEBAQEBAQEBAQEBAQEBAQEBAQEBAQEBAQEBAQEBAQEBAQEBAQEBAQEBAQEBAQEBAQEBAQEBAQEBAQEBAQEBAQEBAQEBAQIBAQEBAQEBAQEBAQECAQEBAQEBAQEBAQEBAQEBAQEBAQEBAQEBAQEBAQEBAQEBAQEBAQEBAQEBAQEBAQEBAQEBAQEBAQEBAQEBAQEBAQEBAQEBAQEBAQEBAQEBAQEBAQEBAQEBAQEBAQEBAQEBAQEBAQEBAQEBAQEBAQEBAQEBAQEBAQEBAQEBAQEBAQEBAQEBAQEBAQEBAQEBAQEBAQEBAQEBAQEBAQEBAQEBAQEBAQEBAQEBAQEBAQEBAQEBAQEBAQEBAQEBAQEBAQEBAQEBAQEBAQEBAQEBAQEBAQEBAQEBAQEBAQEBAQEBAQEBAQEBAQEBAQEBAQEBAQEBAQEBAQEBAQEBAQEBAQEBAQEBAQEBAQEBAQEBAQEBAQEBAQEBAQEBAQEBAQEBAQEBAQEBAQEBAQEBAQEBAQEBAQEBAQEBAQEBAQEBAQEBAQEBAQEBAQEBAQEBAQEBAQEBAQEBAQEBAQEBAQEBAQEBAQEBAQEBAQEBAQEBAQEBAQEBAQEBAQEBAQEBAQEBAQEBAQEBAQEBAQEBAQEBAQEBAQEBAQEBAQEBAQEBAQEBAQEBAQEBAQEBAQEBAQEBAQEBAQEBAQEBAQEBAQEBAQEBAQEBAQEBAQEBAQEBAQEBAQEBAQEBAQ==",
          "dtype": "i1"
         },
         "yaxis": "y"
        },
        {
         "hovertemplate": "Churn=Yes<br>TotalCharges=%{x}<extra></extra>",
         "legendgroup": "Yes",
         "marker": {
          "color": "red"
         },
         "name": "Yes",
         "notched": true,
         "showlegend": false,
         "type": "box",
         "x": {
          "bdata": "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",
          "dtype": "f8"
         },
         "xaxis": "x2",
         "yaxis": "y2"
        }
       ],
       "layout": {
        "barmode": "relative",
        "legend": {
         "title": {
          "text": "Churn"
         },
         "tracegroupgap": 0
        },
        "template": {
         "data": {
          "bar": [
           {
            "error_x": {
             "color": "#2a3f5f"
            },
            "error_y": {
             "color": "#2a3f5f"
            },
            "marker": {
             "line": {
              "color": "#E5ECF6",
              "width": 0.5
             },
             "pattern": {
              "fillmode": "overlay",
              "size": 10,
              "solidity": 0.2
             }
            },
            "type": "bar"
           }
          ],
          "barpolar": [
           {
            "marker": {
             "line": {
              "color": "#E5ECF6",
              "width": 0.5
             },
             "pattern": {
              "fillmode": "overlay",
              "size": 10,
              "solidity": 0.2
             }
            },
            "type": "barpolar"
           }
          ],
          "carpet": [
           {
            "aaxis": {
             "endlinecolor": "#2a3f5f",
             "gridcolor": "white",
             "linecolor": "white",
             "minorgridcolor": "white",
             "startlinecolor": "#2a3f5f"
            },
            "baxis": {
             "endlinecolor": "#2a3f5f",
             "gridcolor": "white",
             "linecolor": "white",
             "minorgridcolor": "white",
             "startlinecolor": "#2a3f5f"
            },
            "type": "carpet"
           }
          ],
          "choropleth": [
           {
            "colorbar": {
             "outlinewidth": 0,
             "ticks": ""
            },
            "type": "choropleth"
           }
          ],
          "contour": [
           {
            "colorbar": {
             "outlinewidth": 0,
             "ticks": ""
            },
            "colorscale": [
             [
              0,
              "#0d0887"
             ],
             [
              0.1111111111111111,
              "#46039f"
             ],
             [
              0.2222222222222222,
              "#7201a8"
             ],
             [
              0.3333333333333333,
              "#9c179e"
             ],
             [
              0.4444444444444444,
              "#bd3786"
             ],
             [
              0.5555555555555556,
              "#d8576b"
             ],
             [
              0.6666666666666666,
              "#ed7953"
             ],
             [
              0.7777777777777778,
              "#fb9f3a"
             ],
             [
              0.8888888888888888,
              "#fdca26"
             ],
             [
              1,
              "#f0f921"
             ]
            ],
            "type": "contour"
           }
          ],
          "contourcarpet": [
           {
            "colorbar": {
             "outlinewidth": 0,
             "ticks": ""
            },
            "type": "contourcarpet"
           }
          ],
          "heatmap": [
           {
            "colorbar": {
             "outlinewidth": 0,
             "ticks": ""
            },
            "colorscale": [
             [
              0,
              "#0d0887"
             ],
             [
              0.1111111111111111,
              "#46039f"
             ],
             [
              0.2222222222222222,
              "#7201a8"
             ],
             [
              0.3333333333333333,
              "#9c179e"
             ],
             [
              0.4444444444444444,
              "#bd3786"
             ],
             [
              0.5555555555555556,
              "#d8576b"
             ],
             [
              0.6666666666666666,
              "#ed7953"
             ],
             [
              0.7777777777777778,
              "#fb9f3a"
             ],
             [
              0.8888888888888888,
              "#fdca26"
             ],
             [
              1,
              "#f0f921"
             ]
            ],
            "type": "heatmap"
           }
          ],
          "histogram": [
           {
            "marker": {
             "pattern": {
              "fillmode": "overlay",
              "size": 10,
              "solidity": 0.2
             }
            },
            "type": "histogram"
           }
          ],
          "histogram2d": [
           {
            "colorbar": {
             "outlinewidth": 0,
             "ticks": ""
            },
            "colorscale": [
             [
              0,
              "#0d0887"
             ],
             [
              0.1111111111111111,
              "#46039f"
             ],
             [
              0.2222222222222222,
              "#7201a8"
             ],
             [
              0.3333333333333333,
              "#9c179e"
             ],
             [
              0.4444444444444444,
              "#bd3786"
             ],
             [
              0.5555555555555556,
              "#d8576b"
             ],
             [
              0.6666666666666666,
              "#ed7953"
             ],
             [
              0.7777777777777778,
              "#fb9f3a"
             ],
             [
              0.8888888888888888,
              "#fdca26"
             ],
             [
              1,
              "#f0f921"
             ]
            ],
            "type": "histogram2d"
           }
          ],
          "histogram2dcontour": [
           {
            "colorbar": {
             "outlinewidth": 0,
             "ticks": ""
            },
            "colorscale": [
             [
              0,
              "#0d0887"
             ],
             [
              0.1111111111111111,
              "#46039f"
             ],
             [
              0.2222222222222222,
              "#7201a8"
             ],
             [
              0.3333333333333333,
              "#9c179e"
             ],
             [
              0.4444444444444444,
              "#bd3786"
             ],
             [
              0.5555555555555556,
              "#d8576b"
             ],
             [
              0.6666666666666666,
              "#ed7953"
             ],
             [
              0.7777777777777778,
              "#fb9f3a"
             ],
             [
              0.8888888888888888,
              "#fdca26"
             ],
             [
              1,
              "#f0f921"
             ]
            ],
            "type": "histogram2dcontour"
           }
          ],
          "mesh3d": [
           {
            "colorbar": {
             "outlinewidth": 0,
             "ticks": ""
            },
            "type": "mesh3d"
           }
          ],
          "parcoords": [
           {
            "line": {
             "colorbar": {
              "outlinewidth": 0,
              "ticks": ""
             }
            },
            "type": "parcoords"
           }
          ],
          "pie": [
           {
            "automargin": true,
            "type": "pie"
           }
          ],
          "scatter": [
           {
            "fillpattern": {
             "fillmode": "overlay",
             "size": 10,
             "solidity": 0.2
            },
            "type": "scatter"
           }
          ],
          "scatter3d": [
           {
            "line": {
             "colorbar": {
              "outlinewidth": 0,
              "ticks": ""
             }
            },
            "marker": {
             "colorbar": {
              "outlinewidth": 0,
              "ticks": ""
             }
            },
            "type": "scatter3d"
           }
          ],
          "scattercarpet": [
           {
            "marker": {
             "colorbar": {
              "outlinewidth": 0,
              "ticks": ""
             }
            },
            "type": "scattercarpet"
           }
          ],
          "scattergeo": [
           {
            "marker": {
             "colorbar": {
              "outlinewidth": 0,
              "ticks": ""
             }
            },
            "type": "scattergeo"
           }
          ],
          "scattergl": [
           {
            "marker": {
             "colorbar": {
              "outlinewidth": 0,
              "ticks": ""
             }
            },
            "type": "scattergl"
           }
          ],
          "scattermap": [
           {
            "marker": {
             "colorbar": {
              "outlinewidth": 0,
              "ticks": ""
             }
            },
            "type": "scattermap"
           }
          ],
          "scattermapbox": [
           {
            "marker": {
             "colorbar": {
              "outlinewidth": 0,
              "ticks": ""
             }
            },
            "type": "scattermapbox"
           }
          ],
          "scatterpolar": [
           {
            "marker": {
             "colorbar": {
              "outlinewidth": 0,
              "ticks": ""
             }
            },
            "type": "scatterpolar"
           }
          ],
          "scatterpolargl": [
           {
            "marker": {
             "colorbar": {
              "outlinewidth": 0,
              "ticks": ""
             }
            },
            "type": "scatterpolargl"
           }
          ],
          "scatterternary": [
           {
            "marker": {
             "colorbar": {
              "outlinewidth": 0,
              "ticks": ""
             }
            },
            "type": "scatterternary"
           }
          ],
          "surface": [
           {
            "colorbar": {
             "outlinewidth": 0,
             "ticks": ""
            },
            "colorscale": [
             [
              0,
              "#0d0887"
             ],
             [
              0.1111111111111111,
              "#46039f"
             ],
             [
              0.2222222222222222,
              "#7201a8"
             ],
             [
              0.3333333333333333,
              "#9c179e"
             ],
             [
              0.4444444444444444,
              "#bd3786"
             ],
             [
              0.5555555555555556,
              "#d8576b"
             ],
             [
              0.6666666666666666,
              "#ed7953"
             ],
             [
              0.7777777777777778,
              "#fb9f3a"
             ],
             [
              0.8888888888888888,
              "#fdca26"
             ],
             [
              1,
              "#f0f921"
             ]
            ],
            "type": "surface"
           }
          ],
          "table": [
           {
            "cells": {
             "fill": {
              "color": "#EBF0F8"
             },
             "line": {
              "color": "white"
             }
            },
            "header": {
             "fill": {
              "color": "#C8D4E3"
             },
             "line": {
              "color": "white"
             }
            },
            "type": "table"
           }
          ]
         },
         "layout": {
          "annotationdefaults": {
           "arrowcolor": "#2a3f5f",
           "arrowhead": 0,
           "arrowwidth": 1
          },
          "autotypenumbers": "strict",
          "coloraxis": {
           "colorbar": {
            "outlinewidth": 0,
            "ticks": ""
           }
          },
          "colorscale": {
           "diverging": [
            [
             0,
             "#8e0152"
            ],
            [
             0.1,
             "#c51b7d"
            ],
            [
             0.2,
             "#de77ae"
            ],
            [
             0.3,
             "#f1b6da"
            ],
            [
             0.4,
             "#fde0ef"
            ],
            [
             0.5,
             "#f7f7f7"
            ],
            [
             0.6,
             "#e6f5d0"
            ],
            [
             0.7,
             "#b8e186"
            ],
            [
             0.8,
             "#7fbc41"
            ],
            [
             0.9,
             "#4d9221"
            ],
            [
             1,
             "#276419"
            ]
           ],
           "sequential": [
            [
             0,
             "#0d0887"
            ],
            [
             0.1111111111111111,
             "#46039f"
            ],
            [
             0.2222222222222222,
             "#7201a8"
            ],
            [
             0.3333333333333333,
             "#9c179e"
            ],
            [
             0.4444444444444444,
             "#bd3786"
            ],
            [
             0.5555555555555556,
             "#d8576b"
            ],
            [
             0.6666666666666666,
             "#ed7953"
            ],
            [
             0.7777777777777778,
             "#fb9f3a"
            ],
            [
             0.8888888888888888,
             "#fdca26"
            ],
            [
             1,
             "#f0f921"
            ]
           ],
           "sequentialminus": [
            [
             0,
             "#0d0887"
            ],
            [
             0.1111111111111111,
             "#46039f"
            ],
            [
             0.2222222222222222,
             "#7201a8"
            ],
            [
             0.3333333333333333,
             "#9c179e"
            ],
            [
             0.4444444444444444,
             "#bd3786"
            ],
            [
             0.5555555555555556,
             "#d8576b"
            ],
            [
             0.6666666666666666,
             "#ed7953"
            ],
            [
             0.7777777777777778,
             "#fb9f3a"
            ],
            [
             0.8888888888888888,
             "#fdca26"
            ],
            [
             1,
             "#f0f921"
            ]
           ]
          },
          "colorway": [
           "#636efa",
           "#EF553B",
           "#00cc96",
           "#ab63fa",
           "#FFA15A",
           "#19d3f3",
           "#FF6692",
           "#B6E880",
           "#FF97FF",
           "#FECB52"
          ],
          "font": {
           "color": "#2a3f5f"
          },
          "geo": {
           "bgcolor": "white",
           "lakecolor": "white",
           "landcolor": "#E5ECF6",
           "showlakes": true,
           "showland": true,
           "subunitcolor": "white"
          },
          "hoverlabel": {
           "align": "left"
          },
          "hovermode": "closest",
          "mapbox": {
           "style": "light"
          },
          "paper_bgcolor": "white",
          "plot_bgcolor": "#E5ECF6",
          "polar": {
           "angularaxis": {
            "gridcolor": "white",
            "linecolor": "white",
            "ticks": ""
           },
           "bgcolor": "#E5ECF6",
           "radialaxis": {
            "gridcolor": "white",
            "linecolor": "white",
            "ticks": ""
           }
          },
          "scene": {
           "xaxis": {
            "backgroundcolor": "#E5ECF6",
            "gridcolor": "white",
            "gridwidth": 2,
            "linecolor": "white",
            "showbackground": true,
            "ticks": "",
            "zerolinecolor": "white"
           },
           "yaxis": {
            "backgroundcolor": "#E5ECF6",
            "gridcolor": "white",
            "gridwidth": 2,
            "linecolor": "white",
            "showbackground": true,
            "ticks": "",
            "zerolinecolor": "white"
           },
           "zaxis": {
            "backgroundcolor": "#E5ECF6",
            "gridcolor": "white",
            "gridwidth": 2,
            "linecolor": "white",
            "showbackground": true,
            "ticks": "",
            "zerolinecolor": "white"
           }
          },
          "shapedefaults": {
           "line": {
            "color": "#2a3f5f"
           }
          },
          "ternary": {
           "aaxis": {
            "gridcolor": "white",
            "linecolor": "white",
            "ticks": ""
           },
           "baxis": {
            "gridcolor": "white",
            "linecolor": "white",
            "ticks": ""
           },
           "bgcolor": "#E5ECF6",
           "caxis": {
            "gridcolor": "white",
            "linecolor": "white",
            "ticks": ""
           }
          },
          "title": {
           "x": 0.05
          },
          "xaxis": {
           "automargin": true,
           "gridcolor": "white",
           "linecolor": "white",
           "ticks": "",
           "title": {
            "standoff": 15
           },
           "zerolinecolor": "white",
           "zerolinewidth": 2
          },
          "yaxis": {
           "automargin": true,
           "gridcolor": "white",
           "linecolor": "white",
           "ticks": "",
           "title": {
            "standoff": 15
           },
           "zerolinecolor": "white",
           "zerolinewidth": 2
          }
         }
        },
        "title": {
         "text": "Churn rate frequency to TotalCharges distribution"
        },
        "xaxis": {
         "anchor": "y",
         "domain": [
          0,
          1
         ],
         "title": {
          "text": "TotalCharges"
         }
        },
        "xaxis2": {
         "anchor": "y2",
         "domain": [
          0,
          1
         ],
         "matches": "x",
         "showgrid": true,
         "showticklabels": false
        },
        "yaxis": {
         "anchor": "x",
         "domain": [
          0,
          0.7326
         ],
         "title": {
          "text": "sum of Count"
         }
        },
        "yaxis2": {
         "anchor": "x2",
         "domain": [
          0.7426,
          1
         ],
         "matches": "y2",
         "showgrid": false,
         "showline": false,
         "showticklabels": false,
         "ticks": ""
        }
       }
      }
     },
     "metadata": {},
     "output_type": "display_data"
    }
   ],
   "source": [
    "hist('tenure')\n",
    "hist('MonthlyCharges')\n",
    "hist('TotalCharges')"
   ]
  },
  {
   "cell_type": "markdown",
   "id": "c4008668",
   "metadata": {},
   "source": [
    "**Customer account information**: The tenure histogram is rightly skewed and shows that majority of customers has been with the telecom company for just the first few months (0-9 months) and the highest rate of churn is also in that first few months (0-9months). 75% of customers who end up leaving Telcom company do so within their first 30 months. The monthly charge histogram shows that clients with higher monthly charges have a higher churn rate (This suggests that discounts and promotions can be an enticing reason for customers to stay). The total charge trend is quite depict due to variation in frequency. Lets bin the numeric features into 3 sections based on quantiles (low, medium and high to get more information from it)."
   ]
  },
  {
   "cell_type": "code",
   "execution_count": 30,
   "id": "6b646604",
   "metadata": {},
   "outputs": [
    {
     "name": "stderr",
     "output_type": "stream",
     "text": [
      "C:\\Users\\Asus\\AppData\\Local\\Temp\\ipykernel_19164\\1367734987.py:3: FutureWarning:\n",
      "\n",
      "The default of observed=False is deprecated and will be changed to True in a future version of pandas. Pass observed=False to retain current behavior or observed=True to adopt the future default and silence this warning.\n",
      "\n",
      "C:\\Users\\Asus\\AppData\\Local\\Temp\\ipykernel_19164\\1367734987.py:7: FutureWarning:\n",
      "\n",
      "Series.__getitem__ treating keys as positions is deprecated. In a future version, integer keys will always be treated as labels (consistent with DataFrame behavior). To access a value by position, use `ser.iloc[pos]`\n",
      "\n",
      "C:\\Users\\Asus\\AppData\\Local\\Temp\\ipykernel_19164\\1367734987.py:9: FutureWarning:\n",
      "\n",
      "Series.__getitem__ treating keys as positions is deprecated. In a future version, integer keys will always be treated as labels (consistent with DataFrame behavior). To access a value by position, use `ser.iloc[pos]`\n",
      "\n"
     ]
    },
    {
     "data": {
      "application/vnd.plotly.v1+json": {
       "config": {
        "plotlyServerURL": "https://plot.ly"
       },
       "data": [
        {
         "alignmentgroup": "True",
         "hovertemplate": "Churn=No<br>tenure_bins=%{x}<br>Count=%{y}<extra></extra>",
         "legendgroup": "No",
         "marker": {
          "color": "green",
          "pattern": {
           "shape": ""
          }
         },
         "name": "No",
         "offsetgroup": "No",
         "orientation": "v",
         "showlegend": true,
         "textposition": "auto",
         "type": "bar",
         "x": [
          "low",
          "medium",
          "high"
         ],
         "xaxis": "x",
         "y": {
          "bdata": "+AQdByEI",
          "dtype": "i2"
         },
         "yaxis": "y"
        },
        {
         "alignmentgroup": "True",
         "hovertemplate": "Churn=Yes<br>tenure_bins=%{x}<br>Count=%{y}<extra></extra>",
         "legendgroup": "Yes",
         "marker": {
          "color": "red",
          "pattern": {
           "shape": ""
          }
         },
         "name": "Yes",
         "offsetgroup": "Yes",
         "orientation": "v",
         "showlegend": true,
         "textposition": "auto",
         "type": "bar",
         "x": [
          "low",
          "medium",
          "high"
         ],
         "xaxis": "x",
         "y": {
          "bdata": "SwQkAt4A",
          "dtype": "i2"
         },
         "yaxis": "y"
        }
       ],
       "layout": {
        "annotations": [
         {
          "align": "left",
          "bordercolor": "black",
          "borderwidth": 1,
          "showarrow": false,
          "text": "Value count of distribution of low, medium & high are<br>33.7%, 33.6% & 32.7% percentage respectively.",
          "x": 1.4,
          "xref": "paper",
          "y": 1.3,
          "yref": "paper"
         }
        ],
        "barmode": "group",
        "legend": {
         "title": {
          "text": "Churn"
         },
         "tracegroupgap": 0
        },
        "margin": {
         "r": 400
        },
        "template": {
         "data": {
          "bar": [
           {
            "error_x": {
             "color": "#2a3f5f"
            },
            "error_y": {
             "color": "#2a3f5f"
            },
            "marker": {
             "line": {
              "color": "#E5ECF6",
              "width": 0.5
             },
             "pattern": {
              "fillmode": "overlay",
              "size": 10,
              "solidity": 0.2
             }
            },
            "type": "bar"
           }
          ],
          "barpolar": [
           {
            "marker": {
             "line": {
              "color": "#E5ECF6",
              "width": 0.5
             },
             "pattern": {
              "fillmode": "overlay",
              "size": 10,
              "solidity": 0.2
             }
            },
            "type": "barpolar"
           }
          ],
          "carpet": [
           {
            "aaxis": {
             "endlinecolor": "#2a3f5f",
             "gridcolor": "white",
             "linecolor": "white",
             "minorgridcolor": "white",
             "startlinecolor": "#2a3f5f"
            },
            "baxis": {
             "endlinecolor": "#2a3f5f",
             "gridcolor": "white",
             "linecolor": "white",
             "minorgridcolor": "white",
             "startlinecolor": "#2a3f5f"
            },
            "type": "carpet"
           }
          ],
          "choropleth": [
           {
            "colorbar": {
             "outlinewidth": 0,
             "ticks": ""
            },
            "type": "choropleth"
           }
          ],
          "contour": [
           {
            "colorbar": {
             "outlinewidth": 0,
             "ticks": ""
            },
            "colorscale": [
             [
              0,
              "#0d0887"
             ],
             [
              0.1111111111111111,
              "#46039f"
             ],
             [
              0.2222222222222222,
              "#7201a8"
             ],
             [
              0.3333333333333333,
              "#9c179e"
             ],
             [
              0.4444444444444444,
              "#bd3786"
             ],
             [
              0.5555555555555556,
              "#d8576b"
             ],
             [
              0.6666666666666666,
              "#ed7953"
             ],
             [
              0.7777777777777778,
              "#fb9f3a"
             ],
             [
              0.8888888888888888,
              "#fdca26"
             ],
             [
              1,
              "#f0f921"
             ]
            ],
            "type": "contour"
           }
          ],
          "contourcarpet": [
           {
            "colorbar": {
             "outlinewidth": 0,
             "ticks": ""
            },
            "type": "contourcarpet"
           }
          ],
          "heatmap": [
           {
            "colorbar": {
             "outlinewidth": 0,
             "ticks": ""
            },
            "colorscale": [
             [
              0,
              "#0d0887"
             ],
             [
              0.1111111111111111,
              "#46039f"
             ],
             [
              0.2222222222222222,
              "#7201a8"
             ],
             [
              0.3333333333333333,
              "#9c179e"
             ],
             [
              0.4444444444444444,
              "#bd3786"
             ],
             [
              0.5555555555555556,
              "#d8576b"
             ],
             [
              0.6666666666666666,
              "#ed7953"
             ],
             [
              0.7777777777777778,
              "#fb9f3a"
             ],
             [
              0.8888888888888888,
              "#fdca26"
             ],
             [
              1,
              "#f0f921"
             ]
            ],
            "type": "heatmap"
           }
          ],
          "histogram": [
           {
            "marker": {
             "pattern": {
              "fillmode": "overlay",
              "size": 10,
              "solidity": 0.2
             }
            },
            "type": "histogram"
           }
          ],
          "histogram2d": [
           {
            "colorbar": {
             "outlinewidth": 0,
             "ticks": ""
            },
            "colorscale": [
             [
              0,
              "#0d0887"
             ],
             [
              0.1111111111111111,
              "#46039f"
             ],
             [
              0.2222222222222222,
              "#7201a8"
             ],
             [
              0.3333333333333333,
              "#9c179e"
             ],
             [
              0.4444444444444444,
              "#bd3786"
             ],
             [
              0.5555555555555556,
              "#d8576b"
             ],
             [
              0.6666666666666666,
              "#ed7953"
             ],
             [
              0.7777777777777778,
              "#fb9f3a"
             ],
             [
              0.8888888888888888,
              "#fdca26"
             ],
             [
              1,
              "#f0f921"
             ]
            ],
            "type": "histogram2d"
           }
          ],
          "histogram2dcontour": [
           {
            "colorbar": {
             "outlinewidth": 0,
             "ticks": ""
            },
            "colorscale": [
             [
              0,
              "#0d0887"
             ],
             [
              0.1111111111111111,
              "#46039f"
             ],
             [
              0.2222222222222222,
              "#7201a8"
             ],
             [
              0.3333333333333333,
              "#9c179e"
             ],
             [
              0.4444444444444444,
              "#bd3786"
             ],
             [
              0.5555555555555556,
              "#d8576b"
             ],
             [
              0.6666666666666666,
              "#ed7953"
             ],
             [
              0.7777777777777778,
              "#fb9f3a"
             ],
             [
              0.8888888888888888,
              "#fdca26"
             ],
             [
              1,
              "#f0f921"
             ]
            ],
            "type": "histogram2dcontour"
           }
          ],
          "mesh3d": [
           {
            "colorbar": {
             "outlinewidth": 0,
             "ticks": ""
            },
            "type": "mesh3d"
           }
          ],
          "parcoords": [
           {
            "line": {
             "colorbar": {
              "outlinewidth": 0,
              "ticks": ""
             }
            },
            "type": "parcoords"
           }
          ],
          "pie": [
           {
            "automargin": true,
            "type": "pie"
           }
          ],
          "scatter": [
           {
            "fillpattern": {
             "fillmode": "overlay",
             "size": 10,
             "solidity": 0.2
            },
            "type": "scatter"
           }
          ],
          "scatter3d": [
           {
            "line": {
             "colorbar": {
              "outlinewidth": 0,
              "ticks": ""
             }
            },
            "marker": {
             "colorbar": {
              "outlinewidth": 0,
              "ticks": ""
             }
            },
            "type": "scatter3d"
           }
          ],
          "scattercarpet": [
           {
            "marker": {
             "colorbar": {
              "outlinewidth": 0,
              "ticks": ""
             }
            },
            "type": "scattercarpet"
           }
          ],
          "scattergeo": [
           {
            "marker": {
             "colorbar": {
              "outlinewidth": 0,
              "ticks": ""
             }
            },
            "type": "scattergeo"
           }
          ],
          "scattergl": [
           {
            "marker": {
             "colorbar": {
              "outlinewidth": 0,
              "ticks": ""
             }
            },
            "type": "scattergl"
           }
          ],
          "scattermap": [
           {
            "marker": {
             "colorbar": {
              "outlinewidth": 0,
              "ticks": ""
             }
            },
            "type": "scattermap"
           }
          ],
          "scattermapbox": [
           {
            "marker": {
             "colorbar": {
              "outlinewidth": 0,
              "ticks": ""
             }
            },
            "type": "scattermapbox"
           }
          ],
          "scatterpolar": [
           {
            "marker": {
             "colorbar": {
              "outlinewidth": 0,
              "ticks": ""
             }
            },
            "type": "scatterpolar"
           }
          ],
          "scatterpolargl": [
           {
            "marker": {
             "colorbar": {
              "outlinewidth": 0,
              "ticks": ""
             }
            },
            "type": "scatterpolargl"
           }
          ],
          "scatterternary": [
           {
            "marker": {
             "colorbar": {
              "outlinewidth": 0,
              "ticks": ""
             }
            },
            "type": "scatterternary"
           }
          ],
          "surface": [
           {
            "colorbar": {
             "outlinewidth": 0,
             "ticks": ""
            },
            "colorscale": [
             [
              0,
              "#0d0887"
             ],
             [
              0.1111111111111111,
              "#46039f"
             ],
             [
              0.2222222222222222,
              "#7201a8"
             ],
             [
              0.3333333333333333,
              "#9c179e"
             ],
             [
              0.4444444444444444,
              "#bd3786"
             ],
             [
              0.5555555555555556,
              "#d8576b"
             ],
             [
              0.6666666666666666,
              "#ed7953"
             ],
             [
              0.7777777777777778,
              "#fb9f3a"
             ],
             [
              0.8888888888888888,
              "#fdca26"
             ],
             [
              1,
              "#f0f921"
             ]
            ],
            "type": "surface"
           }
          ],
          "table": [
           {
            "cells": {
             "fill": {
              "color": "#EBF0F8"
             },
             "line": {
              "color": "white"
             }
            },
            "header": {
             "fill": {
              "color": "#C8D4E3"
             },
             "line": {
              "color": "white"
             }
            },
            "type": "table"
           }
          ]
         },
         "layout": {
          "annotationdefaults": {
           "arrowcolor": "#2a3f5f",
           "arrowhead": 0,
           "arrowwidth": 1
          },
          "autotypenumbers": "strict",
          "coloraxis": {
           "colorbar": {
            "outlinewidth": 0,
            "ticks": ""
           }
          },
          "colorscale": {
           "diverging": [
            [
             0,
             "#8e0152"
            ],
            [
             0.1,
             "#c51b7d"
            ],
            [
             0.2,
             "#de77ae"
            ],
            [
             0.3,
             "#f1b6da"
            ],
            [
             0.4,
             "#fde0ef"
            ],
            [
             0.5,
             "#f7f7f7"
            ],
            [
             0.6,
             "#e6f5d0"
            ],
            [
             0.7,
             "#b8e186"
            ],
            [
             0.8,
             "#7fbc41"
            ],
            [
             0.9,
             "#4d9221"
            ],
            [
             1,
             "#276419"
            ]
           ],
           "sequential": [
            [
             0,
             "#0d0887"
            ],
            [
             0.1111111111111111,
             "#46039f"
            ],
            [
             0.2222222222222222,
             "#7201a8"
            ],
            [
             0.3333333333333333,
             "#9c179e"
            ],
            [
             0.4444444444444444,
             "#bd3786"
            ],
            [
             0.5555555555555556,
             "#d8576b"
            ],
            [
             0.6666666666666666,
             "#ed7953"
            ],
            [
             0.7777777777777778,
             "#fb9f3a"
            ],
            [
             0.8888888888888888,
             "#fdca26"
            ],
            [
             1,
             "#f0f921"
            ]
           ],
           "sequentialminus": [
            [
             0,
             "#0d0887"
            ],
            [
             0.1111111111111111,
             "#46039f"
            ],
            [
             0.2222222222222222,
             "#7201a8"
            ],
            [
             0.3333333333333333,
             "#9c179e"
            ],
            [
             0.4444444444444444,
             "#bd3786"
            ],
            [
             0.5555555555555556,
             "#d8576b"
            ],
            [
             0.6666666666666666,
             "#ed7953"
            ],
            [
             0.7777777777777778,
             "#fb9f3a"
            ],
            [
             0.8888888888888888,
             "#fdca26"
            ],
            [
             1,
             "#f0f921"
            ]
           ]
          },
          "colorway": [
           "#636efa",
           "#EF553B",
           "#00cc96",
           "#ab63fa",
           "#FFA15A",
           "#19d3f3",
           "#FF6692",
           "#B6E880",
           "#FF97FF",
           "#FECB52"
          ],
          "font": {
           "color": "#2a3f5f"
          },
          "geo": {
           "bgcolor": "white",
           "lakecolor": "white",
           "landcolor": "#E5ECF6",
           "showlakes": true,
           "showland": true,
           "subunitcolor": "white"
          },
          "hoverlabel": {
           "align": "left"
          },
          "hovermode": "closest",
          "mapbox": {
           "style": "light"
          },
          "paper_bgcolor": "white",
          "plot_bgcolor": "#E5ECF6",
          "polar": {
           "angularaxis": {
            "gridcolor": "white",
            "linecolor": "white",
            "ticks": ""
           },
           "bgcolor": "#E5ECF6",
           "radialaxis": {
            "gridcolor": "white",
            "linecolor": "white",
            "ticks": ""
           }
          },
          "scene": {
           "xaxis": {
            "backgroundcolor": "#E5ECF6",
            "gridcolor": "white",
            "gridwidth": 2,
            "linecolor": "white",
            "showbackground": true,
            "ticks": "",
            "zerolinecolor": "white"
           },
           "yaxis": {
            "backgroundcolor": "#E5ECF6",
            "gridcolor": "white",
            "gridwidth": 2,
            "linecolor": "white",
            "showbackground": true,
            "ticks": "",
            "zerolinecolor": "white"
           },
           "zaxis": {
            "backgroundcolor": "#E5ECF6",
            "gridcolor": "white",
            "gridwidth": 2,
            "linecolor": "white",
            "showbackground": true,
            "ticks": "",
            "zerolinecolor": "white"
           }
          },
          "shapedefaults": {
           "line": {
            "color": "#2a3f5f"
           }
          },
          "ternary": {
           "aaxis": {
            "gridcolor": "white",
            "linecolor": "white",
            "ticks": ""
           },
           "baxis": {
            "gridcolor": "white",
            "linecolor": "white",
            "ticks": ""
           },
           "bgcolor": "#E5ECF6",
           "caxis": {
            "gridcolor": "white",
            "linecolor": "white",
            "ticks": ""
           }
          },
          "title": {
           "x": 0.05
          },
          "xaxis": {
           "automargin": true,
           "gridcolor": "white",
           "linecolor": "white",
           "ticks": "",
           "title": {
            "standoff": 15
           },
           "zerolinecolor": "white",
           "zerolinewidth": 2
          },
          "yaxis": {
           "automargin": true,
           "gridcolor": "white",
           "linecolor": "white",
           "ticks": "",
           "title": {
            "standoff": 15
           },
           "zerolinecolor": "white",
           "zerolinewidth": 2
          }
         }
        },
        "title": {
         "text": "Churn rate by tenure_bins"
        },
        "xaxis": {
         "anchor": "y",
         "domain": [
          0,
          1
         ],
         "title": {
          "text": "tenure_bins"
         }
        },
        "yaxis": {
         "anchor": "x",
         "domain": [
          0,
          1
         ],
         "title": {
          "text": "Count"
         }
        }
       }
      }
     },
     "metadata": {},
     "output_type": "display_data"
    },
    {
     "name": "stderr",
     "output_type": "stream",
     "text": [
      "C:\\Users\\Asus\\AppData\\Local\\Temp\\ipykernel_19164\\1367734987.py:3: FutureWarning:\n",
      "\n",
      "The default of observed=False is deprecated and will be changed to True in a future version of pandas. Pass observed=False to retain current behavior or observed=True to adopt the future default and silence this warning.\n",
      "\n",
      "C:\\Users\\Asus\\AppData\\Local\\Temp\\ipykernel_19164\\1367734987.py:7: FutureWarning:\n",
      "\n",
      "Series.__getitem__ treating keys as positions is deprecated. In a future version, integer keys will always be treated as labels (consistent with DataFrame behavior). To access a value by position, use `ser.iloc[pos]`\n",
      "\n",
      "C:\\Users\\Asus\\AppData\\Local\\Temp\\ipykernel_19164\\1367734987.py:9: FutureWarning:\n",
      "\n",
      "Series.__getitem__ treating keys as positions is deprecated. In a future version, integer keys will always be treated as labels (consistent with DataFrame behavior). To access a value by position, use `ser.iloc[pos]`\n",
      "\n"
     ]
    },
    {
     "data": {
      "application/vnd.plotly.v1+json": {
       "config": {
        "plotlyServerURL": "https://plot.ly"
       },
       "data": [
        {
         "alignmentgroup": "True",
         "hovertemplate": "Churn=No<br>MonthlyCharges_bins=%{x}<br>Count=%{y}<extra></extra>",
         "legendgroup": "No",
         "marker": {
          "color": "green",
          "pattern": {
           "shape": ""
          }
         },
         "name": "No",
         "offsetgroup": "No",
         "orientation": "v",
         "showlegend": true,
         "textposition": "auto",
         "type": "bar",
         "x": [
          "low",
          "medium",
          "high"
         ],
         "xaxis": "x",
         "y": {
          "bdata": "ugdxBgsG",
          "dtype": "i2"
         },
         "yaxis": "y"
        },
        {
         "alignmentgroup": "True",
         "hovertemplate": "Churn=Yes<br>MonthlyCharges_bins=%{x}<br>Count=%{y}<extra></extra>",
         "legendgroup": "Yes",
         "marker": {
          "color": "red",
          "pattern": {
           "shape": ""
          }
         },
         "name": "Yes",
         "offsetgroup": "Yes",
         "orientation": "v",
         "showlegend": true,
         "textposition": "auto",
         "type": "bar",
         "x": [
          "low",
          "medium",
          "high"
         ],
         "xaxis": "x",
         "y": {
          "bdata": "dQG4AiAD",
          "dtype": "i2"
         },
         "yaxis": "y"
        }
       ],
       "layout": {
        "annotations": [
         {
          "align": "left",
          "bordercolor": "black",
          "borderwidth": 1,
          "showarrow": false,
          "text": "Value count of distribution of low, high & medium are<br>33.4%, 33.3% & 33.3% percentage respectively.",
          "x": 1.4,
          "xref": "paper",
          "y": 1.3,
          "yref": "paper"
         }
        ],
        "barmode": "group",
        "legend": {
         "title": {
          "text": "Churn"
         },
         "tracegroupgap": 0
        },
        "margin": {
         "r": 400
        },
        "template": {
         "data": {
          "bar": [
           {
            "error_x": {
             "color": "#2a3f5f"
            },
            "error_y": {
             "color": "#2a3f5f"
            },
            "marker": {
             "line": {
              "color": "#E5ECF6",
              "width": 0.5
             },
             "pattern": {
              "fillmode": "overlay",
              "size": 10,
              "solidity": 0.2
             }
            },
            "type": "bar"
           }
          ],
          "barpolar": [
           {
            "marker": {
             "line": {
              "color": "#E5ECF6",
              "width": 0.5
             },
             "pattern": {
              "fillmode": "overlay",
              "size": 10,
              "solidity": 0.2
             }
            },
            "type": "barpolar"
           }
          ],
          "carpet": [
           {
            "aaxis": {
             "endlinecolor": "#2a3f5f",
             "gridcolor": "white",
             "linecolor": "white",
             "minorgridcolor": "white",
             "startlinecolor": "#2a3f5f"
            },
            "baxis": {
             "endlinecolor": "#2a3f5f",
             "gridcolor": "white",
             "linecolor": "white",
             "minorgridcolor": "white",
             "startlinecolor": "#2a3f5f"
            },
            "type": "carpet"
           }
          ],
          "choropleth": [
           {
            "colorbar": {
             "outlinewidth": 0,
             "ticks": ""
            },
            "type": "choropleth"
           }
          ],
          "contour": [
           {
            "colorbar": {
             "outlinewidth": 0,
             "ticks": ""
            },
            "colorscale": [
             [
              0,
              "#0d0887"
             ],
             [
              0.1111111111111111,
              "#46039f"
             ],
             [
              0.2222222222222222,
              "#7201a8"
             ],
             [
              0.3333333333333333,
              "#9c179e"
             ],
             [
              0.4444444444444444,
              "#bd3786"
             ],
             [
              0.5555555555555556,
              "#d8576b"
             ],
             [
              0.6666666666666666,
              "#ed7953"
             ],
             [
              0.7777777777777778,
              "#fb9f3a"
             ],
             [
              0.8888888888888888,
              "#fdca26"
             ],
             [
              1,
              "#f0f921"
             ]
            ],
            "type": "contour"
           }
          ],
          "contourcarpet": [
           {
            "colorbar": {
             "outlinewidth": 0,
             "ticks": ""
            },
            "type": "contourcarpet"
           }
          ],
          "heatmap": [
           {
            "colorbar": {
             "outlinewidth": 0,
             "ticks": ""
            },
            "colorscale": [
             [
              0,
              "#0d0887"
             ],
             [
              0.1111111111111111,
              "#46039f"
             ],
             [
              0.2222222222222222,
              "#7201a8"
             ],
             [
              0.3333333333333333,
              "#9c179e"
             ],
             [
              0.4444444444444444,
              "#bd3786"
             ],
             [
              0.5555555555555556,
              "#d8576b"
             ],
             [
              0.6666666666666666,
              "#ed7953"
             ],
             [
              0.7777777777777778,
              "#fb9f3a"
             ],
             [
              0.8888888888888888,
              "#fdca26"
             ],
             [
              1,
              "#f0f921"
             ]
            ],
            "type": "heatmap"
           }
          ],
          "histogram": [
           {
            "marker": {
             "pattern": {
              "fillmode": "overlay",
              "size": 10,
              "solidity": 0.2
             }
            },
            "type": "histogram"
           }
          ],
          "histogram2d": [
           {
            "colorbar": {
             "outlinewidth": 0,
             "ticks": ""
            },
            "colorscale": [
             [
              0,
              "#0d0887"
             ],
             [
              0.1111111111111111,
              "#46039f"
             ],
             [
              0.2222222222222222,
              "#7201a8"
             ],
             [
              0.3333333333333333,
              "#9c179e"
             ],
             [
              0.4444444444444444,
              "#bd3786"
             ],
             [
              0.5555555555555556,
              "#d8576b"
             ],
             [
              0.6666666666666666,
              "#ed7953"
             ],
             [
              0.7777777777777778,
              "#fb9f3a"
             ],
             [
              0.8888888888888888,
              "#fdca26"
             ],
             [
              1,
              "#f0f921"
             ]
            ],
            "type": "histogram2d"
           }
          ],
          "histogram2dcontour": [
           {
            "colorbar": {
             "outlinewidth": 0,
             "ticks": ""
            },
            "colorscale": [
             [
              0,
              "#0d0887"
             ],
             [
              0.1111111111111111,
              "#46039f"
             ],
             [
              0.2222222222222222,
              "#7201a8"
             ],
             [
              0.3333333333333333,
              "#9c179e"
             ],
             [
              0.4444444444444444,
              "#bd3786"
             ],
             [
              0.5555555555555556,
              "#d8576b"
             ],
             [
              0.6666666666666666,
              "#ed7953"
             ],
             [
              0.7777777777777778,
              "#fb9f3a"
             ],
             [
              0.8888888888888888,
              "#fdca26"
             ],
             [
              1,
              "#f0f921"
             ]
            ],
            "type": "histogram2dcontour"
           }
          ],
          "mesh3d": [
           {
            "colorbar": {
             "outlinewidth": 0,
             "ticks": ""
            },
            "type": "mesh3d"
           }
          ],
          "parcoords": [
           {
            "line": {
             "colorbar": {
              "outlinewidth": 0,
              "ticks": ""
             }
            },
            "type": "parcoords"
           }
          ],
          "pie": [
           {
            "automargin": true,
            "type": "pie"
           }
          ],
          "scatter": [
           {
            "fillpattern": {
             "fillmode": "overlay",
             "size": 10,
             "solidity": 0.2
            },
            "type": "scatter"
           }
          ],
          "scatter3d": [
           {
            "line": {
             "colorbar": {
              "outlinewidth": 0,
              "ticks": ""
             }
            },
            "marker": {
             "colorbar": {
              "outlinewidth": 0,
              "ticks": ""
             }
            },
            "type": "scatter3d"
           }
          ],
          "scattercarpet": [
           {
            "marker": {
             "colorbar": {
              "outlinewidth": 0,
              "ticks": ""
             }
            },
            "type": "scattercarpet"
           }
          ],
          "scattergeo": [
           {
            "marker": {
             "colorbar": {
              "outlinewidth": 0,
              "ticks": ""
             }
            },
            "type": "scattergeo"
           }
          ],
          "scattergl": [
           {
            "marker": {
             "colorbar": {
              "outlinewidth": 0,
              "ticks": ""
             }
            },
            "type": "scattergl"
           }
          ],
          "scattermap": [
           {
            "marker": {
             "colorbar": {
              "outlinewidth": 0,
              "ticks": ""
             }
            },
            "type": "scattermap"
           }
          ],
          "scattermapbox": [
           {
            "marker": {
             "colorbar": {
              "outlinewidth": 0,
              "ticks": ""
             }
            },
            "type": "scattermapbox"
           }
          ],
          "scatterpolar": [
           {
            "marker": {
             "colorbar": {
              "outlinewidth": 0,
              "ticks": ""
             }
            },
            "type": "scatterpolar"
           }
          ],
          "scatterpolargl": [
           {
            "marker": {
             "colorbar": {
              "outlinewidth": 0,
              "ticks": ""
             }
            },
            "type": "scatterpolargl"
           }
          ],
          "scatterternary": [
           {
            "marker": {
             "colorbar": {
              "outlinewidth": 0,
              "ticks": ""
             }
            },
            "type": "scatterternary"
           }
          ],
          "surface": [
           {
            "colorbar": {
             "outlinewidth": 0,
             "ticks": ""
            },
            "colorscale": [
             [
              0,
              "#0d0887"
             ],
             [
              0.1111111111111111,
              "#46039f"
             ],
             [
              0.2222222222222222,
              "#7201a8"
             ],
             [
              0.3333333333333333,
              "#9c179e"
             ],
             [
              0.4444444444444444,
              "#bd3786"
             ],
             [
              0.5555555555555556,
              "#d8576b"
             ],
             [
              0.6666666666666666,
              "#ed7953"
             ],
             [
              0.7777777777777778,
              "#fb9f3a"
             ],
             [
              0.8888888888888888,
              "#fdca26"
             ],
             [
              1,
              "#f0f921"
             ]
            ],
            "type": "surface"
           }
          ],
          "table": [
           {
            "cells": {
             "fill": {
              "color": "#EBF0F8"
             },
             "line": {
              "color": "white"
             }
            },
            "header": {
             "fill": {
              "color": "#C8D4E3"
             },
             "line": {
              "color": "white"
             }
            },
            "type": "table"
           }
          ]
         },
         "layout": {
          "annotationdefaults": {
           "arrowcolor": "#2a3f5f",
           "arrowhead": 0,
           "arrowwidth": 1
          },
          "autotypenumbers": "strict",
          "coloraxis": {
           "colorbar": {
            "outlinewidth": 0,
            "ticks": ""
           }
          },
          "colorscale": {
           "diverging": [
            [
             0,
             "#8e0152"
            ],
            [
             0.1,
             "#c51b7d"
            ],
            [
             0.2,
             "#de77ae"
            ],
            [
             0.3,
             "#f1b6da"
            ],
            [
             0.4,
             "#fde0ef"
            ],
            [
             0.5,
             "#f7f7f7"
            ],
            [
             0.6,
             "#e6f5d0"
            ],
            [
             0.7,
             "#b8e186"
            ],
            [
             0.8,
             "#7fbc41"
            ],
            [
             0.9,
             "#4d9221"
            ],
            [
             1,
             "#276419"
            ]
           ],
           "sequential": [
            [
             0,
             "#0d0887"
            ],
            [
             0.1111111111111111,
             "#46039f"
            ],
            [
             0.2222222222222222,
             "#7201a8"
            ],
            [
             0.3333333333333333,
             "#9c179e"
            ],
            [
             0.4444444444444444,
             "#bd3786"
            ],
            [
             0.5555555555555556,
             "#d8576b"
            ],
            [
             0.6666666666666666,
             "#ed7953"
            ],
            [
             0.7777777777777778,
             "#fb9f3a"
            ],
            [
             0.8888888888888888,
             "#fdca26"
            ],
            [
             1,
             "#f0f921"
            ]
           ],
           "sequentialminus": [
            [
             0,
             "#0d0887"
            ],
            [
             0.1111111111111111,
             "#46039f"
            ],
            [
             0.2222222222222222,
             "#7201a8"
            ],
            [
             0.3333333333333333,
             "#9c179e"
            ],
            [
             0.4444444444444444,
             "#bd3786"
            ],
            [
             0.5555555555555556,
             "#d8576b"
            ],
            [
             0.6666666666666666,
             "#ed7953"
            ],
            [
             0.7777777777777778,
             "#fb9f3a"
            ],
            [
             0.8888888888888888,
             "#fdca26"
            ],
            [
             1,
             "#f0f921"
            ]
           ]
          },
          "colorway": [
           "#636efa",
           "#EF553B",
           "#00cc96",
           "#ab63fa",
           "#FFA15A",
           "#19d3f3",
           "#FF6692",
           "#B6E880",
           "#FF97FF",
           "#FECB52"
          ],
          "font": {
           "color": "#2a3f5f"
          },
          "geo": {
           "bgcolor": "white",
           "lakecolor": "white",
           "landcolor": "#E5ECF6",
           "showlakes": true,
           "showland": true,
           "subunitcolor": "white"
          },
          "hoverlabel": {
           "align": "left"
          },
          "hovermode": "closest",
          "mapbox": {
           "style": "light"
          },
          "paper_bgcolor": "white",
          "plot_bgcolor": "#E5ECF6",
          "polar": {
           "angularaxis": {
            "gridcolor": "white",
            "linecolor": "white",
            "ticks": ""
           },
           "bgcolor": "#E5ECF6",
           "radialaxis": {
            "gridcolor": "white",
            "linecolor": "white",
            "ticks": ""
           }
          },
          "scene": {
           "xaxis": {
            "backgroundcolor": "#E5ECF6",
            "gridcolor": "white",
            "gridwidth": 2,
            "linecolor": "white",
            "showbackground": true,
            "ticks": "",
            "zerolinecolor": "white"
           },
           "yaxis": {
            "backgroundcolor": "#E5ECF6",
            "gridcolor": "white",
            "gridwidth": 2,
            "linecolor": "white",
            "showbackground": true,
            "ticks": "",
            "zerolinecolor": "white"
           },
           "zaxis": {
            "backgroundcolor": "#E5ECF6",
            "gridcolor": "white",
            "gridwidth": 2,
            "linecolor": "white",
            "showbackground": true,
            "ticks": "",
            "zerolinecolor": "white"
           }
          },
          "shapedefaults": {
           "line": {
            "color": "#2a3f5f"
           }
          },
          "ternary": {
           "aaxis": {
            "gridcolor": "white",
            "linecolor": "white",
            "ticks": ""
           },
           "baxis": {
            "gridcolor": "white",
            "linecolor": "white",
            "ticks": ""
           },
           "bgcolor": "#E5ECF6",
           "caxis": {
            "gridcolor": "white",
            "linecolor": "white",
            "ticks": ""
           }
          },
          "title": {
           "x": 0.05
          },
          "xaxis": {
           "automargin": true,
           "gridcolor": "white",
           "linecolor": "white",
           "ticks": "",
           "title": {
            "standoff": 15
           },
           "zerolinecolor": "white",
           "zerolinewidth": 2
          },
          "yaxis": {
           "automargin": true,
           "gridcolor": "white",
           "linecolor": "white",
           "ticks": "",
           "title": {
            "standoff": 15
           },
           "zerolinecolor": "white",
           "zerolinewidth": 2
          }
         }
        },
        "title": {
         "text": "Churn rate by MonthlyCharges_bins"
        },
        "xaxis": {
         "anchor": "y",
         "domain": [
          0,
          1
         ],
         "title": {
          "text": "MonthlyCharges_bins"
         }
        },
        "yaxis": {
         "anchor": "x",
         "domain": [
          0,
          1
         ],
         "title": {
          "text": "Count"
         }
        }
       }
      }
     },
     "metadata": {},
     "output_type": "display_data"
    },
    {
     "name": "stderr",
     "output_type": "stream",
     "text": [
      "C:\\Users\\Asus\\AppData\\Local\\Temp\\ipykernel_19164\\1367734987.py:3: FutureWarning:\n",
      "\n",
      "The default of observed=False is deprecated and will be changed to True in a future version of pandas. Pass observed=False to retain current behavior or observed=True to adopt the future default and silence this warning.\n",
      "\n",
      "C:\\Users\\Asus\\AppData\\Local\\Temp\\ipykernel_19164\\1367734987.py:7: FutureWarning:\n",
      "\n",
      "Series.__getitem__ treating keys as positions is deprecated. In a future version, integer keys will always be treated as labels (consistent with DataFrame behavior). To access a value by position, use `ser.iloc[pos]`\n",
      "\n",
      "C:\\Users\\Asus\\AppData\\Local\\Temp\\ipykernel_19164\\1367734987.py:9: FutureWarning:\n",
      "\n",
      "Series.__getitem__ treating keys as positions is deprecated. In a future version, integer keys will always be treated as labels (consistent with DataFrame behavior). To access a value by position, use `ser.iloc[pos]`\n",
      "\n"
     ]
    },
    {
     "data": {
      "application/vnd.plotly.v1+json": {
       "config": {
        "plotlyServerURL": "https://plot.ly"
       },
       "data": [
        {
         "alignmentgroup": "True",
         "hovertemplate": "Churn=No<br>TotalCharges_bins=%{x}<br>Count=%{y}<extra></extra>",
         "legendgroup": "No",
         "marker": {
          "color": "green",
          "pattern": {
           "shape": ""
          }
         },
         "name": "No",
         "offsetgroup": "No",
         "orientation": "v",
         "showlegend": true,
         "textposition": "auto",
         "type": "bar",
         "x": [
          "low",
          "medium",
          "high"
         ],
         "xaxis": "x",
         "y": {
          "bdata": "jgUAB6gH",
          "dtype": "i2"
         },
         "yaxis": "y"
        },
        {
         "alignmentgroup": "True",
         "hovertemplate": "Churn=Yes<br>TotalCharges_bins=%{x}<br>Count=%{y}<extra></extra>",
         "legendgroup": "Yes",
         "marker": {
          "color": "red",
          "pattern": {
           "shape": ""
          }
         },
         "name": "Yes",
         "offsetgroup": "Yes",
         "orientation": "v",
         "showlegend": true,
         "textposition": "auto",
         "type": "bar",
         "x": [
          "low",
          "medium",
          "high"
         ],
         "xaxis": "x",
         "y": {
          "bdata": "ngMrAoQB",
          "dtype": "i2"
         },
         "yaxis": "y"
        }
       ],
       "layout": {
        "annotations": [
         {
          "align": "left",
          "bordercolor": "black",
          "borderwidth": 1,
          "showarrow": false,
          "text": "Value count of distribution of low, high & medium are<br>33.3%, 33.3% & 33.3% percentage respectively.",
          "x": 1.4,
          "xref": "paper",
          "y": 1.3,
          "yref": "paper"
         }
        ],
        "barmode": "group",
        "legend": {
         "title": {
          "text": "Churn"
         },
         "tracegroupgap": 0
        },
        "margin": {
         "r": 400
        },
        "template": {
         "data": {
          "bar": [
           {
            "error_x": {
             "color": "#2a3f5f"
            },
            "error_y": {
             "color": "#2a3f5f"
            },
            "marker": {
             "line": {
              "color": "#E5ECF6",
              "width": 0.5
             },
             "pattern": {
              "fillmode": "overlay",
              "size": 10,
              "solidity": 0.2
             }
            },
            "type": "bar"
           }
          ],
          "barpolar": [
           {
            "marker": {
             "line": {
              "color": "#E5ECF6",
              "width": 0.5
             },
             "pattern": {
              "fillmode": "overlay",
              "size": 10,
              "solidity": 0.2
             }
            },
            "type": "barpolar"
           }
          ],
          "carpet": [
           {
            "aaxis": {
             "endlinecolor": "#2a3f5f",
             "gridcolor": "white",
             "linecolor": "white",
             "minorgridcolor": "white",
             "startlinecolor": "#2a3f5f"
            },
            "baxis": {
             "endlinecolor": "#2a3f5f",
             "gridcolor": "white",
             "linecolor": "white",
             "minorgridcolor": "white",
             "startlinecolor": "#2a3f5f"
            },
            "type": "carpet"
           }
          ],
          "choropleth": [
           {
            "colorbar": {
             "outlinewidth": 0,
             "ticks": ""
            },
            "type": "choropleth"
           }
          ],
          "contour": [
           {
            "colorbar": {
             "outlinewidth": 0,
             "ticks": ""
            },
            "colorscale": [
             [
              0,
              "#0d0887"
             ],
             [
              0.1111111111111111,
              "#46039f"
             ],
             [
              0.2222222222222222,
              "#7201a8"
             ],
             [
              0.3333333333333333,
              "#9c179e"
             ],
             [
              0.4444444444444444,
              "#bd3786"
             ],
             [
              0.5555555555555556,
              "#d8576b"
             ],
             [
              0.6666666666666666,
              "#ed7953"
             ],
             [
              0.7777777777777778,
              "#fb9f3a"
             ],
             [
              0.8888888888888888,
              "#fdca26"
             ],
             [
              1,
              "#f0f921"
             ]
            ],
            "type": "contour"
           }
          ],
          "contourcarpet": [
           {
            "colorbar": {
             "outlinewidth": 0,
             "ticks": ""
            },
            "type": "contourcarpet"
           }
          ],
          "heatmap": [
           {
            "colorbar": {
             "outlinewidth": 0,
             "ticks": ""
            },
            "colorscale": [
             [
              0,
              "#0d0887"
             ],
             [
              0.1111111111111111,
              "#46039f"
             ],
             [
              0.2222222222222222,
              "#7201a8"
             ],
             [
              0.3333333333333333,
              "#9c179e"
             ],
             [
              0.4444444444444444,
              "#bd3786"
             ],
             [
              0.5555555555555556,
              "#d8576b"
             ],
             [
              0.6666666666666666,
              "#ed7953"
             ],
             [
              0.7777777777777778,
              "#fb9f3a"
             ],
             [
              0.8888888888888888,
              "#fdca26"
             ],
             [
              1,
              "#f0f921"
             ]
            ],
            "type": "heatmap"
           }
          ],
          "histogram": [
           {
            "marker": {
             "pattern": {
              "fillmode": "overlay",
              "size": 10,
              "solidity": 0.2
             }
            },
            "type": "histogram"
           }
          ],
          "histogram2d": [
           {
            "colorbar": {
             "outlinewidth": 0,
             "ticks": ""
            },
            "colorscale": [
             [
              0,
              "#0d0887"
             ],
             [
              0.1111111111111111,
              "#46039f"
             ],
             [
              0.2222222222222222,
              "#7201a8"
             ],
             [
              0.3333333333333333,
              "#9c179e"
             ],
             [
              0.4444444444444444,
              "#bd3786"
             ],
             [
              0.5555555555555556,
              "#d8576b"
             ],
             [
              0.6666666666666666,
              "#ed7953"
             ],
             [
              0.7777777777777778,
              "#fb9f3a"
             ],
             [
              0.8888888888888888,
              "#fdca26"
             ],
             [
              1,
              "#f0f921"
             ]
            ],
            "type": "histogram2d"
           }
          ],
          "histogram2dcontour": [
           {
            "colorbar": {
             "outlinewidth": 0,
             "ticks": ""
            },
            "colorscale": [
             [
              0,
              "#0d0887"
             ],
             [
              0.1111111111111111,
              "#46039f"
             ],
             [
              0.2222222222222222,
              "#7201a8"
             ],
             [
              0.3333333333333333,
              "#9c179e"
             ],
             [
              0.4444444444444444,
              "#bd3786"
             ],
             [
              0.5555555555555556,
              "#d8576b"
             ],
             [
              0.6666666666666666,
              "#ed7953"
             ],
             [
              0.7777777777777778,
              "#fb9f3a"
             ],
             [
              0.8888888888888888,
              "#fdca26"
             ],
             [
              1,
              "#f0f921"
             ]
            ],
            "type": "histogram2dcontour"
           }
          ],
          "mesh3d": [
           {
            "colorbar": {
             "outlinewidth": 0,
             "ticks": ""
            },
            "type": "mesh3d"
           }
          ],
          "parcoords": [
           {
            "line": {
             "colorbar": {
              "outlinewidth": 0,
              "ticks": ""
             }
            },
            "type": "parcoords"
           }
          ],
          "pie": [
           {
            "automargin": true,
            "type": "pie"
           }
          ],
          "scatter": [
           {
            "fillpattern": {
             "fillmode": "overlay",
             "size": 10,
             "solidity": 0.2
            },
            "type": "scatter"
           }
          ],
          "scatter3d": [
           {
            "line": {
             "colorbar": {
              "outlinewidth": 0,
              "ticks": ""
             }
            },
            "marker": {
             "colorbar": {
              "outlinewidth": 0,
              "ticks": ""
             }
            },
            "type": "scatter3d"
           }
          ],
          "scattercarpet": [
           {
            "marker": {
             "colorbar": {
              "outlinewidth": 0,
              "ticks": ""
             }
            },
            "type": "scattercarpet"
           }
          ],
          "scattergeo": [
           {
            "marker": {
             "colorbar": {
              "outlinewidth": 0,
              "ticks": ""
             }
            },
            "type": "scattergeo"
           }
          ],
          "scattergl": [
           {
            "marker": {
             "colorbar": {
              "outlinewidth": 0,
              "ticks": ""
             }
            },
            "type": "scattergl"
           }
          ],
          "scattermap": [
           {
            "marker": {
             "colorbar": {
              "outlinewidth": 0,
              "ticks": ""
             }
            },
            "type": "scattermap"
           }
          ],
          "scattermapbox": [
           {
            "marker": {
             "colorbar": {
              "outlinewidth": 0,
              "ticks": ""
             }
            },
            "type": "scattermapbox"
           }
          ],
          "scatterpolar": [
           {
            "marker": {
             "colorbar": {
              "outlinewidth": 0,
              "ticks": ""
             }
            },
            "type": "scatterpolar"
           }
          ],
          "scatterpolargl": [
           {
            "marker": {
             "colorbar": {
              "outlinewidth": 0,
              "ticks": ""
             }
            },
            "type": "scatterpolargl"
           }
          ],
          "scatterternary": [
           {
            "marker": {
             "colorbar": {
              "outlinewidth": 0,
              "ticks": ""
             }
            },
            "type": "scatterternary"
           }
          ],
          "surface": [
           {
            "colorbar": {
             "outlinewidth": 0,
             "ticks": ""
            },
            "colorscale": [
             [
              0,
              "#0d0887"
             ],
             [
              0.1111111111111111,
              "#46039f"
             ],
             [
              0.2222222222222222,
              "#7201a8"
             ],
             [
              0.3333333333333333,
              "#9c179e"
             ],
             [
              0.4444444444444444,
              "#bd3786"
             ],
             [
              0.5555555555555556,
              "#d8576b"
             ],
             [
              0.6666666666666666,
              "#ed7953"
             ],
             [
              0.7777777777777778,
              "#fb9f3a"
             ],
             [
              0.8888888888888888,
              "#fdca26"
             ],
             [
              1,
              "#f0f921"
             ]
            ],
            "type": "surface"
           }
          ],
          "table": [
           {
            "cells": {
             "fill": {
              "color": "#EBF0F8"
             },
             "line": {
              "color": "white"
             }
            },
            "header": {
             "fill": {
              "color": "#C8D4E3"
             },
             "line": {
              "color": "white"
             }
            },
            "type": "table"
           }
          ]
         },
         "layout": {
          "annotationdefaults": {
           "arrowcolor": "#2a3f5f",
           "arrowhead": 0,
           "arrowwidth": 1
          },
          "autotypenumbers": "strict",
          "coloraxis": {
           "colorbar": {
            "outlinewidth": 0,
            "ticks": ""
           }
          },
          "colorscale": {
           "diverging": [
            [
             0,
             "#8e0152"
            ],
            [
             0.1,
             "#c51b7d"
            ],
            [
             0.2,
             "#de77ae"
            ],
            [
             0.3,
             "#f1b6da"
            ],
            [
             0.4,
             "#fde0ef"
            ],
            [
             0.5,
             "#f7f7f7"
            ],
            [
             0.6,
             "#e6f5d0"
            ],
            [
             0.7,
             "#b8e186"
            ],
            [
             0.8,
             "#7fbc41"
            ],
            [
             0.9,
             "#4d9221"
            ],
            [
             1,
             "#276419"
            ]
           ],
           "sequential": [
            [
             0,
             "#0d0887"
            ],
            [
             0.1111111111111111,
             "#46039f"
            ],
            [
             0.2222222222222222,
             "#7201a8"
            ],
            [
             0.3333333333333333,
             "#9c179e"
            ],
            [
             0.4444444444444444,
             "#bd3786"
            ],
            [
             0.5555555555555556,
             "#d8576b"
            ],
            [
             0.6666666666666666,
             "#ed7953"
            ],
            [
             0.7777777777777778,
             "#fb9f3a"
            ],
            [
             0.8888888888888888,
             "#fdca26"
            ],
            [
             1,
             "#f0f921"
            ]
           ],
           "sequentialminus": [
            [
             0,
             "#0d0887"
            ],
            [
             0.1111111111111111,
             "#46039f"
            ],
            [
             0.2222222222222222,
             "#7201a8"
            ],
            [
             0.3333333333333333,
             "#9c179e"
            ],
            [
             0.4444444444444444,
             "#bd3786"
            ],
            [
             0.5555555555555556,
             "#d8576b"
            ],
            [
             0.6666666666666666,
             "#ed7953"
            ],
            [
             0.7777777777777778,
             "#fb9f3a"
            ],
            [
             0.8888888888888888,
             "#fdca26"
            ],
            [
             1,
             "#f0f921"
            ]
           ]
          },
          "colorway": [
           "#636efa",
           "#EF553B",
           "#00cc96",
           "#ab63fa",
           "#FFA15A",
           "#19d3f3",
           "#FF6692",
           "#B6E880",
           "#FF97FF",
           "#FECB52"
          ],
          "font": {
           "color": "#2a3f5f"
          },
          "geo": {
           "bgcolor": "white",
           "lakecolor": "white",
           "landcolor": "#E5ECF6",
           "showlakes": true,
           "showland": true,
           "subunitcolor": "white"
          },
          "hoverlabel": {
           "align": "left"
          },
          "hovermode": "closest",
          "mapbox": {
           "style": "light"
          },
          "paper_bgcolor": "white",
          "plot_bgcolor": "#E5ECF6",
          "polar": {
           "angularaxis": {
            "gridcolor": "white",
            "linecolor": "white",
            "ticks": ""
           },
           "bgcolor": "#E5ECF6",
           "radialaxis": {
            "gridcolor": "white",
            "linecolor": "white",
            "ticks": ""
           }
          },
          "scene": {
           "xaxis": {
            "backgroundcolor": "#E5ECF6",
            "gridcolor": "white",
            "gridwidth": 2,
            "linecolor": "white",
            "showbackground": true,
            "ticks": "",
            "zerolinecolor": "white"
           },
           "yaxis": {
            "backgroundcolor": "#E5ECF6",
            "gridcolor": "white",
            "gridwidth": 2,
            "linecolor": "white",
            "showbackground": true,
            "ticks": "",
            "zerolinecolor": "white"
           },
           "zaxis": {
            "backgroundcolor": "#E5ECF6",
            "gridcolor": "white",
            "gridwidth": 2,
            "linecolor": "white",
            "showbackground": true,
            "ticks": "",
            "zerolinecolor": "white"
           }
          },
          "shapedefaults": {
           "line": {
            "color": "#2a3f5f"
           }
          },
          "ternary": {
           "aaxis": {
            "gridcolor": "white",
            "linecolor": "white",
            "ticks": ""
           },
           "baxis": {
            "gridcolor": "white",
            "linecolor": "white",
            "ticks": ""
           },
           "bgcolor": "#E5ECF6",
           "caxis": {
            "gridcolor": "white",
            "linecolor": "white",
            "ticks": ""
           }
          },
          "title": {
           "x": 0.05
          },
          "xaxis": {
           "automargin": true,
           "gridcolor": "white",
           "linecolor": "white",
           "ticks": "",
           "title": {
            "standoff": 15
           },
           "zerolinecolor": "white",
           "zerolinewidth": 2
          },
          "yaxis": {
           "automargin": true,
           "gridcolor": "white",
           "linecolor": "white",
           "ticks": "",
           "title": {
            "standoff": 15
           },
           "zerolinecolor": "white",
           "zerolinewidth": 2
          }
         }
        },
        "title": {
         "text": "Churn rate by TotalCharges_bins"
        },
        "xaxis": {
         "anchor": "y",
         "domain": [
          0,
          1
         ],
         "title": {
          "text": "TotalCharges_bins"
         }
        },
        "yaxis": {
         "anchor": "x",
         "domain": [
          0,
          1
         ],
         "title": {
          "text": "Count"
         }
        }
       }
      }
     },
     "metadata": {},
     "output_type": "display_data"
    }
   ],
   "source": [
    "#Create an empty dataframe\n",
    "bin_df = pd.DataFrame()\n",
    "\n",
    "#Update the binning dataframe\n",
    "bin_df['tenure_bins'] =  pd.qcut(data_df['tenure'], q=3, labels= ['low', 'medium', 'high'])\n",
    "bin_df['MonthlyCharges_bins'] =  pd.qcut(data_df['MonthlyCharges'], q=3, labels= ['low', 'medium', 'high'])\n",
    "bin_df['TotalCharges_bins'] =  pd.qcut(data_df['TotalCharges'], q=3, labels= ['low', 'medium', 'high'])\n",
    "bin_df['Churn'] = data_df['Churn']\n",
    "\n",
    "#Plot the bar chart of the binned variables\n",
    "bar('tenure_bins', bin_df)\n",
    "bar('MonthlyCharges_bins', bin_df)\n",
    "bar('TotalCharges_bins', bin_df)"
   ]
  },
  {
   "cell_type": "code",
   "execution_count": null,
   "id": "a4871d34",
   "metadata": {},
   "outputs": [],
   "source": []
  }
 ],
 "metadata": {
  "kernelspec": {
   "display_name": "Python 3",
   "language": "python",
   "name": "python3"
  },
  "language_info": {
   "codemirror_mode": {
    "name": "ipython",
    "version": 3
   },
   "file_extension": ".py",
   "mimetype": "text/x-python",
   "name": "python",
   "nbconvert_exporter": "python",
   "pygments_lexer": "ipython3",
   "version": "3.13.1"
  }
 },
 "nbformat": 4,
 "nbformat_minor": 5
}
