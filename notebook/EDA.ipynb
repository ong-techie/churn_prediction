{
 "cells": [
  {
   "cell_type": "code",
   "execution_count": 18,
   "id": "157280f4",
   "metadata": {},
   "outputs": [
    {
     "name": "stdout",
     "output_type": "stream",
     "text": [
      "Overview of the dataset:n\n",
      "Number of rows:  7043\n",
      "nNumber of features: 21\n",
      "nData Features:\n",
      "['customerID', 'gender', 'SeniorCitizen', 'Partner', 'Dependents', 'tenure', 'PhoneService', 'MultipleLines', 'InternetService', 'OnlineSecurity', 'OnlineBackup', 'DeviceProtection', 'TechSupport', 'StreamingTV', 'StreamingMovies', 'Contract', 'PaperlessBilling', 'PaymentMethod', 'MonthlyCharges', 'TotalCharges', 'Churn']\n",
      "nMissing values: 0\n",
      "nUnique values:\n",
      "customerID          7043\n",
      "gender                 2\n",
      "SeniorCitizen          2\n",
      "Partner                2\n",
      "Dependents             2\n",
      "tenure                73\n",
      "PhoneService           2\n",
      "MultipleLines          3\n",
      "InternetService        3\n",
      "OnlineSecurity         3\n",
      "OnlineBackup           3\n",
      "DeviceProtection       3\n",
      "TechSupport            3\n",
      "StreamingTV            3\n",
      "StreamingMovies        3\n",
      "Contract               3\n",
      "PaperlessBilling       2\n",
      "PaymentMethod          4\n",
      "MonthlyCharges      1585\n",
      "TotalCharges        6531\n",
      "Churn                  2\n",
      "dtype: int64\n"
     ]
    }
   ],
   "source": [
    "#Import libraries\n",
    "import numpy as np # linear algebra\n",
    "import pandas as pd # data processing, CSV file I/O (e.g. pd.read_csv)\n",
    "pd.set_option('display.max_columns', None)\n",
    "\n",
    "import plotly.express as px #for visualization\n",
    "import matplotlib.pyplot as plt #for visualization \n",
    "\n",
    "#Read the dataset\n",
    "data_df = pd.read_csv(\"../data/churn.csv\")\n",
    "\n",
    "#Get overview of the data\n",
    "def dataoveriew(df, message):\n",
    "    print(f'{message}:n')\n",
    "    print('Number of rows: ', df.shape[0])\n",
    "    print(\"nNumber of features:\", df.shape[1])\n",
    "    print(\"nData Features:\")\n",
    "    print(df.columns.tolist())\n",
    "    print(\"nMissing values:\", df.isnull().sum().values.sum())\n",
    "    print(\"nUnique values:\")\n",
    "    print(df.nunique())\n",
    "\n",
    "dataoveriew(data_df, 'Overview of the dataset')"
   ]
  },
  {
   "cell_type": "markdown",
   "id": "93c2ea4e",
   "metadata": {},
   "source": [
    "The dataset has 7043 rows and 21 columns. \n",
    "\n",
    "There are 17 categorical features:\n",
    "\n",
    "* CustomerID: Customer ID unique for each customer\n",
    "* gender: Whether the customer is a male or a female\n",
    "* SeniorCitizen: Whether the customer is a senior citizen or not (1, 0)\n",
    "* Partner: Whether the customer has a partner or not (Yes, No)\n",
    "* Dependent: Whether the customer has dependents or not (Yes, No)\n",
    "* PhoneService: Whether the customer has a phone service or not (Yes, No)\n",
    "* MultipeLines: Whether the customer has multiple lines or not (Yes, No, No phone service)\n",
    "* InternetService: Customer’s internet service provider (DSL, Fiber optic, No)\n",
    "* OnlineSecurity: Whether the customer has online security or not (Yes, No, No internet service)\n",
    "* OnlineBackup: Whether the customer has an online backup or not (Yes, No, No internet service)\n",
    "* DeviceProtection: Whether the customer has device protection or not (Yes, No, No internet service)\n",
    "* TechSupport: Whether the customer has tech support or not (Yes, No, No internet service)\n",
    "* StreamingTV: Whether the customer has streaming TV or not (Yes, No, No internet service)\n",
    "* StreamingMovies: Whether the customer has streaming movies or not (Yes, No, No internet service)\n",
    "* Contract: The contract term of the customer (Month-to-month, One year, Two years)\n",
    "* PaperlessBilling: The contract term of the customer (Month-to-month, One year, Two years)\n",
    "* PaymentMethod: The customer’s payment method (Electronic check, Mailed check, Bank transfer (automatic), Credit card (automatic))\n",
    "---\n",
    "* 3 numerical features:\n",
    "* Tenure: Number of months the customer has stayed with the company\n",
    "* MonthlyCharges: The amount charged to the customer monthly\n",
    "* TotalCharges: The total amount charged to the customer\n",
    "---\n",
    "\n",
    "* prediction feature:\n",
    "* Churn: Whether the customer churned or not (Yes or No)\n",
    "---\n",
    "* These features can also be subdivided into:\n",
    "* Demographic customer information: gender , SeniorCitizen , Partner , Dependents\n",
    "* Services that each customer has signed up for: PhoneService , MultipleLines , InternetService , OnlineSecurity , OnlineBackup , DeviceProtection , TechSupport , StreamingTV , StreamingMovies\n",
    "* Customer account information: tenure , Contract , PaperlessBilling , PaymentMethod , MonthlyCharges , TotalCharges"
   ]
  },
  {
   "cell_type": "markdown",
   "id": "42b76251",
   "metadata": {},
   "source": [
    "# Explore Target Variable"
   ]
  },
  {
   "cell_type": "code",
   "execution_count": 19,
   "id": "6f596652",
   "metadata": {},
   "outputs": [
    {
     "data": {
      "application/vnd.plotly.v1+json": {
       "config": {
        "plotlyServerURL": "https://plot.ly"
       },
       "data": [
        {
         "domain": {
          "x": [
           0,
           1
          ],
          "y": [
           0,
           1
          ]
         },
         "hovertemplate": "Category=%{label}<br>Count=%{value}<extra></extra>",
         "labels": [
          "No",
          "Yes"
         ],
         "legendgroup": "",
         "name": "",
         "showlegend": true,
         "type": "pie",
         "values": {
          "bdata": "NhRNBw==",
          "dtype": "i2"
         }
        }
       ],
       "layout": {
        "legend": {
         "tracegroupgap": 0
        },
        "piecolorway": [
         "green",
         "red"
        ],
        "template": {
         "data": {
          "bar": [
           {
            "error_x": {
             "color": "#2a3f5f"
            },
            "error_y": {
             "color": "#2a3f5f"
            },
            "marker": {
             "line": {
              "color": "#E5ECF6",
              "width": 0.5
             },
             "pattern": {
              "fillmode": "overlay",
              "size": 10,
              "solidity": 0.2
             }
            },
            "type": "bar"
           }
          ],
          "barpolar": [
           {
            "marker": {
             "line": {
              "color": "#E5ECF6",
              "width": 0.5
             },
             "pattern": {
              "fillmode": "overlay",
              "size": 10,
              "solidity": 0.2
             }
            },
            "type": "barpolar"
           }
          ],
          "carpet": [
           {
            "aaxis": {
             "endlinecolor": "#2a3f5f",
             "gridcolor": "white",
             "linecolor": "white",
             "minorgridcolor": "white",
             "startlinecolor": "#2a3f5f"
            },
            "baxis": {
             "endlinecolor": "#2a3f5f",
             "gridcolor": "white",
             "linecolor": "white",
             "minorgridcolor": "white",
             "startlinecolor": "#2a3f5f"
            },
            "type": "carpet"
           }
          ],
          "choropleth": [
           {
            "colorbar": {
             "outlinewidth": 0,
             "ticks": ""
            },
            "type": "choropleth"
           }
          ],
          "contour": [
           {
            "colorbar": {
             "outlinewidth": 0,
             "ticks": ""
            },
            "colorscale": [
             [
              0,
              "#0d0887"
             ],
             [
              0.1111111111111111,
              "#46039f"
             ],
             [
              0.2222222222222222,
              "#7201a8"
             ],
             [
              0.3333333333333333,
              "#9c179e"
             ],
             [
              0.4444444444444444,
              "#bd3786"
             ],
             [
              0.5555555555555556,
              "#d8576b"
             ],
             [
              0.6666666666666666,
              "#ed7953"
             ],
             [
              0.7777777777777778,
              "#fb9f3a"
             ],
             [
              0.8888888888888888,
              "#fdca26"
             ],
             [
              1,
              "#f0f921"
             ]
            ],
            "type": "contour"
           }
          ],
          "contourcarpet": [
           {
            "colorbar": {
             "outlinewidth": 0,
             "ticks": ""
            },
            "type": "contourcarpet"
           }
          ],
          "heatmap": [
           {
            "colorbar": {
             "outlinewidth": 0,
             "ticks": ""
            },
            "colorscale": [
             [
              0,
              "#0d0887"
             ],
             [
              0.1111111111111111,
              "#46039f"
             ],
             [
              0.2222222222222222,
              "#7201a8"
             ],
             [
              0.3333333333333333,
              "#9c179e"
             ],
             [
              0.4444444444444444,
              "#bd3786"
             ],
             [
              0.5555555555555556,
              "#d8576b"
             ],
             [
              0.6666666666666666,
              "#ed7953"
             ],
             [
              0.7777777777777778,
              "#fb9f3a"
             ],
             [
              0.8888888888888888,
              "#fdca26"
             ],
             [
              1,
              "#f0f921"
             ]
            ],
            "type": "heatmap"
           }
          ],
          "histogram": [
           {
            "marker": {
             "pattern": {
              "fillmode": "overlay",
              "size": 10,
              "solidity": 0.2
             }
            },
            "type": "histogram"
           }
          ],
          "histogram2d": [
           {
            "colorbar": {
             "outlinewidth": 0,
             "ticks": ""
            },
            "colorscale": [
             [
              0,
              "#0d0887"
             ],
             [
              0.1111111111111111,
              "#46039f"
             ],
             [
              0.2222222222222222,
              "#7201a8"
             ],
             [
              0.3333333333333333,
              "#9c179e"
             ],
             [
              0.4444444444444444,
              "#bd3786"
             ],
             [
              0.5555555555555556,
              "#d8576b"
             ],
             [
              0.6666666666666666,
              "#ed7953"
             ],
             [
              0.7777777777777778,
              "#fb9f3a"
             ],
             [
              0.8888888888888888,
              "#fdca26"
             ],
             [
              1,
              "#f0f921"
             ]
            ],
            "type": "histogram2d"
           }
          ],
          "histogram2dcontour": [
           {
            "colorbar": {
             "outlinewidth": 0,
             "ticks": ""
            },
            "colorscale": [
             [
              0,
              "#0d0887"
             ],
             [
              0.1111111111111111,
              "#46039f"
             ],
             [
              0.2222222222222222,
              "#7201a8"
             ],
             [
              0.3333333333333333,
              "#9c179e"
             ],
             [
              0.4444444444444444,
              "#bd3786"
             ],
             [
              0.5555555555555556,
              "#d8576b"
             ],
             [
              0.6666666666666666,
              "#ed7953"
             ],
             [
              0.7777777777777778,
              "#fb9f3a"
             ],
             [
              0.8888888888888888,
              "#fdca26"
             ],
             [
              1,
              "#f0f921"
             ]
            ],
            "type": "histogram2dcontour"
           }
          ],
          "mesh3d": [
           {
            "colorbar": {
             "outlinewidth": 0,
             "ticks": ""
            },
            "type": "mesh3d"
           }
          ],
          "parcoords": [
           {
            "line": {
             "colorbar": {
              "outlinewidth": 0,
              "ticks": ""
             }
            },
            "type": "parcoords"
           }
          ],
          "pie": [
           {
            "automargin": true,
            "type": "pie"
           }
          ],
          "scatter": [
           {
            "fillpattern": {
             "fillmode": "overlay",
             "size": 10,
             "solidity": 0.2
            },
            "type": "scatter"
           }
          ],
          "scatter3d": [
           {
            "line": {
             "colorbar": {
              "outlinewidth": 0,
              "ticks": ""
             }
            },
            "marker": {
             "colorbar": {
              "outlinewidth": 0,
              "ticks": ""
             }
            },
            "type": "scatter3d"
           }
          ],
          "scattercarpet": [
           {
            "marker": {
             "colorbar": {
              "outlinewidth": 0,
              "ticks": ""
             }
            },
            "type": "scattercarpet"
           }
          ],
          "scattergeo": [
           {
            "marker": {
             "colorbar": {
              "outlinewidth": 0,
              "ticks": ""
             }
            },
            "type": "scattergeo"
           }
          ],
          "scattergl": [
           {
            "marker": {
             "colorbar": {
              "outlinewidth": 0,
              "ticks": ""
             }
            },
            "type": "scattergl"
           }
          ],
          "scattermap": [
           {
            "marker": {
             "colorbar": {
              "outlinewidth": 0,
              "ticks": ""
             }
            },
            "type": "scattermap"
           }
          ],
          "scattermapbox": [
           {
            "marker": {
             "colorbar": {
              "outlinewidth": 0,
              "ticks": ""
             }
            },
            "type": "scattermapbox"
           }
          ],
          "scatterpolar": [
           {
            "marker": {
             "colorbar": {
              "outlinewidth": 0,
              "ticks": ""
             }
            },
            "type": "scatterpolar"
           }
          ],
          "scatterpolargl": [
           {
            "marker": {
             "colorbar": {
              "outlinewidth": 0,
              "ticks": ""
             }
            },
            "type": "scatterpolargl"
           }
          ],
          "scatterternary": [
           {
            "marker": {
             "colorbar": {
              "outlinewidth": 0,
              "ticks": ""
             }
            },
            "type": "scatterternary"
           }
          ],
          "surface": [
           {
            "colorbar": {
             "outlinewidth": 0,
             "ticks": ""
            },
            "colorscale": [
             [
              0,
              "#0d0887"
             ],
             [
              0.1111111111111111,
              "#46039f"
             ],
             [
              0.2222222222222222,
              "#7201a8"
             ],
             [
              0.3333333333333333,
              "#9c179e"
             ],
             [
              0.4444444444444444,
              "#bd3786"
             ],
             [
              0.5555555555555556,
              "#d8576b"
             ],
             [
              0.6666666666666666,
              "#ed7953"
             ],
             [
              0.7777777777777778,
              "#fb9f3a"
             ],
             [
              0.8888888888888888,
              "#fdca26"
             ],
             [
              1,
              "#f0f921"
             ]
            ],
            "type": "surface"
           }
          ],
          "table": [
           {
            "cells": {
             "fill": {
              "color": "#EBF0F8"
             },
             "line": {
              "color": "white"
             }
            },
            "header": {
             "fill": {
              "color": "#C8D4E3"
             },
             "line": {
              "color": "white"
             }
            },
            "type": "table"
           }
          ]
         },
         "layout": {
          "annotationdefaults": {
           "arrowcolor": "#2a3f5f",
           "arrowhead": 0,
           "arrowwidth": 1
          },
          "autotypenumbers": "strict",
          "coloraxis": {
           "colorbar": {
            "outlinewidth": 0,
            "ticks": ""
           }
          },
          "colorscale": {
           "diverging": [
            [
             0,
             "#8e0152"
            ],
            [
             0.1,
             "#c51b7d"
            ],
            [
             0.2,
             "#de77ae"
            ],
            [
             0.3,
             "#f1b6da"
            ],
            [
             0.4,
             "#fde0ef"
            ],
            [
             0.5,
             "#f7f7f7"
            ],
            [
             0.6,
             "#e6f5d0"
            ],
            [
             0.7,
             "#b8e186"
            ],
            [
             0.8,
             "#7fbc41"
            ],
            [
             0.9,
             "#4d9221"
            ],
            [
             1,
             "#276419"
            ]
           ],
           "sequential": [
            [
             0,
             "#0d0887"
            ],
            [
             0.1111111111111111,
             "#46039f"
            ],
            [
             0.2222222222222222,
             "#7201a8"
            ],
            [
             0.3333333333333333,
             "#9c179e"
            ],
            [
             0.4444444444444444,
             "#bd3786"
            ],
            [
             0.5555555555555556,
             "#d8576b"
            ],
            [
             0.6666666666666666,
             "#ed7953"
            ],
            [
             0.7777777777777778,
             "#fb9f3a"
            ],
            [
             0.8888888888888888,
             "#fdca26"
            ],
            [
             1,
             "#f0f921"
            ]
           ],
           "sequentialminus": [
            [
             0,
             "#0d0887"
            ],
            [
             0.1111111111111111,
             "#46039f"
            ],
            [
             0.2222222222222222,
             "#7201a8"
            ],
            [
             0.3333333333333333,
             "#9c179e"
            ],
            [
             0.4444444444444444,
             "#bd3786"
            ],
            [
             0.5555555555555556,
             "#d8576b"
            ],
            [
             0.6666666666666666,
             "#ed7953"
            ],
            [
             0.7777777777777778,
             "#fb9f3a"
            ],
            [
             0.8888888888888888,
             "#fdca26"
            ],
            [
             1,
             "#f0f921"
            ]
           ]
          },
          "colorway": [
           "#636efa",
           "#EF553B",
           "#00cc96",
           "#ab63fa",
           "#FFA15A",
           "#19d3f3",
           "#FF6692",
           "#B6E880",
           "#FF97FF",
           "#FECB52"
          ],
          "font": {
           "color": "#2a3f5f"
          },
          "geo": {
           "bgcolor": "white",
           "lakecolor": "white",
           "landcolor": "#E5ECF6",
           "showlakes": true,
           "showland": true,
           "subunitcolor": "white"
          },
          "hoverlabel": {
           "align": "left"
          },
          "hovermode": "closest",
          "mapbox": {
           "style": "light"
          },
          "paper_bgcolor": "white",
          "plot_bgcolor": "#E5ECF6",
          "polar": {
           "angularaxis": {
            "gridcolor": "white",
            "linecolor": "white",
            "ticks": ""
           },
           "bgcolor": "#E5ECF6",
           "radialaxis": {
            "gridcolor": "white",
            "linecolor": "white",
            "ticks": ""
           }
          },
          "scene": {
           "xaxis": {
            "backgroundcolor": "#E5ECF6",
            "gridcolor": "white",
            "gridwidth": 2,
            "linecolor": "white",
            "showbackground": true,
            "ticks": "",
            "zerolinecolor": "white"
           },
           "yaxis": {
            "backgroundcolor": "#E5ECF6",
            "gridcolor": "white",
            "gridwidth": 2,
            "linecolor": "white",
            "showbackground": true,
            "ticks": "",
            "zerolinecolor": "white"
           },
           "zaxis": {
            "backgroundcolor": "#E5ECF6",
            "gridcolor": "white",
            "gridwidth": 2,
            "linecolor": "white",
            "showbackground": true,
            "ticks": "",
            "zerolinecolor": "white"
           }
          },
          "shapedefaults": {
           "line": {
            "color": "#2a3f5f"
           }
          },
          "ternary": {
           "aaxis": {
            "gridcolor": "white",
            "linecolor": "white",
            "ticks": ""
           },
           "baxis": {
            "gridcolor": "white",
            "linecolor": "white",
            "ticks": ""
           },
           "bgcolor": "#E5ECF6",
           "caxis": {
            "gridcolor": "white",
            "linecolor": "white",
            "ticks": ""
           }
          },
          "title": {
           "x": 0.05
          },
          "xaxis": {
           "automargin": true,
           "gridcolor": "white",
           "linecolor": "white",
           "ticks": "",
           "title": {
            "standoff": 15
           },
           "zerolinecolor": "white",
           "zerolinewidth": 2
          },
          "yaxis": {
           "automargin": true,
           "gridcolor": "white",
           "linecolor": "white",
           "ticks": "",
           "title": {
            "standoff": 15
           },
           "zerolinecolor": "white",
           "zerolinewidth": 2
          }
         }
        },
        "title": {
         "text": "Distribution of Churn"
        }
       }
      }
     },
     "metadata": {},
     "output_type": "display_data"
    }
   ],
   "source": [
    "#Visualize the distribution of the target variable\n",
    "target_instance = data_df[\"Churn\"].value_counts().reset_index()\n",
    "target_instance.columns = ['Category', 'Count']  # Set unique column names\n",
    "fig = px.pie(target_instance, values='Count', names='Category', color_discrete_sequence=[\"green\", \"red\"], title='Distribution of Churn')\n",
    "fig.show()\n"
   ]
  },
  {
   "cell_type": "markdown",
   "id": "5f0f3929",
   "metadata": {},
   "source": [
    "We are trying to predict users that left the company in the previous month. It is a binary classification problem with an unbalance target.\n",
    "\n",
    "* Churn: No - 73.5%\n",
    "* Churn: Yes - 26.5%\n",
    "\n",
    "# Explore Categorical features"
   ]
  },
  {
   "cell_type": "code",
   "execution_count": 20,
   "id": "0e644e9c",
   "metadata": {},
   "outputs": [],
   "source": [
    "def bar(feature, df=data_df ):\n",
    "    #Groupby the categorical feature\n",
    "    temp_df = df.groupby([feature, 'Churn']).size().reset_index()\n",
    "    temp_df = temp_df.rename(columns={0:'Count'})\n",
    "    #Calculate the value counts of each distribution and it's corresponding Percentages\n",
    "    value_counts_df = df[feature].value_counts().to_frame().reset_index()\n",
    "    categories = [cat[1][0] for cat in value_counts_df.iterrows()]\n",
    "    #Calculate the value counts of each distribution and it's corresponding Percentages\n",
    "    num_list = [num[1][1] for num in value_counts_df.iterrows()]\n",
    "    div_list = [element / sum(num_list) for element in num_list]\n",
    "    percentage = [round(element * 100,1) for element in div_list]\n",
    "    #Defining string formatting for graph annotation\n",
    "    #Numeric section\n",
    "    def num_format(list_instance):\n",
    "        formatted_str = ''\n",
    "        for index,num in enumerate(list_instance):\n",
    "            if index < len(list_instance)-2:\n",
    "                formatted_str=formatted_str+f'{num}%, ' #append to empty string(formatted_str)\n",
    "            elif index == len(list_instance)-2:\n",
    "                formatted_str=formatted_str+f'{num}% & '\n",
    "            else:\n",
    "                formatted_str=formatted_str+f'{num}%'\n",
    "        return formatted_str\n",
    "    #Categorical section\n",
    "    def str_format(list_instance):\n",
    "        formatted_str = ''\n",
    "        for index, cat in enumerate(list_instance):\n",
    "            if index < len(list_instance)-2:\n",
    "                formatted_str=formatted_str+f'{cat}, '\n",
    "            elif index == len(list_instance)-2:\n",
    "                formatted_str=formatted_str+f'{cat} & '\n",
    "            else:\n",
    "                formatted_str=formatted_str+f'{cat}'\n",
    "        return formatted_str\n",
    "    #Running the formatting functions\n",
    "    num_str = num_format(percentage)\n",
    "    cat_str = str_format(categories)\n",
    "\n",
    "    #Setting graph framework\n",
    "    fig = px.bar(temp_df, x=feature, y='Count', color='Churn', title=f'Churn rate by {feature}', barmode=\"group\", color_discrete_sequence=[\"green\", \"red\"])\n",
    "    fig.add_annotation(\n",
    "                text=f'Value count of distribution of {cat_str} are<br>{num_str} percentage respectively.',\n",
    "                align='left',\n",
    "                showarrow=False,\n",
    "                xref='paper',\n",
    "                yref='paper',\n",
    "                x=1.4,\n",
    "                y=1.3,\n",
    "                bordercolor='black',\n",
    "                borderwidth=1)\n",
    "    fig.update_layout(\n",
    "        # margin space for the annotations on the right\n",
    "        margin=dict(r=400),\n",
    "    )\n",
    "\n",
    "    return fig.show()"
   ]
  },
  {
   "cell_type": "code",
   "execution_count": 21,
   "id": "0c5226f9",
   "metadata": {},
   "outputs": [
    {
     "name": "stderr",
     "output_type": "stream",
     "text": [
      "C:\\Users\\Asus\\AppData\\Local\\Temp\\ipykernel_19164\\1367734987.py:7: FutureWarning:\n",
      "\n",
      "Series.__getitem__ treating keys as positions is deprecated. In a future version, integer keys will always be treated as labels (consistent with DataFrame behavior). To access a value by position, use `ser.iloc[pos]`\n",
      "\n",
      "C:\\Users\\Asus\\AppData\\Local\\Temp\\ipykernel_19164\\1367734987.py:9: FutureWarning:\n",
      "\n",
      "Series.__getitem__ treating keys as positions is deprecated. In a future version, integer keys will always be treated as labels (consistent with DataFrame behavior). To access a value by position, use `ser.iloc[pos]`\n",
      "\n"
     ]
    },
    {
     "data": {
      "application/vnd.plotly.v1+json": {
       "config": {
        "plotlyServerURL": "https://plot.ly"
       },
       "data": [
        {
         "alignmentgroup": "True",
         "hovertemplate": "Churn=No<br>gender=%{x}<br>Count=%{y}<extra></extra>",
         "legendgroup": "No",
         "marker": {
          "color": "green",
          "pattern": {
           "shape": ""
          }
         },
         "name": "No",
         "offsetgroup": "No",
         "orientation": "v",
         "showlegend": true,
         "textposition": "auto",
         "type": "bar",
         "x": [
          "Female",
          "Male"
         ],
         "xaxis": "x",
         "y": {
          "bdata": "9QlBCg==",
          "dtype": "i2"
         },
         "yaxis": "y"
        },
        {
         "alignmentgroup": "True",
         "hovertemplate": "Churn=Yes<br>gender=%{x}<br>Count=%{y}<extra></extra>",
         "legendgroup": "Yes",
         "marker": {
          "color": "red",
          "pattern": {
           "shape": ""
          }
         },
         "name": "Yes",
         "offsetgroup": "Yes",
         "orientation": "v",
         "showlegend": true,
         "textposition": "auto",
         "type": "bar",
         "x": [
          "Female",
          "Male"
         ],
         "xaxis": "x",
         "y": {
          "bdata": "qwOiAw==",
          "dtype": "i2"
         },
         "yaxis": "y"
        }
       ],
       "layout": {
        "annotations": [
         {
          "align": "left",
          "bordercolor": "black",
          "borderwidth": 1,
          "showarrow": false,
          "text": "Value count of distribution of Male & Female are<br>50.5% & 49.5% percentage respectively.",
          "x": 1.4,
          "xref": "paper",
          "y": 1.3,
          "yref": "paper"
         }
        ],
        "barmode": "group",
        "legend": {
         "title": {
          "text": "Churn"
         },
         "tracegroupgap": 0
        },
        "margin": {
         "r": 400
        },
        "template": {
         "data": {
          "bar": [
           {
            "error_x": {
             "color": "#2a3f5f"
            },
            "error_y": {
             "color": "#2a3f5f"
            },
            "marker": {
             "line": {
              "color": "#E5ECF6",
              "width": 0.5
             },
             "pattern": {
              "fillmode": "overlay",
              "size": 10,
              "solidity": 0.2
             }
            },
            "type": "bar"
           }
          ],
          "barpolar": [
           {
            "marker": {
             "line": {
              "color": "#E5ECF6",
              "width": 0.5
             },
             "pattern": {
              "fillmode": "overlay",
              "size": 10,
              "solidity": 0.2
             }
            },
            "type": "barpolar"
           }
          ],
          "carpet": [
           {
            "aaxis": {
             "endlinecolor": "#2a3f5f",
             "gridcolor": "white",
             "linecolor": "white",
             "minorgridcolor": "white",
             "startlinecolor": "#2a3f5f"
            },
            "baxis": {
             "endlinecolor": "#2a3f5f",
             "gridcolor": "white",
             "linecolor": "white",
             "minorgridcolor": "white",
             "startlinecolor": "#2a3f5f"
            },
            "type": "carpet"
           }
          ],
          "choropleth": [
           {
            "colorbar": {
             "outlinewidth": 0,
             "ticks": ""
            },
            "type": "choropleth"
           }
          ],
          "contour": [
           {
            "colorbar": {
             "outlinewidth": 0,
             "ticks": ""
            },
            "colorscale": [
             [
              0,
              "#0d0887"
             ],
             [
              0.1111111111111111,
              "#46039f"
             ],
             [
              0.2222222222222222,
              "#7201a8"
             ],
             [
              0.3333333333333333,
              "#9c179e"
             ],
             [
              0.4444444444444444,
              "#bd3786"
             ],
             [
              0.5555555555555556,
              "#d8576b"
             ],
             [
              0.6666666666666666,
              "#ed7953"
             ],
             [
              0.7777777777777778,
              "#fb9f3a"
             ],
             [
              0.8888888888888888,
              "#fdca26"
             ],
             [
              1,
              "#f0f921"
             ]
            ],
            "type": "contour"
           }
          ],
          "contourcarpet": [
           {
            "colorbar": {
             "outlinewidth": 0,
             "ticks": ""
            },
            "type": "contourcarpet"
           }
          ],
          "heatmap": [
           {
            "colorbar": {
             "outlinewidth": 0,
             "ticks": ""
            },
            "colorscale": [
             [
              0,
              "#0d0887"
             ],
             [
              0.1111111111111111,
              "#46039f"
             ],
             [
              0.2222222222222222,
              "#7201a8"
             ],
             [
              0.3333333333333333,
              "#9c179e"
             ],
             [
              0.4444444444444444,
              "#bd3786"
             ],
             [
              0.5555555555555556,
              "#d8576b"
             ],
             [
              0.6666666666666666,
              "#ed7953"
             ],
             [
              0.7777777777777778,
              "#fb9f3a"
             ],
             [
              0.8888888888888888,
              "#fdca26"
             ],
             [
              1,
              "#f0f921"
             ]
            ],
            "type": "heatmap"
           }
          ],
          "histogram": [
           {
            "marker": {
             "pattern": {
              "fillmode": "overlay",
              "size": 10,
              "solidity": 0.2
             }
            },
            "type": "histogram"
           }
          ],
          "histogram2d": [
           {
            "colorbar": {
             "outlinewidth": 0,
             "ticks": ""
            },
            "colorscale": [
             [
              0,
              "#0d0887"
             ],
             [
              0.1111111111111111,
              "#46039f"
             ],
             [
              0.2222222222222222,
              "#7201a8"
             ],
             [
              0.3333333333333333,
              "#9c179e"
             ],
             [
              0.4444444444444444,
              "#bd3786"
             ],
             [
              0.5555555555555556,
              "#d8576b"
             ],
             [
              0.6666666666666666,
              "#ed7953"
             ],
             [
              0.7777777777777778,
              "#fb9f3a"
             ],
             [
              0.8888888888888888,
              "#fdca26"
             ],
             [
              1,
              "#f0f921"
             ]
            ],
            "type": "histogram2d"
           }
          ],
          "histogram2dcontour": [
           {
            "colorbar": {
             "outlinewidth": 0,
             "ticks": ""
            },
            "colorscale": [
             [
              0,
              "#0d0887"
             ],
             [
              0.1111111111111111,
              "#46039f"
             ],
             [
              0.2222222222222222,
              "#7201a8"
             ],
             [
              0.3333333333333333,
              "#9c179e"
             ],
             [
              0.4444444444444444,
              "#bd3786"
             ],
             [
              0.5555555555555556,
              "#d8576b"
             ],
             [
              0.6666666666666666,
              "#ed7953"
             ],
             [
              0.7777777777777778,
              "#fb9f3a"
             ],
             [
              0.8888888888888888,
              "#fdca26"
             ],
             [
              1,
              "#f0f921"
             ]
            ],
            "type": "histogram2dcontour"
           }
          ],
          "mesh3d": [
           {
            "colorbar": {
             "outlinewidth": 0,
             "ticks": ""
            },
            "type": "mesh3d"
           }
          ],
          "parcoords": [
           {
            "line": {
             "colorbar": {
              "outlinewidth": 0,
              "ticks": ""
             }
            },
            "type": "parcoords"
           }
          ],
          "pie": [
           {
            "automargin": true,
            "type": "pie"
           }
          ],
          "scatter": [
           {
            "fillpattern": {
             "fillmode": "overlay",
             "size": 10,
             "solidity": 0.2
            },
            "type": "scatter"
           }
          ],
          "scatter3d": [
           {
            "line": {
             "colorbar": {
              "outlinewidth": 0,
              "ticks": ""
             }
            },
            "marker": {
             "colorbar": {
              "outlinewidth": 0,
              "ticks": ""
             }
            },
            "type": "scatter3d"
           }
          ],
          "scattercarpet": [
           {
            "marker": {
             "colorbar": {
              "outlinewidth": 0,
              "ticks": ""
             }
            },
            "type": "scattercarpet"
           }
          ],
          "scattergeo": [
           {
            "marker": {
             "colorbar": {
              "outlinewidth": 0,
              "ticks": ""
             }
            },
            "type": "scattergeo"
           }
          ],
          "scattergl": [
           {
            "marker": {
             "colorbar": {
              "outlinewidth": 0,
              "ticks": ""
             }
            },
            "type": "scattergl"
           }
          ],
          "scattermap": [
           {
            "marker": {
             "colorbar": {
              "outlinewidth": 0,
              "ticks": ""
             }
            },
            "type": "scattermap"
           }
          ],
          "scattermapbox": [
           {
            "marker": {
             "colorbar": {
              "outlinewidth": 0,
              "ticks": ""
             }
            },
            "type": "scattermapbox"
           }
          ],
          "scatterpolar": [
           {
            "marker": {
             "colorbar": {
              "outlinewidth": 0,
              "ticks": ""
             }
            },
            "type": "scatterpolar"
           }
          ],
          "scatterpolargl": [
           {
            "marker": {
             "colorbar": {
              "outlinewidth": 0,
              "ticks": ""
             }
            },
            "type": "scatterpolargl"
           }
          ],
          "scatterternary": [
           {
            "marker": {
             "colorbar": {
              "outlinewidth": 0,
              "ticks": ""
             }
            },
            "type": "scatterternary"
           }
          ],
          "surface": [
           {
            "colorbar": {
             "outlinewidth": 0,
             "ticks": ""
            },
            "colorscale": [
             [
              0,
              "#0d0887"
             ],
             [
              0.1111111111111111,
              "#46039f"
             ],
             [
              0.2222222222222222,
              "#7201a8"
             ],
             [
              0.3333333333333333,
              "#9c179e"
             ],
             [
              0.4444444444444444,
              "#bd3786"
             ],
             [
              0.5555555555555556,
              "#d8576b"
             ],
             [
              0.6666666666666666,
              "#ed7953"
             ],
             [
              0.7777777777777778,
              "#fb9f3a"
             ],
             [
              0.8888888888888888,
              "#fdca26"
             ],
             [
              1,
              "#f0f921"
             ]
            ],
            "type": "surface"
           }
          ],
          "table": [
           {
            "cells": {
             "fill": {
              "color": "#EBF0F8"
             },
             "line": {
              "color": "white"
             }
            },
            "header": {
             "fill": {
              "color": "#C8D4E3"
             },
             "line": {
              "color": "white"
             }
            },
            "type": "table"
           }
          ]
         },
         "layout": {
          "annotationdefaults": {
           "arrowcolor": "#2a3f5f",
           "arrowhead": 0,
           "arrowwidth": 1
          },
          "autotypenumbers": "strict",
          "coloraxis": {
           "colorbar": {
            "outlinewidth": 0,
            "ticks": ""
           }
          },
          "colorscale": {
           "diverging": [
            [
             0,
             "#8e0152"
            ],
            [
             0.1,
             "#c51b7d"
            ],
            [
             0.2,
             "#de77ae"
            ],
            [
             0.3,
             "#f1b6da"
            ],
            [
             0.4,
             "#fde0ef"
            ],
            [
             0.5,
             "#f7f7f7"
            ],
            [
             0.6,
             "#e6f5d0"
            ],
            [
             0.7,
             "#b8e186"
            ],
            [
             0.8,
             "#7fbc41"
            ],
            [
             0.9,
             "#4d9221"
            ],
            [
             1,
             "#276419"
            ]
           ],
           "sequential": [
            [
             0,
             "#0d0887"
            ],
            [
             0.1111111111111111,
             "#46039f"
            ],
            [
             0.2222222222222222,
             "#7201a8"
            ],
            [
             0.3333333333333333,
             "#9c179e"
            ],
            [
             0.4444444444444444,
             "#bd3786"
            ],
            [
             0.5555555555555556,
             "#d8576b"
            ],
            [
             0.6666666666666666,
             "#ed7953"
            ],
            [
             0.7777777777777778,
             "#fb9f3a"
            ],
            [
             0.8888888888888888,
             "#fdca26"
            ],
            [
             1,
             "#f0f921"
            ]
           ],
           "sequentialminus": [
            [
             0,
             "#0d0887"
            ],
            [
             0.1111111111111111,
             "#46039f"
            ],
            [
             0.2222222222222222,
             "#7201a8"
            ],
            [
             0.3333333333333333,
             "#9c179e"
            ],
            [
             0.4444444444444444,
             "#bd3786"
            ],
            [
             0.5555555555555556,
             "#d8576b"
            ],
            [
             0.6666666666666666,
             "#ed7953"
            ],
            [
             0.7777777777777778,
             "#fb9f3a"
            ],
            [
             0.8888888888888888,
             "#fdca26"
            ],
            [
             1,
             "#f0f921"
            ]
           ]
          },
          "colorway": [
           "#636efa",
           "#EF553B",
           "#00cc96",
           "#ab63fa",
           "#FFA15A",
           "#19d3f3",
           "#FF6692",
           "#B6E880",
           "#FF97FF",
           "#FECB52"
          ],
          "font": {
           "color": "#2a3f5f"
          },
          "geo": {
           "bgcolor": "white",
           "lakecolor": "white",
           "landcolor": "#E5ECF6",
           "showlakes": true,
           "showland": true,
           "subunitcolor": "white"
          },
          "hoverlabel": {
           "align": "left"
          },
          "hovermode": "closest",
          "mapbox": {
           "style": "light"
          },
          "paper_bgcolor": "white",
          "plot_bgcolor": "#E5ECF6",
          "polar": {
           "angularaxis": {
            "gridcolor": "white",
            "linecolor": "white",
            "ticks": ""
           },
           "bgcolor": "#E5ECF6",
           "radialaxis": {
            "gridcolor": "white",
            "linecolor": "white",
            "ticks": ""
           }
          },
          "scene": {
           "xaxis": {
            "backgroundcolor": "#E5ECF6",
            "gridcolor": "white",
            "gridwidth": 2,
            "linecolor": "white",
            "showbackground": true,
            "ticks": "",
            "zerolinecolor": "white"
           },
           "yaxis": {
            "backgroundcolor": "#E5ECF6",
            "gridcolor": "white",
            "gridwidth": 2,
            "linecolor": "white",
            "showbackground": true,
            "ticks": "",
            "zerolinecolor": "white"
           },
           "zaxis": {
            "backgroundcolor": "#E5ECF6",
            "gridcolor": "white",
            "gridwidth": 2,
            "linecolor": "white",
            "showbackground": true,
            "ticks": "",
            "zerolinecolor": "white"
           }
          },
          "shapedefaults": {
           "line": {
            "color": "#2a3f5f"
           }
          },
          "ternary": {
           "aaxis": {
            "gridcolor": "white",
            "linecolor": "white",
            "ticks": ""
           },
           "baxis": {
            "gridcolor": "white",
            "linecolor": "white",
            "ticks": ""
           },
           "bgcolor": "#E5ECF6",
           "caxis": {
            "gridcolor": "white",
            "linecolor": "white",
            "ticks": ""
           }
          },
          "title": {
           "x": 0.05
          },
          "xaxis": {
           "automargin": true,
           "gridcolor": "white",
           "linecolor": "white",
           "ticks": "",
           "title": {
            "standoff": 15
           },
           "zerolinecolor": "white",
           "zerolinewidth": 2
          },
          "yaxis": {
           "automargin": true,
           "gridcolor": "white",
           "linecolor": "white",
           "ticks": "",
           "title": {
            "standoff": 15
           },
           "zerolinecolor": "white",
           "zerolinewidth": 2
          }
         }
        },
        "title": {
         "text": "Churn rate by gender"
        },
        "xaxis": {
         "anchor": "y",
         "domain": [
          0,
          1
         ],
         "title": {
          "text": "gender"
         }
        },
        "yaxis": {
         "anchor": "x",
         "domain": [
          0,
          1
         ],
         "title": {
          "text": "Count"
         }
        }
       }
      }
     },
     "metadata": {},
     "output_type": "display_data"
    },
    {
     "name": "stderr",
     "output_type": "stream",
     "text": [
      "C:\\Users\\Asus\\AppData\\Local\\Temp\\ipykernel_19164\\3807008499.py:4: FutureWarning:\n",
      "\n",
      "Setting an item of incompatible dtype is deprecated and will raise an error in a future version of pandas. Value 'No' has dtype incompatible with int64, please explicitly cast to a compatible dtype first.\n",
      "\n",
      "C:\\Users\\Asus\\AppData\\Local\\Temp\\ipykernel_19164\\1367734987.py:7: FutureWarning:\n",
      "\n",
      "Series.__getitem__ treating keys as positions is deprecated. In a future version, integer keys will always be treated as labels (consistent with DataFrame behavior). To access a value by position, use `ser.iloc[pos]`\n",
      "\n",
      "C:\\Users\\Asus\\AppData\\Local\\Temp\\ipykernel_19164\\1367734987.py:9: FutureWarning:\n",
      "\n",
      "Series.__getitem__ treating keys as positions is deprecated. In a future version, integer keys will always be treated as labels (consistent with DataFrame behavior). To access a value by position, use `ser.iloc[pos]`\n",
      "\n"
     ]
    },
    {
     "data": {
      "application/vnd.plotly.v1+json": {
       "config": {
        "plotlyServerURL": "https://plot.ly"
       },
       "data": [
        {
         "alignmentgroup": "True",
         "hovertemplate": "Churn=No<br>SeniorCitizen=%{x}<br>Count=%{y}<extra></extra>",
         "legendgroup": "No",
         "marker": {
          "color": "green",
          "pattern": {
           "shape": ""
          }
         },
         "name": "No",
         "offsetgroup": "No",
         "orientation": "v",
         "showlegend": true,
         "textposition": "auto",
         "type": "bar",
         "x": [
          "No",
          "Yes"
         ],
         "xaxis": "x",
         "y": {
          "bdata": "nBGaAg==",
          "dtype": "i2"
         },
         "yaxis": "y"
        },
        {
         "alignmentgroup": "True",
         "hovertemplate": "Churn=Yes<br>SeniorCitizen=%{x}<br>Count=%{y}<extra></extra>",
         "legendgroup": "Yes",
         "marker": {
          "color": "red",
          "pattern": {
           "shape": ""
          }
         },
         "name": "Yes",
         "offsetgroup": "Yes",
         "orientation": "v",
         "showlegend": true,
         "textposition": "auto",
         "type": "bar",
         "x": [
          "No",
          "Yes"
         ],
         "xaxis": "x",
         "y": {
          "bdata": "cQXcAQ==",
          "dtype": "i2"
         },
         "yaxis": "y"
        }
       ],
       "layout": {
        "annotations": [
         {
          "align": "left",
          "bordercolor": "black",
          "borderwidth": 1,
          "showarrow": false,
          "text": "Value count of distribution of No & Yes are<br>83.8% & 16.2% percentage respectively.",
          "x": 1.4,
          "xref": "paper",
          "y": 1.3,
          "yref": "paper"
         }
        ],
        "barmode": "group",
        "legend": {
         "title": {
          "text": "Churn"
         },
         "tracegroupgap": 0
        },
        "margin": {
         "r": 400
        },
        "template": {
         "data": {
          "bar": [
           {
            "error_x": {
             "color": "#2a3f5f"
            },
            "error_y": {
             "color": "#2a3f5f"
            },
            "marker": {
             "line": {
              "color": "#E5ECF6",
              "width": 0.5
             },
             "pattern": {
              "fillmode": "overlay",
              "size": 10,
              "solidity": 0.2
             }
            },
            "type": "bar"
           }
          ],
          "barpolar": [
           {
            "marker": {
             "line": {
              "color": "#E5ECF6",
              "width": 0.5
             },
             "pattern": {
              "fillmode": "overlay",
              "size": 10,
              "solidity": 0.2
             }
            },
            "type": "barpolar"
           }
          ],
          "carpet": [
           {
            "aaxis": {
             "endlinecolor": "#2a3f5f",
             "gridcolor": "white",
             "linecolor": "white",
             "minorgridcolor": "white",
             "startlinecolor": "#2a3f5f"
            },
            "baxis": {
             "endlinecolor": "#2a3f5f",
             "gridcolor": "white",
             "linecolor": "white",
             "minorgridcolor": "white",
             "startlinecolor": "#2a3f5f"
            },
            "type": "carpet"
           }
          ],
          "choropleth": [
           {
            "colorbar": {
             "outlinewidth": 0,
             "ticks": ""
            },
            "type": "choropleth"
           }
          ],
          "contour": [
           {
            "colorbar": {
             "outlinewidth": 0,
             "ticks": ""
            },
            "colorscale": [
             [
              0,
              "#0d0887"
             ],
             [
              0.1111111111111111,
              "#46039f"
             ],
             [
              0.2222222222222222,
              "#7201a8"
             ],
             [
              0.3333333333333333,
              "#9c179e"
             ],
             [
              0.4444444444444444,
              "#bd3786"
             ],
             [
              0.5555555555555556,
              "#d8576b"
             ],
             [
              0.6666666666666666,
              "#ed7953"
             ],
             [
              0.7777777777777778,
              "#fb9f3a"
             ],
             [
              0.8888888888888888,
              "#fdca26"
             ],
             [
              1,
              "#f0f921"
             ]
            ],
            "type": "contour"
           }
          ],
          "contourcarpet": [
           {
            "colorbar": {
             "outlinewidth": 0,
             "ticks": ""
            },
            "type": "contourcarpet"
           }
          ],
          "heatmap": [
           {
            "colorbar": {
             "outlinewidth": 0,
             "ticks": ""
            },
            "colorscale": [
             [
              0,
              "#0d0887"
             ],
             [
              0.1111111111111111,
              "#46039f"
             ],
             [
              0.2222222222222222,
              "#7201a8"
             ],
             [
              0.3333333333333333,
              "#9c179e"
             ],
             [
              0.4444444444444444,
              "#bd3786"
             ],
             [
              0.5555555555555556,
              "#d8576b"
             ],
             [
              0.6666666666666666,
              "#ed7953"
             ],
             [
              0.7777777777777778,
              "#fb9f3a"
             ],
             [
              0.8888888888888888,
              "#fdca26"
             ],
             [
              1,
              "#f0f921"
             ]
            ],
            "type": "heatmap"
           }
          ],
          "histogram": [
           {
            "marker": {
             "pattern": {
              "fillmode": "overlay",
              "size": 10,
              "solidity": 0.2
             }
            },
            "type": "histogram"
           }
          ],
          "histogram2d": [
           {
            "colorbar": {
             "outlinewidth": 0,
             "ticks": ""
            },
            "colorscale": [
             [
              0,
              "#0d0887"
             ],
             [
              0.1111111111111111,
              "#46039f"
             ],
             [
              0.2222222222222222,
              "#7201a8"
             ],
             [
              0.3333333333333333,
              "#9c179e"
             ],
             [
              0.4444444444444444,
              "#bd3786"
             ],
             [
              0.5555555555555556,
              "#d8576b"
             ],
             [
              0.6666666666666666,
              "#ed7953"
             ],
             [
              0.7777777777777778,
              "#fb9f3a"
             ],
             [
              0.8888888888888888,
              "#fdca26"
             ],
             [
              1,
              "#f0f921"
             ]
            ],
            "type": "histogram2d"
           }
          ],
          "histogram2dcontour": [
           {
            "colorbar": {
             "outlinewidth": 0,
             "ticks": ""
            },
            "colorscale": [
             [
              0,
              "#0d0887"
             ],
             [
              0.1111111111111111,
              "#46039f"
             ],
             [
              0.2222222222222222,
              "#7201a8"
             ],
             [
              0.3333333333333333,
              "#9c179e"
             ],
             [
              0.4444444444444444,
              "#bd3786"
             ],
             [
              0.5555555555555556,
              "#d8576b"
             ],
             [
              0.6666666666666666,
              "#ed7953"
             ],
             [
              0.7777777777777778,
              "#fb9f3a"
             ],
             [
              0.8888888888888888,
              "#fdca26"
             ],
             [
              1,
              "#f0f921"
             ]
            ],
            "type": "histogram2dcontour"
           }
          ],
          "mesh3d": [
           {
            "colorbar": {
             "outlinewidth": 0,
             "ticks": ""
            },
            "type": "mesh3d"
           }
          ],
          "parcoords": [
           {
            "line": {
             "colorbar": {
              "outlinewidth": 0,
              "ticks": ""
             }
            },
            "type": "parcoords"
           }
          ],
          "pie": [
           {
            "automargin": true,
            "type": "pie"
           }
          ],
          "scatter": [
           {
            "fillpattern": {
             "fillmode": "overlay",
             "size": 10,
             "solidity": 0.2
            },
            "type": "scatter"
           }
          ],
          "scatter3d": [
           {
            "line": {
             "colorbar": {
              "outlinewidth": 0,
              "ticks": ""
             }
            },
            "marker": {
             "colorbar": {
              "outlinewidth": 0,
              "ticks": ""
             }
            },
            "type": "scatter3d"
           }
          ],
          "scattercarpet": [
           {
            "marker": {
             "colorbar": {
              "outlinewidth": 0,
              "ticks": ""
             }
            },
            "type": "scattercarpet"
           }
          ],
          "scattergeo": [
           {
            "marker": {
             "colorbar": {
              "outlinewidth": 0,
              "ticks": ""
             }
            },
            "type": "scattergeo"
           }
          ],
          "scattergl": [
           {
            "marker": {
             "colorbar": {
              "outlinewidth": 0,
              "ticks": ""
             }
            },
            "type": "scattergl"
           }
          ],
          "scattermap": [
           {
            "marker": {
             "colorbar": {
              "outlinewidth": 0,
              "ticks": ""
             }
            },
            "type": "scattermap"
           }
          ],
          "scattermapbox": [
           {
            "marker": {
             "colorbar": {
              "outlinewidth": 0,
              "ticks": ""
             }
            },
            "type": "scattermapbox"
           }
          ],
          "scatterpolar": [
           {
            "marker": {
             "colorbar": {
              "outlinewidth": 0,
              "ticks": ""
             }
            },
            "type": "scatterpolar"
           }
          ],
          "scatterpolargl": [
           {
            "marker": {
             "colorbar": {
              "outlinewidth": 0,
              "ticks": ""
             }
            },
            "type": "scatterpolargl"
           }
          ],
          "scatterternary": [
           {
            "marker": {
             "colorbar": {
              "outlinewidth": 0,
              "ticks": ""
             }
            },
            "type": "scatterternary"
           }
          ],
          "surface": [
           {
            "colorbar": {
             "outlinewidth": 0,
             "ticks": ""
            },
            "colorscale": [
             [
              0,
              "#0d0887"
             ],
             [
              0.1111111111111111,
              "#46039f"
             ],
             [
              0.2222222222222222,
              "#7201a8"
             ],
             [
              0.3333333333333333,
              "#9c179e"
             ],
             [
              0.4444444444444444,
              "#bd3786"
             ],
             [
              0.5555555555555556,
              "#d8576b"
             ],
             [
              0.6666666666666666,
              "#ed7953"
             ],
             [
              0.7777777777777778,
              "#fb9f3a"
             ],
             [
              0.8888888888888888,
              "#fdca26"
             ],
             [
              1,
              "#f0f921"
             ]
            ],
            "type": "surface"
           }
          ],
          "table": [
           {
            "cells": {
             "fill": {
              "color": "#EBF0F8"
             },
             "line": {
              "color": "white"
             }
            },
            "header": {
             "fill": {
              "color": "#C8D4E3"
             },
             "line": {
              "color": "white"
             }
            },
            "type": "table"
           }
          ]
         },
         "layout": {
          "annotationdefaults": {
           "arrowcolor": "#2a3f5f",
           "arrowhead": 0,
           "arrowwidth": 1
          },
          "autotypenumbers": "strict",
          "coloraxis": {
           "colorbar": {
            "outlinewidth": 0,
            "ticks": ""
           }
          },
          "colorscale": {
           "diverging": [
            [
             0,
             "#8e0152"
            ],
            [
             0.1,
             "#c51b7d"
            ],
            [
             0.2,
             "#de77ae"
            ],
            [
             0.3,
             "#f1b6da"
            ],
            [
             0.4,
             "#fde0ef"
            ],
            [
             0.5,
             "#f7f7f7"
            ],
            [
             0.6,
             "#e6f5d0"
            ],
            [
             0.7,
             "#b8e186"
            ],
            [
             0.8,
             "#7fbc41"
            ],
            [
             0.9,
             "#4d9221"
            ],
            [
             1,
             "#276419"
            ]
           ],
           "sequential": [
            [
             0,
             "#0d0887"
            ],
            [
             0.1111111111111111,
             "#46039f"
            ],
            [
             0.2222222222222222,
             "#7201a8"
            ],
            [
             0.3333333333333333,
             "#9c179e"
            ],
            [
             0.4444444444444444,
             "#bd3786"
            ],
            [
             0.5555555555555556,
             "#d8576b"
            ],
            [
             0.6666666666666666,
             "#ed7953"
            ],
            [
             0.7777777777777778,
             "#fb9f3a"
            ],
            [
             0.8888888888888888,
             "#fdca26"
            ],
            [
             1,
             "#f0f921"
            ]
           ],
           "sequentialminus": [
            [
             0,
             "#0d0887"
            ],
            [
             0.1111111111111111,
             "#46039f"
            ],
            [
             0.2222222222222222,
             "#7201a8"
            ],
            [
             0.3333333333333333,
             "#9c179e"
            ],
            [
             0.4444444444444444,
             "#bd3786"
            ],
            [
             0.5555555555555556,
             "#d8576b"
            ],
            [
             0.6666666666666666,
             "#ed7953"
            ],
            [
             0.7777777777777778,
             "#fb9f3a"
            ],
            [
             0.8888888888888888,
             "#fdca26"
            ],
            [
             1,
             "#f0f921"
            ]
           ]
          },
          "colorway": [
           "#636efa",
           "#EF553B",
           "#00cc96",
           "#ab63fa",
           "#FFA15A",
           "#19d3f3",
           "#FF6692",
           "#B6E880",
           "#FF97FF",
           "#FECB52"
          ],
          "font": {
           "color": "#2a3f5f"
          },
          "geo": {
           "bgcolor": "white",
           "lakecolor": "white",
           "landcolor": "#E5ECF6",
           "showlakes": true,
           "showland": true,
           "subunitcolor": "white"
          },
          "hoverlabel": {
           "align": "left"
          },
          "hovermode": "closest",
          "mapbox": {
           "style": "light"
          },
          "paper_bgcolor": "white",
          "plot_bgcolor": "#E5ECF6",
          "polar": {
           "angularaxis": {
            "gridcolor": "white",
            "linecolor": "white",
            "ticks": ""
           },
           "bgcolor": "#E5ECF6",
           "radialaxis": {
            "gridcolor": "white",
            "linecolor": "white",
            "ticks": ""
           }
          },
          "scene": {
           "xaxis": {
            "backgroundcolor": "#E5ECF6",
            "gridcolor": "white",
            "gridwidth": 2,
            "linecolor": "white",
            "showbackground": true,
            "ticks": "",
            "zerolinecolor": "white"
           },
           "yaxis": {
            "backgroundcolor": "#E5ECF6",
            "gridcolor": "white",
            "gridwidth": 2,
            "linecolor": "white",
            "showbackground": true,
            "ticks": "",
            "zerolinecolor": "white"
           },
           "zaxis": {
            "backgroundcolor": "#E5ECF6",
            "gridcolor": "white",
            "gridwidth": 2,
            "linecolor": "white",
            "showbackground": true,
            "ticks": "",
            "zerolinecolor": "white"
           }
          },
          "shapedefaults": {
           "line": {
            "color": "#2a3f5f"
           }
          },
          "ternary": {
           "aaxis": {
            "gridcolor": "white",
            "linecolor": "white",
            "ticks": ""
           },
           "baxis": {
            "gridcolor": "white",
            "linecolor": "white",
            "ticks": ""
           },
           "bgcolor": "#E5ECF6",
           "caxis": {
            "gridcolor": "white",
            "linecolor": "white",
            "ticks": ""
           }
          },
          "title": {
           "x": 0.05
          },
          "xaxis": {
           "automargin": true,
           "gridcolor": "white",
           "linecolor": "white",
           "ticks": "",
           "title": {
            "standoff": 15
           },
           "zerolinecolor": "white",
           "zerolinewidth": 2
          },
          "yaxis": {
           "automargin": true,
           "gridcolor": "white",
           "linecolor": "white",
           "ticks": "",
           "title": {
            "standoff": 15
           },
           "zerolinecolor": "white",
           "zerolinewidth": 2
          }
         }
        },
        "title": {
         "text": "Churn rate by SeniorCitizen"
        },
        "xaxis": {
         "anchor": "y",
         "domain": [
          0,
          1
         ],
         "title": {
          "text": "SeniorCitizen"
         }
        },
        "yaxis": {
         "anchor": "x",
         "domain": [
          0,
          1
         ],
         "title": {
          "text": "Count"
         }
        }
       }
      }
     },
     "metadata": {},
     "output_type": "display_data"
    },
    {
     "name": "stderr",
     "output_type": "stream",
     "text": [
      "C:\\Users\\Asus\\AppData\\Local\\Temp\\ipykernel_19164\\1367734987.py:7: FutureWarning:\n",
      "\n",
      "Series.__getitem__ treating keys as positions is deprecated. In a future version, integer keys will always be treated as labels (consistent with DataFrame behavior). To access a value by position, use `ser.iloc[pos]`\n",
      "\n",
      "C:\\Users\\Asus\\AppData\\Local\\Temp\\ipykernel_19164\\1367734987.py:9: FutureWarning:\n",
      "\n",
      "Series.__getitem__ treating keys as positions is deprecated. In a future version, integer keys will always be treated as labels (consistent with DataFrame behavior). To access a value by position, use `ser.iloc[pos]`\n",
      "\n"
     ]
    },
    {
     "data": {
      "application/vnd.plotly.v1+json": {
       "config": {
        "plotlyServerURL": "https://plot.ly"
       },
       "data": [
        {
         "alignmentgroup": "True",
         "hovertemplate": "Churn=No<br>Partner=%{x}<br>Count=%{y}<extra></extra>",
         "legendgroup": "No",
         "marker": {
          "color": "green",
          "pattern": {
           "shape": ""
          }
         },
         "name": "No",
         "offsetgroup": "No",
         "orientation": "v",
         "showlegend": true,
         "textposition": "auto",
         "type": "bar",
         "x": [
          "No",
          "Yes"
         ],
         "xaxis": "x",
         "y": {
          "bdata": "iQmtCg==",
          "dtype": "i2"
         },
         "yaxis": "y"
        },
        {
         "alignmentgroup": "True",
         "hovertemplate": "Churn=Yes<br>Partner=%{x}<br>Count=%{y}<extra></extra>",
         "legendgroup": "Yes",
         "marker": {
          "color": "red",
          "pattern": {
           "shape": ""
          }
         },
         "name": "Yes",
         "offsetgroup": "Yes",
         "orientation": "v",
         "showlegend": true,
         "textposition": "auto",
         "type": "bar",
         "x": [
          "No",
          "Yes"
         ],
         "xaxis": "x",
         "y": {
          "bdata": "sASdAg==",
          "dtype": "i2"
         },
         "yaxis": "y"
        }
       ],
       "layout": {
        "annotations": [
         {
          "align": "left",
          "bordercolor": "black",
          "borderwidth": 1,
          "showarrow": false,
          "text": "Value count of distribution of No & Yes are<br>51.7% & 48.3% percentage respectively.",
          "x": 1.4,
          "xref": "paper",
          "y": 1.3,
          "yref": "paper"
         }
        ],
        "barmode": "group",
        "legend": {
         "title": {
          "text": "Churn"
         },
         "tracegroupgap": 0
        },
        "margin": {
         "r": 400
        },
        "template": {
         "data": {
          "bar": [
           {
            "error_x": {
             "color": "#2a3f5f"
            },
            "error_y": {
             "color": "#2a3f5f"
            },
            "marker": {
             "line": {
              "color": "#E5ECF6",
              "width": 0.5
             },
             "pattern": {
              "fillmode": "overlay",
              "size": 10,
              "solidity": 0.2
             }
            },
            "type": "bar"
           }
          ],
          "barpolar": [
           {
            "marker": {
             "line": {
              "color": "#E5ECF6",
              "width": 0.5
             },
             "pattern": {
              "fillmode": "overlay",
              "size": 10,
              "solidity": 0.2
             }
            },
            "type": "barpolar"
           }
          ],
          "carpet": [
           {
            "aaxis": {
             "endlinecolor": "#2a3f5f",
             "gridcolor": "white",
             "linecolor": "white",
             "minorgridcolor": "white",
             "startlinecolor": "#2a3f5f"
            },
            "baxis": {
             "endlinecolor": "#2a3f5f",
             "gridcolor": "white",
             "linecolor": "white",
             "minorgridcolor": "white",
             "startlinecolor": "#2a3f5f"
            },
            "type": "carpet"
           }
          ],
          "choropleth": [
           {
            "colorbar": {
             "outlinewidth": 0,
             "ticks": ""
            },
            "type": "choropleth"
           }
          ],
          "contour": [
           {
            "colorbar": {
             "outlinewidth": 0,
             "ticks": ""
            },
            "colorscale": [
             [
              0,
              "#0d0887"
             ],
             [
              0.1111111111111111,
              "#46039f"
             ],
             [
              0.2222222222222222,
              "#7201a8"
             ],
             [
              0.3333333333333333,
              "#9c179e"
             ],
             [
              0.4444444444444444,
              "#bd3786"
             ],
             [
              0.5555555555555556,
              "#d8576b"
             ],
             [
              0.6666666666666666,
              "#ed7953"
             ],
             [
              0.7777777777777778,
              "#fb9f3a"
             ],
             [
              0.8888888888888888,
              "#fdca26"
             ],
             [
              1,
              "#f0f921"
             ]
            ],
            "type": "contour"
           }
          ],
          "contourcarpet": [
           {
            "colorbar": {
             "outlinewidth": 0,
             "ticks": ""
            },
            "type": "contourcarpet"
           }
          ],
          "heatmap": [
           {
            "colorbar": {
             "outlinewidth": 0,
             "ticks": ""
            },
            "colorscale": [
             [
              0,
              "#0d0887"
             ],
             [
              0.1111111111111111,
              "#46039f"
             ],
             [
              0.2222222222222222,
              "#7201a8"
             ],
             [
              0.3333333333333333,
              "#9c179e"
             ],
             [
              0.4444444444444444,
              "#bd3786"
             ],
             [
              0.5555555555555556,
              "#d8576b"
             ],
             [
              0.6666666666666666,
              "#ed7953"
             ],
             [
              0.7777777777777778,
              "#fb9f3a"
             ],
             [
              0.8888888888888888,
              "#fdca26"
             ],
             [
              1,
              "#f0f921"
             ]
            ],
            "type": "heatmap"
           }
          ],
          "histogram": [
           {
            "marker": {
             "pattern": {
              "fillmode": "overlay",
              "size": 10,
              "solidity": 0.2
             }
            },
            "type": "histogram"
           }
          ],
          "histogram2d": [
           {
            "colorbar": {
             "outlinewidth": 0,
             "ticks": ""
            },
            "colorscale": [
             [
              0,
              "#0d0887"
             ],
             [
              0.1111111111111111,
              "#46039f"
             ],
             [
              0.2222222222222222,
              "#7201a8"
             ],
             [
              0.3333333333333333,
              "#9c179e"
             ],
             [
              0.4444444444444444,
              "#bd3786"
             ],
             [
              0.5555555555555556,
              "#d8576b"
             ],
             [
              0.6666666666666666,
              "#ed7953"
             ],
             [
              0.7777777777777778,
              "#fb9f3a"
             ],
             [
              0.8888888888888888,
              "#fdca26"
             ],
             [
              1,
              "#f0f921"
             ]
            ],
            "type": "histogram2d"
           }
          ],
          "histogram2dcontour": [
           {
            "colorbar": {
             "outlinewidth": 0,
             "ticks": ""
            },
            "colorscale": [
             [
              0,
              "#0d0887"
             ],
             [
              0.1111111111111111,
              "#46039f"
             ],
             [
              0.2222222222222222,
              "#7201a8"
             ],
             [
              0.3333333333333333,
              "#9c179e"
             ],
             [
              0.4444444444444444,
              "#bd3786"
             ],
             [
              0.5555555555555556,
              "#d8576b"
             ],
             [
              0.6666666666666666,
              "#ed7953"
             ],
             [
              0.7777777777777778,
              "#fb9f3a"
             ],
             [
              0.8888888888888888,
              "#fdca26"
             ],
             [
              1,
              "#f0f921"
             ]
            ],
            "type": "histogram2dcontour"
           }
          ],
          "mesh3d": [
           {
            "colorbar": {
             "outlinewidth": 0,
             "ticks": ""
            },
            "type": "mesh3d"
           }
          ],
          "parcoords": [
           {
            "line": {
             "colorbar": {
              "outlinewidth": 0,
              "ticks": ""
             }
            },
            "type": "parcoords"
           }
          ],
          "pie": [
           {
            "automargin": true,
            "type": "pie"
           }
          ],
          "scatter": [
           {
            "fillpattern": {
             "fillmode": "overlay",
             "size": 10,
             "solidity": 0.2
            },
            "type": "scatter"
           }
          ],
          "scatter3d": [
           {
            "line": {
             "colorbar": {
              "outlinewidth": 0,
              "ticks": ""
             }
            },
            "marker": {
             "colorbar": {
              "outlinewidth": 0,
              "ticks": ""
             }
            },
            "type": "scatter3d"
           }
          ],
          "scattercarpet": [
           {
            "marker": {
             "colorbar": {
              "outlinewidth": 0,
              "ticks": ""
             }
            },
            "type": "scattercarpet"
           }
          ],
          "scattergeo": [
           {
            "marker": {
             "colorbar": {
              "outlinewidth": 0,
              "ticks": ""
             }
            },
            "type": "scattergeo"
           }
          ],
          "scattergl": [
           {
            "marker": {
             "colorbar": {
              "outlinewidth": 0,
              "ticks": ""
             }
            },
            "type": "scattergl"
           }
          ],
          "scattermap": [
           {
            "marker": {
             "colorbar": {
              "outlinewidth": 0,
              "ticks": ""
             }
            },
            "type": "scattermap"
           }
          ],
          "scattermapbox": [
           {
            "marker": {
             "colorbar": {
              "outlinewidth": 0,
              "ticks": ""
             }
            },
            "type": "scattermapbox"
           }
          ],
          "scatterpolar": [
           {
            "marker": {
             "colorbar": {
              "outlinewidth": 0,
              "ticks": ""
             }
            },
            "type": "scatterpolar"
           }
          ],
          "scatterpolargl": [
           {
            "marker": {
             "colorbar": {
              "outlinewidth": 0,
              "ticks": ""
             }
            },
            "type": "scatterpolargl"
           }
          ],
          "scatterternary": [
           {
            "marker": {
             "colorbar": {
              "outlinewidth": 0,
              "ticks": ""
             }
            },
            "type": "scatterternary"
           }
          ],
          "surface": [
           {
            "colorbar": {
             "outlinewidth": 0,
             "ticks": ""
            },
            "colorscale": [
             [
              0,
              "#0d0887"
             ],
             [
              0.1111111111111111,
              "#46039f"
             ],
             [
              0.2222222222222222,
              "#7201a8"
             ],
             [
              0.3333333333333333,
              "#9c179e"
             ],
             [
              0.4444444444444444,
              "#bd3786"
             ],
             [
              0.5555555555555556,
              "#d8576b"
             ],
             [
              0.6666666666666666,
              "#ed7953"
             ],
             [
              0.7777777777777778,
              "#fb9f3a"
             ],
             [
              0.8888888888888888,
              "#fdca26"
             ],
             [
              1,
              "#f0f921"
             ]
            ],
            "type": "surface"
           }
          ],
          "table": [
           {
            "cells": {
             "fill": {
              "color": "#EBF0F8"
             },
             "line": {
              "color": "white"
             }
            },
            "header": {
             "fill": {
              "color": "#C8D4E3"
             },
             "line": {
              "color": "white"
             }
            },
            "type": "table"
           }
          ]
         },
         "layout": {
          "annotationdefaults": {
           "arrowcolor": "#2a3f5f",
           "arrowhead": 0,
           "arrowwidth": 1
          },
          "autotypenumbers": "strict",
          "coloraxis": {
           "colorbar": {
            "outlinewidth": 0,
            "ticks": ""
           }
          },
          "colorscale": {
           "diverging": [
            [
             0,
             "#8e0152"
            ],
            [
             0.1,
             "#c51b7d"
            ],
            [
             0.2,
             "#de77ae"
            ],
            [
             0.3,
             "#f1b6da"
            ],
            [
             0.4,
             "#fde0ef"
            ],
            [
             0.5,
             "#f7f7f7"
            ],
            [
             0.6,
             "#e6f5d0"
            ],
            [
             0.7,
             "#b8e186"
            ],
            [
             0.8,
             "#7fbc41"
            ],
            [
             0.9,
             "#4d9221"
            ],
            [
             1,
             "#276419"
            ]
           ],
           "sequential": [
            [
             0,
             "#0d0887"
            ],
            [
             0.1111111111111111,
             "#46039f"
            ],
            [
             0.2222222222222222,
             "#7201a8"
            ],
            [
             0.3333333333333333,
             "#9c179e"
            ],
            [
             0.4444444444444444,
             "#bd3786"
            ],
            [
             0.5555555555555556,
             "#d8576b"
            ],
            [
             0.6666666666666666,
             "#ed7953"
            ],
            [
             0.7777777777777778,
             "#fb9f3a"
            ],
            [
             0.8888888888888888,
             "#fdca26"
            ],
            [
             1,
             "#f0f921"
            ]
           ],
           "sequentialminus": [
            [
             0,
             "#0d0887"
            ],
            [
             0.1111111111111111,
             "#46039f"
            ],
            [
             0.2222222222222222,
             "#7201a8"
            ],
            [
             0.3333333333333333,
             "#9c179e"
            ],
            [
             0.4444444444444444,
             "#bd3786"
            ],
            [
             0.5555555555555556,
             "#d8576b"
            ],
            [
             0.6666666666666666,
             "#ed7953"
            ],
            [
             0.7777777777777778,
             "#fb9f3a"
            ],
            [
             0.8888888888888888,
             "#fdca26"
            ],
            [
             1,
             "#f0f921"
            ]
           ]
          },
          "colorway": [
           "#636efa",
           "#EF553B",
           "#00cc96",
           "#ab63fa",
           "#FFA15A",
           "#19d3f3",
           "#FF6692",
           "#B6E880",
           "#FF97FF",
           "#FECB52"
          ],
          "font": {
           "color": "#2a3f5f"
          },
          "geo": {
           "bgcolor": "white",
           "lakecolor": "white",
           "landcolor": "#E5ECF6",
           "showlakes": true,
           "showland": true,
           "subunitcolor": "white"
          },
          "hoverlabel": {
           "align": "left"
          },
          "hovermode": "closest",
          "mapbox": {
           "style": "light"
          },
          "paper_bgcolor": "white",
          "plot_bgcolor": "#E5ECF6",
          "polar": {
           "angularaxis": {
            "gridcolor": "white",
            "linecolor": "white",
            "ticks": ""
           },
           "bgcolor": "#E5ECF6",
           "radialaxis": {
            "gridcolor": "white",
            "linecolor": "white",
            "ticks": ""
           }
          },
          "scene": {
           "xaxis": {
            "backgroundcolor": "#E5ECF6",
            "gridcolor": "white",
            "gridwidth": 2,
            "linecolor": "white",
            "showbackground": true,
            "ticks": "",
            "zerolinecolor": "white"
           },
           "yaxis": {
            "backgroundcolor": "#E5ECF6",
            "gridcolor": "white",
            "gridwidth": 2,
            "linecolor": "white",
            "showbackground": true,
            "ticks": "",
            "zerolinecolor": "white"
           },
           "zaxis": {
            "backgroundcolor": "#E5ECF6",
            "gridcolor": "white",
            "gridwidth": 2,
            "linecolor": "white",
            "showbackground": true,
            "ticks": "",
            "zerolinecolor": "white"
           }
          },
          "shapedefaults": {
           "line": {
            "color": "#2a3f5f"
           }
          },
          "ternary": {
           "aaxis": {
            "gridcolor": "white",
            "linecolor": "white",
            "ticks": ""
           },
           "baxis": {
            "gridcolor": "white",
            "linecolor": "white",
            "ticks": ""
           },
           "bgcolor": "#E5ECF6",
           "caxis": {
            "gridcolor": "white",
            "linecolor": "white",
            "ticks": ""
           }
          },
          "title": {
           "x": 0.05
          },
          "xaxis": {
           "automargin": true,
           "gridcolor": "white",
           "linecolor": "white",
           "ticks": "",
           "title": {
            "standoff": 15
           },
           "zerolinecolor": "white",
           "zerolinewidth": 2
          },
          "yaxis": {
           "automargin": true,
           "gridcolor": "white",
           "linecolor": "white",
           "ticks": "",
           "title": {
            "standoff": 15
           },
           "zerolinecolor": "white",
           "zerolinewidth": 2
          }
         }
        },
        "title": {
         "text": "Churn rate by Partner"
        },
        "xaxis": {
         "anchor": "y",
         "domain": [
          0,
          1
         ],
         "title": {
          "text": "Partner"
         }
        },
        "yaxis": {
         "anchor": "x",
         "domain": [
          0,
          1
         ],
         "title": {
          "text": "Count"
         }
        }
       }
      }
     },
     "metadata": {},
     "output_type": "display_data"
    },
    {
     "name": "stderr",
     "output_type": "stream",
     "text": [
      "C:\\Users\\Asus\\AppData\\Local\\Temp\\ipykernel_19164\\1367734987.py:7: FutureWarning:\n",
      "\n",
      "Series.__getitem__ treating keys as positions is deprecated. In a future version, integer keys will always be treated as labels (consistent with DataFrame behavior). To access a value by position, use `ser.iloc[pos]`\n",
      "\n",
      "C:\\Users\\Asus\\AppData\\Local\\Temp\\ipykernel_19164\\1367734987.py:9: FutureWarning:\n",
      "\n",
      "Series.__getitem__ treating keys as positions is deprecated. In a future version, integer keys will always be treated as labels (consistent with DataFrame behavior). To access a value by position, use `ser.iloc[pos]`\n",
      "\n"
     ]
    },
    {
     "data": {
      "application/vnd.plotly.v1+json": {
       "config": {
        "plotlyServerURL": "https://plot.ly"
       },
       "data": [
        {
         "alignmentgroup": "True",
         "hovertemplate": "Churn=No<br>Dependents=%{x}<br>Count=%{y}<extra></extra>",
         "legendgroup": "No",
         "marker": {
          "color": "green",
          "pattern": {
           "shape": ""
          }
         },
         "name": "No",
         "offsetgroup": "No",
         "orientation": "v",
         "showlegend": true,
         "textposition": "auto",
         "type": "bar",
         "x": [
          "No",
          "Yes"
         ],
         "xaxis": "x",
         "y": {
          "bdata": "Pg34Bg==",
          "dtype": "i2"
         },
         "yaxis": "y"
        },
        {
         "alignmentgroup": "True",
         "hovertemplate": "Churn=Yes<br>Dependents=%{x}<br>Count=%{y}<extra></extra>",
         "legendgroup": "Yes",
         "marker": {
          "color": "red",
          "pattern": {
           "shape": ""
          }
         },
         "name": "Yes",
         "offsetgroup": "Yes",
         "orientation": "v",
         "showlegend": true,
         "textposition": "auto",
         "type": "bar",
         "x": [
          "No",
          "Yes"
         ],
         "xaxis": "x",
         "y": {
          "bdata": "BwZGAQ==",
          "dtype": "i2"
         },
         "yaxis": "y"
        }
       ],
       "layout": {
        "annotations": [
         {
          "align": "left",
          "bordercolor": "black",
          "borderwidth": 1,
          "showarrow": false,
          "text": "Value count of distribution of No & Yes are<br>70.0% & 30.0% percentage respectively.",
          "x": 1.4,
          "xref": "paper",
          "y": 1.3,
          "yref": "paper"
         }
        ],
        "barmode": "group",
        "legend": {
         "title": {
          "text": "Churn"
         },
         "tracegroupgap": 0
        },
        "margin": {
         "r": 400
        },
        "template": {
         "data": {
          "bar": [
           {
            "error_x": {
             "color": "#2a3f5f"
            },
            "error_y": {
             "color": "#2a3f5f"
            },
            "marker": {
             "line": {
              "color": "#E5ECF6",
              "width": 0.5
             },
             "pattern": {
              "fillmode": "overlay",
              "size": 10,
              "solidity": 0.2
             }
            },
            "type": "bar"
           }
          ],
          "barpolar": [
           {
            "marker": {
             "line": {
              "color": "#E5ECF6",
              "width": 0.5
             },
             "pattern": {
              "fillmode": "overlay",
              "size": 10,
              "solidity": 0.2
             }
            },
            "type": "barpolar"
           }
          ],
          "carpet": [
           {
            "aaxis": {
             "endlinecolor": "#2a3f5f",
             "gridcolor": "white",
             "linecolor": "white",
             "minorgridcolor": "white",
             "startlinecolor": "#2a3f5f"
            },
            "baxis": {
             "endlinecolor": "#2a3f5f",
             "gridcolor": "white",
             "linecolor": "white",
             "minorgridcolor": "white",
             "startlinecolor": "#2a3f5f"
            },
            "type": "carpet"
           }
          ],
          "choropleth": [
           {
            "colorbar": {
             "outlinewidth": 0,
             "ticks": ""
            },
            "type": "choropleth"
           }
          ],
          "contour": [
           {
            "colorbar": {
             "outlinewidth": 0,
             "ticks": ""
            },
            "colorscale": [
             [
              0,
              "#0d0887"
             ],
             [
              0.1111111111111111,
              "#46039f"
             ],
             [
              0.2222222222222222,
              "#7201a8"
             ],
             [
              0.3333333333333333,
              "#9c179e"
             ],
             [
              0.4444444444444444,
              "#bd3786"
             ],
             [
              0.5555555555555556,
              "#d8576b"
             ],
             [
              0.6666666666666666,
              "#ed7953"
             ],
             [
              0.7777777777777778,
              "#fb9f3a"
             ],
             [
              0.8888888888888888,
              "#fdca26"
             ],
             [
              1,
              "#f0f921"
             ]
            ],
            "type": "contour"
           }
          ],
          "contourcarpet": [
           {
            "colorbar": {
             "outlinewidth": 0,
             "ticks": ""
            },
            "type": "contourcarpet"
           }
          ],
          "heatmap": [
           {
            "colorbar": {
             "outlinewidth": 0,
             "ticks": ""
            },
            "colorscale": [
             [
              0,
              "#0d0887"
             ],
             [
              0.1111111111111111,
              "#46039f"
             ],
             [
              0.2222222222222222,
              "#7201a8"
             ],
             [
              0.3333333333333333,
              "#9c179e"
             ],
             [
              0.4444444444444444,
              "#bd3786"
             ],
             [
              0.5555555555555556,
              "#d8576b"
             ],
             [
              0.6666666666666666,
              "#ed7953"
             ],
             [
              0.7777777777777778,
              "#fb9f3a"
             ],
             [
              0.8888888888888888,
              "#fdca26"
             ],
             [
              1,
              "#f0f921"
             ]
            ],
            "type": "heatmap"
           }
          ],
          "histogram": [
           {
            "marker": {
             "pattern": {
              "fillmode": "overlay",
              "size": 10,
              "solidity": 0.2
             }
            },
            "type": "histogram"
           }
          ],
          "histogram2d": [
           {
            "colorbar": {
             "outlinewidth": 0,
             "ticks": ""
            },
            "colorscale": [
             [
              0,
              "#0d0887"
             ],
             [
              0.1111111111111111,
              "#46039f"
             ],
             [
              0.2222222222222222,
              "#7201a8"
             ],
             [
              0.3333333333333333,
              "#9c179e"
             ],
             [
              0.4444444444444444,
              "#bd3786"
             ],
             [
              0.5555555555555556,
              "#d8576b"
             ],
             [
              0.6666666666666666,
              "#ed7953"
             ],
             [
              0.7777777777777778,
              "#fb9f3a"
             ],
             [
              0.8888888888888888,
              "#fdca26"
             ],
             [
              1,
              "#f0f921"
             ]
            ],
            "type": "histogram2d"
           }
          ],
          "histogram2dcontour": [
           {
            "colorbar": {
             "outlinewidth": 0,
             "ticks": ""
            },
            "colorscale": [
             [
              0,
              "#0d0887"
             ],
             [
              0.1111111111111111,
              "#46039f"
             ],
             [
              0.2222222222222222,
              "#7201a8"
             ],
             [
              0.3333333333333333,
              "#9c179e"
             ],
             [
              0.4444444444444444,
              "#bd3786"
             ],
             [
              0.5555555555555556,
              "#d8576b"
             ],
             [
              0.6666666666666666,
              "#ed7953"
             ],
             [
              0.7777777777777778,
              "#fb9f3a"
             ],
             [
              0.8888888888888888,
              "#fdca26"
             ],
             [
              1,
              "#f0f921"
             ]
            ],
            "type": "histogram2dcontour"
           }
          ],
          "mesh3d": [
           {
            "colorbar": {
             "outlinewidth": 0,
             "ticks": ""
            },
            "type": "mesh3d"
           }
          ],
          "parcoords": [
           {
            "line": {
             "colorbar": {
              "outlinewidth": 0,
              "ticks": ""
             }
            },
            "type": "parcoords"
           }
          ],
          "pie": [
           {
            "automargin": true,
            "type": "pie"
           }
          ],
          "scatter": [
           {
            "fillpattern": {
             "fillmode": "overlay",
             "size": 10,
             "solidity": 0.2
            },
            "type": "scatter"
           }
          ],
          "scatter3d": [
           {
            "line": {
             "colorbar": {
              "outlinewidth": 0,
              "ticks": ""
             }
            },
            "marker": {
             "colorbar": {
              "outlinewidth": 0,
              "ticks": ""
             }
            },
            "type": "scatter3d"
           }
          ],
          "scattercarpet": [
           {
            "marker": {
             "colorbar": {
              "outlinewidth": 0,
              "ticks": ""
             }
            },
            "type": "scattercarpet"
           }
          ],
          "scattergeo": [
           {
            "marker": {
             "colorbar": {
              "outlinewidth": 0,
              "ticks": ""
             }
            },
            "type": "scattergeo"
           }
          ],
          "scattergl": [
           {
            "marker": {
             "colorbar": {
              "outlinewidth": 0,
              "ticks": ""
             }
            },
            "type": "scattergl"
           }
          ],
          "scattermap": [
           {
            "marker": {
             "colorbar": {
              "outlinewidth": 0,
              "ticks": ""
             }
            },
            "type": "scattermap"
           }
          ],
          "scattermapbox": [
           {
            "marker": {
             "colorbar": {
              "outlinewidth": 0,
              "ticks": ""
             }
            },
            "type": "scattermapbox"
           }
          ],
          "scatterpolar": [
           {
            "marker": {
             "colorbar": {
              "outlinewidth": 0,
              "ticks": ""
             }
            },
            "type": "scatterpolar"
           }
          ],
          "scatterpolargl": [
           {
            "marker": {
             "colorbar": {
              "outlinewidth": 0,
              "ticks": ""
             }
            },
            "type": "scatterpolargl"
           }
          ],
          "scatterternary": [
           {
            "marker": {
             "colorbar": {
              "outlinewidth": 0,
              "ticks": ""
             }
            },
            "type": "scatterternary"
           }
          ],
          "surface": [
           {
            "colorbar": {
             "outlinewidth": 0,
             "ticks": ""
            },
            "colorscale": [
             [
              0,
              "#0d0887"
             ],
             [
              0.1111111111111111,
              "#46039f"
             ],
             [
              0.2222222222222222,
              "#7201a8"
             ],
             [
              0.3333333333333333,
              "#9c179e"
             ],
             [
              0.4444444444444444,
              "#bd3786"
             ],
             [
              0.5555555555555556,
              "#d8576b"
             ],
             [
              0.6666666666666666,
              "#ed7953"
             ],
             [
              0.7777777777777778,
              "#fb9f3a"
             ],
             [
              0.8888888888888888,
              "#fdca26"
             ],
             [
              1,
              "#f0f921"
             ]
            ],
            "type": "surface"
           }
          ],
          "table": [
           {
            "cells": {
             "fill": {
              "color": "#EBF0F8"
             },
             "line": {
              "color": "white"
             }
            },
            "header": {
             "fill": {
              "color": "#C8D4E3"
             },
             "line": {
              "color": "white"
             }
            },
            "type": "table"
           }
          ]
         },
         "layout": {
          "annotationdefaults": {
           "arrowcolor": "#2a3f5f",
           "arrowhead": 0,
           "arrowwidth": 1
          },
          "autotypenumbers": "strict",
          "coloraxis": {
           "colorbar": {
            "outlinewidth": 0,
            "ticks": ""
           }
          },
          "colorscale": {
           "diverging": [
            [
             0,
             "#8e0152"
            ],
            [
             0.1,
             "#c51b7d"
            ],
            [
             0.2,
             "#de77ae"
            ],
            [
             0.3,
             "#f1b6da"
            ],
            [
             0.4,
             "#fde0ef"
            ],
            [
             0.5,
             "#f7f7f7"
            ],
            [
             0.6,
             "#e6f5d0"
            ],
            [
             0.7,
             "#b8e186"
            ],
            [
             0.8,
             "#7fbc41"
            ],
            [
             0.9,
             "#4d9221"
            ],
            [
             1,
             "#276419"
            ]
           ],
           "sequential": [
            [
             0,
             "#0d0887"
            ],
            [
             0.1111111111111111,
             "#46039f"
            ],
            [
             0.2222222222222222,
             "#7201a8"
            ],
            [
             0.3333333333333333,
             "#9c179e"
            ],
            [
             0.4444444444444444,
             "#bd3786"
            ],
            [
             0.5555555555555556,
             "#d8576b"
            ],
            [
             0.6666666666666666,
             "#ed7953"
            ],
            [
             0.7777777777777778,
             "#fb9f3a"
            ],
            [
             0.8888888888888888,
             "#fdca26"
            ],
            [
             1,
             "#f0f921"
            ]
           ],
           "sequentialminus": [
            [
             0,
             "#0d0887"
            ],
            [
             0.1111111111111111,
             "#46039f"
            ],
            [
             0.2222222222222222,
             "#7201a8"
            ],
            [
             0.3333333333333333,
             "#9c179e"
            ],
            [
             0.4444444444444444,
             "#bd3786"
            ],
            [
             0.5555555555555556,
             "#d8576b"
            ],
            [
             0.6666666666666666,
             "#ed7953"
            ],
            [
             0.7777777777777778,
             "#fb9f3a"
            ],
            [
             0.8888888888888888,
             "#fdca26"
            ],
            [
             1,
             "#f0f921"
            ]
           ]
          },
          "colorway": [
           "#636efa",
           "#EF553B",
           "#00cc96",
           "#ab63fa",
           "#FFA15A",
           "#19d3f3",
           "#FF6692",
           "#B6E880",
           "#FF97FF",
           "#FECB52"
          ],
          "font": {
           "color": "#2a3f5f"
          },
          "geo": {
           "bgcolor": "white",
           "lakecolor": "white",
           "landcolor": "#E5ECF6",
           "showlakes": true,
           "showland": true,
           "subunitcolor": "white"
          },
          "hoverlabel": {
           "align": "left"
          },
          "hovermode": "closest",
          "mapbox": {
           "style": "light"
          },
          "paper_bgcolor": "white",
          "plot_bgcolor": "#E5ECF6",
          "polar": {
           "angularaxis": {
            "gridcolor": "white",
            "linecolor": "white",
            "ticks": ""
           },
           "bgcolor": "#E5ECF6",
           "radialaxis": {
            "gridcolor": "white",
            "linecolor": "white",
            "ticks": ""
           }
          },
          "scene": {
           "xaxis": {
            "backgroundcolor": "#E5ECF6",
            "gridcolor": "white",
            "gridwidth": 2,
            "linecolor": "white",
            "showbackground": true,
            "ticks": "",
            "zerolinecolor": "white"
           },
           "yaxis": {
            "backgroundcolor": "#E5ECF6",
            "gridcolor": "white",
            "gridwidth": 2,
            "linecolor": "white",
            "showbackground": true,
            "ticks": "",
            "zerolinecolor": "white"
           },
           "zaxis": {
            "backgroundcolor": "#E5ECF6",
            "gridcolor": "white",
            "gridwidth": 2,
            "linecolor": "white",
            "showbackground": true,
            "ticks": "",
            "zerolinecolor": "white"
           }
          },
          "shapedefaults": {
           "line": {
            "color": "#2a3f5f"
           }
          },
          "ternary": {
           "aaxis": {
            "gridcolor": "white",
            "linecolor": "white",
            "ticks": ""
           },
           "baxis": {
            "gridcolor": "white",
            "linecolor": "white",
            "ticks": ""
           },
           "bgcolor": "#E5ECF6",
           "caxis": {
            "gridcolor": "white",
            "linecolor": "white",
            "ticks": ""
           }
          },
          "title": {
           "x": 0.05
          },
          "xaxis": {
           "automargin": true,
           "gridcolor": "white",
           "linecolor": "white",
           "ticks": "",
           "title": {
            "standoff": 15
           },
           "zerolinecolor": "white",
           "zerolinewidth": 2
          },
          "yaxis": {
           "automargin": true,
           "gridcolor": "white",
           "linecolor": "white",
           "ticks": "",
           "title": {
            "standoff": 15
           },
           "zerolinecolor": "white",
           "zerolinewidth": 2
          }
         }
        },
        "title": {
         "text": "Churn rate by Dependents"
        },
        "xaxis": {
         "anchor": "y",
         "domain": [
          0,
          1
         ],
         "title": {
          "text": "Dependents"
         }
        },
        "yaxis": {
         "anchor": "x",
         "domain": [
          0,
          1
         ],
         "title": {
          "text": "Count"
         }
        }
       }
      }
     },
     "metadata": {},
     "output_type": "display_data"
    }
   ],
   "source": [
    "#Gender feature plot\n",
    "bar('gender')\n",
    "#SeniorCitizen feature plot \n",
    "data_df.loc[data_df.SeniorCitizen==0,'SeniorCitizen'] = \"No\"   #convert 0 to No in all data instances\n",
    "data_df.loc[data_df.SeniorCitizen==1,'SeniorCitizen'] = \"Yes\"  #convert 1 to Yes in all data instances\n",
    "bar('SeniorCitizen')\n",
    "#Partner feature plot\n",
    "bar('Partner')\n",
    "#Dependents feature plot\n",
    "bar('Dependents')"
   ]
  },
  {
   "cell_type": "markdown",
   "id": "35fdd171",
   "metadata": {},
   "source": [
    "**Demographic analysis insight**: Gender and partner are evenly distributed with approximate percentage values. The difference in churn is slightly higher in females, but the small difference can be ignored. There’s a higher proportion of churn in younger customers (SeniorCitizen = No), customers with no partners, and customers with no dependents. The demographic section of data highlights on-senior citizens with no partners and dependents as a particular segment of customers likely to churn."
   ]
  },
  {
   "cell_type": "code",
   "execution_count": 22,
   "id": "2587aefb",
   "metadata": {},
   "outputs": [
    {
     "name": "stderr",
     "output_type": "stream",
     "text": [
      "C:\\Users\\Asus\\AppData\\Local\\Temp\\ipykernel_19164\\1367734987.py:7: FutureWarning:\n",
      "\n",
      "Series.__getitem__ treating keys as positions is deprecated. In a future version, integer keys will always be treated as labels (consistent with DataFrame behavior). To access a value by position, use `ser.iloc[pos]`\n",
      "\n",
      "C:\\Users\\Asus\\AppData\\Local\\Temp\\ipykernel_19164\\1367734987.py:9: FutureWarning:\n",
      "\n",
      "Series.__getitem__ treating keys as positions is deprecated. In a future version, integer keys will always be treated as labels (consistent with DataFrame behavior). To access a value by position, use `ser.iloc[pos]`\n",
      "\n"
     ]
    },
    {
     "data": {
      "application/vnd.plotly.v1+json": {
       "config": {
        "plotlyServerURL": "https://plot.ly"
       },
       "data": [
        {
         "alignmentgroup": "True",
         "hovertemplate": "Churn=No<br>PhoneService=%{x}<br>Count=%{y}<extra></extra>",
         "legendgroup": "No",
         "marker": {
          "color": "green",
          "pattern": {
           "shape": ""
          }
         },
         "name": "No",
         "offsetgroup": "No",
         "orientation": "v",
         "showlegend": true,
         "textposition": "auto",
         "type": "bar",
         "x": [
          "No",
          "Yes"
         ],
         "xaxis": "x",
         "y": {
          "bdata": "AAI2Eg==",
          "dtype": "i2"
         },
         "yaxis": "y"
        },
        {
         "alignmentgroup": "True",
         "hovertemplate": "Churn=Yes<br>PhoneService=%{x}<br>Count=%{y}<extra></extra>",
         "legendgroup": "Yes",
         "marker": {
          "color": "red",
          "pattern": {
           "shape": ""
          }
         },
         "name": "Yes",
         "offsetgroup": "Yes",
         "orientation": "v",
         "showlegend": true,
         "textposition": "auto",
         "type": "bar",
         "x": [
          "No",
          "Yes"
         ],
         "xaxis": "x",
         "y": {
          "bdata": "qgCjBg==",
          "dtype": "i2"
         },
         "yaxis": "y"
        }
       ],
       "layout": {
        "annotations": [
         {
          "align": "left",
          "bordercolor": "black",
          "borderwidth": 1,
          "showarrow": false,
          "text": "Value count of distribution of Yes & No are<br>90.3% & 9.7% percentage respectively.",
          "x": 1.4,
          "xref": "paper",
          "y": 1.3,
          "yref": "paper"
         }
        ],
        "barmode": "group",
        "legend": {
         "title": {
          "text": "Churn"
         },
         "tracegroupgap": 0
        },
        "margin": {
         "r": 400
        },
        "template": {
         "data": {
          "bar": [
           {
            "error_x": {
             "color": "#2a3f5f"
            },
            "error_y": {
             "color": "#2a3f5f"
            },
            "marker": {
             "line": {
              "color": "#E5ECF6",
              "width": 0.5
             },
             "pattern": {
              "fillmode": "overlay",
              "size": 10,
              "solidity": 0.2
             }
            },
            "type": "bar"
           }
          ],
          "barpolar": [
           {
            "marker": {
             "line": {
              "color": "#E5ECF6",
              "width": 0.5
             },
             "pattern": {
              "fillmode": "overlay",
              "size": 10,
              "solidity": 0.2
             }
            },
            "type": "barpolar"
           }
          ],
          "carpet": [
           {
            "aaxis": {
             "endlinecolor": "#2a3f5f",
             "gridcolor": "white",
             "linecolor": "white",
             "minorgridcolor": "white",
             "startlinecolor": "#2a3f5f"
            },
            "baxis": {
             "endlinecolor": "#2a3f5f",
             "gridcolor": "white",
             "linecolor": "white",
             "minorgridcolor": "white",
             "startlinecolor": "#2a3f5f"
            },
            "type": "carpet"
           }
          ],
          "choropleth": [
           {
            "colorbar": {
             "outlinewidth": 0,
             "ticks": ""
            },
            "type": "choropleth"
           }
          ],
          "contour": [
           {
            "colorbar": {
             "outlinewidth": 0,
             "ticks": ""
            },
            "colorscale": [
             [
              0,
              "#0d0887"
             ],
             [
              0.1111111111111111,
              "#46039f"
             ],
             [
              0.2222222222222222,
              "#7201a8"
             ],
             [
              0.3333333333333333,
              "#9c179e"
             ],
             [
              0.4444444444444444,
              "#bd3786"
             ],
             [
              0.5555555555555556,
              "#d8576b"
             ],
             [
              0.6666666666666666,
              "#ed7953"
             ],
             [
              0.7777777777777778,
              "#fb9f3a"
             ],
             [
              0.8888888888888888,
              "#fdca26"
             ],
             [
              1,
              "#f0f921"
             ]
            ],
            "type": "contour"
           }
          ],
          "contourcarpet": [
           {
            "colorbar": {
             "outlinewidth": 0,
             "ticks": ""
            },
            "type": "contourcarpet"
           }
          ],
          "heatmap": [
           {
            "colorbar": {
             "outlinewidth": 0,
             "ticks": ""
            },
            "colorscale": [
             [
              0,
              "#0d0887"
             ],
             [
              0.1111111111111111,
              "#46039f"
             ],
             [
              0.2222222222222222,
              "#7201a8"
             ],
             [
              0.3333333333333333,
              "#9c179e"
             ],
             [
              0.4444444444444444,
              "#bd3786"
             ],
             [
              0.5555555555555556,
              "#d8576b"
             ],
             [
              0.6666666666666666,
              "#ed7953"
             ],
             [
              0.7777777777777778,
              "#fb9f3a"
             ],
             [
              0.8888888888888888,
              "#fdca26"
             ],
             [
              1,
              "#f0f921"
             ]
            ],
            "type": "heatmap"
           }
          ],
          "histogram": [
           {
            "marker": {
             "pattern": {
              "fillmode": "overlay",
              "size": 10,
              "solidity": 0.2
             }
            },
            "type": "histogram"
           }
          ],
          "histogram2d": [
           {
            "colorbar": {
             "outlinewidth": 0,
             "ticks": ""
            },
            "colorscale": [
             [
              0,
              "#0d0887"
             ],
             [
              0.1111111111111111,
              "#46039f"
             ],
             [
              0.2222222222222222,
              "#7201a8"
             ],
             [
              0.3333333333333333,
              "#9c179e"
             ],
             [
              0.4444444444444444,
              "#bd3786"
             ],
             [
              0.5555555555555556,
              "#d8576b"
             ],
             [
              0.6666666666666666,
              "#ed7953"
             ],
             [
              0.7777777777777778,
              "#fb9f3a"
             ],
             [
              0.8888888888888888,
              "#fdca26"
             ],
             [
              1,
              "#f0f921"
             ]
            ],
            "type": "histogram2d"
           }
          ],
          "histogram2dcontour": [
           {
            "colorbar": {
             "outlinewidth": 0,
             "ticks": ""
            },
            "colorscale": [
             [
              0,
              "#0d0887"
             ],
             [
              0.1111111111111111,
              "#46039f"
             ],
             [
              0.2222222222222222,
              "#7201a8"
             ],
             [
              0.3333333333333333,
              "#9c179e"
             ],
             [
              0.4444444444444444,
              "#bd3786"
             ],
             [
              0.5555555555555556,
              "#d8576b"
             ],
             [
              0.6666666666666666,
              "#ed7953"
             ],
             [
              0.7777777777777778,
              "#fb9f3a"
             ],
             [
              0.8888888888888888,
              "#fdca26"
             ],
             [
              1,
              "#f0f921"
             ]
            ],
            "type": "histogram2dcontour"
           }
          ],
          "mesh3d": [
           {
            "colorbar": {
             "outlinewidth": 0,
             "ticks": ""
            },
            "type": "mesh3d"
           }
          ],
          "parcoords": [
           {
            "line": {
             "colorbar": {
              "outlinewidth": 0,
              "ticks": ""
             }
            },
            "type": "parcoords"
           }
          ],
          "pie": [
           {
            "automargin": true,
            "type": "pie"
           }
          ],
          "scatter": [
           {
            "fillpattern": {
             "fillmode": "overlay",
             "size": 10,
             "solidity": 0.2
            },
            "type": "scatter"
           }
          ],
          "scatter3d": [
           {
            "line": {
             "colorbar": {
              "outlinewidth": 0,
              "ticks": ""
             }
            },
            "marker": {
             "colorbar": {
              "outlinewidth": 0,
              "ticks": ""
             }
            },
            "type": "scatter3d"
           }
          ],
          "scattercarpet": [
           {
            "marker": {
             "colorbar": {
              "outlinewidth": 0,
              "ticks": ""
             }
            },
            "type": "scattercarpet"
           }
          ],
          "scattergeo": [
           {
            "marker": {
             "colorbar": {
              "outlinewidth": 0,
              "ticks": ""
             }
            },
            "type": "scattergeo"
           }
          ],
          "scattergl": [
           {
            "marker": {
             "colorbar": {
              "outlinewidth": 0,
              "ticks": ""
             }
            },
            "type": "scattergl"
           }
          ],
          "scattermap": [
           {
            "marker": {
             "colorbar": {
              "outlinewidth": 0,
              "ticks": ""
             }
            },
            "type": "scattermap"
           }
          ],
          "scattermapbox": [
           {
            "marker": {
             "colorbar": {
              "outlinewidth": 0,
              "ticks": ""
             }
            },
            "type": "scattermapbox"
           }
          ],
          "scatterpolar": [
           {
            "marker": {
             "colorbar": {
              "outlinewidth": 0,
              "ticks": ""
             }
            },
            "type": "scatterpolar"
           }
          ],
          "scatterpolargl": [
           {
            "marker": {
             "colorbar": {
              "outlinewidth": 0,
              "ticks": ""
             }
            },
            "type": "scatterpolargl"
           }
          ],
          "scatterternary": [
           {
            "marker": {
             "colorbar": {
              "outlinewidth": 0,
              "ticks": ""
             }
            },
            "type": "scatterternary"
           }
          ],
          "surface": [
           {
            "colorbar": {
             "outlinewidth": 0,
             "ticks": ""
            },
            "colorscale": [
             [
              0,
              "#0d0887"
             ],
             [
              0.1111111111111111,
              "#46039f"
             ],
             [
              0.2222222222222222,
              "#7201a8"
             ],
             [
              0.3333333333333333,
              "#9c179e"
             ],
             [
              0.4444444444444444,
              "#bd3786"
             ],
             [
              0.5555555555555556,
              "#d8576b"
             ],
             [
              0.6666666666666666,
              "#ed7953"
             ],
             [
              0.7777777777777778,
              "#fb9f3a"
             ],
             [
              0.8888888888888888,
              "#fdca26"
             ],
             [
              1,
              "#f0f921"
             ]
            ],
            "type": "surface"
           }
          ],
          "table": [
           {
            "cells": {
             "fill": {
              "color": "#EBF0F8"
             },
             "line": {
              "color": "white"
             }
            },
            "header": {
             "fill": {
              "color": "#C8D4E3"
             },
             "line": {
              "color": "white"
             }
            },
            "type": "table"
           }
          ]
         },
         "layout": {
          "annotationdefaults": {
           "arrowcolor": "#2a3f5f",
           "arrowhead": 0,
           "arrowwidth": 1
          },
          "autotypenumbers": "strict",
          "coloraxis": {
           "colorbar": {
            "outlinewidth": 0,
            "ticks": ""
           }
          },
          "colorscale": {
           "diverging": [
            [
             0,
             "#8e0152"
            ],
            [
             0.1,
             "#c51b7d"
            ],
            [
             0.2,
             "#de77ae"
            ],
            [
             0.3,
             "#f1b6da"
            ],
            [
             0.4,
             "#fde0ef"
            ],
            [
             0.5,
             "#f7f7f7"
            ],
            [
             0.6,
             "#e6f5d0"
            ],
            [
             0.7,
             "#b8e186"
            ],
            [
             0.8,
             "#7fbc41"
            ],
            [
             0.9,
             "#4d9221"
            ],
            [
             1,
             "#276419"
            ]
           ],
           "sequential": [
            [
             0,
             "#0d0887"
            ],
            [
             0.1111111111111111,
             "#46039f"
            ],
            [
             0.2222222222222222,
             "#7201a8"
            ],
            [
             0.3333333333333333,
             "#9c179e"
            ],
            [
             0.4444444444444444,
             "#bd3786"
            ],
            [
             0.5555555555555556,
             "#d8576b"
            ],
            [
             0.6666666666666666,
             "#ed7953"
            ],
            [
             0.7777777777777778,
             "#fb9f3a"
            ],
            [
             0.8888888888888888,
             "#fdca26"
            ],
            [
             1,
             "#f0f921"
            ]
           ],
           "sequentialminus": [
            [
             0,
             "#0d0887"
            ],
            [
             0.1111111111111111,
             "#46039f"
            ],
            [
             0.2222222222222222,
             "#7201a8"
            ],
            [
             0.3333333333333333,
             "#9c179e"
            ],
            [
             0.4444444444444444,
             "#bd3786"
            ],
            [
             0.5555555555555556,
             "#d8576b"
            ],
            [
             0.6666666666666666,
             "#ed7953"
            ],
            [
             0.7777777777777778,
             "#fb9f3a"
            ],
            [
             0.8888888888888888,
             "#fdca26"
            ],
            [
             1,
             "#f0f921"
            ]
           ]
          },
          "colorway": [
           "#636efa",
           "#EF553B",
           "#00cc96",
           "#ab63fa",
           "#FFA15A",
           "#19d3f3",
           "#FF6692",
           "#B6E880",
           "#FF97FF",
           "#FECB52"
          ],
          "font": {
           "color": "#2a3f5f"
          },
          "geo": {
           "bgcolor": "white",
           "lakecolor": "white",
           "landcolor": "#E5ECF6",
           "showlakes": true,
           "showland": true,
           "subunitcolor": "white"
          },
          "hoverlabel": {
           "align": "left"
          },
          "hovermode": "closest",
          "mapbox": {
           "style": "light"
          },
          "paper_bgcolor": "white",
          "plot_bgcolor": "#E5ECF6",
          "polar": {
           "angularaxis": {
            "gridcolor": "white",
            "linecolor": "white",
            "ticks": ""
           },
           "bgcolor": "#E5ECF6",
           "radialaxis": {
            "gridcolor": "white",
            "linecolor": "white",
            "ticks": ""
           }
          },
          "scene": {
           "xaxis": {
            "backgroundcolor": "#E5ECF6",
            "gridcolor": "white",
            "gridwidth": 2,
            "linecolor": "white",
            "showbackground": true,
            "ticks": "",
            "zerolinecolor": "white"
           },
           "yaxis": {
            "backgroundcolor": "#E5ECF6",
            "gridcolor": "white",
            "gridwidth": 2,
            "linecolor": "white",
            "showbackground": true,
            "ticks": "",
            "zerolinecolor": "white"
           },
           "zaxis": {
            "backgroundcolor": "#E5ECF6",
            "gridcolor": "white",
            "gridwidth": 2,
            "linecolor": "white",
            "showbackground": true,
            "ticks": "",
            "zerolinecolor": "white"
           }
          },
          "shapedefaults": {
           "line": {
            "color": "#2a3f5f"
           }
          },
          "ternary": {
           "aaxis": {
            "gridcolor": "white",
            "linecolor": "white",
            "ticks": ""
           },
           "baxis": {
            "gridcolor": "white",
            "linecolor": "white",
            "ticks": ""
           },
           "bgcolor": "#E5ECF6",
           "caxis": {
            "gridcolor": "white",
            "linecolor": "white",
            "ticks": ""
           }
          },
          "title": {
           "x": 0.05
          },
          "xaxis": {
           "automargin": true,
           "gridcolor": "white",
           "linecolor": "white",
           "ticks": "",
           "title": {
            "standoff": 15
           },
           "zerolinecolor": "white",
           "zerolinewidth": 2
          },
          "yaxis": {
           "automargin": true,
           "gridcolor": "white",
           "linecolor": "white",
           "ticks": "",
           "title": {
            "standoff": 15
           },
           "zerolinecolor": "white",
           "zerolinewidth": 2
          }
         }
        },
        "title": {
         "text": "Churn rate by PhoneService"
        },
        "xaxis": {
         "anchor": "y",
         "domain": [
          0,
          1
         ],
         "title": {
          "text": "PhoneService"
         }
        },
        "yaxis": {
         "anchor": "x",
         "domain": [
          0,
          1
         ],
         "title": {
          "text": "Count"
         }
        }
       }
      }
     },
     "metadata": {},
     "output_type": "display_data"
    },
    {
     "name": "stderr",
     "output_type": "stream",
     "text": [
      "C:\\Users\\Asus\\AppData\\Local\\Temp\\ipykernel_19164\\1367734987.py:7: FutureWarning:\n",
      "\n",
      "Series.__getitem__ treating keys as positions is deprecated. In a future version, integer keys will always be treated as labels (consistent with DataFrame behavior). To access a value by position, use `ser.iloc[pos]`\n",
      "\n",
      "C:\\Users\\Asus\\AppData\\Local\\Temp\\ipykernel_19164\\1367734987.py:9: FutureWarning:\n",
      "\n",
      "Series.__getitem__ treating keys as positions is deprecated. In a future version, integer keys will always be treated as labels (consistent with DataFrame behavior). To access a value by position, use `ser.iloc[pos]`\n",
      "\n"
     ]
    },
    {
     "data": {
      "application/vnd.plotly.v1+json": {
       "config": {
        "plotlyServerURL": "https://plot.ly"
       },
       "data": [
        {
         "alignmentgroup": "True",
         "hovertemplate": "Churn=No<br>MultipleLines=%{x}<br>Count=%{y}<extra></extra>",
         "legendgroup": "No",
         "marker": {
          "color": "green",
          "pattern": {
           "shape": ""
          }
         },
         "name": "No",
         "offsetgroup": "No",
         "orientation": "v",
         "showlegend": true,
         "textposition": "auto",
         "type": "bar",
         "x": [
          "No",
          "No phone service",
          "Yes"
         ],
         "xaxis": "x",
         "y": {
          "bdata": "7QkAAkkI",
          "dtype": "i2"
         },
         "yaxis": "y"
        },
        {
         "alignmentgroup": "True",
         "hovertemplate": "Churn=Yes<br>MultipleLines=%{x}<br>Count=%{y}<extra></extra>",
         "legendgroup": "Yes",
         "marker": {
          "color": "red",
          "pattern": {
           "shape": ""
          }
         },
         "name": "Yes",
         "offsetgroup": "Yes",
         "orientation": "v",
         "showlegend": true,
         "textposition": "auto",
         "type": "bar",
         "x": [
          "No",
          "No phone service",
          "Yes"
         ],
         "xaxis": "x",
         "y": {
          "bdata": "UQOqAFID",
          "dtype": "i2"
         },
         "yaxis": "y"
        }
       ],
       "layout": {
        "annotations": [
         {
          "align": "left",
          "bordercolor": "black",
          "borderwidth": 1,
          "showarrow": false,
          "text": "Value count of distribution of No, Yes & No phone service are<br>48.1%, 42.2% & 9.7% percentage respectively.",
          "x": 1.4,
          "xref": "paper",
          "y": 1.3,
          "yref": "paper"
         }
        ],
        "barmode": "group",
        "legend": {
         "title": {
          "text": "Churn"
         },
         "tracegroupgap": 0
        },
        "margin": {
         "r": 400
        },
        "template": {
         "data": {
          "bar": [
           {
            "error_x": {
             "color": "#2a3f5f"
            },
            "error_y": {
             "color": "#2a3f5f"
            },
            "marker": {
             "line": {
              "color": "#E5ECF6",
              "width": 0.5
             },
             "pattern": {
              "fillmode": "overlay",
              "size": 10,
              "solidity": 0.2
             }
            },
            "type": "bar"
           }
          ],
          "barpolar": [
           {
            "marker": {
             "line": {
              "color": "#E5ECF6",
              "width": 0.5
             },
             "pattern": {
              "fillmode": "overlay",
              "size": 10,
              "solidity": 0.2
             }
            },
            "type": "barpolar"
           }
          ],
          "carpet": [
           {
            "aaxis": {
             "endlinecolor": "#2a3f5f",
             "gridcolor": "white",
             "linecolor": "white",
             "minorgridcolor": "white",
             "startlinecolor": "#2a3f5f"
            },
            "baxis": {
             "endlinecolor": "#2a3f5f",
             "gridcolor": "white",
             "linecolor": "white",
             "minorgridcolor": "white",
             "startlinecolor": "#2a3f5f"
            },
            "type": "carpet"
           }
          ],
          "choropleth": [
           {
            "colorbar": {
             "outlinewidth": 0,
             "ticks": ""
            },
            "type": "choropleth"
           }
          ],
          "contour": [
           {
            "colorbar": {
             "outlinewidth": 0,
             "ticks": ""
            },
            "colorscale": [
             [
              0,
              "#0d0887"
             ],
             [
              0.1111111111111111,
              "#46039f"
             ],
             [
              0.2222222222222222,
              "#7201a8"
             ],
             [
              0.3333333333333333,
              "#9c179e"
             ],
             [
              0.4444444444444444,
              "#bd3786"
             ],
             [
              0.5555555555555556,
              "#d8576b"
             ],
             [
              0.6666666666666666,
              "#ed7953"
             ],
             [
              0.7777777777777778,
              "#fb9f3a"
             ],
             [
              0.8888888888888888,
              "#fdca26"
             ],
             [
              1,
              "#f0f921"
             ]
            ],
            "type": "contour"
           }
          ],
          "contourcarpet": [
           {
            "colorbar": {
             "outlinewidth": 0,
             "ticks": ""
            },
            "type": "contourcarpet"
           }
          ],
          "heatmap": [
           {
            "colorbar": {
             "outlinewidth": 0,
             "ticks": ""
            },
            "colorscale": [
             [
              0,
              "#0d0887"
             ],
             [
              0.1111111111111111,
              "#46039f"
             ],
             [
              0.2222222222222222,
              "#7201a8"
             ],
             [
              0.3333333333333333,
              "#9c179e"
             ],
             [
              0.4444444444444444,
              "#bd3786"
             ],
             [
              0.5555555555555556,
              "#d8576b"
             ],
             [
              0.6666666666666666,
              "#ed7953"
             ],
             [
              0.7777777777777778,
              "#fb9f3a"
             ],
             [
              0.8888888888888888,
              "#fdca26"
             ],
             [
              1,
              "#f0f921"
             ]
            ],
            "type": "heatmap"
           }
          ],
          "histogram": [
           {
            "marker": {
             "pattern": {
              "fillmode": "overlay",
              "size": 10,
              "solidity": 0.2
             }
            },
            "type": "histogram"
           }
          ],
          "histogram2d": [
           {
            "colorbar": {
             "outlinewidth": 0,
             "ticks": ""
            },
            "colorscale": [
             [
              0,
              "#0d0887"
             ],
             [
              0.1111111111111111,
              "#46039f"
             ],
             [
              0.2222222222222222,
              "#7201a8"
             ],
             [
              0.3333333333333333,
              "#9c179e"
             ],
             [
              0.4444444444444444,
              "#bd3786"
             ],
             [
              0.5555555555555556,
              "#d8576b"
             ],
             [
              0.6666666666666666,
              "#ed7953"
             ],
             [
              0.7777777777777778,
              "#fb9f3a"
             ],
             [
              0.8888888888888888,
              "#fdca26"
             ],
             [
              1,
              "#f0f921"
             ]
            ],
            "type": "histogram2d"
           }
          ],
          "histogram2dcontour": [
           {
            "colorbar": {
             "outlinewidth": 0,
             "ticks": ""
            },
            "colorscale": [
             [
              0,
              "#0d0887"
             ],
             [
              0.1111111111111111,
              "#46039f"
             ],
             [
              0.2222222222222222,
              "#7201a8"
             ],
             [
              0.3333333333333333,
              "#9c179e"
             ],
             [
              0.4444444444444444,
              "#bd3786"
             ],
             [
              0.5555555555555556,
              "#d8576b"
             ],
             [
              0.6666666666666666,
              "#ed7953"
             ],
             [
              0.7777777777777778,
              "#fb9f3a"
             ],
             [
              0.8888888888888888,
              "#fdca26"
             ],
             [
              1,
              "#f0f921"
             ]
            ],
            "type": "histogram2dcontour"
           }
          ],
          "mesh3d": [
           {
            "colorbar": {
             "outlinewidth": 0,
             "ticks": ""
            },
            "type": "mesh3d"
           }
          ],
          "parcoords": [
           {
            "line": {
             "colorbar": {
              "outlinewidth": 0,
              "ticks": ""
             }
            },
            "type": "parcoords"
           }
          ],
          "pie": [
           {
            "automargin": true,
            "type": "pie"
           }
          ],
          "scatter": [
           {
            "fillpattern": {
             "fillmode": "overlay",
             "size": 10,
             "solidity": 0.2
            },
            "type": "scatter"
           }
          ],
          "scatter3d": [
           {
            "line": {
             "colorbar": {
              "outlinewidth": 0,
              "ticks": ""
             }
            },
            "marker": {
             "colorbar": {
              "outlinewidth": 0,
              "ticks": ""
             }
            },
            "type": "scatter3d"
           }
          ],
          "scattercarpet": [
           {
            "marker": {
             "colorbar": {
              "outlinewidth": 0,
              "ticks": ""
             }
            },
            "type": "scattercarpet"
           }
          ],
          "scattergeo": [
           {
            "marker": {
             "colorbar": {
              "outlinewidth": 0,
              "ticks": ""
             }
            },
            "type": "scattergeo"
           }
          ],
          "scattergl": [
           {
            "marker": {
             "colorbar": {
              "outlinewidth": 0,
              "ticks": ""
             }
            },
            "type": "scattergl"
           }
          ],
          "scattermap": [
           {
            "marker": {
             "colorbar": {
              "outlinewidth": 0,
              "ticks": ""
             }
            },
            "type": "scattermap"
           }
          ],
          "scattermapbox": [
           {
            "marker": {
             "colorbar": {
              "outlinewidth": 0,
              "ticks": ""
             }
            },
            "type": "scattermapbox"
           }
          ],
          "scatterpolar": [
           {
            "marker": {
             "colorbar": {
              "outlinewidth": 0,
              "ticks": ""
             }
            },
            "type": "scatterpolar"
           }
          ],
          "scatterpolargl": [
           {
            "marker": {
             "colorbar": {
              "outlinewidth": 0,
              "ticks": ""
             }
            },
            "type": "scatterpolargl"
           }
          ],
          "scatterternary": [
           {
            "marker": {
             "colorbar": {
              "outlinewidth": 0,
              "ticks": ""
             }
            },
            "type": "scatterternary"
           }
          ],
          "surface": [
           {
            "colorbar": {
             "outlinewidth": 0,
             "ticks": ""
            },
            "colorscale": [
             [
              0,
              "#0d0887"
             ],
             [
              0.1111111111111111,
              "#46039f"
             ],
             [
              0.2222222222222222,
              "#7201a8"
             ],
             [
              0.3333333333333333,
              "#9c179e"
             ],
             [
              0.4444444444444444,
              "#bd3786"
             ],
             [
              0.5555555555555556,
              "#d8576b"
             ],
             [
              0.6666666666666666,
              "#ed7953"
             ],
             [
              0.7777777777777778,
              "#fb9f3a"
             ],
             [
              0.8888888888888888,
              "#fdca26"
             ],
             [
              1,
              "#f0f921"
             ]
            ],
            "type": "surface"
           }
          ],
          "table": [
           {
            "cells": {
             "fill": {
              "color": "#EBF0F8"
             },
             "line": {
              "color": "white"
             }
            },
            "header": {
             "fill": {
              "color": "#C8D4E3"
             },
             "line": {
              "color": "white"
             }
            },
            "type": "table"
           }
          ]
         },
         "layout": {
          "annotationdefaults": {
           "arrowcolor": "#2a3f5f",
           "arrowhead": 0,
           "arrowwidth": 1
          },
          "autotypenumbers": "strict",
          "coloraxis": {
           "colorbar": {
            "outlinewidth": 0,
            "ticks": ""
           }
          },
          "colorscale": {
           "diverging": [
            [
             0,
             "#8e0152"
            ],
            [
             0.1,
             "#c51b7d"
            ],
            [
             0.2,
             "#de77ae"
            ],
            [
             0.3,
             "#f1b6da"
            ],
            [
             0.4,
             "#fde0ef"
            ],
            [
             0.5,
             "#f7f7f7"
            ],
            [
             0.6,
             "#e6f5d0"
            ],
            [
             0.7,
             "#b8e186"
            ],
            [
             0.8,
             "#7fbc41"
            ],
            [
             0.9,
             "#4d9221"
            ],
            [
             1,
             "#276419"
            ]
           ],
           "sequential": [
            [
             0,
             "#0d0887"
            ],
            [
             0.1111111111111111,
             "#46039f"
            ],
            [
             0.2222222222222222,
             "#7201a8"
            ],
            [
             0.3333333333333333,
             "#9c179e"
            ],
            [
             0.4444444444444444,
             "#bd3786"
            ],
            [
             0.5555555555555556,
             "#d8576b"
            ],
            [
             0.6666666666666666,
             "#ed7953"
            ],
            [
             0.7777777777777778,
             "#fb9f3a"
            ],
            [
             0.8888888888888888,
             "#fdca26"
            ],
            [
             1,
             "#f0f921"
            ]
           ],
           "sequentialminus": [
            [
             0,
             "#0d0887"
            ],
            [
             0.1111111111111111,
             "#46039f"
            ],
            [
             0.2222222222222222,
             "#7201a8"
            ],
            [
             0.3333333333333333,
             "#9c179e"
            ],
            [
             0.4444444444444444,
             "#bd3786"
            ],
            [
             0.5555555555555556,
             "#d8576b"
            ],
            [
             0.6666666666666666,
             "#ed7953"
            ],
            [
             0.7777777777777778,
             "#fb9f3a"
            ],
            [
             0.8888888888888888,
             "#fdca26"
            ],
            [
             1,
             "#f0f921"
            ]
           ]
          },
          "colorway": [
           "#636efa",
           "#EF553B",
           "#00cc96",
           "#ab63fa",
           "#FFA15A",
           "#19d3f3",
           "#FF6692",
           "#B6E880",
           "#FF97FF",
           "#FECB52"
          ],
          "font": {
           "color": "#2a3f5f"
          },
          "geo": {
           "bgcolor": "white",
           "lakecolor": "white",
           "landcolor": "#E5ECF6",
           "showlakes": true,
           "showland": true,
           "subunitcolor": "white"
          },
          "hoverlabel": {
           "align": "left"
          },
          "hovermode": "closest",
          "mapbox": {
           "style": "light"
          },
          "paper_bgcolor": "white",
          "plot_bgcolor": "#E5ECF6",
          "polar": {
           "angularaxis": {
            "gridcolor": "white",
            "linecolor": "white",
            "ticks": ""
           },
           "bgcolor": "#E5ECF6",
           "radialaxis": {
            "gridcolor": "white",
            "linecolor": "white",
            "ticks": ""
           }
          },
          "scene": {
           "xaxis": {
            "backgroundcolor": "#E5ECF6",
            "gridcolor": "white",
            "gridwidth": 2,
            "linecolor": "white",
            "showbackground": true,
            "ticks": "",
            "zerolinecolor": "white"
           },
           "yaxis": {
            "backgroundcolor": "#E5ECF6",
            "gridcolor": "white",
            "gridwidth": 2,
            "linecolor": "white",
            "showbackground": true,
            "ticks": "",
            "zerolinecolor": "white"
           },
           "zaxis": {
            "backgroundcolor": "#E5ECF6",
            "gridcolor": "white",
            "gridwidth": 2,
            "linecolor": "white",
            "showbackground": true,
            "ticks": "",
            "zerolinecolor": "white"
           }
          },
          "shapedefaults": {
           "line": {
            "color": "#2a3f5f"
           }
          },
          "ternary": {
           "aaxis": {
            "gridcolor": "white",
            "linecolor": "white",
            "ticks": ""
           },
           "baxis": {
            "gridcolor": "white",
            "linecolor": "white",
            "ticks": ""
           },
           "bgcolor": "#E5ECF6",
           "caxis": {
            "gridcolor": "white",
            "linecolor": "white",
            "ticks": ""
           }
          },
          "title": {
           "x": 0.05
          },
          "xaxis": {
           "automargin": true,
           "gridcolor": "white",
           "linecolor": "white",
           "ticks": "",
           "title": {
            "standoff": 15
           },
           "zerolinecolor": "white",
           "zerolinewidth": 2
          },
          "yaxis": {
           "automargin": true,
           "gridcolor": "white",
           "linecolor": "white",
           "ticks": "",
           "title": {
            "standoff": 15
           },
           "zerolinecolor": "white",
           "zerolinewidth": 2
          }
         }
        },
        "title": {
         "text": "Churn rate by MultipleLines"
        },
        "xaxis": {
         "anchor": "y",
         "domain": [
          0,
          1
         ],
         "title": {
          "text": "MultipleLines"
         }
        },
        "yaxis": {
         "anchor": "x",
         "domain": [
          0,
          1
         ],
         "title": {
          "text": "Count"
         }
        }
       }
      }
     },
     "metadata": {},
     "output_type": "display_data"
    },
    {
     "name": "stderr",
     "output_type": "stream",
     "text": [
      "C:\\Users\\Asus\\AppData\\Local\\Temp\\ipykernel_19164\\1367734987.py:7: FutureWarning:\n",
      "\n",
      "Series.__getitem__ treating keys as positions is deprecated. In a future version, integer keys will always be treated as labels (consistent with DataFrame behavior). To access a value by position, use `ser.iloc[pos]`\n",
      "\n",
      "C:\\Users\\Asus\\AppData\\Local\\Temp\\ipykernel_19164\\1367734987.py:9: FutureWarning:\n",
      "\n",
      "Series.__getitem__ treating keys as positions is deprecated. In a future version, integer keys will always be treated as labels (consistent with DataFrame behavior). To access a value by position, use `ser.iloc[pos]`\n",
      "\n"
     ]
    },
    {
     "data": {
      "application/vnd.plotly.v1+json": {
       "config": {
        "plotlyServerURL": "https://plot.ly"
       },
       "data": [
        {
         "alignmentgroup": "True",
         "hovertemplate": "Churn=No<br>InternetService=%{x}<br>Count=%{y}<extra></extra>",
         "legendgroup": "No",
         "marker": {
          "color": "green",
          "pattern": {
           "shape": ""
          }
         },
         "name": "No",
         "offsetgroup": "No",
         "orientation": "v",
         "showlegend": true,
         "textposition": "auto",
         "type": "bar",
         "x": [
          "DSL",
          "Fiber optic",
          "No"
         ],
         "xaxis": "x",
         "y": {
          "bdata": "qgcHB4UF",
          "dtype": "i2"
         },
         "yaxis": "y"
        },
        {
         "alignmentgroup": "True",
         "hovertemplate": "Churn=Yes<br>InternetService=%{x}<br>Count=%{y}<extra></extra>",
         "legendgroup": "Yes",
         "marker": {
          "color": "red",
          "pattern": {
           "shape": ""
          }
         },
         "name": "Yes",
         "offsetgroup": "Yes",
         "orientation": "v",
         "showlegend": true,
         "textposition": "auto",
         "type": "bar",
         "x": [
          "DSL",
          "Fiber optic",
          "No"
         ],
         "xaxis": "x",
         "y": {
          "bdata": "ywERBXEA",
          "dtype": "i2"
         },
         "yaxis": "y"
        }
       ],
       "layout": {
        "annotations": [
         {
          "align": "left",
          "bordercolor": "black",
          "borderwidth": 1,
          "showarrow": false,
          "text": "Value count of distribution of Fiber optic, DSL & No are<br>44.0%, 34.4% & 21.7% percentage respectively.",
          "x": 1.4,
          "xref": "paper",
          "y": 1.3,
          "yref": "paper"
         }
        ],
        "barmode": "group",
        "legend": {
         "title": {
          "text": "Churn"
         },
         "tracegroupgap": 0
        },
        "margin": {
         "r": 400
        },
        "template": {
         "data": {
          "bar": [
           {
            "error_x": {
             "color": "#2a3f5f"
            },
            "error_y": {
             "color": "#2a3f5f"
            },
            "marker": {
             "line": {
              "color": "#E5ECF6",
              "width": 0.5
             },
             "pattern": {
              "fillmode": "overlay",
              "size": 10,
              "solidity": 0.2
             }
            },
            "type": "bar"
           }
          ],
          "barpolar": [
           {
            "marker": {
             "line": {
              "color": "#E5ECF6",
              "width": 0.5
             },
             "pattern": {
              "fillmode": "overlay",
              "size": 10,
              "solidity": 0.2
             }
            },
            "type": "barpolar"
           }
          ],
          "carpet": [
           {
            "aaxis": {
             "endlinecolor": "#2a3f5f",
             "gridcolor": "white",
             "linecolor": "white",
             "minorgridcolor": "white",
             "startlinecolor": "#2a3f5f"
            },
            "baxis": {
             "endlinecolor": "#2a3f5f",
             "gridcolor": "white",
             "linecolor": "white",
             "minorgridcolor": "white",
             "startlinecolor": "#2a3f5f"
            },
            "type": "carpet"
           }
          ],
          "choropleth": [
           {
            "colorbar": {
             "outlinewidth": 0,
             "ticks": ""
            },
            "type": "choropleth"
           }
          ],
          "contour": [
           {
            "colorbar": {
             "outlinewidth": 0,
             "ticks": ""
            },
            "colorscale": [
             [
              0,
              "#0d0887"
             ],
             [
              0.1111111111111111,
              "#46039f"
             ],
             [
              0.2222222222222222,
              "#7201a8"
             ],
             [
              0.3333333333333333,
              "#9c179e"
             ],
             [
              0.4444444444444444,
              "#bd3786"
             ],
             [
              0.5555555555555556,
              "#d8576b"
             ],
             [
              0.6666666666666666,
              "#ed7953"
             ],
             [
              0.7777777777777778,
              "#fb9f3a"
             ],
             [
              0.8888888888888888,
              "#fdca26"
             ],
             [
              1,
              "#f0f921"
             ]
            ],
            "type": "contour"
           }
          ],
          "contourcarpet": [
           {
            "colorbar": {
             "outlinewidth": 0,
             "ticks": ""
            },
            "type": "contourcarpet"
           }
          ],
          "heatmap": [
           {
            "colorbar": {
             "outlinewidth": 0,
             "ticks": ""
            },
            "colorscale": [
             [
              0,
              "#0d0887"
             ],
             [
              0.1111111111111111,
              "#46039f"
             ],
             [
              0.2222222222222222,
              "#7201a8"
             ],
             [
              0.3333333333333333,
              "#9c179e"
             ],
             [
              0.4444444444444444,
              "#bd3786"
             ],
             [
              0.5555555555555556,
              "#d8576b"
             ],
             [
              0.6666666666666666,
              "#ed7953"
             ],
             [
              0.7777777777777778,
              "#fb9f3a"
             ],
             [
              0.8888888888888888,
              "#fdca26"
             ],
             [
              1,
              "#f0f921"
             ]
            ],
            "type": "heatmap"
           }
          ],
          "histogram": [
           {
            "marker": {
             "pattern": {
              "fillmode": "overlay",
              "size": 10,
              "solidity": 0.2
             }
            },
            "type": "histogram"
           }
          ],
          "histogram2d": [
           {
            "colorbar": {
             "outlinewidth": 0,
             "ticks": ""
            },
            "colorscale": [
             [
              0,
              "#0d0887"
             ],
             [
              0.1111111111111111,
              "#46039f"
             ],
             [
              0.2222222222222222,
              "#7201a8"
             ],
             [
              0.3333333333333333,
              "#9c179e"
             ],
             [
              0.4444444444444444,
              "#bd3786"
             ],
             [
              0.5555555555555556,
              "#d8576b"
             ],
             [
              0.6666666666666666,
              "#ed7953"
             ],
             [
              0.7777777777777778,
              "#fb9f3a"
             ],
             [
              0.8888888888888888,
              "#fdca26"
             ],
             [
              1,
              "#f0f921"
             ]
            ],
            "type": "histogram2d"
           }
          ],
          "histogram2dcontour": [
           {
            "colorbar": {
             "outlinewidth": 0,
             "ticks": ""
            },
            "colorscale": [
             [
              0,
              "#0d0887"
             ],
             [
              0.1111111111111111,
              "#46039f"
             ],
             [
              0.2222222222222222,
              "#7201a8"
             ],
             [
              0.3333333333333333,
              "#9c179e"
             ],
             [
              0.4444444444444444,
              "#bd3786"
             ],
             [
              0.5555555555555556,
              "#d8576b"
             ],
             [
              0.6666666666666666,
              "#ed7953"
             ],
             [
              0.7777777777777778,
              "#fb9f3a"
             ],
             [
              0.8888888888888888,
              "#fdca26"
             ],
             [
              1,
              "#f0f921"
             ]
            ],
            "type": "histogram2dcontour"
           }
          ],
          "mesh3d": [
           {
            "colorbar": {
             "outlinewidth": 0,
             "ticks": ""
            },
            "type": "mesh3d"
           }
          ],
          "parcoords": [
           {
            "line": {
             "colorbar": {
              "outlinewidth": 0,
              "ticks": ""
             }
            },
            "type": "parcoords"
           }
          ],
          "pie": [
           {
            "automargin": true,
            "type": "pie"
           }
          ],
          "scatter": [
           {
            "fillpattern": {
             "fillmode": "overlay",
             "size": 10,
             "solidity": 0.2
            },
            "type": "scatter"
           }
          ],
          "scatter3d": [
           {
            "line": {
             "colorbar": {
              "outlinewidth": 0,
              "ticks": ""
             }
            },
            "marker": {
             "colorbar": {
              "outlinewidth": 0,
              "ticks": ""
             }
            },
            "type": "scatter3d"
           }
          ],
          "scattercarpet": [
           {
            "marker": {
             "colorbar": {
              "outlinewidth": 0,
              "ticks": ""
             }
            },
            "type": "scattercarpet"
           }
          ],
          "scattergeo": [
           {
            "marker": {
             "colorbar": {
              "outlinewidth": 0,
              "ticks": ""
             }
            },
            "type": "scattergeo"
           }
          ],
          "scattergl": [
           {
            "marker": {
             "colorbar": {
              "outlinewidth": 0,
              "ticks": ""
             }
            },
            "type": "scattergl"
           }
          ],
          "scattermap": [
           {
            "marker": {
             "colorbar": {
              "outlinewidth": 0,
              "ticks": ""
             }
            },
            "type": "scattermap"
           }
          ],
          "scattermapbox": [
           {
            "marker": {
             "colorbar": {
              "outlinewidth": 0,
              "ticks": ""
             }
            },
            "type": "scattermapbox"
           }
          ],
          "scatterpolar": [
           {
            "marker": {
             "colorbar": {
              "outlinewidth": 0,
              "ticks": ""
             }
            },
            "type": "scatterpolar"
           }
          ],
          "scatterpolargl": [
           {
            "marker": {
             "colorbar": {
              "outlinewidth": 0,
              "ticks": ""
             }
            },
            "type": "scatterpolargl"
           }
          ],
          "scatterternary": [
           {
            "marker": {
             "colorbar": {
              "outlinewidth": 0,
              "ticks": ""
             }
            },
            "type": "scatterternary"
           }
          ],
          "surface": [
           {
            "colorbar": {
             "outlinewidth": 0,
             "ticks": ""
            },
            "colorscale": [
             [
              0,
              "#0d0887"
             ],
             [
              0.1111111111111111,
              "#46039f"
             ],
             [
              0.2222222222222222,
              "#7201a8"
             ],
             [
              0.3333333333333333,
              "#9c179e"
             ],
             [
              0.4444444444444444,
              "#bd3786"
             ],
             [
              0.5555555555555556,
              "#d8576b"
             ],
             [
              0.6666666666666666,
              "#ed7953"
             ],
             [
              0.7777777777777778,
              "#fb9f3a"
             ],
             [
              0.8888888888888888,
              "#fdca26"
             ],
             [
              1,
              "#f0f921"
             ]
            ],
            "type": "surface"
           }
          ],
          "table": [
           {
            "cells": {
             "fill": {
              "color": "#EBF0F8"
             },
             "line": {
              "color": "white"
             }
            },
            "header": {
             "fill": {
              "color": "#C8D4E3"
             },
             "line": {
              "color": "white"
             }
            },
            "type": "table"
           }
          ]
         },
         "layout": {
          "annotationdefaults": {
           "arrowcolor": "#2a3f5f",
           "arrowhead": 0,
           "arrowwidth": 1
          },
          "autotypenumbers": "strict",
          "coloraxis": {
           "colorbar": {
            "outlinewidth": 0,
            "ticks": ""
           }
          },
          "colorscale": {
           "diverging": [
            [
             0,
             "#8e0152"
            ],
            [
             0.1,
             "#c51b7d"
            ],
            [
             0.2,
             "#de77ae"
            ],
            [
             0.3,
             "#f1b6da"
            ],
            [
             0.4,
             "#fde0ef"
            ],
            [
             0.5,
             "#f7f7f7"
            ],
            [
             0.6,
             "#e6f5d0"
            ],
            [
             0.7,
             "#b8e186"
            ],
            [
             0.8,
             "#7fbc41"
            ],
            [
             0.9,
             "#4d9221"
            ],
            [
             1,
             "#276419"
            ]
           ],
           "sequential": [
            [
             0,
             "#0d0887"
            ],
            [
             0.1111111111111111,
             "#46039f"
            ],
            [
             0.2222222222222222,
             "#7201a8"
            ],
            [
             0.3333333333333333,
             "#9c179e"
            ],
            [
             0.4444444444444444,
             "#bd3786"
            ],
            [
             0.5555555555555556,
             "#d8576b"
            ],
            [
             0.6666666666666666,
             "#ed7953"
            ],
            [
             0.7777777777777778,
             "#fb9f3a"
            ],
            [
             0.8888888888888888,
             "#fdca26"
            ],
            [
             1,
             "#f0f921"
            ]
           ],
           "sequentialminus": [
            [
             0,
             "#0d0887"
            ],
            [
             0.1111111111111111,
             "#46039f"
            ],
            [
             0.2222222222222222,
             "#7201a8"
            ],
            [
             0.3333333333333333,
             "#9c179e"
            ],
            [
             0.4444444444444444,
             "#bd3786"
            ],
            [
             0.5555555555555556,
             "#d8576b"
            ],
            [
             0.6666666666666666,
             "#ed7953"
            ],
            [
             0.7777777777777778,
             "#fb9f3a"
            ],
            [
             0.8888888888888888,
             "#fdca26"
            ],
            [
             1,
             "#f0f921"
            ]
           ]
          },
          "colorway": [
           "#636efa",
           "#EF553B",
           "#00cc96",
           "#ab63fa",
           "#FFA15A",
           "#19d3f3",
           "#FF6692",
           "#B6E880",
           "#FF97FF",
           "#FECB52"
          ],
          "font": {
           "color": "#2a3f5f"
          },
          "geo": {
           "bgcolor": "white",
           "lakecolor": "white",
           "landcolor": "#E5ECF6",
           "showlakes": true,
           "showland": true,
           "subunitcolor": "white"
          },
          "hoverlabel": {
           "align": "left"
          },
          "hovermode": "closest",
          "mapbox": {
           "style": "light"
          },
          "paper_bgcolor": "white",
          "plot_bgcolor": "#E5ECF6",
          "polar": {
           "angularaxis": {
            "gridcolor": "white",
            "linecolor": "white",
            "ticks": ""
           },
           "bgcolor": "#E5ECF6",
           "radialaxis": {
            "gridcolor": "white",
            "linecolor": "white",
            "ticks": ""
           }
          },
          "scene": {
           "xaxis": {
            "backgroundcolor": "#E5ECF6",
            "gridcolor": "white",
            "gridwidth": 2,
            "linecolor": "white",
            "showbackground": true,
            "ticks": "",
            "zerolinecolor": "white"
           },
           "yaxis": {
            "backgroundcolor": "#E5ECF6",
            "gridcolor": "white",
            "gridwidth": 2,
            "linecolor": "white",
            "showbackground": true,
            "ticks": "",
            "zerolinecolor": "white"
           },
           "zaxis": {
            "backgroundcolor": "#E5ECF6",
            "gridcolor": "white",
            "gridwidth": 2,
            "linecolor": "white",
            "showbackground": true,
            "ticks": "",
            "zerolinecolor": "white"
           }
          },
          "shapedefaults": {
           "line": {
            "color": "#2a3f5f"
           }
          },
          "ternary": {
           "aaxis": {
            "gridcolor": "white",
            "linecolor": "white",
            "ticks": ""
           },
           "baxis": {
            "gridcolor": "white",
            "linecolor": "white",
            "ticks": ""
           },
           "bgcolor": "#E5ECF6",
           "caxis": {
            "gridcolor": "white",
            "linecolor": "white",
            "ticks": ""
           }
          },
          "title": {
           "x": 0.05
          },
          "xaxis": {
           "automargin": true,
           "gridcolor": "white",
           "linecolor": "white",
           "ticks": "",
           "title": {
            "standoff": 15
           },
           "zerolinecolor": "white",
           "zerolinewidth": 2
          },
          "yaxis": {
           "automargin": true,
           "gridcolor": "white",
           "linecolor": "white",
           "ticks": "",
           "title": {
            "standoff": 15
           },
           "zerolinecolor": "white",
           "zerolinewidth": 2
          }
         }
        },
        "title": {
         "text": "Churn rate by InternetService"
        },
        "xaxis": {
         "anchor": "y",
         "domain": [
          0,
          1
         ],
         "title": {
          "text": "InternetService"
         }
        },
        "yaxis": {
         "anchor": "x",
         "domain": [
          0,
          1
         ],
         "title": {
          "text": "Count"
         }
        }
       }
      }
     },
     "metadata": {},
     "output_type": "display_data"
    },
    {
     "name": "stderr",
     "output_type": "stream",
     "text": [
      "C:\\Users\\Asus\\AppData\\Local\\Temp\\ipykernel_19164\\1367734987.py:7: FutureWarning:\n",
      "\n",
      "Series.__getitem__ treating keys as positions is deprecated. In a future version, integer keys will always be treated as labels (consistent with DataFrame behavior). To access a value by position, use `ser.iloc[pos]`\n",
      "\n",
      "C:\\Users\\Asus\\AppData\\Local\\Temp\\ipykernel_19164\\1367734987.py:9: FutureWarning:\n",
      "\n",
      "Series.__getitem__ treating keys as positions is deprecated. In a future version, integer keys will always be treated as labels (consistent with DataFrame behavior). To access a value by position, use `ser.iloc[pos]`\n",
      "\n"
     ]
    },
    {
     "data": {
      "application/vnd.plotly.v1+json": {
       "config": {
        "plotlyServerURL": "https://plot.ly"
       },
       "data": [
        {
         "alignmentgroup": "True",
         "hovertemplate": "Churn=No<br>OnlineSecurity=%{x}<br>Count=%{y}<extra></extra>",
         "legendgroup": "No",
         "marker": {
          "color": "green",
          "pattern": {
           "shape": ""
          }
         },
         "name": "No",
         "offsetgroup": "No",
         "orientation": "v",
         "showlegend": true,
         "textposition": "auto",
         "type": "bar",
         "x": [
          "No",
          "No internet service",
          "Yes"
         ],
         "xaxis": "x",
         "y": {
          "bdata": "9QeFBbwG",
          "dtype": "i2"
         },
         "yaxis": "y"
        },
        {
         "alignmentgroup": "True",
         "hovertemplate": "Churn=Yes<br>OnlineSecurity=%{x}<br>Count=%{y}<extra></extra>",
         "legendgroup": "Yes",
         "marker": {
          "color": "red",
          "pattern": {
           "shape": ""
          }
         },
         "name": "Yes",
         "offsetgroup": "Yes",
         "orientation": "v",
         "showlegend": true,
         "textposition": "auto",
         "type": "bar",
         "x": [
          "No",
          "No internet service",
          "Yes"
         ],
         "xaxis": "x",
         "y": {
          "bdata": "tQVxACcB",
          "dtype": "i2"
         },
         "yaxis": "y"
        }
       ],
       "layout": {
        "annotations": [
         {
          "align": "left",
          "bordercolor": "black",
          "borderwidth": 1,
          "showarrow": false,
          "text": "Value count of distribution of No, Yes & No internet service are<br>49.7%, 28.7% & 21.7% percentage respectively.",
          "x": 1.4,
          "xref": "paper",
          "y": 1.3,
          "yref": "paper"
         }
        ],
        "barmode": "group",
        "legend": {
         "title": {
          "text": "Churn"
         },
         "tracegroupgap": 0
        },
        "margin": {
         "r": 400
        },
        "template": {
         "data": {
          "bar": [
           {
            "error_x": {
             "color": "#2a3f5f"
            },
            "error_y": {
             "color": "#2a3f5f"
            },
            "marker": {
             "line": {
              "color": "#E5ECF6",
              "width": 0.5
             },
             "pattern": {
              "fillmode": "overlay",
              "size": 10,
              "solidity": 0.2
             }
            },
            "type": "bar"
           }
          ],
          "barpolar": [
           {
            "marker": {
             "line": {
              "color": "#E5ECF6",
              "width": 0.5
             },
             "pattern": {
              "fillmode": "overlay",
              "size": 10,
              "solidity": 0.2
             }
            },
            "type": "barpolar"
           }
          ],
          "carpet": [
           {
            "aaxis": {
             "endlinecolor": "#2a3f5f",
             "gridcolor": "white",
             "linecolor": "white",
             "minorgridcolor": "white",
             "startlinecolor": "#2a3f5f"
            },
            "baxis": {
             "endlinecolor": "#2a3f5f",
             "gridcolor": "white",
             "linecolor": "white",
             "minorgridcolor": "white",
             "startlinecolor": "#2a3f5f"
            },
            "type": "carpet"
           }
          ],
          "choropleth": [
           {
            "colorbar": {
             "outlinewidth": 0,
             "ticks": ""
            },
            "type": "choropleth"
           }
          ],
          "contour": [
           {
            "colorbar": {
             "outlinewidth": 0,
             "ticks": ""
            },
            "colorscale": [
             [
              0,
              "#0d0887"
             ],
             [
              0.1111111111111111,
              "#46039f"
             ],
             [
              0.2222222222222222,
              "#7201a8"
             ],
             [
              0.3333333333333333,
              "#9c179e"
             ],
             [
              0.4444444444444444,
              "#bd3786"
             ],
             [
              0.5555555555555556,
              "#d8576b"
             ],
             [
              0.6666666666666666,
              "#ed7953"
             ],
             [
              0.7777777777777778,
              "#fb9f3a"
             ],
             [
              0.8888888888888888,
              "#fdca26"
             ],
             [
              1,
              "#f0f921"
             ]
            ],
            "type": "contour"
           }
          ],
          "contourcarpet": [
           {
            "colorbar": {
             "outlinewidth": 0,
             "ticks": ""
            },
            "type": "contourcarpet"
           }
          ],
          "heatmap": [
           {
            "colorbar": {
             "outlinewidth": 0,
             "ticks": ""
            },
            "colorscale": [
             [
              0,
              "#0d0887"
             ],
             [
              0.1111111111111111,
              "#46039f"
             ],
             [
              0.2222222222222222,
              "#7201a8"
             ],
             [
              0.3333333333333333,
              "#9c179e"
             ],
             [
              0.4444444444444444,
              "#bd3786"
             ],
             [
              0.5555555555555556,
              "#d8576b"
             ],
             [
              0.6666666666666666,
              "#ed7953"
             ],
             [
              0.7777777777777778,
              "#fb9f3a"
             ],
             [
              0.8888888888888888,
              "#fdca26"
             ],
             [
              1,
              "#f0f921"
             ]
            ],
            "type": "heatmap"
           }
          ],
          "histogram": [
           {
            "marker": {
             "pattern": {
              "fillmode": "overlay",
              "size": 10,
              "solidity": 0.2
             }
            },
            "type": "histogram"
           }
          ],
          "histogram2d": [
           {
            "colorbar": {
             "outlinewidth": 0,
             "ticks": ""
            },
            "colorscale": [
             [
              0,
              "#0d0887"
             ],
             [
              0.1111111111111111,
              "#46039f"
             ],
             [
              0.2222222222222222,
              "#7201a8"
             ],
             [
              0.3333333333333333,
              "#9c179e"
             ],
             [
              0.4444444444444444,
              "#bd3786"
             ],
             [
              0.5555555555555556,
              "#d8576b"
             ],
             [
              0.6666666666666666,
              "#ed7953"
             ],
             [
              0.7777777777777778,
              "#fb9f3a"
             ],
             [
              0.8888888888888888,
              "#fdca26"
             ],
             [
              1,
              "#f0f921"
             ]
            ],
            "type": "histogram2d"
           }
          ],
          "histogram2dcontour": [
           {
            "colorbar": {
             "outlinewidth": 0,
             "ticks": ""
            },
            "colorscale": [
             [
              0,
              "#0d0887"
             ],
             [
              0.1111111111111111,
              "#46039f"
             ],
             [
              0.2222222222222222,
              "#7201a8"
             ],
             [
              0.3333333333333333,
              "#9c179e"
             ],
             [
              0.4444444444444444,
              "#bd3786"
             ],
             [
              0.5555555555555556,
              "#d8576b"
             ],
             [
              0.6666666666666666,
              "#ed7953"
             ],
             [
              0.7777777777777778,
              "#fb9f3a"
             ],
             [
              0.8888888888888888,
              "#fdca26"
             ],
             [
              1,
              "#f0f921"
             ]
            ],
            "type": "histogram2dcontour"
           }
          ],
          "mesh3d": [
           {
            "colorbar": {
             "outlinewidth": 0,
             "ticks": ""
            },
            "type": "mesh3d"
           }
          ],
          "parcoords": [
           {
            "line": {
             "colorbar": {
              "outlinewidth": 0,
              "ticks": ""
             }
            },
            "type": "parcoords"
           }
          ],
          "pie": [
           {
            "automargin": true,
            "type": "pie"
           }
          ],
          "scatter": [
           {
            "fillpattern": {
             "fillmode": "overlay",
             "size": 10,
             "solidity": 0.2
            },
            "type": "scatter"
           }
          ],
          "scatter3d": [
           {
            "line": {
             "colorbar": {
              "outlinewidth": 0,
              "ticks": ""
             }
            },
            "marker": {
             "colorbar": {
              "outlinewidth": 0,
              "ticks": ""
             }
            },
            "type": "scatter3d"
           }
          ],
          "scattercarpet": [
           {
            "marker": {
             "colorbar": {
              "outlinewidth": 0,
              "ticks": ""
             }
            },
            "type": "scattercarpet"
           }
          ],
          "scattergeo": [
           {
            "marker": {
             "colorbar": {
              "outlinewidth": 0,
              "ticks": ""
             }
            },
            "type": "scattergeo"
           }
          ],
          "scattergl": [
           {
            "marker": {
             "colorbar": {
              "outlinewidth": 0,
              "ticks": ""
             }
            },
            "type": "scattergl"
           }
          ],
          "scattermap": [
           {
            "marker": {
             "colorbar": {
              "outlinewidth": 0,
              "ticks": ""
             }
            },
            "type": "scattermap"
           }
          ],
          "scattermapbox": [
           {
            "marker": {
             "colorbar": {
              "outlinewidth": 0,
              "ticks": ""
             }
            },
            "type": "scattermapbox"
           }
          ],
          "scatterpolar": [
           {
            "marker": {
             "colorbar": {
              "outlinewidth": 0,
              "ticks": ""
             }
            },
            "type": "scatterpolar"
           }
          ],
          "scatterpolargl": [
           {
            "marker": {
             "colorbar": {
              "outlinewidth": 0,
              "ticks": ""
             }
            },
            "type": "scatterpolargl"
           }
          ],
          "scatterternary": [
           {
            "marker": {
             "colorbar": {
              "outlinewidth": 0,
              "ticks": ""
             }
            },
            "type": "scatterternary"
           }
          ],
          "surface": [
           {
            "colorbar": {
             "outlinewidth": 0,
             "ticks": ""
            },
            "colorscale": [
             [
              0,
              "#0d0887"
             ],
             [
              0.1111111111111111,
              "#46039f"
             ],
             [
              0.2222222222222222,
              "#7201a8"
             ],
             [
              0.3333333333333333,
              "#9c179e"
             ],
             [
              0.4444444444444444,
              "#bd3786"
             ],
             [
              0.5555555555555556,
              "#d8576b"
             ],
             [
              0.6666666666666666,
              "#ed7953"
             ],
             [
              0.7777777777777778,
              "#fb9f3a"
             ],
             [
              0.8888888888888888,
              "#fdca26"
             ],
             [
              1,
              "#f0f921"
             ]
            ],
            "type": "surface"
           }
          ],
          "table": [
           {
            "cells": {
             "fill": {
              "color": "#EBF0F8"
             },
             "line": {
              "color": "white"
             }
            },
            "header": {
             "fill": {
              "color": "#C8D4E3"
             },
             "line": {
              "color": "white"
             }
            },
            "type": "table"
           }
          ]
         },
         "layout": {
          "annotationdefaults": {
           "arrowcolor": "#2a3f5f",
           "arrowhead": 0,
           "arrowwidth": 1
          },
          "autotypenumbers": "strict",
          "coloraxis": {
           "colorbar": {
            "outlinewidth": 0,
            "ticks": ""
           }
          },
          "colorscale": {
           "diverging": [
            [
             0,
             "#8e0152"
            ],
            [
             0.1,
             "#c51b7d"
            ],
            [
             0.2,
             "#de77ae"
            ],
            [
             0.3,
             "#f1b6da"
            ],
            [
             0.4,
             "#fde0ef"
            ],
            [
             0.5,
             "#f7f7f7"
            ],
            [
             0.6,
             "#e6f5d0"
            ],
            [
             0.7,
             "#b8e186"
            ],
            [
             0.8,
             "#7fbc41"
            ],
            [
             0.9,
             "#4d9221"
            ],
            [
             1,
             "#276419"
            ]
           ],
           "sequential": [
            [
             0,
             "#0d0887"
            ],
            [
             0.1111111111111111,
             "#46039f"
            ],
            [
             0.2222222222222222,
             "#7201a8"
            ],
            [
             0.3333333333333333,
             "#9c179e"
            ],
            [
             0.4444444444444444,
             "#bd3786"
            ],
            [
             0.5555555555555556,
             "#d8576b"
            ],
            [
             0.6666666666666666,
             "#ed7953"
            ],
            [
             0.7777777777777778,
             "#fb9f3a"
            ],
            [
             0.8888888888888888,
             "#fdca26"
            ],
            [
             1,
             "#f0f921"
            ]
           ],
           "sequentialminus": [
            [
             0,
             "#0d0887"
            ],
            [
             0.1111111111111111,
             "#46039f"
            ],
            [
             0.2222222222222222,
             "#7201a8"
            ],
            [
             0.3333333333333333,
             "#9c179e"
            ],
            [
             0.4444444444444444,
             "#bd3786"
            ],
            [
             0.5555555555555556,
             "#d8576b"
            ],
            [
             0.6666666666666666,
             "#ed7953"
            ],
            [
             0.7777777777777778,
             "#fb9f3a"
            ],
            [
             0.8888888888888888,
             "#fdca26"
            ],
            [
             1,
             "#f0f921"
            ]
           ]
          },
          "colorway": [
           "#636efa",
           "#EF553B",
           "#00cc96",
           "#ab63fa",
           "#FFA15A",
           "#19d3f3",
           "#FF6692",
           "#B6E880",
           "#FF97FF",
           "#FECB52"
          ],
          "font": {
           "color": "#2a3f5f"
          },
          "geo": {
           "bgcolor": "white",
           "lakecolor": "white",
           "landcolor": "#E5ECF6",
           "showlakes": true,
           "showland": true,
           "subunitcolor": "white"
          },
          "hoverlabel": {
           "align": "left"
          },
          "hovermode": "closest",
          "mapbox": {
           "style": "light"
          },
          "paper_bgcolor": "white",
          "plot_bgcolor": "#E5ECF6",
          "polar": {
           "angularaxis": {
            "gridcolor": "white",
            "linecolor": "white",
            "ticks": ""
           },
           "bgcolor": "#E5ECF6",
           "radialaxis": {
            "gridcolor": "white",
            "linecolor": "white",
            "ticks": ""
           }
          },
          "scene": {
           "xaxis": {
            "backgroundcolor": "#E5ECF6",
            "gridcolor": "white",
            "gridwidth": 2,
            "linecolor": "white",
            "showbackground": true,
            "ticks": "",
            "zerolinecolor": "white"
           },
           "yaxis": {
            "backgroundcolor": "#E5ECF6",
            "gridcolor": "white",
            "gridwidth": 2,
            "linecolor": "white",
            "showbackground": true,
            "ticks": "",
            "zerolinecolor": "white"
           },
           "zaxis": {
            "backgroundcolor": "#E5ECF6",
            "gridcolor": "white",
            "gridwidth": 2,
            "linecolor": "white",
            "showbackground": true,
            "ticks": "",
            "zerolinecolor": "white"
           }
          },
          "shapedefaults": {
           "line": {
            "color": "#2a3f5f"
           }
          },
          "ternary": {
           "aaxis": {
            "gridcolor": "white",
            "linecolor": "white",
            "ticks": ""
           },
           "baxis": {
            "gridcolor": "white",
            "linecolor": "white",
            "ticks": ""
           },
           "bgcolor": "#E5ECF6",
           "caxis": {
            "gridcolor": "white",
            "linecolor": "white",
            "ticks": ""
           }
          },
          "title": {
           "x": 0.05
          },
          "xaxis": {
           "automargin": true,
           "gridcolor": "white",
           "linecolor": "white",
           "ticks": "",
           "title": {
            "standoff": 15
           },
           "zerolinecolor": "white",
           "zerolinewidth": 2
          },
          "yaxis": {
           "automargin": true,
           "gridcolor": "white",
           "linecolor": "white",
           "ticks": "",
           "title": {
            "standoff": 15
           },
           "zerolinecolor": "white",
           "zerolinewidth": 2
          }
         }
        },
        "title": {
         "text": "Churn rate by OnlineSecurity"
        },
        "xaxis": {
         "anchor": "y",
         "domain": [
          0,
          1
         ],
         "title": {
          "text": "OnlineSecurity"
         }
        },
        "yaxis": {
         "anchor": "x",
         "domain": [
          0,
          1
         ],
         "title": {
          "text": "Count"
         }
        }
       }
      }
     },
     "metadata": {},
     "output_type": "display_data"
    },
    {
     "name": "stderr",
     "output_type": "stream",
     "text": [
      "C:\\Users\\Asus\\AppData\\Local\\Temp\\ipykernel_19164\\1367734987.py:7: FutureWarning:\n",
      "\n",
      "Series.__getitem__ treating keys as positions is deprecated. In a future version, integer keys will always be treated as labels (consistent with DataFrame behavior). To access a value by position, use `ser.iloc[pos]`\n",
      "\n",
      "C:\\Users\\Asus\\AppData\\Local\\Temp\\ipykernel_19164\\1367734987.py:9: FutureWarning:\n",
      "\n",
      "Series.__getitem__ treating keys as positions is deprecated. In a future version, integer keys will always be treated as labels (consistent with DataFrame behavior). To access a value by position, use `ser.iloc[pos]`\n",
      "\n"
     ]
    },
    {
     "data": {
      "application/vnd.plotly.v1+json": {
       "config": {
        "plotlyServerURL": "https://plot.ly"
       },
       "data": [
        {
         "alignmentgroup": "True",
         "hovertemplate": "Churn=No<br>OnlineBackup=%{x}<br>Count=%{y}<extra></extra>",
         "legendgroup": "No",
         "marker": {
          "color": "green",
          "pattern": {
           "shape": ""
          }
         },
         "name": "No",
         "offsetgroup": "No",
         "orientation": "v",
         "showlegend": true,
         "textposition": "auto",
         "type": "bar",
         "x": [
          "No",
          "No internet service",
          "Yes"
         ],
         "xaxis": "x",
         "y": {
          "bdata": "PweFBXIH",
          "dtype": "i2"
         },
         "yaxis": "y"
        },
        {
         "alignmentgroup": "True",
         "hovertemplate": "Churn=Yes<br>OnlineBackup=%{x}<br>Count=%{y}<extra></extra>",
         "legendgroup": "Yes",
         "marker": {
          "color": "red",
          "pattern": {
           "shape": ""
          }
         },
         "name": "Yes",
         "offsetgroup": "Yes",
         "orientation": "v",
         "showlegend": true,
         "textposition": "auto",
         "type": "bar",
         "x": [
          "No",
          "No internet service",
          "Yes"
         ],
         "xaxis": "x",
         "y": {
          "bdata": "0QRxAAsC",
          "dtype": "i2"
         },
         "yaxis": "y"
        }
       ],
       "layout": {
        "annotations": [
         {
          "align": "left",
          "bordercolor": "black",
          "borderwidth": 1,
          "showarrow": false,
          "text": "Value count of distribution of No, Yes & No internet service are<br>43.8%, 34.5% & 21.7% percentage respectively.",
          "x": 1.4,
          "xref": "paper",
          "y": 1.3,
          "yref": "paper"
         }
        ],
        "barmode": "group",
        "legend": {
         "title": {
          "text": "Churn"
         },
         "tracegroupgap": 0
        },
        "margin": {
         "r": 400
        },
        "template": {
         "data": {
          "bar": [
           {
            "error_x": {
             "color": "#2a3f5f"
            },
            "error_y": {
             "color": "#2a3f5f"
            },
            "marker": {
             "line": {
              "color": "#E5ECF6",
              "width": 0.5
             },
             "pattern": {
              "fillmode": "overlay",
              "size": 10,
              "solidity": 0.2
             }
            },
            "type": "bar"
           }
          ],
          "barpolar": [
           {
            "marker": {
             "line": {
              "color": "#E5ECF6",
              "width": 0.5
             },
             "pattern": {
              "fillmode": "overlay",
              "size": 10,
              "solidity": 0.2
             }
            },
            "type": "barpolar"
           }
          ],
          "carpet": [
           {
            "aaxis": {
             "endlinecolor": "#2a3f5f",
             "gridcolor": "white",
             "linecolor": "white",
             "minorgridcolor": "white",
             "startlinecolor": "#2a3f5f"
            },
            "baxis": {
             "endlinecolor": "#2a3f5f",
             "gridcolor": "white",
             "linecolor": "white",
             "minorgridcolor": "white",
             "startlinecolor": "#2a3f5f"
            },
            "type": "carpet"
           }
          ],
          "choropleth": [
           {
            "colorbar": {
             "outlinewidth": 0,
             "ticks": ""
            },
            "type": "choropleth"
           }
          ],
          "contour": [
           {
            "colorbar": {
             "outlinewidth": 0,
             "ticks": ""
            },
            "colorscale": [
             [
              0,
              "#0d0887"
             ],
             [
              0.1111111111111111,
              "#46039f"
             ],
             [
              0.2222222222222222,
              "#7201a8"
             ],
             [
              0.3333333333333333,
              "#9c179e"
             ],
             [
              0.4444444444444444,
              "#bd3786"
             ],
             [
              0.5555555555555556,
              "#d8576b"
             ],
             [
              0.6666666666666666,
              "#ed7953"
             ],
             [
              0.7777777777777778,
              "#fb9f3a"
             ],
             [
              0.8888888888888888,
              "#fdca26"
             ],
             [
              1,
              "#f0f921"
             ]
            ],
            "type": "contour"
           }
          ],
          "contourcarpet": [
           {
            "colorbar": {
             "outlinewidth": 0,
             "ticks": ""
            },
            "type": "contourcarpet"
           }
          ],
          "heatmap": [
           {
            "colorbar": {
             "outlinewidth": 0,
             "ticks": ""
            },
            "colorscale": [
             [
              0,
              "#0d0887"
             ],
             [
              0.1111111111111111,
              "#46039f"
             ],
             [
              0.2222222222222222,
              "#7201a8"
             ],
             [
              0.3333333333333333,
              "#9c179e"
             ],
             [
              0.4444444444444444,
              "#bd3786"
             ],
             [
              0.5555555555555556,
              "#d8576b"
             ],
             [
              0.6666666666666666,
              "#ed7953"
             ],
             [
              0.7777777777777778,
              "#fb9f3a"
             ],
             [
              0.8888888888888888,
              "#fdca26"
             ],
             [
              1,
              "#f0f921"
             ]
            ],
            "type": "heatmap"
           }
          ],
          "histogram": [
           {
            "marker": {
             "pattern": {
              "fillmode": "overlay",
              "size": 10,
              "solidity": 0.2
             }
            },
            "type": "histogram"
           }
          ],
          "histogram2d": [
           {
            "colorbar": {
             "outlinewidth": 0,
             "ticks": ""
            },
            "colorscale": [
             [
              0,
              "#0d0887"
             ],
             [
              0.1111111111111111,
              "#46039f"
             ],
             [
              0.2222222222222222,
              "#7201a8"
             ],
             [
              0.3333333333333333,
              "#9c179e"
             ],
             [
              0.4444444444444444,
              "#bd3786"
             ],
             [
              0.5555555555555556,
              "#d8576b"
             ],
             [
              0.6666666666666666,
              "#ed7953"
             ],
             [
              0.7777777777777778,
              "#fb9f3a"
             ],
             [
              0.8888888888888888,
              "#fdca26"
             ],
             [
              1,
              "#f0f921"
             ]
            ],
            "type": "histogram2d"
           }
          ],
          "histogram2dcontour": [
           {
            "colorbar": {
             "outlinewidth": 0,
             "ticks": ""
            },
            "colorscale": [
             [
              0,
              "#0d0887"
             ],
             [
              0.1111111111111111,
              "#46039f"
             ],
             [
              0.2222222222222222,
              "#7201a8"
             ],
             [
              0.3333333333333333,
              "#9c179e"
             ],
             [
              0.4444444444444444,
              "#bd3786"
             ],
             [
              0.5555555555555556,
              "#d8576b"
             ],
             [
              0.6666666666666666,
              "#ed7953"
             ],
             [
              0.7777777777777778,
              "#fb9f3a"
             ],
             [
              0.8888888888888888,
              "#fdca26"
             ],
             [
              1,
              "#f0f921"
             ]
            ],
            "type": "histogram2dcontour"
           }
          ],
          "mesh3d": [
           {
            "colorbar": {
             "outlinewidth": 0,
             "ticks": ""
            },
            "type": "mesh3d"
           }
          ],
          "parcoords": [
           {
            "line": {
             "colorbar": {
              "outlinewidth": 0,
              "ticks": ""
             }
            },
            "type": "parcoords"
           }
          ],
          "pie": [
           {
            "automargin": true,
            "type": "pie"
           }
          ],
          "scatter": [
           {
            "fillpattern": {
             "fillmode": "overlay",
             "size": 10,
             "solidity": 0.2
            },
            "type": "scatter"
           }
          ],
          "scatter3d": [
           {
            "line": {
             "colorbar": {
              "outlinewidth": 0,
              "ticks": ""
             }
            },
            "marker": {
             "colorbar": {
              "outlinewidth": 0,
              "ticks": ""
             }
            },
            "type": "scatter3d"
           }
          ],
          "scattercarpet": [
           {
            "marker": {
             "colorbar": {
              "outlinewidth": 0,
              "ticks": ""
             }
            },
            "type": "scattercarpet"
           }
          ],
          "scattergeo": [
           {
            "marker": {
             "colorbar": {
              "outlinewidth": 0,
              "ticks": ""
             }
            },
            "type": "scattergeo"
           }
          ],
          "scattergl": [
           {
            "marker": {
             "colorbar": {
              "outlinewidth": 0,
              "ticks": ""
             }
            },
            "type": "scattergl"
           }
          ],
          "scattermap": [
           {
            "marker": {
             "colorbar": {
              "outlinewidth": 0,
              "ticks": ""
             }
            },
            "type": "scattermap"
           }
          ],
          "scattermapbox": [
           {
            "marker": {
             "colorbar": {
              "outlinewidth": 0,
              "ticks": ""
             }
            },
            "type": "scattermapbox"
           }
          ],
          "scatterpolar": [
           {
            "marker": {
             "colorbar": {
              "outlinewidth": 0,
              "ticks": ""
             }
            },
            "type": "scatterpolar"
           }
          ],
          "scatterpolargl": [
           {
            "marker": {
             "colorbar": {
              "outlinewidth": 0,
              "ticks": ""
             }
            },
            "type": "scatterpolargl"
           }
          ],
          "scatterternary": [
           {
            "marker": {
             "colorbar": {
              "outlinewidth": 0,
              "ticks": ""
             }
            },
            "type": "scatterternary"
           }
          ],
          "surface": [
           {
            "colorbar": {
             "outlinewidth": 0,
             "ticks": ""
            },
            "colorscale": [
             [
              0,
              "#0d0887"
             ],
             [
              0.1111111111111111,
              "#46039f"
             ],
             [
              0.2222222222222222,
              "#7201a8"
             ],
             [
              0.3333333333333333,
              "#9c179e"
             ],
             [
              0.4444444444444444,
              "#bd3786"
             ],
             [
              0.5555555555555556,
              "#d8576b"
             ],
             [
              0.6666666666666666,
              "#ed7953"
             ],
             [
              0.7777777777777778,
              "#fb9f3a"
             ],
             [
              0.8888888888888888,
              "#fdca26"
             ],
             [
              1,
              "#f0f921"
             ]
            ],
            "type": "surface"
           }
          ],
          "table": [
           {
            "cells": {
             "fill": {
              "color": "#EBF0F8"
             },
             "line": {
              "color": "white"
             }
            },
            "header": {
             "fill": {
              "color": "#C8D4E3"
             },
             "line": {
              "color": "white"
             }
            },
            "type": "table"
           }
          ]
         },
         "layout": {
          "annotationdefaults": {
           "arrowcolor": "#2a3f5f",
           "arrowhead": 0,
           "arrowwidth": 1
          },
          "autotypenumbers": "strict",
          "coloraxis": {
           "colorbar": {
            "outlinewidth": 0,
            "ticks": ""
           }
          },
          "colorscale": {
           "diverging": [
            [
             0,
             "#8e0152"
            ],
            [
             0.1,
             "#c51b7d"
            ],
            [
             0.2,
             "#de77ae"
            ],
            [
             0.3,
             "#f1b6da"
            ],
            [
             0.4,
             "#fde0ef"
            ],
            [
             0.5,
             "#f7f7f7"
            ],
            [
             0.6,
             "#e6f5d0"
            ],
            [
             0.7,
             "#b8e186"
            ],
            [
             0.8,
             "#7fbc41"
            ],
            [
             0.9,
             "#4d9221"
            ],
            [
             1,
             "#276419"
            ]
           ],
           "sequential": [
            [
             0,
             "#0d0887"
            ],
            [
             0.1111111111111111,
             "#46039f"
            ],
            [
             0.2222222222222222,
             "#7201a8"
            ],
            [
             0.3333333333333333,
             "#9c179e"
            ],
            [
             0.4444444444444444,
             "#bd3786"
            ],
            [
             0.5555555555555556,
             "#d8576b"
            ],
            [
             0.6666666666666666,
             "#ed7953"
            ],
            [
             0.7777777777777778,
             "#fb9f3a"
            ],
            [
             0.8888888888888888,
             "#fdca26"
            ],
            [
             1,
             "#f0f921"
            ]
           ],
           "sequentialminus": [
            [
             0,
             "#0d0887"
            ],
            [
             0.1111111111111111,
             "#46039f"
            ],
            [
             0.2222222222222222,
             "#7201a8"
            ],
            [
             0.3333333333333333,
             "#9c179e"
            ],
            [
             0.4444444444444444,
             "#bd3786"
            ],
            [
             0.5555555555555556,
             "#d8576b"
            ],
            [
             0.6666666666666666,
             "#ed7953"
            ],
            [
             0.7777777777777778,
             "#fb9f3a"
            ],
            [
             0.8888888888888888,
             "#fdca26"
            ],
            [
             1,
             "#f0f921"
            ]
           ]
          },
          "colorway": [
           "#636efa",
           "#EF553B",
           "#00cc96",
           "#ab63fa",
           "#FFA15A",
           "#19d3f3",
           "#FF6692",
           "#B6E880",
           "#FF97FF",
           "#FECB52"
          ],
          "font": {
           "color": "#2a3f5f"
          },
          "geo": {
           "bgcolor": "white",
           "lakecolor": "white",
           "landcolor": "#E5ECF6",
           "showlakes": true,
           "showland": true,
           "subunitcolor": "white"
          },
          "hoverlabel": {
           "align": "left"
          },
          "hovermode": "closest",
          "mapbox": {
           "style": "light"
          },
          "paper_bgcolor": "white",
          "plot_bgcolor": "#E5ECF6",
          "polar": {
           "angularaxis": {
            "gridcolor": "white",
            "linecolor": "white",
            "ticks": ""
           },
           "bgcolor": "#E5ECF6",
           "radialaxis": {
            "gridcolor": "white",
            "linecolor": "white",
            "ticks": ""
           }
          },
          "scene": {
           "xaxis": {
            "backgroundcolor": "#E5ECF6",
            "gridcolor": "white",
            "gridwidth": 2,
            "linecolor": "white",
            "showbackground": true,
            "ticks": "",
            "zerolinecolor": "white"
           },
           "yaxis": {
            "backgroundcolor": "#E5ECF6",
            "gridcolor": "white",
            "gridwidth": 2,
            "linecolor": "white",
            "showbackground": true,
            "ticks": "",
            "zerolinecolor": "white"
           },
           "zaxis": {
            "backgroundcolor": "#E5ECF6",
            "gridcolor": "white",
            "gridwidth": 2,
            "linecolor": "white",
            "showbackground": true,
            "ticks": "",
            "zerolinecolor": "white"
           }
          },
          "shapedefaults": {
           "line": {
            "color": "#2a3f5f"
           }
          },
          "ternary": {
           "aaxis": {
            "gridcolor": "white",
            "linecolor": "white",
            "ticks": ""
           },
           "baxis": {
            "gridcolor": "white",
            "linecolor": "white",
            "ticks": ""
           },
           "bgcolor": "#E5ECF6",
           "caxis": {
            "gridcolor": "white",
            "linecolor": "white",
            "ticks": ""
           }
          },
          "title": {
           "x": 0.05
          },
          "xaxis": {
           "automargin": true,
           "gridcolor": "white",
           "linecolor": "white",
           "ticks": "",
           "title": {
            "standoff": 15
           },
           "zerolinecolor": "white",
           "zerolinewidth": 2
          },
          "yaxis": {
           "automargin": true,
           "gridcolor": "white",
           "linecolor": "white",
           "ticks": "",
           "title": {
            "standoff": 15
           },
           "zerolinecolor": "white",
           "zerolinewidth": 2
          }
         }
        },
        "title": {
         "text": "Churn rate by OnlineBackup"
        },
        "xaxis": {
         "anchor": "y",
         "domain": [
          0,
          1
         ],
         "title": {
          "text": "OnlineBackup"
         }
        },
        "yaxis": {
         "anchor": "x",
         "domain": [
          0,
          1
         ],
         "title": {
          "text": "Count"
         }
        }
       }
      }
     },
     "metadata": {},
     "output_type": "display_data"
    },
    {
     "name": "stderr",
     "output_type": "stream",
     "text": [
      "C:\\Users\\Asus\\AppData\\Local\\Temp\\ipykernel_19164\\1367734987.py:7: FutureWarning:\n",
      "\n",
      "Series.__getitem__ treating keys as positions is deprecated. In a future version, integer keys will always be treated as labels (consistent with DataFrame behavior). To access a value by position, use `ser.iloc[pos]`\n",
      "\n",
      "C:\\Users\\Asus\\AppData\\Local\\Temp\\ipykernel_19164\\1367734987.py:9: FutureWarning:\n",
      "\n",
      "Series.__getitem__ treating keys as positions is deprecated. In a future version, integer keys will always be treated as labels (consistent with DataFrame behavior). To access a value by position, use `ser.iloc[pos]`\n",
      "\n"
     ]
    },
    {
     "data": {
      "application/vnd.plotly.v1+json": {
       "config": {
        "plotlyServerURL": "https://plot.ly"
       },
       "data": [
        {
         "alignmentgroup": "True",
         "hovertemplate": "Churn=No<br>DeviceProtection=%{x}<br>Count=%{y}<extra></extra>",
         "legendgroup": "No",
         "marker": {
          "color": "green",
          "pattern": {
           "shape": ""
          }
         },
         "name": "No",
         "offsetgroup": "No",
         "orientation": "v",
         "showlegend": true,
         "textposition": "auto",
         "type": "bar",
         "x": [
          "No",
          "No internet service",
          "Yes"
         ],
         "xaxis": "x",
         "y": {
          "bdata": "XAeFBVUH",
          "dtype": "i2"
         },
         "yaxis": "y"
        },
        {
         "alignmentgroup": "True",
         "hovertemplate": "Churn=Yes<br>DeviceProtection=%{x}<br>Count=%{y}<extra></extra>",
         "legendgroup": "Yes",
         "marker": {
          "color": "red",
          "pattern": {
           "shape": ""
          }
         },
         "name": "Yes",
         "offsetgroup": "Yes",
         "orientation": "v",
         "showlegend": true,
         "textposition": "auto",
         "type": "bar",
         "x": [
          "No",
          "No internet service",
          "Yes"
         ],
         "xaxis": "x",
         "y": {
          "bdata": "uwRxACEC",
          "dtype": "i2"
         },
         "yaxis": "y"
        }
       ],
       "layout": {
        "annotations": [
         {
          "align": "left",
          "bordercolor": "black",
          "borderwidth": 1,
          "showarrow": false,
          "text": "Value count of distribution of No, Yes & No internet service are<br>43.9%, 34.4% & 21.7% percentage respectively.",
          "x": 1.4,
          "xref": "paper",
          "y": 1.3,
          "yref": "paper"
         }
        ],
        "barmode": "group",
        "legend": {
         "title": {
          "text": "Churn"
         },
         "tracegroupgap": 0
        },
        "margin": {
         "r": 400
        },
        "template": {
         "data": {
          "bar": [
           {
            "error_x": {
             "color": "#2a3f5f"
            },
            "error_y": {
             "color": "#2a3f5f"
            },
            "marker": {
             "line": {
              "color": "#E5ECF6",
              "width": 0.5
             },
             "pattern": {
              "fillmode": "overlay",
              "size": 10,
              "solidity": 0.2
             }
            },
            "type": "bar"
           }
          ],
          "barpolar": [
           {
            "marker": {
             "line": {
              "color": "#E5ECF6",
              "width": 0.5
             },
             "pattern": {
              "fillmode": "overlay",
              "size": 10,
              "solidity": 0.2
             }
            },
            "type": "barpolar"
           }
          ],
          "carpet": [
           {
            "aaxis": {
             "endlinecolor": "#2a3f5f",
             "gridcolor": "white",
             "linecolor": "white",
             "minorgridcolor": "white",
             "startlinecolor": "#2a3f5f"
            },
            "baxis": {
             "endlinecolor": "#2a3f5f",
             "gridcolor": "white",
             "linecolor": "white",
             "minorgridcolor": "white",
             "startlinecolor": "#2a3f5f"
            },
            "type": "carpet"
           }
          ],
          "choropleth": [
           {
            "colorbar": {
             "outlinewidth": 0,
             "ticks": ""
            },
            "type": "choropleth"
           }
          ],
          "contour": [
           {
            "colorbar": {
             "outlinewidth": 0,
             "ticks": ""
            },
            "colorscale": [
             [
              0,
              "#0d0887"
             ],
             [
              0.1111111111111111,
              "#46039f"
             ],
             [
              0.2222222222222222,
              "#7201a8"
             ],
             [
              0.3333333333333333,
              "#9c179e"
             ],
             [
              0.4444444444444444,
              "#bd3786"
             ],
             [
              0.5555555555555556,
              "#d8576b"
             ],
             [
              0.6666666666666666,
              "#ed7953"
             ],
             [
              0.7777777777777778,
              "#fb9f3a"
             ],
             [
              0.8888888888888888,
              "#fdca26"
             ],
             [
              1,
              "#f0f921"
             ]
            ],
            "type": "contour"
           }
          ],
          "contourcarpet": [
           {
            "colorbar": {
             "outlinewidth": 0,
             "ticks": ""
            },
            "type": "contourcarpet"
           }
          ],
          "heatmap": [
           {
            "colorbar": {
             "outlinewidth": 0,
             "ticks": ""
            },
            "colorscale": [
             [
              0,
              "#0d0887"
             ],
             [
              0.1111111111111111,
              "#46039f"
             ],
             [
              0.2222222222222222,
              "#7201a8"
             ],
             [
              0.3333333333333333,
              "#9c179e"
             ],
             [
              0.4444444444444444,
              "#bd3786"
             ],
             [
              0.5555555555555556,
              "#d8576b"
             ],
             [
              0.6666666666666666,
              "#ed7953"
             ],
             [
              0.7777777777777778,
              "#fb9f3a"
             ],
             [
              0.8888888888888888,
              "#fdca26"
             ],
             [
              1,
              "#f0f921"
             ]
            ],
            "type": "heatmap"
           }
          ],
          "histogram": [
           {
            "marker": {
             "pattern": {
              "fillmode": "overlay",
              "size": 10,
              "solidity": 0.2
             }
            },
            "type": "histogram"
           }
          ],
          "histogram2d": [
           {
            "colorbar": {
             "outlinewidth": 0,
             "ticks": ""
            },
            "colorscale": [
             [
              0,
              "#0d0887"
             ],
             [
              0.1111111111111111,
              "#46039f"
             ],
             [
              0.2222222222222222,
              "#7201a8"
             ],
             [
              0.3333333333333333,
              "#9c179e"
             ],
             [
              0.4444444444444444,
              "#bd3786"
             ],
             [
              0.5555555555555556,
              "#d8576b"
             ],
             [
              0.6666666666666666,
              "#ed7953"
             ],
             [
              0.7777777777777778,
              "#fb9f3a"
             ],
             [
              0.8888888888888888,
              "#fdca26"
             ],
             [
              1,
              "#f0f921"
             ]
            ],
            "type": "histogram2d"
           }
          ],
          "histogram2dcontour": [
           {
            "colorbar": {
             "outlinewidth": 0,
             "ticks": ""
            },
            "colorscale": [
             [
              0,
              "#0d0887"
             ],
             [
              0.1111111111111111,
              "#46039f"
             ],
             [
              0.2222222222222222,
              "#7201a8"
             ],
             [
              0.3333333333333333,
              "#9c179e"
             ],
             [
              0.4444444444444444,
              "#bd3786"
             ],
             [
              0.5555555555555556,
              "#d8576b"
             ],
             [
              0.6666666666666666,
              "#ed7953"
             ],
             [
              0.7777777777777778,
              "#fb9f3a"
             ],
             [
              0.8888888888888888,
              "#fdca26"
             ],
             [
              1,
              "#f0f921"
             ]
            ],
            "type": "histogram2dcontour"
           }
          ],
          "mesh3d": [
           {
            "colorbar": {
             "outlinewidth": 0,
             "ticks": ""
            },
            "type": "mesh3d"
           }
          ],
          "parcoords": [
           {
            "line": {
             "colorbar": {
              "outlinewidth": 0,
              "ticks": ""
             }
            },
            "type": "parcoords"
           }
          ],
          "pie": [
           {
            "automargin": true,
            "type": "pie"
           }
          ],
          "scatter": [
           {
            "fillpattern": {
             "fillmode": "overlay",
             "size": 10,
             "solidity": 0.2
            },
            "type": "scatter"
           }
          ],
          "scatter3d": [
           {
            "line": {
             "colorbar": {
              "outlinewidth": 0,
              "ticks": ""
             }
            },
            "marker": {
             "colorbar": {
              "outlinewidth": 0,
              "ticks": ""
             }
            },
            "type": "scatter3d"
           }
          ],
          "scattercarpet": [
           {
            "marker": {
             "colorbar": {
              "outlinewidth": 0,
              "ticks": ""
             }
            },
            "type": "scattercarpet"
           }
          ],
          "scattergeo": [
           {
            "marker": {
             "colorbar": {
              "outlinewidth": 0,
              "ticks": ""
             }
            },
            "type": "scattergeo"
           }
          ],
          "scattergl": [
           {
            "marker": {
             "colorbar": {
              "outlinewidth": 0,
              "ticks": ""
             }
            },
            "type": "scattergl"
           }
          ],
          "scattermap": [
           {
            "marker": {
             "colorbar": {
              "outlinewidth": 0,
              "ticks": ""
             }
            },
            "type": "scattermap"
           }
          ],
          "scattermapbox": [
           {
            "marker": {
             "colorbar": {
              "outlinewidth": 0,
              "ticks": ""
             }
            },
            "type": "scattermapbox"
           }
          ],
          "scatterpolar": [
           {
            "marker": {
             "colorbar": {
              "outlinewidth": 0,
              "ticks": ""
             }
            },
            "type": "scatterpolar"
           }
          ],
          "scatterpolargl": [
           {
            "marker": {
             "colorbar": {
              "outlinewidth": 0,
              "ticks": ""
             }
            },
            "type": "scatterpolargl"
           }
          ],
          "scatterternary": [
           {
            "marker": {
             "colorbar": {
              "outlinewidth": 0,
              "ticks": ""
             }
            },
            "type": "scatterternary"
           }
          ],
          "surface": [
           {
            "colorbar": {
             "outlinewidth": 0,
             "ticks": ""
            },
            "colorscale": [
             [
              0,
              "#0d0887"
             ],
             [
              0.1111111111111111,
              "#46039f"
             ],
             [
              0.2222222222222222,
              "#7201a8"
             ],
             [
              0.3333333333333333,
              "#9c179e"
             ],
             [
              0.4444444444444444,
              "#bd3786"
             ],
             [
              0.5555555555555556,
              "#d8576b"
             ],
             [
              0.6666666666666666,
              "#ed7953"
             ],
             [
              0.7777777777777778,
              "#fb9f3a"
             ],
             [
              0.8888888888888888,
              "#fdca26"
             ],
             [
              1,
              "#f0f921"
             ]
            ],
            "type": "surface"
           }
          ],
          "table": [
           {
            "cells": {
             "fill": {
              "color": "#EBF0F8"
             },
             "line": {
              "color": "white"
             }
            },
            "header": {
             "fill": {
              "color": "#C8D4E3"
             },
             "line": {
              "color": "white"
             }
            },
            "type": "table"
           }
          ]
         },
         "layout": {
          "annotationdefaults": {
           "arrowcolor": "#2a3f5f",
           "arrowhead": 0,
           "arrowwidth": 1
          },
          "autotypenumbers": "strict",
          "coloraxis": {
           "colorbar": {
            "outlinewidth": 0,
            "ticks": ""
           }
          },
          "colorscale": {
           "diverging": [
            [
             0,
             "#8e0152"
            ],
            [
             0.1,
             "#c51b7d"
            ],
            [
             0.2,
             "#de77ae"
            ],
            [
             0.3,
             "#f1b6da"
            ],
            [
             0.4,
             "#fde0ef"
            ],
            [
             0.5,
             "#f7f7f7"
            ],
            [
             0.6,
             "#e6f5d0"
            ],
            [
             0.7,
             "#b8e186"
            ],
            [
             0.8,
             "#7fbc41"
            ],
            [
             0.9,
             "#4d9221"
            ],
            [
             1,
             "#276419"
            ]
           ],
           "sequential": [
            [
             0,
             "#0d0887"
            ],
            [
             0.1111111111111111,
             "#46039f"
            ],
            [
             0.2222222222222222,
             "#7201a8"
            ],
            [
             0.3333333333333333,
             "#9c179e"
            ],
            [
             0.4444444444444444,
             "#bd3786"
            ],
            [
             0.5555555555555556,
             "#d8576b"
            ],
            [
             0.6666666666666666,
             "#ed7953"
            ],
            [
             0.7777777777777778,
             "#fb9f3a"
            ],
            [
             0.8888888888888888,
             "#fdca26"
            ],
            [
             1,
             "#f0f921"
            ]
           ],
           "sequentialminus": [
            [
             0,
             "#0d0887"
            ],
            [
             0.1111111111111111,
             "#46039f"
            ],
            [
             0.2222222222222222,
             "#7201a8"
            ],
            [
             0.3333333333333333,
             "#9c179e"
            ],
            [
             0.4444444444444444,
             "#bd3786"
            ],
            [
             0.5555555555555556,
             "#d8576b"
            ],
            [
             0.6666666666666666,
             "#ed7953"
            ],
            [
             0.7777777777777778,
             "#fb9f3a"
            ],
            [
             0.8888888888888888,
             "#fdca26"
            ],
            [
             1,
             "#f0f921"
            ]
           ]
          },
          "colorway": [
           "#636efa",
           "#EF553B",
           "#00cc96",
           "#ab63fa",
           "#FFA15A",
           "#19d3f3",
           "#FF6692",
           "#B6E880",
           "#FF97FF",
           "#FECB52"
          ],
          "font": {
           "color": "#2a3f5f"
          },
          "geo": {
           "bgcolor": "white",
           "lakecolor": "white",
           "landcolor": "#E5ECF6",
           "showlakes": true,
           "showland": true,
           "subunitcolor": "white"
          },
          "hoverlabel": {
           "align": "left"
          },
          "hovermode": "closest",
          "mapbox": {
           "style": "light"
          },
          "paper_bgcolor": "white",
          "plot_bgcolor": "#E5ECF6",
          "polar": {
           "angularaxis": {
            "gridcolor": "white",
            "linecolor": "white",
            "ticks": ""
           },
           "bgcolor": "#E5ECF6",
           "radialaxis": {
            "gridcolor": "white",
            "linecolor": "white",
            "ticks": ""
           }
          },
          "scene": {
           "xaxis": {
            "backgroundcolor": "#E5ECF6",
            "gridcolor": "white",
            "gridwidth": 2,
            "linecolor": "white",
            "showbackground": true,
            "ticks": "",
            "zerolinecolor": "white"
           },
           "yaxis": {
            "backgroundcolor": "#E5ECF6",
            "gridcolor": "white",
            "gridwidth": 2,
            "linecolor": "white",
            "showbackground": true,
            "ticks": "",
            "zerolinecolor": "white"
           },
           "zaxis": {
            "backgroundcolor": "#E5ECF6",
            "gridcolor": "white",
            "gridwidth": 2,
            "linecolor": "white",
            "showbackground": true,
            "ticks": "",
            "zerolinecolor": "white"
           }
          },
          "shapedefaults": {
           "line": {
            "color": "#2a3f5f"
           }
          },
          "ternary": {
           "aaxis": {
            "gridcolor": "white",
            "linecolor": "white",
            "ticks": ""
           },
           "baxis": {
            "gridcolor": "white",
            "linecolor": "white",
            "ticks": ""
           },
           "bgcolor": "#E5ECF6",
           "caxis": {
            "gridcolor": "white",
            "linecolor": "white",
            "ticks": ""
           }
          },
          "title": {
           "x": 0.05
          },
          "xaxis": {
           "automargin": true,
           "gridcolor": "white",
           "linecolor": "white",
           "ticks": "",
           "title": {
            "standoff": 15
           },
           "zerolinecolor": "white",
           "zerolinewidth": 2
          },
          "yaxis": {
           "automargin": true,
           "gridcolor": "white",
           "linecolor": "white",
           "ticks": "",
           "title": {
            "standoff": 15
           },
           "zerolinecolor": "white",
           "zerolinewidth": 2
          }
         }
        },
        "title": {
         "text": "Churn rate by DeviceProtection"
        },
        "xaxis": {
         "anchor": "y",
         "domain": [
          0,
          1
         ],
         "title": {
          "text": "DeviceProtection"
         }
        },
        "yaxis": {
         "anchor": "x",
         "domain": [
          0,
          1
         ],
         "title": {
          "text": "Count"
         }
        }
       }
      }
     },
     "metadata": {},
     "output_type": "display_data"
    },
    {
     "name": "stderr",
     "output_type": "stream",
     "text": [
      "C:\\Users\\Asus\\AppData\\Local\\Temp\\ipykernel_19164\\1367734987.py:7: FutureWarning:\n",
      "\n",
      "Series.__getitem__ treating keys as positions is deprecated. In a future version, integer keys will always be treated as labels (consistent with DataFrame behavior). To access a value by position, use `ser.iloc[pos]`\n",
      "\n",
      "C:\\Users\\Asus\\AppData\\Local\\Temp\\ipykernel_19164\\1367734987.py:9: FutureWarning:\n",
      "\n",
      "Series.__getitem__ treating keys as positions is deprecated. In a future version, integer keys will always be treated as labels (consistent with DataFrame behavior). To access a value by position, use `ser.iloc[pos]`\n",
      "\n"
     ]
    },
    {
     "data": {
      "application/vnd.plotly.v1+json": {
       "config": {
        "plotlyServerURL": "https://plot.ly"
       },
       "data": [
        {
         "alignmentgroup": "True",
         "hovertemplate": "Churn=No<br>TechSupport=%{x}<br>Count=%{y}<extra></extra>",
         "legendgroup": "No",
         "marker": {
          "color": "green",
          "pattern": {
           "shape": ""
          }
         },
         "name": "No",
         "offsetgroup": "No",
         "orientation": "v",
         "showlegend": true,
         "textposition": "auto",
         "type": "bar",
         "x": [
          "No",
          "No internet service",
          "Yes"
         ],
         "xaxis": "x",
         "y": {
          "bdata": "6weFBcYG",
          "dtype": "i2"
         },
         "yaxis": "y"
        },
        {
         "alignmentgroup": "True",
         "hovertemplate": "Churn=Yes<br>TechSupport=%{x}<br>Count=%{y}<extra></extra>",
         "legendgroup": "Yes",
         "marker": {
          "color": "red",
          "pattern": {
           "shape": ""
          }
         },
         "name": "Yes",
         "offsetgroup": "Yes",
         "orientation": "v",
         "showlegend": true,
         "textposition": "auto",
         "type": "bar",
         "x": [
          "No",
          "No internet service",
          "Yes"
         ],
         "xaxis": "x",
         "y": {
          "bdata": "pgVxADYB",
          "dtype": "i2"
         },
         "yaxis": "y"
        }
       ],
       "layout": {
        "annotations": [
         {
          "align": "left",
          "bordercolor": "black",
          "borderwidth": 1,
          "showarrow": false,
          "text": "Value count of distribution of No, Yes & No internet service are<br>49.3%, 29.0% & 21.7% percentage respectively.",
          "x": 1.4,
          "xref": "paper",
          "y": 1.3,
          "yref": "paper"
         }
        ],
        "barmode": "group",
        "legend": {
         "title": {
          "text": "Churn"
         },
         "tracegroupgap": 0
        },
        "margin": {
         "r": 400
        },
        "template": {
         "data": {
          "bar": [
           {
            "error_x": {
             "color": "#2a3f5f"
            },
            "error_y": {
             "color": "#2a3f5f"
            },
            "marker": {
             "line": {
              "color": "#E5ECF6",
              "width": 0.5
             },
             "pattern": {
              "fillmode": "overlay",
              "size": 10,
              "solidity": 0.2
             }
            },
            "type": "bar"
           }
          ],
          "barpolar": [
           {
            "marker": {
             "line": {
              "color": "#E5ECF6",
              "width": 0.5
             },
             "pattern": {
              "fillmode": "overlay",
              "size": 10,
              "solidity": 0.2
             }
            },
            "type": "barpolar"
           }
          ],
          "carpet": [
           {
            "aaxis": {
             "endlinecolor": "#2a3f5f",
             "gridcolor": "white",
             "linecolor": "white",
             "minorgridcolor": "white",
             "startlinecolor": "#2a3f5f"
            },
            "baxis": {
             "endlinecolor": "#2a3f5f",
             "gridcolor": "white",
             "linecolor": "white",
             "minorgridcolor": "white",
             "startlinecolor": "#2a3f5f"
            },
            "type": "carpet"
           }
          ],
          "choropleth": [
           {
            "colorbar": {
             "outlinewidth": 0,
             "ticks": ""
            },
            "type": "choropleth"
           }
          ],
          "contour": [
           {
            "colorbar": {
             "outlinewidth": 0,
             "ticks": ""
            },
            "colorscale": [
             [
              0,
              "#0d0887"
             ],
             [
              0.1111111111111111,
              "#46039f"
             ],
             [
              0.2222222222222222,
              "#7201a8"
             ],
             [
              0.3333333333333333,
              "#9c179e"
             ],
             [
              0.4444444444444444,
              "#bd3786"
             ],
             [
              0.5555555555555556,
              "#d8576b"
             ],
             [
              0.6666666666666666,
              "#ed7953"
             ],
             [
              0.7777777777777778,
              "#fb9f3a"
             ],
             [
              0.8888888888888888,
              "#fdca26"
             ],
             [
              1,
              "#f0f921"
             ]
            ],
            "type": "contour"
           }
          ],
          "contourcarpet": [
           {
            "colorbar": {
             "outlinewidth": 0,
             "ticks": ""
            },
            "type": "contourcarpet"
           }
          ],
          "heatmap": [
           {
            "colorbar": {
             "outlinewidth": 0,
             "ticks": ""
            },
            "colorscale": [
             [
              0,
              "#0d0887"
             ],
             [
              0.1111111111111111,
              "#46039f"
             ],
             [
              0.2222222222222222,
              "#7201a8"
             ],
             [
              0.3333333333333333,
              "#9c179e"
             ],
             [
              0.4444444444444444,
              "#bd3786"
             ],
             [
              0.5555555555555556,
              "#d8576b"
             ],
             [
              0.6666666666666666,
              "#ed7953"
             ],
             [
              0.7777777777777778,
              "#fb9f3a"
             ],
             [
              0.8888888888888888,
              "#fdca26"
             ],
             [
              1,
              "#f0f921"
             ]
            ],
            "type": "heatmap"
           }
          ],
          "histogram": [
           {
            "marker": {
             "pattern": {
              "fillmode": "overlay",
              "size": 10,
              "solidity": 0.2
             }
            },
            "type": "histogram"
           }
          ],
          "histogram2d": [
           {
            "colorbar": {
             "outlinewidth": 0,
             "ticks": ""
            },
            "colorscale": [
             [
              0,
              "#0d0887"
             ],
             [
              0.1111111111111111,
              "#46039f"
             ],
             [
              0.2222222222222222,
              "#7201a8"
             ],
             [
              0.3333333333333333,
              "#9c179e"
             ],
             [
              0.4444444444444444,
              "#bd3786"
             ],
             [
              0.5555555555555556,
              "#d8576b"
             ],
             [
              0.6666666666666666,
              "#ed7953"
             ],
             [
              0.7777777777777778,
              "#fb9f3a"
             ],
             [
              0.8888888888888888,
              "#fdca26"
             ],
             [
              1,
              "#f0f921"
             ]
            ],
            "type": "histogram2d"
           }
          ],
          "histogram2dcontour": [
           {
            "colorbar": {
             "outlinewidth": 0,
             "ticks": ""
            },
            "colorscale": [
             [
              0,
              "#0d0887"
             ],
             [
              0.1111111111111111,
              "#46039f"
             ],
             [
              0.2222222222222222,
              "#7201a8"
             ],
             [
              0.3333333333333333,
              "#9c179e"
             ],
             [
              0.4444444444444444,
              "#bd3786"
             ],
             [
              0.5555555555555556,
              "#d8576b"
             ],
             [
              0.6666666666666666,
              "#ed7953"
             ],
             [
              0.7777777777777778,
              "#fb9f3a"
             ],
             [
              0.8888888888888888,
              "#fdca26"
             ],
             [
              1,
              "#f0f921"
             ]
            ],
            "type": "histogram2dcontour"
           }
          ],
          "mesh3d": [
           {
            "colorbar": {
             "outlinewidth": 0,
             "ticks": ""
            },
            "type": "mesh3d"
           }
          ],
          "parcoords": [
           {
            "line": {
             "colorbar": {
              "outlinewidth": 0,
              "ticks": ""
             }
            },
            "type": "parcoords"
           }
          ],
          "pie": [
           {
            "automargin": true,
            "type": "pie"
           }
          ],
          "scatter": [
           {
            "fillpattern": {
             "fillmode": "overlay",
             "size": 10,
             "solidity": 0.2
            },
            "type": "scatter"
           }
          ],
          "scatter3d": [
           {
            "line": {
             "colorbar": {
              "outlinewidth": 0,
              "ticks": ""
             }
            },
            "marker": {
             "colorbar": {
              "outlinewidth": 0,
              "ticks": ""
             }
            },
            "type": "scatter3d"
           }
          ],
          "scattercarpet": [
           {
            "marker": {
             "colorbar": {
              "outlinewidth": 0,
              "ticks": ""
             }
            },
            "type": "scattercarpet"
           }
          ],
          "scattergeo": [
           {
            "marker": {
             "colorbar": {
              "outlinewidth": 0,
              "ticks": ""
             }
            },
            "type": "scattergeo"
           }
          ],
          "scattergl": [
           {
            "marker": {
             "colorbar": {
              "outlinewidth": 0,
              "ticks": ""
             }
            },
            "type": "scattergl"
           }
          ],
          "scattermap": [
           {
            "marker": {
             "colorbar": {
              "outlinewidth": 0,
              "ticks": ""
             }
            },
            "type": "scattermap"
           }
          ],
          "scattermapbox": [
           {
            "marker": {
             "colorbar": {
              "outlinewidth": 0,
              "ticks": ""
             }
            },
            "type": "scattermapbox"
           }
          ],
          "scatterpolar": [
           {
            "marker": {
             "colorbar": {
              "outlinewidth": 0,
              "ticks": ""
             }
            },
            "type": "scatterpolar"
           }
          ],
          "scatterpolargl": [
           {
            "marker": {
             "colorbar": {
              "outlinewidth": 0,
              "ticks": ""
             }
            },
            "type": "scatterpolargl"
           }
          ],
          "scatterternary": [
           {
            "marker": {
             "colorbar": {
              "outlinewidth": 0,
              "ticks": ""
             }
            },
            "type": "scatterternary"
           }
          ],
          "surface": [
           {
            "colorbar": {
             "outlinewidth": 0,
             "ticks": ""
            },
            "colorscale": [
             [
              0,
              "#0d0887"
             ],
             [
              0.1111111111111111,
              "#46039f"
             ],
             [
              0.2222222222222222,
              "#7201a8"
             ],
             [
              0.3333333333333333,
              "#9c179e"
             ],
             [
              0.4444444444444444,
              "#bd3786"
             ],
             [
              0.5555555555555556,
              "#d8576b"
             ],
             [
              0.6666666666666666,
              "#ed7953"
             ],
             [
              0.7777777777777778,
              "#fb9f3a"
             ],
             [
              0.8888888888888888,
              "#fdca26"
             ],
             [
              1,
              "#f0f921"
             ]
            ],
            "type": "surface"
           }
          ],
          "table": [
           {
            "cells": {
             "fill": {
              "color": "#EBF0F8"
             },
             "line": {
              "color": "white"
             }
            },
            "header": {
             "fill": {
              "color": "#C8D4E3"
             },
             "line": {
              "color": "white"
             }
            },
            "type": "table"
           }
          ]
         },
         "layout": {
          "annotationdefaults": {
           "arrowcolor": "#2a3f5f",
           "arrowhead": 0,
           "arrowwidth": 1
          },
          "autotypenumbers": "strict",
          "coloraxis": {
           "colorbar": {
            "outlinewidth": 0,
            "ticks": ""
           }
          },
          "colorscale": {
           "diverging": [
            [
             0,
             "#8e0152"
            ],
            [
             0.1,
             "#c51b7d"
            ],
            [
             0.2,
             "#de77ae"
            ],
            [
             0.3,
             "#f1b6da"
            ],
            [
             0.4,
             "#fde0ef"
            ],
            [
             0.5,
             "#f7f7f7"
            ],
            [
             0.6,
             "#e6f5d0"
            ],
            [
             0.7,
             "#b8e186"
            ],
            [
             0.8,
             "#7fbc41"
            ],
            [
             0.9,
             "#4d9221"
            ],
            [
             1,
             "#276419"
            ]
           ],
           "sequential": [
            [
             0,
             "#0d0887"
            ],
            [
             0.1111111111111111,
             "#46039f"
            ],
            [
             0.2222222222222222,
             "#7201a8"
            ],
            [
             0.3333333333333333,
             "#9c179e"
            ],
            [
             0.4444444444444444,
             "#bd3786"
            ],
            [
             0.5555555555555556,
             "#d8576b"
            ],
            [
             0.6666666666666666,
             "#ed7953"
            ],
            [
             0.7777777777777778,
             "#fb9f3a"
            ],
            [
             0.8888888888888888,
             "#fdca26"
            ],
            [
             1,
             "#f0f921"
            ]
           ],
           "sequentialminus": [
            [
             0,
             "#0d0887"
            ],
            [
             0.1111111111111111,
             "#46039f"
            ],
            [
             0.2222222222222222,
             "#7201a8"
            ],
            [
             0.3333333333333333,
             "#9c179e"
            ],
            [
             0.4444444444444444,
             "#bd3786"
            ],
            [
             0.5555555555555556,
             "#d8576b"
            ],
            [
             0.6666666666666666,
             "#ed7953"
            ],
            [
             0.7777777777777778,
             "#fb9f3a"
            ],
            [
             0.8888888888888888,
             "#fdca26"
            ],
            [
             1,
             "#f0f921"
            ]
           ]
          },
          "colorway": [
           "#636efa",
           "#EF553B",
           "#00cc96",
           "#ab63fa",
           "#FFA15A",
           "#19d3f3",
           "#FF6692",
           "#B6E880",
           "#FF97FF",
           "#FECB52"
          ],
          "font": {
           "color": "#2a3f5f"
          },
          "geo": {
           "bgcolor": "white",
           "lakecolor": "white",
           "landcolor": "#E5ECF6",
           "showlakes": true,
           "showland": true,
           "subunitcolor": "white"
          },
          "hoverlabel": {
           "align": "left"
          },
          "hovermode": "closest",
          "mapbox": {
           "style": "light"
          },
          "paper_bgcolor": "white",
          "plot_bgcolor": "#E5ECF6",
          "polar": {
           "angularaxis": {
            "gridcolor": "white",
            "linecolor": "white",
            "ticks": ""
           },
           "bgcolor": "#E5ECF6",
           "radialaxis": {
            "gridcolor": "white",
            "linecolor": "white",
            "ticks": ""
           }
          },
          "scene": {
           "xaxis": {
            "backgroundcolor": "#E5ECF6",
            "gridcolor": "white",
            "gridwidth": 2,
            "linecolor": "white",
            "showbackground": true,
            "ticks": "",
            "zerolinecolor": "white"
           },
           "yaxis": {
            "backgroundcolor": "#E5ECF6",
            "gridcolor": "white",
            "gridwidth": 2,
            "linecolor": "white",
            "showbackground": true,
            "ticks": "",
            "zerolinecolor": "white"
           },
           "zaxis": {
            "backgroundcolor": "#E5ECF6",
            "gridcolor": "white",
            "gridwidth": 2,
            "linecolor": "white",
            "showbackground": true,
            "ticks": "",
            "zerolinecolor": "white"
           }
          },
          "shapedefaults": {
           "line": {
            "color": "#2a3f5f"
           }
          },
          "ternary": {
           "aaxis": {
            "gridcolor": "white",
            "linecolor": "white",
            "ticks": ""
           },
           "baxis": {
            "gridcolor": "white",
            "linecolor": "white",
            "ticks": ""
           },
           "bgcolor": "#E5ECF6",
           "caxis": {
            "gridcolor": "white",
            "linecolor": "white",
            "ticks": ""
           }
          },
          "title": {
           "x": 0.05
          },
          "xaxis": {
           "automargin": true,
           "gridcolor": "white",
           "linecolor": "white",
           "ticks": "",
           "title": {
            "standoff": 15
           },
           "zerolinecolor": "white",
           "zerolinewidth": 2
          },
          "yaxis": {
           "automargin": true,
           "gridcolor": "white",
           "linecolor": "white",
           "ticks": "",
           "title": {
            "standoff": 15
           },
           "zerolinecolor": "white",
           "zerolinewidth": 2
          }
         }
        },
        "title": {
         "text": "Churn rate by TechSupport"
        },
        "xaxis": {
         "anchor": "y",
         "domain": [
          0,
          1
         ],
         "title": {
          "text": "TechSupport"
         }
        },
        "yaxis": {
         "anchor": "x",
         "domain": [
          0,
          1
         ],
         "title": {
          "text": "Count"
         }
        }
       }
      }
     },
     "metadata": {},
     "output_type": "display_data"
    },
    {
     "name": "stderr",
     "output_type": "stream",
     "text": [
      "C:\\Users\\Asus\\AppData\\Local\\Temp\\ipykernel_19164\\1367734987.py:7: FutureWarning:\n",
      "\n",
      "Series.__getitem__ treating keys as positions is deprecated. In a future version, integer keys will always be treated as labels (consistent with DataFrame behavior). To access a value by position, use `ser.iloc[pos]`\n",
      "\n",
      "C:\\Users\\Asus\\AppData\\Local\\Temp\\ipykernel_19164\\1367734987.py:9: FutureWarning:\n",
      "\n",
      "Series.__getitem__ treating keys as positions is deprecated. In a future version, integer keys will always be treated as labels (consistent with DataFrame behavior). To access a value by position, use `ser.iloc[pos]`\n",
      "\n"
     ]
    },
    {
     "data": {
      "application/vnd.plotly.v1+json": {
       "config": {
        "plotlyServerURL": "https://plot.ly"
       },
       "data": [
        {
         "alignmentgroup": "True",
         "hovertemplate": "Churn=No<br>StreamingTV=%{x}<br>Count=%{y}<extra></extra>",
         "legendgroup": "No",
         "marker": {
          "color": "green",
          "pattern": {
           "shape": ""
          }
         },
         "name": "No",
         "offsetgroup": "No",
         "orientation": "v",
         "showlegend": true,
         "textposition": "auto",
         "type": "bar",
         "x": [
          "No",
          "No internet service",
          "Yes"
         ],
         "xaxis": "x",
         "y": {
          "bdata": "TAeFBWUH",
          "dtype": "i2"
         },
         "yaxis": "y"
        },
        {
         "alignmentgroup": "True",
         "hovertemplate": "Churn=Yes<br>StreamingTV=%{x}<br>Count=%{y}<extra></extra>",
         "legendgroup": "Yes",
         "marker": {
          "color": "red",
          "pattern": {
           "shape": ""
          }
         },
         "name": "Yes",
         "offsetgroup": "Yes",
         "orientation": "v",
         "showlegend": true,
         "textposition": "auto",
         "type": "bar",
         "x": [
          "No",
          "No internet service",
          "Yes"
         ],
         "xaxis": "x",
         "y": {
          "bdata": "rgNxAC4D",
          "dtype": "i2"
         },
         "yaxis": "y"
        }
       ],
       "layout": {
        "annotations": [
         {
          "align": "left",
          "bordercolor": "black",
          "borderwidth": 1,
          "showarrow": false,
          "text": "Value count of distribution of No, Yes & No internet service are<br>39.9%, 38.4% & 21.7% percentage respectively.",
          "x": 1.4,
          "xref": "paper",
          "y": 1.3,
          "yref": "paper"
         }
        ],
        "barmode": "group",
        "legend": {
         "title": {
          "text": "Churn"
         },
         "tracegroupgap": 0
        },
        "margin": {
         "r": 400
        },
        "template": {
         "data": {
          "bar": [
           {
            "error_x": {
             "color": "#2a3f5f"
            },
            "error_y": {
             "color": "#2a3f5f"
            },
            "marker": {
             "line": {
              "color": "#E5ECF6",
              "width": 0.5
             },
             "pattern": {
              "fillmode": "overlay",
              "size": 10,
              "solidity": 0.2
             }
            },
            "type": "bar"
           }
          ],
          "barpolar": [
           {
            "marker": {
             "line": {
              "color": "#E5ECF6",
              "width": 0.5
             },
             "pattern": {
              "fillmode": "overlay",
              "size": 10,
              "solidity": 0.2
             }
            },
            "type": "barpolar"
           }
          ],
          "carpet": [
           {
            "aaxis": {
             "endlinecolor": "#2a3f5f",
             "gridcolor": "white",
             "linecolor": "white",
             "minorgridcolor": "white",
             "startlinecolor": "#2a3f5f"
            },
            "baxis": {
             "endlinecolor": "#2a3f5f",
             "gridcolor": "white",
             "linecolor": "white",
             "minorgridcolor": "white",
             "startlinecolor": "#2a3f5f"
            },
            "type": "carpet"
           }
          ],
          "choropleth": [
           {
            "colorbar": {
             "outlinewidth": 0,
             "ticks": ""
            },
            "type": "choropleth"
           }
          ],
          "contour": [
           {
            "colorbar": {
             "outlinewidth": 0,
             "ticks": ""
            },
            "colorscale": [
             [
              0,
              "#0d0887"
             ],
             [
              0.1111111111111111,
              "#46039f"
             ],
             [
              0.2222222222222222,
              "#7201a8"
             ],
             [
              0.3333333333333333,
              "#9c179e"
             ],
             [
              0.4444444444444444,
              "#bd3786"
             ],
             [
              0.5555555555555556,
              "#d8576b"
             ],
             [
              0.6666666666666666,
              "#ed7953"
             ],
             [
              0.7777777777777778,
              "#fb9f3a"
             ],
             [
              0.8888888888888888,
              "#fdca26"
             ],
             [
              1,
              "#f0f921"
             ]
            ],
            "type": "contour"
           }
          ],
          "contourcarpet": [
           {
            "colorbar": {
             "outlinewidth": 0,
             "ticks": ""
            },
            "type": "contourcarpet"
           }
          ],
          "heatmap": [
           {
            "colorbar": {
             "outlinewidth": 0,
             "ticks": ""
            },
            "colorscale": [
             [
              0,
              "#0d0887"
             ],
             [
              0.1111111111111111,
              "#46039f"
             ],
             [
              0.2222222222222222,
              "#7201a8"
             ],
             [
              0.3333333333333333,
              "#9c179e"
             ],
             [
              0.4444444444444444,
              "#bd3786"
             ],
             [
              0.5555555555555556,
              "#d8576b"
             ],
             [
              0.6666666666666666,
              "#ed7953"
             ],
             [
              0.7777777777777778,
              "#fb9f3a"
             ],
             [
              0.8888888888888888,
              "#fdca26"
             ],
             [
              1,
              "#f0f921"
             ]
            ],
            "type": "heatmap"
           }
          ],
          "histogram": [
           {
            "marker": {
             "pattern": {
              "fillmode": "overlay",
              "size": 10,
              "solidity": 0.2
             }
            },
            "type": "histogram"
           }
          ],
          "histogram2d": [
           {
            "colorbar": {
             "outlinewidth": 0,
             "ticks": ""
            },
            "colorscale": [
             [
              0,
              "#0d0887"
             ],
             [
              0.1111111111111111,
              "#46039f"
             ],
             [
              0.2222222222222222,
              "#7201a8"
             ],
             [
              0.3333333333333333,
              "#9c179e"
             ],
             [
              0.4444444444444444,
              "#bd3786"
             ],
             [
              0.5555555555555556,
              "#d8576b"
             ],
             [
              0.6666666666666666,
              "#ed7953"
             ],
             [
              0.7777777777777778,
              "#fb9f3a"
             ],
             [
              0.8888888888888888,
              "#fdca26"
             ],
             [
              1,
              "#f0f921"
             ]
            ],
            "type": "histogram2d"
           }
          ],
          "histogram2dcontour": [
           {
            "colorbar": {
             "outlinewidth": 0,
             "ticks": ""
            },
            "colorscale": [
             [
              0,
              "#0d0887"
             ],
             [
              0.1111111111111111,
              "#46039f"
             ],
             [
              0.2222222222222222,
              "#7201a8"
             ],
             [
              0.3333333333333333,
              "#9c179e"
             ],
             [
              0.4444444444444444,
              "#bd3786"
             ],
             [
              0.5555555555555556,
              "#d8576b"
             ],
             [
              0.6666666666666666,
              "#ed7953"
             ],
             [
              0.7777777777777778,
              "#fb9f3a"
             ],
             [
              0.8888888888888888,
              "#fdca26"
             ],
             [
              1,
              "#f0f921"
             ]
            ],
            "type": "histogram2dcontour"
           }
          ],
          "mesh3d": [
           {
            "colorbar": {
             "outlinewidth": 0,
             "ticks": ""
            },
            "type": "mesh3d"
           }
          ],
          "parcoords": [
           {
            "line": {
             "colorbar": {
              "outlinewidth": 0,
              "ticks": ""
             }
            },
            "type": "parcoords"
           }
          ],
          "pie": [
           {
            "automargin": true,
            "type": "pie"
           }
          ],
          "scatter": [
           {
            "fillpattern": {
             "fillmode": "overlay",
             "size": 10,
             "solidity": 0.2
            },
            "type": "scatter"
           }
          ],
          "scatter3d": [
           {
            "line": {
             "colorbar": {
              "outlinewidth": 0,
              "ticks": ""
             }
            },
            "marker": {
             "colorbar": {
              "outlinewidth": 0,
              "ticks": ""
             }
            },
            "type": "scatter3d"
           }
          ],
          "scattercarpet": [
           {
            "marker": {
             "colorbar": {
              "outlinewidth": 0,
              "ticks": ""
             }
            },
            "type": "scattercarpet"
           }
          ],
          "scattergeo": [
           {
            "marker": {
             "colorbar": {
              "outlinewidth": 0,
              "ticks": ""
             }
            },
            "type": "scattergeo"
           }
          ],
          "scattergl": [
           {
            "marker": {
             "colorbar": {
              "outlinewidth": 0,
              "ticks": ""
             }
            },
            "type": "scattergl"
           }
          ],
          "scattermap": [
           {
            "marker": {
             "colorbar": {
              "outlinewidth": 0,
              "ticks": ""
             }
            },
            "type": "scattermap"
           }
          ],
          "scattermapbox": [
           {
            "marker": {
             "colorbar": {
              "outlinewidth": 0,
              "ticks": ""
             }
            },
            "type": "scattermapbox"
           }
          ],
          "scatterpolar": [
           {
            "marker": {
             "colorbar": {
              "outlinewidth": 0,
              "ticks": ""
             }
            },
            "type": "scatterpolar"
           }
          ],
          "scatterpolargl": [
           {
            "marker": {
             "colorbar": {
              "outlinewidth": 0,
              "ticks": ""
             }
            },
            "type": "scatterpolargl"
           }
          ],
          "scatterternary": [
           {
            "marker": {
             "colorbar": {
              "outlinewidth": 0,
              "ticks": ""
             }
            },
            "type": "scatterternary"
           }
          ],
          "surface": [
           {
            "colorbar": {
             "outlinewidth": 0,
             "ticks": ""
            },
            "colorscale": [
             [
              0,
              "#0d0887"
             ],
             [
              0.1111111111111111,
              "#46039f"
             ],
             [
              0.2222222222222222,
              "#7201a8"
             ],
             [
              0.3333333333333333,
              "#9c179e"
             ],
             [
              0.4444444444444444,
              "#bd3786"
             ],
             [
              0.5555555555555556,
              "#d8576b"
             ],
             [
              0.6666666666666666,
              "#ed7953"
             ],
             [
              0.7777777777777778,
              "#fb9f3a"
             ],
             [
              0.8888888888888888,
              "#fdca26"
             ],
             [
              1,
              "#f0f921"
             ]
            ],
            "type": "surface"
           }
          ],
          "table": [
           {
            "cells": {
             "fill": {
              "color": "#EBF0F8"
             },
             "line": {
              "color": "white"
             }
            },
            "header": {
             "fill": {
              "color": "#C8D4E3"
             },
             "line": {
              "color": "white"
             }
            },
            "type": "table"
           }
          ]
         },
         "layout": {
          "annotationdefaults": {
           "arrowcolor": "#2a3f5f",
           "arrowhead": 0,
           "arrowwidth": 1
          },
          "autotypenumbers": "strict",
          "coloraxis": {
           "colorbar": {
            "outlinewidth": 0,
            "ticks": ""
           }
          },
          "colorscale": {
           "diverging": [
            [
             0,
             "#8e0152"
            ],
            [
             0.1,
             "#c51b7d"
            ],
            [
             0.2,
             "#de77ae"
            ],
            [
             0.3,
             "#f1b6da"
            ],
            [
             0.4,
             "#fde0ef"
            ],
            [
             0.5,
             "#f7f7f7"
            ],
            [
             0.6,
             "#e6f5d0"
            ],
            [
             0.7,
             "#b8e186"
            ],
            [
             0.8,
             "#7fbc41"
            ],
            [
             0.9,
             "#4d9221"
            ],
            [
             1,
             "#276419"
            ]
           ],
           "sequential": [
            [
             0,
             "#0d0887"
            ],
            [
             0.1111111111111111,
             "#46039f"
            ],
            [
             0.2222222222222222,
             "#7201a8"
            ],
            [
             0.3333333333333333,
             "#9c179e"
            ],
            [
             0.4444444444444444,
             "#bd3786"
            ],
            [
             0.5555555555555556,
             "#d8576b"
            ],
            [
             0.6666666666666666,
             "#ed7953"
            ],
            [
             0.7777777777777778,
             "#fb9f3a"
            ],
            [
             0.8888888888888888,
             "#fdca26"
            ],
            [
             1,
             "#f0f921"
            ]
           ],
           "sequentialminus": [
            [
             0,
             "#0d0887"
            ],
            [
             0.1111111111111111,
             "#46039f"
            ],
            [
             0.2222222222222222,
             "#7201a8"
            ],
            [
             0.3333333333333333,
             "#9c179e"
            ],
            [
             0.4444444444444444,
             "#bd3786"
            ],
            [
             0.5555555555555556,
             "#d8576b"
            ],
            [
             0.6666666666666666,
             "#ed7953"
            ],
            [
             0.7777777777777778,
             "#fb9f3a"
            ],
            [
             0.8888888888888888,
             "#fdca26"
            ],
            [
             1,
             "#f0f921"
            ]
           ]
          },
          "colorway": [
           "#636efa",
           "#EF553B",
           "#00cc96",
           "#ab63fa",
           "#FFA15A",
           "#19d3f3",
           "#FF6692",
           "#B6E880",
           "#FF97FF",
           "#FECB52"
          ],
          "font": {
           "color": "#2a3f5f"
          },
          "geo": {
           "bgcolor": "white",
           "lakecolor": "white",
           "landcolor": "#E5ECF6",
           "showlakes": true,
           "showland": true,
           "subunitcolor": "white"
          },
          "hoverlabel": {
           "align": "left"
          },
          "hovermode": "closest",
          "mapbox": {
           "style": "light"
          },
          "paper_bgcolor": "white",
          "plot_bgcolor": "#E5ECF6",
          "polar": {
           "angularaxis": {
            "gridcolor": "white",
            "linecolor": "white",
            "ticks": ""
           },
           "bgcolor": "#E5ECF6",
           "radialaxis": {
            "gridcolor": "white",
            "linecolor": "white",
            "ticks": ""
           }
          },
          "scene": {
           "xaxis": {
            "backgroundcolor": "#E5ECF6",
            "gridcolor": "white",
            "gridwidth": 2,
            "linecolor": "white",
            "showbackground": true,
            "ticks": "",
            "zerolinecolor": "white"
           },
           "yaxis": {
            "backgroundcolor": "#E5ECF6",
            "gridcolor": "white",
            "gridwidth": 2,
            "linecolor": "white",
            "showbackground": true,
            "ticks": "",
            "zerolinecolor": "white"
           },
           "zaxis": {
            "backgroundcolor": "#E5ECF6",
            "gridcolor": "white",
            "gridwidth": 2,
            "linecolor": "white",
            "showbackground": true,
            "ticks": "",
            "zerolinecolor": "white"
           }
          },
          "shapedefaults": {
           "line": {
            "color": "#2a3f5f"
           }
          },
          "ternary": {
           "aaxis": {
            "gridcolor": "white",
            "linecolor": "white",
            "ticks": ""
           },
           "baxis": {
            "gridcolor": "white",
            "linecolor": "white",
            "ticks": ""
           },
           "bgcolor": "#E5ECF6",
           "caxis": {
            "gridcolor": "white",
            "linecolor": "white",
            "ticks": ""
           }
          },
          "title": {
           "x": 0.05
          },
          "xaxis": {
           "automargin": true,
           "gridcolor": "white",
           "linecolor": "white",
           "ticks": "",
           "title": {
            "standoff": 15
           },
           "zerolinecolor": "white",
           "zerolinewidth": 2
          },
          "yaxis": {
           "automargin": true,
           "gridcolor": "white",
           "linecolor": "white",
           "ticks": "",
           "title": {
            "standoff": 15
           },
           "zerolinecolor": "white",
           "zerolinewidth": 2
          }
         }
        },
        "title": {
         "text": "Churn rate by StreamingTV"
        },
        "xaxis": {
         "anchor": "y",
         "domain": [
          0,
          1
         ],
         "title": {
          "text": "StreamingTV"
         }
        },
        "yaxis": {
         "anchor": "x",
         "domain": [
          0,
          1
         ],
         "title": {
          "text": "Count"
         }
        }
       }
      }
     },
     "metadata": {},
     "output_type": "display_data"
    },
    {
     "name": "stderr",
     "output_type": "stream",
     "text": [
      "C:\\Users\\Asus\\AppData\\Local\\Temp\\ipykernel_19164\\1367734987.py:7: FutureWarning:\n",
      "\n",
      "Series.__getitem__ treating keys as positions is deprecated. In a future version, integer keys will always be treated as labels (consistent with DataFrame behavior). To access a value by position, use `ser.iloc[pos]`\n",
      "\n",
      "C:\\Users\\Asus\\AppData\\Local\\Temp\\ipykernel_19164\\1367734987.py:9: FutureWarning:\n",
      "\n",
      "Series.__getitem__ treating keys as positions is deprecated. In a future version, integer keys will always be treated as labels (consistent with DataFrame behavior). To access a value by position, use `ser.iloc[pos]`\n",
      "\n"
     ]
    },
    {
     "data": {
      "application/vnd.plotly.v1+json": {
       "config": {
        "plotlyServerURL": "https://plot.ly"
       },
       "data": [
        {
         "alignmentgroup": "True",
         "hovertemplate": "Churn=No<br>StreamingMovies=%{x}<br>Count=%{y}<extra></extra>",
         "legendgroup": "No",
         "marker": {
          "color": "green",
          "pattern": {
           "shape": ""
          }
         },
         "name": "No",
         "offsetgroup": "No",
         "orientation": "v",
         "showlegend": true,
         "textposition": "auto",
         "type": "bar",
         "x": [
          "No",
          "No internet service",
          "Yes"
         ],
         "xaxis": "x",
         "y": {
          "bdata": "NweFBXoH",
          "dtype": "i2"
         },
         "yaxis": "y"
        },
        {
         "alignmentgroup": "True",
         "hovertemplate": "Churn=Yes<br>StreamingMovies=%{x}<br>Count=%{y}<extra></extra>",
         "legendgroup": "Yes",
         "marker": {
          "color": "red",
          "pattern": {
           "shape": ""
          }
         },
         "name": "Yes",
         "offsetgroup": "Yes",
         "orientation": "v",
         "showlegend": true,
         "textposition": "auto",
         "type": "bar",
         "x": [
          "No",
          "No internet service",
          "Yes"
         ],
         "xaxis": "x",
         "y": {
          "bdata": "qgNxADID",
          "dtype": "i2"
         },
         "yaxis": "y"
        }
       ],
       "layout": {
        "annotations": [
         {
          "align": "left",
          "bordercolor": "black",
          "borderwidth": 1,
          "showarrow": false,
          "text": "Value count of distribution of No, Yes & No internet service are<br>39.5%, 38.8% & 21.7% percentage respectively.",
          "x": 1.4,
          "xref": "paper",
          "y": 1.3,
          "yref": "paper"
         }
        ],
        "barmode": "group",
        "legend": {
         "title": {
          "text": "Churn"
         },
         "tracegroupgap": 0
        },
        "margin": {
         "r": 400
        },
        "template": {
         "data": {
          "bar": [
           {
            "error_x": {
             "color": "#2a3f5f"
            },
            "error_y": {
             "color": "#2a3f5f"
            },
            "marker": {
             "line": {
              "color": "#E5ECF6",
              "width": 0.5
             },
             "pattern": {
              "fillmode": "overlay",
              "size": 10,
              "solidity": 0.2
             }
            },
            "type": "bar"
           }
          ],
          "barpolar": [
           {
            "marker": {
             "line": {
              "color": "#E5ECF6",
              "width": 0.5
             },
             "pattern": {
              "fillmode": "overlay",
              "size": 10,
              "solidity": 0.2
             }
            },
            "type": "barpolar"
           }
          ],
          "carpet": [
           {
            "aaxis": {
             "endlinecolor": "#2a3f5f",
             "gridcolor": "white",
             "linecolor": "white",
             "minorgridcolor": "white",
             "startlinecolor": "#2a3f5f"
            },
            "baxis": {
             "endlinecolor": "#2a3f5f",
             "gridcolor": "white",
             "linecolor": "white",
             "minorgridcolor": "white",
             "startlinecolor": "#2a3f5f"
            },
            "type": "carpet"
           }
          ],
          "choropleth": [
           {
            "colorbar": {
             "outlinewidth": 0,
             "ticks": ""
            },
            "type": "choropleth"
           }
          ],
          "contour": [
           {
            "colorbar": {
             "outlinewidth": 0,
             "ticks": ""
            },
            "colorscale": [
             [
              0,
              "#0d0887"
             ],
             [
              0.1111111111111111,
              "#46039f"
             ],
             [
              0.2222222222222222,
              "#7201a8"
             ],
             [
              0.3333333333333333,
              "#9c179e"
             ],
             [
              0.4444444444444444,
              "#bd3786"
             ],
             [
              0.5555555555555556,
              "#d8576b"
             ],
             [
              0.6666666666666666,
              "#ed7953"
             ],
             [
              0.7777777777777778,
              "#fb9f3a"
             ],
             [
              0.8888888888888888,
              "#fdca26"
             ],
             [
              1,
              "#f0f921"
             ]
            ],
            "type": "contour"
           }
          ],
          "contourcarpet": [
           {
            "colorbar": {
             "outlinewidth": 0,
             "ticks": ""
            },
            "type": "contourcarpet"
           }
          ],
          "heatmap": [
           {
            "colorbar": {
             "outlinewidth": 0,
             "ticks": ""
            },
            "colorscale": [
             [
              0,
              "#0d0887"
             ],
             [
              0.1111111111111111,
              "#46039f"
             ],
             [
              0.2222222222222222,
              "#7201a8"
             ],
             [
              0.3333333333333333,
              "#9c179e"
             ],
             [
              0.4444444444444444,
              "#bd3786"
             ],
             [
              0.5555555555555556,
              "#d8576b"
             ],
             [
              0.6666666666666666,
              "#ed7953"
             ],
             [
              0.7777777777777778,
              "#fb9f3a"
             ],
             [
              0.8888888888888888,
              "#fdca26"
             ],
             [
              1,
              "#f0f921"
             ]
            ],
            "type": "heatmap"
           }
          ],
          "histogram": [
           {
            "marker": {
             "pattern": {
              "fillmode": "overlay",
              "size": 10,
              "solidity": 0.2
             }
            },
            "type": "histogram"
           }
          ],
          "histogram2d": [
           {
            "colorbar": {
             "outlinewidth": 0,
             "ticks": ""
            },
            "colorscale": [
             [
              0,
              "#0d0887"
             ],
             [
              0.1111111111111111,
              "#46039f"
             ],
             [
              0.2222222222222222,
              "#7201a8"
             ],
             [
              0.3333333333333333,
              "#9c179e"
             ],
             [
              0.4444444444444444,
              "#bd3786"
             ],
             [
              0.5555555555555556,
              "#d8576b"
             ],
             [
              0.6666666666666666,
              "#ed7953"
             ],
             [
              0.7777777777777778,
              "#fb9f3a"
             ],
             [
              0.8888888888888888,
              "#fdca26"
             ],
             [
              1,
              "#f0f921"
             ]
            ],
            "type": "histogram2d"
           }
          ],
          "histogram2dcontour": [
           {
            "colorbar": {
             "outlinewidth": 0,
             "ticks": ""
            },
            "colorscale": [
             [
              0,
              "#0d0887"
             ],
             [
              0.1111111111111111,
              "#46039f"
             ],
             [
              0.2222222222222222,
              "#7201a8"
             ],
             [
              0.3333333333333333,
              "#9c179e"
             ],
             [
              0.4444444444444444,
              "#bd3786"
             ],
             [
              0.5555555555555556,
              "#d8576b"
             ],
             [
              0.6666666666666666,
              "#ed7953"
             ],
             [
              0.7777777777777778,
              "#fb9f3a"
             ],
             [
              0.8888888888888888,
              "#fdca26"
             ],
             [
              1,
              "#f0f921"
             ]
            ],
            "type": "histogram2dcontour"
           }
          ],
          "mesh3d": [
           {
            "colorbar": {
             "outlinewidth": 0,
             "ticks": ""
            },
            "type": "mesh3d"
           }
          ],
          "parcoords": [
           {
            "line": {
             "colorbar": {
              "outlinewidth": 0,
              "ticks": ""
             }
            },
            "type": "parcoords"
           }
          ],
          "pie": [
           {
            "automargin": true,
            "type": "pie"
           }
          ],
          "scatter": [
           {
            "fillpattern": {
             "fillmode": "overlay",
             "size": 10,
             "solidity": 0.2
            },
            "type": "scatter"
           }
          ],
          "scatter3d": [
           {
            "line": {
             "colorbar": {
              "outlinewidth": 0,
              "ticks": ""
             }
            },
            "marker": {
             "colorbar": {
              "outlinewidth": 0,
              "ticks": ""
             }
            },
            "type": "scatter3d"
           }
          ],
          "scattercarpet": [
           {
            "marker": {
             "colorbar": {
              "outlinewidth": 0,
              "ticks": ""
             }
            },
            "type": "scattercarpet"
           }
          ],
          "scattergeo": [
           {
            "marker": {
             "colorbar": {
              "outlinewidth": 0,
              "ticks": ""
             }
            },
            "type": "scattergeo"
           }
          ],
          "scattergl": [
           {
            "marker": {
             "colorbar": {
              "outlinewidth": 0,
              "ticks": ""
             }
            },
            "type": "scattergl"
           }
          ],
          "scattermap": [
           {
            "marker": {
             "colorbar": {
              "outlinewidth": 0,
              "ticks": ""
             }
            },
            "type": "scattermap"
           }
          ],
          "scattermapbox": [
           {
            "marker": {
             "colorbar": {
              "outlinewidth": 0,
              "ticks": ""
             }
            },
            "type": "scattermapbox"
           }
          ],
          "scatterpolar": [
           {
            "marker": {
             "colorbar": {
              "outlinewidth": 0,
              "ticks": ""
             }
            },
            "type": "scatterpolar"
           }
          ],
          "scatterpolargl": [
           {
            "marker": {
             "colorbar": {
              "outlinewidth": 0,
              "ticks": ""
             }
            },
            "type": "scatterpolargl"
           }
          ],
          "scatterternary": [
           {
            "marker": {
             "colorbar": {
              "outlinewidth": 0,
              "ticks": ""
             }
            },
            "type": "scatterternary"
           }
          ],
          "surface": [
           {
            "colorbar": {
             "outlinewidth": 0,
             "ticks": ""
            },
            "colorscale": [
             [
              0,
              "#0d0887"
             ],
             [
              0.1111111111111111,
              "#46039f"
             ],
             [
              0.2222222222222222,
              "#7201a8"
             ],
             [
              0.3333333333333333,
              "#9c179e"
             ],
             [
              0.4444444444444444,
              "#bd3786"
             ],
             [
              0.5555555555555556,
              "#d8576b"
             ],
             [
              0.6666666666666666,
              "#ed7953"
             ],
             [
              0.7777777777777778,
              "#fb9f3a"
             ],
             [
              0.8888888888888888,
              "#fdca26"
             ],
             [
              1,
              "#f0f921"
             ]
            ],
            "type": "surface"
           }
          ],
          "table": [
           {
            "cells": {
             "fill": {
              "color": "#EBF0F8"
             },
             "line": {
              "color": "white"
             }
            },
            "header": {
             "fill": {
              "color": "#C8D4E3"
             },
             "line": {
              "color": "white"
             }
            },
            "type": "table"
           }
          ]
         },
         "layout": {
          "annotationdefaults": {
           "arrowcolor": "#2a3f5f",
           "arrowhead": 0,
           "arrowwidth": 1
          },
          "autotypenumbers": "strict",
          "coloraxis": {
           "colorbar": {
            "outlinewidth": 0,
            "ticks": ""
           }
          },
          "colorscale": {
           "diverging": [
            [
             0,
             "#8e0152"
            ],
            [
             0.1,
             "#c51b7d"
            ],
            [
             0.2,
             "#de77ae"
            ],
            [
             0.3,
             "#f1b6da"
            ],
            [
             0.4,
             "#fde0ef"
            ],
            [
             0.5,
             "#f7f7f7"
            ],
            [
             0.6,
             "#e6f5d0"
            ],
            [
             0.7,
             "#b8e186"
            ],
            [
             0.8,
             "#7fbc41"
            ],
            [
             0.9,
             "#4d9221"
            ],
            [
             1,
             "#276419"
            ]
           ],
           "sequential": [
            [
             0,
             "#0d0887"
            ],
            [
             0.1111111111111111,
             "#46039f"
            ],
            [
             0.2222222222222222,
             "#7201a8"
            ],
            [
             0.3333333333333333,
             "#9c179e"
            ],
            [
             0.4444444444444444,
             "#bd3786"
            ],
            [
             0.5555555555555556,
             "#d8576b"
            ],
            [
             0.6666666666666666,
             "#ed7953"
            ],
            [
             0.7777777777777778,
             "#fb9f3a"
            ],
            [
             0.8888888888888888,
             "#fdca26"
            ],
            [
             1,
             "#f0f921"
            ]
           ],
           "sequentialminus": [
            [
             0,
             "#0d0887"
            ],
            [
             0.1111111111111111,
             "#46039f"
            ],
            [
             0.2222222222222222,
             "#7201a8"
            ],
            [
             0.3333333333333333,
             "#9c179e"
            ],
            [
             0.4444444444444444,
             "#bd3786"
            ],
            [
             0.5555555555555556,
             "#d8576b"
            ],
            [
             0.6666666666666666,
             "#ed7953"
            ],
            [
             0.7777777777777778,
             "#fb9f3a"
            ],
            [
             0.8888888888888888,
             "#fdca26"
            ],
            [
             1,
             "#f0f921"
            ]
           ]
          },
          "colorway": [
           "#636efa",
           "#EF553B",
           "#00cc96",
           "#ab63fa",
           "#FFA15A",
           "#19d3f3",
           "#FF6692",
           "#B6E880",
           "#FF97FF",
           "#FECB52"
          ],
          "font": {
           "color": "#2a3f5f"
          },
          "geo": {
           "bgcolor": "white",
           "lakecolor": "white",
           "landcolor": "#E5ECF6",
           "showlakes": true,
           "showland": true,
           "subunitcolor": "white"
          },
          "hoverlabel": {
           "align": "left"
          },
          "hovermode": "closest",
          "mapbox": {
           "style": "light"
          },
          "paper_bgcolor": "white",
          "plot_bgcolor": "#E5ECF6",
          "polar": {
           "angularaxis": {
            "gridcolor": "white",
            "linecolor": "white",
            "ticks": ""
           },
           "bgcolor": "#E5ECF6",
           "radialaxis": {
            "gridcolor": "white",
            "linecolor": "white",
            "ticks": ""
           }
          },
          "scene": {
           "xaxis": {
            "backgroundcolor": "#E5ECF6",
            "gridcolor": "white",
            "gridwidth": 2,
            "linecolor": "white",
            "showbackground": true,
            "ticks": "",
            "zerolinecolor": "white"
           },
           "yaxis": {
            "backgroundcolor": "#E5ECF6",
            "gridcolor": "white",
            "gridwidth": 2,
            "linecolor": "white",
            "showbackground": true,
            "ticks": "",
            "zerolinecolor": "white"
           },
           "zaxis": {
            "backgroundcolor": "#E5ECF6",
            "gridcolor": "white",
            "gridwidth": 2,
            "linecolor": "white",
            "showbackground": true,
            "ticks": "",
            "zerolinecolor": "white"
           }
          },
          "shapedefaults": {
           "line": {
            "color": "#2a3f5f"
           }
          },
          "ternary": {
           "aaxis": {
            "gridcolor": "white",
            "linecolor": "white",
            "ticks": ""
           },
           "baxis": {
            "gridcolor": "white",
            "linecolor": "white",
            "ticks": ""
           },
           "bgcolor": "#E5ECF6",
           "caxis": {
            "gridcolor": "white",
            "linecolor": "white",
            "ticks": ""
           }
          },
          "title": {
           "x": 0.05
          },
          "xaxis": {
           "automargin": true,
           "gridcolor": "white",
           "linecolor": "white",
           "ticks": "",
           "title": {
            "standoff": 15
           },
           "zerolinecolor": "white",
           "zerolinewidth": 2
          },
          "yaxis": {
           "automargin": true,
           "gridcolor": "white",
           "linecolor": "white",
           "ticks": "",
           "title": {
            "standoff": 15
           },
           "zerolinecolor": "white",
           "zerolinewidth": 2
          }
         }
        },
        "title": {
         "text": "Churn rate by StreamingMovies"
        },
        "xaxis": {
         "anchor": "y",
         "domain": [
          0,
          1
         ],
         "title": {
          "text": "StreamingMovies"
         }
        },
        "yaxis": {
         "anchor": "x",
         "domain": [
          0,
          1
         ],
         "title": {
          "text": "Count"
         }
        }
       }
      }
     },
     "metadata": {},
     "output_type": "display_data"
    }
   ],
   "source": [
    "bar('PhoneService')\n",
    "bar('MultipleLines')\n",
    "bar('InternetService')\n",
    "bar('OnlineSecurity')\n",
    "bar('OnlineBackup')\n",
    "bar('DeviceProtection')\n",
    "bar('TechSupport')\n",
    "bar('StreamingTV')\n",
    "bar('StreamingMovies')"
   ]
  },
  {
   "cell_type": "markdown",
   "id": "ea764574",
   "metadata": {},
   "source": [
    "**Services that each customer has signed up for Insight**: These category of features shows significant variations across their values. If a customer does not have a phone service, he/she cannot have multiple lines. About 90.3% of the customers have phone services and have the higher rate to churn. Customers who have Fibre optic as internet service are more likely to churn, this can happen due to high prices, competition, customer service, and many other reasons. Fiber optic service is much more expensive than DSL which may be one of the reasons why customers churn. Customers with OnlineSecurity ,OnlineBackup ,DeviceProtection and TechSupport are more unlikely to churn. Streaming service is not predictive for churn as it evenly distributed to yes and no options."
   ]
  },
  {
   "cell_type": "code",
   "execution_count": 23,
   "id": "8e3928f5",
   "metadata": {},
   "outputs": [
    {
     "name": "stderr",
     "output_type": "stream",
     "text": [
      "C:\\Users\\Asus\\AppData\\Local\\Temp\\ipykernel_19164\\1367734987.py:7: FutureWarning:\n",
      "\n",
      "Series.__getitem__ treating keys as positions is deprecated. In a future version, integer keys will always be treated as labels (consistent with DataFrame behavior). To access a value by position, use `ser.iloc[pos]`\n",
      "\n",
      "C:\\Users\\Asus\\AppData\\Local\\Temp\\ipykernel_19164\\1367734987.py:9: FutureWarning:\n",
      "\n",
      "Series.__getitem__ treating keys as positions is deprecated. In a future version, integer keys will always be treated as labels (consistent with DataFrame behavior). To access a value by position, use `ser.iloc[pos]`\n",
      "\n"
     ]
    },
    {
     "data": {
      "application/vnd.plotly.v1+json": {
       "config": {
        "plotlyServerURL": "https://plot.ly"
       },
       "data": [
        {
         "alignmentgroup": "True",
         "hovertemplate": "Churn=No<br>Contract=%{x}<br>Count=%{y}<extra></extra>",
         "legendgroup": "No",
         "marker": {
          "color": "green",
          "pattern": {
           "shape": ""
          }
         },
         "name": "No",
         "offsetgroup": "No",
         "orientation": "v",
         "showlegend": true,
         "textposition": "auto",
         "type": "bar",
         "x": [
          "Month-to-month",
          "One year",
          "Two year"
         ],
         "xaxis": "x",
         "y": {
          "bdata": "rAgbBW8G",
          "dtype": "i2"
         },
         "yaxis": "y"
        },
        {
         "alignmentgroup": "True",
         "hovertemplate": "Churn=Yes<br>Contract=%{x}<br>Count=%{y}<extra></extra>",
         "legendgroup": "Yes",
         "marker": {
          "color": "red",
          "pattern": {
           "shape": ""
          }
         },
         "name": "Yes",
         "offsetgroup": "Yes",
         "orientation": "v",
         "showlegend": true,
         "textposition": "auto",
         "type": "bar",
         "x": [
          "Month-to-month",
          "One year",
          "Two year"
         ],
         "xaxis": "x",
         "y": {
          "bdata": "dwamADAA",
          "dtype": "i2"
         },
         "yaxis": "y"
        }
       ],
       "layout": {
        "annotations": [
         {
          "align": "left",
          "bordercolor": "black",
          "borderwidth": 1,
          "showarrow": false,
          "text": "Value count of distribution of Month-to-month, Two year & One year are<br>55.0%, 24.1% & 20.9% percentage respectively.",
          "x": 1.4,
          "xref": "paper",
          "y": 1.3,
          "yref": "paper"
         }
        ],
        "barmode": "group",
        "legend": {
         "title": {
          "text": "Churn"
         },
         "tracegroupgap": 0
        },
        "margin": {
         "r": 400
        },
        "template": {
         "data": {
          "bar": [
           {
            "error_x": {
             "color": "#2a3f5f"
            },
            "error_y": {
             "color": "#2a3f5f"
            },
            "marker": {
             "line": {
              "color": "#E5ECF6",
              "width": 0.5
             },
             "pattern": {
              "fillmode": "overlay",
              "size": 10,
              "solidity": 0.2
             }
            },
            "type": "bar"
           }
          ],
          "barpolar": [
           {
            "marker": {
             "line": {
              "color": "#E5ECF6",
              "width": 0.5
             },
             "pattern": {
              "fillmode": "overlay",
              "size": 10,
              "solidity": 0.2
             }
            },
            "type": "barpolar"
           }
          ],
          "carpet": [
           {
            "aaxis": {
             "endlinecolor": "#2a3f5f",
             "gridcolor": "white",
             "linecolor": "white",
             "minorgridcolor": "white",
             "startlinecolor": "#2a3f5f"
            },
            "baxis": {
             "endlinecolor": "#2a3f5f",
             "gridcolor": "white",
             "linecolor": "white",
             "minorgridcolor": "white",
             "startlinecolor": "#2a3f5f"
            },
            "type": "carpet"
           }
          ],
          "choropleth": [
           {
            "colorbar": {
             "outlinewidth": 0,
             "ticks": ""
            },
            "type": "choropleth"
           }
          ],
          "contour": [
           {
            "colorbar": {
             "outlinewidth": 0,
             "ticks": ""
            },
            "colorscale": [
             [
              0,
              "#0d0887"
             ],
             [
              0.1111111111111111,
              "#46039f"
             ],
             [
              0.2222222222222222,
              "#7201a8"
             ],
             [
              0.3333333333333333,
              "#9c179e"
             ],
             [
              0.4444444444444444,
              "#bd3786"
             ],
             [
              0.5555555555555556,
              "#d8576b"
             ],
             [
              0.6666666666666666,
              "#ed7953"
             ],
             [
              0.7777777777777778,
              "#fb9f3a"
             ],
             [
              0.8888888888888888,
              "#fdca26"
             ],
             [
              1,
              "#f0f921"
             ]
            ],
            "type": "contour"
           }
          ],
          "contourcarpet": [
           {
            "colorbar": {
             "outlinewidth": 0,
             "ticks": ""
            },
            "type": "contourcarpet"
           }
          ],
          "heatmap": [
           {
            "colorbar": {
             "outlinewidth": 0,
             "ticks": ""
            },
            "colorscale": [
             [
              0,
              "#0d0887"
             ],
             [
              0.1111111111111111,
              "#46039f"
             ],
             [
              0.2222222222222222,
              "#7201a8"
             ],
             [
              0.3333333333333333,
              "#9c179e"
             ],
             [
              0.4444444444444444,
              "#bd3786"
             ],
             [
              0.5555555555555556,
              "#d8576b"
             ],
             [
              0.6666666666666666,
              "#ed7953"
             ],
             [
              0.7777777777777778,
              "#fb9f3a"
             ],
             [
              0.8888888888888888,
              "#fdca26"
             ],
             [
              1,
              "#f0f921"
             ]
            ],
            "type": "heatmap"
           }
          ],
          "histogram": [
           {
            "marker": {
             "pattern": {
              "fillmode": "overlay",
              "size": 10,
              "solidity": 0.2
             }
            },
            "type": "histogram"
           }
          ],
          "histogram2d": [
           {
            "colorbar": {
             "outlinewidth": 0,
             "ticks": ""
            },
            "colorscale": [
             [
              0,
              "#0d0887"
             ],
             [
              0.1111111111111111,
              "#46039f"
             ],
             [
              0.2222222222222222,
              "#7201a8"
             ],
             [
              0.3333333333333333,
              "#9c179e"
             ],
             [
              0.4444444444444444,
              "#bd3786"
             ],
             [
              0.5555555555555556,
              "#d8576b"
             ],
             [
              0.6666666666666666,
              "#ed7953"
             ],
             [
              0.7777777777777778,
              "#fb9f3a"
             ],
             [
              0.8888888888888888,
              "#fdca26"
             ],
             [
              1,
              "#f0f921"
             ]
            ],
            "type": "histogram2d"
           }
          ],
          "histogram2dcontour": [
           {
            "colorbar": {
             "outlinewidth": 0,
             "ticks": ""
            },
            "colorscale": [
             [
              0,
              "#0d0887"
             ],
             [
              0.1111111111111111,
              "#46039f"
             ],
             [
              0.2222222222222222,
              "#7201a8"
             ],
             [
              0.3333333333333333,
              "#9c179e"
             ],
             [
              0.4444444444444444,
              "#bd3786"
             ],
             [
              0.5555555555555556,
              "#d8576b"
             ],
             [
              0.6666666666666666,
              "#ed7953"
             ],
             [
              0.7777777777777778,
              "#fb9f3a"
             ],
             [
              0.8888888888888888,
              "#fdca26"
             ],
             [
              1,
              "#f0f921"
             ]
            ],
            "type": "histogram2dcontour"
           }
          ],
          "mesh3d": [
           {
            "colorbar": {
             "outlinewidth": 0,
             "ticks": ""
            },
            "type": "mesh3d"
           }
          ],
          "parcoords": [
           {
            "line": {
             "colorbar": {
              "outlinewidth": 0,
              "ticks": ""
             }
            },
            "type": "parcoords"
           }
          ],
          "pie": [
           {
            "automargin": true,
            "type": "pie"
           }
          ],
          "scatter": [
           {
            "fillpattern": {
             "fillmode": "overlay",
             "size": 10,
             "solidity": 0.2
            },
            "type": "scatter"
           }
          ],
          "scatter3d": [
           {
            "line": {
             "colorbar": {
              "outlinewidth": 0,
              "ticks": ""
             }
            },
            "marker": {
             "colorbar": {
              "outlinewidth": 0,
              "ticks": ""
             }
            },
            "type": "scatter3d"
           }
          ],
          "scattercarpet": [
           {
            "marker": {
             "colorbar": {
              "outlinewidth": 0,
              "ticks": ""
             }
            },
            "type": "scattercarpet"
           }
          ],
          "scattergeo": [
           {
            "marker": {
             "colorbar": {
              "outlinewidth": 0,
              "ticks": ""
             }
            },
            "type": "scattergeo"
           }
          ],
          "scattergl": [
           {
            "marker": {
             "colorbar": {
              "outlinewidth": 0,
              "ticks": ""
             }
            },
            "type": "scattergl"
           }
          ],
          "scattermap": [
           {
            "marker": {
             "colorbar": {
              "outlinewidth": 0,
              "ticks": ""
             }
            },
            "type": "scattermap"
           }
          ],
          "scattermapbox": [
           {
            "marker": {
             "colorbar": {
              "outlinewidth": 0,
              "ticks": ""
             }
            },
            "type": "scattermapbox"
           }
          ],
          "scatterpolar": [
           {
            "marker": {
             "colorbar": {
              "outlinewidth": 0,
              "ticks": ""
             }
            },
            "type": "scatterpolar"
           }
          ],
          "scatterpolargl": [
           {
            "marker": {
             "colorbar": {
              "outlinewidth": 0,
              "ticks": ""
             }
            },
            "type": "scatterpolargl"
           }
          ],
          "scatterternary": [
           {
            "marker": {
             "colorbar": {
              "outlinewidth": 0,
              "ticks": ""
             }
            },
            "type": "scatterternary"
           }
          ],
          "surface": [
           {
            "colorbar": {
             "outlinewidth": 0,
             "ticks": ""
            },
            "colorscale": [
             [
              0,
              "#0d0887"
             ],
             [
              0.1111111111111111,
              "#46039f"
             ],
             [
              0.2222222222222222,
              "#7201a8"
             ],
             [
              0.3333333333333333,
              "#9c179e"
             ],
             [
              0.4444444444444444,
              "#bd3786"
             ],
             [
              0.5555555555555556,
              "#d8576b"
             ],
             [
              0.6666666666666666,
              "#ed7953"
             ],
             [
              0.7777777777777778,
              "#fb9f3a"
             ],
             [
              0.8888888888888888,
              "#fdca26"
             ],
             [
              1,
              "#f0f921"
             ]
            ],
            "type": "surface"
           }
          ],
          "table": [
           {
            "cells": {
             "fill": {
              "color": "#EBF0F8"
             },
             "line": {
              "color": "white"
             }
            },
            "header": {
             "fill": {
              "color": "#C8D4E3"
             },
             "line": {
              "color": "white"
             }
            },
            "type": "table"
           }
          ]
         },
         "layout": {
          "annotationdefaults": {
           "arrowcolor": "#2a3f5f",
           "arrowhead": 0,
           "arrowwidth": 1
          },
          "autotypenumbers": "strict",
          "coloraxis": {
           "colorbar": {
            "outlinewidth": 0,
            "ticks": ""
           }
          },
          "colorscale": {
           "diverging": [
            [
             0,
             "#8e0152"
            ],
            [
             0.1,
             "#c51b7d"
            ],
            [
             0.2,
             "#de77ae"
            ],
            [
             0.3,
             "#f1b6da"
            ],
            [
             0.4,
             "#fde0ef"
            ],
            [
             0.5,
             "#f7f7f7"
            ],
            [
             0.6,
             "#e6f5d0"
            ],
            [
             0.7,
             "#b8e186"
            ],
            [
             0.8,
             "#7fbc41"
            ],
            [
             0.9,
             "#4d9221"
            ],
            [
             1,
             "#276419"
            ]
           ],
           "sequential": [
            [
             0,
             "#0d0887"
            ],
            [
             0.1111111111111111,
             "#46039f"
            ],
            [
             0.2222222222222222,
             "#7201a8"
            ],
            [
             0.3333333333333333,
             "#9c179e"
            ],
            [
             0.4444444444444444,
             "#bd3786"
            ],
            [
             0.5555555555555556,
             "#d8576b"
            ],
            [
             0.6666666666666666,
             "#ed7953"
            ],
            [
             0.7777777777777778,
             "#fb9f3a"
            ],
            [
             0.8888888888888888,
             "#fdca26"
            ],
            [
             1,
             "#f0f921"
            ]
           ],
           "sequentialminus": [
            [
             0,
             "#0d0887"
            ],
            [
             0.1111111111111111,
             "#46039f"
            ],
            [
             0.2222222222222222,
             "#7201a8"
            ],
            [
             0.3333333333333333,
             "#9c179e"
            ],
            [
             0.4444444444444444,
             "#bd3786"
            ],
            [
             0.5555555555555556,
             "#d8576b"
            ],
            [
             0.6666666666666666,
             "#ed7953"
            ],
            [
             0.7777777777777778,
             "#fb9f3a"
            ],
            [
             0.8888888888888888,
             "#fdca26"
            ],
            [
             1,
             "#f0f921"
            ]
           ]
          },
          "colorway": [
           "#636efa",
           "#EF553B",
           "#00cc96",
           "#ab63fa",
           "#FFA15A",
           "#19d3f3",
           "#FF6692",
           "#B6E880",
           "#FF97FF",
           "#FECB52"
          ],
          "font": {
           "color": "#2a3f5f"
          },
          "geo": {
           "bgcolor": "white",
           "lakecolor": "white",
           "landcolor": "#E5ECF6",
           "showlakes": true,
           "showland": true,
           "subunitcolor": "white"
          },
          "hoverlabel": {
           "align": "left"
          },
          "hovermode": "closest",
          "mapbox": {
           "style": "light"
          },
          "paper_bgcolor": "white",
          "plot_bgcolor": "#E5ECF6",
          "polar": {
           "angularaxis": {
            "gridcolor": "white",
            "linecolor": "white",
            "ticks": ""
           },
           "bgcolor": "#E5ECF6",
           "radialaxis": {
            "gridcolor": "white",
            "linecolor": "white",
            "ticks": ""
           }
          },
          "scene": {
           "xaxis": {
            "backgroundcolor": "#E5ECF6",
            "gridcolor": "white",
            "gridwidth": 2,
            "linecolor": "white",
            "showbackground": true,
            "ticks": "",
            "zerolinecolor": "white"
           },
           "yaxis": {
            "backgroundcolor": "#E5ECF6",
            "gridcolor": "white",
            "gridwidth": 2,
            "linecolor": "white",
            "showbackground": true,
            "ticks": "",
            "zerolinecolor": "white"
           },
           "zaxis": {
            "backgroundcolor": "#E5ECF6",
            "gridcolor": "white",
            "gridwidth": 2,
            "linecolor": "white",
            "showbackground": true,
            "ticks": "",
            "zerolinecolor": "white"
           }
          },
          "shapedefaults": {
           "line": {
            "color": "#2a3f5f"
           }
          },
          "ternary": {
           "aaxis": {
            "gridcolor": "white",
            "linecolor": "white",
            "ticks": ""
           },
           "baxis": {
            "gridcolor": "white",
            "linecolor": "white",
            "ticks": ""
           },
           "bgcolor": "#E5ECF6",
           "caxis": {
            "gridcolor": "white",
            "linecolor": "white",
            "ticks": ""
           }
          },
          "title": {
           "x": 0.05
          },
          "xaxis": {
           "automargin": true,
           "gridcolor": "white",
           "linecolor": "white",
           "ticks": "",
           "title": {
            "standoff": 15
           },
           "zerolinecolor": "white",
           "zerolinewidth": 2
          },
          "yaxis": {
           "automargin": true,
           "gridcolor": "white",
           "linecolor": "white",
           "ticks": "",
           "title": {
            "standoff": 15
           },
           "zerolinecolor": "white",
           "zerolinewidth": 2
          }
         }
        },
        "title": {
         "text": "Churn rate by Contract"
        },
        "xaxis": {
         "anchor": "y",
         "domain": [
          0,
          1
         ],
         "title": {
          "text": "Contract"
         }
        },
        "yaxis": {
         "anchor": "x",
         "domain": [
          0,
          1
         ],
         "title": {
          "text": "Count"
         }
        }
       }
      }
     },
     "metadata": {},
     "output_type": "display_data"
    },
    {
     "name": "stderr",
     "output_type": "stream",
     "text": [
      "C:\\Users\\Asus\\AppData\\Local\\Temp\\ipykernel_19164\\1367734987.py:7: FutureWarning:\n",
      "\n",
      "Series.__getitem__ treating keys as positions is deprecated. In a future version, integer keys will always be treated as labels (consistent with DataFrame behavior). To access a value by position, use `ser.iloc[pos]`\n",
      "\n",
      "C:\\Users\\Asus\\AppData\\Local\\Temp\\ipykernel_19164\\1367734987.py:9: FutureWarning:\n",
      "\n",
      "Series.__getitem__ treating keys as positions is deprecated. In a future version, integer keys will always be treated as labels (consistent with DataFrame behavior). To access a value by position, use `ser.iloc[pos]`\n",
      "\n"
     ]
    },
    {
     "data": {
      "application/vnd.plotly.v1+json": {
       "config": {
        "plotlyServerURL": "https://plot.ly"
       },
       "data": [
        {
         "alignmentgroup": "True",
         "hovertemplate": "Churn=No<br>PaperlessBilling=%{x}<br>Count=%{y}<extra></extra>",
         "legendgroup": "No",
         "marker": {
          "color": "green",
          "pattern": {
           "shape": ""
          }
         },
         "name": "No",
         "offsetgroup": "No",
         "orientation": "v",
         "showlegend": true,
         "textposition": "auto",
         "type": "bar",
         "x": [
          "No",
          "Yes"
         ],
         "xaxis": "x",
         "y": {
          "bdata": "YwnTCg==",
          "dtype": "i2"
         },
         "yaxis": "y"
        },
        {
         "alignmentgroup": "True",
         "hovertemplate": "Churn=Yes<br>PaperlessBilling=%{x}<br>Count=%{y}<extra></extra>",
         "legendgroup": "Yes",
         "marker": {
          "color": "red",
          "pattern": {
           "shape": ""
          }
         },
         "name": "Yes",
         "offsetgroup": "Yes",
         "orientation": "v",
         "showlegend": true,
         "textposition": "auto",
         "type": "bar",
         "x": [
          "No",
          "Yes"
         ],
         "xaxis": "x",
         "y": {
          "bdata": "1QF4BQ==",
          "dtype": "i2"
         },
         "yaxis": "y"
        }
       ],
       "layout": {
        "annotations": [
         {
          "align": "left",
          "bordercolor": "black",
          "borderwidth": 1,
          "showarrow": false,
          "text": "Value count of distribution of Yes & No are<br>59.2% & 40.8% percentage respectively.",
          "x": 1.4,
          "xref": "paper",
          "y": 1.3,
          "yref": "paper"
         }
        ],
        "barmode": "group",
        "legend": {
         "title": {
          "text": "Churn"
         },
         "tracegroupgap": 0
        },
        "margin": {
         "r": 400
        },
        "template": {
         "data": {
          "bar": [
           {
            "error_x": {
             "color": "#2a3f5f"
            },
            "error_y": {
             "color": "#2a3f5f"
            },
            "marker": {
             "line": {
              "color": "#E5ECF6",
              "width": 0.5
             },
             "pattern": {
              "fillmode": "overlay",
              "size": 10,
              "solidity": 0.2
             }
            },
            "type": "bar"
           }
          ],
          "barpolar": [
           {
            "marker": {
             "line": {
              "color": "#E5ECF6",
              "width": 0.5
             },
             "pattern": {
              "fillmode": "overlay",
              "size": 10,
              "solidity": 0.2
             }
            },
            "type": "barpolar"
           }
          ],
          "carpet": [
           {
            "aaxis": {
             "endlinecolor": "#2a3f5f",
             "gridcolor": "white",
             "linecolor": "white",
             "minorgridcolor": "white",
             "startlinecolor": "#2a3f5f"
            },
            "baxis": {
             "endlinecolor": "#2a3f5f",
             "gridcolor": "white",
             "linecolor": "white",
             "minorgridcolor": "white",
             "startlinecolor": "#2a3f5f"
            },
            "type": "carpet"
           }
          ],
          "choropleth": [
           {
            "colorbar": {
             "outlinewidth": 0,
             "ticks": ""
            },
            "type": "choropleth"
           }
          ],
          "contour": [
           {
            "colorbar": {
             "outlinewidth": 0,
             "ticks": ""
            },
            "colorscale": [
             [
              0,
              "#0d0887"
             ],
             [
              0.1111111111111111,
              "#46039f"
             ],
             [
              0.2222222222222222,
              "#7201a8"
             ],
             [
              0.3333333333333333,
              "#9c179e"
             ],
             [
              0.4444444444444444,
              "#bd3786"
             ],
             [
              0.5555555555555556,
              "#d8576b"
             ],
             [
              0.6666666666666666,
              "#ed7953"
             ],
             [
              0.7777777777777778,
              "#fb9f3a"
             ],
             [
              0.8888888888888888,
              "#fdca26"
             ],
             [
              1,
              "#f0f921"
             ]
            ],
            "type": "contour"
           }
          ],
          "contourcarpet": [
           {
            "colorbar": {
             "outlinewidth": 0,
             "ticks": ""
            },
            "type": "contourcarpet"
           }
          ],
          "heatmap": [
           {
            "colorbar": {
             "outlinewidth": 0,
             "ticks": ""
            },
            "colorscale": [
             [
              0,
              "#0d0887"
             ],
             [
              0.1111111111111111,
              "#46039f"
             ],
             [
              0.2222222222222222,
              "#7201a8"
             ],
             [
              0.3333333333333333,
              "#9c179e"
             ],
             [
              0.4444444444444444,
              "#bd3786"
             ],
             [
              0.5555555555555556,
              "#d8576b"
             ],
             [
              0.6666666666666666,
              "#ed7953"
             ],
             [
              0.7777777777777778,
              "#fb9f3a"
             ],
             [
              0.8888888888888888,
              "#fdca26"
             ],
             [
              1,
              "#f0f921"
             ]
            ],
            "type": "heatmap"
           }
          ],
          "histogram": [
           {
            "marker": {
             "pattern": {
              "fillmode": "overlay",
              "size": 10,
              "solidity": 0.2
             }
            },
            "type": "histogram"
           }
          ],
          "histogram2d": [
           {
            "colorbar": {
             "outlinewidth": 0,
             "ticks": ""
            },
            "colorscale": [
             [
              0,
              "#0d0887"
             ],
             [
              0.1111111111111111,
              "#46039f"
             ],
             [
              0.2222222222222222,
              "#7201a8"
             ],
             [
              0.3333333333333333,
              "#9c179e"
             ],
             [
              0.4444444444444444,
              "#bd3786"
             ],
             [
              0.5555555555555556,
              "#d8576b"
             ],
             [
              0.6666666666666666,
              "#ed7953"
             ],
             [
              0.7777777777777778,
              "#fb9f3a"
             ],
             [
              0.8888888888888888,
              "#fdca26"
             ],
             [
              1,
              "#f0f921"
             ]
            ],
            "type": "histogram2d"
           }
          ],
          "histogram2dcontour": [
           {
            "colorbar": {
             "outlinewidth": 0,
             "ticks": ""
            },
            "colorscale": [
             [
              0,
              "#0d0887"
             ],
             [
              0.1111111111111111,
              "#46039f"
             ],
             [
              0.2222222222222222,
              "#7201a8"
             ],
             [
              0.3333333333333333,
              "#9c179e"
             ],
             [
              0.4444444444444444,
              "#bd3786"
             ],
             [
              0.5555555555555556,
              "#d8576b"
             ],
             [
              0.6666666666666666,
              "#ed7953"
             ],
             [
              0.7777777777777778,
              "#fb9f3a"
             ],
             [
              0.8888888888888888,
              "#fdca26"
             ],
             [
              1,
              "#f0f921"
             ]
            ],
            "type": "histogram2dcontour"
           }
          ],
          "mesh3d": [
           {
            "colorbar": {
             "outlinewidth": 0,
             "ticks": ""
            },
            "type": "mesh3d"
           }
          ],
          "parcoords": [
           {
            "line": {
             "colorbar": {
              "outlinewidth": 0,
              "ticks": ""
             }
            },
            "type": "parcoords"
           }
          ],
          "pie": [
           {
            "automargin": true,
            "type": "pie"
           }
          ],
          "scatter": [
           {
            "fillpattern": {
             "fillmode": "overlay",
             "size": 10,
             "solidity": 0.2
            },
            "type": "scatter"
           }
          ],
          "scatter3d": [
           {
            "line": {
             "colorbar": {
              "outlinewidth": 0,
              "ticks": ""
             }
            },
            "marker": {
             "colorbar": {
              "outlinewidth": 0,
              "ticks": ""
             }
            },
            "type": "scatter3d"
           }
          ],
          "scattercarpet": [
           {
            "marker": {
             "colorbar": {
              "outlinewidth": 0,
              "ticks": ""
             }
            },
            "type": "scattercarpet"
           }
          ],
          "scattergeo": [
           {
            "marker": {
             "colorbar": {
              "outlinewidth": 0,
              "ticks": ""
             }
            },
            "type": "scattergeo"
           }
          ],
          "scattergl": [
           {
            "marker": {
             "colorbar": {
              "outlinewidth": 0,
              "ticks": ""
             }
            },
            "type": "scattergl"
           }
          ],
          "scattermap": [
           {
            "marker": {
             "colorbar": {
              "outlinewidth": 0,
              "ticks": ""
             }
            },
            "type": "scattermap"
           }
          ],
          "scattermapbox": [
           {
            "marker": {
             "colorbar": {
              "outlinewidth": 0,
              "ticks": ""
             }
            },
            "type": "scattermapbox"
           }
          ],
          "scatterpolar": [
           {
            "marker": {
             "colorbar": {
              "outlinewidth": 0,
              "ticks": ""
             }
            },
            "type": "scatterpolar"
           }
          ],
          "scatterpolargl": [
           {
            "marker": {
             "colorbar": {
              "outlinewidth": 0,
              "ticks": ""
             }
            },
            "type": "scatterpolargl"
           }
          ],
          "scatterternary": [
           {
            "marker": {
             "colorbar": {
              "outlinewidth": 0,
              "ticks": ""
             }
            },
            "type": "scatterternary"
           }
          ],
          "surface": [
           {
            "colorbar": {
             "outlinewidth": 0,
             "ticks": ""
            },
            "colorscale": [
             [
              0,
              "#0d0887"
             ],
             [
              0.1111111111111111,
              "#46039f"
             ],
             [
              0.2222222222222222,
              "#7201a8"
             ],
             [
              0.3333333333333333,
              "#9c179e"
             ],
             [
              0.4444444444444444,
              "#bd3786"
             ],
             [
              0.5555555555555556,
              "#d8576b"
             ],
             [
              0.6666666666666666,
              "#ed7953"
             ],
             [
              0.7777777777777778,
              "#fb9f3a"
             ],
             [
              0.8888888888888888,
              "#fdca26"
             ],
             [
              1,
              "#f0f921"
             ]
            ],
            "type": "surface"
           }
          ],
          "table": [
           {
            "cells": {
             "fill": {
              "color": "#EBF0F8"
             },
             "line": {
              "color": "white"
             }
            },
            "header": {
             "fill": {
              "color": "#C8D4E3"
             },
             "line": {
              "color": "white"
             }
            },
            "type": "table"
           }
          ]
         },
         "layout": {
          "annotationdefaults": {
           "arrowcolor": "#2a3f5f",
           "arrowhead": 0,
           "arrowwidth": 1
          },
          "autotypenumbers": "strict",
          "coloraxis": {
           "colorbar": {
            "outlinewidth": 0,
            "ticks": ""
           }
          },
          "colorscale": {
           "diverging": [
            [
             0,
             "#8e0152"
            ],
            [
             0.1,
             "#c51b7d"
            ],
            [
             0.2,
             "#de77ae"
            ],
            [
             0.3,
             "#f1b6da"
            ],
            [
             0.4,
             "#fde0ef"
            ],
            [
             0.5,
             "#f7f7f7"
            ],
            [
             0.6,
             "#e6f5d0"
            ],
            [
             0.7,
             "#b8e186"
            ],
            [
             0.8,
             "#7fbc41"
            ],
            [
             0.9,
             "#4d9221"
            ],
            [
             1,
             "#276419"
            ]
           ],
           "sequential": [
            [
             0,
             "#0d0887"
            ],
            [
             0.1111111111111111,
             "#46039f"
            ],
            [
             0.2222222222222222,
             "#7201a8"
            ],
            [
             0.3333333333333333,
             "#9c179e"
            ],
            [
             0.4444444444444444,
             "#bd3786"
            ],
            [
             0.5555555555555556,
             "#d8576b"
            ],
            [
             0.6666666666666666,
             "#ed7953"
            ],
            [
             0.7777777777777778,
             "#fb9f3a"
            ],
            [
             0.8888888888888888,
             "#fdca26"
            ],
            [
             1,
             "#f0f921"
            ]
           ],
           "sequentialminus": [
            [
             0,
             "#0d0887"
            ],
            [
             0.1111111111111111,
             "#46039f"
            ],
            [
             0.2222222222222222,
             "#7201a8"
            ],
            [
             0.3333333333333333,
             "#9c179e"
            ],
            [
             0.4444444444444444,
             "#bd3786"
            ],
            [
             0.5555555555555556,
             "#d8576b"
            ],
            [
             0.6666666666666666,
             "#ed7953"
            ],
            [
             0.7777777777777778,
             "#fb9f3a"
            ],
            [
             0.8888888888888888,
             "#fdca26"
            ],
            [
             1,
             "#f0f921"
            ]
           ]
          },
          "colorway": [
           "#636efa",
           "#EF553B",
           "#00cc96",
           "#ab63fa",
           "#FFA15A",
           "#19d3f3",
           "#FF6692",
           "#B6E880",
           "#FF97FF",
           "#FECB52"
          ],
          "font": {
           "color": "#2a3f5f"
          },
          "geo": {
           "bgcolor": "white",
           "lakecolor": "white",
           "landcolor": "#E5ECF6",
           "showlakes": true,
           "showland": true,
           "subunitcolor": "white"
          },
          "hoverlabel": {
           "align": "left"
          },
          "hovermode": "closest",
          "mapbox": {
           "style": "light"
          },
          "paper_bgcolor": "white",
          "plot_bgcolor": "#E5ECF6",
          "polar": {
           "angularaxis": {
            "gridcolor": "white",
            "linecolor": "white",
            "ticks": ""
           },
           "bgcolor": "#E5ECF6",
           "radialaxis": {
            "gridcolor": "white",
            "linecolor": "white",
            "ticks": ""
           }
          },
          "scene": {
           "xaxis": {
            "backgroundcolor": "#E5ECF6",
            "gridcolor": "white",
            "gridwidth": 2,
            "linecolor": "white",
            "showbackground": true,
            "ticks": "",
            "zerolinecolor": "white"
           },
           "yaxis": {
            "backgroundcolor": "#E5ECF6",
            "gridcolor": "white",
            "gridwidth": 2,
            "linecolor": "white",
            "showbackground": true,
            "ticks": "",
            "zerolinecolor": "white"
           },
           "zaxis": {
            "backgroundcolor": "#E5ECF6",
            "gridcolor": "white",
            "gridwidth": 2,
            "linecolor": "white",
            "showbackground": true,
            "ticks": "",
            "zerolinecolor": "white"
           }
          },
          "shapedefaults": {
           "line": {
            "color": "#2a3f5f"
           }
          },
          "ternary": {
           "aaxis": {
            "gridcolor": "white",
            "linecolor": "white",
            "ticks": ""
           },
           "baxis": {
            "gridcolor": "white",
            "linecolor": "white",
            "ticks": ""
           },
           "bgcolor": "#E5ECF6",
           "caxis": {
            "gridcolor": "white",
            "linecolor": "white",
            "ticks": ""
           }
          },
          "title": {
           "x": 0.05
          },
          "xaxis": {
           "automargin": true,
           "gridcolor": "white",
           "linecolor": "white",
           "ticks": "",
           "title": {
            "standoff": 15
           },
           "zerolinecolor": "white",
           "zerolinewidth": 2
          },
          "yaxis": {
           "automargin": true,
           "gridcolor": "white",
           "linecolor": "white",
           "ticks": "",
           "title": {
            "standoff": 15
           },
           "zerolinecolor": "white",
           "zerolinewidth": 2
          }
         }
        },
        "title": {
         "text": "Churn rate by PaperlessBilling"
        },
        "xaxis": {
         "anchor": "y",
         "domain": [
          0,
          1
         ],
         "title": {
          "text": "PaperlessBilling"
         }
        },
        "yaxis": {
         "anchor": "x",
         "domain": [
          0,
          1
         ],
         "title": {
          "text": "Count"
         }
        }
       }
      }
     },
     "metadata": {},
     "output_type": "display_data"
    },
    {
     "name": "stderr",
     "output_type": "stream",
     "text": [
      "C:\\Users\\Asus\\AppData\\Local\\Temp\\ipykernel_19164\\1367734987.py:7: FutureWarning:\n",
      "\n",
      "Series.__getitem__ treating keys as positions is deprecated. In a future version, integer keys will always be treated as labels (consistent with DataFrame behavior). To access a value by position, use `ser.iloc[pos]`\n",
      "\n",
      "C:\\Users\\Asus\\AppData\\Local\\Temp\\ipykernel_19164\\1367734987.py:9: FutureWarning:\n",
      "\n",
      "Series.__getitem__ treating keys as positions is deprecated. In a future version, integer keys will always be treated as labels (consistent with DataFrame behavior). To access a value by position, use `ser.iloc[pos]`\n",
      "\n"
     ]
    },
    {
     "data": {
      "application/vnd.plotly.v1+json": {
       "config": {
        "plotlyServerURL": "https://plot.ly"
       },
       "data": [
        {
         "alignmentgroup": "True",
         "hovertemplate": "Churn=No<br>PaymentMethod=%{x}<br>Count=%{y}<extra></extra>",
         "legendgroup": "No",
         "marker": {
          "color": "green",
          "pattern": {
           "shape": ""
          }
         },
         "name": "No",
         "offsetgroup": "No",
         "orientation": "v",
         "showlegend": true,
         "textposition": "auto",
         "type": "bar",
         "x": [
          "Bank transfer (automatic)",
          "Credit card (automatic)",
          "Electronic check",
          "Mailed check"
         ],
         "xaxis": "x",
         "y": {
          "bdata": "BgUKBQ4FGAU=",
          "dtype": "i2"
         },
         "yaxis": "y"
        },
        {
         "alignmentgroup": "True",
         "hovertemplate": "Churn=Yes<br>PaymentMethod=%{x}<br>Count=%{y}<extra></extra>",
         "legendgroup": "Yes",
         "marker": {
          "color": "red",
          "pattern": {
           "shape": ""
          }
         },
         "name": "Yes",
         "offsetgroup": "Yes",
         "orientation": "v",
         "showlegend": true,
         "textposition": "auto",
         "type": "bar",
         "x": [
          "Bank transfer (automatic)",
          "Credit card (automatic)",
          "Electronic check",
          "Mailed check"
         ],
         "xaxis": "x",
         "y": {
          "bdata": "AgHoAC8ENAE=",
          "dtype": "i2"
         },
         "yaxis": "y"
        }
       ],
       "layout": {
        "annotations": [
         {
          "align": "left",
          "bordercolor": "black",
          "borderwidth": 1,
          "showarrow": false,
          "text": "Value count of distribution of Electronic check, Mailed check, Bank transfer (automatic) & Credit card (automatic) are<br>33.6%, 22.9%, 21.9% & 21.6% percentage respectively.",
          "x": 1.4,
          "xref": "paper",
          "y": 1.3,
          "yref": "paper"
         }
        ],
        "barmode": "group",
        "legend": {
         "title": {
          "text": "Churn"
         },
         "tracegroupgap": 0
        },
        "margin": {
         "r": 400
        },
        "template": {
         "data": {
          "bar": [
           {
            "error_x": {
             "color": "#2a3f5f"
            },
            "error_y": {
             "color": "#2a3f5f"
            },
            "marker": {
             "line": {
              "color": "#E5ECF6",
              "width": 0.5
             },
             "pattern": {
              "fillmode": "overlay",
              "size": 10,
              "solidity": 0.2
             }
            },
            "type": "bar"
           }
          ],
          "barpolar": [
           {
            "marker": {
             "line": {
              "color": "#E5ECF6",
              "width": 0.5
             },
             "pattern": {
              "fillmode": "overlay",
              "size": 10,
              "solidity": 0.2
             }
            },
            "type": "barpolar"
           }
          ],
          "carpet": [
           {
            "aaxis": {
             "endlinecolor": "#2a3f5f",
             "gridcolor": "white",
             "linecolor": "white",
             "minorgridcolor": "white",
             "startlinecolor": "#2a3f5f"
            },
            "baxis": {
             "endlinecolor": "#2a3f5f",
             "gridcolor": "white",
             "linecolor": "white",
             "minorgridcolor": "white",
             "startlinecolor": "#2a3f5f"
            },
            "type": "carpet"
           }
          ],
          "choropleth": [
           {
            "colorbar": {
             "outlinewidth": 0,
             "ticks": ""
            },
            "type": "choropleth"
           }
          ],
          "contour": [
           {
            "colorbar": {
             "outlinewidth": 0,
             "ticks": ""
            },
            "colorscale": [
             [
              0,
              "#0d0887"
             ],
             [
              0.1111111111111111,
              "#46039f"
             ],
             [
              0.2222222222222222,
              "#7201a8"
             ],
             [
              0.3333333333333333,
              "#9c179e"
             ],
             [
              0.4444444444444444,
              "#bd3786"
             ],
             [
              0.5555555555555556,
              "#d8576b"
             ],
             [
              0.6666666666666666,
              "#ed7953"
             ],
             [
              0.7777777777777778,
              "#fb9f3a"
             ],
             [
              0.8888888888888888,
              "#fdca26"
             ],
             [
              1,
              "#f0f921"
             ]
            ],
            "type": "contour"
           }
          ],
          "contourcarpet": [
           {
            "colorbar": {
             "outlinewidth": 0,
             "ticks": ""
            },
            "type": "contourcarpet"
           }
          ],
          "heatmap": [
           {
            "colorbar": {
             "outlinewidth": 0,
             "ticks": ""
            },
            "colorscale": [
             [
              0,
              "#0d0887"
             ],
             [
              0.1111111111111111,
              "#46039f"
             ],
             [
              0.2222222222222222,
              "#7201a8"
             ],
             [
              0.3333333333333333,
              "#9c179e"
             ],
             [
              0.4444444444444444,
              "#bd3786"
             ],
             [
              0.5555555555555556,
              "#d8576b"
             ],
             [
              0.6666666666666666,
              "#ed7953"
             ],
             [
              0.7777777777777778,
              "#fb9f3a"
             ],
             [
              0.8888888888888888,
              "#fdca26"
             ],
             [
              1,
              "#f0f921"
             ]
            ],
            "type": "heatmap"
           }
          ],
          "histogram": [
           {
            "marker": {
             "pattern": {
              "fillmode": "overlay",
              "size": 10,
              "solidity": 0.2
             }
            },
            "type": "histogram"
           }
          ],
          "histogram2d": [
           {
            "colorbar": {
             "outlinewidth": 0,
             "ticks": ""
            },
            "colorscale": [
             [
              0,
              "#0d0887"
             ],
             [
              0.1111111111111111,
              "#46039f"
             ],
             [
              0.2222222222222222,
              "#7201a8"
             ],
             [
              0.3333333333333333,
              "#9c179e"
             ],
             [
              0.4444444444444444,
              "#bd3786"
             ],
             [
              0.5555555555555556,
              "#d8576b"
             ],
             [
              0.6666666666666666,
              "#ed7953"
             ],
             [
              0.7777777777777778,
              "#fb9f3a"
             ],
             [
              0.8888888888888888,
              "#fdca26"
             ],
             [
              1,
              "#f0f921"
             ]
            ],
            "type": "histogram2d"
           }
          ],
          "histogram2dcontour": [
           {
            "colorbar": {
             "outlinewidth": 0,
             "ticks": ""
            },
            "colorscale": [
             [
              0,
              "#0d0887"
             ],
             [
              0.1111111111111111,
              "#46039f"
             ],
             [
              0.2222222222222222,
              "#7201a8"
             ],
             [
              0.3333333333333333,
              "#9c179e"
             ],
             [
              0.4444444444444444,
              "#bd3786"
             ],
             [
              0.5555555555555556,
              "#d8576b"
             ],
             [
              0.6666666666666666,
              "#ed7953"
             ],
             [
              0.7777777777777778,
              "#fb9f3a"
             ],
             [
              0.8888888888888888,
              "#fdca26"
             ],
             [
              1,
              "#f0f921"
             ]
            ],
            "type": "histogram2dcontour"
           }
          ],
          "mesh3d": [
           {
            "colorbar": {
             "outlinewidth": 0,
             "ticks": ""
            },
            "type": "mesh3d"
           }
          ],
          "parcoords": [
           {
            "line": {
             "colorbar": {
              "outlinewidth": 0,
              "ticks": ""
             }
            },
            "type": "parcoords"
           }
          ],
          "pie": [
           {
            "automargin": true,
            "type": "pie"
           }
          ],
          "scatter": [
           {
            "fillpattern": {
             "fillmode": "overlay",
             "size": 10,
             "solidity": 0.2
            },
            "type": "scatter"
           }
          ],
          "scatter3d": [
           {
            "line": {
             "colorbar": {
              "outlinewidth": 0,
              "ticks": ""
             }
            },
            "marker": {
             "colorbar": {
              "outlinewidth": 0,
              "ticks": ""
             }
            },
            "type": "scatter3d"
           }
          ],
          "scattercarpet": [
           {
            "marker": {
             "colorbar": {
              "outlinewidth": 0,
              "ticks": ""
             }
            },
            "type": "scattercarpet"
           }
          ],
          "scattergeo": [
           {
            "marker": {
             "colorbar": {
              "outlinewidth": 0,
              "ticks": ""
             }
            },
            "type": "scattergeo"
           }
          ],
          "scattergl": [
           {
            "marker": {
             "colorbar": {
              "outlinewidth": 0,
              "ticks": ""
             }
            },
            "type": "scattergl"
           }
          ],
          "scattermap": [
           {
            "marker": {
             "colorbar": {
              "outlinewidth": 0,
              "ticks": ""
             }
            },
            "type": "scattermap"
           }
          ],
          "scattermapbox": [
           {
            "marker": {
             "colorbar": {
              "outlinewidth": 0,
              "ticks": ""
             }
            },
            "type": "scattermapbox"
           }
          ],
          "scatterpolar": [
           {
            "marker": {
             "colorbar": {
              "outlinewidth": 0,
              "ticks": ""
             }
            },
            "type": "scatterpolar"
           }
          ],
          "scatterpolargl": [
           {
            "marker": {
             "colorbar": {
              "outlinewidth": 0,
              "ticks": ""
             }
            },
            "type": "scatterpolargl"
           }
          ],
          "scatterternary": [
           {
            "marker": {
             "colorbar": {
              "outlinewidth": 0,
              "ticks": ""
             }
            },
            "type": "scatterternary"
           }
          ],
          "surface": [
           {
            "colorbar": {
             "outlinewidth": 0,
             "ticks": ""
            },
            "colorscale": [
             [
              0,
              "#0d0887"
             ],
             [
              0.1111111111111111,
              "#46039f"
             ],
             [
              0.2222222222222222,
              "#7201a8"
             ],
             [
              0.3333333333333333,
              "#9c179e"
             ],
             [
              0.4444444444444444,
              "#bd3786"
             ],
             [
              0.5555555555555556,
              "#d8576b"
             ],
             [
              0.6666666666666666,
              "#ed7953"
             ],
             [
              0.7777777777777778,
              "#fb9f3a"
             ],
             [
              0.8888888888888888,
              "#fdca26"
             ],
             [
              1,
              "#f0f921"
             ]
            ],
            "type": "surface"
           }
          ],
          "table": [
           {
            "cells": {
             "fill": {
              "color": "#EBF0F8"
             },
             "line": {
              "color": "white"
             }
            },
            "header": {
             "fill": {
              "color": "#C8D4E3"
             },
             "line": {
              "color": "white"
             }
            },
            "type": "table"
           }
          ]
         },
         "layout": {
          "annotationdefaults": {
           "arrowcolor": "#2a3f5f",
           "arrowhead": 0,
           "arrowwidth": 1
          },
          "autotypenumbers": "strict",
          "coloraxis": {
           "colorbar": {
            "outlinewidth": 0,
            "ticks": ""
           }
          },
          "colorscale": {
           "diverging": [
            [
             0,
             "#8e0152"
            ],
            [
             0.1,
             "#c51b7d"
            ],
            [
             0.2,
             "#de77ae"
            ],
            [
             0.3,
             "#f1b6da"
            ],
            [
             0.4,
             "#fde0ef"
            ],
            [
             0.5,
             "#f7f7f7"
            ],
            [
             0.6,
             "#e6f5d0"
            ],
            [
             0.7,
             "#b8e186"
            ],
            [
             0.8,
             "#7fbc41"
            ],
            [
             0.9,
             "#4d9221"
            ],
            [
             1,
             "#276419"
            ]
           ],
           "sequential": [
            [
             0,
             "#0d0887"
            ],
            [
             0.1111111111111111,
             "#46039f"
            ],
            [
             0.2222222222222222,
             "#7201a8"
            ],
            [
             0.3333333333333333,
             "#9c179e"
            ],
            [
             0.4444444444444444,
             "#bd3786"
            ],
            [
             0.5555555555555556,
             "#d8576b"
            ],
            [
             0.6666666666666666,
             "#ed7953"
            ],
            [
             0.7777777777777778,
             "#fb9f3a"
            ],
            [
             0.8888888888888888,
             "#fdca26"
            ],
            [
             1,
             "#f0f921"
            ]
           ],
           "sequentialminus": [
            [
             0,
             "#0d0887"
            ],
            [
             0.1111111111111111,
             "#46039f"
            ],
            [
             0.2222222222222222,
             "#7201a8"
            ],
            [
             0.3333333333333333,
             "#9c179e"
            ],
            [
             0.4444444444444444,
             "#bd3786"
            ],
            [
             0.5555555555555556,
             "#d8576b"
            ],
            [
             0.6666666666666666,
             "#ed7953"
            ],
            [
             0.7777777777777778,
             "#fb9f3a"
            ],
            [
             0.8888888888888888,
             "#fdca26"
            ],
            [
             1,
             "#f0f921"
            ]
           ]
          },
          "colorway": [
           "#636efa",
           "#EF553B",
           "#00cc96",
           "#ab63fa",
           "#FFA15A",
           "#19d3f3",
           "#FF6692",
           "#B6E880",
           "#FF97FF",
           "#FECB52"
          ],
          "font": {
           "color": "#2a3f5f"
          },
          "geo": {
           "bgcolor": "white",
           "lakecolor": "white",
           "landcolor": "#E5ECF6",
           "showlakes": true,
           "showland": true,
           "subunitcolor": "white"
          },
          "hoverlabel": {
           "align": "left"
          },
          "hovermode": "closest",
          "mapbox": {
           "style": "light"
          },
          "paper_bgcolor": "white",
          "plot_bgcolor": "#E5ECF6",
          "polar": {
           "angularaxis": {
            "gridcolor": "white",
            "linecolor": "white",
            "ticks": ""
           },
           "bgcolor": "#E5ECF6",
           "radialaxis": {
            "gridcolor": "white",
            "linecolor": "white",
            "ticks": ""
           }
          },
          "scene": {
           "xaxis": {
            "backgroundcolor": "#E5ECF6",
            "gridcolor": "white",
            "gridwidth": 2,
            "linecolor": "white",
            "showbackground": true,
            "ticks": "",
            "zerolinecolor": "white"
           },
           "yaxis": {
            "backgroundcolor": "#E5ECF6",
            "gridcolor": "white",
            "gridwidth": 2,
            "linecolor": "white",
            "showbackground": true,
            "ticks": "",
            "zerolinecolor": "white"
           },
           "zaxis": {
            "backgroundcolor": "#E5ECF6",
            "gridcolor": "white",
            "gridwidth": 2,
            "linecolor": "white",
            "showbackground": true,
            "ticks": "",
            "zerolinecolor": "white"
           }
          },
          "shapedefaults": {
           "line": {
            "color": "#2a3f5f"
           }
          },
          "ternary": {
           "aaxis": {
            "gridcolor": "white",
            "linecolor": "white",
            "ticks": ""
           },
           "baxis": {
            "gridcolor": "white",
            "linecolor": "white",
            "ticks": ""
           },
           "bgcolor": "#E5ECF6",
           "caxis": {
            "gridcolor": "white",
            "linecolor": "white",
            "ticks": ""
           }
          },
          "title": {
           "x": 0.05
          },
          "xaxis": {
           "automargin": true,
           "gridcolor": "white",
           "linecolor": "white",
           "ticks": "",
           "title": {
            "standoff": 15
           },
           "zerolinecolor": "white",
           "zerolinewidth": 2
          },
          "yaxis": {
           "automargin": true,
           "gridcolor": "white",
           "linecolor": "white",
           "ticks": "",
           "title": {
            "standoff": 15
           },
           "zerolinecolor": "white",
           "zerolinewidth": 2
          }
         }
        },
        "title": {
         "text": "Churn rate by PaymentMethod"
        },
        "xaxis": {
         "anchor": "y",
         "domain": [
          0,
          1
         ],
         "title": {
          "text": "PaymentMethod"
         }
        },
        "yaxis": {
         "anchor": "x",
         "domain": [
          0,
          1
         ],
         "title": {
          "text": "Count"
         }
        }
       }
      }
     },
     "metadata": {},
     "output_type": "display_data"
    }
   ],
   "source": [
    "bar('Contract')\n",
    "bar('PaperlessBilling')\n",
    "bar('PaymentMethod')"
   ]
  },
  {
   "cell_type": "markdown",
   "id": "71cbb869",
   "metadata": {},
   "source": [
    "* **Payment**:\n",
    "The shorter the contract the higher churn rate as those with longer plans face additional barriers when cancelling prematurely. This clearly explains the motivation for companies to have long-term relationship with their customers. Churn Rate is higher for the customers who opted for paperless billing, About 59.2% of the customers make paperless billing. Customers who pay with electronic check are more likely to churn and this kind of payment is more common than other payment types.\n",
    "---\n",
    "# Explore Numeric features"
   ]
  },
  {
   "cell_type": "code",
   "execution_count": 24,
   "id": "9ab43172",
   "metadata": {},
   "outputs": [
    {
     "data": {
      "text/plain": [
       "customerID           object\n",
       "gender               object\n",
       "SeniorCitizen        object\n",
       "Partner              object\n",
       "Dependents           object\n",
       "tenure                int64\n",
       "PhoneService         object\n",
       "MultipleLines        object\n",
       "InternetService      object\n",
       "OnlineSecurity       object\n",
       "OnlineBackup         object\n",
       "DeviceProtection     object\n",
       "TechSupport          object\n",
       "StreamingTV          object\n",
       "StreamingMovies      object\n",
       "Contract             object\n",
       "PaperlessBilling     object\n",
       "PaymentMethod        object\n",
       "MonthlyCharges      float64\n",
       "TotalCharges         object\n",
       "Churn                object\n",
       "dtype: object"
      ]
     },
     "execution_count": 24,
     "metadata": {},
     "output_type": "execute_result"
    }
   ],
   "source": [
    "data_df.dtypes"
   ]
  },
  {
   "cell_type": "code",
   "execution_count": 25,
   "id": "ec2ceeaf",
   "metadata": {},
   "outputs": [
    {
     "name": "stdout",
     "output_type": "stream",
     "text": [
      "could not convert string to float: ' '\n"
     ]
    }
   ],
   "source": [
    "try:\n",
    "    data_df['TotalCharges'] = data_df['TotalCharges'].astype(float)\n",
    "except ValueError as ve:\n",
    "    print (ve)"
   ]
  },
  {
   "cell_type": "code",
   "execution_count": 26,
   "id": "894984a8",
   "metadata": {},
   "outputs": [],
   "source": [
    "data_df['TotalCharges'] = pd.to_numeric(data_df['TotalCharges'],errors='coerce')\n",
    "#Fill the missing values with with the median value\n",
    "data_df['TotalCharges'] = data_df['TotalCharges'].fillna(data_df['TotalCharges'].median())"
   ]
  },
  {
   "cell_type": "code",
   "execution_count": 27,
   "id": "57ef49b3",
   "metadata": {},
   "outputs": [],
   "source": [
    "# Defining the histogram plotting function\n",
    "def hist(feature):\n",
    "    group_df = data_df.groupby([feature, 'Churn']).size().reset_index()\n",
    "    group_df = group_df.rename(columns={0: 'Count'})\n",
    "    fig = px.histogram(group_df, x=feature, y='Count', color='Churn', marginal='box', title=f'Churn rate frequency to {feature} distribution', color_discrete_sequence=[\"green\", \"red\"])\n",
    "    fig.show()"
   ]
  },
  {
   "cell_type": "code",
   "execution_count": 28,
   "id": "06db15f0",
   "metadata": {},
   "outputs": [
    {
     "data": {
      "application/vnd.plotly.v1+json": {
       "config": {
        "plotlyServerURL": "https://plot.ly"
       },
       "data": [
        {
         "bingroup": "x",
         "histfunc": "sum",
         "hovertemplate": "Churn=No<br>tenure=%{x}<br>sum of Count=%{y}<extra></extra>",
         "legendgroup": "No",
         "marker": {
          "color": "green",
          "pattern": {
           "shape": ""
          }
         },
         "name": "No",
         "orientation": "v",
         "showlegend": true,
         "type": "histogram",
         "x": {
          "bdata": "AAECAwQFBgcICQoLDA0ODxAREhMUFRYXGBkaGxwdHh8gISIjJCUmJygpKissLS4vMDEyMzQ1Njc4OTo7PD0+P0BBQkNERUZHSA==",
          "dtype": "i1"
         },
         "xaxis": "x",
         "y": {
          "bdata": "CwDpAHMAagBdAEUARgBQAFEASQBHAEQATwBHADQAPgA0AD0ASQA2ADUALgA/AEgARwA4AEAAOwAtADkAOAAxADIAMgA1AEkAKAAyAC4AKgAzADgAMwAyAC0ANwA+ADYANwAzADoAPABIADgANwA3AEYAOQA4ADQARgBEAEEARABMAEMATABYAFsAVwBsAKQAZAE=",
          "dtype": "i2"
         },
         "yaxis": "y"
        },
        {
         "hovertemplate": "Churn=No<br>tenure=%{x}<extra></extra>",
         "legendgroup": "No",
         "marker": {
          "color": "green"
         },
         "name": "No",
         "notched": true,
         "showlegend": false,
         "type": "box",
         "x": {
          "bdata": "AAECAwQFBgcICQoLDA0ODxAREhMUFRYXGBkaGxwdHh8gISIjJCUmJygpKissLS4vMDEyMzQ1Njc4OTo7PD0+P0BBQkNERUZHSA==",
          "dtype": "i1"
         },
         "xaxis": "x2",
         "yaxis": "y2"
        },
        {
         "bingroup": "x",
         "histfunc": "sum",
         "hovertemplate": "Churn=Yes<br>tenure=%{x}<br>sum of Count=%{y}<extra></extra>",
         "legendgroup": "Yes",
         "marker": {
          "color": "red",
          "pattern": {
           "shape": ""
          }
         },
         "name": "Yes",
         "orientation": "v",
         "showlegend": true,
         "type": "histogram",
         "x": {
          "bdata": "AQIDBAUGBwgJCgsMDQ4PEBESExQVFhcYGRobHB0eHyAhIiMkJSYnKCkqKywtLi8wMTIzNDU2Nzg5Ojs8PT4/QEFCQ0RFRkdI",
          "dtype": "i1"
         },
         "xaxis": "x",
         "y": {
          "bdata": "fAF7AF4AUwBAACgAMwAqAC4ALQAfACYAJgAYACUAHAAaABgAEwASABEAGwANABcAFwAPAA0ADAAPABAAEAATAA4ADAAPAAoADwANAA4ADQAOAA4ADwAGAAYADAAOAAkADwAKAAgACAAOAA0ACQAKAAgACwAIAAYACAAFAAQABAAJAA0ACgAJAAgACwAGAAYA",
          "dtype": "i2"
         },
         "yaxis": "y"
        },
        {
         "hovertemplate": "Churn=Yes<br>tenure=%{x}<extra></extra>",
         "legendgroup": "Yes",
         "marker": {
          "color": "red"
         },
         "name": "Yes",
         "notched": true,
         "showlegend": false,
         "type": "box",
         "x": {
          "bdata": "AQIDBAUGBwgJCgsMDQ4PEBESExQVFhcYGRobHB0eHyAhIiMkJSYnKCkqKywtLi8wMTIzNDU2Nzg5Ojs8PT4/QEFCQ0RFRkdI",
          "dtype": "i1"
         },
         "xaxis": "x2",
         "yaxis": "y2"
        }
       ],
       "layout": {
        "barmode": "relative",
        "legend": {
         "title": {
          "text": "Churn"
         },
         "tracegroupgap": 0
        },
        "template": {
         "data": {
          "bar": [
           {
            "error_x": {
             "color": "#2a3f5f"
            },
            "error_y": {
             "color": "#2a3f5f"
            },
            "marker": {
             "line": {
              "color": "#E5ECF6",
              "width": 0.5
             },
             "pattern": {
              "fillmode": "overlay",
              "size": 10,
              "solidity": 0.2
             }
            },
            "type": "bar"
           }
          ],
          "barpolar": [
           {
            "marker": {
             "line": {
              "color": "#E5ECF6",
              "width": 0.5
             },
             "pattern": {
              "fillmode": "overlay",
              "size": 10,
              "solidity": 0.2
             }
            },
            "type": "barpolar"
           }
          ],
          "carpet": [
           {
            "aaxis": {
             "endlinecolor": "#2a3f5f",
             "gridcolor": "white",
             "linecolor": "white",
             "minorgridcolor": "white",
             "startlinecolor": "#2a3f5f"
            },
            "baxis": {
             "endlinecolor": "#2a3f5f",
             "gridcolor": "white",
             "linecolor": "white",
             "minorgridcolor": "white",
             "startlinecolor": "#2a3f5f"
            },
            "type": "carpet"
           }
          ],
          "choropleth": [
           {
            "colorbar": {
             "outlinewidth": 0,
             "ticks": ""
            },
            "type": "choropleth"
           }
          ],
          "contour": [
           {
            "colorbar": {
             "outlinewidth": 0,
             "ticks": ""
            },
            "colorscale": [
             [
              0,
              "#0d0887"
             ],
             [
              0.1111111111111111,
              "#46039f"
             ],
             [
              0.2222222222222222,
              "#7201a8"
             ],
             [
              0.3333333333333333,
              "#9c179e"
             ],
             [
              0.4444444444444444,
              "#bd3786"
             ],
             [
              0.5555555555555556,
              "#d8576b"
             ],
             [
              0.6666666666666666,
              "#ed7953"
             ],
             [
              0.7777777777777778,
              "#fb9f3a"
             ],
             [
              0.8888888888888888,
              "#fdca26"
             ],
             [
              1,
              "#f0f921"
             ]
            ],
            "type": "contour"
           }
          ],
          "contourcarpet": [
           {
            "colorbar": {
             "outlinewidth": 0,
             "ticks": ""
            },
            "type": "contourcarpet"
           }
          ],
          "heatmap": [
           {
            "colorbar": {
             "outlinewidth": 0,
             "ticks": ""
            },
            "colorscale": [
             [
              0,
              "#0d0887"
             ],
             [
              0.1111111111111111,
              "#46039f"
             ],
             [
              0.2222222222222222,
              "#7201a8"
             ],
             [
              0.3333333333333333,
              "#9c179e"
             ],
             [
              0.4444444444444444,
              "#bd3786"
             ],
             [
              0.5555555555555556,
              "#d8576b"
             ],
             [
              0.6666666666666666,
              "#ed7953"
             ],
             [
              0.7777777777777778,
              "#fb9f3a"
             ],
             [
              0.8888888888888888,
              "#fdca26"
             ],
             [
              1,
              "#f0f921"
             ]
            ],
            "type": "heatmap"
           }
          ],
          "histogram": [
           {
            "marker": {
             "pattern": {
              "fillmode": "overlay",
              "size": 10,
              "solidity": 0.2
             }
            },
            "type": "histogram"
           }
          ],
          "histogram2d": [
           {
            "colorbar": {
             "outlinewidth": 0,
             "ticks": ""
            },
            "colorscale": [
             [
              0,
              "#0d0887"
             ],
             [
              0.1111111111111111,
              "#46039f"
             ],
             [
              0.2222222222222222,
              "#7201a8"
             ],
             [
              0.3333333333333333,
              "#9c179e"
             ],
             [
              0.4444444444444444,
              "#bd3786"
             ],
             [
              0.5555555555555556,
              "#d8576b"
             ],
             [
              0.6666666666666666,
              "#ed7953"
             ],
             [
              0.7777777777777778,
              "#fb9f3a"
             ],
             [
              0.8888888888888888,
              "#fdca26"
             ],
             [
              1,
              "#f0f921"
             ]
            ],
            "type": "histogram2d"
           }
          ],
          "histogram2dcontour": [
           {
            "colorbar": {
             "outlinewidth": 0,
             "ticks": ""
            },
            "colorscale": [
             [
              0,
              "#0d0887"
             ],
             [
              0.1111111111111111,
              "#46039f"
             ],
             [
              0.2222222222222222,
              "#7201a8"
             ],
             [
              0.3333333333333333,
              "#9c179e"
             ],
             [
              0.4444444444444444,
              "#bd3786"
             ],
             [
              0.5555555555555556,
              "#d8576b"
             ],
             [
              0.6666666666666666,
              "#ed7953"
             ],
             [
              0.7777777777777778,
              "#fb9f3a"
             ],
             [
              0.8888888888888888,
              "#fdca26"
             ],
             [
              1,
              "#f0f921"
             ]
            ],
            "type": "histogram2dcontour"
           }
          ],
          "mesh3d": [
           {
            "colorbar": {
             "outlinewidth": 0,
             "ticks": ""
            },
            "type": "mesh3d"
           }
          ],
          "parcoords": [
           {
            "line": {
             "colorbar": {
              "outlinewidth": 0,
              "ticks": ""
             }
            },
            "type": "parcoords"
           }
          ],
          "pie": [
           {
            "automargin": true,
            "type": "pie"
           }
          ],
          "scatter": [
           {
            "fillpattern": {
             "fillmode": "overlay",
             "size": 10,
             "solidity": 0.2
            },
            "type": "scatter"
           }
          ],
          "scatter3d": [
           {
            "line": {
             "colorbar": {
              "outlinewidth": 0,
              "ticks": ""
             }
            },
            "marker": {
             "colorbar": {
              "outlinewidth": 0,
              "ticks": ""
             }
            },
            "type": "scatter3d"
           }
          ],
          "scattercarpet": [
           {
            "marker": {
             "colorbar": {
              "outlinewidth": 0,
              "ticks": ""
             }
            },
            "type": "scattercarpet"
           }
          ],
          "scattergeo": [
           {
            "marker": {
             "colorbar": {
              "outlinewidth": 0,
              "ticks": ""
             }
            },
            "type": "scattergeo"
           }
          ],
          "scattergl": [
           {
            "marker": {
             "colorbar": {
              "outlinewidth": 0,
              "ticks": ""
             }
            },
            "type": "scattergl"
           }
          ],
          "scattermap": [
           {
            "marker": {
             "colorbar": {
              "outlinewidth": 0,
              "ticks": ""
             }
            },
            "type": "scattermap"
           }
          ],
          "scattermapbox": [
           {
            "marker": {
             "colorbar": {
              "outlinewidth": 0,
              "ticks": ""
             }
            },
            "type": "scattermapbox"
           }
          ],
          "scatterpolar": [
           {
            "marker": {
             "colorbar": {
              "outlinewidth": 0,
              "ticks": ""
             }
            },
            "type": "scatterpolar"
           }
          ],
          "scatterpolargl": [
           {
            "marker": {
             "colorbar": {
              "outlinewidth": 0,
              "ticks": ""
             }
            },
            "type": "scatterpolargl"
           }
          ],
          "scatterternary": [
           {
            "marker": {
             "colorbar": {
              "outlinewidth": 0,
              "ticks": ""
             }
            },
            "type": "scatterternary"
           }
          ],
          "surface": [
           {
            "colorbar": {
             "outlinewidth": 0,
             "ticks": ""
            },
            "colorscale": [
             [
              0,
              "#0d0887"
             ],
             [
              0.1111111111111111,
              "#46039f"
             ],
             [
              0.2222222222222222,
              "#7201a8"
             ],
             [
              0.3333333333333333,
              "#9c179e"
             ],
             [
              0.4444444444444444,
              "#bd3786"
             ],
             [
              0.5555555555555556,
              "#d8576b"
             ],
             [
              0.6666666666666666,
              "#ed7953"
             ],
             [
              0.7777777777777778,
              "#fb9f3a"
             ],
             [
              0.8888888888888888,
              "#fdca26"
             ],
             [
              1,
              "#f0f921"
             ]
            ],
            "type": "surface"
           }
          ],
          "table": [
           {
            "cells": {
             "fill": {
              "color": "#EBF0F8"
             },
             "line": {
              "color": "white"
             }
            },
            "header": {
             "fill": {
              "color": "#C8D4E3"
             },
             "line": {
              "color": "white"
             }
            },
            "type": "table"
           }
          ]
         },
         "layout": {
          "annotationdefaults": {
           "arrowcolor": "#2a3f5f",
           "arrowhead": 0,
           "arrowwidth": 1
          },
          "autotypenumbers": "strict",
          "coloraxis": {
           "colorbar": {
            "outlinewidth": 0,
            "ticks": ""
           }
          },
          "colorscale": {
           "diverging": [
            [
             0,
             "#8e0152"
            ],
            [
             0.1,
             "#c51b7d"
            ],
            [
             0.2,
             "#de77ae"
            ],
            [
             0.3,
             "#f1b6da"
            ],
            [
             0.4,
             "#fde0ef"
            ],
            [
             0.5,
             "#f7f7f7"
            ],
            [
             0.6,
             "#e6f5d0"
            ],
            [
             0.7,
             "#b8e186"
            ],
            [
             0.8,
             "#7fbc41"
            ],
            [
             0.9,
             "#4d9221"
            ],
            [
             1,
             "#276419"
            ]
           ],
           "sequential": [
            [
             0,
             "#0d0887"
            ],
            [
             0.1111111111111111,
             "#46039f"
            ],
            [
             0.2222222222222222,
             "#7201a8"
            ],
            [
             0.3333333333333333,
             "#9c179e"
            ],
            [
             0.4444444444444444,
             "#bd3786"
            ],
            [
             0.5555555555555556,
             "#d8576b"
            ],
            [
             0.6666666666666666,
             "#ed7953"
            ],
            [
             0.7777777777777778,
             "#fb9f3a"
            ],
            [
             0.8888888888888888,
             "#fdca26"
            ],
            [
             1,
             "#f0f921"
            ]
           ],
           "sequentialminus": [
            [
             0,
             "#0d0887"
            ],
            [
             0.1111111111111111,
             "#46039f"
            ],
            [
             0.2222222222222222,
             "#7201a8"
            ],
            [
             0.3333333333333333,
             "#9c179e"
            ],
            [
             0.4444444444444444,
             "#bd3786"
            ],
            [
             0.5555555555555556,
             "#d8576b"
            ],
            [
             0.6666666666666666,
             "#ed7953"
            ],
            [
             0.7777777777777778,
             "#fb9f3a"
            ],
            [
             0.8888888888888888,
             "#fdca26"
            ],
            [
             1,
             "#f0f921"
            ]
           ]
          },
          "colorway": [
           "#636efa",
           "#EF553B",
           "#00cc96",
           "#ab63fa",
           "#FFA15A",
           "#19d3f3",
           "#FF6692",
           "#B6E880",
           "#FF97FF",
           "#FECB52"
          ],
          "font": {
           "color": "#2a3f5f"
          },
          "geo": {
           "bgcolor": "white",
           "lakecolor": "white",
           "landcolor": "#E5ECF6",
           "showlakes": true,
           "showland": true,
           "subunitcolor": "white"
          },
          "hoverlabel": {
           "align": "left"
          },
          "hovermode": "closest",
          "mapbox": {
           "style": "light"
          },
          "paper_bgcolor": "white",
          "plot_bgcolor": "#E5ECF6",
          "polar": {
           "angularaxis": {
            "gridcolor": "white",
            "linecolor": "white",
            "ticks": ""
           },
           "bgcolor": "#E5ECF6",
           "radialaxis": {
            "gridcolor": "white",
            "linecolor": "white",
            "ticks": ""
           }
          },
          "scene": {
           "xaxis": {
            "backgroundcolor": "#E5ECF6",
            "gridcolor": "white",
            "gridwidth": 2,
            "linecolor": "white",
            "showbackground": true,
            "ticks": "",
            "zerolinecolor": "white"
           },
           "yaxis": {
            "backgroundcolor": "#E5ECF6",
            "gridcolor": "white",
            "gridwidth": 2,
            "linecolor": "white",
            "showbackground": true,
            "ticks": "",
            "zerolinecolor": "white"
           },
           "zaxis": {
            "backgroundcolor": "#E5ECF6",
            "gridcolor": "white",
            "gridwidth": 2,
            "linecolor": "white",
            "showbackground": true,
            "ticks": "",
            "zerolinecolor": "white"
           }
          },
          "shapedefaults": {
           "line": {
            "color": "#2a3f5f"
           }
          },
          "ternary": {
           "aaxis": {
            "gridcolor": "white",
            "linecolor": "white",
            "ticks": ""
           },
           "baxis": {
            "gridcolor": "white",
            "linecolor": "white",
            "ticks": ""
           },
           "bgcolor": "#E5ECF6",
           "caxis": {
            "gridcolor": "white",
            "linecolor": "white",
            "ticks": ""
           }
          },
          "title": {
           "x": 0.05
          },
          "xaxis": {
           "automargin": true,
           "gridcolor": "white",
           "linecolor": "white",
           "ticks": "",
           "title": {
            "standoff": 15
           },
           "zerolinecolor": "white",
           "zerolinewidth": 2
          },
          "yaxis": {
           "automargin": true,
           "gridcolor": "white",
           "linecolor": "white",
           "ticks": "",
           "title": {
            "standoff": 15
           },
           "zerolinecolor": "white",
           "zerolinewidth": 2
          }
         }
        },
        "title": {
         "text": "Churn rate frequency to tenure distribution"
        },
        "xaxis": {
         "anchor": "y",
         "domain": [
          0,
          1
         ],
         "title": {
          "text": "tenure"
         }
        },
        "xaxis2": {
         "anchor": "y2",
         "domain": [
          0,
          1
         ],
         "matches": "x",
         "showgrid": true,
         "showticklabels": false
        },
        "yaxis": {
         "anchor": "x",
         "domain": [
          0,
          0.7326
         ],
         "title": {
          "text": "sum of Count"
         }
        },
        "yaxis2": {
         "anchor": "x2",
         "domain": [
          0.7426,
          1
         ],
         "matches": "y2",
         "showgrid": false,
         "showline": false,
         "showticklabels": false,
         "ticks": ""
        }
       }
      }
     },
     "metadata": {},
     "output_type": "display_data"
    },
    {
     "data": {
      "application/vnd.plotly.v1+json": {
       "config": {
        "plotlyServerURL": "https://plot.ly"
       },
       "data": [
        {
         "bingroup": "x",
         "histfunc": "sum",
         "hovertemplate": "Churn=No<br>MonthlyCharges=%{x}<br>sum of Count=%{y}<extra></extra>",
         "legendgroup": "No",
         "marker": {
          "color": "green",
          "pattern": {
           "shape": ""
          }
         },
         "name": "No",
         "orientation": "v",
         "showlegend": true,
         "type": "histogram",
         "x": {
          "bdata": "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",
          "dtype": "f8"
         },
         "xaxis": "x",
         "y": {
          "bdata": "AQEBAgEHBAIFBgkLCxEPFRcbGR0mIScpISMoKCkoOiEiHSMbIxwfGRgOFg0RBw4IBgQFBQIDAgEBAQECAQECAQEDAQIDBAUFBgYFCAcFCgsGBggIDAcMCgoLEQsQDAcSBwYLCgQICgQJCAIDAQIGAgUCAgMCAgMBAQEBAgEDAQECAgMBAgEDBQEEAQICAgIBAwIBAgEBAQEBAQIEAQECAQMCAgEBAQIBAgEBAwICAQIBAQQCAwEBAwEFAwICAQIBAgEBAQECAgEBAQIBBAECAQIBAQEBAQMBAgECAQEDAgMCAgEEAgQBAQECAQEBAQEBAQEBAQIBAgEEAgIEBQMCAgIDAgMIAgUFBAEECAMDBQkEAQEFBgICBAMBBQEDAQMDBQIBAQEDAwEBAQEBAwEBAQIBAQIBAwIHAgEDAwMDBgMCAQQFAwQCAwQDBwgGAwUGBAcFBAcFAgECCAMCBAMDAgMHBAMFAQIDAgMBAgIBAgEBAQEBAQEBAQEBAgIBAQEEAgEDBQEEBAICAgIEBAYFBgMFBQUFBgkCBwQEBQQGAwIEAwQJAwUFAwIEBwIHAQMBAQMDBQIFBAIDAQICAQQCAQEBAgEBAQEBAQIBAwIEAgEBAgMBAQQCAgMDAgQBAgECAQgEBQUEAwYIBQYDCgMDAwUDAgIBBAEEAwIBAwIFBAIDAQIDAgIFBgMCAgEBAQEDAQECAwEBAQEBAwEBAQEBAQEBAgMBAgICAgIEAwMFAQIEBwQEAgEDAQQEBAUGBAEDAgUFAQIBAQUDBgUCAQIDAQEEAgQBBAIGAgEBAgECAwIBAQIBBQEBAQMBAQEBAgIBAQIBAQECAQIGAQEBBAQGBgUFAQIFAwIIBQIEBwUEBQUIAQUEBwYDBQgEBAYFBAMGAgQCAwQDBAYBAQICAgEBAgEBAQEBAgEBBgEBAQICAwIDAwIBAwIBAwIDBQMBAgIDBQEFBAUDAwIGBgMFAgcHBQMHBQYDAwUCCAUFAwUIBwEJBQQDBAUCBAQCAwMFAwECAQECAgEBAQIBAgICAQEBAgICAQIBAgIBAgEDAQQDAgEDAQYEBQUFBAMCBgoDBgMEAgUEBQIDAwQKAQcHBQYEBAMFBQQJBAkHBAcDBQcEAgkDAQUCBAQCAwMDAgEBAwEBAwMDAgEBAgMCAwEDAQEDAQEBAQIDBAIDAgEDAQECAQIFAwYFAgQECAYFBQQBBgIGBAsEBgQDAwQEBAQHAwIGBAIDAwQDAwIGBgEFBgEDAgEEBgEDAQMCAgMCAgEBAwECAQIBAwEBAQEBAQICAwECAQMBAQICAgICBAQCAwQDBwUGBAMDBQUJBAQFBQQLBgMCCAYHAQUCBwcHAgUEBwcCBgEGBAMCBAIFAgMBAgQBAQMBAgUBAwMCAgIDAQECAgMCAgECAgQBAgMBBAICAgEBAwECAQUEBgMEAgcDBQQCBAMFAwcHAQYDCQIIBAMCBQEGAQUBAgYFAgIDBAMBBAEDAQIDBAIDAgIDAQQCAgMBAQIDAgIBAQQCAgECAQEBAgEBAgMFAgQDCQMDBQEEAwMFAgQBCAUCAwIDAgIFAQUEAgcCBQQFBwIEAgUCAwQBAwMFAgQEAwECAQECAQMBAwECAQIBAwIBAQEBAwMEAwEBAQECAQQCBAICAgUDBQYFAgQEBQYEAgMDAQIEAgUDBAUFAgUGAgcFAgQEAwIDBAECAgECBAMDAQIDAwEDAgMCAQQBAQECAQEBAQEEAwEBAQIDAQMBAgUCAgMCAQICAwECAwEDBAECAwIFAwMEAQEFAgIEBAIBAwMCAgMCAwICAQQGAQMCAQMGAQICAQMBAgIBAQICAQICAQIBAgEBAQEBAQEBAQEBAQECAQEBAQEBAQUBAQECAgIDAgIBAQICAQEBAgIBBAMEAQIDAgECBAEBAwIBAwEBAQEBAgEBAQEBAQEBAQECAQE=",
          "dtype": "i1"
         },
         "yaxis": "y"
        },
        {
         "hovertemplate": "Churn=No<br>MonthlyCharges=%{x}<extra></extra>",
         "legendgroup": "No",
         "marker": {
          "color": "green"
         },
         "name": "No",
         "notched": true,
         "showlegend": false,
         "type": "box",
         "x": {
          "bdata": "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",
          "dtype": "f8"
         },
         "xaxis": "x2",
         "yaxis": "y2"
        },
        {
         "bingroup": "x",
         "histfunc": "sum",
         "hovertemplate": "Churn=Yes<br>MonthlyCharges=%{x}<br>sum of Count=%{y}<extra></extra>",
         "legendgroup": "Yes",
         "marker": {
          "color": "red",
          "pattern": {
           "shape": ""
          }
         },
         "name": "Yes",
         "orientation": "v",
         "showlegend": true,
         "type": "histogram",
         "x": {
          "bdata": "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",
          "dtype": "f8"
         },
         "xaxis": "x",
         "y": {
          "bdata": "AQEBAQMDAgQDAwIEBAIGAwUEAwMDBAYGBAEDAgMDAQEBAQICAQEBAQEBAgIBAQQBAQMDAQEDAwIDAgMBAQEBAQEBAQEBAQIDAQIBAQEBAQECAQEBAQEBAQEBAQEBAQUBAQIBAQEBAgEBAQIBAQEBAQIBAgEBAgECAQECAQEBAQEBAQECAQEBAQECAQECAwECAwICAQMBAgIDAwQCCAIDAgEDBAEBAwIFAQEBAQEBAQECAwEBAgECAgEDAQMCAwMBAgEBAgIBAQQCAgIDAQIDAgEDBAECAgEBAQEBAQEBAQEBAQECAQICAwECAQMCAQIBAQYBAgMCAgICAQEBAgIBAgICAgEBAQEBAQECAQEBAQEBAQEBAQEDAQEBAQEBAQEBAQIBAQEBAQECAQEBAQEBAQEBAQEBAQEBAQECAQIDAQQBAgQEAgMEBQYDBQMCAwUHAwYHAwMHAQUEAQICAgMFAQICAgQBAQIBAgECAQEBAQEBAQECAQECAgICAwUEAQIBAgIDBQUNAwQCAgQEAwIBCQgDAgMCBAIGBQEDAwMBAQIDBAEDAgIBAQEBAwMDAgEBAQIBAQICAgEBAgMBAgEBAQECAgUDAgIEBAQBBAQCBAQEBQQDAQQGAgQCAgMEBAUDAgUFAwQDAQEDBgEGAQIBAQEBAQECAQMBAQEBAQEBAQEBAgICAQEDAgIDAQEDAgECAQQCAwQFAQQCAQMGBAIDBQIBBAUEBQcCBgEEAgMDAQMBAQMDAgEBAgICAgICAgEBAgEBAQIBAQEBAQEBAgQBAgEBAgEBAgEDAgQCAQMCBAMGBAICAgMEAgIDAwMDAQIBAQICAgMFAQEEBAEBAQICAQECAgECAgEDAQEBAwEBAgEBAQEDAgMHAwQBBAUFAQEHBQMDAgQFAgEEAQEEAwMEAgUCBAMCBAQBAgEBAwMDAgIDAgEBAgIBAgECAgECAQEBAQEBAQICAgIBAgQCAgEDAwICAgMBAwIDAQEBBAYDAQECAgQDAQQEBQEDBAQCAQIDAwQBAQICAgICAQMCAwIEAgEBAQEBAQIBAgIBAQIBAgMBAgIBAgIDAgIBAgEEAgIDAQIGAgEBAgMCAgEBAQQBAgIBAgEBAwEDAQEBAgQDAQQCAQECAgEBAQIBAgEBAQEBAQEBAgEBAQEBAQEBAQECAgEBAQECAQEBAQECAQEBAQEBAgIBAQEBAQEBAQEBAQ==",
          "dtype": "i1"
         },
         "yaxis": "y"
        },
        {
         "hovertemplate": "Churn=Yes<br>MonthlyCharges=%{x}<extra></extra>",
         "legendgroup": "Yes",
         "marker": {
          "color": "red"
         },
         "name": "Yes",
         "notched": true,
         "showlegend": false,
         "type": "box",
         "x": {
          "bdata": "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",
          "dtype": "f8"
         },
         "xaxis": "x2",
         "yaxis": "y2"
        }
       ],
       "layout": {
        "barmode": "relative",
        "legend": {
         "title": {
          "text": "Churn"
         },
         "tracegroupgap": 0
        },
        "template": {
         "data": {
          "bar": [
           {
            "error_x": {
             "color": "#2a3f5f"
            },
            "error_y": {
             "color": "#2a3f5f"
            },
            "marker": {
             "line": {
              "color": "#E5ECF6",
              "width": 0.5
             },
             "pattern": {
              "fillmode": "overlay",
              "size": 10,
              "solidity": 0.2
             }
            },
            "type": "bar"
           }
          ],
          "barpolar": [
           {
            "marker": {
             "line": {
              "color": "#E5ECF6",
              "width": 0.5
             },
             "pattern": {
              "fillmode": "overlay",
              "size": 10,
              "solidity": 0.2
             }
            },
            "type": "barpolar"
           }
          ],
          "carpet": [
           {
            "aaxis": {
             "endlinecolor": "#2a3f5f",
             "gridcolor": "white",
             "linecolor": "white",
             "minorgridcolor": "white",
             "startlinecolor": "#2a3f5f"
            },
            "baxis": {
             "endlinecolor": "#2a3f5f",
             "gridcolor": "white",
             "linecolor": "white",
             "minorgridcolor": "white",
             "startlinecolor": "#2a3f5f"
            },
            "type": "carpet"
           }
          ],
          "choropleth": [
           {
            "colorbar": {
             "outlinewidth": 0,
             "ticks": ""
            },
            "type": "choropleth"
           }
          ],
          "contour": [
           {
            "colorbar": {
             "outlinewidth": 0,
             "ticks": ""
            },
            "colorscale": [
             [
              0,
              "#0d0887"
             ],
             [
              0.1111111111111111,
              "#46039f"
             ],
             [
              0.2222222222222222,
              "#7201a8"
             ],
             [
              0.3333333333333333,
              "#9c179e"
             ],
             [
              0.4444444444444444,
              "#bd3786"
             ],
             [
              0.5555555555555556,
              "#d8576b"
             ],
             [
              0.6666666666666666,
              "#ed7953"
             ],
             [
              0.7777777777777778,
              "#fb9f3a"
             ],
             [
              0.8888888888888888,
              "#fdca26"
             ],
             [
              1,
              "#f0f921"
             ]
            ],
            "type": "contour"
           }
          ],
          "contourcarpet": [
           {
            "colorbar": {
             "outlinewidth": 0,
             "ticks": ""
            },
            "type": "contourcarpet"
           }
          ],
          "heatmap": [
           {
            "colorbar": {
             "outlinewidth": 0,
             "ticks": ""
            },
            "colorscale": [
             [
              0,
              "#0d0887"
             ],
             [
              0.1111111111111111,
              "#46039f"
             ],
             [
              0.2222222222222222,
              "#7201a8"
             ],
             [
              0.3333333333333333,
              "#9c179e"
             ],
             [
              0.4444444444444444,
              "#bd3786"
             ],
             [
              0.5555555555555556,
              "#d8576b"
             ],
             [
              0.6666666666666666,
              "#ed7953"
             ],
             [
              0.7777777777777778,
              "#fb9f3a"
             ],
             [
              0.8888888888888888,
              "#fdca26"
             ],
             [
              1,
              "#f0f921"
             ]
            ],
            "type": "heatmap"
           }
          ],
          "histogram": [
           {
            "marker": {
             "pattern": {
              "fillmode": "overlay",
              "size": 10,
              "solidity": 0.2
             }
            },
            "type": "histogram"
           }
          ],
          "histogram2d": [
           {
            "colorbar": {
             "outlinewidth": 0,
             "ticks": ""
            },
            "colorscale": [
             [
              0,
              "#0d0887"
             ],
             [
              0.1111111111111111,
              "#46039f"
             ],
             [
              0.2222222222222222,
              "#7201a8"
             ],
             [
              0.3333333333333333,
              "#9c179e"
             ],
             [
              0.4444444444444444,
              "#bd3786"
             ],
             [
              0.5555555555555556,
              "#d8576b"
             ],
             [
              0.6666666666666666,
              "#ed7953"
             ],
             [
              0.7777777777777778,
              "#fb9f3a"
             ],
             [
              0.8888888888888888,
              "#fdca26"
             ],
             [
              1,
              "#f0f921"
             ]
            ],
            "type": "histogram2d"
           }
          ],
          "histogram2dcontour": [
           {
            "colorbar": {
             "outlinewidth": 0,
             "ticks": ""
            },
            "colorscale": [
             [
              0,
              "#0d0887"
             ],
             [
              0.1111111111111111,
              "#46039f"
             ],
             [
              0.2222222222222222,
              "#7201a8"
             ],
             [
              0.3333333333333333,
              "#9c179e"
             ],
             [
              0.4444444444444444,
              "#bd3786"
             ],
             [
              0.5555555555555556,
              "#d8576b"
             ],
             [
              0.6666666666666666,
              "#ed7953"
             ],
             [
              0.7777777777777778,
              "#fb9f3a"
             ],
             [
              0.8888888888888888,
              "#fdca26"
             ],
             [
              1,
              "#f0f921"
             ]
            ],
            "type": "histogram2dcontour"
           }
          ],
          "mesh3d": [
           {
            "colorbar": {
             "outlinewidth": 0,
             "ticks": ""
            },
            "type": "mesh3d"
           }
          ],
          "parcoords": [
           {
            "line": {
             "colorbar": {
              "outlinewidth": 0,
              "ticks": ""
             }
            },
            "type": "parcoords"
           }
          ],
          "pie": [
           {
            "automargin": true,
            "type": "pie"
           }
          ],
          "scatter": [
           {
            "fillpattern": {
             "fillmode": "overlay",
             "size": 10,
             "solidity": 0.2
            },
            "type": "scatter"
           }
          ],
          "scatter3d": [
           {
            "line": {
             "colorbar": {
              "outlinewidth": 0,
              "ticks": ""
             }
            },
            "marker": {
             "colorbar": {
              "outlinewidth": 0,
              "ticks": ""
             }
            },
            "type": "scatter3d"
           }
          ],
          "scattercarpet": [
           {
            "marker": {
             "colorbar": {
              "outlinewidth": 0,
              "ticks": ""
             }
            },
            "type": "scattercarpet"
           }
          ],
          "scattergeo": [
           {
            "marker": {
             "colorbar": {
              "outlinewidth": 0,
              "ticks": ""
             }
            },
            "type": "scattergeo"
           }
          ],
          "scattergl": [
           {
            "marker": {
             "colorbar": {
              "outlinewidth": 0,
              "ticks": ""
             }
            },
            "type": "scattergl"
           }
          ],
          "scattermap": [
           {
            "marker": {
             "colorbar": {
              "outlinewidth": 0,
              "ticks": ""
             }
            },
            "type": "scattermap"
           }
          ],
          "scattermapbox": [
           {
            "marker": {
             "colorbar": {
              "outlinewidth": 0,
              "ticks": ""
             }
            },
            "type": "scattermapbox"
           }
          ],
          "scatterpolar": [
           {
            "marker": {
             "colorbar": {
              "outlinewidth": 0,
              "ticks": ""
             }
            },
            "type": "scatterpolar"
           }
          ],
          "scatterpolargl": [
           {
            "marker": {
             "colorbar": {
              "outlinewidth": 0,
              "ticks": ""
             }
            },
            "type": "scatterpolargl"
           }
          ],
          "scatterternary": [
           {
            "marker": {
             "colorbar": {
              "outlinewidth": 0,
              "ticks": ""
             }
            },
            "type": "scatterternary"
           }
          ],
          "surface": [
           {
            "colorbar": {
             "outlinewidth": 0,
             "ticks": ""
            },
            "colorscale": [
             [
              0,
              "#0d0887"
             ],
             [
              0.1111111111111111,
              "#46039f"
             ],
             [
              0.2222222222222222,
              "#7201a8"
             ],
             [
              0.3333333333333333,
              "#9c179e"
             ],
             [
              0.4444444444444444,
              "#bd3786"
             ],
             [
              0.5555555555555556,
              "#d8576b"
             ],
             [
              0.6666666666666666,
              "#ed7953"
             ],
             [
              0.7777777777777778,
              "#fb9f3a"
             ],
             [
              0.8888888888888888,
              "#fdca26"
             ],
             [
              1,
              "#f0f921"
             ]
            ],
            "type": "surface"
           }
          ],
          "table": [
           {
            "cells": {
             "fill": {
              "color": "#EBF0F8"
             },
             "line": {
              "color": "white"
             }
            },
            "header": {
             "fill": {
              "color": "#C8D4E3"
             },
             "line": {
              "color": "white"
             }
            },
            "type": "table"
           }
          ]
         },
         "layout": {
          "annotationdefaults": {
           "arrowcolor": "#2a3f5f",
           "arrowhead": 0,
           "arrowwidth": 1
          },
          "autotypenumbers": "strict",
          "coloraxis": {
           "colorbar": {
            "outlinewidth": 0,
            "ticks": ""
           }
          },
          "colorscale": {
           "diverging": [
            [
             0,
             "#8e0152"
            ],
            [
             0.1,
             "#c51b7d"
            ],
            [
             0.2,
             "#de77ae"
            ],
            [
             0.3,
             "#f1b6da"
            ],
            [
             0.4,
             "#fde0ef"
            ],
            [
             0.5,
             "#f7f7f7"
            ],
            [
             0.6,
             "#e6f5d0"
            ],
            [
             0.7,
             "#b8e186"
            ],
            [
             0.8,
             "#7fbc41"
            ],
            [
             0.9,
             "#4d9221"
            ],
            [
             1,
             "#276419"
            ]
           ],
           "sequential": [
            [
             0,
             "#0d0887"
            ],
            [
             0.1111111111111111,
             "#46039f"
            ],
            [
             0.2222222222222222,
             "#7201a8"
            ],
            [
             0.3333333333333333,
             "#9c179e"
            ],
            [
             0.4444444444444444,
             "#bd3786"
            ],
            [
             0.5555555555555556,
             "#d8576b"
            ],
            [
             0.6666666666666666,
             "#ed7953"
            ],
            [
             0.7777777777777778,
             "#fb9f3a"
            ],
            [
             0.8888888888888888,
             "#fdca26"
            ],
            [
             1,
             "#f0f921"
            ]
           ],
           "sequentialminus": [
            [
             0,
             "#0d0887"
            ],
            [
             0.1111111111111111,
             "#46039f"
            ],
            [
             0.2222222222222222,
             "#7201a8"
            ],
            [
             0.3333333333333333,
             "#9c179e"
            ],
            [
             0.4444444444444444,
             "#bd3786"
            ],
            [
             0.5555555555555556,
             "#d8576b"
            ],
            [
             0.6666666666666666,
             "#ed7953"
            ],
            [
             0.7777777777777778,
             "#fb9f3a"
            ],
            [
             0.8888888888888888,
             "#fdca26"
            ],
            [
             1,
             "#f0f921"
            ]
           ]
          },
          "colorway": [
           "#636efa",
           "#EF553B",
           "#00cc96",
           "#ab63fa",
           "#FFA15A",
           "#19d3f3",
           "#FF6692",
           "#B6E880",
           "#FF97FF",
           "#FECB52"
          ],
          "font": {
           "color": "#2a3f5f"
          },
          "geo": {
           "bgcolor": "white",
           "lakecolor": "white",
           "landcolor": "#E5ECF6",
           "showlakes": true,
           "showland": true,
           "subunitcolor": "white"
          },
          "hoverlabel": {
           "align": "left"
          },
          "hovermode": "closest",
          "mapbox": {
           "style": "light"
          },
          "paper_bgcolor": "white",
          "plot_bgcolor": "#E5ECF6",
          "polar": {
           "angularaxis": {
            "gridcolor": "white",
            "linecolor": "white",
            "ticks": ""
           },
           "bgcolor": "#E5ECF6",
           "radialaxis": {
            "gridcolor": "white",
            "linecolor": "white",
            "ticks": ""
           }
          },
          "scene": {
           "xaxis": {
            "backgroundcolor": "#E5ECF6",
            "gridcolor": "white",
            "gridwidth": 2,
            "linecolor": "white",
            "showbackground": true,
            "ticks": "",
            "zerolinecolor": "white"
           },
           "yaxis": {
            "backgroundcolor": "#E5ECF6",
            "gridcolor": "white",
            "gridwidth": 2,
            "linecolor": "white",
            "showbackground": true,
            "ticks": "",
            "zerolinecolor": "white"
           },
           "zaxis": {
            "backgroundcolor": "#E5ECF6",
            "gridcolor": "white",
            "gridwidth": 2,
            "linecolor": "white",
            "showbackground": true,
            "ticks": "",
            "zerolinecolor": "white"
           }
          },
          "shapedefaults": {
           "line": {
            "color": "#2a3f5f"
           }
          },
          "ternary": {
           "aaxis": {
            "gridcolor": "white",
            "linecolor": "white",
            "ticks": ""
           },
           "baxis": {
            "gridcolor": "white",
            "linecolor": "white",
            "ticks": ""
           },
           "bgcolor": "#E5ECF6",
           "caxis": {
            "gridcolor": "white",
            "linecolor": "white",
            "ticks": ""
           }
          },
          "title": {
           "x": 0.05
          },
          "xaxis": {
           "automargin": true,
           "gridcolor": "white",
           "linecolor": "white",
           "ticks": "",
           "title": {
            "standoff": 15
           },
           "zerolinecolor": "white",
           "zerolinewidth": 2
          },
          "yaxis": {
           "automargin": true,
           "gridcolor": "white",
           "linecolor": "white",
           "ticks": "",
           "title": {
            "standoff": 15
           },
           "zerolinecolor": "white",
           "zerolinewidth": 2
          }
         }
        },
        "title": {
         "text": "Churn rate frequency to MonthlyCharges distribution"
        },
        "xaxis": {
         "anchor": "y",
         "domain": [
          0,
          1
         ],
         "title": {
          "text": "MonthlyCharges"
         }
        },
        "xaxis2": {
         "anchor": "y2",
         "domain": [
          0,
          1
         ],
         "matches": "x",
         "showgrid": true,
         "showticklabels": false
        },
        "yaxis": {
         "anchor": "x",
         "domain": [
          0,
          0.7326
         ],
         "title": {
          "text": "sum of Count"
         }
        },
        "yaxis2": {
         "anchor": "x2",
         "domain": [
          0.7426,
          1
         ],
         "matches": "y2",
         "showgrid": false,
         "showline": false,
         "showticklabels": false,
         "ticks": ""
        }
       }
      }
     },
     "metadata": {},
     "output_type": "display_data"
    },
    {
     "data": {
      "application/vnd.plotly.v1+json": {
       "config": {
        "plotlyServerURL": "https://plot.ly"
       },
       "data": [
        {
         "bingroup": "x",
         "histfunc": "sum",
         "hovertemplate": "Churn=No<br>TotalCharges=%{x}<br>sum of Count=%{y}<extra></extra>",
         "legendgroup": "No",
         "marker": {
          "color": "green",
          "pattern": {
           "shape": ""
          }
         },
         "name": "No",
         "orientation": "v",
         "showlegend": true,
         "type": "histogram",
         "x": {
          "bdata": "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",
          "dtype": "f8"
         },
         "xaxis": "x",
         "y": {
          "bdata": "AQEBAQECAQQCAgMDAwYGAQcBAwQCAgYCBQQEBAMFAQEBAgECAQEBAQEBAQMCAQEBAgEBAQEBAQEBAQEBAQECAgEBAQEBAQEBAQEBAQEBAQEBAQEBAQEBAQEBAQQBAQEBAQECAQMBAQEBAQEBAgEBAQEBAQEBAQEBAQEBAQEBAQEBAQEBAQIBAwEBAQMCAQIBAQECAQEBAQEBAQEBAgEBAQIBAQIBAQEBAQICAQEBAQEBAQEBAQEBAQEBAQEBAQEBAQEBAQEBAgEBAQEBAQEBAQEBAQIBAQEBAQEBAQEBAQEBAQEBAQEBAQEBAgEBAQICAQEBAQECAQIBAQEBAQEBAQIBAQEBAQECAQEBAQEBAQEBAQICAQEBAQEBAQEBAQEBAQEBAQEBAQEBAQEBAQEBAQEBAQEBAQEBAQECAQEBAQEBAQECAQEBAQEBAQEBAQEBAQEBAQIBAQEBAQECAQEBAgEBAQIBAQEBAQEBAQEBAQEBAQEBAQEBAQEBAQEBAQEBAQEBAQEBAQEBAgEBAQEBAQEBAQEBAQEBAQEBAQEBAQEBAgEBAQEBAQEBAQIBAQEBAQEBAQEBAQEBAQEBAQEBAQEBAQEBAQEBAQEBAQEBAQEBAQEBAQEBAQEBAQEBAQIBAQEBAQEBAQEBAQEBAQEBAQEBAQEBAQICAQEBAQEBAQEBAQEBAQEBAQEBAQEBAQEBAQEBAQEBAwEBAQEBAQEBAQEBAQEBAQEBAQEBAQEBAQEBAQEBAQEBAQEBAgEBAQEBAQEBAQIBAQEBAQEBAQEBAQECAQEBAgEBAQEBAQEBAQEBAQIBAQEBAQEBAQEBAQEBAQEBAQEBAQEBAQEBAQEBAQEBAQECAQEBAQEBAQECAQEBAQIBAQEBAQEBAQEBAQEBAQEBAQEBAQEBAQEBAQEBAQEBAQEBAQEBAQEBAgEBAQEBAQEBAQEBAQEBAQEBAQEBAQEBAQEBAQEBAQEBAgEBAQEBAQEBAQEBAQEBAQEBAQECAQEBAQEBAQEBAQEBAQECAQEBAQECAQEBAQEBAQECAQEBAQEBAQIBAQEBAQEBAQEBAQEBAQEBAQEBAQEBAQEBAQEBAQEBAQEBAQEBAQEBAQIBAQMBAQEBAQEBAQEBAQEBAQEBAQEBAQIBAQEBAQEBAQEBAQEBAQEBAQEBAQEBAQEBAQEBAQEBAQEBAQEBAQEBAQEBAQEBAQEBAQEBAQEBAQEBAQEBAQEBAQEBAQEBAQEBAQEBAQEBAQEBAQEBAQEBAQEBAQEBAQEBAQEBAQEBAQEBAQEBAQEBAQECAQEBAQECAQEDAQEBAQEBAQEBAgEBAQEBAQEBAQEBAQEBAQEBAQEBAgEBAQEBAQEBAgEBAQEBAQEBAQEBAQEBAQEBAQECAQEBAQEBAQEBAgEBAQEBAQEBAQEBAQEBAQEBAQEBAQEBAQEBAQEBAQEBAQEBAQEBAQEBAQEBAQEBAQEBAQEBAQEBAQEBAQEBAQEBAQEBAQEBAQECAQEBAQEBAQEBAQEBAQEBAQEBAQEBAQEBAQEBAQECAQEBAQEBAQEBAgEBAQEBAQEBAQEBAQEBAgEBAQEBAQEBAQEBAQEBAQEBAQEBAQEBAQEBAQEBAQEBAQEBAQEBAQEBAQEBAQEBAQEBAQEBAQEBAQEBAQEBAQEBAQEBAQEBAQEBAQECAQEBAQEBAQEBAQEBAQEBAQEBAQEBAQECAQEBAQEBAQEBAQEBAQEBAQEBAQEBAQEBAQEBAQEBAQEBAQEBAQEBAQEBAQEBAQEBAQEBAQEBAQEBAQEBAQEBAQEBAQEBAQEBAQEBAQEBAQEBAQEBAQEBAQEBAQEBAQEBAQEBAQEBAQEBAQEBAQEBAQEBAQEBAQEBAQEBAQEBAQEBAQEBAQEBAQEBAQEBAQEBAQEBAQEBAQEBAQEBAQEBAQEBAQEBAQEBAQEBAgEBAQEBAQEBAQEBAQEBAQEBAQEBAQEBAQIBAQEBAQEBAgEBAQEBAQIBAQEBAQIBAQEBAQEBAQEBAQEBAQEBAQECAQEBAQEBAQEBAQEBAQEBAQEBAQEBAQEBAQEBAQEBAQEBAQEBAQEBAQEBAQEBAQEBAQEBAQEBAQEBAQEBAQEBAQEBAQEBAQEBAQEBAQEBAQEBAQEBAQEBAQEBAQEBAQEBAQEBAQEBAQEBAQEBAQEBAQEBAQEBAQEBAQEBAQEBAQEBAQEBAQEBAQEBAgEBAQEBAQEBAQEBAQEBAQEBAQEBAQEBAQEBAQEBAQEBAQEBAQEBAQEBAQEBAQEBAQEBAgEBAQEBAQEBAQEBAQEBAQEBAQEBAQEBAQEBAQEBAQEBAQEBAQECAQEBAQEBAQEBAQEBAQEBAQEBAQEBAQEBAQEBAQEBAQEBAQEBAQEBAQEBAQEBAQEBAQEBAQECAQEBAQEBAQEBAQEBAQEBAQEBAQEBAQEBAQEBAQEBAQEBAQEBAQEBAQEBAQEBAQEBAgEBAQEBAQEBAQEBAQEBAQEBAQEBAQIBAQEBAQEBAQEBAQEBAQEBAQEBAQEBAgEBAQEBAQEBAQEBAQEBAQEBAQECAQEBAQEBAQEBAQEBAQEBAQEBAQEBAQEBAQEBAQEBAQEBAQEBAQEBAQEBAQEBAQEBAQEBAQEBAQEBAQEBAQEBAQEBAQEBAQEBAQEBAQEBAQEBAQECAQEBAQEBAQEBAQEBAQEBAQEBAQEBAQEBAQEBAQEBAgEBAQEBAQEBAQEBAQEBAQEBAQEBAQEBAQEBAQEBAQEBAQEBAQEBAQEBAQEBAQEBAQEBAQEBAQEBAQEBAQEBAQEBAQEBAQEBAQEBAQEBAQEBAQEBAQEBAQECAQEBAQEBAQEBAQEBAQEBAQEBAQEBAQEBAQsBAQEBAQEBAQEBAQEBAQIBAQEBAQEBAQEBAQEBAQEBAQEBAQEBAQEBAQEBAQEBAQEBAQEBAQEBAQEBAQEBAQEBAQIBAQEBAQEBAQEBAQEBAQEBAQECAQEBAQEBAQEBAQEBAgEBAQEBAQEBAQEBAQEBAQEBAQEBAQEBAQEBAQEBAQEBAQEBAQEBAQEBAQEBAQEBAQEBAQEBAQEBAQEBAQEBAQEBAQEBAQEBAQEBAQEBAQEBAQEBAQEBAQEBAQEBAQEBAQEBAQEBAQEBAQEBAQECAQEBAQEBAQEBAQEBAQEBAQECAQEBAQEBAQEBAQEBAQEBAQEBAQEBAQEBAQECAQIBAQEBAQEBAQEBAQEBAQEBAQEBAQEBAQEBAQIBAQEBAQEBAgEBAQEBAQEBAQEBAQEBAQEBAQEBAQEBAQEBAQEBAQEBAQEBAQEBAQEBAQEBAQEBAQEBAQEBAQEBAgEBAQEBAQEBAQEBAQEBAQEBAQEBAQEBAQEBAQEBAQEBAQEBAQEBAQEBAQEBAQEBAQEBAQEBAQEBAQEBAQEBAQEBAQEBAQEBAQEBAQEBAQEBAQEBAQEBAQEBAQEBAQEBAQECAQEBAQEBAQEBAQEBAQEBAQEBAQEBAQEBAQEBAQEBAQEBAQEBAQEBAQEBAQEBAQEBAQEBAQEBAQEBAQEBAQEBAQEBAQEBAQEBAQEBAQEBAQEBAQEBAQEBAQEBAQEBAQEBAQIBAQEBAQEBAQEBAQEBAQEBAQEBAQEBAQEBAQEBAQEBAQEBAQEBAQEBAQEBAQEBAQEBAQEBAQEBAgEBAQEBAQEBAQEBAQEBAQEBAQEBAQEBAQEBAQEBAQEBAQEBAQEBAQEBAQEBAQEBAQEBAQEBAQEBAQEBAQEBAQEBAQEBAQEBAQEBAQEBAQEBAQEBAQEBAQEBAQEBAQEBAQEBAQEBAQEBAQEBAQEBAQEBAQEBAQEBAQEBAQEBAQEBAQEBAQEBAQEBAQEBAQEBAQEBAgEBAQEBAQEBAQEBAQEBAQEBAQEBAQEBAQEBAQEBAQEBAQEBAQEBAQEBAQEBAQEBAQEBAQEBAQIBAQEBAgEBAQEBAQEBAQEBAQEBAQEBAQEBAQEBAQEBAQEBAQIBAQEBAQEBAQEBAQEBAQEBAQEBAQEBAQEBAQEBAQEBAQEBAQEBAQEBAQEBAQEBAQEBAQEBAQEBAQEBAQEBAQEBAQEBAQEBAQEBAQEBAQEBAQEBAQEBAQEBAQEBAQEBAQEBAQEBAQEBAQEBAQEBAQEBAQEBAQEBAQEBAQEBAQEBAQEBAQEBAQEBAQEBAQEBAQEBAQEBAQEBAQEBAQEBAQEBAQEBAQEBAQEBAQEBAQEBAQEBAQEBAQEBAQEBAQEBAQEBAQEBAQEBAQEBAQEBAQEBAQEBAQEBAQEBAQEBAQEBAQEBAQEBAQEBAQEBAQECAQEBAQEBAQEBAQEBAQEBAQEBAQEBAQEBAQEBAQEBAQEBAQEBAQEBAQEBAQIBAQEBAQEBAQEBAQEBAQEBAQEBAQEBAQEBAQEBAQEBAQEBAQEBAQEBAQEBAQEBAQEBAQIBAQEBAQEBAQEBAQEBAQEBAQEBAQEBAQEBAQEBAQEBAQEBAQEBAQEBAQEBAQEBAQEBAQEBAQIBAQEBAQEBAQEBAQEBAQEBAQEBAQEBAQEBAQEBAQEBAQEBAQEBAQEBAQEBAQECAQEBAQEBAQEBAQEBAQEBAQEBAQEBAQEBAQEBAQEBAQECAQEBAQEBAgEBAQEBAQEBAQEBAQEBAQEBAQEBAQEBAQEBAQEBAQEBAQEBAQEBAQEBAQEBAQEBAQEBAQEBAQEBAQEBAQEBAQEBAQEBAQEBAQEBAQEBAQEBAQEBAQEBAQEBAQEBAQEBAQEBAQEBAQEBAQEBAQEBAQEBAQEBAQEBAQEBAQEBAQIBAQEBAQEBAQEBAQEBAQEBAQEBAQEBAQEBAQEBAQEBAQEBAQEBAQEBAQEBAQEBAQEBAQEBAQEBAQEBAQEBAQEBAQEBAQEBAQEBAQEBAQEBAQEBAQEBAQEBAQEBAQEBAQEBAQEBAQEBAQEBAQEBAQEBAQEBAQEBAQEBAQEBAQEBAQEBAQEBAQEBAQEBAQEBAQEBAQEBAQEBAQEBAQEBAQEBAQEBAQEBAQEBAQEBAQEBAQEBAQEBAQEBAQEBAQEBAQEBAQEBAQEBAQEBAQEBAQEBAQEBAQEBAQEBAQEBAQEBAQEBAQEBAQEBAQEBAQEBAQEBAQEBAQEBAQEBAQEBAQEBAQEBAQEBAQEBAQEBAQEBAQEBAQEBAQEBAQEBAQEBAQEBAQEBAQEBAQEBAQEBAQEBAQEBAQEBAQEBAQEBAQEBAQEBAQEBAQEBAQEBAQEBAQIBAQEBAQEBAQEBAQEBAQEBAQEBAQEBAQEBAQEBAQEBAQEBAQEBAQEBAQEBAQEBAQEBAQEBAQEBAQEBAQEBAQEBAQECAQEBAQEBAQEBAQEBAQEBAQEBAQEBAQEBAQEBAQEBAQEBAQEBAQEBAQEBAQEBAQEBAQEBAQEBAQEBAQEBAQEBAQEBAQEBAQEBAQEBAQEBAQEBAQEBAQEBAQEBAQEBAQEBAQEBAQEBAQEBAQEBAQEBAQEBAQEBAQEBAQEBAQEBAQEBAQEBAQEBAQEBAQEBAQEBAQEBAQEBAQEBAQEBAQEBAQEBAQEBAQEBAQEBAQEBAQEBAQEBAQEBAQEBAQEBAQEBAQEBAQEBAQEBAQEBAQEBAQEBAQEBAQIBAQEBAQEBAQEBAQEBAQEBAQEBAQEBAQEBAQEBAQEBAQIBAQEBAQEBAQEBAQECAQEBAQEBAQEBAQEBAgEBAQEBAQEBAQEBAQEBAQEBAQEBAQEBAQEBAQEBAQEBAQEBAQEBAQEBAQEBAQEBAQEBAQEBAQEBAQEBAQEBAQEBAQEBAQEBAQEBAQEBAQEBAQEBAQEBAQECAQEBAQEBAQEBAQEBAQEBAQEBAQEBAQEBAQEBAQEBAQEBAQEBAQEBAQEBAQEBAQEBAQEBAQEBAQEBAQEBAQEBAQEBAQEBAQEBAQEBAQEBAQEBAQEBAQEBAQEBAQEBAQEBAQEBAQEBAQEBAQEBAQEBAQEBAQEBAQEBAQEBAQEBAQEBAQEBAQEBAQEBAQEBAQEBAQEBAQEBAQEBAQEBAQEBAQEBAQEBAQEBAQEBAQEBAQEBAQEBAQEBAQEBAQEBAQEBAQEBAQEBAQEBAQEBAQEBAQEBAQEBAQEBAQEBAQEBAQEBAQEBAQEBAQEBAQEBAQEBAQEBAQEBAQEBAQEBAQEBAQEBAQEBAQEBAQEBAQEBAQEBAQEBAQEBAQEBAQEBAQEBAQEBAQEBAQEBAQEBAQEBAQEBAQEBAQEBAQEBAQEBAQEBAQEBAQEBAQEBAQEBAQEBAQEBAQEBAQEBAQEBAQEBAQEBAQEBAQEBAQEBAQEBAQEBAQEBAQEBAQEBAQEBAQEBAQEBAQEBAQEBAQEBAQEBAQEBAQEBAQEBAQIBAQEBAQEBAQEBAQEBAQEBAQEBAQEBAQEBAQEBAQEBAQEBAQEBAQEBAQEBAQEBAQEBAQEBAQEBAQEBAQEBAQEBAQEBAQEBAQEBAQEBAQEBAQEBAQEBAQEBAQEBAQEBAQEBAQEBAQEBAQEBAQEBAQEBAQEBAQEBAQEBAQEBAQEBAQEBAQEBAQEBAQEBAQEBAQEBAQEBAQEBAQEBAQEBAQEBAQEBAQEBAQEBAQEBAQEBAQEBAQEBAQEBAQEBAQEBAQEBAQEBAQEBAQEBAQEBAQEBAQ==",
          "dtype": "i1"
         },
         "yaxis": "y"
        },
        {
         "hovertemplate": "Churn=No<br>TotalCharges=%{x}<extra></extra>",
         "legendgroup": "No",
         "marker": {
          "color": "green"
         },
         "name": "No",
         "notched": true,
         "showlegend": false,
         "type": "box",
         "x": {
          "bdata": "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",
          "dtype": "f8"
         },
         "xaxis": "x2",
         "yaxis": "y2"
        },
        {
         "bingroup": "x",
         "histfunc": "sum",
         "hovertemplate": "Churn=Yes<br>TotalCharges=%{x}<br>sum of Count=%{y}<extra></extra>",
         "legendgroup": "Yes",
         "marker": {
          "color": "red",
          "pattern": {
           "shape": ""
          }
         },
         "name": "Yes",
         "orientation": "v",
         "showlegend": true,
         "type": "histogram",
         "x": {
          "bdata": "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",
          "dtype": "f8"
         },
         "xaxis": "x",
         "y": {
          "bdata": "AQEBAgEDAQECAgECAQEEAgECAwQGAgEBAwIBAQIBAQEBAQEBAQMCAgECAQEBAQEBAQEBAQEBAQEBAQEBAQIBAQEBAQEBAQEBAQEBAwEBAQECAwEFAQECAwEBAgIBAQEBAQEBAQEBAQEBAQEDAQIBAQECAQEBAQEBAQEBAQIBAQEBAQEBAQEBAQEBAQEBAQEBAQEBAQEBAwECAgICAgMEBAECAgIDAwIBAgMBAwECAQECAQEBAgECAQECAQIBAQEBAQEBAQECAgICAgMDAQEBBAIBAQEBAQEBAQIBAQIBAQEBAgEBAQEBAQECAQEDAgEBAQEBAQEBAQEBAQIBAQEBAQEBAQECAQEBAQIBAQICAQEBAQECAQEBAQEBAQEBAgIBAgIBAgEBAQECAQEBAQEBAQEBAQEBAQEBAgEBAQEBAQEBAQEBAQEBAQEBAQEBAQEBAQEBAQEBAQECAQEBAQEBAQEBAQEBAQEBAQEBAQIBAQEBAQECAQIBAQEBAQEBAQEBAQEBAQEBAQEBAQEBAQEBAQEBAQIBAgEBAQEBAQEBAQEBAQEBAQEBAQEBAQEBAQEBAQEBAQEBAQIBAQEBAQEBAQEBAQEBAQEBAQEBAQEBAQEBAQEBAQEBAQEBAQEBAQEBAQECAQEBAQEBAQEBAQEBAQEBAQEBAQEBAQEBAQEBAQIBAQEBAQEBAQEBAQEBAQEBAQEBAQEBAQECAQEBAQEBAQEBAQEBAQEBAQEBAQECAQECAQEBAQEBAQEBAQEBAQEBAQEBAQEBAQEBAQEBAQEBAQEBAQEBAQEBAQEBAQEBAQEBAQEBAQEBAQEBAQEBAQEBAQEBAQEBAQEBAQEBAQEBAQEBAgEBAQEBAQEBAQEBAQEBAQEBAQEBAQIBAQEBAQEBAQEBAQEBAQEBAQEBAQEBAQEBAQEBAQEBAQEBAQIBAQEBAQEBAQEBAQEBAQEBAQEBAQEBAQEBAQEBAQEBAQEBAQEBAQEBAQEBAQEBAQEBAQEBAQEBAQEBAQEBAQEBAQEBAQEBAQEBAQEBAQEBAQEBAQEBAQEBAQEBAQEBAQEBAQEBAQEBAQEBAQEBAQEBAQEBAQECAQEBAQEBAQEBAQEBAQEBAQEBAQEBAQEBAQEBAQEBAQEBAQEBAQEBAQEBAQEBAQEBAQEBAQEBAQEBAQEBAQEBAQEBAQEBAQEBAQEBAQEBAQEBAQEBAQEBAQEBAQEBAQEBAQEBAQEBAQEBAQEBAQEBAQEBAQEBAQEBAQEBAQEBAQEBAQEBAQEBAQEBAQIBAQEBAQEBAQEBAQEBAQEBAQEBAQEBAQEBAQEBAQEBAQEBAQEBAQEBAQEBAQEBAQEBAQEBAQEBAQEBAQEBAQEBAQEBAQEBAQEBAQEBAQEBAQEBAQEBAQEBAQEBAQEBAQEBAQEBAQEBAQEBAQEBAQEBAQEBAQEBAQEBAQEBAQEBAQEBAQEBAQEBAQEBAQEBAQEBAQEBAQEBAQEBAQEBAQEBAQEBAQEBAQEBAQEBAQEBAQEBAQEBAQEBAQEBAQEBAQEBAQEBAQEBAQEBAQEBAQEBAQEBAQEBAQEBAQEBAQEBAQEBAQEBAQEBAQEBAQEBAQEBAQEBAQEBAQEBAQEBAQEBAQEBAQEBAQEBAQEBAQEBAQEBAQEBAQEBAQEBAQEBAQEBAQIBAQEBAQEBAQEBAQECAQEBAQEBAQEBAQEBAQEBAQEBAQEBAQEBAQEBAQEBAQEBAQEBAQEBAQEBAQEBAQEBAQEBAQEBAQEBAQEBAQEBAQEBAQEBAQEBAQEBAQEBAQEBAQEBAQEBAQEBAQEBAQEBAQEBAQEBAQEBAQEBAQEBAQEBAQEBAQEBAQEBAQEBAQEBAQEBAQEBAQEBAQEBAQEBAQEBAQEBAQEBAQEBAQEBAQEBAQEBAQEBAQEBAQEBAQEBAQEBAQEBAQEBAQEBAQEBAQEBAQEBAQEBAQEBAQEBAQEBAQEBAQEBAQEBAQEBAQEBAQEBAQEBAQEBAQEBAQEBAQEBAQEBAQEBAQEBAQEBAQEBAQEBAQEBAQEBAQEBAQEBAQEBAQEBAQEBAQEBAQEBAQEBAQEBAQEBAQEBAQEBAQEBAQEBAQEBAQEBAQEBAQEBAQEBAQEBAQEBAQEBAQEBAQEBAQEBAQEBAQEBAQEBAQEBAQEBAQEBAQEBAQEBAQEBAQEBAQEBAQEBAQEBAQEBAQEBAQEBAQEBAQEBAQEBAQEBAQEBAQEBAQEBAQEBAQEBAQEBAQEBAQEBAQEBAQEBAQEBAQEBAQEBAQEBAQEBAQEBAQEBAQEBAQEBAQEBAQEBAQEBAQ==",
          "dtype": "i1"
         },
         "yaxis": "y"
        },
        {
         "hovertemplate": "Churn=Yes<br>TotalCharges=%{x}<extra></extra>",
         "legendgroup": "Yes",
         "marker": {
          "color": "red"
         },
         "name": "Yes",
         "notched": true,
         "showlegend": false,
         "type": "box",
         "x": {
          "bdata": "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",
          "dtype": "f8"
         },
         "xaxis": "x2",
         "yaxis": "y2"
        }
       ],
       "layout": {
        "barmode": "relative",
        "legend": {
         "title": {
          "text": "Churn"
         },
         "tracegroupgap": 0
        },
        "template": {
         "data": {
          "bar": [
           {
            "error_x": {
             "color": "#2a3f5f"
            },
            "error_y": {
             "color": "#2a3f5f"
            },
            "marker": {
             "line": {
              "color": "#E5ECF6",
              "width": 0.5
             },
             "pattern": {
              "fillmode": "overlay",
              "size": 10,
              "solidity": 0.2
             }
            },
            "type": "bar"
           }
          ],
          "barpolar": [
           {
            "marker": {
             "line": {
              "color": "#E5ECF6",
              "width": 0.5
             },
             "pattern": {
              "fillmode": "overlay",
              "size": 10,
              "solidity": 0.2
             }
            },
            "type": "barpolar"
           }
          ],
          "carpet": [
           {
            "aaxis": {
             "endlinecolor": "#2a3f5f",
             "gridcolor": "white",
             "linecolor": "white",
             "minorgridcolor": "white",
             "startlinecolor": "#2a3f5f"
            },
            "baxis": {
             "endlinecolor": "#2a3f5f",
             "gridcolor": "white",
             "linecolor": "white",
             "minorgridcolor": "white",
             "startlinecolor": "#2a3f5f"
            },
            "type": "carpet"
           }
          ],
          "choropleth": [
           {
            "colorbar": {
             "outlinewidth": 0,
             "ticks": ""
            },
            "type": "choropleth"
           }
          ],
          "contour": [
           {
            "colorbar": {
             "outlinewidth": 0,
             "ticks": ""
            },
            "colorscale": [
             [
              0,
              "#0d0887"
             ],
             [
              0.1111111111111111,
              "#46039f"
             ],
             [
              0.2222222222222222,
              "#7201a8"
             ],
             [
              0.3333333333333333,
              "#9c179e"
             ],
             [
              0.4444444444444444,
              "#bd3786"
             ],
             [
              0.5555555555555556,
              "#d8576b"
             ],
             [
              0.6666666666666666,
              "#ed7953"
             ],
             [
              0.7777777777777778,
              "#fb9f3a"
             ],
             [
              0.8888888888888888,
              "#fdca26"
             ],
             [
              1,
              "#f0f921"
             ]
            ],
            "type": "contour"
           }
          ],
          "contourcarpet": [
           {
            "colorbar": {
             "outlinewidth": 0,
             "ticks": ""
            },
            "type": "contourcarpet"
           }
          ],
          "heatmap": [
           {
            "colorbar": {
             "outlinewidth": 0,
             "ticks": ""
            },
            "colorscale": [
             [
              0,
              "#0d0887"
             ],
             [
              0.1111111111111111,
              "#46039f"
             ],
             [
              0.2222222222222222,
              "#7201a8"
             ],
             [
              0.3333333333333333,
              "#9c179e"
             ],
             [
              0.4444444444444444,
              "#bd3786"
             ],
             [
              0.5555555555555556,
              "#d8576b"
             ],
             [
              0.6666666666666666,
              "#ed7953"
             ],
             [
              0.7777777777777778,
              "#fb9f3a"
             ],
             [
              0.8888888888888888,
              "#fdca26"
             ],
             [
              1,
              "#f0f921"
             ]
            ],
            "type": "heatmap"
           }
          ],
          "histogram": [
           {
            "marker": {
             "pattern": {
              "fillmode": "overlay",
              "size": 10,
              "solidity": 0.2
             }
            },
            "type": "histogram"
           }
          ],
          "histogram2d": [
           {
            "colorbar": {
             "outlinewidth": 0,
             "ticks": ""
            },
            "colorscale": [
             [
              0,
              "#0d0887"
             ],
             [
              0.1111111111111111,
              "#46039f"
             ],
             [
              0.2222222222222222,
              "#7201a8"
             ],
             [
              0.3333333333333333,
              "#9c179e"
             ],
             [
              0.4444444444444444,
              "#bd3786"
             ],
             [
              0.5555555555555556,
              "#d8576b"
             ],
             [
              0.6666666666666666,
              "#ed7953"
             ],
             [
              0.7777777777777778,
              "#fb9f3a"
             ],
             [
              0.8888888888888888,
              "#fdca26"
             ],
             [
              1,
              "#f0f921"
             ]
            ],
            "type": "histogram2d"
           }
          ],
          "histogram2dcontour": [
           {
            "colorbar": {
             "outlinewidth": 0,
             "ticks": ""
            },
            "colorscale": [
             [
              0,
              "#0d0887"
             ],
             [
              0.1111111111111111,
              "#46039f"
             ],
             [
              0.2222222222222222,
              "#7201a8"
             ],
             [
              0.3333333333333333,
              "#9c179e"
             ],
             [
              0.4444444444444444,
              "#bd3786"
             ],
             [
              0.5555555555555556,
              "#d8576b"
             ],
             [
              0.6666666666666666,
              "#ed7953"
             ],
             [
              0.7777777777777778,
              "#fb9f3a"
             ],
             [
              0.8888888888888888,
              "#fdca26"
             ],
             [
              1,
              "#f0f921"
             ]
            ],
            "type": "histogram2dcontour"
           }
          ],
          "mesh3d": [
           {
            "colorbar": {
             "outlinewidth": 0,
             "ticks": ""
            },
            "type": "mesh3d"
           }
          ],
          "parcoords": [
           {
            "line": {
             "colorbar": {
              "outlinewidth": 0,
              "ticks": ""
             }
            },
            "type": "parcoords"
           }
          ],
          "pie": [
           {
            "automargin": true,
            "type": "pie"
           }
          ],
          "scatter": [
           {
            "fillpattern": {
             "fillmode": "overlay",
             "size": 10,
             "solidity": 0.2
            },
            "type": "scatter"
           }
          ],
          "scatter3d": [
           {
            "line": {
             "colorbar": {
              "outlinewidth": 0,
              "ticks": ""
             }
            },
            "marker": {
             "colorbar": {
              "outlinewidth": 0,
              "ticks": ""
             }
            },
            "type": "scatter3d"
           }
          ],
          "scattercarpet": [
           {
            "marker": {
             "colorbar": {
              "outlinewidth": 0,
              "ticks": ""
             }
            },
            "type": "scattercarpet"
           }
          ],
          "scattergeo": [
           {
            "marker": {
             "colorbar": {
              "outlinewidth": 0,
              "ticks": ""
             }
            },
            "type": "scattergeo"
           }
          ],
          "scattergl": [
           {
            "marker": {
             "colorbar": {
              "outlinewidth": 0,
              "ticks": ""
             }
            },
            "type": "scattergl"
           }
          ],
          "scattermap": [
           {
            "marker": {
             "colorbar": {
              "outlinewidth": 0,
              "ticks": ""
             }
            },
            "type": "scattermap"
           }
          ],
          "scattermapbox": [
           {
            "marker": {
             "colorbar": {
              "outlinewidth": 0,
              "ticks": ""
             }
            },
            "type": "scattermapbox"
           }
          ],
          "scatterpolar": [
           {
            "marker": {
             "colorbar": {
              "outlinewidth": 0,
              "ticks": ""
             }
            },
            "type": "scatterpolar"
           }
          ],
          "scatterpolargl": [
           {
            "marker": {
             "colorbar": {
              "outlinewidth": 0,
              "ticks": ""
             }
            },
            "type": "scatterpolargl"
           }
          ],
          "scatterternary": [
           {
            "marker": {
             "colorbar": {
              "outlinewidth": 0,
              "ticks": ""
             }
            },
            "type": "scatterternary"
           }
          ],
          "surface": [
           {
            "colorbar": {
             "outlinewidth": 0,
             "ticks": ""
            },
            "colorscale": [
             [
              0,
              "#0d0887"
             ],
             [
              0.1111111111111111,
              "#46039f"
             ],
             [
              0.2222222222222222,
              "#7201a8"
             ],
             [
              0.3333333333333333,
              "#9c179e"
             ],
             [
              0.4444444444444444,
              "#bd3786"
             ],
             [
              0.5555555555555556,
              "#d8576b"
             ],
             [
              0.6666666666666666,
              "#ed7953"
             ],
             [
              0.7777777777777778,
              "#fb9f3a"
             ],
             [
              0.8888888888888888,
              "#fdca26"
             ],
             [
              1,
              "#f0f921"
             ]
            ],
            "type": "surface"
           }
          ],
          "table": [
           {
            "cells": {
             "fill": {
              "color": "#EBF0F8"
             },
             "line": {
              "color": "white"
             }
            },
            "header": {
             "fill": {
              "color": "#C8D4E3"
             },
             "line": {
              "color": "white"
             }
            },
            "type": "table"
           }
          ]
         },
         "layout": {
          "annotationdefaults": {
           "arrowcolor": "#2a3f5f",
           "arrowhead": 0,
           "arrowwidth": 1
          },
          "autotypenumbers": "strict",
          "coloraxis": {
           "colorbar": {
            "outlinewidth": 0,
            "ticks": ""
           }
          },
          "colorscale": {
           "diverging": [
            [
             0,
             "#8e0152"
            ],
            [
             0.1,
             "#c51b7d"
            ],
            [
             0.2,
             "#de77ae"
            ],
            [
             0.3,
             "#f1b6da"
            ],
            [
             0.4,
             "#fde0ef"
            ],
            [
             0.5,
             "#f7f7f7"
            ],
            [
             0.6,
             "#e6f5d0"
            ],
            [
             0.7,
             "#b8e186"
            ],
            [
             0.8,
             "#7fbc41"
            ],
            [
             0.9,
             "#4d9221"
            ],
            [
             1,
             "#276419"
            ]
           ],
           "sequential": [
            [
             0,
             "#0d0887"
            ],
            [
             0.1111111111111111,
             "#46039f"
            ],
            [
             0.2222222222222222,
             "#7201a8"
            ],
            [
             0.3333333333333333,
             "#9c179e"
            ],
            [
             0.4444444444444444,
             "#bd3786"
            ],
            [
             0.5555555555555556,
             "#d8576b"
            ],
            [
             0.6666666666666666,
             "#ed7953"
            ],
            [
             0.7777777777777778,
             "#fb9f3a"
            ],
            [
             0.8888888888888888,
             "#fdca26"
            ],
            [
             1,
             "#f0f921"
            ]
           ],
           "sequentialminus": [
            [
             0,
             "#0d0887"
            ],
            [
             0.1111111111111111,
             "#46039f"
            ],
            [
             0.2222222222222222,
             "#7201a8"
            ],
            [
             0.3333333333333333,
             "#9c179e"
            ],
            [
             0.4444444444444444,
             "#bd3786"
            ],
            [
             0.5555555555555556,
             "#d8576b"
            ],
            [
             0.6666666666666666,
             "#ed7953"
            ],
            [
             0.7777777777777778,
             "#fb9f3a"
            ],
            [
             0.8888888888888888,
             "#fdca26"
            ],
            [
             1,
             "#f0f921"
            ]
           ]
          },
          "colorway": [
           "#636efa",
           "#EF553B",
           "#00cc96",
           "#ab63fa",
           "#FFA15A",
           "#19d3f3",
           "#FF6692",
           "#B6E880",
           "#FF97FF",
           "#FECB52"
          ],
          "font": {
           "color": "#2a3f5f"
          },
          "geo": {
           "bgcolor": "white",
           "lakecolor": "white",
           "landcolor": "#E5ECF6",
           "showlakes": true,
           "showland": true,
           "subunitcolor": "white"
          },
          "hoverlabel": {
           "align": "left"
          },
          "hovermode": "closest",
          "mapbox": {
           "style": "light"
          },
          "paper_bgcolor": "white",
          "plot_bgcolor": "#E5ECF6",
          "polar": {
           "angularaxis": {
            "gridcolor": "white",
            "linecolor": "white",
            "ticks": ""
           },
           "bgcolor": "#E5ECF6",
           "radialaxis": {
            "gridcolor": "white",
            "linecolor": "white",
            "ticks": ""
           }
          },
          "scene": {
           "xaxis": {
            "backgroundcolor": "#E5ECF6",
            "gridcolor": "white",
            "gridwidth": 2,
            "linecolor": "white",
            "showbackground": true,
            "ticks": "",
            "zerolinecolor": "white"
           },
           "yaxis": {
            "backgroundcolor": "#E5ECF6",
            "gridcolor": "white",
            "gridwidth": 2,
            "linecolor": "white",
            "showbackground": true,
            "ticks": "",
            "zerolinecolor": "white"
           },
           "zaxis": {
            "backgroundcolor": "#E5ECF6",
            "gridcolor": "white",
            "gridwidth": 2,
            "linecolor": "white",
            "showbackground": true,
            "ticks": "",
            "zerolinecolor": "white"
           }
          },
          "shapedefaults": {
           "line": {
            "color": "#2a3f5f"
           }
          },
          "ternary": {
           "aaxis": {
            "gridcolor": "white",
            "linecolor": "white",
            "ticks": ""
           },
           "baxis": {
            "gridcolor": "white",
            "linecolor": "white",
            "ticks": ""
           },
           "bgcolor": "#E5ECF6",
           "caxis": {
            "gridcolor": "white",
            "linecolor": "white",
            "ticks": ""
           }
          },
          "title": {
           "x": 0.05
          },
          "xaxis": {
           "automargin": true,
           "gridcolor": "white",
           "linecolor": "white",
           "ticks": "",
           "title": {
            "standoff": 15
           },
           "zerolinecolor": "white",
           "zerolinewidth": 2
          },
          "yaxis": {
           "automargin": true,
           "gridcolor": "white",
           "linecolor": "white",
           "ticks": "",
           "title": {
            "standoff": 15
           },
           "zerolinecolor": "white",
           "zerolinewidth": 2
          }
         }
        },
        "title": {
         "text": "Churn rate frequency to TotalCharges distribution"
        },
        "xaxis": {
         "anchor": "y",
         "domain": [
          0,
          1
         ],
         "title": {
          "text": "TotalCharges"
         }
        },
        "xaxis2": {
         "anchor": "y2",
         "domain": [
          0,
          1
         ],
         "matches": "x",
         "showgrid": true,
         "showticklabels": false
        },
        "yaxis": {
         "anchor": "x",
         "domain": [
          0,
          0.7326
         ],
         "title": {
          "text": "sum of Count"
         }
        },
        "yaxis2": {
         "anchor": "x2",
         "domain": [
          0.7426,
          1
         ],
         "matches": "y2",
         "showgrid": false,
         "showline": false,
         "showticklabels": false,
         "ticks": ""
        }
       }
      }
     },
     "metadata": {},
     "output_type": "display_data"
    }
   ],
   "source": [
    "hist('tenure')\n",
    "hist('MonthlyCharges')\n",
    "hist('TotalCharges')"
   ]
  },
  {
   "cell_type": "markdown",
   "id": "c4008668",
   "metadata": {},
   "source": [
    "**Customer account information**: The tenure histogram is rightly skewed and shows that majority of customers has been with the telecom company for just the first few months (0-9 months) and the highest rate of churn is also in that first few months (0-9months). 75% of customers who end up leaving Telcom company do so within their first 30 months. The monthly charge histogram shows that clients with higher monthly charges have a higher churn rate (This suggests that discounts and promotions can be an enticing reason for customers to stay). The total charge trend is quite depict due to variation in frequency. Lets bin the numeric features into 3 sections based on quantiles (low, medium and high to get more information from it)."
   ]
  },
  {
   "cell_type": "code",
   "execution_count": 30,
   "id": "6b646604",
   "metadata": {},
   "outputs": [
    {
     "name": "stderr",
     "output_type": "stream",
     "text": [
      "C:\\Users\\Asus\\AppData\\Local\\Temp\\ipykernel_19164\\1367734987.py:3: FutureWarning:\n",
      "\n",
      "The default of observed=False is deprecated and will be changed to True in a future version of pandas. Pass observed=False to retain current behavior or observed=True to adopt the future default and silence this warning.\n",
      "\n",
      "C:\\Users\\Asus\\AppData\\Local\\Temp\\ipykernel_19164\\1367734987.py:7: FutureWarning:\n",
      "\n",
      "Series.__getitem__ treating keys as positions is deprecated. In a future version, integer keys will always be treated as labels (consistent with DataFrame behavior). To access a value by position, use `ser.iloc[pos]`\n",
      "\n",
      "C:\\Users\\Asus\\AppData\\Local\\Temp\\ipykernel_19164\\1367734987.py:9: FutureWarning:\n",
      "\n",
      "Series.__getitem__ treating keys as positions is deprecated. In a future version, integer keys will always be treated as labels (consistent with DataFrame behavior). To access a value by position, use `ser.iloc[pos]`\n",
      "\n"
     ]
    },
    {
     "data": {
      "application/vnd.plotly.v1+json": {
       "config": {
        "plotlyServerURL": "https://plot.ly"
       },
       "data": [
        {
         "alignmentgroup": "True",
         "hovertemplate": "Churn=No<br>tenure_bins=%{x}<br>Count=%{y}<extra></extra>",
         "legendgroup": "No",
         "marker": {
          "color": "green",
          "pattern": {
           "shape": ""
          }
         },
         "name": "No",
         "offsetgroup": "No",
         "orientation": "v",
         "showlegend": true,
         "textposition": "auto",
         "type": "bar",
         "x": [
          "low",
          "medium",
          "high"
         ],
         "xaxis": "x",
         "y": {
          "bdata": "+AQdByEI",
          "dtype": "i2"
         },
         "yaxis": "y"
        },
        {
         "alignmentgroup": "True",
         "hovertemplate": "Churn=Yes<br>tenure_bins=%{x}<br>Count=%{y}<extra></extra>",
         "legendgroup": "Yes",
         "marker": {
          "color": "red",
          "pattern": {
           "shape": ""
          }
         },
         "name": "Yes",
         "offsetgroup": "Yes",
         "orientation": "v",
         "showlegend": true,
         "textposition": "auto",
         "type": "bar",
         "x": [
          "low",
          "medium",
          "high"
         ],
         "xaxis": "x",
         "y": {
          "bdata": "SwQkAt4A",
          "dtype": "i2"
         },
         "yaxis": "y"
        }
       ],
       "layout": {
        "annotations": [
         {
          "align": "left",
          "bordercolor": "black",
          "borderwidth": 1,
          "showarrow": false,
          "text": "Value count of distribution of low, medium & high are<br>33.7%, 33.6% & 32.7% percentage respectively.",
          "x": 1.4,
          "xref": "paper",
          "y": 1.3,
          "yref": "paper"
         }
        ],
        "barmode": "group",
        "legend": {
         "title": {
          "text": "Churn"
         },
         "tracegroupgap": 0
        },
        "margin": {
         "r": 400
        },
        "template": {
         "data": {
          "bar": [
           {
            "error_x": {
             "color": "#2a3f5f"
            },
            "error_y": {
             "color": "#2a3f5f"
            },
            "marker": {
             "line": {
              "color": "#E5ECF6",
              "width": 0.5
             },
             "pattern": {
              "fillmode": "overlay",
              "size": 10,
              "solidity": 0.2
             }
            },
            "type": "bar"
           }
          ],
          "barpolar": [
           {
            "marker": {
             "line": {
              "color": "#E5ECF6",
              "width": 0.5
             },
             "pattern": {
              "fillmode": "overlay",
              "size": 10,
              "solidity": 0.2
             }
            },
            "type": "barpolar"
           }
          ],
          "carpet": [
           {
            "aaxis": {
             "endlinecolor": "#2a3f5f",
             "gridcolor": "white",
             "linecolor": "white",
             "minorgridcolor": "white",
             "startlinecolor": "#2a3f5f"
            },
            "baxis": {
             "endlinecolor": "#2a3f5f",
             "gridcolor": "white",
             "linecolor": "white",
             "minorgridcolor": "white",
             "startlinecolor": "#2a3f5f"
            },
            "type": "carpet"
           }
          ],
          "choropleth": [
           {
            "colorbar": {
             "outlinewidth": 0,
             "ticks": ""
            },
            "type": "choropleth"
           }
          ],
          "contour": [
           {
            "colorbar": {
             "outlinewidth": 0,
             "ticks": ""
            },
            "colorscale": [
             [
              0,
              "#0d0887"
             ],
             [
              0.1111111111111111,
              "#46039f"
             ],
             [
              0.2222222222222222,
              "#7201a8"
             ],
             [
              0.3333333333333333,
              "#9c179e"
             ],
             [
              0.4444444444444444,
              "#bd3786"
             ],
             [
              0.5555555555555556,
              "#d8576b"
             ],
             [
              0.6666666666666666,
              "#ed7953"
             ],
             [
              0.7777777777777778,
              "#fb9f3a"
             ],
             [
              0.8888888888888888,
              "#fdca26"
             ],
             [
              1,
              "#f0f921"
             ]
            ],
            "type": "contour"
           }
          ],
          "contourcarpet": [
           {
            "colorbar": {
             "outlinewidth": 0,
             "ticks": ""
            },
            "type": "contourcarpet"
           }
          ],
          "heatmap": [
           {
            "colorbar": {
             "outlinewidth": 0,
             "ticks": ""
            },
            "colorscale": [
             [
              0,
              "#0d0887"
             ],
             [
              0.1111111111111111,
              "#46039f"
             ],
             [
              0.2222222222222222,
              "#7201a8"
             ],
             [
              0.3333333333333333,
              "#9c179e"
             ],
             [
              0.4444444444444444,
              "#bd3786"
             ],
             [
              0.5555555555555556,
              "#d8576b"
             ],
             [
              0.6666666666666666,
              "#ed7953"
             ],
             [
              0.7777777777777778,
              "#fb9f3a"
             ],
             [
              0.8888888888888888,
              "#fdca26"
             ],
             [
              1,
              "#f0f921"
             ]
            ],
            "type": "heatmap"
           }
          ],
          "histogram": [
           {
            "marker": {
             "pattern": {
              "fillmode": "overlay",
              "size": 10,
              "solidity": 0.2
             }
            },
            "type": "histogram"
           }
          ],
          "histogram2d": [
           {
            "colorbar": {
             "outlinewidth": 0,
             "ticks": ""
            },
            "colorscale": [
             [
              0,
              "#0d0887"
             ],
             [
              0.1111111111111111,
              "#46039f"
             ],
             [
              0.2222222222222222,
              "#7201a8"
             ],
             [
              0.3333333333333333,
              "#9c179e"
             ],
             [
              0.4444444444444444,
              "#bd3786"
             ],
             [
              0.5555555555555556,
              "#d8576b"
             ],
             [
              0.6666666666666666,
              "#ed7953"
             ],
             [
              0.7777777777777778,
              "#fb9f3a"
             ],
             [
              0.8888888888888888,
              "#fdca26"
             ],
             [
              1,
              "#f0f921"
             ]
            ],
            "type": "histogram2d"
           }
          ],
          "histogram2dcontour": [
           {
            "colorbar": {
             "outlinewidth": 0,
             "ticks": ""
            },
            "colorscale": [
             [
              0,
              "#0d0887"
             ],
             [
              0.1111111111111111,
              "#46039f"
             ],
             [
              0.2222222222222222,
              "#7201a8"
             ],
             [
              0.3333333333333333,
              "#9c179e"
             ],
             [
              0.4444444444444444,
              "#bd3786"
             ],
             [
              0.5555555555555556,
              "#d8576b"
             ],
             [
              0.6666666666666666,
              "#ed7953"
             ],
             [
              0.7777777777777778,
              "#fb9f3a"
             ],
             [
              0.8888888888888888,
              "#fdca26"
             ],
             [
              1,
              "#f0f921"
             ]
            ],
            "type": "histogram2dcontour"
           }
          ],
          "mesh3d": [
           {
            "colorbar": {
             "outlinewidth": 0,
             "ticks": ""
            },
            "type": "mesh3d"
           }
          ],
          "parcoords": [
           {
            "line": {
             "colorbar": {
              "outlinewidth": 0,
              "ticks": ""
             }
            },
            "type": "parcoords"
           }
          ],
          "pie": [
           {
            "automargin": true,
            "type": "pie"
           }
          ],
          "scatter": [
           {
            "fillpattern": {
             "fillmode": "overlay",
             "size": 10,
             "solidity": 0.2
            },
            "type": "scatter"
           }
          ],
          "scatter3d": [
           {
            "line": {
             "colorbar": {
              "outlinewidth": 0,
              "ticks": ""
             }
            },
            "marker": {
             "colorbar": {
              "outlinewidth": 0,
              "ticks": ""
             }
            },
            "type": "scatter3d"
           }
          ],
          "scattercarpet": [
           {
            "marker": {
             "colorbar": {
              "outlinewidth": 0,
              "ticks": ""
             }
            },
            "type": "scattercarpet"
           }
          ],
          "scattergeo": [
           {
            "marker": {
             "colorbar": {
              "outlinewidth": 0,
              "ticks": ""
             }
            },
            "type": "scattergeo"
           }
          ],
          "scattergl": [
           {
            "marker": {
             "colorbar": {
              "outlinewidth": 0,
              "ticks": ""
             }
            },
            "type": "scattergl"
           }
          ],
          "scattermap": [
           {
            "marker": {
             "colorbar": {
              "outlinewidth": 0,
              "ticks": ""
             }
            },
            "type": "scattermap"
           }
          ],
          "scattermapbox": [
           {
            "marker": {
             "colorbar": {
              "outlinewidth": 0,
              "ticks": ""
             }
            },
            "type": "scattermapbox"
           }
          ],
          "scatterpolar": [
           {
            "marker": {
             "colorbar": {
              "outlinewidth": 0,
              "ticks": ""
             }
            },
            "type": "scatterpolar"
           }
          ],
          "scatterpolargl": [
           {
            "marker": {
             "colorbar": {
              "outlinewidth": 0,
              "ticks": ""
             }
            },
            "type": "scatterpolargl"
           }
          ],
          "scatterternary": [
           {
            "marker": {
             "colorbar": {
              "outlinewidth": 0,
              "ticks": ""
             }
            },
            "type": "scatterternary"
           }
          ],
          "surface": [
           {
            "colorbar": {
             "outlinewidth": 0,
             "ticks": ""
            },
            "colorscale": [
             [
              0,
              "#0d0887"
             ],
             [
              0.1111111111111111,
              "#46039f"
             ],
             [
              0.2222222222222222,
              "#7201a8"
             ],
             [
              0.3333333333333333,
              "#9c179e"
             ],
             [
              0.4444444444444444,
              "#bd3786"
             ],
             [
              0.5555555555555556,
              "#d8576b"
             ],
             [
              0.6666666666666666,
              "#ed7953"
             ],
             [
              0.7777777777777778,
              "#fb9f3a"
             ],
             [
              0.8888888888888888,
              "#fdca26"
             ],
             [
              1,
              "#f0f921"
             ]
            ],
            "type": "surface"
           }
          ],
          "table": [
           {
            "cells": {
             "fill": {
              "color": "#EBF0F8"
             },
             "line": {
              "color": "white"
             }
            },
            "header": {
             "fill": {
              "color": "#C8D4E3"
             },
             "line": {
              "color": "white"
             }
            },
            "type": "table"
           }
          ]
         },
         "layout": {
          "annotationdefaults": {
           "arrowcolor": "#2a3f5f",
           "arrowhead": 0,
           "arrowwidth": 1
          },
          "autotypenumbers": "strict",
          "coloraxis": {
           "colorbar": {
            "outlinewidth": 0,
            "ticks": ""
           }
          },
          "colorscale": {
           "diverging": [
            [
             0,
             "#8e0152"
            ],
            [
             0.1,
             "#c51b7d"
            ],
            [
             0.2,
             "#de77ae"
            ],
            [
             0.3,
             "#f1b6da"
            ],
            [
             0.4,
             "#fde0ef"
            ],
            [
             0.5,
             "#f7f7f7"
            ],
            [
             0.6,
             "#e6f5d0"
            ],
            [
             0.7,
             "#b8e186"
            ],
            [
             0.8,
             "#7fbc41"
            ],
            [
             0.9,
             "#4d9221"
            ],
            [
             1,
             "#276419"
            ]
           ],
           "sequential": [
            [
             0,
             "#0d0887"
            ],
            [
             0.1111111111111111,
             "#46039f"
            ],
            [
             0.2222222222222222,
             "#7201a8"
            ],
            [
             0.3333333333333333,
             "#9c179e"
            ],
            [
             0.4444444444444444,
             "#bd3786"
            ],
            [
             0.5555555555555556,
             "#d8576b"
            ],
            [
             0.6666666666666666,
             "#ed7953"
            ],
            [
             0.7777777777777778,
             "#fb9f3a"
            ],
            [
             0.8888888888888888,
             "#fdca26"
            ],
            [
             1,
             "#f0f921"
            ]
           ],
           "sequentialminus": [
            [
             0,
             "#0d0887"
            ],
            [
             0.1111111111111111,
             "#46039f"
            ],
            [
             0.2222222222222222,
             "#7201a8"
            ],
            [
             0.3333333333333333,
             "#9c179e"
            ],
            [
             0.4444444444444444,
             "#bd3786"
            ],
            [
             0.5555555555555556,
             "#d8576b"
            ],
            [
             0.6666666666666666,
             "#ed7953"
            ],
            [
             0.7777777777777778,
             "#fb9f3a"
            ],
            [
             0.8888888888888888,
             "#fdca26"
            ],
            [
             1,
             "#f0f921"
            ]
           ]
          },
          "colorway": [
           "#636efa",
           "#EF553B",
           "#00cc96",
           "#ab63fa",
           "#FFA15A",
           "#19d3f3",
           "#FF6692",
           "#B6E880",
           "#FF97FF",
           "#FECB52"
          ],
          "font": {
           "color": "#2a3f5f"
          },
          "geo": {
           "bgcolor": "white",
           "lakecolor": "white",
           "landcolor": "#E5ECF6",
           "showlakes": true,
           "showland": true,
           "subunitcolor": "white"
          },
          "hoverlabel": {
           "align": "left"
          },
          "hovermode": "closest",
          "mapbox": {
           "style": "light"
          },
          "paper_bgcolor": "white",
          "plot_bgcolor": "#E5ECF6",
          "polar": {
           "angularaxis": {
            "gridcolor": "white",
            "linecolor": "white",
            "ticks": ""
           },
           "bgcolor": "#E5ECF6",
           "radialaxis": {
            "gridcolor": "white",
            "linecolor": "white",
            "ticks": ""
           }
          },
          "scene": {
           "xaxis": {
            "backgroundcolor": "#E5ECF6",
            "gridcolor": "white",
            "gridwidth": 2,
            "linecolor": "white",
            "showbackground": true,
            "ticks": "",
            "zerolinecolor": "white"
           },
           "yaxis": {
            "backgroundcolor": "#E5ECF6",
            "gridcolor": "white",
            "gridwidth": 2,
            "linecolor": "white",
            "showbackground": true,
            "ticks": "",
            "zerolinecolor": "white"
           },
           "zaxis": {
            "backgroundcolor": "#E5ECF6",
            "gridcolor": "white",
            "gridwidth": 2,
            "linecolor": "white",
            "showbackground": true,
            "ticks": "",
            "zerolinecolor": "white"
           }
          },
          "shapedefaults": {
           "line": {
            "color": "#2a3f5f"
           }
          },
          "ternary": {
           "aaxis": {
            "gridcolor": "white",
            "linecolor": "white",
            "ticks": ""
           },
           "baxis": {
            "gridcolor": "white",
            "linecolor": "white",
            "ticks": ""
           },
           "bgcolor": "#E5ECF6",
           "caxis": {
            "gridcolor": "white",
            "linecolor": "white",
            "ticks": ""
           }
          },
          "title": {
           "x": 0.05
          },
          "xaxis": {
           "automargin": true,
           "gridcolor": "white",
           "linecolor": "white",
           "ticks": "",
           "title": {
            "standoff": 15
           },
           "zerolinecolor": "white",
           "zerolinewidth": 2
          },
          "yaxis": {
           "automargin": true,
           "gridcolor": "white",
           "linecolor": "white",
           "ticks": "",
           "title": {
            "standoff": 15
           },
           "zerolinecolor": "white",
           "zerolinewidth": 2
          }
         }
        },
        "title": {
         "text": "Churn rate by tenure_bins"
        },
        "xaxis": {
         "anchor": "y",
         "domain": [
          0,
          1
         ],
         "title": {
          "text": "tenure_bins"
         }
        },
        "yaxis": {
         "anchor": "x",
         "domain": [
          0,
          1
         ],
         "title": {
          "text": "Count"
         }
        }
       }
      }
     },
     "metadata": {},
     "output_type": "display_data"
    },
    {
     "name": "stderr",
     "output_type": "stream",
     "text": [
      "C:\\Users\\Asus\\AppData\\Local\\Temp\\ipykernel_19164\\1367734987.py:3: FutureWarning:\n",
      "\n",
      "The default of observed=False is deprecated and will be changed to True in a future version of pandas. Pass observed=False to retain current behavior or observed=True to adopt the future default and silence this warning.\n",
      "\n",
      "C:\\Users\\Asus\\AppData\\Local\\Temp\\ipykernel_19164\\1367734987.py:7: FutureWarning:\n",
      "\n",
      "Series.__getitem__ treating keys as positions is deprecated. In a future version, integer keys will always be treated as labels (consistent with DataFrame behavior). To access a value by position, use `ser.iloc[pos]`\n",
      "\n",
      "C:\\Users\\Asus\\AppData\\Local\\Temp\\ipykernel_19164\\1367734987.py:9: FutureWarning:\n",
      "\n",
      "Series.__getitem__ treating keys as positions is deprecated. In a future version, integer keys will always be treated as labels (consistent with DataFrame behavior). To access a value by position, use `ser.iloc[pos]`\n",
      "\n"
     ]
    },
    {
     "data": {
      "application/vnd.plotly.v1+json": {
       "config": {
        "plotlyServerURL": "https://plot.ly"
       },
       "data": [
        {
         "alignmentgroup": "True",
         "hovertemplate": "Churn=No<br>MonthlyCharges_bins=%{x}<br>Count=%{y}<extra></extra>",
         "legendgroup": "No",
         "marker": {
          "color": "green",
          "pattern": {
           "shape": ""
          }
         },
         "name": "No",
         "offsetgroup": "No",
         "orientation": "v",
         "showlegend": true,
         "textposition": "auto",
         "type": "bar",
         "x": [
          "low",
          "medium",
          "high"
         ],
         "xaxis": "x",
         "y": {
          "bdata": "ugdxBgsG",
          "dtype": "i2"
         },
         "yaxis": "y"
        },
        {
         "alignmentgroup": "True",
         "hovertemplate": "Churn=Yes<br>MonthlyCharges_bins=%{x}<br>Count=%{y}<extra></extra>",
         "legendgroup": "Yes",
         "marker": {
          "color": "red",
          "pattern": {
           "shape": ""
          }
         },
         "name": "Yes",
         "offsetgroup": "Yes",
         "orientation": "v",
         "showlegend": true,
         "textposition": "auto",
         "type": "bar",
         "x": [
          "low",
          "medium",
          "high"
         ],
         "xaxis": "x",
         "y": {
          "bdata": "dQG4AiAD",
          "dtype": "i2"
         },
         "yaxis": "y"
        }
       ],
       "layout": {
        "annotations": [
         {
          "align": "left",
          "bordercolor": "black",
          "borderwidth": 1,
          "showarrow": false,
          "text": "Value count of distribution of low, high & medium are<br>33.4%, 33.3% & 33.3% percentage respectively.",
          "x": 1.4,
          "xref": "paper",
          "y": 1.3,
          "yref": "paper"
         }
        ],
        "barmode": "group",
        "legend": {
         "title": {
          "text": "Churn"
         },
         "tracegroupgap": 0
        },
        "margin": {
         "r": 400
        },
        "template": {
         "data": {
          "bar": [
           {
            "error_x": {
             "color": "#2a3f5f"
            },
            "error_y": {
             "color": "#2a3f5f"
            },
            "marker": {
             "line": {
              "color": "#E5ECF6",
              "width": 0.5
             },
             "pattern": {
              "fillmode": "overlay",
              "size": 10,
              "solidity": 0.2
             }
            },
            "type": "bar"
           }
          ],
          "barpolar": [
           {
            "marker": {
             "line": {
              "color": "#E5ECF6",
              "width": 0.5
             },
             "pattern": {
              "fillmode": "overlay",
              "size": 10,
              "solidity": 0.2
             }
            },
            "type": "barpolar"
           }
          ],
          "carpet": [
           {
            "aaxis": {
             "endlinecolor": "#2a3f5f",
             "gridcolor": "white",
             "linecolor": "white",
             "minorgridcolor": "white",
             "startlinecolor": "#2a3f5f"
            },
            "baxis": {
             "endlinecolor": "#2a3f5f",
             "gridcolor": "white",
             "linecolor": "white",
             "minorgridcolor": "white",
             "startlinecolor": "#2a3f5f"
            },
            "type": "carpet"
           }
          ],
          "choropleth": [
           {
            "colorbar": {
             "outlinewidth": 0,
             "ticks": ""
            },
            "type": "choropleth"
           }
          ],
          "contour": [
           {
            "colorbar": {
             "outlinewidth": 0,
             "ticks": ""
            },
            "colorscale": [
             [
              0,
              "#0d0887"
             ],
             [
              0.1111111111111111,
              "#46039f"
             ],
             [
              0.2222222222222222,
              "#7201a8"
             ],
             [
              0.3333333333333333,
              "#9c179e"
             ],
             [
              0.4444444444444444,
              "#bd3786"
             ],
             [
              0.5555555555555556,
              "#d8576b"
             ],
             [
              0.6666666666666666,
              "#ed7953"
             ],
             [
              0.7777777777777778,
              "#fb9f3a"
             ],
             [
              0.8888888888888888,
              "#fdca26"
             ],
             [
              1,
              "#f0f921"
             ]
            ],
            "type": "contour"
           }
          ],
          "contourcarpet": [
           {
            "colorbar": {
             "outlinewidth": 0,
             "ticks": ""
            },
            "type": "contourcarpet"
           }
          ],
          "heatmap": [
           {
            "colorbar": {
             "outlinewidth": 0,
             "ticks": ""
            },
            "colorscale": [
             [
              0,
              "#0d0887"
             ],
             [
              0.1111111111111111,
              "#46039f"
             ],
             [
              0.2222222222222222,
              "#7201a8"
             ],
             [
              0.3333333333333333,
              "#9c179e"
             ],
             [
              0.4444444444444444,
              "#bd3786"
             ],
             [
              0.5555555555555556,
              "#d8576b"
             ],
             [
              0.6666666666666666,
              "#ed7953"
             ],
             [
              0.7777777777777778,
              "#fb9f3a"
             ],
             [
              0.8888888888888888,
              "#fdca26"
             ],
             [
              1,
              "#f0f921"
             ]
            ],
            "type": "heatmap"
           }
          ],
          "histogram": [
           {
            "marker": {
             "pattern": {
              "fillmode": "overlay",
              "size": 10,
              "solidity": 0.2
             }
            },
            "type": "histogram"
           }
          ],
          "histogram2d": [
           {
            "colorbar": {
             "outlinewidth": 0,
             "ticks": ""
            },
            "colorscale": [
             [
              0,
              "#0d0887"
             ],
             [
              0.1111111111111111,
              "#46039f"
             ],
             [
              0.2222222222222222,
              "#7201a8"
             ],
             [
              0.3333333333333333,
              "#9c179e"
             ],
             [
              0.4444444444444444,
              "#bd3786"
             ],
             [
              0.5555555555555556,
              "#d8576b"
             ],
             [
              0.6666666666666666,
              "#ed7953"
             ],
             [
              0.7777777777777778,
              "#fb9f3a"
             ],
             [
              0.8888888888888888,
              "#fdca26"
             ],
             [
              1,
              "#f0f921"
             ]
            ],
            "type": "histogram2d"
           }
          ],
          "histogram2dcontour": [
           {
            "colorbar": {
             "outlinewidth": 0,
             "ticks": ""
            },
            "colorscale": [
             [
              0,
              "#0d0887"
             ],
             [
              0.1111111111111111,
              "#46039f"
             ],
             [
              0.2222222222222222,
              "#7201a8"
             ],
             [
              0.3333333333333333,
              "#9c179e"
             ],
             [
              0.4444444444444444,
              "#bd3786"
             ],
             [
              0.5555555555555556,
              "#d8576b"
             ],
             [
              0.6666666666666666,
              "#ed7953"
             ],
             [
              0.7777777777777778,
              "#fb9f3a"
             ],
             [
              0.8888888888888888,
              "#fdca26"
             ],
             [
              1,
              "#f0f921"
             ]
            ],
            "type": "histogram2dcontour"
           }
          ],
          "mesh3d": [
           {
            "colorbar": {
             "outlinewidth": 0,
             "ticks": ""
            },
            "type": "mesh3d"
           }
          ],
          "parcoords": [
           {
            "line": {
             "colorbar": {
              "outlinewidth": 0,
              "ticks": ""
             }
            },
            "type": "parcoords"
           }
          ],
          "pie": [
           {
            "automargin": true,
            "type": "pie"
           }
          ],
          "scatter": [
           {
            "fillpattern": {
             "fillmode": "overlay",
             "size": 10,
             "solidity": 0.2
            },
            "type": "scatter"
           }
          ],
          "scatter3d": [
           {
            "line": {
             "colorbar": {
              "outlinewidth": 0,
              "ticks": ""
             }
            },
            "marker": {
             "colorbar": {
              "outlinewidth": 0,
              "ticks": ""
             }
            },
            "type": "scatter3d"
           }
          ],
          "scattercarpet": [
           {
            "marker": {
             "colorbar": {
              "outlinewidth": 0,
              "ticks": ""
             }
            },
            "type": "scattercarpet"
           }
          ],
          "scattergeo": [
           {
            "marker": {
             "colorbar": {
              "outlinewidth": 0,
              "ticks": ""
             }
            },
            "type": "scattergeo"
           }
          ],
          "scattergl": [
           {
            "marker": {
             "colorbar": {
              "outlinewidth": 0,
              "ticks": ""
             }
            },
            "type": "scattergl"
           }
          ],
          "scattermap": [
           {
            "marker": {
             "colorbar": {
              "outlinewidth": 0,
              "ticks": ""
             }
            },
            "type": "scattermap"
           }
          ],
          "scattermapbox": [
           {
            "marker": {
             "colorbar": {
              "outlinewidth": 0,
              "ticks": ""
             }
            },
            "type": "scattermapbox"
           }
          ],
          "scatterpolar": [
           {
            "marker": {
             "colorbar": {
              "outlinewidth": 0,
              "ticks": ""
             }
            },
            "type": "scatterpolar"
           }
          ],
          "scatterpolargl": [
           {
            "marker": {
             "colorbar": {
              "outlinewidth": 0,
              "ticks": ""
             }
            },
            "type": "scatterpolargl"
           }
          ],
          "scatterternary": [
           {
            "marker": {
             "colorbar": {
              "outlinewidth": 0,
              "ticks": ""
             }
            },
            "type": "scatterternary"
           }
          ],
          "surface": [
           {
            "colorbar": {
             "outlinewidth": 0,
             "ticks": ""
            },
            "colorscale": [
             [
              0,
              "#0d0887"
             ],
             [
              0.1111111111111111,
              "#46039f"
             ],
             [
              0.2222222222222222,
              "#7201a8"
             ],
             [
              0.3333333333333333,
              "#9c179e"
             ],
             [
              0.4444444444444444,
              "#bd3786"
             ],
             [
              0.5555555555555556,
              "#d8576b"
             ],
             [
              0.6666666666666666,
              "#ed7953"
             ],
             [
              0.7777777777777778,
              "#fb9f3a"
             ],
             [
              0.8888888888888888,
              "#fdca26"
             ],
             [
              1,
              "#f0f921"
             ]
            ],
            "type": "surface"
           }
          ],
          "table": [
           {
            "cells": {
             "fill": {
              "color": "#EBF0F8"
             },
             "line": {
              "color": "white"
             }
            },
            "header": {
             "fill": {
              "color": "#C8D4E3"
             },
             "line": {
              "color": "white"
             }
            },
            "type": "table"
           }
          ]
         },
         "layout": {
          "annotationdefaults": {
           "arrowcolor": "#2a3f5f",
           "arrowhead": 0,
           "arrowwidth": 1
          },
          "autotypenumbers": "strict",
          "coloraxis": {
           "colorbar": {
            "outlinewidth": 0,
            "ticks": ""
           }
          },
          "colorscale": {
           "diverging": [
            [
             0,
             "#8e0152"
            ],
            [
             0.1,
             "#c51b7d"
            ],
            [
             0.2,
             "#de77ae"
            ],
            [
             0.3,
             "#f1b6da"
            ],
            [
             0.4,
             "#fde0ef"
            ],
            [
             0.5,
             "#f7f7f7"
            ],
            [
             0.6,
             "#e6f5d0"
            ],
            [
             0.7,
             "#b8e186"
            ],
            [
             0.8,
             "#7fbc41"
            ],
            [
             0.9,
             "#4d9221"
            ],
            [
             1,
             "#276419"
            ]
           ],
           "sequential": [
            [
             0,
             "#0d0887"
            ],
            [
             0.1111111111111111,
             "#46039f"
            ],
            [
             0.2222222222222222,
             "#7201a8"
            ],
            [
             0.3333333333333333,
             "#9c179e"
            ],
            [
             0.4444444444444444,
             "#bd3786"
            ],
            [
             0.5555555555555556,
             "#d8576b"
            ],
            [
             0.6666666666666666,
             "#ed7953"
            ],
            [
             0.7777777777777778,
             "#fb9f3a"
            ],
            [
             0.8888888888888888,
             "#fdca26"
            ],
            [
             1,
             "#f0f921"
            ]
           ],
           "sequentialminus": [
            [
             0,
             "#0d0887"
            ],
            [
             0.1111111111111111,
             "#46039f"
            ],
            [
             0.2222222222222222,
             "#7201a8"
            ],
            [
             0.3333333333333333,
             "#9c179e"
            ],
            [
             0.4444444444444444,
             "#bd3786"
            ],
            [
             0.5555555555555556,
             "#d8576b"
            ],
            [
             0.6666666666666666,
             "#ed7953"
            ],
            [
             0.7777777777777778,
             "#fb9f3a"
            ],
            [
             0.8888888888888888,
             "#fdca26"
            ],
            [
             1,
             "#f0f921"
            ]
           ]
          },
          "colorway": [
           "#636efa",
           "#EF553B",
           "#00cc96",
           "#ab63fa",
           "#FFA15A",
           "#19d3f3",
           "#FF6692",
           "#B6E880",
           "#FF97FF",
           "#FECB52"
          ],
          "font": {
           "color": "#2a3f5f"
          },
          "geo": {
           "bgcolor": "white",
           "lakecolor": "white",
           "landcolor": "#E5ECF6",
           "showlakes": true,
           "showland": true,
           "subunitcolor": "white"
          },
          "hoverlabel": {
           "align": "left"
          },
          "hovermode": "closest",
          "mapbox": {
           "style": "light"
          },
          "paper_bgcolor": "white",
          "plot_bgcolor": "#E5ECF6",
          "polar": {
           "angularaxis": {
            "gridcolor": "white",
            "linecolor": "white",
            "ticks": ""
           },
           "bgcolor": "#E5ECF6",
           "radialaxis": {
            "gridcolor": "white",
            "linecolor": "white",
            "ticks": ""
           }
          },
          "scene": {
           "xaxis": {
            "backgroundcolor": "#E5ECF6",
            "gridcolor": "white",
            "gridwidth": 2,
            "linecolor": "white",
            "showbackground": true,
            "ticks": "",
            "zerolinecolor": "white"
           },
           "yaxis": {
            "backgroundcolor": "#E5ECF6",
            "gridcolor": "white",
            "gridwidth": 2,
            "linecolor": "white",
            "showbackground": true,
            "ticks": "",
            "zerolinecolor": "white"
           },
           "zaxis": {
            "backgroundcolor": "#E5ECF6",
            "gridcolor": "white",
            "gridwidth": 2,
            "linecolor": "white",
            "showbackground": true,
            "ticks": "",
            "zerolinecolor": "white"
           }
          },
          "shapedefaults": {
           "line": {
            "color": "#2a3f5f"
           }
          },
          "ternary": {
           "aaxis": {
            "gridcolor": "white",
            "linecolor": "white",
            "ticks": ""
           },
           "baxis": {
            "gridcolor": "white",
            "linecolor": "white",
            "ticks": ""
           },
           "bgcolor": "#E5ECF6",
           "caxis": {
            "gridcolor": "white",
            "linecolor": "white",
            "ticks": ""
           }
          },
          "title": {
           "x": 0.05
          },
          "xaxis": {
           "automargin": true,
           "gridcolor": "white",
           "linecolor": "white",
           "ticks": "",
           "title": {
            "standoff": 15
           },
           "zerolinecolor": "white",
           "zerolinewidth": 2
          },
          "yaxis": {
           "automargin": true,
           "gridcolor": "white",
           "linecolor": "white",
           "ticks": "",
           "title": {
            "standoff": 15
           },
           "zerolinecolor": "white",
           "zerolinewidth": 2
          }
         }
        },
        "title": {
         "text": "Churn rate by MonthlyCharges_bins"
        },
        "xaxis": {
         "anchor": "y",
         "domain": [
          0,
          1
         ],
         "title": {
          "text": "MonthlyCharges_bins"
         }
        },
        "yaxis": {
         "anchor": "x",
         "domain": [
          0,
          1
         ],
         "title": {
          "text": "Count"
         }
        }
       }
      }
     },
     "metadata": {},
     "output_type": "display_data"
    },
    {
     "name": "stderr",
     "output_type": "stream",
     "text": [
      "C:\\Users\\Asus\\AppData\\Local\\Temp\\ipykernel_19164\\1367734987.py:3: FutureWarning:\n",
      "\n",
      "The default of observed=False is deprecated and will be changed to True in a future version of pandas. Pass observed=False to retain current behavior or observed=True to adopt the future default and silence this warning.\n",
      "\n",
      "C:\\Users\\Asus\\AppData\\Local\\Temp\\ipykernel_19164\\1367734987.py:7: FutureWarning:\n",
      "\n",
      "Series.__getitem__ treating keys as positions is deprecated. In a future version, integer keys will always be treated as labels (consistent with DataFrame behavior). To access a value by position, use `ser.iloc[pos]`\n",
      "\n",
      "C:\\Users\\Asus\\AppData\\Local\\Temp\\ipykernel_19164\\1367734987.py:9: FutureWarning:\n",
      "\n",
      "Series.__getitem__ treating keys as positions is deprecated. In a future version, integer keys will always be treated as labels (consistent with DataFrame behavior). To access a value by position, use `ser.iloc[pos]`\n",
      "\n"
     ]
    },
    {
     "data": {
      "application/vnd.plotly.v1+json": {
       "config": {
        "plotlyServerURL": "https://plot.ly"
       },
       "data": [
        {
         "alignmentgroup": "True",
         "hovertemplate": "Churn=No<br>TotalCharges_bins=%{x}<br>Count=%{y}<extra></extra>",
         "legendgroup": "No",
         "marker": {
          "color": "green",
          "pattern": {
           "shape": ""
          }
         },
         "name": "No",
         "offsetgroup": "No",
         "orientation": "v",
         "showlegend": true,
         "textposition": "auto",
         "type": "bar",
         "x": [
          "low",
          "medium",
          "high"
         ],
         "xaxis": "x",
         "y": {
          "bdata": "jgUAB6gH",
          "dtype": "i2"
         },
         "yaxis": "y"
        },
        {
         "alignmentgroup": "True",
         "hovertemplate": "Churn=Yes<br>TotalCharges_bins=%{x}<br>Count=%{y}<extra></extra>",
         "legendgroup": "Yes",
         "marker": {
          "color": "red",
          "pattern": {
           "shape": ""
          }
         },
         "name": "Yes",
         "offsetgroup": "Yes",
         "orientation": "v",
         "showlegend": true,
         "textposition": "auto",
         "type": "bar",
         "x": [
          "low",
          "medium",
          "high"
         ],
         "xaxis": "x",
         "y": {
          "bdata": "ngMrAoQB",
          "dtype": "i2"
         },
         "yaxis": "y"
        }
       ],
       "layout": {
        "annotations": [
         {
          "align": "left",
          "bordercolor": "black",
          "borderwidth": 1,
          "showarrow": false,
          "text": "Value count of distribution of low, high & medium are<br>33.3%, 33.3% & 33.3% percentage respectively.",
          "x": 1.4,
          "xref": "paper",
          "y": 1.3,
          "yref": "paper"
         }
        ],
        "barmode": "group",
        "legend": {
         "title": {
          "text": "Churn"
         },
         "tracegroupgap": 0
        },
        "margin": {
         "r": 400
        },
        "template": {
         "data": {
          "bar": [
           {
            "error_x": {
             "color": "#2a3f5f"
            },
            "error_y": {
             "color": "#2a3f5f"
            },
            "marker": {
             "line": {
              "color": "#E5ECF6",
              "width": 0.5
             },
             "pattern": {
              "fillmode": "overlay",
              "size": 10,
              "solidity": 0.2
             }
            },
            "type": "bar"
           }
          ],
          "barpolar": [
           {
            "marker": {
             "line": {
              "color": "#E5ECF6",
              "width": 0.5
             },
             "pattern": {
              "fillmode": "overlay",
              "size": 10,
              "solidity": 0.2
             }
            },
            "type": "barpolar"
           }
          ],
          "carpet": [
           {
            "aaxis": {
             "endlinecolor": "#2a3f5f",
             "gridcolor": "white",
             "linecolor": "white",
             "minorgridcolor": "white",
             "startlinecolor": "#2a3f5f"
            },
            "baxis": {
             "endlinecolor": "#2a3f5f",
             "gridcolor": "white",
             "linecolor": "white",
             "minorgridcolor": "white",
             "startlinecolor": "#2a3f5f"
            },
            "type": "carpet"
           }
          ],
          "choropleth": [
           {
            "colorbar": {
             "outlinewidth": 0,
             "ticks": ""
            },
            "type": "choropleth"
           }
          ],
          "contour": [
           {
            "colorbar": {
             "outlinewidth": 0,
             "ticks": ""
            },
            "colorscale": [
             [
              0,
              "#0d0887"
             ],
             [
              0.1111111111111111,
              "#46039f"
             ],
             [
              0.2222222222222222,
              "#7201a8"
             ],
             [
              0.3333333333333333,
              "#9c179e"
             ],
             [
              0.4444444444444444,
              "#bd3786"
             ],
             [
              0.5555555555555556,
              "#d8576b"
             ],
             [
              0.6666666666666666,
              "#ed7953"
             ],
             [
              0.7777777777777778,
              "#fb9f3a"
             ],
             [
              0.8888888888888888,
              "#fdca26"
             ],
             [
              1,
              "#f0f921"
             ]
            ],
            "type": "contour"
           }
          ],
          "contourcarpet": [
           {
            "colorbar": {
             "outlinewidth": 0,
             "ticks": ""
            },
            "type": "contourcarpet"
           }
          ],
          "heatmap": [
           {
            "colorbar": {
             "outlinewidth": 0,
             "ticks": ""
            },
            "colorscale": [
             [
              0,
              "#0d0887"
             ],
             [
              0.1111111111111111,
              "#46039f"
             ],
             [
              0.2222222222222222,
              "#7201a8"
             ],
             [
              0.3333333333333333,
              "#9c179e"
             ],
             [
              0.4444444444444444,
              "#bd3786"
             ],
             [
              0.5555555555555556,
              "#d8576b"
             ],
             [
              0.6666666666666666,
              "#ed7953"
             ],
             [
              0.7777777777777778,
              "#fb9f3a"
             ],
             [
              0.8888888888888888,
              "#fdca26"
             ],
             [
              1,
              "#f0f921"
             ]
            ],
            "type": "heatmap"
           }
          ],
          "histogram": [
           {
            "marker": {
             "pattern": {
              "fillmode": "overlay",
              "size": 10,
              "solidity": 0.2
             }
            },
            "type": "histogram"
           }
          ],
          "histogram2d": [
           {
            "colorbar": {
             "outlinewidth": 0,
             "ticks": ""
            },
            "colorscale": [
             [
              0,
              "#0d0887"
             ],
             [
              0.1111111111111111,
              "#46039f"
             ],
             [
              0.2222222222222222,
              "#7201a8"
             ],
             [
              0.3333333333333333,
              "#9c179e"
             ],
             [
              0.4444444444444444,
              "#bd3786"
             ],
             [
              0.5555555555555556,
              "#d8576b"
             ],
             [
              0.6666666666666666,
              "#ed7953"
             ],
             [
              0.7777777777777778,
              "#fb9f3a"
             ],
             [
              0.8888888888888888,
              "#fdca26"
             ],
             [
              1,
              "#f0f921"
             ]
            ],
            "type": "histogram2d"
           }
          ],
          "histogram2dcontour": [
           {
            "colorbar": {
             "outlinewidth": 0,
             "ticks": ""
            },
            "colorscale": [
             [
              0,
              "#0d0887"
             ],
             [
              0.1111111111111111,
              "#46039f"
             ],
             [
              0.2222222222222222,
              "#7201a8"
             ],
             [
              0.3333333333333333,
              "#9c179e"
             ],
             [
              0.4444444444444444,
              "#bd3786"
             ],
             [
              0.5555555555555556,
              "#d8576b"
             ],
             [
              0.6666666666666666,
              "#ed7953"
             ],
             [
              0.7777777777777778,
              "#fb9f3a"
             ],
             [
              0.8888888888888888,
              "#fdca26"
             ],
             [
              1,
              "#f0f921"
             ]
            ],
            "type": "histogram2dcontour"
           }
          ],
          "mesh3d": [
           {
            "colorbar": {
             "outlinewidth": 0,
             "ticks": ""
            },
            "type": "mesh3d"
           }
          ],
          "parcoords": [
           {
            "line": {
             "colorbar": {
              "outlinewidth": 0,
              "ticks": ""
             }
            },
            "type": "parcoords"
           }
          ],
          "pie": [
           {
            "automargin": true,
            "type": "pie"
           }
          ],
          "scatter": [
           {
            "fillpattern": {
             "fillmode": "overlay",
             "size": 10,
             "solidity": 0.2
            },
            "type": "scatter"
           }
          ],
          "scatter3d": [
           {
            "line": {
             "colorbar": {
              "outlinewidth": 0,
              "ticks": ""
             }
            },
            "marker": {
             "colorbar": {
              "outlinewidth": 0,
              "ticks": ""
             }
            },
            "type": "scatter3d"
           }
          ],
          "scattercarpet": [
           {
            "marker": {
             "colorbar": {
              "outlinewidth": 0,
              "ticks": ""
             }
            },
            "type": "scattercarpet"
           }
          ],
          "scattergeo": [
           {
            "marker": {
             "colorbar": {
              "outlinewidth": 0,
              "ticks": ""
             }
            },
            "type": "scattergeo"
           }
          ],
          "scattergl": [
           {
            "marker": {
             "colorbar": {
              "outlinewidth": 0,
              "ticks": ""
             }
            },
            "type": "scattergl"
           }
          ],
          "scattermap": [
           {
            "marker": {
             "colorbar": {
              "outlinewidth": 0,
              "ticks": ""
             }
            },
            "type": "scattermap"
           }
          ],
          "scattermapbox": [
           {
            "marker": {
             "colorbar": {
              "outlinewidth": 0,
              "ticks": ""
             }
            },
            "type": "scattermapbox"
           }
          ],
          "scatterpolar": [
           {
            "marker": {
             "colorbar": {
              "outlinewidth": 0,
              "ticks": ""
             }
            },
            "type": "scatterpolar"
           }
          ],
          "scatterpolargl": [
           {
            "marker": {
             "colorbar": {
              "outlinewidth": 0,
              "ticks": ""
             }
            },
            "type": "scatterpolargl"
           }
          ],
          "scatterternary": [
           {
            "marker": {
             "colorbar": {
              "outlinewidth": 0,
              "ticks": ""
             }
            },
            "type": "scatterternary"
           }
          ],
          "surface": [
           {
            "colorbar": {
             "outlinewidth": 0,
             "ticks": ""
            },
            "colorscale": [
             [
              0,
              "#0d0887"
             ],
             [
              0.1111111111111111,
              "#46039f"
             ],
             [
              0.2222222222222222,
              "#7201a8"
             ],
             [
              0.3333333333333333,
              "#9c179e"
             ],
             [
              0.4444444444444444,
              "#bd3786"
             ],
             [
              0.5555555555555556,
              "#d8576b"
             ],
             [
              0.6666666666666666,
              "#ed7953"
             ],
             [
              0.7777777777777778,
              "#fb9f3a"
             ],
             [
              0.8888888888888888,
              "#fdca26"
             ],
             [
              1,
              "#f0f921"
             ]
            ],
            "type": "surface"
           }
          ],
          "table": [
           {
            "cells": {
             "fill": {
              "color": "#EBF0F8"
             },
             "line": {
              "color": "white"
             }
            },
            "header": {
             "fill": {
              "color": "#C8D4E3"
             },
             "line": {
              "color": "white"
             }
            },
            "type": "table"
           }
          ]
         },
         "layout": {
          "annotationdefaults": {
           "arrowcolor": "#2a3f5f",
           "arrowhead": 0,
           "arrowwidth": 1
          },
          "autotypenumbers": "strict",
          "coloraxis": {
           "colorbar": {
            "outlinewidth": 0,
            "ticks": ""
           }
          },
          "colorscale": {
           "diverging": [
            [
             0,
             "#8e0152"
            ],
            [
             0.1,
             "#c51b7d"
            ],
            [
             0.2,
             "#de77ae"
            ],
            [
             0.3,
             "#f1b6da"
            ],
            [
             0.4,
             "#fde0ef"
            ],
            [
             0.5,
             "#f7f7f7"
            ],
            [
             0.6,
             "#e6f5d0"
            ],
            [
             0.7,
             "#b8e186"
            ],
            [
             0.8,
             "#7fbc41"
            ],
            [
             0.9,
             "#4d9221"
            ],
            [
             1,
             "#276419"
            ]
           ],
           "sequential": [
            [
             0,
             "#0d0887"
            ],
            [
             0.1111111111111111,
             "#46039f"
            ],
            [
             0.2222222222222222,
             "#7201a8"
            ],
            [
             0.3333333333333333,
             "#9c179e"
            ],
            [
             0.4444444444444444,
             "#bd3786"
            ],
            [
             0.5555555555555556,
             "#d8576b"
            ],
            [
             0.6666666666666666,
             "#ed7953"
            ],
            [
             0.7777777777777778,
             "#fb9f3a"
            ],
            [
             0.8888888888888888,
             "#fdca26"
            ],
            [
             1,
             "#f0f921"
            ]
           ],
           "sequentialminus": [
            [
             0,
             "#0d0887"
            ],
            [
             0.1111111111111111,
             "#46039f"
            ],
            [
             0.2222222222222222,
             "#7201a8"
            ],
            [
             0.3333333333333333,
             "#9c179e"
            ],
            [
             0.4444444444444444,
             "#bd3786"
            ],
            [
             0.5555555555555556,
             "#d8576b"
            ],
            [
             0.6666666666666666,
             "#ed7953"
            ],
            [
             0.7777777777777778,
             "#fb9f3a"
            ],
            [
             0.8888888888888888,
             "#fdca26"
            ],
            [
             1,
             "#f0f921"
            ]
           ]
          },
          "colorway": [
           "#636efa",
           "#EF553B",
           "#00cc96",
           "#ab63fa",
           "#FFA15A",
           "#19d3f3",
           "#FF6692",
           "#B6E880",
           "#FF97FF",
           "#FECB52"
          ],
          "font": {
           "color": "#2a3f5f"
          },
          "geo": {
           "bgcolor": "white",
           "lakecolor": "white",
           "landcolor": "#E5ECF6",
           "showlakes": true,
           "showland": true,
           "subunitcolor": "white"
          },
          "hoverlabel": {
           "align": "left"
          },
          "hovermode": "closest",
          "mapbox": {
           "style": "light"
          },
          "paper_bgcolor": "white",
          "plot_bgcolor": "#E5ECF6",
          "polar": {
           "angularaxis": {
            "gridcolor": "white",
            "linecolor": "white",
            "ticks": ""
           },
           "bgcolor": "#E5ECF6",
           "radialaxis": {
            "gridcolor": "white",
            "linecolor": "white",
            "ticks": ""
           }
          },
          "scene": {
           "xaxis": {
            "backgroundcolor": "#E5ECF6",
            "gridcolor": "white",
            "gridwidth": 2,
            "linecolor": "white",
            "showbackground": true,
            "ticks": "",
            "zerolinecolor": "white"
           },
           "yaxis": {
            "backgroundcolor": "#E5ECF6",
            "gridcolor": "white",
            "gridwidth": 2,
            "linecolor": "white",
            "showbackground": true,
            "ticks": "",
            "zerolinecolor": "white"
           },
           "zaxis": {
            "backgroundcolor": "#E5ECF6",
            "gridcolor": "white",
            "gridwidth": 2,
            "linecolor": "white",
            "showbackground": true,
            "ticks": "",
            "zerolinecolor": "white"
           }
          },
          "shapedefaults": {
           "line": {
            "color": "#2a3f5f"
           }
          },
          "ternary": {
           "aaxis": {
            "gridcolor": "white",
            "linecolor": "white",
            "ticks": ""
           },
           "baxis": {
            "gridcolor": "white",
            "linecolor": "white",
            "ticks": ""
           },
           "bgcolor": "#E5ECF6",
           "caxis": {
            "gridcolor": "white",
            "linecolor": "white",
            "ticks": ""
           }
          },
          "title": {
           "x": 0.05
          },
          "xaxis": {
           "automargin": true,
           "gridcolor": "white",
           "linecolor": "white",
           "ticks": "",
           "title": {
            "standoff": 15
           },
           "zerolinecolor": "white",
           "zerolinewidth": 2
          },
          "yaxis": {
           "automargin": true,
           "gridcolor": "white",
           "linecolor": "white",
           "ticks": "",
           "title": {
            "standoff": 15
           },
           "zerolinecolor": "white",
           "zerolinewidth": 2
          }
         }
        },
        "title": {
         "text": "Churn rate by TotalCharges_bins"
        },
        "xaxis": {
         "anchor": "y",
         "domain": [
          0,
          1
         ],
         "title": {
          "text": "TotalCharges_bins"
         }
        },
        "yaxis": {
         "anchor": "x",
         "domain": [
          0,
          1
         ],
         "title": {
          "text": "Count"
         }
        }
       }
      }
     },
     "metadata": {},
     "output_type": "display_data"
    }
   ],
   "source": [
    "#Create an empty dataframe\n",
    "bin_df = pd.DataFrame()\n",
    "\n",
    "#Update the binning dataframe\n",
    "bin_df['tenure_bins'] =  pd.qcut(data_df['tenure'], q=3, labels= ['low', 'medium', 'high'])\n",
    "bin_df['MonthlyCharges_bins'] =  pd.qcut(data_df['MonthlyCharges'], q=3, labels= ['low', 'medium', 'high'])\n",
    "bin_df['TotalCharges_bins'] =  pd.qcut(data_df['TotalCharges'], q=3, labels= ['low', 'medium', 'high'])\n",
    "bin_df['Churn'] = data_df['Churn']\n",
    "\n",
    "#Plot the bar chart of the binned variables\n",
    "bar('tenure_bins', bin_df)\n",
    "bar('MonthlyCharges_bins', bin_df)\n",
    "bar('TotalCharges_bins', bin_df)"
   ]
  },
  {
   "cell_type": "markdown",
   "id": "306f48fa",
   "metadata": {},
   "source": [
    "# Data Preprocessing"
   ]
  },
  {
   "cell_type": "code",
   "execution_count": 31,
   "id": "a4871d34",
   "metadata": {},
   "outputs": [],
   "source": [
    "# The customerID column isnt useful as the feature us used for identification of customers. \n",
    "data_df.drop([\"customerID\"],axis=1,inplace = True)\n",
    "\n",
    "# Encode categorical features\n",
    "\n",
    "#Defining the map function\n",
    "def binary_map(feature):\n",
    "    return feature.map({'Yes':1, 'No':0})\n",
    "\n",
    "## Encoding target feature\n",
    "data_df['Churn'] = data_df[['Churn']].apply(binary_map)\n",
    "\n",
    "# Encoding gender category\n",
    "data_df['gender'] = data_df['gender'].map({'Male':1, 'Female':0})\n",
    "\n",
    "#Encoding other binary category\n",
    "binary_list = ['SeniorCitizen', 'Partner', 'Dependents', 'PhoneService', 'PaperlessBilling']\n",
    "data_df[binary_list] = data_df[binary_list].apply(binary_map)\n",
    "\n",
    "#Encoding the other categoric features with more than two categories\n",
    "data_df = pd.get_dummies(data_df, drop_first=True)"
   ]
  },
  {
   "cell_type": "code",
   "execution_count": 32,
   "id": "a72d1e6a",
   "metadata": {},
   "outputs": [
    {
     "data": {
      "application/vnd.plotly.v1+json": {
       "config": {
        "plotlyServerURL": "https://plot.ly"
       },
       "data": [
        {
         "coloraxis": "coloraxis",
         "hovertemplate": "x: %{x}<br>y: %{y}<br>color: %{z}<extra></extra>",
         "name": "0",
         "type": "heatmap",
         "x": [
          "gender",
          "SeniorCitizen",
          "Partner",
          "Dependents",
          "tenure",
          "PhoneService",
          "PaperlessBilling",
          "MonthlyCharges",
          "TotalCharges",
          "Churn",
          "MultipleLines_No phone service",
          "MultipleLines_Yes",
          "InternetService_Fiber optic",
          "InternetService_No",
          "OnlineSecurity_No internet service",
          "OnlineSecurity_Yes",
          "OnlineBackup_No internet service",
          "OnlineBackup_Yes",
          "DeviceProtection_No internet service",
          "DeviceProtection_Yes",
          "TechSupport_No internet service",
          "TechSupport_Yes",
          "StreamingTV_No internet service",
          "StreamingTV_Yes",
          "StreamingMovies_No internet service",
          "StreamingMovies_Yes",
          "Contract_One year",
          "Contract_Two year",
          "PaymentMethod_Credit card (automatic)",
          "PaymentMethod_Electronic check",
          "PaymentMethod_Mailed check"
         ],
         "xaxis": "x",
         "y": [
          "gender",
          "SeniorCitizen",
          "Partner",
          "Dependents",
          "tenure",
          "PhoneService",
          "PaperlessBilling",
          "MonthlyCharges",
          "TotalCharges",
          "Churn",
          "MultipleLines_No phone service",
          "MultipleLines_Yes",
          "InternetService_Fiber optic",
          "InternetService_No",
          "OnlineSecurity_No internet service",
          "OnlineSecurity_Yes",
          "OnlineBackup_No internet service",
          "OnlineBackup_Yes",
          "DeviceProtection_No internet service",
          "DeviceProtection_Yes",
          "TechSupport_No internet service",
          "TechSupport_Yes",
          "StreamingTV_No internet service",
          "StreamingTV_Yes",
          "StreamingMovies_No internet service",
          "StreamingMovies_Yes",
          "Contract_One year",
          "Contract_Two year",
          "PaymentMethod_Credit card (automatic)",
          "PaymentMethod_Electronic check",
          "PaymentMethod_Mailed check"
         ],
         "yaxis": "y",
         "z": {
          "bdata": "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",
          "dtype": "f8",
          "shape": "31, 31"
         }
        }
       ],
       "layout": {
        "coloraxis": {
         "colorscale": [
          [
           0,
           "#0d0887"
          ],
          [
           0.1111111111111111,
           "#46039f"
          ],
          [
           0.2222222222222222,
           "#7201a8"
          ],
          [
           0.3333333333333333,
           "#9c179e"
          ],
          [
           0.4444444444444444,
           "#bd3786"
          ],
          [
           0.5555555555555556,
           "#d8576b"
          ],
          [
           0.6666666666666666,
           "#ed7953"
          ],
          [
           0.7777777777777778,
           "#fb9f3a"
          ],
          [
           0.8888888888888888,
           "#fdca26"
          ],
          [
           1,
           "#f0f921"
          ]
         ]
        },
        "height": 1000,
        "margin": {
         "t": 60
        },
        "template": {
         "data": {
          "bar": [
           {
            "error_x": {
             "color": "#2a3f5f"
            },
            "error_y": {
             "color": "#2a3f5f"
            },
            "marker": {
             "line": {
              "color": "#E5ECF6",
              "width": 0.5
             },
             "pattern": {
              "fillmode": "overlay",
              "size": 10,
              "solidity": 0.2
             }
            },
            "type": "bar"
           }
          ],
          "barpolar": [
           {
            "marker": {
             "line": {
              "color": "#E5ECF6",
              "width": 0.5
             },
             "pattern": {
              "fillmode": "overlay",
              "size": 10,
              "solidity": 0.2
             }
            },
            "type": "barpolar"
           }
          ],
          "carpet": [
           {
            "aaxis": {
             "endlinecolor": "#2a3f5f",
             "gridcolor": "white",
             "linecolor": "white",
             "minorgridcolor": "white",
             "startlinecolor": "#2a3f5f"
            },
            "baxis": {
             "endlinecolor": "#2a3f5f",
             "gridcolor": "white",
             "linecolor": "white",
             "minorgridcolor": "white",
             "startlinecolor": "#2a3f5f"
            },
            "type": "carpet"
           }
          ],
          "choropleth": [
           {
            "colorbar": {
             "outlinewidth": 0,
             "ticks": ""
            },
            "type": "choropleth"
           }
          ],
          "contour": [
           {
            "colorbar": {
             "outlinewidth": 0,
             "ticks": ""
            },
            "colorscale": [
             [
              0,
              "#0d0887"
             ],
             [
              0.1111111111111111,
              "#46039f"
             ],
             [
              0.2222222222222222,
              "#7201a8"
             ],
             [
              0.3333333333333333,
              "#9c179e"
             ],
             [
              0.4444444444444444,
              "#bd3786"
             ],
             [
              0.5555555555555556,
              "#d8576b"
             ],
             [
              0.6666666666666666,
              "#ed7953"
             ],
             [
              0.7777777777777778,
              "#fb9f3a"
             ],
             [
              0.8888888888888888,
              "#fdca26"
             ],
             [
              1,
              "#f0f921"
             ]
            ],
            "type": "contour"
           }
          ],
          "contourcarpet": [
           {
            "colorbar": {
             "outlinewidth": 0,
             "ticks": ""
            },
            "type": "contourcarpet"
           }
          ],
          "heatmap": [
           {
            "colorbar": {
             "outlinewidth": 0,
             "ticks": ""
            },
            "colorscale": [
             [
              0,
              "#0d0887"
             ],
             [
              0.1111111111111111,
              "#46039f"
             ],
             [
              0.2222222222222222,
              "#7201a8"
             ],
             [
              0.3333333333333333,
              "#9c179e"
             ],
             [
              0.4444444444444444,
              "#bd3786"
             ],
             [
              0.5555555555555556,
              "#d8576b"
             ],
             [
              0.6666666666666666,
              "#ed7953"
             ],
             [
              0.7777777777777778,
              "#fb9f3a"
             ],
             [
              0.8888888888888888,
              "#fdca26"
             ],
             [
              1,
              "#f0f921"
             ]
            ],
            "type": "heatmap"
           }
          ],
          "histogram": [
           {
            "marker": {
             "pattern": {
              "fillmode": "overlay",
              "size": 10,
              "solidity": 0.2
             }
            },
            "type": "histogram"
           }
          ],
          "histogram2d": [
           {
            "colorbar": {
             "outlinewidth": 0,
             "ticks": ""
            },
            "colorscale": [
             [
              0,
              "#0d0887"
             ],
             [
              0.1111111111111111,
              "#46039f"
             ],
             [
              0.2222222222222222,
              "#7201a8"
             ],
             [
              0.3333333333333333,
              "#9c179e"
             ],
             [
              0.4444444444444444,
              "#bd3786"
             ],
             [
              0.5555555555555556,
              "#d8576b"
             ],
             [
              0.6666666666666666,
              "#ed7953"
             ],
             [
              0.7777777777777778,
              "#fb9f3a"
             ],
             [
              0.8888888888888888,
              "#fdca26"
             ],
             [
              1,
              "#f0f921"
             ]
            ],
            "type": "histogram2d"
           }
          ],
          "histogram2dcontour": [
           {
            "colorbar": {
             "outlinewidth": 0,
             "ticks": ""
            },
            "colorscale": [
             [
              0,
              "#0d0887"
             ],
             [
              0.1111111111111111,
              "#46039f"
             ],
             [
              0.2222222222222222,
              "#7201a8"
             ],
             [
              0.3333333333333333,
              "#9c179e"
             ],
             [
              0.4444444444444444,
              "#bd3786"
             ],
             [
              0.5555555555555556,
              "#d8576b"
             ],
             [
              0.6666666666666666,
              "#ed7953"
             ],
             [
              0.7777777777777778,
              "#fb9f3a"
             ],
             [
              0.8888888888888888,
              "#fdca26"
             ],
             [
              1,
              "#f0f921"
             ]
            ],
            "type": "histogram2dcontour"
           }
          ],
          "mesh3d": [
           {
            "colorbar": {
             "outlinewidth": 0,
             "ticks": ""
            },
            "type": "mesh3d"
           }
          ],
          "parcoords": [
           {
            "line": {
             "colorbar": {
              "outlinewidth": 0,
              "ticks": ""
             }
            },
            "type": "parcoords"
           }
          ],
          "pie": [
           {
            "automargin": true,
            "type": "pie"
           }
          ],
          "scatter": [
           {
            "fillpattern": {
             "fillmode": "overlay",
             "size": 10,
             "solidity": 0.2
            },
            "type": "scatter"
           }
          ],
          "scatter3d": [
           {
            "line": {
             "colorbar": {
              "outlinewidth": 0,
              "ticks": ""
             }
            },
            "marker": {
             "colorbar": {
              "outlinewidth": 0,
              "ticks": ""
             }
            },
            "type": "scatter3d"
           }
          ],
          "scattercarpet": [
           {
            "marker": {
             "colorbar": {
              "outlinewidth": 0,
              "ticks": ""
             }
            },
            "type": "scattercarpet"
           }
          ],
          "scattergeo": [
           {
            "marker": {
             "colorbar": {
              "outlinewidth": 0,
              "ticks": ""
             }
            },
            "type": "scattergeo"
           }
          ],
          "scattergl": [
           {
            "marker": {
             "colorbar": {
              "outlinewidth": 0,
              "ticks": ""
             }
            },
            "type": "scattergl"
           }
          ],
          "scattermap": [
           {
            "marker": {
             "colorbar": {
              "outlinewidth": 0,
              "ticks": ""
             }
            },
            "type": "scattermap"
           }
          ],
          "scattermapbox": [
           {
            "marker": {
             "colorbar": {
              "outlinewidth": 0,
              "ticks": ""
             }
            },
            "type": "scattermapbox"
           }
          ],
          "scatterpolar": [
           {
            "marker": {
             "colorbar": {
              "outlinewidth": 0,
              "ticks": ""
             }
            },
            "type": "scatterpolar"
           }
          ],
          "scatterpolargl": [
           {
            "marker": {
             "colorbar": {
              "outlinewidth": 0,
              "ticks": ""
             }
            },
            "type": "scatterpolargl"
           }
          ],
          "scatterternary": [
           {
            "marker": {
             "colorbar": {
              "outlinewidth": 0,
              "ticks": ""
             }
            },
            "type": "scatterternary"
           }
          ],
          "surface": [
           {
            "colorbar": {
             "outlinewidth": 0,
             "ticks": ""
            },
            "colorscale": [
             [
              0,
              "#0d0887"
             ],
             [
              0.1111111111111111,
              "#46039f"
             ],
             [
              0.2222222222222222,
              "#7201a8"
             ],
             [
              0.3333333333333333,
              "#9c179e"
             ],
             [
              0.4444444444444444,
              "#bd3786"
             ],
             [
              0.5555555555555556,
              "#d8576b"
             ],
             [
              0.6666666666666666,
              "#ed7953"
             ],
             [
              0.7777777777777778,
              "#fb9f3a"
             ],
             [
              0.8888888888888888,
              "#fdca26"
             ],
             [
              1,
              "#f0f921"
             ]
            ],
            "type": "surface"
           }
          ],
          "table": [
           {
            "cells": {
             "fill": {
              "color": "#EBF0F8"
             },
             "line": {
              "color": "white"
             }
            },
            "header": {
             "fill": {
              "color": "#C8D4E3"
             },
             "line": {
              "color": "white"
             }
            },
            "type": "table"
           }
          ]
         },
         "layout": {
          "annotationdefaults": {
           "arrowcolor": "#2a3f5f",
           "arrowhead": 0,
           "arrowwidth": 1
          },
          "autotypenumbers": "strict",
          "coloraxis": {
           "colorbar": {
            "outlinewidth": 0,
            "ticks": ""
           }
          },
          "colorscale": {
           "diverging": [
            [
             0,
             "#8e0152"
            ],
            [
             0.1,
             "#c51b7d"
            ],
            [
             0.2,
             "#de77ae"
            ],
            [
             0.3,
             "#f1b6da"
            ],
            [
             0.4,
             "#fde0ef"
            ],
            [
             0.5,
             "#f7f7f7"
            ],
            [
             0.6,
             "#e6f5d0"
            ],
            [
             0.7,
             "#b8e186"
            ],
            [
             0.8,
             "#7fbc41"
            ],
            [
             0.9,
             "#4d9221"
            ],
            [
             1,
             "#276419"
            ]
           ],
           "sequential": [
            [
             0,
             "#0d0887"
            ],
            [
             0.1111111111111111,
             "#46039f"
            ],
            [
             0.2222222222222222,
             "#7201a8"
            ],
            [
             0.3333333333333333,
             "#9c179e"
            ],
            [
             0.4444444444444444,
             "#bd3786"
            ],
            [
             0.5555555555555556,
             "#d8576b"
            ],
            [
             0.6666666666666666,
             "#ed7953"
            ],
            [
             0.7777777777777778,
             "#fb9f3a"
            ],
            [
             0.8888888888888888,
             "#fdca26"
            ],
            [
             1,
             "#f0f921"
            ]
           ],
           "sequentialminus": [
            [
             0,
             "#0d0887"
            ],
            [
             0.1111111111111111,
             "#46039f"
            ],
            [
             0.2222222222222222,
             "#7201a8"
            ],
            [
             0.3333333333333333,
             "#9c179e"
            ],
            [
             0.4444444444444444,
             "#bd3786"
            ],
            [
             0.5555555555555556,
             "#d8576b"
            ],
            [
             0.6666666666666666,
             "#ed7953"
            ],
            [
             0.7777777777777778,
             "#fb9f3a"
            ],
            [
             0.8888888888888888,
             "#fdca26"
            ],
            [
             1,
             "#f0f921"
            ]
           ]
          },
          "colorway": [
           "#636efa",
           "#EF553B",
           "#00cc96",
           "#ab63fa",
           "#FFA15A",
           "#19d3f3",
           "#FF6692",
           "#B6E880",
           "#FF97FF",
           "#FECB52"
          ],
          "font": {
           "color": "#2a3f5f"
          },
          "geo": {
           "bgcolor": "white",
           "lakecolor": "white",
           "landcolor": "#E5ECF6",
           "showlakes": true,
           "showland": true,
           "subunitcolor": "white"
          },
          "hoverlabel": {
           "align": "left"
          },
          "hovermode": "closest",
          "mapbox": {
           "style": "light"
          },
          "paper_bgcolor": "white",
          "plot_bgcolor": "#E5ECF6",
          "polar": {
           "angularaxis": {
            "gridcolor": "white",
            "linecolor": "white",
            "ticks": ""
           },
           "bgcolor": "#E5ECF6",
           "radialaxis": {
            "gridcolor": "white",
            "linecolor": "white",
            "ticks": ""
           }
          },
          "scene": {
           "xaxis": {
            "backgroundcolor": "#E5ECF6",
            "gridcolor": "white",
            "gridwidth": 2,
            "linecolor": "white",
            "showbackground": true,
            "ticks": "",
            "zerolinecolor": "white"
           },
           "yaxis": {
            "backgroundcolor": "#E5ECF6",
            "gridcolor": "white",
            "gridwidth": 2,
            "linecolor": "white",
            "showbackground": true,
            "ticks": "",
            "zerolinecolor": "white"
           },
           "zaxis": {
            "backgroundcolor": "#E5ECF6",
            "gridcolor": "white",
            "gridwidth": 2,
            "linecolor": "white",
            "showbackground": true,
            "ticks": "",
            "zerolinecolor": "white"
           }
          },
          "shapedefaults": {
           "line": {
            "color": "#2a3f5f"
           }
          },
          "ternary": {
           "aaxis": {
            "gridcolor": "white",
            "linecolor": "white",
            "ticks": ""
           },
           "baxis": {
            "gridcolor": "white",
            "linecolor": "white",
            "ticks": ""
           },
           "bgcolor": "#E5ECF6",
           "caxis": {
            "gridcolor": "white",
            "linecolor": "white",
            "ticks": ""
           }
          },
          "title": {
           "x": 0.05
          },
          "xaxis": {
           "automargin": true,
           "gridcolor": "white",
           "linecolor": "white",
           "ticks": "",
           "title": {
            "standoff": 15
           },
           "zerolinecolor": "white",
           "zerolinewidth": 2
          },
          "yaxis": {
           "automargin": true,
           "gridcolor": "white",
           "linecolor": "white",
           "ticks": "",
           "title": {
            "standoff": 15
           },
           "zerolinecolor": "white",
           "zerolinewidth": 2
          }
         }
        },
        "width": 1000,
        "xaxis": {
         "anchor": "y",
         "constrain": "domain",
         "domain": [
          0,
          1
         ],
         "scaleanchor": "y"
        },
        "yaxis": {
         "anchor": "x",
         "autorange": "reversed",
         "constrain": "domain",
         "domain": [
          0,
          1
         ]
        }
       }
      }
     },
     "metadata": {},
     "output_type": "display_data"
    }
   ],
   "source": [
    "# Checking the correlation between features\n",
    "corr = data_df.corr()\n",
    "\n",
    "fig = px.imshow(corr,width=1000, height=1000)\n",
    "fig.show()"
   ]
  },
  {
   "cell_type": "code",
   "execution_count": 34,
   "id": "e54f47fe",
   "metadata": {},
   "outputs": [
    {
     "name": "stdout",
     "output_type": "stream",
     "text": [
      "                 Generalized Linear Model Regression Results                  \n",
      "==============================================================================\n",
      "Dep. Variable:                  Churn   No. Observations:                 7043\n",
      "Model:                            GLM   Df Residuals:                     7019\n",
      "Model Family:                Binomial   Df Model:                           23\n",
      "Link Function:                  Logit   Scale:                          1.0000\n",
      "Method:                          IRLS   Log-Likelihood:                -2914.7\n",
      "Date:                Thu, 10 Jul 2025   Deviance:                       5829.3\n",
      "Time:                        22:02:43   Pearson chi2:                 8.04e+03\n",
      "No. Iterations:                     7   Pseudo R-squ. (CS):             0.2807\n",
      "Covariance Type:            nonrobust                                         \n",
      "=================================================================================================================\n",
      "                                                    coef    std err          z      P>|z|      [0.025      0.975]\n",
      "-----------------------------------------------------------------------------------------------------------------\n",
      "Intercept                                         0.8274      0.748      1.106      0.269      -0.639       2.294\n",
      "MultipleLines_No_phone_service[T.True]            0.3238      0.106      3.061      0.002       0.116       0.531\n",
      "MultipleLines_Yes[T.True]                         0.4469      0.177      2.524      0.012       0.100       0.794\n",
      "InternetService_Fiber_optic[T.True]               1.7530      0.798      2.198      0.028       0.190       3.316\n",
      "InternetService_No[T.True]                       -0.2559      0.115     -2.220      0.026      -0.482      -0.030\n",
      "OnlineSecurity_No_internet_service[T.True]       -0.2559      0.115     -2.220      0.026      -0.482      -0.030\n",
      "OnlineSecurity_Yes[T.True]                       -0.2055      0.179     -1.150      0.250      -0.556       0.145\n",
      "OnlineBackup_No_internet_service[T.True]         -0.2559      0.115     -2.220      0.026      -0.482      -0.030\n",
      "OnlineBackup_Yes[T.True]                          0.0258      0.175      0.147      0.883      -0.318       0.369\n",
      "DeviceProtection_No_internet_service[T.True]     -0.2559      0.115     -2.220      0.026      -0.482      -0.030\n",
      "DeviceProtection_Yes[T.True]                      0.1477      0.176      0.838      0.402      -0.198       0.493\n",
      "TechSupport_No_internet_service[T.True]          -0.2559      0.115     -2.220      0.026      -0.482      -0.030\n",
      "TechSupport_Yes[T.True]                          -0.1789      0.180     -0.991      0.322      -0.533       0.175\n",
      "StreamingTV_No_internet_service[T.True]          -0.2559      0.115     -2.220      0.026      -0.482      -0.030\n",
      "StreamingTV_Yes[T.True]                           0.5912      0.326      1.813      0.070      -0.048       1.230\n",
      "StreamingMovies_No_internet_service[T.True]      -0.2559      0.115     -2.220      0.026      -0.482      -0.030\n",
      "StreamingMovies_Yes[T.True]                       0.6038      0.326      1.850      0.064      -0.036       1.244\n",
      "Contract_One_year[T.True]                        -0.6671      0.107     -6.208      0.000      -0.878      -0.456\n",
      "Contract_Two_year[T.True]                        -1.3896      0.176     -7.904      0.000      -1.734      -1.045\n",
      "PaymentMethod_Credit_card__automatic_[T.True]    -0.0865      0.114     -0.758      0.448      -0.310       0.137\n",
      "PaymentMethod_Electronic_check[T.True]            0.3057      0.094      3.236      0.001       0.121       0.491\n",
      "PaymentMethod_Mailed_check[T.True]               -0.0567      0.115     -0.493      0.622      -0.282       0.168\n",
      "gender                                           -0.0219      0.065     -0.338      0.736      -0.149       0.105\n",
      "SeniorCitizen                                     0.2151      0.085      2.545      0.011       0.049       0.381\n",
      "Partner                                          -0.0027      0.078     -0.035      0.972      -0.155       0.150\n",
      "Dependents                                       -0.1538      0.090     -1.714      0.087      -0.330       0.022\n",
      "tenure                                           -0.0594      0.006     -9.649      0.000      -0.071      -0.047\n",
      "PhoneService                                      0.5036      0.692      0.728      0.467      -0.852       1.860\n",
      "PaperlessBilling                                  0.3418      0.074      4.590      0.000       0.196       0.488\n",
      "MonthlyCharges                                   -0.0404      0.032     -1.272      0.203      -0.103       0.022\n",
      "TotalCharges                                      0.0003   7.01e-05      4.543      0.000       0.000       0.000\n",
      "=================================================================================================================\n"
     ]
    }
   ],
   "source": [
    "import statsmodels.api as sm\n",
    "import statsmodels.formula.api as smf\n",
    "\n",
    "#Change variable name seperators to '_'\n",
    "all_columns = [column.replace(\" \", \"_\").replace(\"(\", \"_\").replace(\")\", \"_\").replace(\"-\", \"_\") for column in data_df.columns]\n",
    "\n",
    "#Effect the change to the dataframe column names\n",
    "data_df.columns = all_columns\n",
    "\n",
    "#Prepare it for the GLM formula\n",
    "glm_columns = [e for e in all_columns if e not in ['customerID', 'Churn']]\n",
    "glm_columns = ' + '.join(map(str, glm_columns))\n",
    "\n",
    "#Fiting it to the Generalized Linear Model\n",
    "glm_model = smf.glm(formula=f'Churn ~ {glm_columns}', data=data_df, family=sm.families.Binomial())\n",
    "res = glm_model.fit()\n",
    "print(res.summary())"
   ]
  },
  {
   "cell_type": "code",
   "execution_count": 35,
   "id": "890e1b6f",
   "metadata": {},
   "outputs": [
    {
     "data": {
      "text/plain": [
       "Intercept                                        2.287343\n",
       "MultipleLines_No_phone_service[T.True]           1.382358\n",
       "MultipleLines_Yes[T.True]                        1.563475\n",
       "InternetService_Fiber_optic[T.True]              5.771657\n",
       "InternetService_No[T.True]                       0.774257\n",
       "OnlineSecurity_No_internet_service[T.True]       0.774257\n",
       "OnlineSecurity_Yes[T.True]                       0.814269\n",
       "OnlineBackup_No_internet_service[T.True]         0.774257\n",
       "OnlineBackup_Yes[T.True]                         1.026127\n",
       "DeviceProtection_No_internet_service[T.True]     0.774257\n",
       "DeviceProtection_Yes[T.True]                     1.159152\n",
       "TechSupport_No_internet_service[T.True]          0.774257\n",
       "TechSupport_Yes[T.True]                          0.836193\n",
       "StreamingTV_No_internet_service[T.True]          0.774257\n",
       "StreamingTV_Yes[T.True]                          1.806134\n",
       "StreamingMovies_No_internet_service[T.True]      0.774257\n",
       "StreamingMovies_Yes[T.True]                      1.829067\n",
       "Contract_One_year[T.True]                        0.513185\n",
       "Contract_Two_year[T.True]                        0.249179\n",
       "PaymentMethod_Credit_card__automatic_[T.True]    0.917142\n",
       "PaymentMethod_Electronic_check[T.True]           1.357617\n",
       "PaymentMethod_Mailed_check[T.True]               0.944913\n",
       "gender                                           0.978355\n",
       "SeniorCitizen                                    1.239957\n",
       "Partner                                          0.997312\n",
       "Dependents                                       0.857471\n",
       "tenure                                           0.942322\n",
       "PhoneService                                     1.654668\n",
       "PaperlessBilling                                 1.407543\n",
       "MonthlyCharges                                   0.960432\n",
       "TotalCharges                                     1.000318\n",
       "dtype: float64"
      ]
     },
     "execution_count": 35,
     "metadata": {},
     "output_type": "execute_result"
    }
   ],
   "source": [
    "np.exp(res.params)"
   ]
  },
  {
   "cell_type": "code",
   "execution_count": 37,
   "id": "db2ee48d",
   "metadata": {},
   "outputs": [],
   "source": [
    "#feature scaling\n",
    "from sklearn.preprocessing import MinMaxScaler\n",
    "sc = MinMaxScaler()\n",
    "data_df['tenure'] = sc.fit_transform(data_df[['tenure']])\n",
    "data_df['MonthlyCharges'] = sc.fit_transform(data_df[['MonthlyCharges']])\n",
    "data_df['TotalCharges'] = sc.fit_transform(data_df[['TotalCharges']])"
   ]
  },
  {
   "cell_type": "markdown",
   "id": "3413958c",
   "metadata": {},
   "source": [
    "# Creating a BAseline Model"
   ]
  },
  {
   "cell_type": "code",
   "execution_count": 38,
   "id": "0ed56d01",
   "metadata": {},
   "outputs": [],
   "source": [
    "# Import Machine learning algorithms\n",
    "from sklearn.linear_model import LogisticRegression\n",
    "from sklearn.svm import SVC\n",
    "from sklearn.ensemble import RandomForestClassifier\n",
    "from sklearn.tree import DecisionTreeClassifier\n",
    "from sklearn.naive_bayes import GaussianNB\n",
    "\n",
    "#Import metric for performance evaluation\n",
    "from sklearn.metrics import accuracy_score, precision_score, recall_score, f1_score\n",
    "\n",
    "#Split data into train and test sets\n",
    "from sklearn.model_selection import train_test_split\n",
    "X = data_df.drop('Churn', axis=1)\n",
    "y = data_df['Churn']\n",
    "X_train, X_test, y_train, y_test = train_test_split(X, y, test_size=0.3, random_state=50) "
   ]
  },
  {
   "cell_type": "code",
   "execution_count": 39,
   "id": "6c190676",
   "metadata": {},
   "outputs": [],
   "source": [
    "def modeling(alg, alg_name, params={}):\n",
    "    model = alg(**params) #Instantiating the algorithm class and unpacking parameters if any\n",
    "    model.fit(X_train, y_train)\n",
    "    y_pred = model.predict(X_test)\n",
    "    \n",
    "    #Performance evaluation\n",
    "    def print_scores(alg, y_true, y_pred):\n",
    "        print(alg_name)\n",
    "        acc_score = accuracy_score(y_true, y_pred)\n",
    "        print(\"accuracy: \",acc_score)\n",
    "        pre_score = precision_score(y_true, y_pred)\n",
    "        print(\"precision: \",pre_score)\n",
    "        rec_score = recall_score(y_true, y_pred)                            \n",
    "        print(\"recall: \",rec_score)\n",
    "        f_score = f1_score(y_true, y_pred, average='weighted')\n",
    "        print(\"f1_score: \",f_score)\n",
    "\n",
    "    print_scores(alg, y_test, y_pred)\n",
    "    return model"
   ]
  },
  {
   "cell_type": "code",
   "execution_count": 40,
   "id": "f0adb2ce",
   "metadata": {},
   "outputs": [
    {
     "name": "stdout",
     "output_type": "stream",
     "text": [
      "Logistic Regression\n",
      "accuracy:  0.7979176526265973\n",
      "precision:  0.6274509803921569\n",
      "recall:  0.5745062836624776\n",
      "f1_score:  0.7949702200781946\n"
     ]
    }
   ],
   "source": [
    "# Running logistic regression model\n",
    "log_model = modeling(LogisticRegression, 'Logistic Regression')"
   ]
  },
  {
   "cell_type": "code",
   "execution_count": 41,
   "id": "02b8d7b5",
   "metadata": {},
   "outputs": [
    {
     "data": {
      "text/html": [
       "<style>#sk-container-id-1 {\n",
       "  /* Definition of color scheme common for light and dark mode */\n",
       "  --sklearn-color-text: #000;\n",
       "  --sklearn-color-text-muted: #666;\n",
       "  --sklearn-color-line: gray;\n",
       "  /* Definition of color scheme for unfitted estimators */\n",
       "  --sklearn-color-unfitted-level-0: #fff5e6;\n",
       "  --sklearn-color-unfitted-level-1: #f6e4d2;\n",
       "  --sklearn-color-unfitted-level-2: #ffe0b3;\n",
       "  --sklearn-color-unfitted-level-3: chocolate;\n",
       "  /* Definition of color scheme for fitted estimators */\n",
       "  --sklearn-color-fitted-level-0: #f0f8ff;\n",
       "  --sklearn-color-fitted-level-1: #d4ebff;\n",
       "  --sklearn-color-fitted-level-2: #b3dbfd;\n",
       "  --sklearn-color-fitted-level-3: cornflowerblue;\n",
       "\n",
       "  /* Specific color for light theme */\n",
       "  --sklearn-color-text-on-default-background: var(--sg-text-color, var(--theme-code-foreground, var(--jp-content-font-color1, black)));\n",
       "  --sklearn-color-background: var(--sg-background-color, var(--theme-background, var(--jp-layout-color0, white)));\n",
       "  --sklearn-color-border-box: var(--sg-text-color, var(--theme-code-foreground, var(--jp-content-font-color1, black)));\n",
       "  --sklearn-color-icon: #696969;\n",
       "\n",
       "  @media (prefers-color-scheme: dark) {\n",
       "    /* Redefinition of color scheme for dark theme */\n",
       "    --sklearn-color-text-on-default-background: var(--sg-text-color, var(--theme-code-foreground, var(--jp-content-font-color1, white)));\n",
       "    --sklearn-color-background: var(--sg-background-color, var(--theme-background, var(--jp-layout-color0, #111)));\n",
       "    --sklearn-color-border-box: var(--sg-text-color, var(--theme-code-foreground, var(--jp-content-font-color1, white)));\n",
       "    --sklearn-color-icon: #878787;\n",
       "  }\n",
       "}\n",
       "\n",
       "#sk-container-id-1 {\n",
       "  color: var(--sklearn-color-text);\n",
       "}\n",
       "\n",
       "#sk-container-id-1 pre {\n",
       "  padding: 0;\n",
       "}\n",
       "\n",
       "#sk-container-id-1 input.sk-hidden--visually {\n",
       "  border: 0;\n",
       "  clip: rect(1px 1px 1px 1px);\n",
       "  clip: rect(1px, 1px, 1px, 1px);\n",
       "  height: 1px;\n",
       "  margin: -1px;\n",
       "  overflow: hidden;\n",
       "  padding: 0;\n",
       "  position: absolute;\n",
       "  width: 1px;\n",
       "}\n",
       "\n",
       "#sk-container-id-1 div.sk-dashed-wrapped {\n",
       "  border: 1px dashed var(--sklearn-color-line);\n",
       "  margin: 0 0.4em 0.5em 0.4em;\n",
       "  box-sizing: border-box;\n",
       "  padding-bottom: 0.4em;\n",
       "  background-color: var(--sklearn-color-background);\n",
       "}\n",
       "\n",
       "#sk-container-id-1 div.sk-container {\n",
       "  /* jupyter's `normalize.less` sets `[hidden] { display: none; }`\n",
       "     but bootstrap.min.css set `[hidden] { display: none !important; }`\n",
       "     so we also need the `!important` here to be able to override the\n",
       "     default hidden behavior on the sphinx rendered scikit-learn.org.\n",
       "     See: https://github.com/scikit-learn/scikit-learn/issues/21755 */\n",
       "  display: inline-block !important;\n",
       "  position: relative;\n",
       "}\n",
       "\n",
       "#sk-container-id-1 div.sk-text-repr-fallback {\n",
       "  display: none;\n",
       "}\n",
       "\n",
       "div.sk-parallel-item,\n",
       "div.sk-serial,\n",
       "div.sk-item {\n",
       "  /* draw centered vertical line to link estimators */\n",
       "  background-image: linear-gradient(var(--sklearn-color-text-on-default-background), var(--sklearn-color-text-on-default-background));\n",
       "  background-size: 2px 100%;\n",
       "  background-repeat: no-repeat;\n",
       "  background-position: center center;\n",
       "}\n",
       "\n",
       "/* Parallel-specific style estimator block */\n",
       "\n",
       "#sk-container-id-1 div.sk-parallel-item::after {\n",
       "  content: \"\";\n",
       "  width: 100%;\n",
       "  border-bottom: 2px solid var(--sklearn-color-text-on-default-background);\n",
       "  flex-grow: 1;\n",
       "}\n",
       "\n",
       "#sk-container-id-1 div.sk-parallel {\n",
       "  display: flex;\n",
       "  align-items: stretch;\n",
       "  justify-content: center;\n",
       "  background-color: var(--sklearn-color-background);\n",
       "  position: relative;\n",
       "}\n",
       "\n",
       "#sk-container-id-1 div.sk-parallel-item {\n",
       "  display: flex;\n",
       "  flex-direction: column;\n",
       "}\n",
       "\n",
       "#sk-container-id-1 div.sk-parallel-item:first-child::after {\n",
       "  align-self: flex-end;\n",
       "  width: 50%;\n",
       "}\n",
       "\n",
       "#sk-container-id-1 div.sk-parallel-item:last-child::after {\n",
       "  align-self: flex-start;\n",
       "  width: 50%;\n",
       "}\n",
       "\n",
       "#sk-container-id-1 div.sk-parallel-item:only-child::after {\n",
       "  width: 0;\n",
       "}\n",
       "\n",
       "/* Serial-specific style estimator block */\n",
       "\n",
       "#sk-container-id-1 div.sk-serial {\n",
       "  display: flex;\n",
       "  flex-direction: column;\n",
       "  align-items: center;\n",
       "  background-color: var(--sklearn-color-background);\n",
       "  padding-right: 1em;\n",
       "  padding-left: 1em;\n",
       "}\n",
       "\n",
       "\n",
       "/* Toggleable style: style used for estimator/Pipeline/ColumnTransformer box that is\n",
       "clickable and can be expanded/collapsed.\n",
       "- Pipeline and ColumnTransformer use this feature and define the default style\n",
       "- Estimators will overwrite some part of the style using the `sk-estimator` class\n",
       "*/\n",
       "\n",
       "/* Pipeline and ColumnTransformer style (default) */\n",
       "\n",
       "#sk-container-id-1 div.sk-toggleable {\n",
       "  /* Default theme specific background. It is overwritten whether we have a\n",
       "  specific estimator or a Pipeline/ColumnTransformer */\n",
       "  background-color: var(--sklearn-color-background);\n",
       "}\n",
       "\n",
       "/* Toggleable label */\n",
       "#sk-container-id-1 label.sk-toggleable__label {\n",
       "  cursor: pointer;\n",
       "  display: flex;\n",
       "  width: 100%;\n",
       "  margin-bottom: 0;\n",
       "  padding: 0.5em;\n",
       "  box-sizing: border-box;\n",
       "  text-align: center;\n",
       "  align-items: start;\n",
       "  justify-content: space-between;\n",
       "  gap: 0.5em;\n",
       "}\n",
       "\n",
       "#sk-container-id-1 label.sk-toggleable__label .caption {\n",
       "  font-size: 0.6rem;\n",
       "  font-weight: lighter;\n",
       "  color: var(--sklearn-color-text-muted);\n",
       "}\n",
       "\n",
       "#sk-container-id-1 label.sk-toggleable__label-arrow:before {\n",
       "  /* Arrow on the left of the label */\n",
       "  content: \"▸\";\n",
       "  float: left;\n",
       "  margin-right: 0.25em;\n",
       "  color: var(--sklearn-color-icon);\n",
       "}\n",
       "\n",
       "#sk-container-id-1 label.sk-toggleable__label-arrow:hover:before {\n",
       "  color: var(--sklearn-color-text);\n",
       "}\n",
       "\n",
       "/* Toggleable content - dropdown */\n",
       "\n",
       "#sk-container-id-1 div.sk-toggleable__content {\n",
       "  display: none;\n",
       "  text-align: left;\n",
       "  /* unfitted */\n",
       "  background-color: var(--sklearn-color-unfitted-level-0);\n",
       "}\n",
       "\n",
       "#sk-container-id-1 div.sk-toggleable__content.fitted {\n",
       "  /* fitted */\n",
       "  background-color: var(--sklearn-color-fitted-level-0);\n",
       "}\n",
       "\n",
       "#sk-container-id-1 div.sk-toggleable__content pre {\n",
       "  margin: 0.2em;\n",
       "  border-radius: 0.25em;\n",
       "  color: var(--sklearn-color-text);\n",
       "  /* unfitted */\n",
       "  background-color: var(--sklearn-color-unfitted-level-0);\n",
       "}\n",
       "\n",
       "#sk-container-id-1 div.sk-toggleable__content.fitted pre {\n",
       "  /* unfitted */\n",
       "  background-color: var(--sklearn-color-fitted-level-0);\n",
       "}\n",
       "\n",
       "#sk-container-id-1 input.sk-toggleable__control:checked~div.sk-toggleable__content {\n",
       "  /* Expand drop-down */\n",
       "  display: block;\n",
       "  width: 100%;\n",
       "  overflow: visible;\n",
       "}\n",
       "\n",
       "#sk-container-id-1 input.sk-toggleable__control:checked~label.sk-toggleable__label-arrow:before {\n",
       "  content: \"▾\";\n",
       "}\n",
       "\n",
       "/* Pipeline/ColumnTransformer-specific style */\n",
       "\n",
       "#sk-container-id-1 div.sk-label input.sk-toggleable__control:checked~label.sk-toggleable__label {\n",
       "  color: var(--sklearn-color-text);\n",
       "  background-color: var(--sklearn-color-unfitted-level-2);\n",
       "}\n",
       "\n",
       "#sk-container-id-1 div.sk-label.fitted input.sk-toggleable__control:checked~label.sk-toggleable__label {\n",
       "  background-color: var(--sklearn-color-fitted-level-2);\n",
       "}\n",
       "\n",
       "/* Estimator-specific style */\n",
       "\n",
       "/* Colorize estimator box */\n",
       "#sk-container-id-1 div.sk-estimator input.sk-toggleable__control:checked~label.sk-toggleable__label {\n",
       "  /* unfitted */\n",
       "  background-color: var(--sklearn-color-unfitted-level-2);\n",
       "}\n",
       "\n",
       "#sk-container-id-1 div.sk-estimator.fitted input.sk-toggleable__control:checked~label.sk-toggleable__label {\n",
       "  /* fitted */\n",
       "  background-color: var(--sklearn-color-fitted-level-2);\n",
       "}\n",
       "\n",
       "#sk-container-id-1 div.sk-label label.sk-toggleable__label,\n",
       "#sk-container-id-1 div.sk-label label {\n",
       "  /* The background is the default theme color */\n",
       "  color: var(--sklearn-color-text-on-default-background);\n",
       "}\n",
       "\n",
       "/* On hover, darken the color of the background */\n",
       "#sk-container-id-1 div.sk-label:hover label.sk-toggleable__label {\n",
       "  color: var(--sklearn-color-text);\n",
       "  background-color: var(--sklearn-color-unfitted-level-2);\n",
       "}\n",
       "\n",
       "/* Label box, darken color on hover, fitted */\n",
       "#sk-container-id-1 div.sk-label.fitted:hover label.sk-toggleable__label.fitted {\n",
       "  color: var(--sklearn-color-text);\n",
       "  background-color: var(--sklearn-color-fitted-level-2);\n",
       "}\n",
       "\n",
       "/* Estimator label */\n",
       "\n",
       "#sk-container-id-1 div.sk-label label {\n",
       "  font-family: monospace;\n",
       "  font-weight: bold;\n",
       "  display: inline-block;\n",
       "  line-height: 1.2em;\n",
       "}\n",
       "\n",
       "#sk-container-id-1 div.sk-label-container {\n",
       "  text-align: center;\n",
       "}\n",
       "\n",
       "/* Estimator-specific */\n",
       "#sk-container-id-1 div.sk-estimator {\n",
       "  font-family: monospace;\n",
       "  border: 1px dotted var(--sklearn-color-border-box);\n",
       "  border-radius: 0.25em;\n",
       "  box-sizing: border-box;\n",
       "  margin-bottom: 0.5em;\n",
       "  /* unfitted */\n",
       "  background-color: var(--sklearn-color-unfitted-level-0);\n",
       "}\n",
       "\n",
       "#sk-container-id-1 div.sk-estimator.fitted {\n",
       "  /* fitted */\n",
       "  background-color: var(--sklearn-color-fitted-level-0);\n",
       "}\n",
       "\n",
       "/* on hover */\n",
       "#sk-container-id-1 div.sk-estimator:hover {\n",
       "  /* unfitted */\n",
       "  background-color: var(--sklearn-color-unfitted-level-2);\n",
       "}\n",
       "\n",
       "#sk-container-id-1 div.sk-estimator.fitted:hover {\n",
       "  /* fitted */\n",
       "  background-color: var(--sklearn-color-fitted-level-2);\n",
       "}\n",
       "\n",
       "/* Specification for estimator info (e.g. \"i\" and \"?\") */\n",
       "\n",
       "/* Common style for \"i\" and \"?\" */\n",
       "\n",
       ".sk-estimator-doc-link,\n",
       "a:link.sk-estimator-doc-link,\n",
       "a:visited.sk-estimator-doc-link {\n",
       "  float: right;\n",
       "  font-size: smaller;\n",
       "  line-height: 1em;\n",
       "  font-family: monospace;\n",
       "  background-color: var(--sklearn-color-background);\n",
       "  border-radius: 1em;\n",
       "  height: 1em;\n",
       "  width: 1em;\n",
       "  text-decoration: none !important;\n",
       "  margin-left: 0.5em;\n",
       "  text-align: center;\n",
       "  /* unfitted */\n",
       "  border: var(--sklearn-color-unfitted-level-1) 1pt solid;\n",
       "  color: var(--sklearn-color-unfitted-level-1);\n",
       "}\n",
       "\n",
       ".sk-estimator-doc-link.fitted,\n",
       "a:link.sk-estimator-doc-link.fitted,\n",
       "a:visited.sk-estimator-doc-link.fitted {\n",
       "  /* fitted */\n",
       "  border: var(--sklearn-color-fitted-level-1) 1pt solid;\n",
       "  color: var(--sklearn-color-fitted-level-1);\n",
       "}\n",
       "\n",
       "/* On hover */\n",
       "div.sk-estimator:hover .sk-estimator-doc-link:hover,\n",
       ".sk-estimator-doc-link:hover,\n",
       "div.sk-label-container:hover .sk-estimator-doc-link:hover,\n",
       ".sk-estimator-doc-link:hover {\n",
       "  /* unfitted */\n",
       "  background-color: var(--sklearn-color-unfitted-level-3);\n",
       "  color: var(--sklearn-color-background);\n",
       "  text-decoration: none;\n",
       "}\n",
       "\n",
       "div.sk-estimator.fitted:hover .sk-estimator-doc-link.fitted:hover,\n",
       ".sk-estimator-doc-link.fitted:hover,\n",
       "div.sk-label-container:hover .sk-estimator-doc-link.fitted:hover,\n",
       ".sk-estimator-doc-link.fitted:hover {\n",
       "  /* fitted */\n",
       "  background-color: var(--sklearn-color-fitted-level-3);\n",
       "  color: var(--sklearn-color-background);\n",
       "  text-decoration: none;\n",
       "}\n",
       "\n",
       "/* Span, style for the box shown on hovering the info icon */\n",
       ".sk-estimator-doc-link span {\n",
       "  display: none;\n",
       "  z-index: 9999;\n",
       "  position: relative;\n",
       "  font-weight: normal;\n",
       "  right: .2ex;\n",
       "  padding: .5ex;\n",
       "  margin: .5ex;\n",
       "  width: min-content;\n",
       "  min-width: 20ex;\n",
       "  max-width: 50ex;\n",
       "  color: var(--sklearn-color-text);\n",
       "  box-shadow: 2pt 2pt 4pt #999;\n",
       "  /* unfitted */\n",
       "  background: var(--sklearn-color-unfitted-level-0);\n",
       "  border: .5pt solid var(--sklearn-color-unfitted-level-3);\n",
       "}\n",
       "\n",
       ".sk-estimator-doc-link.fitted span {\n",
       "  /* fitted */\n",
       "  background: var(--sklearn-color-fitted-level-0);\n",
       "  border: var(--sklearn-color-fitted-level-3);\n",
       "}\n",
       "\n",
       ".sk-estimator-doc-link:hover span {\n",
       "  display: block;\n",
       "}\n",
       "\n",
       "/* \"?\"-specific style due to the `<a>` HTML tag */\n",
       "\n",
       "#sk-container-id-1 a.estimator_doc_link {\n",
       "  float: right;\n",
       "  font-size: 1rem;\n",
       "  line-height: 1em;\n",
       "  font-family: monospace;\n",
       "  background-color: var(--sklearn-color-background);\n",
       "  border-radius: 1rem;\n",
       "  height: 1rem;\n",
       "  width: 1rem;\n",
       "  text-decoration: none;\n",
       "  /* unfitted */\n",
       "  color: var(--sklearn-color-unfitted-level-1);\n",
       "  border: var(--sklearn-color-unfitted-level-1) 1pt solid;\n",
       "}\n",
       "\n",
       "#sk-container-id-1 a.estimator_doc_link.fitted {\n",
       "  /* fitted */\n",
       "  border: var(--sklearn-color-fitted-level-1) 1pt solid;\n",
       "  color: var(--sklearn-color-fitted-level-1);\n",
       "}\n",
       "\n",
       "/* On hover */\n",
       "#sk-container-id-1 a.estimator_doc_link:hover {\n",
       "  /* unfitted */\n",
       "  background-color: var(--sklearn-color-unfitted-level-3);\n",
       "  color: var(--sklearn-color-background);\n",
       "  text-decoration: none;\n",
       "}\n",
       "\n",
       "#sk-container-id-1 a.estimator_doc_link.fitted:hover {\n",
       "  /* fitted */\n",
       "  background-color: var(--sklearn-color-fitted-level-3);\n",
       "}\n",
       "\n",
       ".estimator-table summary {\n",
       "    padding: .5rem;\n",
       "    font-family: monospace;\n",
       "    cursor: pointer;\n",
       "}\n",
       "\n",
       ".estimator-table details[open] {\n",
       "    padding-left: 0.1rem;\n",
       "    padding-right: 0.1rem;\n",
       "    padding-bottom: 0.3rem;\n",
       "}\n",
       "\n",
       ".estimator-table .parameters-table {\n",
       "    margin-left: auto !important;\n",
       "    margin-right: auto !important;\n",
       "}\n",
       "\n",
       ".estimator-table .parameters-table tr:nth-child(odd) {\n",
       "    background-color: #fff;\n",
       "}\n",
       "\n",
       ".estimator-table .parameters-table tr:nth-child(even) {\n",
       "    background-color: #f6f6f6;\n",
       "}\n",
       "\n",
       ".estimator-table .parameters-table tr:hover {\n",
       "    background-color: #e0e0e0;\n",
       "}\n",
       "\n",
       ".estimator-table table td {\n",
       "    border: 1px solid rgba(106, 105, 104, 0.232);\n",
       "}\n",
       "\n",
       ".user-set td {\n",
       "    color:rgb(255, 94, 0);\n",
       "    text-align: left;\n",
       "}\n",
       "\n",
       ".user-set td.value pre {\n",
       "    color:rgb(255, 94, 0) !important;\n",
       "    background-color: transparent !important;\n",
       "}\n",
       "\n",
       ".default td {\n",
       "    color: black;\n",
       "    text-align: left;\n",
       "}\n",
       "\n",
       ".user-set td i,\n",
       ".default td i {\n",
       "    color: black;\n",
       "}\n",
       "\n",
       ".copy-paste-icon {\n",
       "    background-image: url(data:image/svg+xml;base64,PHN2ZyB4bWxucz0iaHR0cDovL3d3dy53My5vcmcvMjAwMC9zdmciIHZpZXdCb3g9IjAgMCA0NDggNTEyIj48IS0tIUZvbnQgQXdlc29tZSBGcmVlIDYuNy4yIGJ5IEBmb250YXdlc29tZSAtIGh0dHBzOi8vZm9udGF3ZXNvbWUuY29tIExpY2Vuc2UgLSBodHRwczovL2ZvbnRhd2Vzb21lLmNvbS9saWNlbnNlL2ZyZWUgQ29weXJpZ2h0IDIwMjUgRm9udGljb25zLCBJbmMuLS0+PHBhdGggZD0iTTIwOCAwTDMzMi4xIDBjMTIuNyAwIDI0LjkgNS4xIDMzLjkgMTQuMWw2Ny45IDY3LjljOSA5IDE0LjEgMjEuMiAxNC4xIDMzLjlMNDQ4IDMzNmMwIDI2LjUtMjEuNSA0OC00OCA0OGwtMTkyIDBjLTI2LjUgMC00OC0yMS41LTQ4LTQ4bDAtMjg4YzAtMjYuNSAyMS41LTQ4IDQ4LTQ4ek00OCAxMjhsODAgMCAwIDY0LTY0IDAgMCAyNTYgMTkyIDAgMC0zMiA2NCAwIDAgNDhjMCAyNi41LTIxLjUgNDgtNDggNDhMNDggNTEyYy0yNi41IDAtNDgtMjEuNS00OC00OEwwIDE3NmMwLTI2LjUgMjEuNS00OCA0OC00OHoiLz48L3N2Zz4=);\n",
       "    background-repeat: no-repeat;\n",
       "    background-size: 14px 14px;\n",
       "    background-position: 0;\n",
       "    display: inline-block;\n",
       "    width: 14px;\n",
       "    height: 14px;\n",
       "    cursor: pointer;\n",
       "}\n",
       "</style><body><div id=\"sk-container-id-1\" class=\"sk-top-container\"><div class=\"sk-text-repr-fallback\"><pre>RFECV(cv=StratifiedKFold(n_splits=10, random_state=50, shuffle=True),\n",
       "      estimator=LogisticRegression(), scoring=&#x27;accuracy&#x27;)</pre><b>In a Jupyter environment, please rerun this cell to show the HTML representation or trust the notebook. <br />On GitHub, the HTML representation is unable to render, please try loading this page with nbviewer.org.</b></div><div class=\"sk-container\" hidden><div class=\"sk-item sk-dashed-wrapped\"><div class=\"sk-label-container\"><div class=\"sk-label fitted sk-toggleable\"><input class=\"sk-toggleable__control sk-hidden--visually\" id=\"sk-estimator-id-1\" type=\"checkbox\" ><label for=\"sk-estimator-id-1\" class=\"sk-toggleable__label fitted sk-toggleable__label-arrow\"><div><div>RFECV</div></div><div><a class=\"sk-estimator-doc-link fitted\" rel=\"noreferrer\" target=\"_blank\" href=\"https://scikit-learn.org/1.7/modules/generated/sklearn.feature_selection.RFECV.html\">?<span>Documentation for RFECV</span></a><span class=\"sk-estimator-doc-link fitted\">i<span>Fitted</span></span></div></label><div class=\"sk-toggleable__content fitted\" data-param-prefix=\"\">\n",
       "        <div class=\"estimator-table\">\n",
       "            <details>\n",
       "                <summary>Parameters</summary>\n",
       "                <table class=\"parameters-table\">\n",
       "                  <tbody>\n",
       "                    \n",
       "        <tr class=\"user-set\">\n",
       "            <td><i class=\"copy-paste-icon\"\n",
       "                 onclick=\"copyToClipboard('estimator',\n",
       "                          this.parentElement.nextElementSibling)\"\n",
       "            ></i></td>\n",
       "            <td class=\"param\">estimator&nbsp;</td>\n",
       "            <td class=\"value\">LogisticRegression()</td>\n",
       "        </tr>\n",
       "    \n",
       "\n",
       "        <tr class=\"default\">\n",
       "            <td><i class=\"copy-paste-icon\"\n",
       "                 onclick=\"copyToClipboard('step',\n",
       "                          this.parentElement.nextElementSibling)\"\n",
       "            ></i></td>\n",
       "            <td class=\"param\">step&nbsp;</td>\n",
       "            <td class=\"value\">1</td>\n",
       "        </tr>\n",
       "    \n",
       "\n",
       "        <tr class=\"default\">\n",
       "            <td><i class=\"copy-paste-icon\"\n",
       "                 onclick=\"copyToClipboard('min_features_to_select',\n",
       "                          this.parentElement.nextElementSibling)\"\n",
       "            ></i></td>\n",
       "            <td class=\"param\">min_features_to_select&nbsp;</td>\n",
       "            <td class=\"value\">1</td>\n",
       "        </tr>\n",
       "    \n",
       "\n",
       "        <tr class=\"user-set\">\n",
       "            <td><i class=\"copy-paste-icon\"\n",
       "                 onclick=\"copyToClipboard('cv',\n",
       "                          this.parentElement.nextElementSibling)\"\n",
       "            ></i></td>\n",
       "            <td class=\"param\">cv&nbsp;</td>\n",
       "            <td class=\"value\">StratifiedKFo... shuffle=True)</td>\n",
       "        </tr>\n",
       "    \n",
       "\n",
       "        <tr class=\"user-set\">\n",
       "            <td><i class=\"copy-paste-icon\"\n",
       "                 onclick=\"copyToClipboard('scoring',\n",
       "                          this.parentElement.nextElementSibling)\"\n",
       "            ></i></td>\n",
       "            <td class=\"param\">scoring&nbsp;</td>\n",
       "            <td class=\"value\">&#x27;accuracy&#x27;</td>\n",
       "        </tr>\n",
       "    \n",
       "\n",
       "        <tr class=\"default\">\n",
       "            <td><i class=\"copy-paste-icon\"\n",
       "                 onclick=\"copyToClipboard('verbose',\n",
       "                          this.parentElement.nextElementSibling)\"\n",
       "            ></i></td>\n",
       "            <td class=\"param\">verbose&nbsp;</td>\n",
       "            <td class=\"value\">0</td>\n",
       "        </tr>\n",
       "    \n",
       "\n",
       "        <tr class=\"default\">\n",
       "            <td><i class=\"copy-paste-icon\"\n",
       "                 onclick=\"copyToClipboard('n_jobs',\n",
       "                          this.parentElement.nextElementSibling)\"\n",
       "            ></i></td>\n",
       "            <td class=\"param\">n_jobs&nbsp;</td>\n",
       "            <td class=\"value\">None</td>\n",
       "        </tr>\n",
       "    \n",
       "\n",
       "        <tr class=\"default\">\n",
       "            <td><i class=\"copy-paste-icon\"\n",
       "                 onclick=\"copyToClipboard('importance_getter',\n",
       "                          this.parentElement.nextElementSibling)\"\n",
       "            ></i></td>\n",
       "            <td class=\"param\">importance_getter&nbsp;</td>\n",
       "            <td class=\"value\">&#x27;auto&#x27;</td>\n",
       "        </tr>\n",
       "    \n",
       "                  </tbody>\n",
       "                </table>\n",
       "            </details>\n",
       "        </div>\n",
       "    </div></div></div><div class=\"sk-parallel\"><div class=\"sk-parallel-item\"><div class=\"sk-item\"><div class=\"sk-label-container\"><div class=\"sk-label fitted sk-toggleable\"><input class=\"sk-toggleable__control sk-hidden--visually\" id=\"sk-estimator-id-2\" type=\"checkbox\" ><label for=\"sk-estimator-id-2\" class=\"sk-toggleable__label fitted sk-toggleable__label-arrow\"><div><div>estimator: LogisticRegression</div></div></label><div class=\"sk-toggleable__content fitted\" data-param-prefix=\"estimator__\"><pre>LogisticRegression()</pre></div></div></div><div class=\"sk-serial\"><div class=\"sk-item\"><div class=\"sk-estimator fitted sk-toggleable\"><input class=\"sk-toggleable__control sk-hidden--visually\" id=\"sk-estimator-id-3\" type=\"checkbox\" ><label for=\"sk-estimator-id-3\" class=\"sk-toggleable__label fitted sk-toggleable__label-arrow\"><div><div>LogisticRegression</div></div><div><a class=\"sk-estimator-doc-link fitted\" rel=\"noreferrer\" target=\"_blank\" href=\"https://scikit-learn.org/1.7/modules/generated/sklearn.linear_model.LogisticRegression.html\">?<span>Documentation for LogisticRegression</span></a></div></label><div class=\"sk-toggleable__content fitted\" data-param-prefix=\"estimator__\">\n",
       "        <div class=\"estimator-table\">\n",
       "            <details>\n",
       "                <summary>Parameters</summary>\n",
       "                <table class=\"parameters-table\">\n",
       "                  <tbody>\n",
       "                    \n",
       "        <tr class=\"default\">\n",
       "            <td><i class=\"copy-paste-icon\"\n",
       "                 onclick=\"copyToClipboard('penalty',\n",
       "                          this.parentElement.nextElementSibling)\"\n",
       "            ></i></td>\n",
       "            <td class=\"param\">penalty&nbsp;</td>\n",
       "            <td class=\"value\">&#x27;l2&#x27;</td>\n",
       "        </tr>\n",
       "    \n",
       "\n",
       "        <tr class=\"default\">\n",
       "            <td><i class=\"copy-paste-icon\"\n",
       "                 onclick=\"copyToClipboard('dual',\n",
       "                          this.parentElement.nextElementSibling)\"\n",
       "            ></i></td>\n",
       "            <td class=\"param\">dual&nbsp;</td>\n",
       "            <td class=\"value\">False</td>\n",
       "        </tr>\n",
       "    \n",
       "\n",
       "        <tr class=\"default\">\n",
       "            <td><i class=\"copy-paste-icon\"\n",
       "                 onclick=\"copyToClipboard('tol',\n",
       "                          this.parentElement.nextElementSibling)\"\n",
       "            ></i></td>\n",
       "            <td class=\"param\">tol&nbsp;</td>\n",
       "            <td class=\"value\">0.0001</td>\n",
       "        </tr>\n",
       "    \n",
       "\n",
       "        <tr class=\"default\">\n",
       "            <td><i class=\"copy-paste-icon\"\n",
       "                 onclick=\"copyToClipboard('C',\n",
       "                          this.parentElement.nextElementSibling)\"\n",
       "            ></i></td>\n",
       "            <td class=\"param\">C&nbsp;</td>\n",
       "            <td class=\"value\">1.0</td>\n",
       "        </tr>\n",
       "    \n",
       "\n",
       "        <tr class=\"default\">\n",
       "            <td><i class=\"copy-paste-icon\"\n",
       "                 onclick=\"copyToClipboard('fit_intercept',\n",
       "                          this.parentElement.nextElementSibling)\"\n",
       "            ></i></td>\n",
       "            <td class=\"param\">fit_intercept&nbsp;</td>\n",
       "            <td class=\"value\">True</td>\n",
       "        </tr>\n",
       "    \n",
       "\n",
       "        <tr class=\"default\">\n",
       "            <td><i class=\"copy-paste-icon\"\n",
       "                 onclick=\"copyToClipboard('intercept_scaling',\n",
       "                          this.parentElement.nextElementSibling)\"\n",
       "            ></i></td>\n",
       "            <td class=\"param\">intercept_scaling&nbsp;</td>\n",
       "            <td class=\"value\">1</td>\n",
       "        </tr>\n",
       "    \n",
       "\n",
       "        <tr class=\"default\">\n",
       "            <td><i class=\"copy-paste-icon\"\n",
       "                 onclick=\"copyToClipboard('class_weight',\n",
       "                          this.parentElement.nextElementSibling)\"\n",
       "            ></i></td>\n",
       "            <td class=\"param\">class_weight&nbsp;</td>\n",
       "            <td class=\"value\">None</td>\n",
       "        </tr>\n",
       "    \n",
       "\n",
       "        <tr class=\"default\">\n",
       "            <td><i class=\"copy-paste-icon\"\n",
       "                 onclick=\"copyToClipboard('random_state',\n",
       "                          this.parentElement.nextElementSibling)\"\n",
       "            ></i></td>\n",
       "            <td class=\"param\">random_state&nbsp;</td>\n",
       "            <td class=\"value\">None</td>\n",
       "        </tr>\n",
       "    \n",
       "\n",
       "        <tr class=\"default\">\n",
       "            <td><i class=\"copy-paste-icon\"\n",
       "                 onclick=\"copyToClipboard('solver',\n",
       "                          this.parentElement.nextElementSibling)\"\n",
       "            ></i></td>\n",
       "            <td class=\"param\">solver&nbsp;</td>\n",
       "            <td class=\"value\">&#x27;lbfgs&#x27;</td>\n",
       "        </tr>\n",
       "    \n",
       "\n",
       "        <tr class=\"default\">\n",
       "            <td><i class=\"copy-paste-icon\"\n",
       "                 onclick=\"copyToClipboard('max_iter',\n",
       "                          this.parentElement.nextElementSibling)\"\n",
       "            ></i></td>\n",
       "            <td class=\"param\">max_iter&nbsp;</td>\n",
       "            <td class=\"value\">100</td>\n",
       "        </tr>\n",
       "    \n",
       "\n",
       "        <tr class=\"default\">\n",
       "            <td><i class=\"copy-paste-icon\"\n",
       "                 onclick=\"copyToClipboard('multi_class',\n",
       "                          this.parentElement.nextElementSibling)\"\n",
       "            ></i></td>\n",
       "            <td class=\"param\">multi_class&nbsp;</td>\n",
       "            <td class=\"value\">&#x27;deprecated&#x27;</td>\n",
       "        </tr>\n",
       "    \n",
       "\n",
       "        <tr class=\"default\">\n",
       "            <td><i class=\"copy-paste-icon\"\n",
       "                 onclick=\"copyToClipboard('verbose',\n",
       "                          this.parentElement.nextElementSibling)\"\n",
       "            ></i></td>\n",
       "            <td class=\"param\">verbose&nbsp;</td>\n",
       "            <td class=\"value\">0</td>\n",
       "        </tr>\n",
       "    \n",
       "\n",
       "        <tr class=\"default\">\n",
       "            <td><i class=\"copy-paste-icon\"\n",
       "                 onclick=\"copyToClipboard('warm_start',\n",
       "                          this.parentElement.nextElementSibling)\"\n",
       "            ></i></td>\n",
       "            <td class=\"param\">warm_start&nbsp;</td>\n",
       "            <td class=\"value\">False</td>\n",
       "        </tr>\n",
       "    \n",
       "\n",
       "        <tr class=\"default\">\n",
       "            <td><i class=\"copy-paste-icon\"\n",
       "                 onclick=\"copyToClipboard('n_jobs',\n",
       "                          this.parentElement.nextElementSibling)\"\n",
       "            ></i></td>\n",
       "            <td class=\"param\">n_jobs&nbsp;</td>\n",
       "            <td class=\"value\">None</td>\n",
       "        </tr>\n",
       "    \n",
       "\n",
       "        <tr class=\"default\">\n",
       "            <td><i class=\"copy-paste-icon\"\n",
       "                 onclick=\"copyToClipboard('l1_ratio',\n",
       "                          this.parentElement.nextElementSibling)\"\n",
       "            ></i></td>\n",
       "            <td class=\"param\">l1_ratio&nbsp;</td>\n",
       "            <td class=\"value\">None</td>\n",
       "        </tr>\n",
       "    \n",
       "                  </tbody>\n",
       "                </table>\n",
       "            </details>\n",
       "        </div>\n",
       "    </div></div></div></div></div></div></div></div></div></div><script>function copyToClipboard(text, element) {\n",
       "    // Get the parameter prefix from the closest toggleable content\n",
       "    const toggleableContent = element.closest('.sk-toggleable__content');\n",
       "    const paramPrefix = toggleableContent ? toggleableContent.dataset.paramPrefix : '';\n",
       "    const fullParamName = paramPrefix ? `${paramPrefix}${text}` : text;\n",
       "\n",
       "    const originalStyle = element.style;\n",
       "    const computedStyle = window.getComputedStyle(element);\n",
       "    const originalWidth = computedStyle.width;\n",
       "    const originalHTML = element.innerHTML.replace('Copied!', '');\n",
       "\n",
       "    navigator.clipboard.writeText(fullParamName)\n",
       "        .then(() => {\n",
       "            element.style.width = originalWidth;\n",
       "            element.style.color = 'green';\n",
       "            element.innerHTML = \"Copied!\";\n",
       "\n",
       "            setTimeout(() => {\n",
       "                element.innerHTML = originalHTML;\n",
       "                element.style = originalStyle;\n",
       "            }, 2000);\n",
       "        })\n",
       "        .catch(err => {\n",
       "            console.error('Failed to copy:', err);\n",
       "            element.style.color = 'red';\n",
       "            element.innerHTML = \"Failed!\";\n",
       "            setTimeout(() => {\n",
       "                element.innerHTML = originalHTML;\n",
       "                element.style = originalStyle;\n",
       "            }, 2000);\n",
       "        });\n",
       "    return false;\n",
       "}\n",
       "\n",
       "document.querySelectorAll('.fa-regular.fa-copy').forEach(function(element) {\n",
       "    const toggleableContent = element.closest('.sk-toggleable__content');\n",
       "    const paramPrefix = toggleableContent ? toggleableContent.dataset.paramPrefix : '';\n",
       "    const paramName = element.parentElement.nextElementSibling.textContent.trim();\n",
       "    const fullParamName = paramPrefix ? `${paramPrefix}${paramName}` : paramName;\n",
       "\n",
       "    element.setAttribute('title', fullParamName);\n",
       "});\n",
       "</script></body>"
      ],
      "text/plain": [
       "RFECV(cv=StratifiedKFold(n_splits=10, random_state=50, shuffle=True),\n",
       "      estimator=LogisticRegression(), scoring='accuracy')"
      ]
     },
     "execution_count": 41,
     "metadata": {},
     "output_type": "execute_result"
    }
   ],
   "source": [
    "# Feature selection to improve model building\n",
    "from sklearn.feature_selection import RFECV\n",
    "from sklearn.model_selection import StratifiedKFold\n",
    "log = LogisticRegression()\n",
    "rfecv = RFECV(estimator=log, cv=StratifiedKFold(10, random_state=50, shuffle=True), scoring=\"accuracy\")\n",
    "rfecv.fit(X, y)"
   ]
  },
  {
   "cell_type": "code",
   "execution_count": 43,
   "id": "59f7caef",
   "metadata": {},
   "outputs": [
    {
     "data": {
      "image/png": "[encoded data removed]",
      "text/plain": [
       "<Figure size 800x600 with 1 Axes>"
      ]
     },
     "metadata": {},
     "output_type": "display_data"
    },
    {
     "name": "stdout",
     "output_type": "stream",
     "text": [
      "The optimal number of features: 25\n"
     ]
    }
   ],
   "source": [
    "plt.figure(figsize=(8, 6))\n",
    "plt.plot(range(1, len(rfecv.cv_results_[\"mean_test_score\"])+1), rfecv.cv_results_[\"mean_test_score\"])\n",
    "plt.grid()\n",
    "plt.xticks(range(1, X.shape[1]+1))\n",
    "plt.xlabel(\"Number of Selected Features\")\n",
    "plt.ylabel(\"CV Score\")\n",
    "plt.title(\"Recursive Feature Elimination (RFE)\")\n",
    "plt.show()\n",
    "\n",
    "print(\"The optimal number of features: {}\".format(rfecv.n_features_))"
   ]
  },
  {
   "cell_type": "code",
   "execution_count": 44,
   "id": "37d7071b",
   "metadata": {},
   "outputs": [
    {
     "name": "stdout",
     "output_type": "stream",
     "text": [
      "\"X\" dimension: (7043, 30)\n",
      "\"X\" column list: ['gender', 'SeniorCitizen', 'Partner', 'Dependents', 'tenure', 'PhoneService', 'PaperlessBilling', 'MonthlyCharges', 'TotalCharges', 'MultipleLines_No_phone_service', 'MultipleLines_Yes', 'InternetService_Fiber_optic', 'InternetService_No', 'OnlineSecurity_No_internet_service', 'OnlineSecurity_Yes', 'OnlineBackup_No_internet_service', 'OnlineBackup_Yes', 'DeviceProtection_No_internet_service', 'DeviceProtection_Yes', 'TechSupport_No_internet_service', 'TechSupport_Yes', 'StreamingTV_No_internet_service', 'StreamingTV_Yes', 'StreamingMovies_No_internet_service', 'StreamingMovies_Yes', 'Contract_One_year', 'Contract_Two_year', 'PaymentMethod_Credit_card__automatic_', 'PaymentMethod_Electronic_check', 'PaymentMethod_Mailed_check']\n",
      "\"X_rfe\" dimension: (7043, 25)\n",
      "\"X_rfe\" column list: ['SeniorCitizen', 'Dependents', 'tenure', 'PhoneService', 'PaperlessBilling', 'TotalCharges', 'MultipleLines_No_phone_service', 'MultipleLines_Yes', 'InternetService_Fiber_optic', 'InternetService_No', 'OnlineSecurity_No_internet_service', 'OnlineSecurity_Yes', 'OnlineBackup_No_internet_service', 'OnlineBackup_Yes', 'DeviceProtection_No_internet_service', 'TechSupport_No_internet_service', 'TechSupport_Yes', 'StreamingTV_No_internet_service', 'StreamingTV_Yes', 'StreamingMovies_No_internet_service', 'StreamingMovies_Yes', 'Contract_One_year', 'Contract_Two_year', 'PaymentMethod_Credit_card__automatic_', 'PaymentMethod_Electronic_check']\n"
     ]
    }
   ],
   "source": [
    "#Saving dataframe with optimal features\n",
    "X_rfe = X.iloc[:, rfecv.support_]\n",
    "\n",
    "#Overview of the optimal features in comparison with the intial dataframe\n",
    "print(\"\\\"X\\\" dimension: {}\".format(X.shape))\n",
    "print(\"\\\"X\\\" column list:\", X.columns.tolist())\n",
    "print(\"\\\"X_rfe\\\" dimension: {}\".format(X_rfe.shape))\n",
    "print(\"\\\"X_rfe\\\" column list:\", X_rfe.columns.tolist())"
   ]
  },
  {
   "cell_type": "code",
   "execution_count": 45,
   "id": "bcd401b2",
   "metadata": {},
   "outputs": [],
   "source": [
    "X_train, X_test, y_train, y_test = train_test_split(X_rfe, y, test_size=0.3, random_state=50)  \n"
   ]
  },
  {
   "cell_type": "code",
   "execution_count": 46,
   "id": "f392635f",
   "metadata": {},
   "outputs": [
    {
     "name": "stdout",
     "output_type": "stream",
     "text": [
      "Logistic Regression Classification\n",
      "accuracy:  0.8012304779933743\n",
      "precision:  0.6361829025844931\n",
      "recall:  0.5745062836624776\n",
      "f1_score:  0.7978626093178417\n"
     ]
    }
   ],
   "source": [
    "log_model = modeling(LogisticRegression, 'Logistic Regression Classification')\n"
   ]
  },
  {
   "cell_type": "code",
   "execution_count": 47,
   "id": "855153b0",
   "metadata": {},
   "outputs": [
    {
     "name": "stdout",
     "output_type": "stream",
     "text": [
      "SVC Classification\n",
      "accuracy:  0.7960246095598675\n",
      "precision:  0.6431818181818182\n",
      "recall:  0.5080789946140036\n",
      "f1_score:  0.7877515790466652\n"
     ]
    }
   ],
   "source": [
    "# Trying other machine learning algorithms: SVC\n",
    "svc_model = modeling(SVC, 'SVC Classification')"
   ]
  },
  {
   "cell_type": "code",
   "execution_count": 48,
   "id": "5e47a1a8",
   "metadata": {},
   "outputs": [
    {
     "name": "stdout",
     "output_type": "stream",
     "text": [
      "Random Forest Classification\n",
      "accuracy:  0.7823000473260767\n",
      "precision:  0.6043010752688172\n",
      "recall:  0.5044883303411131\n",
      "f1_score:  0.7756269492265304\n"
     ]
    }
   ],
   "source": [
    "#Random forest\n",
    "rf_model = modeling(RandomForestClassifier, \"Random Forest Classification\")"
   ]
  },
  {
   "cell_type": "code",
   "execution_count": 49,
   "id": "99ac784d",
   "metadata": {},
   "outputs": [
    {
     "name": "stdout",
     "output_type": "stream",
     "text": [
      "Decision Tree Classification\n",
      "accuracy:  0.7316611452910554\n",
      "precision:  0.49174917491749176\n",
      "recall:  0.5350089766606823\n",
      "f1_score:  0.735167667029504\n"
     ]
    }
   ],
   "source": [
    "#Decision tree\n",
    "dt_model = modeling(DecisionTreeClassifier, \"Decision Tree Classification\")"
   ]
  },
  {
   "cell_type": "code",
   "execution_count": 50,
   "id": "775cc4a7",
   "metadata": {},
   "outputs": [
    {
     "name": "stdout",
     "output_type": "stream",
     "text": [
      "Naive Bayes Classification\n",
      "accuracy:  0.6436346426881212\n",
      "precision:  0.41792294807370184\n",
      "recall:  0.895870736086176\n",
      "f1_score:  0.6625965549469691\n"
     ]
    }
   ],
   "source": [
    "#Naive bayes \n",
    "nb_model = modeling(GaussianNB, \"Naive Bayes Classification\")"
   ]
  },
  {
   "cell_type": "code",
   "execution_count": null,
   "id": "23cf3bca",
   "metadata": {},
   "outputs": [],
   "source": [
    "## Improve best model by hyperparameter tuning\n",
    "# define model\n",
    "model = LogisticRegression()\n",
    "\n",
    "# define evaluation\n",
    "from sklearn.model_selection import RepeatedStratifiedKFold\n",
    "cv = RepeatedStratifiedKFold(n_splits=10, n_repeats=3, random_state=1)\n",
    "\n",
    "# define search space\n",
    "from scipy.stats import loguniform\n",
    "space = dict()\n",
    "space['solver'] = ['newton-cg', 'lbfgs', 'liblinear']\n",
    "space['penalty'] = ['none', 'l1', 'l2', 'elasticnet']\n",
    "space['C'] = loguniform(1e-5, 1000)\n",
    "\n",
    "# define search\n",
    "from sklearn.model_selection import RandomizedSearchCV\n",
    "search = RandomizedSearchCV(model, space, n_iter=500, scoring='accuracy', n_jobs=-1, cv=cv, random_state=1)\n",
    "\n",
    "# execute search\n",
    "result = search.fit(X_rfe, y)\n",
    "# summarize result\n",
    "print('Best Score: %s' % result.best_score_)\n",
    "print('Best Hyperparameters: %s' % result.best_params_)"
   ]
  },
  {
   "cell_type": "code",
   "execution_count": 53,
   "id": "de04c787",
   "metadata": {},
   "outputs": [
    {
     "data": {
      "text/plain": [
       "{'C': np.float64(8.963755985723973), 'penalty': 'l2', 'solver': 'liblinear'}"
      ]
     },
     "execution_count": 53,
     "metadata": {},
     "output_type": "execute_result"
    }
   ],
   "source": [
    "params = result.best_params_\n",
    "params"
   ]
  },
  {
   "cell_type": "code",
   "execution_count": 54,
   "id": "f3659c6f",
   "metadata": {},
   "outputs": [
    {
     "name": "stdout",
     "output_type": "stream",
     "text": [
      "Logistic Regression Classification\n",
      "accuracy:  0.8007572172266919\n",
      "precision:  0.6349206349206349\n",
      "recall:  0.5745062836624776\n",
      "f1_score:  0.7974490678620106\n"
     ]
    }
   ],
   "source": [
    "#Improving the Logistic Regression model\n",
    "log_model = modeling(LogisticRegression, 'Logistic Regression Classification', params=params)"
   ]
  },
  {
   "cell_type": "code",
   "execution_count": 55,
   "id": "ac464ccd",
   "metadata": {},
   "outputs": [
    {
     "data": {
      "text/plain": [
       "['model.sav']"
      ]
     },
     "execution_count": 55,
     "metadata": {},
     "output_type": "execute_result"
    }
   ],
   "source": [
    "#Saving best model \n",
    "import joblib\n",
    "#Sava the model to disk\n",
    "filename = 'model.sav'\n",
    "joblib.dump(log_model, filename)"
   ]
  },
  {
   "cell_type": "code",
   "execution_count": null,
   "id": "aeea7f01",
   "metadata": {},
   "outputs": [],
   "source": []
  }
 ],
 "metadata": {
  "kernelspec": {
   "display_name": "Python 3",
   "language": "python",
   "name": "python3"
  },
  "language_info": {
   "codemirror_mode": {
    "name": "ipython",
    "version": 3
   },
   "file_extension": ".py",
   "mimetype": "text/x-python",
   "name": "python",
   "nbconvert_exporter": "python",
   "pygments_lexer": "ipython3",
   "version": "3.13.1"
  }
 },
 "nbformat": 4,
 "nbformat_minor": 5
}
